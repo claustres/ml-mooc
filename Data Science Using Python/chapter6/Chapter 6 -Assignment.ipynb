{
 "cells": [
  {
   "cell_type": "markdown",
   "metadata": {},
   "source": [
    "<img src=\"https://www.digitalvidya.com/wp-content/uploads/2013/05/Digital-Vidya-Website-Logo-HD-2-300x95.png\">"
   ]
  },
  {
   "cell_type": "markdown",
   "metadata": {},
   "source": [
    "This assignment is almost like a small project. By now you have accumulated sufficient skills to be able to solve problems that a Python developer would do in their work. \n",
    "<br> It is very often when we are required to analyse a trace log of a given software or troubleshooting or regular maintenance. \n",
    "<br> In this project we will take one such example of a HTTP log. Apache HTTP web server is one of the most popular web servers and it logs all traffic information to a file called \"access\" log. \n",
    "\n",
    "**What is HTTP access log?**\n",
    "<br> One of the many pieces of the Website puzzle is Web logs. Traffic analysis is central to most Websites, and the key to getting the most out of your traffic analysis revolves around how you configure your Web logs. Apache is one of the most, if not the most powerful open source solutions for Website operations. You will find that Apache’s Web logging features are flexible for the single Website or for managing numerous domains requiring Web log analysis.\n",
    "<br> Following is an example of the information that is written to a access log file.\n",
    "dialup02.aloha.com - - [01/Jun/1995:00:57:12 -0600] \"GET /~lowey/encyclopedia/help.html\" 200 2570\n",
    "\n",
    "1. Host making the request. Hosts are identified as either local or remote.\n",
    "\n",
    "2. Timestamp in the format \"DAY MON DD HH:MM:SS YYYY\", where DAY is the day of the week, MON is the name of the month, DD is the day of the month, HH:MM:SS is the time of day using a 24-hour clock, and YYYY is the year. The timezone is -0700 between 30/Oct/1994:01:30:57 and 02/Apr/1995:03:03:26. For all other requests, the timezone is -0600.\n",
    "\n",
    "3. HTTP method GET/POST followed by the url. \n",
    "\n",
    "4. HTTP reply code.\n",
    "\n",
    "5. Bytes in the reply.\n",
    "\n",
    "## Objective of the project : \n",
    "<br> To understand how the company's website is performing\n",
    "    <br>a) What are the different webpages coming in?\n",
    "    <br>b) What is the frequency of hits?\n",
    "    <br>c) What is the time interval in which the most accessed url being hit?\n",
    "    \n",
    "<font color=orange>### IMPORTANT NOTE </font>\n",
    "<br> Typically, access log files have millions of rows for the practice purpose we have trimmed it down to a few lines.\n",
    "\n",
    "## How to achieve these objectives as a programmer?\n",
    "You are encouraged to do your own designing for this problem. Once you have identified the different functions, you can then  refer against this particular solution.\n",
    "You may do an exercise of checking the elegancy of the solution.\n",
    "\n",
    "## Thinking functions\n",
    "> Opening a file, reading it and displaying its contents\n",
    "> <br>Conversion from datetime to string and vice versa\n",
    "> <br>Using regular expressions to extract relevant text out of whole text\n",
    "> <br>Writing to a file\n",
    "> <br>Of course, creating functions\n"
   ]
  },
  {
   "cell_type": "markdown",
   "metadata": {},
   "source": [
    "**Q. Create a function to display first n lines of a file**"
   ]
  },
  {
   "cell_type": "code",
   "execution_count": 48,
   "metadata": {
    "collapsed": true
   },
   "outputs": [],
   "source": [
    "def show_contents(file_name, no_of_lines): \n",
    "    '''\n",
    "    Open the file and use read() method to show the contents of the file\n",
    "    Show only n number of lines.\n",
    "    Use try-except\n",
    "    '''\n",
    "    # Start Code Here\n",
    "\n",
    "    # End Code Here"
   ]
  },
  {
   "cell_type": "code",
   "execution_count": 49,
   "metadata": {
    "scrolled": true
   },
   "outputs": [
    {
     "name": "stdout",
     "output_type": "stream",
     "text": [
      "dialup02.aloha.com - - [01/Jun/1995:00:57:12 -0600] \"GET /~lowey/encyclopedia/help.html\" 200 2570\n",
      "\n",
      "dialup02.aloha.com - - [01/Jun/1995:00:58:23 -0600] \"GET /~lowey/encyclopedia/volume_index.html\" 200 7445\n",
      "\n",
      "fire.server.net - - [01/Jun/1995:00:59:21 -0600] \"GET /~scottp/free.html\" 200 5759\n",
      "\n",
      "fire.server.net - - [01/Jun/1995:00:59:22 -0600] \"GET /~scottp/fn1.gif\" 200 2164\n",
      "\n",
      "dialup02.aloha.com - - [01/Jun/1995:00:59:40 -0600] \"GET /~lowey/encyclopedia/m/index.html\" 200 1898\n",
      "\n"
     ]
    }
   ],
   "source": [
    "show_contents(\"usask_access_log\", 5)"
   ]
  },
  {
   "cell_type": "markdown",
   "metadata": {},
   "source": [
    "<table>\n",
    "  <tr style = \"align : left\">\n",
    "  <td>**Expected Output:**<td>\n",
    "    <td style=\"text-align:left\">dialup02.aloha.com - - [01/Jun/1995:00:57:12 -0600] \"GET /~lowey/encyclopedia/help.html\" 200 2570\n",
    "\n",
    "<br>dialup02.aloha.com - - [01/Jun/1995:00:58:23 -0600] \"GET /~lowey/encyclopedia/volume_index.html\" 200 7445\n",
    "\n",
    "<br>fire.server.net - - [01/Jun/1995:00:59:21 -0600] \"GET /~scottp/free.html\" 200 5759\n",
    "\n",
    "<br>fire.server.net - - [01/Jun/1995:00:59:22 -0600] \"GET /~scottp/fn1.gif\" 200 2164\n",
    "\n",
    "<br>dialup02.aloha.com - - [01/Jun/1995:00:59:40 -0600] \"GET /~lowey/encyclopedia/m/index.html\" 200 1898</td>\n",
    "  </tr>\n",
    "</table>\n",
    "    "
   ]
  },
  {
   "cell_type": "markdown",
   "metadata": {
    "collapsed": true
   },
   "source": [
    "**Q. Print total number of unique urls**\n",
    "\n",
    "In this question you need to use regular expression.\n",
    "\n",
    "In case you have not come accross regular expression:\n",
    "\n",
    "We have used re.search method. (https://docs.python.org/3.6/library/re.html#re.search)\n",
    "\n",
    "We have already implemented the solution for this question."
   ]
  },
  {
   "cell_type": "code",
   "execution_count": 50,
   "metadata": {
    "collapsed": true
   },
   "outputs": [],
   "source": [
    "import re\n",
    "\n",
    "def get_urls(file_name):\n",
    "    '''\n",
    "        Create a set of unique urls using regex\n",
    "        Returns:\n",
    "            unique_urls : list of unique urls\n",
    "            all_urls : list of all urls\n",
    "    '''\n",
    "    unique_urls = set()\n",
    "    all_urls = []\n",
    "    \n",
    "    with open(file_name) as f:\n",
    "        \n",
    "        for line in f:\n",
    "            searchObj = re.search( r'([\"\"])[^\\1]*\\1', line)    \n",
    "\n",
    "            if searchObj:\n",
    "                s = searchObj.group()\n",
    "                if s.startswith('\"'):                   # removing starting double quotes\n",
    "                    s = s[1:] \n",
    "    \n",
    "                if s.endswith('\"'):                      # removing ending double quotes\n",
    "                    s = s[:-1]\n",
    "                    \n",
    "                unique_urls.add(s)\n",
    "                all_urls.append(s)\n",
    "            else:\n",
    "                pass \n",
    "    \n",
    "    return unique_urls,all_urls"
   ]
  },
  {
   "cell_type": "code",
   "execution_count": 51,
   "metadata": {
    "collapsed": true
   },
   "outputs": [],
   "source": [
    "unique_urls,all_urls = get_urls(\"usask_access_log\")"
   ]
  },
  {
   "cell_type": "code",
   "execution_count": 52,
   "metadata": {},
   "outputs": [
    {
     "data": {
      "text/plain": [
       "133"
      ]
     },
     "execution_count": 52,
     "metadata": {},
     "output_type": "execute_result"
    }
   ],
   "source": [
    "len(unique_urls)"
   ]
  },
  {
   "cell_type": "markdown",
   "metadata": {},
   "source": [
    "<table>\n",
    "  <tr>\n",
    "  <td>**Expected Output:**<td>\n",
    "    <td>133</td>\n",
    "  </tr>\n",
    "</table>  "
   ]
  },
  {
   "cell_type": "code",
   "execution_count": 53,
   "metadata": {},
   "outputs": [
    {
     "data": {
      "text/plain": [
       "217"
      ]
     },
     "execution_count": 53,
     "metadata": {},
     "output_type": "execute_result"
    }
   ],
   "source": [
    "len(all_urls)"
   ]
  },
  {
   "cell_type": "markdown",
   "metadata": {},
   "source": [
    "<table>\n",
    "  <tr>\n",
    "  <td>**Expected Output:**<td>\n",
    "    <td>217</td>\n",
    "  </tr>\n",
    "</table>  "
   ]
  },
  {
   "cell_type": "markdown",
   "metadata": {},
   "source": [
    "** Q Find the first five  most frequent urls.**\n",
    "\n",
    "Note : Use Counter from collections module.\n",
    "\n",
    "https://docs.python.org/3.6/library/collections.html#collections.Counter\n"
   ]
  },
  {
   "cell_type": "code",
   "execution_count": 54,
   "metadata": {
    "collapsed": true
   },
   "outputs": [],
   "source": [
    "from collections import Counter\n",
    "\n",
    "def frequency(urls):\n",
    "    '''\n",
    "        Using Counter create a dictionary with key as url and the corresponding frequency as value\n",
    "    '''\n",
    "    # Start Code Here\n",
    "\n",
    "    # End Code Here"
   ]
  },
  {
   "cell_type": "code",
   "execution_count": 55,
   "metadata": {},
   "outputs": [
    {
     "data": {
      "text/plain": [
       "[('GET /~scottp/free.html', 15),\n",
       " ('GET /~scottp/publish.html', 7),\n",
       " ('GET /~macphed/finite/fe_resources/fe_resources.html', 7),\n",
       " ('GET /~scottp/fn1.gif', 5),\n",
       " ('GET /~macphed/finite/fe_resources/node1.html', 4)]"
      ]
     },
     "execution_count": 55,
     "metadata": {},
     "output_type": "execute_result"
    }
   ],
   "source": [
    "frequency(unique_urls)[:5]"
   ]
  },
  {
   "cell_type": "markdown",
   "metadata": {},
   "source": [
    "<table>\n",
    "  <tr>\n",
    "  <td>**Expected Output:**<td>\n",
    "    <td style=\"text-align:left\">[('GET /~scottp/free.html', 15),\n",
    " <br>('GET /~scottp/publish.html', 7),\n",
    " <br>('GET /~macphed/finite/fe_resources/fe_resources.html', 7),\n",
    " <br>('GET /~scottp/fn1.gif', 5),\n",
    " <br>('GET /~macphed/finite/fe_resources/node1.html', 4)]</td>\n",
    "  </tr>\n",
    "</table>"
   ]
  },
  {
   "cell_type": "markdown",
   "metadata": {},
   "source": [
    "**Q Parse the timestamp and create a list of dictionaries containing the date, hour, minutes, seconds of each row in the file.**"
   ]
  },
  {
   "cell_type": "code",
   "execution_count": 56,
   "metadata": {
    "collapsed": true
   },
   "outputs": [],
   "source": [
    "def parse_timestamp(file_name):\n",
    "    with open(file_name) as f:\n",
    "        '''\n",
    "        This function takes file name as input and returns two lists \n",
    "            1. timestamp_list - List containing all timestamps eg. 01/Jun/1995:00:59:53\n",
    "            2. timestamp - List containing all timestamps in the form of dictionaries containing the date, hour, minutes, seconds of each row in the file\n",
    "        \n",
    "        '''\n",
    "        # Start Code Here\n",
    "\n",
    "        # End Code Here\n",
    "                \n",
    "    return timestamp_list, timestamp"
   ]
  },
  {
   "cell_type": "code",
   "execution_count": 57,
   "metadata": {
    "collapsed": true
   },
   "outputs": [],
   "source": [
    "timestamp_list, timestamp = parse_timestamp(\"usask_access_log\")"
   ]
  },
  {
   "cell_type": "code",
   "execution_count": 58,
   "metadata": {},
   "outputs": [
    {
     "data": {
      "text/plain": [
       "['01/Jun/1995:00:57:12',\n",
       " '01/Jun/1995:00:58:23',\n",
       " '01/Jun/1995:00:59:21',\n",
       " '01/Jun/1995:00:59:22',\n",
       " '01/Jun/1995:00:59:40']"
      ]
     },
     "execution_count": 58,
     "metadata": {},
     "output_type": "execute_result"
    }
   ],
   "source": [
    "# first 5\n",
    "\n",
    "timestamp_list[:5]"
   ]
  },
  {
   "cell_type": "markdown",
   "metadata": {},
   "source": [
    "<table>\n",
    "  <tr>\n",
    "  <td>**Expected Output:**<td>\n",
    "    <td>['01/Jun/1995:00:57:12',\n",
    " <br>'01/Jun/1995:00:58:23',\n",
    " <br>'01/Jun/1995:00:59:21',\n",
    " <br>'01/Jun/1995:00:59:22',\n",
    " <br>'01/Jun/1995:00:59:40']</td>\n",
    "  </tr>\n",
    "</table>"
   ]
  },
  {
   "cell_type": "code",
   "execution_count": 59,
   "metadata": {},
   "outputs": [
    {
     "data": {
      "text/plain": [
       "[{'date': '01/Jun/1995', 'hours': '00', 'minutes': '57', 'seconds': '12'},\n",
       " {'date': '01/Jun/1995', 'hours': '00', 'minutes': '58', 'seconds': '23'},\n",
       " {'date': '01/Jun/1995', 'hours': '00', 'minutes': '59', 'seconds': '21'},\n",
       " {'date': '01/Jun/1995', 'hours': '00', 'minutes': '59', 'seconds': '22'},\n",
       " {'date': '01/Jun/1995', 'hours': '00', 'minutes': '59', 'seconds': '40'}]"
      ]
     },
     "execution_count": 59,
     "metadata": {},
     "output_type": "execute_result"
    }
   ],
   "source": [
    "# first 5\n",
    "\n",
    "timestamp[:5]"
   ]
  },
  {
   "cell_type": "markdown",
   "metadata": {},
   "source": [
    "<table>\n",
    "  <tr>\n",
    "  <td>**Expected Output:**<td>\n",
    "    <td>[{'date': '01/Jun/1995', 'hours': '00', 'minutes': '57', 'seconds': '12'},\n",
    " <br>{'date': '01/Jun/1995', 'hours': '00', 'minutes': '58', 'seconds': '23'},\n",
    " <br>{'date': '01/Jun/1995', 'hours': '00', 'minutes': '59', 'seconds': '21'},\n",
    " <br>{'date': '01/Jun/1995', 'hours': '00', 'minutes': '59', 'seconds': '22'},\n",
    " <br>{'date': '01/Jun/1995', 'hours': '00', 'minutes': '59', 'seconds': '40'}]</td>\n",
    "  </tr>\n",
    "</table>\n",
    "    "
   ]
  },
  {
   "cell_type": "markdown",
   "metadata": {},
   "source": [
    "**Q. In all the timestamps replace month name with month number and convert all the strings to datetime store them in a new list called as timestamp_datetime_list**"
   ]
  },
  {
   "cell_type": "code",
   "execution_count": 60,
   "metadata": {
    "collapsed": true
   },
   "outputs": [],
   "source": [
    "from datetime import date,time,datetime,timedelta"
   ]
  },
  {
   "cell_type": "code",
   "execution_count": 61,
   "metadata": {
    "collapsed": true
   },
   "outputs": [],
   "source": [
    "def string_to_date(string_date):\n",
    "    '''\n",
    "        Convert string to date using strptime() method\n",
    "    '''\n",
    "    # Start Code Here\n",
    "\n",
    "    # End Code Here"
   ]
  },
  {
   "cell_type": "code",
   "execution_count": 62,
   "metadata": {
    "collapsed": true
   },
   "outputs": [],
   "source": [
    "def replace_month(string, month_string, month_numeric):\n",
    "    \n",
    "    # Start Code Here\n",
    "    \n",
    "    # End Code Here"
   ]
  },
  {
   "cell_type": "code",
   "execution_count": 63,
   "metadata": {
    "collapsed": true,
    "scrolled": true
   },
   "outputs": [],
   "source": [
    "# Start Code Here\n",
    "\n",
    "# End Code Here"
   ]
  },
  {
   "cell_type": "code",
   "execution_count": 64,
   "metadata": {},
   "outputs": [
    {
     "data": {
      "text/plain": [
       "[datetime.datetime(1995, 6, 1, 0, 57, 12),\n",
       " datetime.datetime(1995, 6, 1, 0, 58, 23),\n",
       " datetime.datetime(1995, 6, 1, 0, 59, 21),\n",
       " datetime.datetime(1995, 6, 1, 0, 59, 22),\n",
       " datetime.datetime(1995, 6, 1, 0, 59, 40)]"
      ]
     },
     "execution_count": 64,
     "metadata": {},
     "output_type": "execute_result"
    }
   ],
   "source": [
    "timestamp_datetime_list[:5]"
   ]
  },
  {
   "cell_type": "markdown",
   "metadata": {},
   "source": [
    "<table>\n",
    "  <tr>\n",
    "  <td>**Expected Output:**<td>\n",
    "    <td>[datetime.datetime(1995, 6, 1, 0, 57, 12),\n",
    " <br>datetime.datetime(1995, 6, 1, 0, 58, 23),\n",
    " <br>datetime.datetime(1995, 6, 1, 0, 59, 21),\n",
    " <br>datetime.datetime(1995, 6, 1, 0, 59, 22),\n",
    " <br>datetime.datetime(1995, 6, 1, 0, 59, 40)]</td>\n",
    "  </tr>\n",
    "</table>\n",
    "    "
   ]
  },
  {
   "cell_type": "markdown",
   "metadata": {},
   "source": [
    "**Q. Find the difference in time between the first and last log**"
   ]
  },
  {
   "cell_type": "code",
   "execution_count": 65,
   "metadata": {
    "collapsed": true
   },
   "outputs": [],
   "source": [
    "\n",
    "def find_difference(start,end):\n",
    "    \n",
    "    # Start Code Here\n",
    "\n",
    "    # End Code Here"
   ]
  },
  {
   "cell_type": "code",
   "execution_count": 66,
   "metadata": {},
   "outputs": [
    {
     "name": "stdout",
     "output_type": "stream",
     "text": [
      "Difference in minutes is 268.000000\n"
     ]
    }
   ],
   "source": [
    "difference = find_difference(timestamp_datetime_list[0],timestamp_datetime_list[-1])\n",
    "\n",
    "print(\"Difference in minutes is %f\" % (difference.total_seconds()//60))"
   ]
  },
  {
   "cell_type": "markdown",
   "metadata": {},
   "source": [
    "<table>\n",
    "  <tr>\n",
    "  <td>**Expected Output:**<td>\n",
    "    <td>Difference in minutes is 268.000000</td>\n",
    "  </tr>\n",
    "</table>"
   ]
  },
  {
   "cell_type": "markdown",
   "metadata": {},
   "source": [
    "**Q. Open a file and save the urls and the timestamp corresponding to it and display first 5 rows**\n",
    "\n",
    "Format :\n",
    "    \n",
    "url timestamp"
   ]
  },
  {
   "cell_type": "code",
   "execution_count": 67,
   "metadata": {
    "collapsed": true
   },
   "outputs": [],
   "source": [
    "def save_file(file_name,urls, timestamp_list):\n",
    "    '''\n",
    "        Open file in write mode and then check whether length of url list and timestamp list is same.\n",
    "        If it is then write url  timestamp to the file.\n",
    "    '''\n",
    "    # Start Code Here\n",
    "\n",
    "    # End Code Here      "
   ]
  },
  {
   "cell_type": "code",
   "execution_count": 68,
   "metadata": {
    "collapsed": true
   },
   "outputs": [],
   "source": [
    "save_file(\"Filtered timestamp\", all_urls, timestamp_list)"
   ]
  },
  {
   "cell_type": "code",
   "execution_count": 69,
   "metadata": {},
   "outputs": [
    {
     "name": "stdout",
     "output_type": "stream",
     "text": [
      "GET /~lowey/encyclopedia/help.html    01/6/1995:00:57:12\n",
      "\n",
      "GET /~lowey/encyclopedia/volume_index.html    01/6/1995:00:58:23\n",
      "\n",
      "GET /~scottp/free.html    01/6/1995:00:59:21\n",
      "\n",
      "GET /~scottp/fn1.gif    01/6/1995:00:59:22\n",
      "\n",
      "GET /~lowey/encyclopedia/m/index.html    01/6/1995:00:59:40\n",
      "\n"
     ]
    }
   ],
   "source": [
    "show_contents(\"Filtered timestamp\", 5)"
   ]
  },
  {
   "cell_type": "markdown",
   "metadata": {},
   "source": [
    "<table>\n",
    "  <tr>\n",
    "  <td>**Expected Output:**<td>\n",
    "    <td>GET /~lowey/encyclopedia/help.html    01/6/1995:00:57:12\n",
    "\n",
    "<br>GET /~lowey/encyclopedia/volume_index.html    01/6/1995:00:58:23\n",
    "\n",
    "<br>GET /~scottp/free.html    01/6/1995:00:59:21\n",
    "\n",
    "<br>GET /~scottp/fn1.gif    01/6/1995:00:59:22\n",
    "\n",
    "<br>GET /~lowey/encyclopedia/m/index.html    01/6/1995:00:59:40</td>\n",
    "  </tr>\n",
    "</table>\n",
    "    "
   ]
  },
  {
   "cell_type": "markdown",
   "metadata": {},
   "source": [
    "**Q. Finally create a function main() which will call all the above functions and print the outputs.**\n",
    "\n",
    "1. Open the file\n",
    "2. Show the contents of the file\n",
    "3. Print all the unique urls\n",
    "4. Print all the urls\n",
    "5. Print the frequencies of the urls\n",
    "6. Parse timestamp to get the timestamps from each record\n",
    "7. Save the url and the corresponding timestamp to a file\n",
    "8. Show the contents of the newly created file"
   ]
  },
  {
   "cell_type": "code",
   "execution_count": 72,
   "metadata": {
    "collapsed": true
   },
   "outputs": [],
   "source": [
    "import itertools\n",
    "\n",
    "def main():\n",
    "    \n",
    "    file_name = \"usask_access_log\"\n",
    "    \n",
    "    print(\"The contents of the file are:\")\n",
    "    print()\n",
    "    show_contents(file_name, 5)\n",
    "    unique_urls, all_urls = get_urls(file_name)\n",
    "    print()\n",
    "    \n",
    "    print(\"First five unique urls are:\")\n",
    "    print()\n",
    "    for i, val in enumerate(itertools.islice(unique_urls, 10)):\n",
    "        print(val)\n",
    "    print()\n",
    "    \n",
    "    print(\"First five urls are:\")\n",
    "    print('\\n' * 2)\n",
    "    for i in all_urls[:5]:\n",
    "        print(i)\n",
    "    print()    \n",
    "        \n",
    "    print(\"Top five frequent urls are :\")\n",
    "    print()\n",
    "    freq = frequency(all_urls)\n",
    "    print(freq[:5])\n",
    "    print()\n",
    "    \n",
    "    timestamp_list, timestamp = parse_timestamp(file_name)\n",
    "\n",
    "    for i in range(len(timestamp_list)):\n",
    "\n",
    "        timestamp_list[i] = replace_month(timestamp_list[i], \"Jun\", \"6\")\n",
    "    \n",
    "    filtered_file_name = \"Filtered timestamp\"\n",
    "    \n",
    "    print(\"Saving filtered file\")\n",
    "    print()\n",
    "    save_file(filtered_file_name, all_urls, timestamp_list)\n",
    "    print()\n",
    "    \n",
    "    print(\"The contents of the filtered file are:\")\n",
    "    print()\n",
    "    show_contents(filtered_file_name, 5)\n",
    "    print()"
   ]
  },
  {
   "cell_type": "code",
   "execution_count": 73,
   "metadata": {},
   "outputs": [
    {
     "name": "stdout",
     "output_type": "stream",
     "text": [
      "The contents of the file are:\n",
      "\n",
      "dialup02.aloha.com - - [01/Jun/1995:00:57:12 -0600] \"GET /~lowey/encyclopedia/help.html\" 200 2570\n",
      "\n",
      "dialup02.aloha.com - - [01/Jun/1995:00:58:23 -0600] \"GET /~lowey/encyclopedia/volume_index.html\" 200 7445\n",
      "\n",
      "fire.server.net - - [01/Jun/1995:00:59:21 -0600] \"GET /~scottp/free.html\" 200 5759\n",
      "\n",
      "fire.server.net - - [01/Jun/1995:00:59:22 -0600] \"GET /~scottp/fn1.gif\" 200 2164\n",
      "\n",
      "dialup02.aloha.com - - [01/Jun/1995:00:59:40 -0600] \"GET /~lowey/encyclopedia/m/index.html\" 200 1898\n",
      "\n",
      "\n",
      "First five unique urls are:\n",
      "\n",
      "GET /~macpherc/hibs/hibs.html\n",
      "GET /~macphed/finite/fe_resources/node36.html\n",
      "GET /~lowey/encyclopedia/help.html\n",
      "GET /~macphed/finite/fe_resources/node110.html\n",
      "GET /~scottp/publish.html\n",
      "GET /~macpherc/images/new2.gif\n",
      "GET /~lowey/webville/help/help_directions.html\n",
      "GET /~macphed/finite/fe_resources/node24.html\n",
      "GET /~macphed/finite/fe_resources/node91.html\n",
      "GET /~macphed/finite/fe_resources/node99.html\n",
      "\n",
      "First five urls are:\n",
      "\n",
      "\n",
      "\n",
      "GET /~lowey/encyclopedia/help.html\n",
      "GET /~lowey/encyclopedia/volume_index.html\n",
      "GET /~scottp/free.html\n",
      "GET /~scottp/fn1.gif\n",
      "GET /~lowey/encyclopedia/m/index.html\n",
      "\n",
      "Top five frequent urls are :\n",
      "\n",
      "[('GET /~scottp/free.html', 15), ('GET /~scottp/publish.html', 7), ('GET /~macphed/finite/fe_resources/fe_resources.html', 7), ('GET /~scottp/fn1.gif', 5), ('GET /~macphed/finite/fe_resources/node1.html', 4)]\n",
      "\n",
      "Saving filtered file\n",
      "\n",
      "\n",
      "The contents of the filtered file are:\n",
      "\n",
      "GET /~lowey/encyclopedia/help.html    01/6/1995:00:57:12\n",
      "\n",
      "GET /~lowey/encyclopedia/volume_index.html    01/6/1995:00:58:23\n",
      "\n",
      "GET /~scottp/free.html    01/6/1995:00:59:21\n",
      "\n",
      "GET /~scottp/fn1.gif    01/6/1995:00:59:22\n",
      "\n",
      "GET /~lowey/encyclopedia/m/index.html    01/6/1995:00:59:40\n",
      "\n",
      "\n"
     ]
    }
   ],
   "source": [
    "main()"
   ]
  },
  {
   "cell_type": "markdown",
   "metadata": {},
   "source": [
    "<table>\n",
    "  <tr>\n",
    "  <td>**Expected Output:**<td>\n",
    "    <td style=\"text-align:left\">The contents of the file are:\n",
    "\n",
    "<br>dialup02.aloha.com - - [01/Jun/1995:00:57:12 -0600] \"GET /~lowey/encyclopedia/help.html\" 200 2570\n",
    "\n",
    "<br>dialup02.aloha.com - - [01/Jun/1995:00:58:23 -0600] \"GET /~lowey/encyclopedia/volume_index.html\" 200 7445\n",
    "\n",
    "<br>fire.server.net - - [01/Jun/1995:00:59:21 -0600] \"GET /~scottp/free.html\" 200 5759\n",
    "\n",
    "<br>fire.server.net - - [01/Jun/1995:00:59:22 -0600] \"GET /~scottp/fn1.gif\" 200 2164\n",
    "\n",
    "<br>dialup02.aloha.com - - [01/Jun/1995:00:59:40 -0600] \"GET /~lowey/encyclopedia/m/index.html\" 200 1898\n",
    "\n",
    "<br><br>\n",
    "<br>First five unique urls are:\n",
    "\n",
    "<br>GET /~macpherc/hibs/hibs.html\n",
    "<br>GET /~macphed/finite/fe_resources/node36.html\n",
    "<br>GET /~lowey/encyclopedia/help.html\n",
    "<br>GET /~macphed/finite/fe_resources/node110.html\n",
    "<br>GET /~scottp/publish.html\n",
    "<br>GET /~macpherc/images/new2.gif\n",
    "<br>GET /~lowey/webville/help/help_directions.html\n",
    "<br>GET /~macphed/finite/fe_resources/node24.html\n",
    "<br>GET /~macphed/finite/fe_resources/node91.html\n",
    "<br>GET /~macphed/finite/fe_resources/node99.html\n",
    "<br>\n",
    "<br>First five urls are:\n",
    "\n",
    "<br>GET /~lowey/encyclopedia/help.html\n",
    "<br>GET /~lowey/encyclopedia/volume_index.html\n",
    "<br>GET /~scottp/free.html\n",
    "<br>GET /~scottp/fn1.gif\n",
    "<br>GET /~lowey/encyclopedia/m/index.html\n",
    "<br>\n",
    "<br>Top five frequent urls are :\n",
    "\n",
    "<br>[('GET /~scottp/free.html', 15), ('GET /~scottp/publish.html', 7), ('GET /~macphed/finite/fe_resources/fe_resources.html', <br>7), ('GET /~scottp/fn1.gif', 5), ('GET /~macphed/finite/fe_resources/node1.html', 4)]\n",
    "<br>\n",
    "<br>Saving filtered file\n",
    "\n",
    "<br>The contents of the filtered file are:\n",
    "\n",
    "<br>GET /~lowey/encyclopedia/help.html    01/6/1995:00:57:12\n",
    "\n",
    "<br>GET /~lowey/encyclopedia/volume_index.html    01/6/1995:00:58:23\n",
    "\n",
    "<br>GET /~scottp/free.html    01/6/1995:00:59:21\n",
    "\n",
    "<br>GET /~scottp/fn1.gif    01/6/1995:00:59:22\n",
    "\n",
    "<br>GET /~lowey/encyclopedia/m/index.html    01/6/1995:00:59:40</td>\n",
    "  </tr>\n",
    "</table>\n",
    "    "
   ]
  },
  {
   "cell_type": "markdown",
   "metadata": {},
   "source": [
    "# Congratulations\n",
    "\n",
    "You have completed a small project to analyse a log file.You are likely to reuse this code many a times in your coding career. \n",
    "<br> Good understanding of the concepts learnt in this chapter will really help you a lot when you wear the hat of a developer.\n",
    "<br>Buckle up!\n",
    "<br>You are doing very well.\n",
    "<br>See you in the next chapter."
   ]
  }
 ],
 "metadata": {
  "kernelspec": {
   "display_name": "Python 3",
   "language": "python",
   "name": "python3"
  },
  "language_info": {
   "codemirror_mode": {
    "name": "ipython",
    "version": 3
   },
   "file_extension": ".py",
   "mimetype": "text/x-python",
   "name": "python",
   "nbconvert_exporter": "python",
   "pygments_lexer": "ipython3",
   "version": "3.6.1"
  }
 },
 "nbformat": 4,
 "nbformat_minor": 2
}
