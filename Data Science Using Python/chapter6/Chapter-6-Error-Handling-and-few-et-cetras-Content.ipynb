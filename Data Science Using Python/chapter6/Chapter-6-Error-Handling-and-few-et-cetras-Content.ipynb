{
 "cells": [
  {
   "cell_type": "markdown",
   "metadata": {},
   "source": [
    "<img src=\"https://www.digitalvidya.com/wp-content/uploads/2013/05/Digital-Vidya-Website-Logo-HD-2-300x95.png\">"
   ]
  },
  {
   "cell_type": "markdown",
   "metadata": {},
   "source": [
    "# Error Handling and few et cetra(s)\n",
    "\n",
    "This chapter covers the following topics:\n",
    "\n",
    "1. Syntax Errors\n",
    "2. Exceptions\n",
    "3. Date and Time\n",
    "4. Input/Output\n",
    "5. File Handling"
   ]
  },
  {
   "cell_type": "markdown",
   "metadata": {},
   "source": [
    "# What is syntax of a language?\n",
    "\n",
    "The foremost issue in coding is not following the rules of the programming language.\n",
    "<br>Just as when you study literary language, one needs to understand and learn the Grammar for the language. Each language follows a different grammar rule. For eg. The structure of the English language is very different from the Indian Sanskrit based languages.\n",
    "<br> Similarly, programming languages have their own grammar which is typically known as syntax of a language.\n",
    "<br> Let us look at 3 popular languages C, Java, PHP, Python and look at the implementation difference.\n",
    "\n",
    "***For loop* in C** would look like:\n",
    "```C\n",
    "for(int i=0;i<n;i++){\n",
    "    // statements to be executed\n",
    "}\n",
    "```\n",
    "<br> ***For loop* in Java** would look like:\n",
    "```Java\n",
    "for(int i=0;i<n;i++){\n",
    "    // statements to be executed\n",
    "}\n",
    "```\n",
    "<br> ***For loop* in PHP** would look like:\n",
    "\n",
    "\n",
    "<br> ***For loop* in Python** would look like:\n",
    "\n",
    "```Python\n",
    "for i in range(n):\n",
    "    # statements to be executed\n",
    "```\n"
   ]
  },
  {
   "cell_type": "markdown",
   "metadata": {},
   "source": [
    "## What happens when you don't follow syntax of a language?\n",
    "\n",
    "A good document editor helps to identify grammar errors and spelling mistakes. However, one can chose to ignore them. <br>Unfortunately or fortunately this is not the case in programming. You will not be able to execute your code till it follows syntax of the program.\n",
    "\n",
    "**Syntax Errors occur when the syntax is not followed as it should be.**"
   ]
  },
  {
   "cell_type": "markdown",
   "metadata": {},
   "source": [
    "### Type of common error 1: Absence of colon\n",
    "\n",
    "<font color=orange>### IMPORTANT NOTE </font>\n",
    "<br>Specially people from other programming languages tend to forget the colon."
   ]
  },
  {
   "cell_type": "code",
   "execution_count": 6,
   "metadata": {},
   "outputs": [
    {
     "ename": "SyntaxError",
     "evalue": "invalid syntax (<ipython-input-6-5a21e44337db>, line 4)",
     "output_type": "error",
     "traceback": [
      "\u001b[1;36m  File \u001b[1;32m\"<ipython-input-6-5a21e44337db>\"\u001b[1;36m, line \u001b[1;32m4\u001b[0m\n\u001b[1;33m    if a == b\u001b[0m\n\u001b[1;37m             ^\u001b[0m\n\u001b[1;31mSyntaxError\u001b[0m\u001b[1;31m:\u001b[0m invalid syntax\n"
     ]
    }
   ],
   "source": [
    "a = 1\n",
    "b = 1\n",
    "\n",
    "if a == b\n",
    "    a -= 1"
   ]
  },
  {
   "cell_type": "markdown",
   "metadata": {},
   "source": [
    "<br> Syntax error is clearly mentioned below the cell.\n",
    "<br> You can see that there is an arrow pointing towards the end of if statement because the colon is not present."
   ]
  },
  {
   "cell_type": "code",
   "execution_count": 22,
   "metadata": {
    "collapsed": true
   },
   "outputs": [],
   "source": [
    "# Correct way \n",
    "\n",
    "a = 1\n",
    "b = 1\n",
    "\n",
    "if a == b:\n",
    "    a -= 1"
   ]
  },
  {
   "cell_type": "markdown",
   "metadata": {},
   "source": [
    "### Type of common error 2: Indentation issues"
   ]
  },
  {
   "cell_type": "code",
   "execution_count": 13,
   "metadata": {},
   "outputs": [
    {
     "ename": "IndentationError",
     "evalue": "expected an indented block (<ipython-input-13-fd76c0b6f963>, line 5)",
     "output_type": "error",
     "traceback": [
      "\u001b[1;36m  File \u001b[1;32m\"<ipython-input-13-fd76c0b6f963>\"\u001b[1;36m, line \u001b[1;32m5\u001b[0m\n\u001b[1;33m    print(a)\u001b[0m\n\u001b[1;37m        ^\u001b[0m\n\u001b[1;31mIndentationError\u001b[0m\u001b[1;31m:\u001b[0m expected an indented block\n"
     ]
    }
   ],
   "source": [
    "a = 1\n",
    "b = 1\n",
    "\n",
    "if a == b:\n",
    "    \n",
    "print(a)"
   ]
  },
  {
   "cell_type": "markdown",
   "metadata": {},
   "source": [
    "Indentation error is clearly mentioned below the cell.\n",
    "<font color=orange>### IMPORTANT NOTE </font>\n",
    "<br> As you have already studied in Conditions and Control Flow chapter that the code blocks inside the conditional statements must be Tab spaced from the left side of the cell. (To check press Enter after the conditional statement and wherever the cursor lands start writing the code.)"
   ]
  },
  {
   "cell_type": "code",
   "execution_count": 21,
   "metadata": {},
   "outputs": [
    {
     "name": "stdout",
     "output_type": "stream",
     "text": [
      "1\n"
     ]
    }
   ],
   "source": [
    "# Correct way \n",
    "\n",
    "a = 1\n",
    "b = 1\n",
    "\n",
    "if a == b:  \n",
    "    print(a)"
   ]
  },
  {
   "cell_type": "markdown",
   "metadata": {},
   "source": [
    "### Type of common error 3: Paranthesis mismatch"
   ]
  },
  {
   "cell_type": "code",
   "execution_count": 19,
   "metadata": {},
   "outputs": [
    {
     "ename": "SyntaxError",
     "evalue": "invalid syntax (<ipython-input-19-fa552ade143b>, line 6)",
     "output_type": "error",
     "traceback": [
      "\u001b[1;36m  File \u001b[1;32m\"<ipython-input-19-fa552ade143b>\"\u001b[1;36m, line \u001b[1;32m6\u001b[0m\n\u001b[1;33m    (a/b) + c)*d\u001b[0m\n\u001b[1;37m             ^\u001b[0m\n\u001b[1;31mSyntaxError\u001b[0m\u001b[1;31m:\u001b[0m invalid syntax\n"
     ]
    }
   ],
   "source": [
    "a = 1\n",
    "b = 2\n",
    "c = 3\n",
    "d = 4\n",
    "\n",
    "(a/b) + c)*d"
   ]
  },
  {
   "cell_type": "code",
   "execution_count": 20,
   "metadata": {},
   "outputs": [
    {
     "data": {
      "text/plain": [
       "14.0"
      ]
     },
     "execution_count": 20,
     "metadata": {},
     "output_type": "execute_result"
    }
   ],
   "source": [
    "# Correct way \n",
    "\n",
    "a = 1\n",
    "b = 2\n",
    "c = 3\n",
    "d = 4\n",
    "\n",
    "((a/b) + c)*d"
   ]
  },
  {
   "cell_type": "markdown",
   "metadata": {},
   "source": [
    "### Type of common error 4: Variable not defined before using"
   ]
  },
  {
   "cell_type": "code",
   "execution_count": 1,
   "metadata": {},
   "outputs": [
    {
     "ename": "NameError",
     "evalue": "name 'a' is not defined",
     "output_type": "error",
     "traceback": [
      "\u001b[1;31m---------------------------------------------------------------------------\u001b[0m",
      "\u001b[1;31mNameError\u001b[0m                                 Traceback (most recent call last)",
      "\u001b[1;32m<ipython-input-1-b69ea49812b6>\u001b[0m in \u001b[0;36m<module>\u001b[1;34m()\u001b[0m\n\u001b[1;32m----> 1\u001b[1;33m \u001b[1;36m4\u001b[0m \u001b[1;33m+\u001b[0m \u001b[0ma\u001b[0m\u001b[1;33m*\u001b[0m\u001b[1;36m3\u001b[0m\u001b[1;33m\u001b[0m\u001b[0m\n\u001b[0m",
      "\u001b[1;31mNameError\u001b[0m: name 'a' is not defined"
     ]
    }
   ],
   "source": [
    "4 + a*3"
   ]
  },
  {
   "cell_type": "code",
   "execution_count": null,
   "metadata": {
    "collapsed": true
   },
   "outputs": [],
   "source": [
    "# Correct way \n",
    "a = 5\n",
    "\n",
    "4 + a*3"
   ]
  },
  {
   "cell_type": "markdown",
   "metadata": {},
   "source": [
    "## Exceptions\n",
    "\n",
    "### What is an exception?\n",
    "\n",
    "Even if a statement or expression is syntactically correct, it may cause an error when an attempt is made to execute it. Errors detected during execution are called **exceptions**.\n",
    "\n",
    "\n",
    "### Why should we as programmers worry about exceptions?\n",
    "\n",
    "<br> A program may not always reach to its end. It might be interrupted in several ways. A logical error in your program could crash it. For example, you might be trying to access an element of an array beyond its length. Some of them cannot be handled but the others can. For example, if a user enters a String when an int is needed, the program would terminate abruptly printing an error message. We can override this default behaviour so that the program asks for a proper input a second time. This is attained using Python's exception handling statements(try-except).\n",
    "\n",
    "<font color=orange>### IMPORTANT NOTE </font>\n",
    "<br> You want your program to be graceful in different situations. This is where *exception handling* is important. \n",
    "<br> For eg. \n",
    "> Working with index out of range - Like accessing an element of a list which is beyond its length.\n",
    "><br> Working with conflicting data types - Like concatenating a string and an integer.\n",
    "><br>Dividing by zero  \n",
    "\n",
    "<br> You will now understand how to handle exceptions in Python programs.\n",
    "<br> Most exceptions are not handled by programs, however, and result in error messages as shown here.\n"
   ]
  },
  {
   "cell_type": "markdown",
   "metadata": {},
   "source": [
    "## Identification of an error:\n",
    "\n",
    "Exceptions come in different types, and the type is printed as part of the message: the types in the example are ZeroDivisionError, NameError and TypeError. The string printed as the exception type is the name of the built-in exception that occurred. This is true for all built-in exceptions. \n",
    "\n",
    "The rest of the line provides detail based on the type of exception and what caused it.\n",
    "\n",
    "The preceding part of the error message shows the context where the exception happened, in the form of a stack traceback.\n",
    "<br> Stack traceback is the chain of errors.\n",
    "<br> For eg. (The last line of the error message describes the error)"
   ]
  },
  {
   "cell_type": "code",
   "execution_count": 5,
   "metadata": {
    "collapsed": true
   },
   "outputs": [],
   "source": [
    "def my_function(l):\n",
    "    \n",
    "    print(l[1])"
   ]
  },
  {
   "cell_type": "code",
   "execution_count": 6,
   "metadata": {},
   "outputs": [
    {
     "ename": "TypeError",
     "evalue": "'int' object is not subscriptable",
     "output_type": "error",
     "traceback": [
      "\u001b[1;31m---------------------------------------------------------------------------\u001b[0m",
      "\u001b[1;31mTypeError\u001b[0m                                 Traceback (most recent call last)",
      "\u001b[1;32m<ipython-input-6-4af345f3ac41>\u001b[0m in \u001b[0;36m<module>\u001b[1;34m()\u001b[0m\n\u001b[1;32m----> 1\u001b[1;33m \u001b[0mmy_function\u001b[0m\u001b[1;33m(\u001b[0m\u001b[1;36m1\u001b[0m\u001b[1;33m)\u001b[0m\u001b[1;33m\u001b[0m\u001b[0m\n\u001b[0m",
      "\u001b[1;32m<ipython-input-5-b532a9338581>\u001b[0m in \u001b[0;36mmy_function\u001b[1;34m(l)\u001b[0m\n\u001b[0;32m      1\u001b[0m \u001b[1;32mdef\u001b[0m \u001b[0mmy_function\u001b[0m\u001b[1;33m(\u001b[0m\u001b[0ml\u001b[0m\u001b[1;33m)\u001b[0m\u001b[1;33m:\u001b[0m\u001b[1;33m\u001b[0m\u001b[0m\n\u001b[0;32m      2\u001b[0m \u001b[1;33m\u001b[0m\u001b[0m\n\u001b[1;32m----> 3\u001b[1;33m     \u001b[0mprint\u001b[0m\u001b[1;33m(\u001b[0m\u001b[0ml\u001b[0m\u001b[1;33m[\u001b[0m\u001b[1;36m1\u001b[0m\u001b[1;33m]\u001b[0m\u001b[1;33m)\u001b[0m\u001b[1;33m\u001b[0m\u001b[0m\n\u001b[0m",
      "\u001b[1;31mTypeError\u001b[0m: 'int' object is not subscriptable"
     ]
    }
   ],
   "source": [
    "my_function(1)"
   ]
  },
  {
   "cell_type": "markdown",
   "metadata": {},
   "source": [
    "# Exception Handling\n",
    "\n",
    "When an exception occurs in your program the technique using which you can handle it is called as exception handling.\n",
    "<br> Few examples of Exception Handling"
   ]
  },
  {
   "cell_type": "code",
   "execution_count": 16,
   "metadata": {},
   "outputs": [
    {
     "ename": "ZeroDivisionError",
     "evalue": "division by zero",
     "output_type": "error",
     "traceback": [
      "\u001b[1;31m---------------------------------------------------------------------------\u001b[0m",
      "\u001b[1;31mZeroDivisionError\u001b[0m                         Traceback (most recent call last)",
      "\u001b[1;32m<ipython-input-16-59a0d6efe953>\u001b[0m in \u001b[0;36m<module>\u001b[1;34m()\u001b[0m\n\u001b[0;32m      1\u001b[0m \u001b[0mx\u001b[0m \u001b[1;33m=\u001b[0m \u001b[1;36m1\u001b[0m\u001b[1;33m\u001b[0m\u001b[0m\n\u001b[0;32m      2\u001b[0m \u001b[0my\u001b[0m \u001b[1;33m=\u001b[0m \u001b[1;36m0\u001b[0m\u001b[1;33m\u001b[0m\u001b[0m\n\u001b[1;32m----> 3\u001b[1;33m \u001b[0mc\u001b[0m \u001b[1;33m=\u001b[0m \u001b[0mx\u001b[0m\u001b[1;33m/\u001b[0m\u001b[0my\u001b[0m\u001b[1;33m\u001b[0m\u001b[0m\n\u001b[0m",
      "\u001b[1;31mZeroDivisionError\u001b[0m: division by zero"
     ]
    }
   ],
   "source": [
    "x = 1\n",
    "y = 0\n",
    "c = x/y"
   ]
  },
  {
   "cell_type": "code",
   "execution_count": 4,
   "metadata": {},
   "outputs": [
    {
     "name": "stdout",
     "output_type": "stream",
     "text": [
      "Divide by zero error! Change value of y to non zero\n"
     ]
    }
   ],
   "source": [
    "try:\n",
    "    x = 1\n",
    "    y = 0\n",
    "    c = x/y\n",
    "    print(x)  ### This statement won't be executed because exception is caught in the previous line\n",
    "except ZeroDivisionError:\n",
    "    print(\"Divide by zero error! Change value of y to non zero\")"
   ]
  },
  {
   "cell_type": "markdown",
   "metadata": {},
   "source": [
    "The try statement works as follows.\n",
    "\n",
    "1. First, the try clause (the statement(s) between the try and except keywords) is executed.\n",
    "2. If no exception occurs, the except clause is skipped and execution of the try statement is finished.\n",
    "3. If an exception occurs during execution of the try clause, the rest of the clause is skipped. Then if its type matches the exception named after the except keyword, the except clause is executed, and then execution continues after the try statement.\n",
    "4. If an exception occurs which does not match the exception named in the except clause,it is an unhandled exception and execution stops with a message as shown above.\n"
   ]
  },
  {
   "cell_type": "code",
   "execution_count": 90,
   "metadata": {
    "collapsed": true
   },
   "outputs": [],
   "source": [
    "def add_int(x,y):\n",
    "    '''\n",
    "    Adds two integers\n",
    "    '''\n",
    "    try:\n",
    "        d = x + y\n",
    "    except TypeError:\n",
    "        print(\"Please add an integer with an integer\")\n",
    "        d = None\n",
    "    \n",
    "    return d"
   ]
  },
  {
   "cell_type": "code",
   "execution_count": 91,
   "metadata": {},
   "outputs": [
    {
     "data": {
      "text/plain": [
       "10"
      ]
     },
     "execution_count": 91,
     "metadata": {},
     "output_type": "execute_result"
    }
   ],
   "source": [
    "add_int(5,5)"
   ]
  },
  {
   "cell_type": "code",
   "execution_count": 92,
   "metadata": {},
   "outputs": [
    {
     "name": "stdout",
     "output_type": "stream",
     "text": [
      "Please add an integer with an integer\n"
     ]
    }
   ],
   "source": [
    "add_int(5,'s')"
   ]
  },
  {
   "cell_type": "markdown",
   "metadata": {},
   "source": [
    "There could also be an *else* clause to try-except within which those statements could be excecuted which you want to be executed after try is executed successfully.\n",
    "\n",
    "The use of the else clause is better than adding additional code to the try clause because it avoids accidentally catching an exception that wasn’t raised by the code being protected by the try … except statement."
   ]
  },
  {
   "cell_type": "code",
   "execution_count": 5,
   "metadata": {
    "collapsed": true
   },
   "outputs": [],
   "source": [
    "def add_int(x,y):\n",
    "\n",
    "    try:\n",
    "        d = x + y\n",
    "        print(x/y)\n",
    "\n",
    "    except :    \n",
    "        print(\"Divide by zero error! Change value of y to non zero\")\n",
    "    "
   ]
  },
  {
   "cell_type": "code",
   "execution_count": 6,
   "metadata": {},
   "outputs": [
    {
     "name": "stdout",
     "output_type": "stream",
     "text": [
      "Divide by zero error! Change value of y to non zero\n"
     ]
    }
   ],
   "source": [
    "add_int(1,\"hi\")"
   ]
  },
  {
   "cell_type": "markdown",
   "metadata": {},
   "source": [
    "This except statement does not have any Exception mentioned thus, it will catch any exception that will occur\n",
    "\n",
    "Here, there is a TypeError because of d = y + \"hi\". But the except clause is defined to catch the exception Divide By Zero and thus its respective message is printed."
   ]
  },
  {
   "cell_type": "code",
   "execution_count": 12,
   "metadata": {
    "collapsed": true
   },
   "outputs": [],
   "source": [
    "def divide_add(x,y,z):\n",
    "\n",
    "    try:\n",
    "        print(x/y)\n",
    "\n",
    "    except:\n",
    "        print(\"Divide by zero error! Change value of y to non zero\")\n",
    "\n",
    "    else:\n",
    "        d = y + z"
   ]
  },
  {
   "cell_type": "code",
   "execution_count": 14,
   "metadata": {},
   "outputs": [
    {
     "name": "stdout",
     "output_type": "stream",
     "text": [
      "0.25\n"
     ]
    },
    {
     "ename": "TypeError",
     "evalue": "unsupported operand type(s) for +: 'int' and 'str'",
     "output_type": "error",
     "traceback": [
      "\u001b[1;31m---------------------------------------------------------------------------\u001b[0m",
      "\u001b[1;31mTypeError\u001b[0m                                 Traceback (most recent call last)",
      "\u001b[1;32m<ipython-input-14-e6bbb100b29d>\u001b[0m in \u001b[0;36m<module>\u001b[1;34m()\u001b[0m\n\u001b[1;32m----> 1\u001b[1;33m \u001b[0mdivide_add\u001b[0m\u001b[1;33m(\u001b[0m\u001b[1;36m1\u001b[0m\u001b[1;33m,\u001b[0m \u001b[1;36m4\u001b[0m\u001b[1;33m,\u001b[0m \u001b[1;34m\"hi\"\u001b[0m\u001b[1;33m)\u001b[0m\u001b[1;33m\u001b[0m\u001b[0m\n\u001b[0m",
      "\u001b[1;32m<ipython-input-12-f372df3b02c1>\u001b[0m in \u001b[0;36mdivide_add\u001b[1;34m(x, y, z)\u001b[0m\n\u001b[0;32m      8\u001b[0m \u001b[1;33m\u001b[0m\u001b[0m\n\u001b[0;32m      9\u001b[0m     \u001b[1;32melse\u001b[0m\u001b[1;33m:\u001b[0m\u001b[1;33m\u001b[0m\u001b[0m\n\u001b[1;32m---> 10\u001b[1;33m         \u001b[0md\u001b[0m \u001b[1;33m=\u001b[0m \u001b[0my\u001b[0m \u001b[1;33m+\u001b[0m \u001b[0mz\u001b[0m\u001b[1;33m\u001b[0m\u001b[0m\n\u001b[0m",
      "\u001b[1;31mTypeError\u001b[0m: unsupported operand type(s) for +: 'int' and 'str'"
     ]
    }
   ],
   "source": [
    "divide_add(1, 4, \"hi\")"
   ]
  },
  {
   "cell_type": "markdown",
   "metadata": {},
   "source": [
    "Now you can see that try-except clause serves its right purpose and as the except clause is not executed the else clause is executed and the TypeError exception occurs.\n",
    "\n",
    "To further solve the TypeError"
   ]
  },
  {
   "cell_type": "markdown",
   "metadata": {},
   "source": [
    "**First way**"
   ]
  },
  {
   "cell_type": "code",
   "execution_count": 25,
   "metadata": {
    "collapsed": true
   },
   "outputs": [],
   "source": [
    "def divide_add(x,y,z):\n",
    "\n",
    "    try:\n",
    "        print(x/y)\n",
    "\n",
    "    except:\n",
    "        print(\"Divide by zero error! Change value of y to non zero\")\n",
    "\n",
    "    else:\n",
    "\n",
    "        try:\n",
    "\n",
    "            d = y + z\n",
    "\n",
    "        except : \n",
    "\n",
    "            print(\"Add operands of the same datatype\")"
   ]
  },
  {
   "cell_type": "code",
   "execution_count": 26,
   "metadata": {},
   "outputs": [
    {
     "name": "stdout",
     "output_type": "stream",
     "text": [
      "0.25\n",
      "Add operands of the same datatype\n"
     ]
    }
   ],
   "source": [
    "divide_add(1, 4, \"hi\")"
   ]
  },
  {
   "cell_type": "code",
   "execution_count": 27,
   "metadata": {},
   "outputs": [
    {
     "name": "stdout",
     "output_type": "stream",
     "text": [
      "Divide by zero error! Change value of y to non zero\n"
     ]
    }
   ],
   "source": [
    "divide_add(1,0,\"hi\")"
   ]
  },
  {
   "cell_type": "markdown",
   "metadata": {},
   "source": [
    "Here, no exception was caught in the first stage so the control went to else part where TypeError is caught."
   ]
  },
  {
   "cell_type": "markdown",
   "metadata": {},
   "source": [
    "**Second Way **\n",
    "\n",
    "A try statement may have more than one except clause, to specify handlers for different exceptions. At most one handler will be executed. Handlers only handle exceptions that occur in the corresponding try clause. An except clause may name multiple exceptions as a parenthesized tuple, for example:"
   ]
  },
  {
   "cell_type": "code",
   "execution_count": 17,
   "metadata": {
    "collapsed": true
   },
   "outputs": [],
   "source": [
    "def divide_add(x,y,z):\n",
    "    \n",
    "    try:\n",
    "        c = x/y\n",
    "        print(c)\n",
    "        d = y + z\n",
    "    except (ZeroDivisionError, TypeError):\n",
    "        print(\"ZeroDivisionError or TypeError - One of those is caught\")\n"
   ]
  },
  {
   "cell_type": "code",
   "execution_count": 18,
   "metadata": {},
   "outputs": [
    {
     "name": "stdout",
     "output_type": "stream",
     "text": [
      "0.25\n",
      "ZeroDivisionError or TypeError - One of those is caught\n"
     ]
    }
   ],
   "source": [
    "divide_add(1,4,'hi')"
   ]
  },
  {
   "cell_type": "code",
   "execution_count": 19,
   "metadata": {},
   "outputs": [
    {
     "name": "stdout",
     "output_type": "stream",
     "text": [
      "ZeroDivisionError or TypeError - One of those is caught\n"
     ]
    }
   ],
   "source": [
    "divide_add(1,0,2)"
   ]
  },
  {
   "cell_type": "markdown",
   "metadata": {},
   "source": [
    "Or else explicitly right one except clause for each type of exception"
   ]
  },
  {
   "cell_type": "code",
   "execution_count": 20,
   "metadata": {
    "collapsed": true
   },
   "outputs": [],
   "source": [
    "def divide_add(x,y,z):\n",
    "    try:\n",
    "        c = x/y\n",
    "        print(c)\n",
    "        d = y + z\n",
    "    except ZeroDivisionError:\n",
    "        print(\"Divide by zero error! Change value of y to non zero\")\n",
    "    except TypeError:\n",
    "        print(\"Please add operands of same datatype\")"
   ]
  },
  {
   "cell_type": "code",
   "execution_count": 21,
   "metadata": {},
   "outputs": [
    {
     "name": "stdout",
     "output_type": "stream",
     "text": [
      "0.25\n",
      "Please add operands of same datatype\n"
     ]
    }
   ],
   "source": [
    "divide_add(1,4,\"hi\")"
   ]
  },
  {
   "cell_type": "code",
   "execution_count": 22,
   "metadata": {},
   "outputs": [
    {
     "name": "stdout",
     "output_type": "stream",
     "text": [
      "Divide by zero error! Change value of y to non zero\n"
     ]
    }
   ],
   "source": [
    "divide_add(1,0,\"hi\")"
   ]
  },
  {
   "cell_type": "code",
   "execution_count": 23,
   "metadata": {},
   "outputs": [
    {
     "name": "stdout",
     "output_type": "stream",
     "text": [
      "Divide by zero error! Change value of y to non zero\n"
     ]
    }
   ],
   "source": [
    "divide_add(1,0,2)"
   ]
  },
  {
   "cell_type": "markdown",
   "metadata": {},
   "source": [
    "<font color=orange>### IMPORTANT NOTE </font>\n",
    "<br> Always remember, whenever there are multiple statements which are prone to cause an exception -\n",
    "> Add multiple except clauses for each exception\n",
    "> If you want to use one except statement only, then put one statement in try clause and other in else clause and within that another try-except as shown above."
   ]
  },
  {
   "cell_type": "markdown",
   "metadata": {},
   "source": [
    "# Date and Time"
   ]
  },
  {
   "cell_type": "markdown",
   "metadata": {},
   "source": [
    "## What is Date and Time in Python?\n",
    "\n",
    "Python has the datetime module to help deal with timestamps in your code. Time values are represented with the time class. Time has attributes - hour, minute, second, and microsecond. They can also include time zone information. \n",
    "<br> Datetime also allows us to work with date timestamps. Calendar date values are represented with the date class. Date  has attributes for year, month, and day. The date format can be changed by the user default is (year, month, day).\n",
    "\n",
    "## Why we need to use these modules?\n",
    "\n",
    "Many a times, while solving a data science problem there will be situations when you will need to analysis data based on timestamp.\n",
    "For eg. Time series analysis -  Growth in sales of a product over the last 5 years.\n",
    "<br> Analysis of users of a website based on time (When there is frequent traffic on the website?)\n",
    "\n",
    "To achieve all these tasks we need to perform various types of operation on Time.\n",
    "<br> Lets explore them"
   ]
  },
  {
   "cell_type": "markdown",
   "metadata": {},
   "source": [
    "### Time"
   ]
  },
  {
   "cell_type": "code",
   "execution_count": 1,
   "metadata": {
    "collapsed": true
   },
   "outputs": [],
   "source": [
    "from datetime import date,time,datetime,timedelta"
   ]
  },
  {
   "cell_type": "code",
   "execution_count": 2,
   "metadata": {},
   "outputs": [
    {
     "name": "stdout",
     "output_type": "stream",
     "text": [
      "09:30:01\n",
      "hour  : 9\n",
      "minute: 30\n",
      "second: 1\n",
      "microsecond: 0\n",
      "tzinfo: None\n"
     ]
    }
   ],
   "source": [
    "t = time(9, 30, 1)\n",
    "\n",
    "# Lets show the different compoenets\n",
    "\n",
    "print(t)\n",
    "print ('hour  :', t.hour)                     # Hour\n",
    "print ('minute:', t.minute)                   # Minutes\n",
    "print ('second:', t.second)                   # Seconds\n",
    "print ('microsecond:', t.microsecond)         # Microseconds\n",
    "print ('tzinfo:', t.tzinfo)                   # Time zone info"
   ]
  },
  {
   "cell_type": "markdown",
   "metadata": {},
   "source": [
    "There are not many operations which could be performed with time objects.\n",
    "<br> There are many operations which could be performed with datetime objects."
   ]
  },
  {
   "cell_type": "markdown",
   "metadata": {},
   "source": [
    "## Date "
   ]
  },
  {
   "cell_type": "code",
   "execution_count": 3,
   "metadata": {},
   "outputs": [
    {
     "name": "stdout",
     "output_type": "stream",
     "text": [
      "2018-05-29\n",
      "complete time: Tue May 29 00:00:00 2018\n",
      "tuple: time.struct_time(tm_year=2018, tm_mon=5, tm_mday=29, tm_hour=0, tm_min=0, tm_sec=0, tm_wday=1, tm_yday=149, tm_isdst=-1)\n",
      "ordinal: 736843\n",
      "Year: 2018\n",
      "Month : 5\n",
      "Day : 29\n"
     ]
    }
   ],
   "source": [
    "today = date.today()\n",
    "print (today)\n",
    "print ('complete time:', today.ctime())\n",
    "print ('tuple:', today.timetuple())\n",
    "print ('ordinal:', today.toordinal())\n",
    "print ('Year:', today.year)\n",
    "print ('Month :', today.month)\n",
    "print ('Day :', today.day)"
   ]
  },
  {
   "cell_type": "code",
   "execution_count": 4,
   "metadata": {},
   "outputs": [
    {
     "name": "stdout",
     "output_type": "stream",
     "text": [
      "Earliest  : 0001-01-01\n",
      "Latest    : 9999-12-31\n",
      "Resolution: 1 day, 0:00:00\n"
     ]
    }
   ],
   "source": [
    "print ('Earliest  :', date.min)\n",
    "print ('Latest    :', date.max)\n",
    "print ('Resolution:', date.resolution)"
   ]
  },
  {
   "cell_type": "markdown",
   "metadata": {},
   "source": [
    "### Operations on Datetime"
   ]
  },
  {
   "cell_type": "markdown",
   "metadata": {},
   "source": [
    "**Finding the date of the day 'N' days before today**"
   ]
  },
  {
   "cell_type": "code",
   "execution_count": 5,
   "metadata": {
    "collapsed": true
   },
   "outputs": [],
   "source": [
    "def dateNDaysAgo(N):\n",
    "\n",
    "    date_N_days_ago = datetime.now() - timedelta(days=N)\n",
    "\n",
    "    print (\"Today's date and time now\",datetime.now())  \n",
    "    print (\"Date 5 days ago and time then\",date_N_days_ago)\n",
    "    print (\"Date 5 days ago\", date_N_days_ago.date())\n",
    "    print (\"Time 5 days ago\", date_N_days_ago.time())"
   ]
  },
  {
   "cell_type": "code",
   "execution_count": 6,
   "metadata": {},
   "outputs": [
    {
     "name": "stdout",
     "output_type": "stream",
     "text": [
      "Today's date and time now 2018-05-29 06:14:51.057848\n",
      "Date 5 days ago and time then 2018-05-23 06:14:51.057848\n",
      "Date 5 days ago 2018-05-23\n",
      "Time 5 days ago 06:14:51.057848\n"
     ]
    }
   ],
   "source": [
    "dateNDaysAgo(6)"
   ]
  },
  {
   "cell_type": "markdown",
   "metadata": {},
   "source": [
    "**Number of days between two dates**"
   ]
  },
  {
   "cell_type": "code",
   "execution_count": 7,
   "metadata": {
    "collapsed": true
   },
   "outputs": [],
   "source": [
    "def numberOfDaysBetweenDates(start, end):    \n",
    "\n",
    "    delta = end - start\n",
    "\n",
    "    print(delta)\n",
    "    print(type(delta))\n",
    "    print(\"Number of days\", delta.days)\n"
   ]
  },
  {
   "cell_type": "code",
   "execution_count": 41,
   "metadata": {},
   "outputs": [
    {
     "name": "stdout",
     "output_type": "stream",
     "text": [
      "10 days, 0:00:00\n",
      "<class 'datetime.timedelta'>\n",
      "Number of days 10\n"
     ]
    }
   ],
   "source": [
    "numberOfDaysBetweenDates(start = date(2018, 5, 15), end = date(2018, 5, 25))"
   ]
  },
  {
   "cell_type": "markdown",
   "metadata": {},
   "source": [
    "**Changing format of date**"
   ]
  },
  {
   "cell_type": "markdown",
   "metadata": {},
   "source": [
    "Refer https://docs.python.org/3.6/library/datetime.html#strftime-and-strptime-behavior"
   ]
  },
  {
   "cell_type": "code",
   "execution_count": 43,
   "metadata": {
    "collapsed": true
   },
   "outputs": [],
   "source": [
    "def convert_date(string_date):\n",
    "    '''\n",
    "    Western style to Indian Style date conversion\n",
    "    '''\n",
    "    return datetime.strptime(string_date, '%Y-%m-%d').strftime('%m/%d/%y')"
   ]
  },
  {
   "cell_type": "code",
   "execution_count": 44,
   "metadata": {},
   "outputs": [
    {
     "data": {
      "text/plain": [
       "'01/25/13'"
      ]
     },
     "execution_count": 44,
     "metadata": {},
     "output_type": "execute_result"
    }
   ],
   "source": [
    "convert_date(\"2013-1-25\")"
   ]
  },
  {
   "cell_type": "markdown",
   "metadata": {},
   "source": [
    "Using strptime we initialise the date and specify the format it is in. Then we apply strftime method to it and specify the new format we want the date to converted to."
   ]
  },
  {
   "cell_type": "markdown",
   "metadata": {},
   "source": [
    "** Convert string to date**"
   ]
  },
  {
   "cell_type": "code",
   "execution_count": 17,
   "metadata": {
    "collapsed": true
   },
   "outputs": [],
   "source": [
    "def string_to_date(string_date):\n",
    "    \n",
    "    return datetime.strptime(string_date, '%Y-%m-%d %H:%M:%S')   # Year-Months-Days Hours:Minutes:Seconds"
   ]
  },
  {
   "cell_type": "code",
   "execution_count": 18,
   "metadata": {},
   "outputs": [
    {
     "data": {
      "text/plain": [
       "datetime.datetime(2013, 1, 25, 0, 12, 45)"
      ]
     },
     "execution_count": 18,
     "metadata": {},
     "output_type": "execute_result"
    }
   ],
   "source": [
    "string_to_date(\"2013-1-25 00:12:45\")"
   ]
  },
  {
   "cell_type": "markdown",
   "metadata": {},
   "source": [
    "## Timing the code\n",
    "\n",
    "Timing the code is very important when it comes to measuring how efficiently the code has been written.\n",
    "<br> For that we will be using timeit module of python.\n",
    "<br> Speciality of Jupyter notebook is that you can use magic function too.\n",
    "<br> Lets explore both the ways"
   ]
  },
  {
   "cell_type": "code",
   "execution_count": 56,
   "metadata": {
    "collapsed": true
   },
   "outputs": [],
   "source": [
    "import timeit"
   ]
  },
  {
   "cell_type": "markdown",
   "metadata": {},
   "source": [
    "In the following cell, we will create a function which calculate squares of numbers from 0 to 99.\n",
    "<br> Later we are timing out the code.\n",
    "<br> We can find that which is the fastest running time, by consecutively running the code."
   ]
  },
  {
   "cell_type": "code",
   "execution_count": 61,
   "metadata": {
    "collapsed": true
   },
   "outputs": [],
   "source": [
    "def calculateSquares():\n",
    "    map(lambda x : x**2, range(100))"
   ]
  },
  {
   "cell_type": "code",
   "execution_count": 62,
   "metadata": {},
   "outputs": [
    {
     "data": {
      "text/plain": [
       "0.007743570029404623"
      ]
     },
     "execution_count": 62,
     "metadata": {},
     "output_type": "execute_result"
    }
   ],
   "source": [
    "# For loop\n",
    "timeit.timeit(calculateSquares, number=10000)"
   ]
  },
  {
   "cell_type": "markdown",
   "metadata": {},
   "source": [
    "Here the number of times we are calling calculateSquares is 10000, out of which the least amount of time it took was 0.007743570029404623"
   ]
  },
  {
   "cell_type": "code",
   "execution_count": 74,
   "metadata": {},
   "outputs": [
    {
     "name": "stdout",
     "output_type": "stream",
     "text": [
      "0.08128380531888979\n"
     ]
    }
   ],
   "source": [
    "import timeit\n",
    "\n",
    "setup = \"\"\"\n",
    "\n",
    "def calculateSquares(n):\n",
    "    map(lambda x : x**2, range(n))\n",
    "    \n",
    "\"\"\"\n",
    "\n",
    "t = timeit.Timer(stmt=\"calculateSquares(100)\" ,setup=setup)\n",
    "print(t.timeit(100000))"
   ]
  },
  {
   "cell_type": "markdown",
   "metadata": {},
   "source": [
    "In the above cell the only difference is that calculateSquares is parameterized function. \n",
    "<br> We use Timer method of timeit for it.\n",
    "\n",
    "Now lets explore the magic function timeit"
   ]
  },
  {
   "cell_type": "code",
   "execution_count": 90,
   "metadata": {},
   "outputs": [
    {
     "name": "stdout",
     "output_type": "stream",
     "text": [
      "The slowest run took 4.48 times longer than the fastest. This could mean that an intermediate result is being cached.\n",
      "100000 loops, best of 3: 1.53 µs per loop\n"
     ]
    }
   ],
   "source": [
    "%%timeit\n",
    "\n",
    "def fibonacci (term1, term2, number_of_terms):\n",
    "    '''\n",
    "    Generates a list of fibonacci numbers based on first two terms and number of terms.\n",
    "    Parameters\n",
    "    ----------\n",
    "    term1: First term \n",
    "    term2: Second term\n",
    "    number_of_terms : Number of terms\n",
    "    ----------\n",
    "    \n",
    "    Returns\n",
    "    ----------\n",
    "    fibonnaci_list : List containing all the fibonacci numbers based on the passed parameters\n",
    "    ----------\n",
    "    '''\n",
    "    \n",
    "    fibonnaci_list = []\n",
    "    \n",
    "    ## START CODE HERE\n",
    "\n",
    "    while(number_of_terms):\n",
    "        term3 = term1 + term2\n",
    "        term1 = term2\n",
    "        term2 = term3\n",
    "        fibonnaci_list.append(term3)\n",
    "        number_of_terms = number_of_terms-1\n",
    "\n",
    "    ## END CODE HERE\n",
    "    \n",
    "    return fibonnaci_list\n",
    "\n",
    "fibonacci(1, 7, 8)"
   ]
  },
  {
   "cell_type": "code",
   "execution_count": 88,
   "metadata": {},
   "outputs": [
    {
     "name": "stdout",
     "output_type": "stream",
     "text": [
      "The slowest run took 4.92 times longer than the fastest. This could mean that an intermediate result is being cached.\n",
      "1000000 loops, best of 3: 694 ns per loop\n"
     ]
    }
   ],
   "source": [
    "%timeit map(lambda x : x**2, range(1000))"
   ]
  },
  {
   "cell_type": "markdown",
   "metadata": {},
   "source": [
    "%timeit only works for 1 line of code for multiple lines you need to use %%timeit"
   ]
  },
  {
   "cell_type": "markdown",
   "metadata": {},
   "source": [
    "# Input / Output\n",
    "\n",
    "Input and Output is the most important part of any program. All the programs which are developed nowadays need to get input from the user and also display the output to the user.\n",
    "<br> Take example of a chat application, the user gives input in the form of message to sent and the message is displayed to the user.\n",
    "<br> You have been practicing on the output part since the beginning of the course. i.e the print() function. \n",
    "<br> Now we will introduce it more formally along with the different ways to use the print() function.\n",
    "\n",
    "Lets begin with input/output."
   ]
  },
  {
   "cell_type": "markdown",
   "metadata": {},
   "source": [
    "## input() function\n",
    "\n",
    "The input() function is used to get input from user. The default data type of input is String(str).\n",
    "<br> The parameter passed to the input() function is the message which will be displayed to the user.\n",
    "<br> Remember, input terminates on pressing Enter key."
   ]
  },
  {
   "cell_type": "code",
   "execution_count": 7,
   "metadata": {},
   "outputs": [
    {
     "name": "stdout",
     "output_type": "stream",
     "text": [
      "Enter a number 5\n"
     ]
    }
   ],
   "source": [
    "p = input(\"Enter a number \")"
   ]
  },
  {
   "cell_type": "code",
   "execution_count": 8,
   "metadata": {},
   "outputs": [
    {
     "data": {
      "text/plain": [
       "str"
      ]
     },
     "execution_count": 8,
     "metadata": {},
     "output_type": "execute_result"
    }
   ],
   "source": [
    "type(p)"
   ]
  },
  {
   "cell_type": "markdown",
   "metadata": {},
   "source": [
    "To use p as a number we need to type cast it."
   ]
  },
  {
   "cell_type": "code",
   "execution_count": 9,
   "metadata": {
    "collapsed": true
   },
   "outputs": [],
   "source": [
    "p = int(p)"
   ]
  },
  {
   "cell_type": "code",
   "execution_count": 10,
   "metadata": {},
   "outputs": [
    {
     "data": {
      "text/plain": [
       "int"
      ]
     },
     "execution_count": 10,
     "metadata": {},
     "output_type": "execute_result"
    }
   ],
   "source": [
    "type(p)"
   ]
  },
  {
   "cell_type": "markdown",
   "metadata": {},
   "source": [
    "What we did is basic.\n",
    "<br> Lets do it in one line itself."
   ]
  },
  {
   "cell_type": "markdown",
   "metadata": {},
   "source": [
    "**Take input of a integer from user**"
   ]
  },
  {
   "cell_type": "code",
   "execution_count": 11,
   "metadata": {},
   "outputs": [
    {
     "name": "stdout",
     "output_type": "stream",
     "text": [
      "Enter a number 5\n"
     ]
    }
   ],
   "source": [
    "p = int(input(\"Enter a number \"))"
   ]
  },
  {
   "cell_type": "code",
   "execution_count": 12,
   "metadata": {},
   "outputs": [
    {
     "data": {
      "text/plain": [
       "int"
      ]
     },
     "execution_count": 12,
     "metadata": {},
     "output_type": "execute_result"
    }
   ],
   "source": [
    "type(p)"
   ]
  },
  {
   "cell_type": "markdown",
   "metadata": {},
   "source": [
    "What would happen if the user enters a non-integer?"
   ]
  },
  {
   "cell_type": "code",
   "execution_count": 13,
   "metadata": {},
   "outputs": [
    {
     "name": "stdout",
     "output_type": "stream",
     "text": [
      "Enter a number Hi\n"
     ]
    },
    {
     "ename": "ValueError",
     "evalue": "invalid literal for int() with base 10: 'Hi'",
     "output_type": "error",
     "traceback": [
      "\u001b[1;31m---------------------------------------------------------------------------\u001b[0m",
      "\u001b[1;31mValueError\u001b[0m                                Traceback (most recent call last)",
      "\u001b[1;32m<ipython-input-13-dbd88bf4fb3b>\u001b[0m in \u001b[0;36m<module>\u001b[1;34m()\u001b[0m\n\u001b[1;32m----> 1\u001b[1;33m \u001b[0mp\u001b[0m \u001b[1;33m=\u001b[0m \u001b[0mint\u001b[0m\u001b[1;33m(\u001b[0m\u001b[0minput\u001b[0m\u001b[1;33m(\u001b[0m\u001b[1;34m\"Enter a number \"\u001b[0m\u001b[1;33m)\u001b[0m\u001b[1;33m)\u001b[0m\u001b[1;33m\u001b[0m\u001b[0m\n\u001b[0m",
      "\u001b[1;31mValueError\u001b[0m: invalid literal for int() with base 10: 'Hi'"
     ]
    }
   ],
   "source": [
    "p = int(input(\"Enter a number \"))"
   ]
  },
  {
   "cell_type": "markdown",
   "metadata": {},
   "source": [
    "A ValueError exception was encountered.\n",
    "<br> This is called as runtime exception because it happened during runtime.\n",
    "<br> We weren't aware about what the user would enter when we developed the program.\n",
    "<br> How to handle such exceptions???\n",
    "<br> Yes, exception handling."
   ]
  },
  {
   "cell_type": "code",
   "execution_count": 16,
   "metadata": {},
   "outputs": [
    {
     "name": "stdout",
     "output_type": "stream",
     "text": [
      "Enter a number Hi\n",
      "Please enter valid input\n"
     ]
    }
   ],
   "source": [
    "try:\n",
    "    p = int(input(\"Enter a number \"))\n",
    "except:\n",
    "    print(\"Please enter valid input\")"
   ]
  },
  {
   "cell_type": "markdown",
   "metadata": {},
   "source": [
    "We could put it in a while loop so as to keep prompting the user until he enters valid input"
   ]
  },
  {
   "cell_type": "code",
   "execution_count": 17,
   "metadata": {},
   "outputs": [
    {
     "name": "stdout",
     "output_type": "stream",
     "text": [
      "Enter a number Hi\n",
      "Please enter valid input\n",
      "Enter a number How\n",
      "Please enter valid input\n",
      "Enter a number Are\n",
      "Please enter valid input\n",
      "Enter a number You\n",
      "Please enter valid input\n",
      "Enter a number 5\n"
     ]
    }
   ],
   "source": [
    "while True:\n",
    "    try:\n",
    "        p = int(input(\"Enter a number \"))\n",
    "    except:\n",
    "        print(\"Please enter valid input\")\n",
    "    else:\n",
    "        break"
   ]
  },
  {
   "cell_type": "markdown",
   "metadata": {},
   "source": [
    "The except clause kept on executing when the user had entered Hi, How, Are, You. Then when he had entered 5 which is a valid input, the else clause got executed and the loop got exited. "
   ]
  },
  {
   "cell_type": "markdown",
   "metadata": {},
   "source": [
    "**Enter list of numbers space separated**"
   ]
  },
  {
   "cell_type": "code",
   "execution_count": 22,
   "metadata": {},
   "outputs": [
    {
     "name": "stdout",
     "output_type": "stream",
     "text": [
      "1 2 3 4 5 hey\n",
      "Please enter valid input\n",
      "1 2 3 4 5 6\n",
      "Entered list is [1, 2, 3, 4, 5, 6]\n"
     ]
    }
   ],
   "source": [
    "while True:\n",
    "    try:\n",
    "        l = [int(i) for i in input().split()]   ## List accepting any number of elements\n",
    "        print(\"Entered list is\",l)\n",
    "    except:\n",
    "        print(\"Please enter valid input\")\n",
    "    else:\n",
    "        break"
   ]
  },
  {
   "cell_type": "markdown",
   "metadata": {},
   "source": [
    "Lets look at what happened above step by step:"
   ]
  },
  {
   "cell_type": "code",
   "execution_count": 2,
   "metadata": {},
   "outputs": [
    {
     "name": "stdout",
     "output_type": "stream",
     "text": [
      "Hey, I can go on typing till I press Enter\n"
     ]
    }
   ],
   "source": [
    "s = input()"
   ]
  },
  {
   "cell_type": "code",
   "execution_count": 3,
   "metadata": {},
   "outputs": [
    {
     "name": "stdout",
     "output_type": "stream",
     "text": [
      "Hey, I can go on typing till I press Enter\n"
     ]
    }
   ],
   "source": [
    "print(s)"
   ]
  },
  {
   "cell_type": "code",
   "execution_count": 4,
   "metadata": {},
   "outputs": [
    {
     "data": {
      "text/plain": [
       "['Hey,', 'I', 'can', 'go', 'on', 'typing', 'till', 'I', 'press', 'Enter']"
      ]
     },
     "execution_count": 4,
     "metadata": {},
     "output_type": "execute_result"
    }
   ],
   "source": [
    "s.split()"
   ]
  },
  {
   "cell_type": "code",
   "execution_count": 5,
   "metadata": {},
   "outputs": [
    {
     "data": {
      "text/plain": [
       "['Hey,', 'I', 'can', 'go', 'on', 'typing', 'till', 'I', 'press', 'Enter']"
      ]
     },
     "execution_count": 5,
     "metadata": {},
     "output_type": "execute_result"
    }
   ],
   "source": [
    "[i for i in s.split()]"
   ]
  },
  {
   "cell_type": "markdown",
   "metadata": {},
   "source": [
    "Replace s with input()"
   ]
  },
  {
   "cell_type": "code",
   "execution_count": 6,
   "metadata": {},
   "outputs": [
    {
     "name": "stdout",
     "output_type": "stream",
     "text": [
      "Hey, I can go on typing till I press Enter\n"
     ]
    },
    {
     "data": {
      "text/plain": [
       "['Hey,', 'I', 'can', 'go', 'on', 'typing', 'till', 'I', 'press', 'Enter']"
      ]
     },
     "execution_count": 6,
     "metadata": {},
     "output_type": "execute_result"
    }
   ],
   "source": [
    "[i for i in input().split()]"
   ]
  },
  {
   "cell_type": "markdown",
   "metadata": {},
   "source": [
    "## Output\n",
    "\n",
    "As mentioned above, output is basically done using print() function.\n",
    "\n",
    "### 1. Print using format specifiers\n",
    "\n",
    "%d - Integer\n",
    "<br>%f - float\n",
    "<br>%lf - double\n",
    "<br>%s - string\n",
    "<br>%c - char"
   ]
  },
  {
   "cell_type": "code",
   "execution_count": 15,
   "metadata": {},
   "outputs": [
    {
     "name": "stdout",
     "output_type": "stream",
     "text": [
      "The of the cricket pitch is 22 yards i.e 20.120000 metres\n"
     ]
    }
   ],
   "source": [
    "print(\"The of the cricket pitch is %d yards i.e %lf metres\" % (22, 20.12))"
   ]
  },
  {
   "cell_type": "markdown",
   "metadata": {},
   "source": [
    "As you can see above there are unnecesary zeroes after 20.12.\n",
    "<br> They can be removed as shown below."
   ]
  },
  {
   "cell_type": "code",
   "execution_count": 13,
   "metadata": {},
   "outputs": [
    {
     "name": "stdout",
     "output_type": "stream",
     "text": [
      "The of the cricket pitch is 22 yards i.e 20.12 metres\n"
     ]
    }
   ],
   "source": [
    "print(\"The of the cricket pitch is %d yards i.e %.2f metres\" % (22, 20.12))"
   ]
  },
  {
   "cell_type": "markdown",
   "metadata": {},
   "source": [
    "Here, .2f means 2 digits after decimal point."
   ]
  },
  {
   "cell_type": "code",
   "execution_count": 21,
   "metadata": {},
   "outputs": [
    {
     "name": "stdout",
     "output_type": "stream",
     "text": [
      "Luv and Kush are brothers\n"
     ]
    }
   ],
   "source": [
    "print(\"%s and %s are brothers\"%(\"Luv\", \"Kush\"))"
   ]
  },
  {
   "cell_type": "markdown",
   "metadata": {},
   "source": [
    "Similarly, Luv and Kush are substituted to their respective places in the string.\n",
    "\n",
    "<font color=orange>### IMPORTANT NOTE </font>\n",
    "<br> Parameters will always be substituted in the order they arranged in the tuple.\n",
    "<br> Always use a tuple to mention the parameters not a list or anything else."
   ]
  },
  {
   "cell_type": "markdown",
   "metadata": {},
   "source": [
    "### 2. Print by type casting"
   ]
  },
  {
   "cell_type": "code",
   "execution_count": 23,
   "metadata": {},
   "outputs": [
    {
     "name": "stdout",
     "output_type": "stream",
     "text": [
      "Luv and Kush are brothers\n"
     ]
    }
   ],
   "source": [
    "a = \"Luv\"\n",
    "b = \"Kush\"\n",
    "print( a, \"and\",b ,\"are brothers\")"
   ]
  },
  {
   "cell_type": "markdown",
   "metadata": {},
   "source": [
    "Here there is no type casting required because a and b were already strings. "
   ]
  },
  {
   "cell_type": "code",
   "execution_count": 26,
   "metadata": {},
   "outputs": [
    {
     "name": "stdout",
     "output_type": "stream",
     "text": [
      "The of the cricket pitch is 22 yards i.e 20.12 metres\n"
     ]
    }
   ],
   "source": [
    "a = 22\n",
    "b = 20.12\n",
    "\n",
    "print(\"The of the cricket pitch is\", str(a) ,\"yards i.e\",str(b) ,\"metres\")"
   ]
  },
  {
   "cell_type": "markdown",
   "metadata": {},
   "source": [
    "In this case type casting was required as a is an integer and b is a float or a real number."
   ]
  },
  {
   "cell_type": "markdown",
   "metadata": {},
   "source": [
    "Instead of using a comma, plus can also be used to concatenate"
   ]
  },
  {
   "cell_type": "code",
   "execution_count": 29,
   "metadata": {},
   "outputs": [
    {
     "name": "stdout",
     "output_type": "stream",
     "text": [
      "The of the cricket pitch is 22 yards i.e 20.12 metres\n"
     ]
    }
   ],
   "source": [
    "a = 22\n",
    "b = 20.12\n",
    "\n",
    "print(\"The of the cricket pitch is \"+ str(a) +\" yards i.e \"+str(b) +\" metres\")"
   ]
  },
  {
   "cell_type": "markdown",
   "metadata": {},
   "source": [
    "### 3. Using format() "
   ]
  },
  {
   "cell_type": "code",
   "execution_count": 32,
   "metadata": {},
   "outputs": [
    {
     "name": "stdout",
     "output_type": "stream",
     "text": [
      "The of the cricket pitch is 22 yards i.e 20.12 metres\n"
     ]
    }
   ],
   "source": [
    "print(\"The of the cricket pitch is {0} yards i.e {1} metres\" .format(22, 20.12))"
   ]
  },
  {
   "cell_type": "markdown",
   "metadata": {},
   "source": [
    "format() is a method which can be applied on a string.\n",
    "<br> Working:\n",
    "<br> It substitutes the dictionary keys with the respective values provided.\n",
    "\n",
    "Here, 0 is replaced with 22 as 22 is present on 0th index and 1 is replaced with 20.12 as 20.12 is present on 1st index"
   ]
  },
  {
   "cell_type": "markdown",
   "metadata": {},
   "source": [
    "To make it more understandable"
   ]
  },
  {
   "cell_type": "code",
   "execution_count": 33,
   "metadata": {},
   "outputs": [
    {
     "name": "stdout",
     "output_type": "stream",
     "text": [
      "The of the cricket pitch is 22 yards i.e 20.12 metres\n"
     ]
    }
   ],
   "source": [
    "print(\"The of the cricket pitch is {yards} yards i.e {metres} metres\" .format(yards = 22, metres = 20.12))"
   ]
  },
  {
   "cell_type": "markdown",
   "metadata": {},
   "source": [
    "We can also shuffle the parameters."
   ]
  },
  {
   "cell_type": "code",
   "execution_count": 34,
   "metadata": {},
   "outputs": [
    {
     "name": "stdout",
     "output_type": "stream",
     "text": [
      "The of the cricket pitch is 22 yards i.e 20.12 metres\n"
     ]
    }
   ],
   "source": [
    "print(\"The of the cricket pitch is {yards} yards i.e {metres} metres\" .format(metres = 20.12, yards = 22))"
   ]
  },
  {
   "cell_type": "markdown",
   "metadata": {},
   "source": [
    "# File Handling\n",
    "\n",
    "Python uses file objects to interact with external files on your computer. These file objects can be any sort of file you have on your computer, whether it be an audio file, a text file, emails, Excel documents, etc. Note: You will probably need to install certain libraries or modules to interact with those various file types, but they are easily available.(For eg. csv module to read csv,etc)\n",
    "\n",
    "Python has a built-in open function that allows us to open and play with basic file types. \n",
    "<br> Lets see how to do that"
   ]
  },
  {
   "cell_type": "markdown",
   "metadata": {
    "collapsed": true
   },
   "source": [
    "## Opening a file\n",
    "\n",
    "To open a file we use open() method:\n",
    "\n",
    "open(file, mode='r', buffering=-1, encoding=None, errors=None, newline=None, closefd=True, opener=None)\n",
    "\n",
    "file - name of the file\n",
    "mode can be\n",
    "    > 'r' - reading a file\n",
    "    > 'a' - appending to a file  (previous data in the file is appended by new data)\n",
    "    > 'w' - writing to a file (previous data in the file is overwritten by new data)"
   ]
  },
  {
   "cell_type": "code",
   "execution_count": 45,
   "metadata": {},
   "outputs": [
    {
     "data": {
      "text/plain": [
       "<_io.TextIOWrapper name='myself.txt' mode='r' encoding='cp1252'>"
      ]
     },
     "execution_count": 45,
     "metadata": {},
     "output_type": "execute_result"
    }
   ],
   "source": [
    "f = open(\"myself.txt\")\n",
    "f"
   ]
  },
  {
   "cell_type": "markdown",
   "metadata": {
    "collapsed": true
   },
   "source": [
    "A file object is created"
   ]
  },
  {
   "cell_type": "markdown",
   "metadata": {},
   "source": [
    "## Reading from a file"
   ]
  },
  {
   "cell_type": "code",
   "execution_count": 46,
   "metadata": {},
   "outputs": [
    {
     "name": "stdout",
     "output_type": "stream",
     "text": [
      "I am Amit. I am living in Kandivali East.\n",
      "I am 20 years old. I appeared graduation in B.Tech in 2018.\n",
      "I am a fresher. I don't have any experience.\n",
      "My hobbies are playing cricket and football.\n",
      "I like to play chess.\n",
      "I like to play timed format of chess.\n",
      "I usually play against a machine.\n",
      "My strength is a positive attitude and calm mind.\n"
     ]
    }
   ],
   "source": [
    "print(f.read())"
   ]
  },
  {
   "cell_type": "markdown",
   "metadata": {},
   "source": [
    "Lets look at how read() method works. \n",
    "<br> It will read at most n characters from a file. By default it will read all characters until EOF(End of file)\n",
    "<br> Once, you run the above cell, you will get all contents from the file printed.\n",
    "<br> But when you re-run it, the output would be blank because the file pointer has reached EOF.\n",
    "<br> To have the contents of the file printed again you need to open the file again or you can use seek() method to bring the file pointer to the beginning of the file.\n",
    "\n",
    "**f.seek(cookie, whence=0, /)**\n",
    "* 0 -- start of stream (the default); offset should be zero or positive\n",
    "* 1 -- current stream position; offset may be negative\n",
    "* 2 -- end of stream; offset is usually negative\n",
    "\n",
    "Return the new absolute position."
   ]
  },
  {
   "cell_type": "code",
   "execution_count": 47,
   "metadata": {},
   "outputs": [
    {
     "data": {
      "text/plain": [
       "0"
      ]
     },
     "execution_count": 47,
     "metadata": {},
     "output_type": "execute_result"
    }
   ],
   "source": [
    "f.seek(0)"
   ]
  },
  {
   "cell_type": "code",
   "execution_count": 48,
   "metadata": {},
   "outputs": [
    {
     "name": "stdout",
     "output_type": "stream",
     "text": [
      "I am Amit. I am living in Kandivali East.\n",
      "I am 20 years old. I appeared graduation in B.Tech in 2018.\n",
      "I am a fresher. I don't have any experience.\n",
      "My hobbies are playing cricket and football.\n",
      "I like to play chess.\n",
      "I like to play timed format of chess.\n",
      "I usually play against a machine.\n",
      "My strength is a positive attitude and calm mind.\n"
     ]
    }
   ],
   "source": [
    "print(f.read())"
   ]
  },
  {
   "cell_type": "code",
   "execution_count": 49,
   "metadata": {},
   "outputs": [
    {
     "data": {
      "text/plain": [
       "0"
      ]
     },
     "execution_count": 49,
     "metadata": {},
     "output_type": "execute_result"
    }
   ],
   "source": [
    "f.seek(0,0)"
   ]
  },
  {
   "cell_type": "markdown",
   "metadata": {},
   "source": [
    "f.readlines()\n",
    "<br> This method returns the list of lines in the file."
   ]
  },
  {
   "cell_type": "code",
   "execution_count": 50,
   "metadata": {},
   "outputs": [
    {
     "name": "stdout",
     "output_type": "stream",
     "text": [
      "['I am Amit. I am living in Kandivali East.\\n', 'I am 20 years old. I appeared graduation in B.Tech in 2018.\\n', \"I am a fresher. I don't have any experience.\\n\", 'My hobbies are playing cricket and football.\\n', 'I like to play chess.\\n', 'I like to play timed format of chess.\\n', 'I usually play against a machine.\\n', 'My strength is a positive attitude and calm mind.']\n"
     ]
    }
   ],
   "source": [
    "print(f.readlines())"
   ]
  },
  {
   "cell_type": "markdown",
   "metadata": {},
   "source": [
    "Now that are tasks are complete we will close the file"
   ]
  },
  {
   "cell_type": "code",
   "execution_count": 56,
   "metadata": {
    "collapsed": true
   },
   "outputs": [],
   "source": [
    "f.close()"
   ]
  },
  {
   "cell_type": "markdown",
   "metadata": {},
   "source": [
    "## Appending to a file\n",
    "\n",
    "To append to the file, we need to reopen the file in append mode."
   ]
  },
  {
   "cell_type": "code",
   "execution_count": 57,
   "metadata": {},
   "outputs": [
    {
     "data": {
      "text/plain": [
       "<_io.TextIOWrapper name='myself.txt' mode='a' encoding='cp1252'>"
      ]
     },
     "execution_count": 57,
     "metadata": {},
     "output_type": "execute_result"
    }
   ],
   "source": [
    "f = open(\"myself.txt\", mode= 'a')\n",
    "f"
   ]
  },
  {
   "cell_type": "markdown",
   "metadata": {
    "collapsed": true
   },
   "source": [
    "A file object is created"
   ]
  },
  {
   "cell_type": "code",
   "execution_count": 58,
   "metadata": {},
   "outputs": [
    {
     "data": {
      "text/plain": [
       "38"
      ]
     },
     "execution_count": 58,
     "metadata": {},
     "output_type": "execute_result"
    }
   ],
   "source": [
    "f.write(\"I have keen interest in data science.\\n\")"
   ]
  },
  {
   "cell_type": "markdown",
   "metadata": {},
   "source": [
    "We need to write 2 lines to the file so lets get the file pointer to the end of file."
   ]
  },
  {
   "cell_type": "code",
   "execution_count": 59,
   "metadata": {},
   "outputs": [
    {
     "data": {
      "text/plain": [
       "342"
      ]
     },
     "execution_count": 59,
     "metadata": {},
     "output_type": "execute_result"
    }
   ],
   "source": [
    "f.seek(0,2)"
   ]
  },
  {
   "cell_type": "markdown",
   "metadata": {},
   "source": [
    "f.writelines() is the opposite of f.readlines() it is used to write a list of lines."
   ]
  },
  {
   "cell_type": "code",
   "execution_count": 60,
   "metadata": {
    "collapsed": true
   },
   "outputs": [],
   "source": [
    "f.writelines([\"I have been doing Yoga in the last few months.\\n\",\"My favourite TV show is Friends\\n\"])"
   ]
  },
  {
   "cell_type": "code",
   "execution_count": 61,
   "metadata": {
    "collapsed": true
   },
   "outputs": [],
   "source": [
    "f.close()"
   ]
  },
  {
   "cell_type": "markdown",
   "metadata": {
    "collapsed": true
   },
   "source": [
    "If you don't close the file, changes in the file will not be saved"
   ]
  },
  {
   "cell_type": "code",
   "execution_count": 62,
   "metadata": {},
   "outputs": [
    {
     "name": "stdout",
     "output_type": "stream",
     "text": [
      "I am Shrishela. I am living in Kandivali East,\n",
      "I am 20 years old. I appeared graduation in B.Tech in 2018,\n",
      "I am waiting for my result.\n",
      "I am a fresher. I don't have any experience.\n",
      "My hobbies are playing cricket and football.\n",
      "I like travelling.\n",
      "My strength is a positive attitude and calm mind.\n",
      "\n",
      "I have keen interest in data science.\n",
      "I have been doing Yoga in the last few months\n",
      "My favourite TV show is Friends\n",
      "\n"
     ]
    }
   ],
   "source": [
    "f = open(\"myself.txt\")\n",
    "print(f.read())"
   ]
  },
  {
   "cell_type": "code",
   "execution_count": 65,
   "metadata": {
    "collapsed": true
   },
   "outputs": [],
   "source": [
    "f.close()"
   ]
  },
  {
   "cell_type": "markdown",
   "metadata": {},
   "source": [
    "## Writing to a file"
   ]
  },
  {
   "cell_type": "markdown",
   "metadata": {
    "collapsed": true
   },
   "source": [
    "This part is very similar to append just the only thing that whatever you will write to the file will overwrite the existing content of the file."
   ]
  },
  {
   "cell_type": "code",
   "execution_count": 74,
   "metadata": {},
   "outputs": [
    {
     "data": {
      "text/plain": [
       "<_io.TextIOWrapper name='myself.txt' mode='w' encoding='cp1252'>"
      ]
     },
     "execution_count": 74,
     "metadata": {},
     "output_type": "execute_result"
    }
   ],
   "source": [
    "f = open(\"myself.txt\", \"w\")\n",
    "f"
   ]
  },
  {
   "cell_type": "code",
   "execution_count": 75,
   "metadata": {},
   "outputs": [
    {
     "data": {
      "text/plain": [
       "26"
      ]
     },
     "execution_count": 75,
     "metadata": {},
     "output_type": "execute_result"
    }
   ],
   "source": [
    "f.write(\"New introduction of myself\")"
   ]
  },
  {
   "cell_type": "code",
   "execution_count": 76,
   "metadata": {},
   "outputs": [
    {
     "data": {
      "text/plain": [
       "63"
      ]
     },
     "execution_count": 76,
     "metadata": {},
     "output_type": "execute_result"
    }
   ],
   "source": [
    "f.write(\"\\nWhatever I am writing now has overwritten the previous content\")"
   ]
  },
  {
   "cell_type": "code",
   "execution_count": 77,
   "metadata": {
    "collapsed": true
   },
   "outputs": [],
   "source": [
    "f.close()"
   ]
  },
  {
   "cell_type": "markdown",
   "metadata": {},
   "source": [
    "Lets check"
   ]
  },
  {
   "cell_type": "code",
   "execution_count": 78,
   "metadata": {},
   "outputs": [
    {
     "data": {
      "text/plain": [
       "<_io.TextIOWrapper name='myself.txt' mode='r' encoding='cp1252'>"
      ]
     },
     "execution_count": 78,
     "metadata": {},
     "output_type": "execute_result"
    }
   ],
   "source": [
    "f = open(\"myself.txt\")\n",
    "f"
   ]
  },
  {
   "cell_type": "code",
   "execution_count": 79,
   "metadata": {},
   "outputs": [
    {
     "name": "stdout",
     "output_type": "stream",
     "text": [
      "New introduction of myself\n",
      "Whatever I am writing now has overwritten the previous content\n"
     ]
    }
   ],
   "source": [
    "print(f.read())"
   ]
  },
  {
   "cell_type": "code",
   "execution_count": 80,
   "metadata": {
    "collapsed": true
   },
   "outputs": [],
   "source": [
    "f.close()"
   ]
  },
  {
   "cell_type": "markdown",
   "metadata": {
    "collapsed": true
   },
   "source": [
    "## Closing a file"
   ]
  },
  {
   "cell_type": "markdown",
   "metadata": {
    "collapsed": true
   },
   "source": [
    "We have seen above how do we close a file and also we need to close the file everytime we perform some operation on the file. Its tedious for the programmer to always remember to keep closing the file.\n",
    "<br>Also there is a chance that an exception might occur while opening the file. \n",
    "\n",
    "There is another technique which uses **with** keyword which is safer and better"
   ]
  },
  {
   "cell_type": "code",
   "execution_count": 55,
   "metadata": {},
   "outputs": [
    {
     "name": "stdout",
     "output_type": "stream",
     "text": [
      "I am Amit. I am living in Kandivali East.\n",
      "\n",
      "I am 20 years old. I appeared graduation in B.Tech in 2018.\n",
      "\n",
      "I am a fresher. I don't have any experience.\n",
      "\n",
      "My hobbies are playing cricket and football.\n",
      "\n",
      "I like to play chess.\n",
      "\n",
      "I like to play timed format of chess.\n",
      "\n",
      "I usually play against a machine.\n",
      "\n",
      "My strength is a positive attitude and calm mind.\n"
     ]
    }
   ],
   "source": [
    "with open(\"myself.txt\") as f:\n",
    "    # Another way to read a file\n",
    "    for line in f:\n",
    "        \n",
    "        print(line)\n",
    "    \n",
    "    # Automatic closing of the file at the end of scope"
   ]
  },
  {
   "cell_type": "markdown",
   "metadata": {},
   "source": [
    "At the end of the end of the scope, file is closed automatically."
   ]
  },
  {
   "cell_type": "markdown",
   "metadata": {},
   "source": [
    "You can use this method for reading, appending, writing also."
   ]
  },
  {
   "cell_type": "markdown",
   "metadata": {
    "collapsed": true
   },
   "source": [
    "# Summary\n",
    "\n",
    "Now that you have learnt about various topics which play a very important role in the life of a developer.\n",
    "<br> This chapter is very crucial as these topics play a very important role in developing programs as a data scientist.\n",
    "<br> If you build a strong foundation in these topics you will surely become a great developer.\n",
    "<br> Lets get to hands on practice by solving the assignment.\n",
    "\n",
    "**All the best!!**<t>"
   ]
  }
 ],
 "metadata": {
  "kernelspec": {
   "display_name": "Python 3",
   "language": "python",
   "name": "python3"
  },
  "language_info": {
   "codemirror_mode": {
    "name": "ipython",
    "version": 3
   },
   "file_extension": ".py",
   "mimetype": "text/x-python",
   "name": "python",
   "nbconvert_exporter": "python",
   "pygments_lexer": "ipython3",
   "version": "3.6.1"
  }
 },
 "nbformat": 4,
 "nbformat_minor": 2
}
