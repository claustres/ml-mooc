{
 "cells": [
  {
   "cell_type": "markdown",
   "metadata": {},
   "source": [
    "<img src=\"https://www.digitalvidya.com/wp-content/uploads/2013/05/Digital-Vidya-Website-Logo-HD-2-300x95.png\">"
   ]
  },
  {
   "cell_type": "markdown",
   "metadata": {},
   "source": [
    "# Database\n",
    "\n",
    "### Why should we learn database in Python course?\n",
    "Considering that Python is used for a  variety of tasks, it is very useful to learn on how to work with databases using Python. This will also give an interesting insight on the power of both Python and SQL to work with data and perform some basic data anlysis.\n",
    "\n",
    "### How to query a database?\n",
    "In order to query a database we need to use Structured Query Language (SQL)\n",
    "<br>Sources to learn SQL - MySQL docs (https://dev.mysql.com/doc/refman/8.0/en/)\n",
    "<br>Digital Vidya SQL fundamentals (To be launched by Oct' 18)\n",
    "\n",
    "### Summary about databases:\n",
    "A database is a collection of information that is organized so that it can be easily accessed, managed and updated.\n",
    "\n",
    "Data is organized into rows, columns and tables, and it is indexed to make it easier to find relevant information. Data gets updated, expanded and deleted as new information is added. Databases process workloads to create and update themselves, querying the data they contain and running applications against it.\n",
    "A database is an organized collection of data, stored and accessed electronically. \n",
    "\n",
    "Companies store data in databases of various forms - Structured and unstructured.\n",
    "\n",
    "## Structured way\n",
    "\n",
    "<br> The older Database management systems (DBMS) used tabular way of storing data which is structured way.\n",
    "<br> In order to access data from these databases MySQL is used.\n",
    "\n",
    "![](data:image/png;base64,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)\n",
    "\n",
    "## Unstructured way \n",
    "\n",
    "While in the newer databases, unstructured way of storing data is used. (Key-value pair)\n",
    "```json\n",
    "{\n",
    "\"employee\" : \n",
    "    {\n",
    "    \"userId\":\"rirani\",\n",
    "    \"jobTitleName\":\"Developer\",\n",
    "    \"firstName\":\"Romin\",\n",
    "    \"lastName\":\"Irani\",\n",
    "    \"preferredFullName\":\"Romin Irani\",\n",
    "    \"employeeCode\":\"E1\",\n",
    "    \"region\":\"CA\",\n",
    "    \"phoneNumber\":\"408-1234567\",\n",
    "    \"emailAddress\":\"romin.k.irani@gmail.com\"\n",
    "    }\n",
    "}\n",
    "```\n",
    "\n",
    "In order to access JSON data from database, NoSQL is used.\n",
    "\n",
    "### Terminologies used:\n",
    "\n",
    "Database - consists of many tables\n",
    "<br>Table - consists of many rows and columns\n",
    "<br>varchar(n) - String of n characters.\n",
    "<br>Decimal(n,p) - Floating point number with n digits before decimal point and p digits after decimal point.\n",
    "<br>\\`\\` - It is used to enclose column names so that they would not be confused.\n",
    "For example column name as \"Student Name\". Here there is space between \"Student\" and \"Name\" so we will use \\`Student Name\\`.\n",
    "\n",
    "<font color=orange>### IMPORTANT NOTE </font>\n",
    "<br> SQL is a case insensitive language. You can write in lower case as well as uppercase characters.\n",
    "<br> Obviousy, this doesn't apply for column names."
   ]
  },
  {
   "cell_type": "markdown",
   "metadata": {},
   "source": [
    "## Approach to this tutorial :\n",
    "###  Why MySQL?\n",
    "MySQL is a relational database management system based on SQL – Structured Query Language. \n",
    "\n",
    "The most common use for MySQL is for the purpose of a web database. It can be used to store anything from a single record of information to an entire inventory of available products for an online store.\n",
    "\n",
    "In association with a scripting language such as PHP or Perl or Python it is possible to create websites which will interact in real-time with a MySQL database to rapidly display categorized and searchable information to a website user.\n",
    "\n",
    "MySQL is free to use.\n",
    "\n",
    "We need a MySQL server to use MySQL DB, here we will be making use of localhost.\n",
    "<br> In real time applications, hosting service needs to be purchased where the DB will be hosted."
   ]
  },
  {
   "cell_type": "markdown",
   "metadata": {},
   "source": [
    "### Connection and setting up of MySQL:\n",
    "\n",
    "Download and install MySQL connector\n",
    "<br> For anaconda use command **conda install -c anaconda mysql-connector-python**\n",
    "\n",
    "1. install xampp\n",
    "    https://www.apachefriends.org/download.html\n",
    "    Using this link install the right version of xampp for you operating system\n",
    "    \n",
    "2. After installation start apache and MySQL\n",
    "    ![](https://i.snag.gy/wxzH8p.jpg)\n",
    "    \n",
    "3. Open the browser and type localhost/phpmyadmin\n",
    "\n",
    "    ![](https://i.snag.gy/xMJKjZ.jpg)"
   ]
  },
  {
   "cell_type": "markdown",
   "metadata": {},
   "source": [
    "# Database creation\n",
    "\n",
    "Database cannot be created by writing code.\n",
    "<br>It needs to be manually created in the phpmyadmin console. (http://localhost/phpmyadmin)\n",
    "\n",
    "Keep the default setting during creation of database. Just give it a name that you can remember."
   ]
  },
  {
   "cell_type": "markdown",
   "metadata": {},
   "source": [
    "The module we will be using for using MySQL to access DB is pyMySQL.\n",
    "<br> To install it use https://anaconda.org/anaconda/pyMySQL"
   ]
  },
  {
   "cell_type": "code",
   "execution_count": 46,
   "metadata": {},
   "outputs": [],
   "source": [
    "import pyMySQL.cursors"
   ]
  },
  {
   "cell_type": "code",
   "execution_count": 47,
   "metadata": {},
   "outputs": [],
   "source": [
    "class connection:\n",
    "    \n",
    "    def __init__(self, host, port, user, db):\n",
    "        self.host = host\n",
    "        self.port = port \n",
    "        self.user = user\n",
    "        self.db= db       \n",
    "        \n",
    "    def connect(self):\n",
    "        return pyMySQL.connect(host= self.host,\n",
    "                                 port = self.port, \n",
    "                                 user = self.user,\n",
    "                                 db= self.db)"
   ]
  },
  {
   "cell_type": "code",
   "execution_count": 48,
   "metadata": {},
   "outputs": [],
   "source": [
    "## In all the functions below, this object is passed\n",
    "\n",
    "c = connection('localhost', 3306,  'root', 'dietary composition')"
   ]
  },
  {
   "cell_type": "markdown",
   "metadata": {},
   "source": [
    "We have created a connection class and we will create an object of this class.\n",
    "<br>We have not created a method for connection because we need to pass all the parameters again and again.\n",
    "<br>Instead if we create a class, we can initialise all the parameters once and then we need to call only the connect()\n",
    "method again and again.\n",
    "\n",
    "<font color=orange>### IMPORTANT NOTE </font>\n",
    "<br> Make sure database is already created using phpmyadmin. Name of the database in this case is \"dietary composition\".\n",
    "<br> The data we will be using is dietary composition data, found here : https://ourworldindata.org/diet-compositions\n",
    "<br> All the tables we will create will be using this same database.\n",
    "<br> All the methods demonstrated below accept the connection object, they call the connect() method in the beginning and close the connection in the end.\n",
    "<br> In the assignment you will create similar methods, it is a good practice to follow this technique."
   ]
  },
  {
   "cell_type": "markdown",
   "metadata": {},
   "source": [
    "## execute(connection object, sql query)\n",
    "\n",
    "The below method creates a cursor object.\n",
    "<br>Calls execute() method on the cursor object. (This cursor.execute() method is of cursor class, don't confuse it with our method)\n",
    "<br>**commit() method is called on connection object to save the changes**\n",
    "<br>In the finally block the connection is closed post execution.\n",
    "\n",
    "<font color=orange>### IMPORTANT NOTE </font>\n",
    "<br>In all the methods, try-except structure will be used in order to return to the safe state in case failure of query occurs.\n",
    "\n",
    "The following statement \n",
    "<font color=green>with conn.cursor() as cursor:</font>\n",
    "<br>Ensures that the cursor is revoked in case of any failure and no changes get saved in this case. Thus, commit() is called outside the block.\n",
    "<br> The above statement is similar to the \"with\" statement used in file handling.\n",
    "<br> The purpose is also same. It ensures safety of database, there file."
   ]
  },
  {
   "cell_type": "code",
   "execution_count": 49,
   "metadata": {},
   "outputs": [],
   "source": [
    "def execute(c, sqlQuery):\n",
    "    conn = c.connect()\n",
    "    \n",
    "    try :\n",
    "\n",
    "        with conn.cursor() as cursor:\n",
    "\n",
    "            cursor.execute(sqlQuery)\n",
    "\n",
    "        conn.commit()\n",
    "\n",
    "    finally:\n",
    "        print(\"connection closed\")\n",
    "        conn.close()"
   ]
  },
  {
   "cell_type": "code",
   "execution_count": 24,
   "metadata": {},
   "outputs": [],
   "source": [
    "sql = \"CREATE TABLE dailyCalories(`entity` varchar(32),`code` varchar(32),`year` int,`animalProtein` DECIMAL(8,3),`plantProtein` Decimal(8,3),`fat` Decimal(8,3),`carbohydrates` Decimal(8,3));\""
   ]
  },
  {
   "cell_type": "code",
   "execution_count": 5,
   "metadata": {},
   "outputs": [],
   "source": [
    "execute(c, sql)"
   ]
  },
  {
   "cell_type": "markdown",
   "metadata": {},
   "source": [
    "Here we are executing statement to **create** the table.\n",
    "<br>The datatypes of all variables is explained in Terminologies section used above.\n",
    "<br>For further reference : https://dev.mysql.com/doc/refman/5.5/en/creating-tables.html"
   ]
  },
  {
   "cell_type": "markdown",
   "metadata": {},
   "source": [
    "## execute_with_parameters(connection object, sql query, substitute values, number of rows)\n",
    "\n",
    "This method is similar to execute() method with a small change that we need to pass parameters into the sql query.\n",
    "<br>Let's say we are trying to find the marks of a student. The name of student will be provided by user, so we cannot put the name in the query already. In that case this method is useful.\n",
    "<br>The below method creates a cursor object.\n",
    "<br>Cursor executes the query and passes substitute values.\n",
    "<br>fetchall() is used to fetch all rows of the table.\n",
    "<br>For loop is terminated when required number of rows are printed."
   ]
  },
  {
   "cell_type": "code",
   "execution_count": 50,
   "metadata": {},
   "outputs": [],
   "source": [
    "def execute_with_parameters(c, sql, subtitute_values, numberOfRows = 5):\n",
    "    conn = c.connect()\n",
    "    \n",
    "    try:\n",
    "        with conn.cursor() as cursor:\n",
    "            \n",
    "            cursor.execute(sql, subtitute_values)\n",
    "            rows = cursor.fetchall()\n",
    "\n",
    "            counter = 0\n",
    "            for row in rows:\n",
    "                \n",
    "                counter += 1\n",
    "                \n",
    "                print(row)\n",
    "                \n",
    "                if counter == numberOfRows:\n",
    "                    break\n",
    "                    \n",
    "                # conn is not autocommit by default. So you must commit to save\n",
    "                # your changes.\n",
    "        conn.commit()\n",
    "\n",
    "    finally:\n",
    "        print(\"conn closed\")\n",
    "        conn.close()"
   ]
  },
  {
   "cell_type": "markdown",
   "metadata": {},
   "source": [
    "## showTables(connection object)\n",
    "\n",
    "showTables() method is used to show all the tables in a database\n",
    "<br> It is very similar to the showContents() method below."
   ]
  },
  {
   "cell_type": "code",
   "execution_count": 51,
   "metadata": {
    "scrolled": true
   },
   "outputs": [],
   "source": [
    "def showTables(c):\n",
    "    conn = c.connect()\n",
    "    try:   \n",
    "        with conn.cursor() as cursor:\n",
    "\n",
    "            # SQL query string\n",
    "\n",
    "            sqlQuery   = \"show tables\"   \n",
    "\n",
    "            # Execute the sqlQuery\n",
    "\n",
    "            cursor.execute(sqlQuery)\n",
    "\n",
    "            rows = cursor.fetchall()\n",
    "\n",
    "            for row in rows:\n",
    "\n",
    "                print(row)\n",
    "\n",
    "                # conn is not autocommit by default. So you must commit to save\n",
    "                # your changes.\n",
    "\n",
    "    finally:\n",
    "        print(\"connection closed\")\n",
    "        conn.close()"
   ]
  },
  {
   "cell_type": "code",
   "execution_count": 52,
   "metadata": {},
   "outputs": [
    {
     "name": "stdout",
     "output_type": "stream",
     "text": [
      "('commoditygroup',)\n",
      "('dailycalories',)\n",
      "connection closed\n"
     ]
    }
   ],
   "source": [
    "showTables(c)"
   ]
  },
  {
   "cell_type": "markdown",
   "metadata": {},
   "source": [
    "## convert_column_list(column list)\n",
    "\n",
    "This is in an intermediate method required for forming sql query"
   ]
  },
  {
   "cell_type": "code",
   "execution_count": 53,
   "metadata": {},
   "outputs": [],
   "source": [
    "def convert_column_list(columnlist):\n",
    "    s1 = ','.join(['`'+str(i)+'`' for i in columnlist]) \n",
    "    s2 = ','.join(['%s' for _ in columnlist]) \n",
    "    \n",
    "    return s1,s2"
   ]
  },
  {
   "cell_type": "code",
   "execution_count": 54,
   "metadata": {},
   "outputs": [
    {
     "name": "stdout",
     "output_type": "stream",
     "text": [
      "`entity`,`code`,`year`,`animalProtein`,`plantProtein`,`fat`,`carbohydrates`\n",
      "%s,%s,%s,%s,%s,%s,%s\n"
     ]
    }
   ],
   "source": [
    "columns = ['entity','code','year','animalProtein' , 'plantProtein','fat','carbohydrates']\n",
    "columns,values = convert_column_list(columns)\n",
    "\n",
    "print(columns)\n",
    "print(values)"
   ]
  },
  {
   "cell_type": "markdown",
   "metadata": {},
   "source": [
    "As you can see above, columns is a string with all the column names concatenated with each other and values is another string corresponding to all format specifiers.\n",
    "\n",
    "You will see the use of this method along with insert method below."
   ]
  },
  {
   "cell_type": "markdown",
   "metadata": {},
   "source": [
    "### insert(connection object, table name, columns, values ,subtitute values)\n",
    "\n",
    "This method inserts a row into the table.\n",
    "The input to the table is columns and values received by the above method convert_column_list() and substitute values are the values to substituted."
   ]
  },
  {
   "cell_type": "code",
   "execution_count": 10,
   "metadata": {},
   "outputs": [],
   "source": [
    "def insert(c, tablename, columns, values,subtitute_values):\n",
    "    conn = c.connect()\n",
    "    try:\n",
    "        with conn.cursor() as cursor:\n",
    "            \n",
    "            # SQL query string\n",
    "            sql = \"INSERT INTO `\"+ tablename + \"` (\" + columns + \" ) \" + \" VALUES \" + \"(\" + values + \");\"\n",
    "            cursor.execute(sql, subtitute_values)\n",
    "        conn.commit()\n",
    "\n",
    "    finally:\n",
    "        print(\"conn closed\")\n",
    "        conn.close()"
   ]
  },
  {
   "cell_type": "code",
   "execution_count": 4,
   "metadata": {},
   "outputs": [],
   "source": [
    "columns = ['entity','code','year','animalProtein' , 'plantProtein','fat','carbohydrates']\n",
    "\n",
    "columns,values = convert_column_list(columns)"
   ]
  },
  {
   "cell_type": "markdown",
   "metadata": {},
   "source": [
    "conversion of column names is a one time process.\n",
    "<br> You need to do it once for insertion of any number of rows."
   ]
  },
  {
   "cell_type": "code",
   "execution_count": 95,
   "metadata": {},
   "outputs": [],
   "source": [
    "# Values to be substituted\n",
    "\n",
    "x = ('Afghanistan','AFG',1961,54.12,285.52,337.59,2321.77)"
   ]
  },
  {
   "cell_type": "code",
   "execution_count": null,
   "metadata": {},
   "outputs": [],
   "source": [
    "insert(c,\"dailycalories\",columns,values,x)"
   ]
  },
  {
   "cell_type": "markdown",
   "metadata": {},
   "source": [
    "### showContents(connection object, sql query, number of rows)\n",
    "\n",
    "This method is used to show the contents of a table.\n",
    "<br> By default, 5 rows are printed."
   ]
  },
  {
   "cell_type": "code",
   "execution_count": 55,
   "metadata": {},
   "outputs": [],
   "source": [
    "def showContents(c,sql, numberOfRows = 5):\n",
    "    conn = c.connect()\n",
    "    try:   \n",
    "        with conn.cursor() as cursor: \n",
    "\n",
    "            # Execute the sqlQuery\n",
    "            \n",
    "            cursor.execute(sql)\n",
    "\n",
    "            rows = cursor.fetchall()\n",
    "\n",
    "            counter = 0\n",
    "            for row in rows:\n",
    "                \n",
    "                counter += 1\n",
    "                \n",
    "                print(row)\n",
    "                \n",
    "                if counter == numberOfRows:\n",
    "                    break\n",
    "                    \n",
    "                # conn is not autocommit by default. So you must commit to save\n",
    "                # your changes.\n",
    "\n",
    "    finally:\n",
    "        print(\"conn closed\")\n",
    "        conn.close()"
   ]
  },
  {
   "cell_type": "code",
   "execution_count": 56,
   "metadata": {},
   "outputs": [
    {
     "name": "stdout",
     "output_type": "stream",
     "text": [
      "('Afghanistan', 'AFG', 1961, Decimal('54.120'), Decimal('285.520'), Decimal('337.590'), Decimal('2321.770'))\n",
      "('Afghanistan', 'AFG', 1962, Decimal('53.920'), Decimal('278.000'), Decimal('338.490'), Decimal('2246.590'))\n",
      "('Afghanistan', 'AFG', 1963, Decimal('56.800'), Decimal('251.680'), Decimal('347.130'), Decimal('2042.390'))\n",
      "('Afghanistan', 'AFG', 1964, Decimal('57.320'), Decimal('276.640'), Decimal('350.550'), Decimal('2268.490'))\n",
      "('Afghanistan', 'AFG', 1965, Decimal('59.760'), Decimal('275.680'), Decimal('357.570'), Decimal('2262.990'))\n",
      "conn closed\n"
     ]
    }
   ],
   "source": [
    "sql = \"Select * from dailycalories\"\n",
    "\n",
    "showContents(c, sql)"
   ]
  },
  {
   "cell_type": "markdown",
   "metadata": {},
   "source": [
    "You can see only 5 rows as only 5 rows are printed by showContent() by default, pass the third parameter to see more."
   ]
  },
  {
   "cell_type": "markdown",
   "metadata": {},
   "source": [
    "### csvToDB(connection object, csv name,columns,tablename)\n",
    "\n",
    "This method transfers data from csv to database table.\n",
    "<br> It open the csv file, reads line by line, converts the column names present in the first line of csv.\n",
    "<br> From the second line insertion of values starts.\n",
    "<br> Finally, when the loop ends, number of rows inserted will be printed."
   ]
  },
  {
   "cell_type": "code",
   "execution_count": 13,
   "metadata": {
    "scrolled": true
   },
   "outputs": [],
   "source": [
    "import csv\n",
    "\n",
    "def csvToDB(c,csv_name,columns,tablename):\n",
    "    with open(csv_name) as csv_file:\n",
    "        csv_reader = csv.reader(csv_file, delimiter=',')\n",
    "        columns,values = convert_column_list(columns)\n",
    "        line_count = 0\n",
    "        for row in csv_reader:\n",
    "            if line_count == 0:\n",
    "                print(row)\n",
    "                line_count += 1\n",
    "            else:\n",
    "                conn = c.connect()\n",
    "                insert(conn,tablename,columns,values,row)\n",
    "                line_count += 1\n",
    "        print(f'Inserted {line_count} lines.')"
   ]
  },
  {
   "cell_type": "code",
   "execution_count": null,
   "metadata": {},
   "outputs": [],
   "source": [
    "csvToDB(c, 'daily-caloric-supply-derived-from-carbohydrates-protein-and-fat.csv',columns,'dailycalories')"
   ]
  },
  {
   "cell_type": "code",
   "execution_count": null,
   "metadata": {},
   "outputs": [],
   "source": [
    "# just verifying whether the changes are made to the DB\n",
    "\n",
    "sql = \"Select * from dailycalories;\"\n",
    "\n",
    "showContents(c, sql)"
   ]
  },
  {
   "cell_type": "markdown",
   "metadata": {},
   "source": [
    "Now we are done with insertion of data into the database.\n",
    "<br> Now the most important part is working with data.\n",
    "<br> Crunching the data to get relevant information out of it."
   ]
  },
  {
   "cell_type": "markdown",
   "metadata": {},
   "source": [
    "# Operations on data\n",
    "\n",
    "We will learn about various operations on data :\n",
    "1. LIKE\n",
    "2. AND\n",
    "3. NOT\n",
    "4. IN\n",
    "5. WHERE\n",
    "6. GROUPBY\n",
    "7. ORDERBY"
   ]
  },
  {
   "cell_type": "markdown",
   "metadata": {},
   "source": [
    "## LIKE, AND, NOT, IN and WHERE\n",
    "\n",
    "Like is used to check if there is pattern match.\n",
    "<br> WHERE is same as \"if\" in Python.\n",
    "<br> AND is same as \"and\" in Python, it is used to combine multiple conditions.\n",
    "<br> NOT is same as \"not\" in Python, it is used to negate conditions.\n",
    "<br> IN is same as \"in\" in Python, it is used to check if a variable is present in a list.\n",
    "<br> Lets have a look at the examples"
   ]
  },
  {
   "cell_type": "markdown",
   "metadata": {},
   "source": [
    "### Country entity name starting with A and ending with A"
   ]
  },
  {
   "cell_type": "code",
   "execution_count": 57,
   "metadata": {},
   "outputs": [
    {
     "name": "stdout",
     "output_type": "stream",
     "text": [
      "('Albania', 'ALB', 1961, Decimal('75.480'), Decimal('188.960'), Decimal('403.650'), Decimal('1554.910'))\n",
      "('Albania', 'ALB', 1962, Decimal('74.240'), Decimal('190.240'), Decimal('414.540'), Decimal('1562.980'))\n",
      "('Albania', 'ALB', 1963, Decimal('72.600'), Decimal('185.720'), Decimal('388.260'), Decimal('1509.420'))\n",
      "('Albania', 'ALB', 1964, Decimal('70.720'), Decimal('191.640'), Decimal('434.610'), Decimal('1573.030'))\n",
      "('Albania', 'ALB', 1965, Decimal('71.840'), Decimal('194.680'), Decimal('399.690'), Decimal('1587.790'))\n",
      "('Albania', 'ALB', 1966, Decimal('72.160'), Decimal('187.520'), Decimal('424.530'), Decimal('1569.790'))\n",
      "('Albania', 'ALB', 1967, Decimal('77.560'), Decimal('188.000'), Decimal('425.700'), Decimal('1570.740'))\n",
      "('Albania', 'ALB', 1968, Decimal('73.240'), Decimal('197.640'), Decimal('431.280'), Decimal('1640.840'))\n",
      "('Albania', 'ALB', 1969, Decimal('73.080'), Decimal('202.800'), Decimal('437.940'), Decimal('1690.180'))\n",
      "('Albania', 'ALB', 1970, Decimal('74.240'), Decimal('203.600'), Decimal('468.720'), Decimal('1668.440'))\n",
      "conn closed\n"
     ]
    }
   ],
   "source": [
    "sql = \"SELECT * FROM dailycalories WHERE entity LIKE 'A%A';\"\n",
    "showContents(c, sql, 10)"
   ]
  },
  {
   "cell_type": "markdown",
   "metadata": {},
   "source": [
    "The '%' sign is used to show that there could be any character and any number of characters in place of it. "
   ]
  },
  {
   "cell_type": "markdown",
   "metadata": {},
   "source": [
    "### Country code ending with tan and year more than 2000"
   ]
  },
  {
   "cell_type": "code",
   "execution_count": 58,
   "metadata": {
    "scrolled": true
   },
   "outputs": [
    {
     "name": "stdout",
     "output_type": "stream",
     "text": [
      "('Afghanistan', 'AFG', 2001, Decimal('44.280'), Decimal('154.400'), Decimal('242.640'), Decimal('1295.680'))\n",
      "('Afghanistan', 'AFG', 2002, Decimal('57.040'), Decimal('156.360'), Decimal('269.550'), Decimal('1343.050'))\n",
      "('Afghanistan', 'AFG', 2003, Decimal('52.880'), Decimal('165.280'), Decimal('269.910'), Decimal('1403.930'))\n",
      "('Afghanistan', 'AFG', 2004, Decimal('53.400'), Decimal('167.560'), Decimal('314.550'), Decimal('1431.490'))\n",
      "('Afghanistan', 'AFG', 2005, Decimal('52.080'), Decimal('161.960'), Decimal('330.750'), Decimal('1403.210'))\n",
      "('Afghanistan', 'AFG', 2006, Decimal('45.120'), Decimal('168.720'), Decimal('280.170'), Decimal('1471.990'))\n",
      "('Afghanistan', 'AFG', 2007, Decimal('45.840'), Decimal('178.160'), Decimal('288.810'), Decimal('1533.190'))\n",
      "('Afghanistan', 'AFG', 2008, Decimal('47.200'), Decimal('180.640'), Decimal('267.480'), Decimal('1545.680'))\n",
      "('Afghanistan', 'AFG', 2009, Decimal('46.720'), Decimal('184.440'), Decimal('276.480'), Decimal('1573.360'))\n",
      "('Afghanistan', 'AFG', 2010, Decimal('48.440'), Decimal('184.120'), Decimal('304.920'), Decimal('1566.520'))\n",
      "('Afghanistan', 'AFG', 2011, Decimal('48.720'), Decimal('186.920'), Decimal('297.720'), Decimal('1573.640'))\n",
      "('Afghanistan', 'AFG', 2012, Decimal('49.040'), Decimal('186.600'), Decimal('300.330'), Decimal('1564.030'))\n",
      "('Afghanistan', 'AFG', 2013, Decimal('48.880'), Decimal('184.120'), Decimal('301.680'), Decimal('1555.320'))\n",
      "('Kazakhstan', 'KAZ', 2001, Decimal('157.640'), Decimal('194.840'), Decimal('715.230'), Decimal('1822.290'))\n",
      "('Kazakhstan', 'KAZ', 2002, Decimal('167.960'), Decimal('186.720'), Decimal('762.480'), Decimal('1817.840'))\n",
      "('Kazakhstan', 'KAZ', 2003, Decimal('177.000'), Decimal('187.800'), Decimal('804.600'), Decimal('1803.600'))\n",
      "('Kazakhstan', 'KAZ', 2004, Decimal('179.760'), Decimal('178.600'), Decimal('822.510'), Decimal('1798.130'))\n",
      "('Kazakhstan', 'KAZ', 2005, Decimal('195.360'), Decimal('164.600'), Decimal('954.000'), Decimal('1719.040'))\n",
      "('Kazakhstan', 'KAZ', 2006, Decimal('203.640'), Decimal('166.560'), Decimal('986.400'), Decimal('1716.400'))\n",
      "('Kazakhstan', 'KAZ', 2007, Decimal('207.640'), Decimal('167.000'), Decimal('1052.910'), Decimal('1733.450'))\n",
      "('Kazakhstan', 'KAZ', 2008, Decimal('213.720'), Decimal('165.000'), Decimal('1091.430'), Decimal('1715.850'))\n",
      "('Kazakhstan', 'KAZ', 2009, Decimal('214.120'), Decimal('165.680'), Decimal('1074.060'), Decimal('1699.140'))\n",
      "('Kazakhstan', 'KAZ', 2010, Decimal('224.960'), Decimal('171.000'), Decimal('1028.250'), Decimal('1718.790'))\n",
      "('Kazakhstan', 'KAZ', 2011, Decimal('228.040'), Decimal('157.760'), Decimal('1174.590'), Decimal('1646.610'))\n",
      "('Kazakhstan', 'KAZ', 2012, Decimal('228.320'), Decimal('151.160'), Decimal('1181.790'), Decimal('1625.730'))\n",
      "('Kazakhstan', 'KAZ', 2013, Decimal('228.240'), Decimal('157.400'), Decimal('1210.680'), Decimal('1667.680'))\n",
      "('Kyrgyzstan', 'KGZ', 2001, Decimal('144.920'), Decimal('193.320'), Decimal('455.850'), Decimal('1662.910'))\n",
      "('Kyrgyzstan', 'KGZ', 2002, Decimal('145.960'), Decimal('190.960'), Decimal('469.890'), Decimal('1682.190'))\n",
      "('Kyrgyzstan', 'KGZ', 2003, Decimal('142.320'), Decimal('205.400'), Decimal('481.950'), Decimal('1794.330'))\n",
      "('Kyrgyzstan', 'KGZ', 2004, Decimal('142.520'), Decimal('202.880'), Decimal('515.340'), Decimal('1878.260'))\n",
      "('Kyrgyzstan', 'KGZ', 2005, Decimal('142.440'), Decimal('207.240'), Decimal('514.350'), Decimal('1888.970'))\n",
      "('Kyrgyzstan', 'KGZ', 2006, Decimal('131.240'), Decimal('189.040'), Decimal('526.320'), Decimal('1813.400'))\n",
      "('Kyrgyzstan', 'KGZ', 2007, Decimal('132.680'), Decimal('190.520'), Decimal('553.050'), Decimal('1805.750'))\n",
      "('Kyrgyzstan', 'KGZ', 2008, Decimal('132.880'), Decimal('194.120'), Decimal('576.180'), Decimal('1775.820'))\n",
      "('Kyrgyzstan', 'KGZ', 2009, Decimal('141.000'), Decimal('197.240'), Decimal('566.550'), Decimal('1832.210'))\n",
      "('Kyrgyzstan', 'KGZ', 2010, Decimal('141.920'), Decimal('199.520'), Decimal('591.930'), Decimal('1856.630'))\n",
      "('Kyrgyzstan', 'KGZ', 2011, Decimal('145.880'), Decimal('194.840'), Decimal('581.040'), Decimal('1849.240'))\n",
      "('Kyrgyzstan', 'KGZ', 2012, Decimal('143.440'), Decimal('198.480'), Decimal('601.200'), Decimal('1832.880'))\n",
      "('Kyrgyzstan', 'KGZ', 2013, Decimal('140.160'), Decimal('200.480'), Decimal('610.470'), Decimal('1865.890'))\n",
      "('Pakistan', 'PAK', 2001, Decimal('89.480'), Decimal('147.640'), Decimal('580.050'), Decimal('1494.830'))\n",
      "('Pakistan', 'PAK', 2002, Decimal('90.400'), Decimal('142.440'), Decimal('590.940'), Decimal('1431.220'))\n",
      "('Pakistan', 'PAK', 2003, Decimal('91.360'), Decimal('147.440'), Decimal('612.450'), Decimal('1460.750'))\n",
      "('Pakistan', 'PAK', 2004, Decimal('92.280'), Decimal('144.280'), Decimal('603.270'), Decimal('1500.170'))\n",
      "('Pakistan', 'PAK', 2005, Decimal('92.640'), Decimal('146.640'), Decimal('624.150'), Decimal('1495.570'))\n",
      "('Pakistan', 'PAK', 2006, Decimal('97.880'), Decimal('144.320'), Decimal('640.170'), Decimal('1498.630'))\n",
      "('Pakistan', 'PAK', 2007, Decimal('99.160'), Decimal('150.920'), Decimal('660.780'), Decimal('1509.140'))\n",
      "('Pakistan', 'PAK', 2008, Decimal('100.320'), Decimal('148.760'), Decimal('663.480'), Decimal('1509.440'))\n",
      "('Pakistan', 'PAK', 2009, Decimal('102.000'), Decimal('152.960'), Decimal('657.000'), Decimal('1517.040'))\n",
      "('Pakistan', 'PAK', 2010, Decimal('103.720'), Decimal('149.680'), Decimal('660.420'), Decimal('1518.180'))\n",
      "('Pakistan', 'PAK', 2011, Decimal('105.920'), Decimal('153.160'), Decimal('669.870'), Decimal('1497.050'))\n",
      "conn closed\n"
     ]
    }
   ],
   "source": [
    "sql = \"SELECT * FROM dailycalories WHERE `entity` LIKE '%tan' AND `year`> 2000;\"\n",
    "showContents(c, sql, 50)"
   ]
  },
  {
   "cell_type": "markdown",
   "metadata": {},
   "source": [
    "Here we have made use of AND operation to combine two conditions"
   ]
  },
  {
   "cell_type": "markdown",
   "metadata": {},
   "source": [
    "### Countries with year not greater than 2000"
   ]
  },
  {
   "cell_type": "code",
   "execution_count": 59,
   "metadata": {
    "scrolled": true
   },
   "outputs": [
    {
     "name": "stdout",
     "output_type": "stream",
     "text": [
      "('Afghanistan', 'AFG', 1961, Decimal('54.120'), Decimal('285.520'), Decimal('337.590'), Decimal('2321.770'))\n",
      "('Afghanistan', 'AFG', 1962, Decimal('53.920'), Decimal('278.000'), Decimal('338.490'), Decimal('2246.590'))\n",
      "('Afghanistan', 'AFG', 1963, Decimal('56.800'), Decimal('251.680'), Decimal('347.130'), Decimal('2042.390'))\n",
      "('Afghanistan', 'AFG', 1964, Decimal('57.320'), Decimal('276.640'), Decimal('350.550'), Decimal('2268.490'))\n",
      "('Afghanistan', 'AFG', 1965, Decimal('59.760'), Decimal('275.680'), Decimal('357.570'), Decimal('2262.990'))\n",
      "('Afghanistan', 'AFG', 1966, Decimal('64.440'), Decimal('252.240'), Decimal('359.550'), Decimal('2060.770'))\n",
      "('Afghanistan', 'AFG', 1967, Decimal('67.080'), Decimal('273.920'), Decimal('376.650'), Decimal('2253.350'))\n",
      "('Afghanistan', 'AFG', 1968, Decimal('69.880'), Decimal('266.520'), Decimal('377.910'), Decimal('2203.690'))\n",
      "('Afghanistan', 'AFG', 1969, Decimal('68.760'), Decimal('270.600'), Decimal('373.500'), Decimal('2222.140'))\n",
      "('Afghanistan', 'AFG', 1970, Decimal('61.160'), Decimal('230.120'), Decimal('341.280'), Decimal('1901.440'))\n",
      "('Afghanistan', 'AFG', 1971, Decimal('57.240'), Decimal('233.560'), Decimal('316.620'), Decimal('1904.580'))\n",
      "('Afghanistan', 'AFG', 1972, Decimal('52.840'), Decimal('250.160'), Decimal('311.760'), Decimal('2043.240'))\n",
      "('Afghanistan', 'AFG', 1973, Decimal('55.840'), Decimal('253.680'), Decimal('334.800'), Decimal('2076.680'))\n",
      "('Afghanistan', 'AFG', 1974, Decimal('56.560'), Decimal('251.400'), Decimal('349.290'), Decimal('2055.750'))\n",
      "('Afghanistan', 'AFG', 1975, Decimal('57.040'), Decimal('254.120'), Decimal('359.550'), Decimal('2081.290'))\n",
      "('Afghanistan', 'AFG', 1976, Decimal('60.120'), Decimal('258.800'), Decimal('377.550'), Decimal('2127.530'))\n",
      "('Afghanistan', 'AFG', 1977, Decimal('58.000'), Decimal('226.520'), Decimal('345.600'), Decimal('1858.880'))\n",
      "('Afghanistan', 'AFG', 1978, Decimal('58.400'), Decimal('240.240'), Decimal('346.680'), Decimal('1975.680'))\n",
      "('Afghanistan', 'AFG', 1979, Decimal('58.600'), Decimal('237.800'), Decimal('360.090'), Decimal('1964.510'))\n",
      "('Afghanistan', 'AFG', 1980, Decimal('60.360'), Decimal('222.320'), Decimal('360.450'), Decimal('1834.870'))\n",
      "('Afghanistan', 'AFG', 1981, Decimal('63.360'), Decimal('220.520'), Decimal('388.530'), Decimal('1811.590'))\n",
      "('Afghanistan', 'AFG', 1982, Decimal('65.160'), Decimal('217.160'), Decimal('407.160'), Decimal('1790.520'))\n",
      "('Afghanistan', 'AFG', 1983, Decimal('67.080'), Decimal('218.600'), Decimal('416.250'), Decimal('1822.070'))\n",
      "('Afghanistan', 'AFG', 1984, Decimal('66.400'), Decimal('211.560'), Decimal('412.470'), Decimal('1761.570'))\n",
      "('Afghanistan', 'AFG', 1985, Decimal('59.760'), Decimal('208.520'), Decimal('412.830'), Decimal('1721.890'))\n",
      "('Afghanistan', 'AFG', 1986, Decimal('51.400'), Decimal('208.080'), Decimal('423.270'), Decimal('1714.250'))\n",
      "('Afghanistan', 'AFG', 1987, Decimal('56.200'), Decimal('249.440'), Decimal('372.690'), Decimal('2048.670'))\n",
      "('Afghanistan', 'AFG', 1988, Decimal('58.640'), Decimal('223.080'), Decimal('388.890'), Decimal('1847.390'))\n",
      "('Afghanistan', 'AFG', 1989, Decimal('59.840'), Decimal('211.760'), Decimal('460.080'), Decimal('1730.320'))\n",
      "('Afghanistan', 'AFG', 1990, Decimal('67.800'), Decimal('197.080'), Decimal('435.600'), Decimal('1613.520'))\n",
      "('Afghanistan', 'AFG', 1991, Decimal('64.960'), Decimal('173.680'), Decimal('370.080'), Decimal('1435.280'))\n",
      "('Afghanistan', 'AFG', 1992, Decimal('59.760'), Decimal('159.120'), Decimal('342.990'), Decimal('1329.130'))\n",
      "('Afghanistan', 'AFG', 1993, Decimal('58.440'), Decimal('168.880'), Decimal('297.720'), Decimal('1384.960'))\n",
      "('Afghanistan', 'AFG', 1994, Decimal('60.040'), Decimal('159.320'), Decimal('286.920'), Decimal('1313.720'))\n",
      "('Afghanistan', 'AFG', 1995, Decimal('60.640'), Decimal('151.200'), Decimal('365.940'), Decimal('1266.220'))\n",
      "('Afghanistan', 'AFG', 1996, Decimal('64.040'), Decimal('152.960'), Decimal('349.740'), Decimal('1276.260'))\n",
      "('Afghanistan', 'AFG', 1997, Decimal('67.880'), Decimal('159.400'), Decimal('308.160'), Decimal('1338.560'))\n",
      "('Afghanistan', 'AFG', 1998, Decimal('70.840'), Decimal('160.280'), Decimal('320.130'), Decimal('1351.750'))\n",
      "('Afghanistan', 'AFG', 1999, Decimal('72.560'), Decimal('151.920'), Decimal('342.180'), Decimal('1285.340'))\n",
      "('Albania', 'ALB', 1961, Decimal('75.480'), Decimal('188.960'), Decimal('403.650'), Decimal('1554.910'))\n",
      "('Albania', 'ALB', 1962, Decimal('74.240'), Decimal('190.240'), Decimal('414.540'), Decimal('1562.980'))\n",
      "('Albania', 'ALB', 1963, Decimal('72.600'), Decimal('185.720'), Decimal('388.260'), Decimal('1509.420'))\n",
      "('Albania', 'ALB', 1964, Decimal('70.720'), Decimal('191.640'), Decimal('434.610'), Decimal('1573.030'))\n",
      "('Albania', 'ALB', 1965, Decimal('71.840'), Decimal('194.680'), Decimal('399.690'), Decimal('1587.790'))\n",
      "('Albania', 'ALB', 1966, Decimal('72.160'), Decimal('187.520'), Decimal('424.530'), Decimal('1569.790'))\n",
      "('Albania', 'ALB', 1967, Decimal('77.560'), Decimal('188.000'), Decimal('425.700'), Decimal('1570.740'))\n",
      "('Albania', 'ALB', 1968, Decimal('73.240'), Decimal('197.640'), Decimal('431.280'), Decimal('1640.840'))\n",
      "('Albania', 'ALB', 1969, Decimal('73.080'), Decimal('202.800'), Decimal('437.940'), Decimal('1690.180'))\n",
      "('Albania', 'ALB', 1970, Decimal('74.240'), Decimal('203.600'), Decimal('468.720'), Decimal('1668.440'))\n",
      "('Albania', 'ALB', 1971, Decimal('77.320'), Decimal('199.320'), Decimal('439.650'), Decimal('1643.710'))\n",
      "conn closed\n"
     ]
    }
   ],
   "source": [
    "sql = \"SELECT * FROM dailycalories WHERE `year` NOT LIKE '20%';\"\n",
    "showContents(c, sql, 50)"
   ]
  },
  {
   "cell_type": "markdown",
   "metadata": {},
   "source": [
    "**Another solution**"
   ]
  },
  {
   "cell_type": "code",
   "execution_count": 60,
   "metadata": {
    "scrolled": true
   },
   "outputs": [
    {
     "name": "stdout",
     "output_type": "stream",
     "text": [
      "('Afghanistan', 'AFG', 1961, Decimal('54.120'), Decimal('285.520'), Decimal('337.590'), Decimal('2321.770'))\n",
      "('Afghanistan', 'AFG', 1962, Decimal('53.920'), Decimal('278.000'), Decimal('338.490'), Decimal('2246.590'))\n",
      "('Afghanistan', 'AFG', 1963, Decimal('56.800'), Decimal('251.680'), Decimal('347.130'), Decimal('2042.390'))\n",
      "('Afghanistan', 'AFG', 1964, Decimal('57.320'), Decimal('276.640'), Decimal('350.550'), Decimal('2268.490'))\n",
      "('Afghanistan', 'AFG', 1965, Decimal('59.760'), Decimal('275.680'), Decimal('357.570'), Decimal('2262.990'))\n",
      "('Afghanistan', 'AFG', 1966, Decimal('64.440'), Decimal('252.240'), Decimal('359.550'), Decimal('2060.770'))\n",
      "('Afghanistan', 'AFG', 1967, Decimal('67.080'), Decimal('273.920'), Decimal('376.650'), Decimal('2253.350'))\n",
      "('Afghanistan', 'AFG', 1968, Decimal('69.880'), Decimal('266.520'), Decimal('377.910'), Decimal('2203.690'))\n",
      "('Afghanistan', 'AFG', 1969, Decimal('68.760'), Decimal('270.600'), Decimal('373.500'), Decimal('2222.140'))\n",
      "('Afghanistan', 'AFG', 1970, Decimal('61.160'), Decimal('230.120'), Decimal('341.280'), Decimal('1901.440'))\n",
      "('Afghanistan', 'AFG', 1971, Decimal('57.240'), Decimal('233.560'), Decimal('316.620'), Decimal('1904.580'))\n",
      "('Afghanistan', 'AFG', 1972, Decimal('52.840'), Decimal('250.160'), Decimal('311.760'), Decimal('2043.240'))\n",
      "('Afghanistan', 'AFG', 1973, Decimal('55.840'), Decimal('253.680'), Decimal('334.800'), Decimal('2076.680'))\n",
      "('Afghanistan', 'AFG', 1974, Decimal('56.560'), Decimal('251.400'), Decimal('349.290'), Decimal('2055.750'))\n",
      "('Afghanistan', 'AFG', 1975, Decimal('57.040'), Decimal('254.120'), Decimal('359.550'), Decimal('2081.290'))\n",
      "('Afghanistan', 'AFG', 1976, Decimal('60.120'), Decimal('258.800'), Decimal('377.550'), Decimal('2127.530'))\n",
      "('Afghanistan', 'AFG', 1977, Decimal('58.000'), Decimal('226.520'), Decimal('345.600'), Decimal('1858.880'))\n",
      "('Afghanistan', 'AFG', 1978, Decimal('58.400'), Decimal('240.240'), Decimal('346.680'), Decimal('1975.680'))\n",
      "('Afghanistan', 'AFG', 1979, Decimal('58.600'), Decimal('237.800'), Decimal('360.090'), Decimal('1964.510'))\n",
      "('Afghanistan', 'AFG', 1980, Decimal('60.360'), Decimal('222.320'), Decimal('360.450'), Decimal('1834.870'))\n",
      "('Afghanistan', 'AFG', 1981, Decimal('63.360'), Decimal('220.520'), Decimal('388.530'), Decimal('1811.590'))\n",
      "('Afghanistan', 'AFG', 1982, Decimal('65.160'), Decimal('217.160'), Decimal('407.160'), Decimal('1790.520'))\n",
      "('Afghanistan', 'AFG', 1983, Decimal('67.080'), Decimal('218.600'), Decimal('416.250'), Decimal('1822.070'))\n",
      "('Afghanistan', 'AFG', 1984, Decimal('66.400'), Decimal('211.560'), Decimal('412.470'), Decimal('1761.570'))\n",
      "('Afghanistan', 'AFG', 1985, Decimal('59.760'), Decimal('208.520'), Decimal('412.830'), Decimal('1721.890'))\n",
      "('Afghanistan', 'AFG', 1986, Decimal('51.400'), Decimal('208.080'), Decimal('423.270'), Decimal('1714.250'))\n",
      "('Afghanistan', 'AFG', 1987, Decimal('56.200'), Decimal('249.440'), Decimal('372.690'), Decimal('2048.670'))\n",
      "('Afghanistan', 'AFG', 1988, Decimal('58.640'), Decimal('223.080'), Decimal('388.890'), Decimal('1847.390'))\n",
      "('Afghanistan', 'AFG', 1989, Decimal('59.840'), Decimal('211.760'), Decimal('460.080'), Decimal('1730.320'))\n",
      "('Afghanistan', 'AFG', 1990, Decimal('67.800'), Decimal('197.080'), Decimal('435.600'), Decimal('1613.520'))\n",
      "('Afghanistan', 'AFG', 1991, Decimal('64.960'), Decimal('173.680'), Decimal('370.080'), Decimal('1435.280'))\n",
      "('Afghanistan', 'AFG', 1992, Decimal('59.760'), Decimal('159.120'), Decimal('342.990'), Decimal('1329.130'))\n",
      "('Afghanistan', 'AFG', 1993, Decimal('58.440'), Decimal('168.880'), Decimal('297.720'), Decimal('1384.960'))\n",
      "('Afghanistan', 'AFG', 1994, Decimal('60.040'), Decimal('159.320'), Decimal('286.920'), Decimal('1313.720'))\n",
      "('Afghanistan', 'AFG', 1995, Decimal('60.640'), Decimal('151.200'), Decimal('365.940'), Decimal('1266.220'))\n",
      "('Afghanistan', 'AFG', 1996, Decimal('64.040'), Decimal('152.960'), Decimal('349.740'), Decimal('1276.260'))\n",
      "('Afghanistan', 'AFG', 1997, Decimal('67.880'), Decimal('159.400'), Decimal('308.160'), Decimal('1338.560'))\n",
      "('Afghanistan', 'AFG', 1998, Decimal('70.840'), Decimal('160.280'), Decimal('320.130'), Decimal('1351.750'))\n",
      "('Afghanistan', 'AFG', 1999, Decimal('72.560'), Decimal('151.920'), Decimal('342.180'), Decimal('1285.340'))\n",
      "('Afghanistan', 'AFG', 2000, Decimal('59.200'), Decimal('151.080'), Decimal('289.260'), Decimal('1290.460'))\n",
      "('Albania', 'ALB', 1961, Decimal('75.480'), Decimal('188.960'), Decimal('403.650'), Decimal('1554.910'))\n",
      "('Albania', 'ALB', 1962, Decimal('74.240'), Decimal('190.240'), Decimal('414.540'), Decimal('1562.980'))\n",
      "('Albania', 'ALB', 1963, Decimal('72.600'), Decimal('185.720'), Decimal('388.260'), Decimal('1509.420'))\n",
      "('Albania', 'ALB', 1964, Decimal('70.720'), Decimal('191.640'), Decimal('434.610'), Decimal('1573.030'))\n",
      "('Albania', 'ALB', 1965, Decimal('71.840'), Decimal('194.680'), Decimal('399.690'), Decimal('1587.790'))\n",
      "('Albania', 'ALB', 1966, Decimal('72.160'), Decimal('187.520'), Decimal('424.530'), Decimal('1569.790'))\n",
      "('Albania', 'ALB', 1967, Decimal('77.560'), Decimal('188.000'), Decimal('425.700'), Decimal('1570.740'))\n",
      "('Albania', 'ALB', 1968, Decimal('73.240'), Decimal('197.640'), Decimal('431.280'), Decimal('1640.840'))\n",
      "('Albania', 'ALB', 1969, Decimal('73.080'), Decimal('202.800'), Decimal('437.940'), Decimal('1690.180'))\n",
      "('Albania', 'ALB', 1970, Decimal('74.240'), Decimal('203.600'), Decimal('468.720'), Decimal('1668.440'))\n",
      "conn closed\n"
     ]
    }
   ],
   "source": [
    "sql = \"SELECT * FROM dailycalories WHERE `year`<= 2000;\"\n",
    "showContents(c, sql, 50)"
   ]
  },
  {
   "cell_type": "markdown",
   "metadata": {},
   "source": [
    "### Daily calorie details of year 1961 of India?"
   ]
  },
  {
   "cell_type": "code",
   "execution_count": 18,
   "metadata": {},
   "outputs": [],
   "source": [
    "sql = '''SELECT *\n",
    "        FROM `dailycalories`AS A\n",
    "        WHERE A.`year` = 1961 AND A.`entity` = \"INDIA\" '''"
   ]
  },
  {
   "cell_type": "code",
   "execution_count": 19,
   "metadata": {},
   "outputs": [
    {
     "name": "stdout",
     "output_type": "stream",
     "text": [
      "('India', 'IND', 1961, Decimal('24.400'), Decimal('183.880'), Decimal('277.200'), Decimal('1524.520'))\n",
      "conn closed\n"
     ]
    }
   ],
   "source": [
    "showContents(c, sql)"
   ]
  },
  {
   "cell_type": "markdown",
   "metadata": {},
   "source": [
    "Here you can see the usage of operator AS, this operator is used to assign as name to another variable.\n",
    "<br> Like the table name dailycalories is long so we used A instead.\n",
    "\n",
    "**But why use variable instead when we can write \\`year\\`, \\`entity\\` directly??**\n",
    "<br> When we deal with multiple tables with same column names it is necessary to reference them else conflict would occur.\n",
    "<br> We will see below about joining of tables, there this concept would be more clear."
   ]
  },
  {
   "cell_type": "markdown",
   "metadata": {},
   "source": [
    "### Plant protein and animal protein consumption of SAARC countries (Afghanistan,Bangladesh,Bhutan,India,Maldives,Nepal,Pakistan,Sri Lanka) in 1997 ?"
   ]
  },
  {
   "cell_type": "code",
   "execution_count": 61,
   "metadata": {},
   "outputs": [],
   "source": [
    "saarc = ['Afghanistan','Bangladesh','Bhutan','India','Maldives','Nepal','Pakistan','Sri Lanka']"
   ]
  },
  {
   "cell_type": "code",
   "execution_count": 62,
   "metadata": {},
   "outputs": [],
   "source": [
    "columns,values = convert_column_list(saarc)"
   ]
  },
  {
   "cell_type": "code",
   "execution_count": 63,
   "metadata": {},
   "outputs": [
    {
     "name": "stdout",
     "output_type": "stream",
     "text": [
      "('Nepal', Decimal('194.720'), Decimal('36.160'))\n",
      "('India', Decimal('186.320'), Decimal('38.640'))\n",
      "('Afghanistan', Decimal('159.400'), Decimal('67.880'))\n",
      "('Pakistan', Decimal('158.400'), Decimal('89.480'))\n",
      "('Bangladesh', Decimal('154.600'), Decimal('24.680'))\n",
      "('Sri Lanka', Decimal('153.800'), Decimal('53.640'))\n",
      "('Maldives', Decimal('122.920'), Decimal('234.720'))\n",
      "conn closed\n"
     ]
    }
   ],
   "source": [
    "sql = \"SELECT `entity`,`plantProtein`, `animalProtein` FROM dailycalories WHERE year = 1997 AND `entity` IN \" + '(' + values + \")\" + \" ORDER BY plantProtein DESC, animalProtein\"\n",
    "print(sql)\n",
    "execute_with_parameters(c,sql, saarc, 10)"
   ]
  },
  {
   "cell_type": "markdown",
   "metadata": {},
   "source": [
    "## Orderby\n",
    "\n",
    "Orderby as the name suggests is used to order the data based on the instructions given.\n",
    "<br> If its ORDER BY columname DESC then the data would be sorted descending order based on the data of that particular column.\n",
    "<br> Its by default ascending."
   ]
  },
  {
   "cell_type": "markdown",
   "metadata": {},
   "source": [
    "### Top 5 fat consumption by which country during 1997 "
   ]
  },
  {
   "cell_type": "code",
   "execution_count": 23,
   "metadata": {},
   "outputs": [],
   "source": [
    "sql = \"SELECT `entity`,`plantProtein`, `animalProtein` FROM dailycalories WHERE year = 1997 ORDER BY plantProtein DESC, animalProtein \""
   ]
  },
  {
   "cell_type": "code",
   "execution_count": 24,
   "metadata": {
    "scrolled": true
   },
   "outputs": [
    {
     "name": "stdout",
     "output_type": "stream",
     "text": [
      "Country  Plant protein  Animal protein\n",
      "('Egypt', Decimal('306.400'), Decimal('65.400'))\n",
      "('Turkey', Decimal('300.440'), Decimal('108.320'))\n",
      "('Bosnia and Herzegovina', Decimal('271.480'), Decimal('88.480'))\n",
      "('Morocco', Decimal('269.960'), Decimal('62.040'))\n",
      "('Tunisia', Decimal('265.400'), Decimal('85.120'))\n",
      "('Iran', Decimal('258.440'), Decimal('76.120'))\n",
      "('Lebanon', Decimal('241.600'), Decimal('145.080'))\n",
      "('Lesotho', Decimal('229.880'), Decimal('36.040'))\n",
      "('Burkina Faso', Decimal('227.880'), Decimal('40.440'))\n",
      "('Algeria', Decimal('224.560'), Decimal('67.360'))\n",
      "('Lithuania', Decimal('224.560'), Decimal('163.120'))\n",
      "('China', Decimal('221.560'), Decimal('96.040'))\n",
      "('Kazakhstan', Decimal('217.200'), Decimal('149.400'))\n",
      "('Romania', Decimal('217.160'), Decimal('165.400'))\n",
      "('Israel', Decimal('215.360'), Decimal('242.840'))\n",
      "('Kyrgyzstan', Decimal('213.480'), Decimal('134.120'))\n",
      "('United Arab Emirates', Decimal('211.520'), Decimal('204.120'))\n",
      "('Albania', Decimal('210.680'), Decimal('145.440'))\n",
      "('Greece', Decimal('210.320'), Decimal('243.200'))\n",
      "('Saudi Arabia', Decimal('210.280'), Decimal('118.240'))\n",
      "('Georgia', Decimal('209.840'), Decimal('99.560'))\n",
      "('North Korea', Decimal('208.360'), Decimal('26.800'))\n",
      "('Italy', Decimal('203.880'), Decimal('236.560'))\n",
      "('Nigeria', Decimal('203.120'), Decimal('27.760'))\n",
      "('Mali', Decimal('199.480'), Decimal('67.360'))\n",
      "('Malta', Decimal('199.480'), Decimal('231.600'))\n",
      "('South Korea', Decimal('198.760'), Decimal('140.920'))\n",
      "('Taiwan', Decimal('197.800'), Decimal('191.960'))\n",
      "('Jordan', Decimal('196.720'), Decimal('87.160'))\n",
      "('Poland', Decimal('196.400'), Decimal('192.080'))\n",
      "('Turkmenistan', Decimal('196.240'), Decimal('98.000'))\n",
      "('Mexico', Decimal('195.800'), Decimal('129.800'))\n",
      "('Nepal', Decimal('194.720'), Decimal('36.160'))\n",
      "('Macedonia', Decimal('194.080'), Decimal('92.880'))\n",
      "('Malawi', Decimal('194.040'), Decimal('17.440'))\n",
      "('Kuwait', Decimal('194.040'), Decimal('216.000'))\n",
      "('South Africa', Decimal('190.800'), Decimal('101.120'))\n",
      "('Armenia', Decimal('188.320'), Decimal('71.240'))\n",
      "('Ukraine', Decimal('187.600'), Decimal('134.600'))\n",
      "('Uzbekistan', Decimal('187.000'), Decimal('104.680'))\n",
      "('India', Decimal('186.320'), Decimal('38.640'))\n",
      "('Yemen', Decimal('182.920'), Decimal('36.080'))\n",
      "('Chad', Decimal('182.280'), Decimal('49.360'))\n",
      "('Mauritania', Decimal('182.160'), Decimal('117.360'))\n",
      "('Benin', Decimal('180.360'), Decimal('31.800'))\n",
      "('Togo', Decimal('179.480'), Decimal('34.240'))\n",
      "('Sudan (former)', Decimal('178.480'), Decimal('98.440'))\n",
      "('Russia', Decimal('178.440'), Decimal('176.600'))\n",
      "('Belarus', Decimal('178.080'), Decimal('204.600'))\n",
      "('Canada', Decimal('178.080'), Decimal('224.080'))\n",
      "conn closed\n"
     ]
    }
   ],
   "source": [
    "print(\"Country  Plant protein  Animal protein\")\n",
    "showContents(c, sql,50)"
   ]
  },
  {
   "cell_type": "markdown",
   "metadata": {},
   "source": [
    "## Groupby\n",
    "\n",
    "Group by is used to group by certain column or set of columns and calculate average, mean, standard deviation, etc.\n",
    "<br> Groupby can also be used along with orderby to order values for a particular group."
   ]
  },
  {
   "cell_type": "markdown",
   "metadata": {},
   "source": [
    "### Calculate average fat consumption for each country."
   ]
  },
  {
   "cell_type": "code",
   "execution_count": 28,
   "metadata": {},
   "outputs": [],
   "source": [
    "sql = \"SELECT `entity`, AVG(`fat`) FROM dailycalories GROUP BY `entity`\""
   ]
  },
  {
   "cell_type": "code",
   "execution_count": 31,
   "metadata": {
    "scrolled": true
   },
   "outputs": [
    {
     "name": "stdout",
     "output_type": "stream",
     "text": [
      "('Afghanistan', Decimal('342.6130189'))\n",
      "('Albania', Decimal('606.8886792'))\n",
      "('Algeria', Decimal('494.8132075'))\n",
      "('Angola', Decimal('354.9854717'))\n",
      "('Antigua and Barbuda', Decimal('669.2943396'))\n",
      "conn closed\n"
     ]
    }
   ],
   "source": [
    "showContents(c, sql)"
   ]
  },
  {
   "cell_type": "markdown",
   "metadata": {},
   "source": [
    "## Groupby and orderby\n",
    "\n",
    "### For each country what is the maximum fat consumption?"
   ]
  },
  {
   "cell_type": "code",
   "execution_count": 36,
   "metadata": {},
   "outputs": [],
   "source": [
    "sql = \"SELECT `entity`,`fat` FROM dailycalories GROUP BY `entity` ORDER BY fat DESC LIMIT 5\""
   ]
  },
  {
   "cell_type": "code",
   "execution_count": 37,
   "metadata": {},
   "outputs": [
    {
     "name": "stdout",
     "output_type": "stream",
     "text": [
      "('Luxembourg', Decimal('1300.680'))\n",
      "('Iceland', Decimal('1249.470'))\n",
      "('Denmark', Decimal('1226.250'))\n",
      "('United Kingdom', Decimal('1223.820'))\n",
      "('Switzerland', Decimal('1204.380'))\n",
      "conn closed\n"
     ]
    }
   ],
   "source": [
    "showContents(c, sql)"
   ]
  },
  {
   "cell_type": "markdown",
   "metadata": {},
   "source": [
    "# Load another dataset\n",
    "\n",
    "Now we will load another csv into database. We will use the csvToDB function for this."
   ]
  },
  {
   "cell_type": "markdown",
   "metadata": {},
   "source": [
    "### Creating new table commodity group"
   ]
  },
  {
   "cell_type": "code",
   "execution_count": 22,
   "metadata": {},
   "outputs": [],
   "source": [
    "sql = \"CREATE TABLE commodityGroup(`Entity` varchar(32),`Code` varchar(32),`Year` int,`Other` int,`Sugar` int,`Oils & Fats` int,`Meat` int,`Dairy & Eggs` int,`Fruits & Vegetables` int,`Starchy Roots` int,`Pulses` int,`Cereals & Grains` int,`Alcoholic Beverages` DECIMAL(8,3))\""
   ]
  },
  {
   "cell_type": "code",
   "execution_count": 24,
   "metadata": {},
   "outputs": [
    {
     "name": "stdout",
     "output_type": "stream",
     "text": [
      "Connection closed\n"
     ]
    }
   ],
   "source": [
    "execute(c,sql)"
   ]
  },
  {
   "cell_type": "markdown",
   "metadata": {},
   "source": [
    "### Load data from csv to db"
   ]
  },
  {
   "cell_type": "code",
   "execution_count": 121,
   "metadata": {},
   "outputs": [],
   "source": [
    "columns = ['entity','code','year','other','sugar' , 'Oils & Fats','meat','dairy & eggs','fruits & vegetables', \n",
    "           'starchy roots','pulses','cereals & grains', 'alcoholic beverages']"
   ]
  },
  {
   "cell_type": "code",
   "execution_count": null,
   "metadata": {},
   "outputs": [],
   "source": [
    "csvToDB(c,'dietary-compositions-by-commodity-group-1961-2013.csv',columns, 'commoditygroup')"
   ]
  },
  {
   "cell_type": "code",
   "execution_count": 38,
   "metadata": {},
   "outputs": [
    {
     "name": "stdout",
     "output_type": "stream",
     "text": [
      "('Afghanistan', 'AFG', 1961, 13, 51, 92, 88, 102, 82, 25, 16, 2530, Decimal('0.000'))\n",
      "('Afghanistan', 'AFG', 1961, 13, 51, 92, 88, 102, 82, 25, 16, 2530, Decimal('0.000'))\n",
      "('Afghanistan', 'AFG', 1961, 13, 51, 92, 88, 102, 82, 25, 16, 2530, Decimal('0.000'))\n",
      "('Afghanistan', 'AFG', 1962, 12, 45, 98, 88, 101, 76, 22, 17, 2458, Decimal('0.000'))\n",
      "('Afghanistan', 'AFG', 1963, 13, 47, 106, 91, 110, 79, 23, 17, 2212, Decimal('0.000'))\n",
      "conn closed\n"
     ]
    }
   ],
   "source": [
    "sql = \"Select * from commoditygroup\"\n",
    "\n",
    "showContents(c, sql)"
   ]
  },
  {
   "cell_type": "markdown",
   "metadata": {},
   "source": [
    "### Daily calories of INDIA between 1960 to 1970"
   ]
  },
  {
   "cell_type": "code",
   "execution_count": 44,
   "metadata": {
    "scrolled": true
   },
   "outputs": [
    {
     "name": "stdout",
     "output_type": "stream",
     "text": [
      "('India', 'IND', 1961, 12, 193, 154, 19, 69, 55, 23, 217, 1265, Decimal('3.000'))\n",
      "('India', 'IND', 1962, 10, 185, 160, 19, 68, 56, 20, 193, 1338, Decimal('3.000'))\n",
      "('India', 'IND', 1963, 15, 182, 155, 19, 67, 56, 21, 186, 1269, Decimal('3.000'))\n",
      "('India', 'IND', 1964, 12, 185, 152, 20, 65, 56, 23, 163, 1316, Decimal('3.000'))\n",
      "('India', 'IND', 1965, 11, 195, 155, 20, 60, 59, 27, 188, 1213, Decimal('3.000'))\n",
      "('India', 'IND', 1966, 14, 192, 149, 20, 62, 59, 29, 148, 1263, Decimal('3.000'))\n",
      "('India', 'IND', 1967, 13, 170, 149, 19, 58, 60, 30, 128, 1361, Decimal('3.000'))\n",
      "('India', 'IND', 1968, 9, 161, 149, 20, 64, 59, 36, 174, 1335, Decimal('3.000'))\n",
      "('India', 'IND', 1969, 12, 184, 150, 20, 66, 59, 38, 150, 1353, Decimal('4.000'))\n",
      "('India', 'IND', 1970, 12, 196, 154, 20, 60, 59, 36, 168, 1402, Decimal('4.000'))\n",
      "conn closed\n"
     ]
    }
   ],
   "source": [
    "sql = \"Select * from commoditygroup WHERE `entity` = 'India' AND `year`<=1970\"\n",
    "\n",
    "showContents(c, sql,55)"
   ]
  },
  {
   "cell_type": "markdown",
   "metadata": {},
   "source": [
    "# Join\n",
    "\n",
    "### Inner Join\n",
    "\n",
    "The MySQL INNER JOIN clause matches rows in one table with rows in other tables contain columns from both tables.\n",
    "<br> Suppose we use inner join on two tables with common column country. The country which is present in one table must be present in another one.\n",
    "<br> Only if the country present in left table, is  present in right one then only it will be displayed and vice versa.\n",
    "<br> Refer : \n",
    "\n",
    "![](https://upload.wikimedia.org/wikipedia/commons/thumb/1/18/SQL_Join_-_07_A_Inner_Join_B.svg/220px-SQL_Join_-_07_A_Inner_Join_B.svg.png)"
   ]
  },
  {
   "cell_type": "markdown",
   "metadata": {},
   "source": [
    "### Inner join both tables \"dailycalories\" and \"commoditygroup\" by columns entity, code and year. "
   ]
  },
  {
   "cell_type": "code",
   "execution_count": 49,
   "metadata": {},
   "outputs": [],
   "source": [
    "sql = '''SELECT A.`animalProtein` , B.`Meat` , B.`Oils & Fats`\n",
    "        FROM `dailycalories`AS A\n",
    "        INNER JOIN `commoditygroup` AS B\n",
    "        ON A.`entity` = B.`Entity` and  A.`code` = B.`Code`and A.`year` = A.`Year`'''"
   ]
  },
  {
   "cell_type": "code",
   "execution_count": 50,
   "metadata": {},
   "outputs": [
    {
     "name": "stdout",
     "output_type": "stream",
     "text": [
      "Animal Protein,  Meat,  Oils and Fats\n",
      "(Decimal('54.120'), 88, 92)\n",
      "(Decimal('54.120'), 88, 92)\n",
      "(Decimal('54.120'), 88, 92)\n",
      "(Decimal('54.120'), 88, 98)\n",
      "(Decimal('54.120'), 91, 106)\n",
      "conn closed\n"
     ]
    }
   ],
   "source": [
    "print(\"Animal Protein,  Meat,  Oils and Fats\")\n",
    "showContents(c,sql)"
   ]
  },
  {
   "cell_type": "markdown",
   "metadata": {},
   "source": [
    "## Outer join\n",
    "\n",
    "### Left join\n",
    "\n",
    "The MySQL LEFT JOIN clause matches rows in one table with rows in other tables contain columns from both tables.\n",
    "<br> Suppose we use left join on two tables with common column country. The country which is present in one table may not be present in another one.\n",
    "<br> Only if the country present in left table may or may not be present in right one still it will be displayed.\n",
    "\n",
    "![](https://upload.wikimedia.org/wikipedia/commons/thumb/f/f6/SQL_Join_-_01_A_Left_Join_B.svg/220px-SQL_Join_-_01_A_Left_Join_B.svg.png)"
   ]
  },
  {
   "cell_type": "code",
   "execution_count": 147,
   "metadata": {},
   "outputs": [],
   "source": [
    "sql = '''SELECT A.`animalProtein` , B.`Meat` , B.`Oils & Fats`\n",
    "        FROM `dailycalories`AS A\n",
    "        LEFT JOIN `commoditygroup` AS B\n",
    "        ON A.`entity` = B.`Entity` and  A.`code` = B.`Code`and A.`year` = A.`Year`'''"
   ]
  },
  {
   "cell_type": "code",
   "execution_count": null,
   "metadata": {},
   "outputs": [],
   "source": [
    "print(\"Animal Protein  Meat  Oils and Fats\")\n",
    "showContents(c,sql)"
   ]
  },
  {
   "cell_type": "markdown",
   "metadata": {},
   "source": [
    "### Right Join\n",
    "\n",
    "The MySQL RIGHT JOIN clause matches rows in one table with rows in other tables contain columns from both tables.\n",
    "<br> Suppose we use right join on two tables with common column country. The country which is present in one table may not be present in another one.\n",
    "<br> Only if the country present in right table may or may not be present in left one still it will be displayed.\n",
    "\n",
    "![](https://upload.wikimedia.org/wikipedia/commons/thumb/5/5f/SQL_Join_-_03_A_Right_Join_B.svg/220px-SQL_Join_-_03_A_Right_Join_B.svg.png)"
   ]
  },
  {
   "cell_type": "code",
   "execution_count": 51,
   "metadata": {},
   "outputs": [],
   "source": [
    "sql = '''SELECT A.`animalProtein` , B.`Meat` , B.`Oils & Fats`\n",
    "        FROM `dailycalories`AS A\n",
    "        RIGHT JOIN `commoditygroup` AS B\n",
    "        ON A.`entity` = B.`Entity` and  A.`code` = B.`Code`and A.`year` = A.`Year`'''"
   ]
  },
  {
   "cell_type": "code",
   "execution_count": 52,
   "metadata": {},
   "outputs": [
    {
     "name": "stdout",
     "output_type": "stream",
     "text": [
      "Animal Protein  Meat  Oils and Fats\n",
      "(Decimal('54.120'), 88, 92)\n",
      "(Decimal('54.120'), 88, 92)\n",
      "(Decimal('54.120'), 88, 92)\n",
      "(Decimal('54.120'), 88, 98)\n",
      "(Decimal('54.120'), 91, 106)\n",
      "conn closed\n"
     ]
    }
   ],
   "source": [
    "print(\"Animal Protein  Meat  Oils and Fats\")\n",
    "showContents(c,sql)"
   ]
  },
  {
   "cell_type": "markdown",
   "metadata": {},
   "source": [
    "## Update statement"
   ]
  },
  {
   "cell_type": "markdown",
   "metadata": {},
   "source": [
    "The SQL statement UPDATE is one of the DML – Data Manipulation Language statements, the other DML statements being the INSERT and DELETE.\n",
    " \n",
    "\n",
    "The UPDATE statement updates one are more columns of data one or more rows.  In other words, the UPDATE statement replaces old values of one or more cells of data belonging to several rows with new values. The old values are discarded.\n",
    " \n",
    "\n",
    "The rows updated are based on the WHERE clause specified in the UPDATE statement.\n",
    " \n",
    "\n",
    "UPDATE statements can be executed from a Python program using pyMySQL.\n",
    " \n",
    "\n",
    "The changes made to the database table need to be explicitly committed."
   ]
  },
  {
   "cell_type": "code",
   "execution_count": 53,
   "metadata": {},
   "outputs": [],
   "source": [
    "def update(c,sql):\n",
    "    connection = c.connect()\n",
    "    try:\n",
    "        with connection.cursor() as cursor:\n",
    "\n",
    "        # Cursor object creation                                   \n",
    "\n",
    "            updateStatement = sql\n",
    "\n",
    "            # Execute the SQL UPDATE statement\n",
    "\n",
    "            cursor.execute(updateStatement)\n",
    "        \n",
    "        # commit changes to save them\n",
    "        connection.commit()\n",
    "        \n",
    "    except Exception as e:\n",
    "\n",
    "        print(\"Exeception occured:{}\".format(e))\n",
    "\n",
    "    finally:\n",
    "        print(\"Update successful\")\n",
    "        connection.close()        "
   ]
  },
  {
   "cell_type": "code",
   "execution_count": null,
   "metadata": {},
   "outputs": [],
   "source": [
    "sql = '''\n",
    "UPDATE dailycalories \n",
    "set fat = 1000 \n",
    "where code='ARG' and year = 2006;\n",
    "'''\n",
    "update(c,sql)"
   ]
  },
  {
   "cell_type": "markdown",
   "metadata": {},
   "source": [
    "## Update and see update"
   ]
  },
  {
   "cell_type": "code",
   "execution_count": 75,
   "metadata": {},
   "outputs": [],
   "source": [
    "def showRow(c,sql):\n",
    "    conn = c.connect()\n",
    "    try:\n",
    "        with conn.cursor() as cursor:\n",
    "\n",
    "            # Execute the SQL SELECT query\n",
    "\n",
    "            cursor.execute(sql)\n",
    "\n",
    "            # Fetch the updated row\n",
    "\n",
    "            updatedRow = cursor.fetchall()\n",
    "\n",
    "            # Print the updated row...\n",
    "\n",
    "            for column in updatedRow:\n",
    "\n",
    "                print(column)      \n",
    "\n",
    "    except Exception as e:\n",
    "\n",
    "        print(\"Exeception occured:{}\".format(e))\n",
    "\n",
    "    finally:\n",
    "\n",
    "        conn.close()"
   ]
  },
  {
   "cell_type": "code",
   "execution_count": 36,
   "metadata": {},
   "outputs": [
    {
     "name": "stdout",
     "output_type": "stream",
     "text": [
      "('Argentina', 'ARG', 2006, Decimal('250.280'), Decimal('142.760'), Decimal('965.880'), Decimal('1755.080'))\n"
     ]
    }
   ],
   "source": [
    "# Select the updated row and print the updated column value\n",
    "\n",
    "sql   = \"select * from dailycalories where code='ARG' and year = 2006;\"\n",
    "\n",
    "showRow(c,sql)"
   ]
  },
  {
   "cell_type": "markdown",
   "metadata": {},
   "source": [
    "## Delete statement"
   ]
  },
  {
   "cell_type": "markdown",
   "metadata": {},
   "source": [
    "The SQL statement DELETE is a DML statement. DML stands for data Manipulation Language.\n",
    " \n",
    "\n",
    "Unless a filter using WHERE clause is specified the DELETE statement will delete all the rows from a specified table.\n",
    " \n",
    "\n",
    "Deleting a set of rows from a MySQL table involves:\n",
    "Creation of a database connection by specifying the database server using IP or host name along with database user credentials\n",
    "Obtaining a cursor instance from the database connection\n",
    "Defining a string containing the SQL command to delete a set of rows including the WHERE clause if required\n",
    "Calling the execute() method on cursor by passing the DELETE SQL string as the parameter\n",
    " \n",
    "\n",
    "In the python example given here, the autocommit is made True while creating the database connection. The remaining rows from the table are printed using the SQL SELECT statement."
   ]
  },
  {
   "cell_type": "code",
   "execution_count": null,
   "metadata": {},
   "outputs": [],
   "source": [
    "try:\n",
    "    \n",
    "    # Code for  creating cursor from database connection\n",
    "\n",
    "    cursorInstance  = dbConnection.cursor()                                    \n",
    "\n",
    "    # SQL statement for deleting rows from a table matching a criteria\n",
    "\n",
    "    sqlDeleteRows   = \"Delete from tbl_items where status='expired'\"\n",
    "\n",
    "    # using the cursor delete a set of rows from the table\n",
    "\n",
    "    cursorInstance.execute(sqlDeleteRows)\n",
    "\n",
    "    # Check if there are any existing items with expired status\n",
    "\n",
    "    sqlSelectRows   = \"select * from tbl_items\"\n",
    "\n",
    "    # Execute the SQL query\n",
    "\n",
    "    cursorInstance.execute(sqlSelectRows)\n",
    "\n",
    "    #Fetch all the rows using cursor object\n",
    "\n",
    "    itemRows = cursorInstance.fetchall()\n",
    "\n",
    "    # print all the remaining rows after deleting the rows with status as \"expired\"\n",
    "\n",
    "    for item in itemRows:\n",
    "\n",
    "        print(item)   \n",
    "\n",
    "except Exception as ex:\n",
    "\n",
    "    print(\"Exception occured: %s\"%ex)   \n",
    "\n",
    "finally:\n",
    "\n",
    "    dbConnection.close()"
   ]
  },
  {
   "cell_type": "markdown",
   "metadata": {},
   "source": [
    "# Summary\n",
    "\n",
    "We have learnt about using MySQL along with Python.\n",
    "<br> The concepts learnt in this chapter will be useful in your career to get data from the database and perform data analysis, visualization and machine learning.\n",
    "<br> Feel free to explore other databases such Firebase, POSTGRESQL database, MongoDB etc."
   ]
  }
 ],
 "metadata": {
  "kernelspec": {
   "display_name": "Python 3",
   "language": "python",
   "name": "python3"
  },
  "language_info": {
   "codemirror_mode": {
    "name": "ipython",
    "version": 3
   },
   "file_extension": ".py",
   "mimetype": "text/x-python",
   "name": "python",
   "nbconvert_exporter": "python",
   "pygments_lexer": "ipython3",
   "version": "3.6.5"
  }
 },
 "nbformat": 4,
 "nbformat_minor": 2
}
