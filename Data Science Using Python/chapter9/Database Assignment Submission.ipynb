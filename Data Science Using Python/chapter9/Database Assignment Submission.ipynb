{
 "cells": [
  {
   "cell_type": "markdown",
   "metadata": {},
   "source": [
    "# Database assignment\n",
    "\n",
    "Hello, in the content part of this chapter you have learnt MySQL in depth, now let's bring your knowledge to test.\n",
    "\n",
    "You will be analysing World Education Data.(https://ourworldindata.org/literacy)\n",
    "<br> You are provided the data in the form of csv.\n",
    "<br> You need to store the data in the MySQL database using the procedure you have learnt in the content part.\n",
    "<br> After successfully, storing the data you need to answer a few questions by analysing the data.\n",
    "<br> You are free to create as many methods as you want along with the methods taught in the content part.\n",
    "\n",
    "Let's begin"
   ]
  },
  {
   "cell_type": "code",
   "execution_count": 4,
   "metadata": {},
   "outputs": [],
   "source": [
    "import pymysql.cursors"
   ]
  },
  {
   "cell_type": "code",
   "execution_count": 5,
   "metadata": {},
   "outputs": [],
   "source": [
    "class connection:\n",
    "    def __init__(self, host, port, user, db):\n",
    "        self.host = host\n",
    "        self.port = port \n",
    "        self.user = user\n",
    "        self.db= db       \n",
    "        \n",
    "    def connect(self):\n",
    "        return pymysql.connect(host= self.host,\n",
    "                                 port = self.port, \n",
    "                                 user = self.user,\n",
    "                                 db= self.db)"
   ]
  },
  {
   "cell_type": "code",
   "execution_count": 6,
   "metadata": {},
   "outputs": [],
   "source": [
    "c = connection('localhost', 3306,  'root', 'literacy')"
   ]
  },
  {
   "cell_type": "code",
   "execution_count": 7,
   "metadata": {},
   "outputs": [],
   "source": [
    "def execute(c, sqlQuery):\n",
    "    conn = c.connect()\n",
    "    try :\n",
    "        with conn.cursor() as cursor:\n",
    "\n",
    "            cursor.execute(sqlQuery)\n",
    "\n",
    "        conn.commit()\n",
    "    \n",
    "    finally:\n",
    "        print(\"connection closed\")\n",
    "        conn.close()"
   ]
  },
  {
   "cell_type": "markdown",
   "metadata": {},
   "source": [
    "### Create Table"
   ]
  },
  {
   "cell_type": "code",
   "execution_count": 8,
   "metadata": {},
   "outputs": [],
   "source": [
    "## START CODE HERE\n",
    "\n",
    "## END CODE HERE"
   ]
  },
  {
   "cell_type": "code",
   "execution_count": 9,
   "metadata": {},
   "outputs": [],
   "source": [
    "def execute_with_parameters(c, sql, subtitute_values, numberOfRows = 5):\n",
    "    conn = c.connect()\n",
    "    \n",
    "    try:\n",
    "        with conn.cursor() as cursor:\n",
    "            \n",
    "            cursor.execute(sql, subtitute_values)\n",
    "            rows = cursor.fetchall()\n",
    "\n",
    "            counter = 0\n",
    "            for row in rows:\n",
    "                \n",
    "                counter += 1\n",
    "                \n",
    "                print(row)\n",
    "                \n",
    "                if counter == numberOfRows:\n",
    "                    break\n",
    "                    \n",
    "                # conn is not autocommit by default. So you must commit to save\n",
    "                # your changes.\n",
    "        conn.commit()\n",
    "\n",
    "    finally:\n",
    "        print(\"conn closed\")\n",
    "        conn.close()"
   ]
  },
  {
   "cell_type": "code",
   "execution_count": 10,
   "metadata": {},
   "outputs": [],
   "source": [
    "def convert_column_list(columnlist):\n",
    "    s1 = ','.join(['`'+str(i)+'`' for i in columnlist]) \n",
    "    s2 = ','.join(['%s' for _ in columnlist]) \n",
    "    \n",
    "    return s1,s2"
   ]
  },
  {
   "cell_type": "code",
   "execution_count": 11,
   "metadata": {},
   "outputs": [],
   "source": [
    "def showTables(c):\n",
    "    conn = c.connect()\n",
    "    try:   \n",
    "        with conn.cursor() as cursor:\n",
    "\n",
    "            # SQL query string\n",
    "\n",
    "            sqlQuery   = \"show tables\"   \n",
    "\n",
    "            # Execute the sqlQuery\n",
    "\n",
    "            cursor.execute(sqlQuery)\n",
    "\n",
    "            rows = cursor.fetchall()\n",
    "\n",
    "            for row in rows:\n",
    "\n",
    "                print(row)\n",
    "\n",
    "                # conn is not autocommit by default. So you must commit to save\n",
    "                # your changes.\n",
    "\n",
    "    finally:\n",
    "        print(\"connection closed\")\n",
    "        conn.close()"
   ]
  },
  {
   "cell_type": "code",
   "execution_count": 12,
   "metadata": {},
   "outputs": [
    {
     "name": "stdout",
     "output_type": "stream",
     "text": [
      "('literacyrate',)\n",
      "connection closed\n"
     ]
    }
   ],
   "source": [
    "showTables(c)"
   ]
  },
  {
   "cell_type": "code",
   "execution_count": 13,
   "metadata": {},
   "outputs": [],
   "source": [
    "def insert(c, tablename, columns, values,subtitute_values):\n",
    "    conn = c.connect()\n",
    "    try:\n",
    "        with conn.cursor() as cursor:\n",
    "            \n",
    "            # SQL query string\n",
    "            sql = \"INSERT INTO `\"+ tablename + \"` (\" + columns + \" ) \" + \" VALUES \" + \"(\" + values + \");\"\n",
    "            print(sql) \n",
    "            print(subtitute_values)\n",
    "            cursor.execute(sql, subtitute_values)\n",
    "        conn.commit()\n",
    "\n",
    "    finally:\n",
    "        print(\"conn closed\")\n",
    "        conn.close()"
   ]
  },
  {
   "cell_type": "markdown",
   "metadata": {},
   "source": [
    "Try inserting a row to test the insert() function."
   ]
  },
  {
   "cell_type": "code",
   "execution_count": 14,
   "metadata": {},
   "outputs": [],
   "source": [
    "columns = ['entity','code','year','Elderly literacy rate, population 65+ years, both sexes','Youth literacy rate, population 15-24 years, both sexes', 'Total population']\n",
    "x = ('Afghanistan','AFG',1800,None,None,3280000)"
   ]
  },
  {
   "cell_type": "code",
   "execution_count": 15,
   "metadata": {},
   "outputs": [
    {
     "name": "stdout",
     "output_type": "stream",
     "text": [
      "INSERT INTO `literacyRate` (`entity`,`code`,`year`,`Elderly literacy rate, population 65+ years, both sexes`,`Youth literacy rate, population 15-24 years, both sexes`,`Total population` )  VALUES (%s,%s,%s,%s,%s,%s);\n",
      "('Afghanistan', 'AFG', 1800, None, None, 3280000)\n",
      "conn closed\n"
     ]
    }
   ],
   "source": [
    "columns,values = convert_column_list(columns)\n",
    "insert(c,\"literacyRate\",columns,values,x)"
   ]
  },
  {
   "cell_type": "code",
   "execution_count": 14,
   "metadata": {},
   "outputs": [],
   "source": [
    "def showContents(c,sql, numberOfRows = 5):\n",
    "    conn = c.connect()\n",
    "    try:   \n",
    "        with conn.cursor() as cursor: \n",
    "\n",
    "            # Execute the sqlQuery\n",
    "            \n",
    "            cursor.execute(sql)\n",
    "\n",
    "            rows = cursor.fetchall()\n",
    "\n",
    "            counter = 0\n",
    "            for row in rows:\n",
    "                \n",
    "                counter += 1\n",
    "                \n",
    "                print(row)\n",
    "                \n",
    "                if counter == numberOfRows:\n",
    "                    break\n",
    "                    \n",
    "                # conn is not autocommit by default. So you must commit to save\n",
    "                # your changes.\n",
    "\n",
    "    finally:\n",
    "        print(\"conn closed\")\n",
    "        conn.close()"
   ]
  },
  {
   "cell_type": "code",
   "execution_count": 15,
   "metadata": {},
   "outputs": [
    {
     "name": "stdout",
     "output_type": "stream",
     "text": [
      "('Afghanistan', 'AFG', 1800, None, None, 3280000)\n",
      "('Afghanistan', 'AFG', 1800, Decimal('0E-10'), Decimal('0E-10'), 3280000)\n",
      "('Afghanistan', 'AFG', 1820, Decimal('0E-10'), Decimal('0E-10'), 3280000)\n",
      "('Afghanistan', 'AFG', 1870, Decimal('0E-10'), Decimal('0E-10'), 4207000)\n",
      "('Afghanistan', 'AFG', 1913, Decimal('0E-10'), Decimal('0E-10'), 5730000)\n",
      "conn closed\n"
     ]
    }
   ],
   "source": [
    "sql = \"Select * from literacyRate\"\n",
    "\n",
    "showContents(c, sql)"
   ]
  },
  {
   "cell_type": "markdown",
   "metadata": {},
   "source": [
    "### Load data from csv to database"
   ]
  },
  {
   "cell_type": "code",
   "execution_count": 15,
   "metadata": {},
   "outputs": [],
   "source": [
    "import csv\n",
    "\n",
    "def csvToDB(c,csv_name,columns,tablename):\n",
    "    with open(csv_name) as csv_file:\n",
    "        csv_reader = csv.reader(csv_file, delimiter=',')\n",
    "        columns,values = convert_column_list(columns)\n",
    "\n",
    "        line_count = 0\n",
    "        for row in csv_reader:\n",
    "            if line_count == 0:\n",
    "                print(row)\n",
    "                line_count += 1\n",
    "            else:\n",
    "                conn = c.connect()\n",
    "                insert(conn,tablename,columns,values,row)\n",
    "                line_count += 1\n",
    "        print(f'Inserted {line_count} lines.')"
   ]
  },
  {
   "cell_type": "code",
   "execution_count": 1,
   "metadata": {
    "scrolled": false
   },
   "outputs": [],
   "source": [
    "## START CODE HERE\n",
    "\n",
    "## END CODE HERE"
   ]
  },
  {
   "cell_type": "markdown",
   "metadata": {},
   "source": [
    "In the above cell you will get warning, ignore it after calling csvToDB().\n",
    "<br> The warning appears because the value for 'Elderly literacy rate, population 65+ years, both sexes' and 'Youth literacy rate, population 15-24 years, both sexes' is missing in many rows."
   ]
  },
  {
   "cell_type": "code",
   "execution_count": 16,
   "metadata": {
    "scrolled": true
   },
   "outputs": [
    {
     "name": "stdout",
     "output_type": "stream",
     "text": [
      "('Afghanistan', 'AFG', 1800, None, None, 3280000)\n",
      "('Afghanistan', 'AFG', 1800, Decimal('0E-10'), Decimal('0E-10'), 3280000)\n",
      "('Afghanistan', 'AFG', 1820, Decimal('0E-10'), Decimal('0E-10'), 3280000)\n",
      "('Afghanistan', 'AFG', 1870, Decimal('0E-10'), Decimal('0E-10'), 4207000)\n",
      "('Afghanistan', 'AFG', 1913, Decimal('0E-10'), Decimal('0E-10'), 5730000)\n",
      "conn closed\n"
     ]
    }
   ],
   "source": [
    "sql = \"Select * from literacyRate\"\n",
    "\n",
    "showContents(c, sql)"
   ]
  },
  {
   "cell_type": "markdown",
   "metadata": {},
   "source": [
    "Wherever you can see Decimal('0E-10') those are null values.\n",
    "<br>Now that the csv is converted to Database you can test your knowledge of using SQL commands to fetch data."
   ]
  },
  {
   "cell_type": "markdown",
   "metadata": {},
   "source": [
    "## What is the youth literacy rate of different countries during 1913?"
   ]
  },
  {
   "cell_type": "code",
   "execution_count": 17,
   "metadata": {},
   "outputs": [],
   "source": [
    "## START CODE HERE\n",
    "\n",
    "## END CODE HERE"
   ]
  },
  {
   "cell_type": "markdown",
   "metadata": {},
   "source": [
    "<table>\n",
    "  <tr>\n",
    "  <td>**Expected Output:**<td>\n",
    "    <td style=\"text-align:left\">\n",
    "('Afghanistan', Decimal('0E-10'))\n",
    "<br>('Albania', Decimal('0E-10'))\n",
    "<br>('Algeria', Decimal('0E-10'))\n",
    "<br>('Argentina', Decimal('0E-10'))\n",
    "<br>('Australia', Decimal('0E-10'))\n",
    "<br>conn closed</td>\n",
    "  </tr>\n",
    "</table>\n"
   ]
  },
  {
   "cell_type": "markdown",
   "metadata": {},
   "source": [
    "### Which country has the highest elderly literacy rate during 2015?"
   ]
  },
  {
   "cell_type": "code",
   "execution_count": 18,
   "metadata": {},
   "outputs": [],
   "source": [
    "## START CODE HERE\n",
    "\n",
    "## END CODE HERE"
   ]
  },
  {
   "cell_type": "markdown",
   "metadata": {},
   "source": [
    "<table>\n",
    "  <tr>\n",
    "  <td>**Expected Output:**<td>\n",
    "    <td style=\"text-align:left\">\n",
    "('North Korea', Decimal('99.9960937500'))\n",
    "<br> conn closed\n",
    "</td>\n",
    "  </tr>\n",
    "</table>"
   ]
  },
  {
   "cell_type": "markdown",
   "metadata": {},
   "source": [
    "### Which country has highest population?"
   ]
  },
  {
   "cell_type": "code",
   "execution_count": 21,
   "metadata": {},
   "outputs": [],
   "source": [
    "## START CODE HERE\n",
    "\n",
    "## END CODE HERE"
   ]
  },
  {
   "cell_type": "markdown",
   "metadata": {},
   "source": [
    "<table>\n",
    "  <tr>\n",
    "  <td>**Expected Output:**<td>\n",
    "    <td style=\"text-align:left\">\n",
    "('China', 1359368470)\n",
    "<br>conn closed\n",
    "</td>\n",
    "  </tr>\n",
    "</table>"
   ]
  },
  {
   "cell_type": "markdown",
   "metadata": {},
   "source": [
    "### For each year which were the highest populated countries and what was their elderly and youth literacy rates?"
   ]
  },
  {
   "cell_type": "code",
   "execution_count": 23,
   "metadata": {},
   "outputs": [],
   "source": [
    "## START CODE HERE\n",
    "\n",
    "## END CODE HERE"
   ]
  },
  {
   "cell_type": "markdown",
   "metadata": {},
   "source": [
    "<table>\n",
    "  <tr>\n",
    "  <td>**Expected Output:**<td>\n",
    "    <td style=\"text-align:left\">\n",
    "(2013, Decimal('0E-10'), Decimal('0E-10'), 34499915)\n",
    "<br>(2012, Decimal('0E-10'), Decimal('0E-10'), 33397058)\n",
    "<br>(2011, Decimal('20.3218498230'), Decimal('46.9900512695'), 32358260)\n",
    "<br>(2010, Decimal('0E-10'), Decimal('0E-10'), 31411743)\n",
    "<br>(2009, Decimal('0E-10'), Decimal('0E-10'), 30577756)\n",
    "<br> conn closed\n",
    "</td>\n",
    "  </tr>\n",
    "</table>"
   ]
  },
  {
   "cell_type": "markdown",
   "metadata": {},
   "source": [
    "### Show records of BRICS (Brazil, Russia, India, China,South Africa) countries only "
   ]
  },
  {
   "cell_type": "code",
   "execution_count": 25,
   "metadata": {},
   "outputs": [],
   "source": [
    "## START CODE HERE\n",
    "\n",
    "## END CODE HERE"
   ]
  },
  {
   "cell_type": "markdown",
   "metadata": {},
   "source": [
    "<table>\n",
    "  <tr>\n",
    "  <td>**Expected Output:**<td>\n",
    "    <td style=\"text-align:left\">\n",
    "('Brazil', 'BRA', 1700, Decimal('0E-10'), Decimal('0E-10'), 1250000)\n",
    "<br>('Brazil', 'BRA', 1800, Decimal('0E-10'), Decimal('0E-10'), 3639636)\n",
    "<br>('Brazil', 'BRA', 1820, Decimal('0E-10'), Decimal('0E-10'), 4507000)\n",
    "<br>('Brazil', 'BRA', 1850, Decimal('0E-10'), Decimal('0E-10'), 7234000)\n",
    "<br>('Brazil', 'BRA', 1870, Decimal('0E-10'), Decimal('0E-10'), 9797000)\n",
    "<br>('Brazil', 'BRA', 1871, Decimal('0E-10'), Decimal('0E-10'), 9980000)\n",
    "<br>('Brazil', 'BRA', 1872, Decimal('0E-10'), Decimal('0E-10'), 10167000)\n",
    "<br>('Brazil', 'BRA', 1873, Decimal('0E-10'), Decimal('0E-10'), 10358000)\n",
    "<br>('Brazil', 'BRA', 1874, Decimal('0E-10'), Decimal('0E-10'), 10552000)\n",
    "<br>('Brazil', 'BRA', 1875, Decimal('0E-10'), Decimal('0E-10'), 10749000)\n",
    "<br> conn closed\n",
    "</td>\n",
    "  </tr>\n",
    "</table>"
   ]
  },
  {
   "cell_type": "markdown",
   "metadata": {},
   "source": [
    "### What is the highest elderly literacy rate of each of the BRICS countries?"
   ]
  },
  {
   "cell_type": "code",
   "execution_count": 21,
   "metadata": {
    "scrolled": true
   },
   "outputs": [],
   "source": [
    "## START CODE HERE\n",
    "\n",
    "## END CODE HERE"
   ]
  },
  {
   "cell_type": "markdown",
   "metadata": {},
   "source": [
    "<table>\n",
    "  <tr>\n",
    "  <td>**Expected Output:**<td>\n",
    "    <td style=\"text-align:left\">\n",
    "('Brazil', Decimal('74.1957473755'))\n",
    "<br>('China', Decimal('81.2825164795'))\n",
    "<br>('India', Decimal('42.7003593445'))\n",
    "<br>('Russia', Decimal('99.4724197388'))\n",
    "<br>('South Africa', Decimal('71.2561721802'))\n",
    "<br> conn closed\n",
    "</td>\n",
    "  </tr>\n",
    "</table>"
   ]
  },
  {
   "cell_type": "markdown",
   "metadata": {},
   "source": [
    "### What is the highest youth literacy rate of each of the BRICS countries?"
   ]
  },
  {
   "cell_type": "code",
   "execution_count": 22,
   "metadata": {},
   "outputs": [],
   "source": [
    "## START CODE HERE\n",
    "\n",
    "## END CODE HERE"
   ]
  },
  {
   "cell_type": "markdown",
   "metadata": {},
   "source": [
    "<table>\n",
    "  <tr>\n",
    "  <td>**Expected Output:**<td>\n",
    "    <td style=\"text-align:left\">\n",
    "('Brazil', Decimal('98.9323883057'))\n",
    "<br>('China', Decimal('99.7288589478'))\n",
    "<br>('India', Decimal('89.6640625000'))\n",
    "<br>('Russia', Decimal('99.7246017456'))\n",
    "<br>('South Africa', Decimal('99.0270004272'))\n",
    "<br> conn closed\n",
    "</td>\n",
    "  </tr>\n",
    "</table>"
   ]
  },
  {
   "cell_type": "markdown",
   "metadata": {},
   "source": [
    "# Congratulations\n",
    "\n",
    "You are through the last assignment of the Basic Python Programming Course.\n",
    "<br> Good understanding of databases and SQL queries will help a lot in your career in data science\n",
    "<br> All the best for the final milestone project.\n",
    "<br> Keep up the good work."
   ]
  }
 ],
 "metadata": {
  "kernelspec": {
   "display_name": "Python 3",
   "language": "python",
   "name": "python3"
  },
  "language_info": {
   "codemirror_mode": {
    "name": "ipython",
    "version": 3
   },
   "file_extension": ".py",
   "mimetype": "text/x-python",
   "name": "python",
   "nbconvert_exporter": "python",
   "pygments_lexer": "ipython3",
   "version": "3.6.5"
  }
 },
 "nbformat": 4,
 "nbformat_minor": 2
}
