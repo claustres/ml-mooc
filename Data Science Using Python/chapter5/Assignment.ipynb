{
 "cells": [
  {
   "cell_type": "markdown",
   "metadata": {},
   "source": [
    "<img src=\"https://www.digitalvidya.com/wp-content/uploads/2013/05/Digital-Vidya-Website-Logo-HD-2-300x95.png\">"
   ]
  },
  {
   "cell_type": "markdown",
   "metadata": {},
   "source": [
    "Test your functions with different inputs and exception conditions."
   ]
  },
  {
   "cell_type": "markdown",
   "metadata": {},
   "source": [
    "# Part 1: Independent functions"
   ]
  },
  {
   "cell_type": "markdown",
   "metadata": {},
   "source": [
    "**Q.1 Create a function that takes date as a string and returns a dictionary containing keys as day, month and year along with their corresponding values.**"
   ]
  },
  {
   "cell_type": "code",
   "execution_count": 59,
   "metadata": {
    "collapsed": true
   },
   "outputs": [],
   "source": [
    "def date_to_dict(date):\n",
    "    \n",
    "    '''\n",
    "    Splits the date into day, month and year.\n",
    "    Parameters\n",
    "    ----------\n",
    "    date: The date needed to be split \n",
    "    ----------\n",
    "    \n",
    "    Returns\n",
    "    ----------\n",
    "    splitted_date : Dictionary with day, month and year as keys and their corresponding values\n",
    "    ----------\n",
    "    '''\n",
    "    ## START CODE HERE\n",
    "    \n",
    "\n",
    "    ## END CODE HERE\n",
    "\n",
    "    return splitted_date"
   ]
  },
  {
   "cell_type": "code",
   "execution_count": 60,
   "metadata": {},
   "outputs": [
    {
     "data": {
      "text/plain": [
       "{'day': '21', 'month': '3', 'year': '2018'}"
      ]
     },
     "execution_count": 60,
     "metadata": {},
     "output_type": "execute_result"
    }
   ],
   "source": [
    "date = '21-3-2018'\n",
    "\n",
    "date_to_dict(date)"
   ]
  },
  {
   "cell_type": "markdown",
   "metadata": {},
   "source": [
    "<table>\n",
    "  <tr>\n",
    "  <td>**Expected Output:**<td>\n",
    "    <td>{'day': '21', 'month': '3', 'year': '2018'}</td>\n",
    "  </tr>\n",
    "</table>"
   ]
  },
  {
   "cell_type": "markdown",
   "metadata": {},
   "source": [
    "**Q.2 Create a function that takes starting two numbers and the number of fibonacci numbers required and returns a list of fibonacci numbers as specified.**\n",
    "\n",
    "![](https://encrypted-tbn0.gstatic.com/images?q=tbn:ANd9GcTAO3ZDb0mEjwQEHUBirhzSkpM3S1akl_6a_WQe-AnWwabGO6Dx)\n",
    "\n",
    "In the above diagram, fibonacci sequence would be 1,1,2,3,5,8,13,21,34,55 you can see that the third number is addition of first two and so on.\n",
    "\n",
    "You need the first two numbers and the number of terms to get the fibonacci sequence.\n",
    "<br> In this example first two terms are 1 and 1 and the number of terms are 10."
   ]
  },
  {
   "cell_type": "code",
   "execution_count": 61,
   "metadata": {
    "collapsed": true
   },
   "outputs": [],
   "source": [
    "def fibonacci (term1, term2, number_of_terms):\n",
    "    '''\n",
    "    Generates a list of fibonacci numbers based on first two terms and number of terms.\n",
    "    Parameters\n",
    "    ----------\n",
    "    term1: First term \n",
    "    term2: Second term\n",
    "    number_of_terms : Number of terms\n",
    "    ----------\n",
    "    \n",
    "    Returns\n",
    "    ----------\n",
    "    fibonnaci_list : List containing all the fibonacci numbers based on the passed parameters\n",
    "    ----------\n",
    "    '''\n",
    "    \n",
    "    fibonnaci_list = []\n",
    "    \n",
    "    ## START CODE HERE\n",
    "\n",
    "    ## END CODE HERE\n",
    "    \n",
    "    return fibonnaci_list"
   ]
  },
  {
   "cell_type": "code",
   "execution_count": 62,
   "metadata": {},
   "outputs": [
    {
     "data": {
      "text/plain": [
       "[8, 15, 23, 38, 61, 99, 160, 259]"
      ]
     },
     "execution_count": 62,
     "metadata": {},
     "output_type": "execute_result"
    }
   ],
   "source": [
    "fibonacci(1,7,8)"
   ]
  },
  {
   "cell_type": "markdown",
   "metadata": {},
   "source": [
    "<table>\n",
    "  <tr>\n",
    "  <td>**Expected Output:**<td>\n",
    "    <td>[8, 15, 23, 38, 61, 99, 160, 259]</td>\n",
    "  </tr>\n",
    "</table>"
   ]
  },
  {
   "cell_type": "code",
   "execution_count": 63,
   "metadata": {},
   "outputs": [
    {
     "data": {
      "text/plain": [
       "[7, 11, 18, 29, 47, 76, 123, 199, 322, 521]"
      ]
     },
     "execution_count": 63,
     "metadata": {},
     "output_type": "execute_result"
    }
   ],
   "source": [
    "fibonacci(3,4,10)"
   ]
  },
  {
   "cell_type": "markdown",
   "metadata": {},
   "source": [
    "<table>\n",
    "  <tr>\n",
    "  <td>**Expected Output:**<td>\n",
    "    <td>[7, 11, 18, 29, 47, 76, 123, 199, 322, 521]</td>\n",
    "  </tr>\n",
    "</table>"
   ]
  },
  {
   "cell_type": "markdown",
   "metadata": {},
   "source": [
    "# Part 2 : Ramanujan Magic Square Puzzle"
   ]
  },
  {
   "cell_type": "markdown",
   "metadata": {
    "collapsed": true
   },
   "source": [
    "**Q.3 Create the following list of functions**\n",
    "\n",
    "In the figure below, the image shows Ramanujan Magical Square.\n",
    "<br>You have to write a program to create and validate the Ramanujan's Magical Square.\n",
    "<br> The objective of the program should be to code small functions that should be used by the main program.\n",
    "\n",
    "a) magicsquare = createRMagicSquare()\n",
    "<br>b) displayRMagicSquare(magic_square)\n",
    "<br>c) sum = get_sum(list_of_elements)\n",
    "<br>d) get_column_elements(magic_square,columnnumber)\n",
    "<br>e) sum = calculateSumofNumbersofaRow(magicsquare, rownumber)\n",
    "<br>f) sum = calculateSumofNumbersofaColumn(magicsquare, columnnumber)\n",
    "<br>g) validateRMagicSquare(magic_square, expected_sum = 139)\n",
    "<br>h) sum = calculateSumofNumbersofaDiagonal(magicsquare)\n",
    "<br>i) sum = calculateSumofNumbersofCornerNumbers(magicsquare)\n",
    "<br>j) sum = calculateSumofNumbersofCentralSqares(magicsquare)\n",
    "<br>k) birthdatofRamanujan = displayBirthdate(magicsquare)\n",
    "\n",
    "For reference : https://www.slideshare.net/kumaraveljothi/mathematician-ramanujans-square"
   ]
  },
  {
   "cell_type": "markdown",
   "metadata": {},
   "source": [
    "![](data:image/png;base64,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)"
   ]
  },
  {
   "cell_type": "code",
   "execution_count": 22,
   "metadata": {
    "collapsed": true
   },
   "outputs": [],
   "source": [
    "def createRMagicSquare(row1,row2,row3,row4):\n",
    "    '''\n",
    "    A function that creates a Ramanujan magic square  \n",
    "    \n",
    "    Returns\n",
    "    ----------\n",
    "    magic_square : A nested list in the form of matrix to contain the Ramanujan Magic Square\n",
    "    ----------\n",
    "    '''\n",
    "    \n",
    "    ## START CODE HERE\n",
    "    \n",
    "    ## END CODE HERE\n",
    "    \n",
    "    return magic_square"
   ]
  },
  {
   "cell_type": "code",
   "execution_count": 23,
   "metadata": {
    "collapsed": true
   },
   "outputs": [],
   "source": [
    "def displayRMagicSquare(magic_square):\n",
    "    \n",
    "    '''\n",
    "    A function that displays a Ramanujan magic square  \n",
    "    \n",
    "    Parameters\n",
    "    ----------\n",
    "    magic_square : A nested list in the form of matrix to contain the Ramanujan Magic Square\n",
    "    ----------\n",
    "    '''\n",
    "        \n",
    "    ## START CODE HERE\n",
    "        \n",
    "    ## END CODE HERE"
   ]
  },
  {
   "cell_type": "markdown",
   "metadata": {},
   "source": [
    "### Test It"
   ]
  },
  {
   "cell_type": "code",
   "execution_count": 24,
   "metadata": {},
   "outputs": [
    {
     "name": "stdout",
     "output_type": "stream",
     "text": [
      "23 22 18 87 \n",
      "89 27 9 25 \n",
      "90 24 89 16 \n",
      "19 46 23 11 \n"
     ]
    }
   ],
   "source": [
    "c = createRMagicSquare([23, 22, 18 ,87], [89, 27, 9 ,25] , [90, 24 ,89 ,16] , [19, 46 ,23 ,11])\n",
    "\n",
    "displayRMagicSquare(c)"
   ]
  },
  {
   "cell_type": "markdown",
   "metadata": {},
   "source": [
    "<table>\n",
    "  <tr>\n",
    "  <td>**Expected Output:**<td>\n",
    "23 22 18 87 \n",
    "<br>89 27 9 25 \n",
    "<br>90 24 89 16 \n",
    "<br>19 46 23 11  </td>\n",
    "  </tr>\n",
    "</table>"
   ]
  },
  {
   "cell_type": "code",
   "execution_count": 46,
   "metadata": {},
   "outputs": [
    {
     "name": "stdout",
     "output_type": "stream",
     "text": [
      "22 12 18 87 \n",
      "88 17 9 25 \n",
      "10 24 89 16 \n",
      "19 86 23 11 \n"
     ]
    }
   ],
   "source": [
    "# Actual Ramanujan Square\n",
    "\n",
    "c = createRMagicSquare([22, 12, 18 ,87], [88, 17, 9 ,25] , [10, 24 ,89 ,16] , [19, 86 ,23 ,11])\n",
    "\n",
    "displayRMagicSquare(c)"
   ]
  },
  {
   "cell_type": "markdown",
   "metadata": {},
   "source": [
    "<table>\n",
    "  <tr>\n",
    "  <td>**Expected Output:**<td>\n",
    "    <td>22 12 18 87 \n",
    "<br>88 17 9 25 \n",
    "<br>10 24 89 16 \n",
    "<br>19 86 23 11 </td>\n",
    "  </tr>\n",
    "</table>"
   ]
  },
  {
   "cell_type": "code",
   "execution_count": 40,
   "metadata": {
    "collapsed": true
   },
   "outputs": [],
   "source": [
    "def get_sum(list_of_elements):\n",
    "    \n",
    "    '''\n",
    "    A function that computes sum of elements of a list \n",
    "    Parameters\n",
    "    ----------\n",
    "    list_of_elements : List of elements whose sum is to be computed\n",
    "    ----------\n",
    "    \n",
    "    Returns\n",
    "    ----------\n",
    "    Sum of the elements of the list \n",
    "    ----------\n",
    "    '''\n",
    "    ## START CODE HERE\n",
    "    \n",
    "    ## END CODE HERE   "
   ]
  },
  {
   "cell_type": "markdown",
   "metadata": {},
   "source": [
    "### Test It"
   ]
  },
  {
   "cell_type": "code",
   "execution_count": 41,
   "metadata": {},
   "outputs": [
    {
     "name": "stdout",
     "output_type": "stream",
     "text": [
      "10\n"
     ]
    }
   ],
   "source": [
    "my_list = [1,2,3,4]\n",
    "\n",
    "print(get_sum(my_list))"
   ]
  },
  {
   "cell_type": "markdown",
   "metadata": {},
   "source": [
    "<table>\n",
    "  <tr>\n",
    "  <td>**Expected Output:**<td>\n",
    "    <td>10</td>\n",
    "  </tr>\n",
    "</table>"
   ]
  },
  {
   "cell_type": "code",
   "execution_count": 42,
   "metadata": {
    "collapsed": true
   },
   "outputs": [],
   "source": [
    "def calculateSumofNumbersofaRow(magic_square, rownumber):\n",
    "    \n",
    "    '''\n",
    "    A function that computes sum of elements of a list along a row\n",
    "    Parameters\n",
    "    ----------\n",
    "    magic_square : Matrix - Ramanujan Magic Square\n",
    "    rownumber : Row number along which the sum is to be computed\n",
    "    ----------\n",
    "    \n",
    "    Returns\n",
    "    ----------\n",
    "    Sum of the elements of the list along the row number\n",
    "    ----------\n",
    "    '''\n",
    "    ## START CODE HERE     \n",
    "\n",
    "    ## END CODE HERE"
   ]
  },
  {
   "cell_type": "markdown",
   "metadata": {},
   "source": [
    "### Test It"
   ]
  },
  {
   "cell_type": "code",
   "execution_count": 47,
   "metadata": {},
   "outputs": [
    {
     "name": "stdout",
     "output_type": "stream",
     "text": [
      "Row 0 139\n",
      "Row 1 139\n",
      "Row 2 139\n",
      "Row 3 139\n"
     ]
    }
   ],
   "source": [
    "c = createRMagicSquare([22, 12, 18 ,87], [88, 17, 9 ,25] , [10, 24 ,89 ,16] , [19, 86 ,23 ,11])\n",
    "\n",
    "for i in range(4):\n",
    "    print(\"Row \" + str(i),end = ' ')\n",
    "    print(calculateSumofNumbersofaRow(c,i))"
   ]
  },
  {
   "cell_type": "markdown",
   "metadata": {},
   "source": [
    "<table>\n",
    "  <tr>\n",
    "  <td>**Expected Output:**<td>\n",
    "    <td>Row 0 139\n",
    "<br>Row 1 139\n",
    "<br>Row 2 139\n",
    "<br>Row 3 139</td>\n",
    "  </tr>\n",
    "</table>"
   ]
  },
  {
   "cell_type": "code",
   "execution_count": 44,
   "metadata": {
    "collapsed": true
   },
   "outputs": [],
   "source": [
    "def get_column_elements(magic_square,columnnumber):\n",
    "    \n",
    "    '''\n",
    "    A function that returns elements of a list along a column\n",
    "    Parameters\n",
    "    ----------\n",
    "    magic_square : Matrix - Ramanujan Magic Square\n",
    "    columnnumber : Column number along which the elements are to be fetched\n",
    "    ----------\n",
    "    \n",
    "    Returns\n",
    "    ----------\n",
    "    List elements of the list along the column number\n",
    "    ----------\n",
    "    '''\n",
    "    ## START CODE HERE\n",
    "    \n",
    "    ## END CODE HERE"
   ]
  },
  {
   "cell_type": "markdown",
   "metadata": {},
   "source": [
    "### Test It"
   ]
  },
  {
   "cell_type": "code",
   "execution_count": 45,
   "metadata": {
    "collapsed": true
   },
   "outputs": [],
   "source": [
    "def calculateSumofNumbersofaColumn(magic_square, columnnumber):\n",
    "    \n",
    "    '''\n",
    "    A function that computes sum of elements of a list along a column\n",
    "    Parameters\n",
    "    ----------\n",
    "    magic_square : Matrix - Ramanujan Magic Square\n",
    "    columnnumber : Column number along which the sum is to be computed\n",
    "    ----------\n",
    "    \n",
    "    Returns\n",
    "    ----------\n",
    "    Sum of the elements of the list along the column number\n",
    "    ----------\n",
    "    '''\n",
    "    \n",
    "    ## START CODE HERE\n",
    "    \n",
    "    ## END CODE HERE"
   ]
  },
  {
   "cell_type": "markdown",
   "metadata": {},
   "source": [
    "### Test It"
   ]
  },
  {
   "cell_type": "code",
   "execution_count": 48,
   "metadata": {},
   "outputs": [
    {
     "name": "stdout",
     "output_type": "stream",
     "text": [
      "Column 0 150\n",
      "Column 1 150\n",
      "Column 2 219\n",
      "Column 3 99\n"
     ]
    }
   ],
   "source": [
    "c = createRMagicSquare([23, 22, 18 ,87], [89, 27, 9 ,25] , [90, 24 ,89 ,16] , [19, 46 ,23 ,11])\n",
    "\n",
    "for i in range(4):\n",
    "    print(\"Column \" + str(i),end = ' ')\n",
    "    print(calculateSumofNumbersofaColumn(c,i))"
   ]
  },
  {
   "cell_type": "markdown",
   "metadata": {},
   "source": [
    "<table>\n",
    "  <tr>\n",
    "  <td style=\"text-align:left\">**Expected Output:**<td style=\"text-align:left\">\n",
    "    <td style=\"text-align:left\"><br>Column 0 150\n",
    "<br>Column 1 150\n",
    "<br>Column 2 219\n",
    "<br>Column 3 99</td>\n",
    "  </tr>\n",
    "</table>"
   ]
  },
  {
   "cell_type": "code",
   "execution_count": 78,
   "metadata": {
    "collapsed": true
   },
   "outputs": [],
   "source": [
    "def validateRMagicSquare(magic_square, expected_sum = 139):\n",
    "    '''\n",
    "    A function that validates a Ramanujan magic square  \n",
    "    Parameters\n",
    "    ----------\n",
    "    magic_square : Matrix - Ramanujan Magic Square\n",
    "    ----------\n",
    "    Returns\n",
    "    ----------\n",
    "    True : If it is a magic square\n",
    "    False : If it is not a magic square\n",
    "    ----------\n",
    "    '''\n",
    "    ## START CODE HERE\n",
    "    \n",
    "    ## END CODE HERE"
   ]
  },
  {
   "cell_type": "markdown",
   "metadata": {},
   "source": [
    "### Test It"
   ]
  },
  {
   "cell_type": "code",
   "execution_count": 79,
   "metadata": {},
   "outputs": [
    {
     "data": {
      "text/plain": [
       "True"
      ]
     },
     "execution_count": 79,
     "metadata": {},
     "output_type": "execute_result"
    }
   ],
   "source": [
    "# Actual Ramanujan Square\n",
    "\n",
    "c = createRMagicSquare([22, 12, 18 ,87], [88, 17, 9 ,25] , [10, 24 ,89 ,16] , [19, 86 ,23 ,11])\n",
    "\n",
    "validateRMagicSquare(c)"
   ]
  },
  {
   "cell_type": "markdown",
   "metadata": {},
   "source": [
    "<table>\n",
    "  <tr>\n",
    "  <td>**Expected Output:**<td>\n",
    "    <td>True</td>\n",
    "  </tr>\n",
    "</table>"
   ]
  },
  {
   "cell_type": "code",
   "execution_count": 80,
   "metadata": {},
   "outputs": [
    {
     "data": {
      "text/plain": [
       "False"
      ]
     },
     "execution_count": 80,
     "metadata": {},
     "output_type": "execute_result"
    }
   ],
   "source": [
    "c = createRMagicSquare([23, 22, 18 ,87], [89, 27, 9 ,25] , [90, 24 ,89 ,16] , [19, 46 ,23 ,11])\n",
    "\n",
    "validateRMagicSquare(c)"
   ]
  },
  {
   "cell_type": "markdown",
   "metadata": {},
   "source": [
    "<table>\n",
    "  <tr>\n",
    "  <td>**Expected Output:**<td>\n",
    "    <td>False</td>\n",
    "  </tr>\n",
    "</table>"
   ]
  },
  {
   "cell_type": "code",
   "execution_count": 81,
   "metadata": {},
   "outputs": [
    {
     "data": {
      "text/plain": [
       "True"
      ]
     },
     "execution_count": 81,
     "metadata": {},
     "output_type": "execute_result"
    }
   ],
   "source": [
    "c = createRMagicSquare([44, 24, 36, 174], [176, 34, 18, 50] , [20, 48, 178, 32] , [38, 172, 46, 22])\n",
    "\n",
    "validateRMagicSquare(c,278)"
   ]
  },
  {
   "cell_type": "markdown",
   "metadata": {},
   "source": [
    "<table>\n",
    "  <tr>\n",
    "  <td>**Expected Output:**<td>\n",
    "    <td>True</td>\n",
    "  </tr>\n",
    "</table>"
   ]
  },
  {
   "cell_type": "markdown",
   "metadata": {},
   "source": [
    "<font color=orange>### IMPORTANT NOTE </font>\n",
    "<br>As you saw above validateRMagicSquare(magic_square, expected_sum = 139) has a optional argument expected_sum which can be passed by the user's wish. By default its value is 139.\n",
    "<br> In this case we have passed 278 and every row and column sum turns out to be 278. That is why its a valid Ramanujan Square."
   ]
  },
  {
   "cell_type": "code",
   "execution_count": 35,
   "metadata": {
    "collapsed": true
   },
   "outputs": [],
   "source": [
    "def calculateSumofNumbersofaDiagonal(magic_square):\n",
    "    '''\n",
    "    A function that computes sum of elements of a list along the diagonal\n",
    "    Parameters\n",
    "    ----------\n",
    "    magic_square : Matrix - Ramanujan Magic Square\n",
    "    ----------\n",
    "    \n",
    "    Returns\n",
    "    ----------\n",
    "    Sum of the elements of the list along the diagonal\n",
    "    ----------\n",
    "    '''\n",
    "    ## START CODE HERE\n",
    "\n",
    "    ## END CODE HERE"
   ]
  },
  {
   "cell_type": "markdown",
   "metadata": {},
   "source": [
    "### Test It"
   ]
  },
  {
   "cell_type": "code",
   "execution_count": 57,
   "metadata": {},
   "outputs": [
    {
     "data": {
      "text/plain": [
       "139"
      ]
     },
     "execution_count": 57,
     "metadata": {},
     "output_type": "execute_result"
    }
   ],
   "source": [
    "c = createRMagicSquare([22, 12, 18 ,87], [88, 17, 9 ,25] , [10, 24 ,89 ,16] , [19, 86 ,23 ,11])\n",
    "\n",
    "calculateSumofNumbersofaDiagonal(c)"
   ]
  },
  {
   "cell_type": "markdown",
   "metadata": {},
   "source": [
    "<table>\n",
    "  <tr>\n",
    "  <td >**Expected Output:**<td>\n",
    "    <td style=\"text-align:left\">139</td>\n",
    "  </tr>\n",
    "</table>"
   ]
  },
  {
   "cell_type": "code",
   "execution_count": 55,
   "metadata": {},
   "outputs": [
    {
     "data": {
      "text/plain": [
       "150"
      ]
     },
     "execution_count": 55,
     "metadata": {},
     "output_type": "execute_result"
    }
   ],
   "source": [
    "c = createRMagicSquare([23, 22, 18 ,87], [89, 27, 9 ,25] , [90, 24 ,89 ,16] , [19, 46 ,23 ,11])\n",
    "\n",
    "calculateSumofNumbersofaDiagonal(c)"
   ]
  },
  {
   "cell_type": "markdown",
   "metadata": {},
   "source": [
    "<table>\n",
    "  <tr>\n",
    "  <td >**Expected Output:**<td>\n",
    "    <td style=\"text-align:left\">150</td>\n",
    "  </tr>\n",
    "</table>"
   ]
  },
  {
   "cell_type": "code",
   "execution_count": 37,
   "metadata": {
    "collapsed": true
   },
   "outputs": [],
   "source": [
    "def calculateSumofNumbersofCornerNumbers(magic_square):\n",
    "    '''\n",
    "    A function that computes sum of elements of a list along the corners\n",
    "    Parameters\n",
    "    ----------\n",
    "    magic_square : Matrix - Ramanujan Magic Square\n",
    "    ----------\n",
    "    \n",
    "    Returns\n",
    "    ----------\n",
    "    Sum of the elements of the list along the corners\n",
    "    ----------\n",
    "    '''\n",
    "    ## START CODE HERE\n",
    "        \n",
    "    ## END CODE HERE\n",
    "    \n",
    "    return get_sum(l)"
   ]
  },
  {
   "cell_type": "markdown",
   "metadata": {},
   "source": [
    "### Test It"
   ]
  },
  {
   "cell_type": "code",
   "execution_count": 58,
   "metadata": {},
   "outputs": [
    {
     "data": {
      "text/plain": [
       "139"
      ]
     },
     "execution_count": 58,
     "metadata": {},
     "output_type": "execute_result"
    }
   ],
   "source": [
    "c = createRMagicSquare([22, 12, 18 ,87], [88, 17, 9 ,25] , [10, 24 ,89 ,16] , [19, 86 ,23 ,11])\n",
    "calculateSumofNumbersofCornerNumbers(c)"
   ]
  },
  {
   "cell_type": "markdown",
   "metadata": {},
   "source": [
    "<table>\n",
    "  <tr>\n",
    "  <td >**Expected Output:**<td>\n",
    "    <td style=\"text-align:left\">139</td>\n",
    "  </tr>\n",
    "</table>"
   ]
  },
  {
   "cell_type": "code",
   "execution_count": 59,
   "metadata": {},
   "outputs": [
    {
     "data": {
      "text/plain": [
       "140"
      ]
     },
     "execution_count": 59,
     "metadata": {},
     "output_type": "execute_result"
    }
   ],
   "source": [
    "c = createRMagicSquare([23, 22, 18 ,87], [89, 27, 9 ,25] , [90, 24 ,89 ,16] , [19, 46 ,23 ,11])\n",
    "\n",
    "calculateSumofNumbersofCornerNumbers(c)"
   ]
  },
  {
   "cell_type": "markdown",
   "metadata": {},
   "source": [
    "<table>\n",
    "  <tr>\n",
    "  <td >**Expected Output:**<td>\n",
    "    <td style=\"text-align:left\">140</td>\n",
    "  </tr>\n",
    "</table>"
   ]
  },
  {
   "cell_type": "code",
   "execution_count": 61,
   "metadata": {
    "collapsed": true
   },
   "outputs": [],
   "source": [
    "def calculateSumofNumbersofCentralSquares(magic_square):\n",
    "    \n",
    "    '''\n",
    "    A function that computes sum of elements of a list along the central squares\n",
    "    Parameters\n",
    "    ----------\n",
    "    magic_square : Matrix - Ramanujan Magic Square\n",
    "    ----------\n",
    "    \n",
    "    Returns\n",
    "    ----------\n",
    "    Sum of the elements of the list along the central squares\n",
    "    ----------\n",
    "    '''\n",
    "    ## START CODE HERE\n",
    "\n",
    "    ## END CODE HERE"
   ]
  },
  {
   "cell_type": "markdown",
   "metadata": {},
   "source": [
    "### Test It"
   ]
  },
  {
   "cell_type": "code",
   "execution_count": 62,
   "metadata": {},
   "outputs": [
    {
     "data": {
      "text/plain": [
       "139"
      ]
     },
     "execution_count": 62,
     "metadata": {},
     "output_type": "execute_result"
    }
   ],
   "source": [
    "c = createRMagicSquare([22, 12, 18 ,87], [88, 17, 9 ,25] , [10, 24 ,89 ,16] , [19, 86 ,23 ,11])\n",
    "calculateSumofNumbersofCentralSquares(c)"
   ]
  },
  {
   "cell_type": "markdown",
   "metadata": {},
   "source": [
    "<table>\n",
    "  <tr>\n",
    "  <td>**Expected Output:**<td>\n",
    "    <td>139</td>\n",
    "  </tr>\n",
    "</table>"
   ]
  },
  {
   "cell_type": "code",
   "execution_count": 63,
   "metadata": {},
   "outputs": [
    {
     "data": {
      "text/plain": [
       "149"
      ]
     },
     "execution_count": 63,
     "metadata": {},
     "output_type": "execute_result"
    }
   ],
   "source": [
    "c = createRMagicSquare([23, 22, 18 ,87], [89, 27, 9 ,25] , [90, 24 ,89 ,16] , [19, 46 ,23 ,11])\n",
    "calculateSumofNumbersofCentralSquares(c)"
   ]
  },
  {
   "cell_type": "markdown",
   "metadata": {},
   "source": [
    "<table>\n",
    "  <tr>\n",
    "  <td>**Expected Output:**<td>\n",
    "    <td>149</td>\n",
    "  </tr>\n",
    "</table>"
   ]
  },
  {
   "cell_type": "code",
   "execution_count": null,
   "metadata": {
    "collapsed": true
   },
   "outputs": [],
   "source": [
    "def birthdatofRamanujan(magic_square):\n",
    "    \n",
    "    '''\n",
    "    A function that displays the birth date of SS Ramanujan which is present in the first row of matrix (22-12-1887)\n",
    "    Parameters\n",
    "    ----------\n",
    "    magic_square : Matrix - Ramanujan Magic Square\n",
    "    ----------\n",
    "    '''\n",
    "    ## START CODE HERE\n",
    "    \n",
    "    ## END CODE HERE"
   ]
  },
  {
   "cell_type": "markdown",
   "metadata": {},
   "source": [
    "### Test It"
   ]
  },
  {
   "cell_type": "code",
   "execution_count": 51,
   "metadata": {},
   "outputs": [
    {
     "name": "stdout",
     "output_type": "stream",
     "text": [
      "22-12-1887\n"
     ]
    }
   ],
   "source": [
    "c = createRMagicSquare()\n",
    "birthdatofRamanujan(c)"
   ]
  },
  {
   "cell_type": "markdown",
   "metadata": {},
   "source": [
    "<table>\n",
    "  <tr>\n",
    "  <td style=\"text-align:left\">**Expected Output:**<td>\n",
    "    <td>22-12-1887</td>\n",
    "  </tr>\n",
    "</table>"
   ]
  },
  {
   "cell_type": "code",
   "execution_count": 58,
   "metadata": {},
   "outputs": [
    {
     "name": "stdout",
     "output_type": "stream",
     "text": [
      "Magic Square : \n",
      "22 12 18 87 \n",
      "88 17 9 25 \n",
      "10 24 89 16 \n",
      "19 86 23 11 \n",
      "Sum of elements of 1st row\n",
      "139\n",
      "Sum of elements of 1st column\n",
      "139\n",
      "Sum of elements of diagonal\n",
      "139\n",
      "Sum of elements of corner numbers\n",
      "139\n",
      "Sum of elements of central squares\n",
      "139\n",
      "Birth date of Ramanujan\n",
      "22-12-1887\n"
     ]
    }
   ],
   "source": [
    "def main():\n",
    "\n",
    "    s = createRMagicSquare()\n",
    "    print(\"Magic Square : \")\n",
    "    displayRMagicSquare(s)\n",
    "    print(\"Sum of elements of 1st row\")\n",
    "    print(calculateSumofNumbersofaRow(s,0))\n",
    "    print(\"Sum of elements of 1st column\")\n",
    "    print(calculateSumofNumbersofaColumn(s,0))\n",
    "    print(\"Sum of elements of diagonal\")\n",
    "    print(calculateSumofNumbersofaDiagonal(s))\n",
    "    print(\"Sum of elements of corner numbers\")\n",
    "    print(calculateSumofNumbersofCornerNumbers(s))\n",
    "    print(\"Sum of elements of central squares\")\n",
    "    print(calculateSumofNumbersofCentralSquares(s))\n",
    "    print(\"Birth date of Ramanujan\")\n",
    "    birthdatofRamanujan(s)\n",
    "    \n",
    "if __name__ == '__main__':\n",
    "    \n",
    "    main()"
   ]
  },
  {
   "cell_type": "markdown",
   "metadata": {},
   "source": [
    "<table>\n",
    "  <tr>\n",
    "  <td>**Expected Output:**<td>\n",
    "    <td style=\"text-align:left\">Magic Square : \n",
    "<br>22 12 18 87 \n",
    "<br>88 17 9 25 \n",
    "<br>10 24 89 16 \n",
    "<br>19 86 23 11 \n",
    "<br>Sum of elements of 1st row\n",
    "<br>139\n",
    "<br>Sum of elements of 1st column\n",
    "<br>139\n",
    "<br>Sum of elements of diagonal\n",
    "<br>139\n",
    "<br>Sum of elements of corner numbers\n",
    "<br>139\n",
    "<br>Sum of elements of central squares\n",
    "<br>139\n",
    "<br>Birth date of Ramanujan\n",
    "<br>22-12-1887</td>\n",
    "  </tr>\n",
    "</table>"
   ]
  },
  {
   "cell_type": "markdown",
   "metadata": {},
   "source": [
    "# Congratulations\n",
    "\n",
    "You are through the fifth assignment of the Basic Python Programming Course.\n",
    "<br> Good understanding of functions is very important. It is also very important to know how to apply them appropriately.\n",
    "<br>Further in the course you will be learning about object oriented programming.\n",
    "<br> But for now, this is an achievement worth celebrating.\n",
    "<br>Buckle up!\n",
    "<br>You are doing very well.\n",
    "<br>See you in the next chapter."
   ]
  }
 ],
 "metadata": {
  "kernelspec": {
   "display_name": "Python 3",
   "language": "python",
   "name": "python3"
  },
  "language_info": {
   "codemirror_mode": {
    "name": "ipython",
    "version": 3
   },
   "file_extension": ".py",
   "mimetype": "text/x-python",
   "name": "python",
   "nbconvert_exporter": "python",
   "pygments_lexer": "ipython3",
   "version": "3.6.5"
  }
 },
 "nbformat": 4,
 "nbformat_minor": 2
}
