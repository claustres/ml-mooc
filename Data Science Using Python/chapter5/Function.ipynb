{
 "cells": [
  {
   "cell_type": "markdown",
   "metadata": {},
   "source": [
    "<img src=\"https://www.digitalvidya.com/wp-content/uploads/2013/05/Digital-Vidya-Website-Logo-HD-2-300x95.png\">"
   ]
  },
  {
   "cell_type": "markdown",
   "metadata": {},
   "source": [
    "# Functions\n",
    "\n",
    "Formally, a function is a useful technique that groups together a set of statements so they can be run more than once. They can also let us specify parameters that can serve as inputs to the functions.\n",
    "\n",
    "On a more fundamental level, functions allow us to not have to repeatedly write the same code again and again. If you remember back to the lessons on strings and lists, remember that we used a function len() to get the length of a string. \n",
    "Apart from len(), you have been using print() function to print stuff which is a function!!!\n",
    "\n",
    "Functions are one of most basic methods of reusing code in Python.\n",
    "\n",
    "Uptil now, we were writing code in a sequential manner. As and when we wanted to perform some action we wrote some code and so on. What if the same action is required to be performed again after certain lines of code. Will you keep writing same piece of code again and again?\n",
    "<br>No, right? Nobody likes to same work again and again. That is when **functions** come into picture.\n",
    "<br> Functions prove to be useful when we want to **reuse** code.\n",
    "\n",
    "There are two types of functions:\n",
    "1. Built-in functions\n",
    "2. User defined functions\n",
    "\n",
    "Functions perform another important task i.e **modularity** of code.\n",
    "<br> The code is divided into certain modules and then these modules can used as and when required.\n",
    "\n",
    "One more advantage is **readability**.\n",
    "<br> In a company, the code written by a programmer is tested by testers and then the code is deployed.\n",
    "<br> The code once written is maintained for months, years and often decades.  \n",
    "<br> The greater the readabilty, easier it would be for the lifetime maintenance of the code.\n",
    "\n",
    "So if functions have so many advantages why not learn about them?\n",
    "<br> So lets begin the second phase of this course, with **FUNCTIONS**!!\n",
    "\n",
    "The first question which arises is how do we write functions?\n",
    "<br> The syntax is :\n",
    "<br>\n",
    "```python\n",
    "def function_name(parameter1,parameter2,........,parametern):\n",
    "    #### function definition ####\n",
    "    \n",
    "```\n",
    "There could be a function with no parameters also.\n",
    "Function definition includes the set of statements you want to execute or the set of actions you want your function to perform.\n",
    "\n",
    "<font color=orange>### IMPORTANT NOTE </font>\n",
    "<br> Notice that there is colon after the def statement for function declaration.\n",
    "\n"
   ]
  },
  {
   "cell_type": "markdown",
   "metadata": {},
   "source": [
    "## User defined functions\n",
    "\n",
    "Lets explore the different types of functions and how can we use them.\n",
    "<br>We are going to learn how to create user defined functions."
   ]
  },
  {
   "cell_type": "markdown",
   "metadata": {},
   "source": [
    "### Functions with no parameters and returning nothing"
   ]
  },
  {
   "cell_type": "code",
   "execution_count": 141,
   "metadata": {
    "collapsed": true
   },
   "outputs": [],
   "source": [
    "def display_good_job():\n",
    "    '''\n",
    "    This function \n",
    "    Parameters\n",
    "    ----------\n",
    "    None\n",
    "    ----------\n",
    "    \n",
    "    Returns\n",
    "    ----------\n",
    "    None\n",
    "    ----------\n",
    "    '''\n",
    "    print(\"Cheers! Good Job. Happy Learning.\")"
   ]
  },
  {
   "cell_type": "code",
   "execution_count": 142,
   "metadata": {},
   "outputs": [
    {
     "name": "stdout",
     "output_type": "stream",
     "text": [
      "Cheers! Good Job. Happy Learning.\n"
     ]
    }
   ],
   "source": [
    "display_good_job()"
   ]
  },
  {
   "cell_type": "markdown",
   "metadata": {},
   "source": [
    "You can call this function whenever you want to print \"Cheers! Good Job. Happy Learning.\" \n",
    "\n",
    "<font color=orange>### IMPORTANT NOTE </font>\n",
    "<br> You must be wondering why should we create a function which just prints a string.\n",
    "<br> Is this only for learning purpose or is this actually to be used? \n",
    "<br> Suppose you want to display the above string and you use print statement everywhere instead of creating a user defined function for it. \n",
    "<br> Later you realise that you have have to make some change in the string so you need to make that change everywhere, rather it would be better to make a single function and make the change in it."
   ]
  },
  {
   "cell_type": "markdown",
   "metadata": {},
   "source": [
    "Create a function add() that adds two numbers which are already initialised as below"
   ]
  },
  {
   "cell_type": "code",
   "execution_count": 1,
   "metadata": {
    "collapsed": true
   },
   "outputs": [],
   "source": [
    "a = 5\n",
    "b = 4\n",
    "\n",
    "def add():\n",
    "    '''\n",
    "    Performs addition of two numbers and prints the result.\n",
    "    Parameters\n",
    "    ----------\n",
    "    None\n",
    "    ----------\n",
    "    \n",
    "    Returns\n",
    "    ----------\n",
    "    None\n",
    "    ----------\n",
    "    '''\n",
    "    \n",
    "    print(a+b)"
   ]
  },
  {
   "cell_type": "markdown",
   "metadata": {},
   "source": [
    "<font color=orange>### IMPORTANT NOTE </font>\n",
    "<br>The the string we have written above in triple quotes is called docstring.\n",
    "<br> It is useful when you want to provide detailed information about the function you have created.\n",
    "<br> The details ideally should include informations about the input parameters (if any) and output parameters (if any) and of course, function description."
   ]
  },
  {
   "cell_type": "markdown",
   "metadata": {},
   "source": [
    "<font color=orange>### IMPORTANT NOTE </font>\n",
    "<br> After executing the previous cell, why was the answer of (a+b) not printed?\n",
    "<br> Functions won't execute the statements in their body unless they are called. \n",
    "\n",
    "How to call a function?"
   ]
  },
  {
   "cell_type": "code",
   "execution_count": 27,
   "metadata": {},
   "outputs": [
    {
     "name": "stdout",
     "output_type": "stream",
     "text": [
      "9\n"
     ]
    }
   ],
   "source": [
    "add()"
   ]
  },
  {
   "cell_type": "markdown",
   "metadata": {},
   "source": [
    "How much ever times you call this function it will always print 9, because the values of a,b are fixed.\n",
    "\n",
    "What if I want to use the answer of the addition?\n",
    "<br> This function cannot be used in such case as the result is printed there itself and the answer is not returned.\n",
    "\n",
    "The reusability of the function needs to be improved. \n",
    "<br>How to make it more reusable, lets see in the next type?"
   ]
  },
  {
   "cell_type": "markdown",
   "metadata": {},
   "source": [
    "### Functions with no parameters and returning objects"
   ]
  },
  {
   "cell_type": "code",
   "execution_count": 2,
   "metadata": {
    "collapsed": true
   },
   "outputs": [],
   "source": [
    "a = 5\n",
    "b = 4\n",
    "\n",
    "def add():\n",
    "    \n",
    "    '''\n",
    "    Performs addition of two numbers and returns the result.\n",
    "    Parameters\n",
    "    ----------\n",
    "    None\n",
    "    ----------\n",
    "    \n",
    "    Returns\n",
    "    ----------\n",
    "    a+b : Addition of a and b \n",
    "    ----------\n",
    "    '''\n",
    "        \n",
    "    return a+b"
   ]
  },
  {
   "cell_type": "code",
   "execution_count": 3,
   "metadata": {},
   "outputs": [
    {
     "name": "stdout",
     "output_type": "stream",
     "text": [
      "9\n"
     ]
    }
   ],
   "source": [
    "result = add()\n",
    "\n",
    "print(result)"
   ]
  },
  {
   "cell_type": "markdown",
   "metadata": {},
   "source": [
    "Here the answer is stored in variable *result* and then printing it gives the output as 9.\n",
    "<br> But still there is a problem, this function is not reusable unless and until you want to calculate the addition of 5 and 4 again and again, which is unlikely.\n",
    "\n",
    "How to make it more reusable, lets see in the next type."
   ]
  },
  {
   "cell_type": "markdown",
   "metadata": {},
   "source": [
    "### Functions with parameters and not returning objects"
   ]
  },
  {
   "cell_type": "code",
   "execution_count": 4,
   "metadata": {
    "collapsed": true
   },
   "outputs": [],
   "source": [
    "def add(x,y):\n",
    "    \n",
    "    '''\n",
    "    Performs addition of two numbers and prints the result.\n",
    "    Parameters\n",
    "    ----------\n",
    "    x: First number to be added\n",
    "    y: Second number to be added\n",
    "    ----------\n",
    "    \n",
    "    Returns\n",
    "    ----------\n",
    "    None\n",
    "    ----------\n",
    "    '''\n",
    "        \n",
    "    print(x+y)"
   ]
  },
  {
   "cell_type": "code",
   "execution_count": 5,
   "metadata": {},
   "outputs": [
    {
     "name": "stdout",
     "output_type": "stream",
     "text": [
      "9\n"
     ]
    }
   ],
   "source": [
    "a = 5\n",
    "b = 4\n",
    "\n",
    "add(a,b)"
   ]
  },
  {
   "cell_type": "markdown",
   "metadata": {},
   "source": [
    "<font color=orange>### IMPORTANT NOTE </font>\n",
    "<br>Here, the value in a is copied in x and the value in b is copied in y.\n",
    "<br> Outside the function x and y cannot be used.\n",
    "<br> x and y only exist within the function scope."
   ]
  },
  {
   "cell_type": "markdown",
   "metadata": {},
   "source": [
    "### Functions with parameters and returning objects"
   ]
  },
  {
   "cell_type": "code",
   "execution_count": 32,
   "metadata": {
    "collapsed": true
   },
   "outputs": [],
   "source": [
    "def add(x,y):\n",
    "    \n",
    "    '''\n",
    "    Performs addition of two numbers and returns the result.\n",
    "    Parameters\n",
    "    ----------\n",
    "    x: First number to be added\n",
    "    y: Second number to be added\n",
    "    ----------\n",
    "    \n",
    "    Returns\n",
    "    ----------\n",
    "    x+y : Addition of x and y \n",
    "    ----------\n",
    "    '''\n",
    "    \n",
    "    return (x+y)"
   ]
  },
  {
   "cell_type": "code",
   "execution_count": 33,
   "metadata": {},
   "outputs": [
    {
     "name": "stdout",
     "output_type": "stream",
     "text": [
      "9\n"
     ]
    }
   ],
   "source": [
    "a = 5\n",
    "b = 4\n",
    "\n",
    "result = add(a,b)\n",
    "\n",
    "print(result)"
   ]
  },
  {
   "cell_type": "markdown",
   "metadata": {},
   "source": [
    "Now the add() function is in most reusable state."
   ]
  },
  {
   "cell_type": "code",
   "execution_count": 34,
   "metadata": {},
   "outputs": [
    {
     "name": "stdout",
     "output_type": "stream",
     "text": [
      "15\n"
     ]
    }
   ],
   "source": [
    "a = 5\n",
    "b = 10\n",
    "\n",
    "result = add(a,b)\n",
    "\n",
    "print(result)"
   ]
  },
  {
   "cell_type": "markdown",
   "metadata": {},
   "source": [
    "You can see that the same function can be used again and again to add different numbers.\n",
    "<br> So the property of **reusability** is illustrated and also the code is more **readable**."
   ]
  },
  {
   "cell_type": "markdown",
   "metadata": {},
   "source": [
    "Now lets jump to a bit tougher example of functions. Also, we will learn a few good practices while creating functions."
   ]
  },
  {
   "cell_type": "markdown",
   "metadata": {},
   "source": [
    "Create a function to check whether a number is even or odd."
   ]
  },
  {
   "cell_type": "code",
   "execution_count": 145,
   "metadata": {
    "collapsed": true
   },
   "outputs": [],
   "source": [
    "def check_even_odd(num):\n",
    "    '''\n",
    "    Check whether a number is even or not and then returns the result accordingly(True or False)\n",
    "    Parameters\n",
    "    ----------\n",
    "    num : Number which you want to check whether is even or odd\n",
    "    ----------\n",
    "    \n",
    "    Returns\n",
    "    ----------\n",
    "    Boolean\n",
    "    ----------\n",
    "    '''\n",
    "    \n",
    "    if num %2 == 0:\n",
    "        return True\n",
    "    \n",
    "    else:\n",
    "        return False"
   ]
  },
  {
   "cell_type": "markdown",
   "metadata": {
    "collapsed": true
   },
   "source": [
    "In the cell below inside the brackets, press Shift+Tab and then see the importance of docstring."
   ]
  },
  {
   "cell_type": "code",
   "execution_count": 146,
   "metadata": {},
   "outputs": [
    {
     "data": {
      "text/plain": [
       "False"
      ]
     },
     "execution_count": 146,
     "metadata": {},
     "output_type": "execute_result"
    }
   ],
   "source": [
    "check_even_odd(7)"
   ]
  },
  {
   "cell_type": "code",
   "execution_count": 164,
   "metadata": {},
   "outputs": [
    {
     "data": {
      "text/plain": [
       "True"
      ]
     },
     "execution_count": 164,
     "metadata": {},
     "output_type": "execute_result"
    }
   ],
   "source": [
    "check_even_odd(14)"
   ]
  },
  {
   "cell_type": "code",
   "execution_count": 167,
   "metadata": {},
   "outputs": [
    {
     "data": {
      "text/plain": [
       "True"
      ]
     },
     "execution_count": 167,
     "metadata": {},
     "output_type": "execute_result"
    }
   ],
   "source": [
    "check_even_odd(-14)"
   ]
  },
  {
   "cell_type": "code",
   "execution_count": 166,
   "metadata": {},
   "outputs": [
    {
     "data": {
      "text/plain": [
       "False"
      ]
     },
     "execution_count": 166,
     "metadata": {},
     "output_type": "execute_result"
    }
   ],
   "source": [
    "check_even_odd(-73)"
   ]
  },
  {
   "cell_type": "code",
   "execution_count": 168,
   "metadata": {},
   "outputs": [
    {
     "data": {
      "text/plain": [
       "True"
      ]
     },
     "execution_count": 168,
     "metadata": {},
     "output_type": "execute_result"
    }
   ],
   "source": [
    "check_even_odd(0)"
   ]
  },
  {
   "cell_type": "markdown",
   "metadata": {},
   "source": [
    "<font color=orange>### IMPORTANT NOTE </font>\n",
    "<br> Do test your functions for different inputs and see whether they pass all the test cases.\n",
    "<br> The exception condition should be handled gracefully."
   ]
  },
  {
   "cell_type": "code",
   "execution_count": 159,
   "metadata": {
    "collapsed": true
   },
   "outputs": [],
   "source": [
    "#change\n",
    "\n",
    "def  is_prime(num):\n",
    "    '''\n",
    "    Check whether a number is prime or not and then returns True or False (prime or not prime)\n",
    "    Parameters\n",
    "    ----------\n",
    "    num : Number which you want to check whether is prime or not\n",
    "    ----------\n",
    "    '''\n",
    "    if num == 0 or num == 1:\n",
    "        return False\n",
    "    \n",
    "    for i in range(2,num//2+1):\n",
    "        if num % i == 0:\n",
    "            return False\n",
    "    \n",
    "    return True"
   ]
  },
  {
   "cell_type": "code",
   "execution_count": 160,
   "metadata": {},
   "outputs": [
    {
     "data": {
      "text/plain": [
       "True"
      ]
     },
     "execution_count": 160,
     "metadata": {},
     "output_type": "execute_result"
    }
   ],
   "source": [
    "is_prime(23)"
   ]
  },
  {
   "cell_type": "code",
   "execution_count": 161,
   "metadata": {},
   "outputs": [
    {
     "data": {
      "text/plain": [
       "False"
      ]
     },
     "execution_count": 161,
     "metadata": {},
     "output_type": "execute_result"
    }
   ],
   "source": [
    "is_prime(21)"
   ]
  },
  {
   "cell_type": "code",
   "execution_count": 163,
   "metadata": {},
   "outputs": [
    {
     "data": {
      "text/plain": [
       "False"
      ]
     },
     "execution_count": 163,
     "metadata": {},
     "output_type": "execute_result"
    }
   ],
   "source": [
    "is_prime(0)"
   ]
  },
  {
   "cell_type": "markdown",
   "metadata": {},
   "source": [
    "The one important property of writing good clean code is by creating functions which do one single task.\n",
    "<br> If you find your function is doing multiple things review it to see if it can be broken into more functions.\n",
    "\n",
    "To illustrate this lets go through following example.\n",
    "<br>Find the sum of squares of five numbers.\n",
    "<br> Here we will create two functions:\n",
    "> *find_squares()* which will square each and every element in the list.\n",
    "> <br>*find_sum()* which will find the sum of all the elements in the list"
   ]
  },
  {
   "cell_type": "code",
   "execution_count": 21,
   "metadata": {
    "collapsed": true
   },
   "outputs": [],
   "source": [
    "def find_squares(l):\n",
    "    '''\n",
    "    Square each element in the list and return the resultant list\n",
    "    Parameters\n",
    "    ----------\n",
    "    l : List containing the numbers to be squared\n",
    "    ----------\n",
    "    \n",
    "    Returns\n",
    "    ----------\n",
    "    squared_list :  List containing the squares of all the numbers in l\n",
    "    ----------\n",
    "    '''\n",
    "    squared_list = [i**2 for i in l]\n",
    "    \n",
    "    return squared_list"
   ]
  },
  {
   "cell_type": "code",
   "execution_count": 37,
   "metadata": {
    "collapsed": true
   },
   "outputs": [],
   "source": [
    "def find_sum(l):\n",
    "    '''\n",
    "    Sum of all the element in the list and return the sum\n",
    "    Parameters\n",
    "    ----------\n",
    "    l : List containing the numbers to be added\n",
    "    ----------\n",
    "    \n",
    "    Returns\n",
    "    ----------\n",
    "    result :  Sum of all the numbers in l\n",
    "    ----------\n",
    "    '''\n",
    "    \n",
    "    result = sum(l)\n",
    "    \n",
    "    return result"
   ]
  },
  {
   "cell_type": "markdown",
   "metadata": {},
   "source": [
    "Using the above two functions we can find the sum of squares of five numbers."
   ]
  },
  {
   "cell_type": "code",
   "execution_count": 44,
   "metadata": {},
   "outputs": [
    {
     "name": "stdout",
     "output_type": "stream",
     "text": [
      "Squared list [1, 4, 9, 16, 25]\n",
      "Sum of all elements in squared_list 55\n"
     ]
    }
   ],
   "source": [
    "l = [1,2,3,4,5]\n",
    "\n",
    "# Call find_squares() to get squares of all the elements in l \n",
    "squared_list = find_squares(l)\n",
    "print(\"Squared list\",squared_list)\n",
    "\n",
    "# Call find_sum() to get sum of all the elements in l \n",
    "print(\"Sum of all elements in squared_list\",find_sum(squared_list))"
   ]
  },
  {
   "cell_type": "markdown",
   "metadata": {},
   "source": [
    "Create a function that takes three lists containing name, designation and salary and return a dictionary with \n",
    "key as names and values as another dictionary having keys as designations and salaries along with their corresponding values."
   ]
  },
  {
   "cell_type": "code",
   "execution_count": 110,
   "metadata": {
    "collapsed": true
   },
   "outputs": [],
   "source": [
    "def employee_details(names, designations, salaries):\n",
    "    '''\n",
    "    Creating a dictionary with the details all the employees\n",
    "    Parameters\n",
    "    ----------\n",
    "    names : List containing the numbers to be added\n",
    "    designations: List containing the designations of all the employees.\n",
    "    salaries: List containing the salaries of all the employees.\n",
    "    ----------\n",
    "    \n",
    "    Returns\n",
    "    ----------\n",
    "    details : Dictionary with details of all employees.\n",
    "              Format of details is {name : {designation:value, salary:value}} \n",
    "    ----------\n",
    "    '''\n",
    "    \n",
    "    details = {}\n",
    "    \n",
    "    for i in range(len(names)):\n",
    "        details[names[i]] = {\"designation\" : designations[i], \"salary\" : salaries[i]}\n",
    "        \n",
    "    return details"
   ]
  },
  {
   "cell_type": "code",
   "execution_count": 111,
   "metadata": {},
   "outputs": [
    {
     "name": "stdout",
     "output_type": "stream",
     "text": [
      "{'Arun': {'designation': 'Manager', 'salary': 50000}, 'Manish': {'designation': 'Senior Manager', 'salary': 70000}, 'Zahir': {'designation': 'Associate', 'salary': 40000}, 'Tom': {'designation': 'Managing Director', 'salary': 100000}}\n"
     ]
    }
   ],
   "source": [
    "names = [\"Arun\", \"Manish\", \"Zahir\", \"Tom\"]\n",
    "designations = [\"Manager\", \"Senior Manager\", \"Associate\", \"Managing Director\"]\n",
    "salaries = [50000, 70000, 40000, 100000]\n",
    "\n",
    "details = employee_details(names, designations, salaries)\n",
    "print(details)"
   ]
  },
  {
   "cell_type": "markdown",
   "metadata": {},
   "source": [
    "## Lambda expressions\n",
    "\n",
    "Lambda expressions (sometimes called lambda forms) are used to create anonymous functions.\n",
    "<br> They are called anonymous functions because they don't have any name.\n",
    "<br> Lambda expressions can be used as an alternative for one line functions.\n",
    "<br> They can have one or more than one arguments but can have have only one expression.\n",
    "<br> It is a very handy tool when you will deal with pandas dataframes. *Don't worry about pandas, this will be covered when you start your data science journey*\n",
    "\n",
    "The syntax is :\n",
    "<br>\n",
    "```python\n",
    "lambda arguments: expression   \n",
    "```\n",
    "\n",
    "For further reference: https://docs.python.org/3/reference/expressions.html#lambda"
   ]
  },
  {
   "cell_type": "markdown",
   "metadata": {},
   "source": [
    "Addition of two numbers using lambda function."
   ]
  },
  {
   "cell_type": "code",
   "execution_count": 112,
   "metadata": {
    "collapsed": true
   },
   "outputs": [],
   "source": [
    "add = lambda x, y : x + y"
   ]
  },
  {
   "cell_type": "code",
   "execution_count": 113,
   "metadata": {},
   "outputs": [
    {
     "data": {
      "text/plain": [
       "5"
      ]
     },
     "execution_count": 113,
     "metadata": {},
     "output_type": "execute_result"
    }
   ],
   "source": [
    "add(2,3)"
   ]
  },
  {
   "cell_type": "markdown",
   "metadata": {},
   "source": [
    "Find square of a number using lambda function."
   ]
  },
  {
   "cell_type": "code",
   "execution_count": 114,
   "metadata": {
    "collapsed": true
   },
   "outputs": [],
   "source": [
    "square = lambda x : x**2"
   ]
  },
  {
   "cell_type": "code",
   "execution_count": 115,
   "metadata": {},
   "outputs": [
    {
     "data": {
      "text/plain": [
       "25"
      ]
     },
     "execution_count": 115,
     "metadata": {},
     "output_type": "execute_result"
    }
   ],
   "source": [
    "square(5)"
   ]
  },
  {
   "cell_type": "markdown",
   "metadata": {},
   "source": [
    "This is equivalent to :"
   ]
  },
  {
   "cell_type": "code",
   "execution_count": 116,
   "metadata": {
    "collapsed": true
   },
   "outputs": [],
   "source": [
    "def square(x):\n",
    "    \n",
    "    return x ** 2"
   ]
  },
  {
   "cell_type": "code",
   "execution_count": 117,
   "metadata": {},
   "outputs": [
    {
     "data": {
      "text/plain": [
       "25"
      ]
     },
     "execution_count": 117,
     "metadata": {},
     "output_type": "execute_result"
    }
   ],
   "source": [
    "square(5)"
   ]
  },
  {
   "cell_type": "markdown",
   "metadata": {},
   "source": [
    "Lambda function to print Cheers"
   ]
  },
  {
   "cell_type": "code",
   "execution_count": 173,
   "metadata": {},
   "outputs": [
    {
     "name": "stdout",
     "output_type": "stream",
     "text": [
      "Cheers\n"
     ]
    }
   ],
   "source": [
    "cheers = lambda  : \"Cheers\"\n",
    "\n",
    "print(cheers())"
   ]
  },
  {
   "cell_type": "markdown",
   "metadata": {},
   "source": [
    "So, when to use lambda expressions over functions?\n",
    "\n",
    "When you have more than one line of code to be executed. Put those lines in a function otherwise use lambda expressions."
   ]
  },
  {
   "cell_type": "markdown",
   "metadata": {
    "collapsed": true
   },
   "source": [
    "## Predefined functions or Builtin Functions\n",
    "\n",
    "Uptil now, we have been using built in functions knowingly or unknowingly. So lets go through a few of them formally.\n",
    "\n",
    "Remember you had studied strings, lists, etc. There we have used various methods/functions, these were the predefined functions that are most commonly needed to work on an object type.\n",
    "<br> There are 2 to 3 ways to find the right method which you need at the particular situation.\n",
    "   1. After creating the object press '.' and then press Tab, which will give you a list of all the available methods.\n",
    "   2. You can refer to Python documentation of that particular class (eg. String, list, etc).\n",
    "   3. You can Google Search for your problem (eg. Count the number of character in the string) and you would likely see Google results pointing to the Stackoverflow page."
   ]
  },
  {
   "cell_type": "markdown",
   "metadata": {},
   "source": [
    "## Some Random Examples"
   ]
  },
  {
   "cell_type": "markdown",
   "metadata": {},
   "source": [
    "### split() in strings"
   ]
  },
  {
   "cell_type": "code",
   "execution_count": 5,
   "metadata": {},
   "outputs": [
    {
     "data": {
      "text/plain": [
       "['Welcome', 'to', 'Digital', 'Vidya']"
      ]
     },
     "execution_count": 5,
     "metadata": {},
     "output_type": "execute_result"
    }
   ],
   "source": [
    "s = \"Welcome to Digital Vidya\"\n",
    "\n",
    "s.split()"
   ]
  },
  {
   "cell_type": "markdown",
   "metadata": {},
   "source": [
    "### append() in lists"
   ]
  },
  {
   "cell_type": "code",
   "execution_count": 2,
   "metadata": {
    "collapsed": true
   },
   "outputs": [],
   "source": [
    "l = [1,2,3]\n",
    "\n",
    "l.append(4)"
   ]
  },
  {
   "cell_type": "code",
   "execution_count": 4,
   "metadata": {},
   "outputs": [
    {
     "data": {
      "text/plain": [
       "[1, 2, 3, 4]"
      ]
     },
     "execution_count": 4,
     "metadata": {},
     "output_type": "execute_result"
    }
   ],
   "source": [
    "# show\n",
    "\n",
    "l"
   ]
  },
  {
   "cell_type": "markdown",
   "metadata": {},
   "source": [
    "## Advanced functions - zip, map, reduce and filter\n",
    "\n",
    "<br> Lets look at some more advanced functions which we have not covered before.\n",
    "<br> Lets go over these functions one by one."
   ]
  },
  {
   "cell_type": "markdown",
   "metadata": {},
   "source": [
    "### Map function\n",
    "\n",
    "map() is a function that takes in two arguments: a function and a sequence iterable. In the form: map(function, sequence)\n",
    "\n",
    "The first argument is the name of a function and the second a sequence (e.g. a list). map() applies the function to all the elements of the sequence. It returns a new list with the elements changed by function.\n",
    "\n",
    "It is very similar to list comprehension.\n",
    "\n",
    "For further reference: https://docs.python.org/3/library/functions.html#map"
   ]
  },
  {
   "cell_type": "code",
   "execution_count": 118,
   "metadata": {
    "collapsed": true
   },
   "outputs": [],
   "source": [
    "mi_players = [\"Rohit Sharma\", \"Jasprit Bumrah\", \"Siddhesh Lad\", \"Ishan Kishan\", \"Hardik Pandya\"]"
   ]
  },
  {
   "cell_type": "markdown",
   "metadata": {},
   "source": [
    "<br> Lambda functions independently are not used many a times but they are quite often used along with map, reduce and filter."
   ]
  },
  {
   "cell_type": "markdown",
   "metadata": {},
   "source": [
    "Lets use map function to get the first names of *mi_players* "
   ]
  },
  {
   "cell_type": "code",
   "execution_count": 119,
   "metadata": {},
   "outputs": [
    {
     "data": {
      "text/plain": [
       "['Rohit', 'Jasprit', 'Siddhesh', 'Ishan', 'Hardik']"
      ]
     },
     "execution_count": 119,
     "metadata": {},
     "output_type": "execute_result"
    }
   ],
   "source": [
    "list(map(lambda x : x.split()[0],mi_players))"
   ]
  },
  {
   "cell_type": "markdown",
   "metadata": {},
   "source": [
    "Working:\n",
    "    - map() function maps the split() function on every element of mi_players and the result is map object.\n",
    "    - In order to retrieve a list from map object we need to convert it to list."
   ]
  },
  {
   "cell_type": "markdown",
   "metadata": {},
   "source": [
    "Lets use map function to get the last names of *mi_players* "
   ]
  },
  {
   "cell_type": "code",
   "execution_count": 120,
   "metadata": {},
   "outputs": [
    {
     "data": {
      "text/plain": [
       "['Sharma', 'Bumrah', 'Lad', 'Kishan', 'Pandya']"
      ]
     },
     "execution_count": 120,
     "metadata": {},
     "output_type": "execute_result"
    }
   ],
   "source": [
    "list(map(lambda x : x.split()[1],mi_players))"
   ]
  },
  {
   "cell_type": "markdown",
   "metadata": {},
   "source": [
    "Given the runs scored by players in 3 matches.\n",
    "<br> Find the sum of runs scored by each player."
   ]
  },
  {
   "cell_type": "code",
   "execution_count": 121,
   "metadata": {},
   "outputs": [
    {
     "data": {
      "text/plain": [
       "[72, 73, 132, 181]"
      ]
     },
     "execution_count": 121,
     "metadata": {},
     "output_type": "execute_result"
    }
   ],
   "source": [
    "match1 = [19,28,56,89]\n",
    "match2 = [53,45,76,92]\n",
    "match3 = [91,100,6,12]\n",
    "\n",
    "# Sum of runs scored by each player using map()\n",
    "list(map(lambda x,y,z:x+y, match1, match2, match3))"
   ]
  },
  {
   "cell_type": "markdown",
   "metadata": {},
   "source": [
    "### Reduce function\n",
    "\n",
    "This is a bit tough part to understand. The function reduce(function, sequence) continually applies the function to the sequence. It then returns a single value.\n",
    "\n",
    "If seq = [ s1, s2, s3, ... , sn ], calling reduce(function, sequence) works like this:\n",
    "\n",
    "At first the first two elements of seq will be applied to function, i.e. func(s1,s2)\n",
    "<br>The list on which reduce() works looks now like this: [ function(s1, s2), s3, ... , sn ]\n",
    "<br>In the next step the function will be applied on the previous result and the third element of the list, i.e. function(function(s1, s2),s3)\n",
    "<br>The list looks like this now: [ function(function(s1, s2),s3), ... , sn ]\n",
    "<br>It continues like this until just one element is left and return this element as the result of reduce()\n",
    "\n",
    "For further reference:\n",
    "https://docs.python.org/3/library/functools.html#functools.reduce\n",
    "\n",
    "In the following figure, you can see that \n",
    "> 1 and 2 are added to give 3.\n",
    "> <br>  3 is added with 3 to give 6.\n",
    "> <br>  6 is added with 4 to give 10.\n",
    "\n",
    "A cumulative process takes place in reduce."
   ]
  },
  {
   "cell_type": "markdown",
   "metadata": {},
   "source": [
    "![](http://iamit.in/assets/reduce/reduce.png)"
   ]
  },
  {
   "cell_type": "markdown",
   "metadata": {},
   "source": [
    "Using reduce() find the maximum of the below list"
   ]
  },
  {
   "cell_type": "code",
   "execution_count": 122,
   "metadata": {
    "collapsed": true
   },
   "outputs": [],
   "source": [
    "l = [4,2,3,1]"
   ]
  },
  {
   "cell_type": "code",
   "execution_count": 123,
   "metadata": {
    "collapsed": true
   },
   "outputs": [],
   "source": [
    "# import reduce\n",
    "\n",
    "from functools import reduce"
   ]
  },
  {
   "cell_type": "code",
   "execution_count": 124,
   "metadata": {},
   "outputs": [
    {
     "data": {
      "text/plain": [
       "4"
      ]
     },
     "execution_count": 124,
     "metadata": {},
     "output_type": "execute_result"
    }
   ],
   "source": [
    "#Find the maximum of a sequence (This already exists as max())\n",
    "find_max = lambda a,b: a if (a > b) else b\n",
    "\n",
    "#Find max\n",
    "reduce(find_max,l)"
   ]
  },
  {
   "cell_type": "markdown",
   "metadata": {},
   "source": [
    "Using the details dictionary created above find the details of employee with maximum salary"
   ]
  },
  {
   "cell_type": "code",
   "execution_count": 125,
   "metadata": {},
   "outputs": [
    {
     "data": {
      "text/plain": [
       "('Tom', {'designation': 'Managing Director', 'salary': 100000})"
      ]
     },
     "execution_count": 125,
     "metadata": {},
     "output_type": "execute_result"
    }
   ],
   "source": [
    "reduce(lambda a,b: a if (a[1]['salary'] > b[1]['salary']) else b,list(details.items()))"
   ]
  },
  {
   "cell_type": "markdown",
   "metadata": {},
   "source": [
    "### Filter function"
   ]
  },
  {
   "cell_type": "markdown",
   "metadata": {},
   "source": [
    "The function filter(function, sequence) offers a convenient way to filter out all the elements of an iterable, for which the function returns True.\n",
    "\n",
    "The function filter(function,sequence) needs a function as its first argument. The function needs to return a boolean value (either True or False). This function will be applied to every element of the iterable. Only if the function returns True will the element of the iterable be included in the result.\n",
    "\n",
    "For further reference: https://docs.python.org/3.6/library/functions.html#filter\n",
    "\n",
    "Lets see some examples:"
   ]
  },
  {
   "cell_type": "markdown",
   "metadata": {},
   "source": [
    "Given the list l, print all the even numbers in the list."
   ]
  },
  {
   "cell_type": "code",
   "execution_count": 132,
   "metadata": {
    "collapsed": true
   },
   "outputs": [],
   "source": [
    "l = [3,2,1,5,7,12,14,13]"
   ]
  },
  {
   "cell_type": "code",
   "execution_count": 134,
   "metadata": {},
   "outputs": [
    {
     "data": {
      "text/plain": [
       "[2, 12, 14]"
      ]
     },
     "execution_count": 134,
     "metadata": {},
     "output_type": "execute_result"
    }
   ],
   "source": [
    "list(filter(lambda x: x%2==0,l))"
   ]
  },
  {
   "cell_type": "markdown",
   "metadata": {},
   "source": [
    "Below printed is the dictionary we had created before, display the details of employees with salary greater than 45000."
   ]
  },
  {
   "cell_type": "code",
   "execution_count": 126,
   "metadata": {},
   "outputs": [
    {
     "data": {
      "text/plain": [
       "{'Arun': {'designation': 'Manager', 'salary': 50000},\n",
       " 'Manish': {'designation': 'Senior Manager', 'salary': 70000},\n",
       " 'Tom': {'designation': 'Managing Director', 'salary': 100000},\n",
       " 'Zahir': {'designation': 'Associate', 'salary': 40000}}"
      ]
     },
     "execution_count": 126,
     "metadata": {},
     "output_type": "execute_result"
    }
   ],
   "source": [
    "details"
   ]
  },
  {
   "cell_type": "code",
   "execution_count": 131,
   "metadata": {},
   "outputs": [
    {
     "data": {
      "text/plain": [
       "[('Arun', {'designation': 'Manager', 'salary': 50000}),\n",
       " ('Manish', {'designation': 'Senior Manager', 'salary': 70000}),\n",
       " ('Tom', {'designation': 'Managing Director', 'salary': 100000})]"
      ]
     },
     "execution_count": 131,
     "metadata": {},
     "output_type": "execute_result"
    }
   ],
   "source": [
    "list(filter(lambda a: a[1]['salary'] > 45000,list(details.items())))"
   ]
  },
  {
   "cell_type": "markdown",
   "metadata": {},
   "source": [
    "### Zip function\n",
    "\n",
    "We have used zip function before in compound data types.\n",
    "<br>zip() makes an iterator that aggregates elements from each of the iterables.\n",
    "\n",
    "Returns an iterator of tuples, where the i-th tuple contains the i-th element from each of the argument sequences or iterables. The iterator stops when the shortest input iterable is exhausted. With a single iterable argument, it returns an iterator of 1-tuples. With no arguments, it returns an empty iterator.\n",
    "\n",
    "zip() is equivalent to:\n",
    "\n",
    "```python\n",
    "def zip(*iterables):\n",
    "    # zip('ABCD', 'xy') --> Ax By\n",
    "    sentinel = object()\n",
    "    iterators = [iter(it) for it in iterables]\n",
    "    while iterators:\n",
    "        result = []\n",
    "        for it in iterators:\n",
    "            elem = next(it, sentinel)\n",
    "            if elem is sentinel:\n",
    "                return\n",
    "            result.append(elem)\n",
    "        yield tuple(result)\n",
    "```\n",
    "\n",
    "zip() should only be used with unequal length inputs when you don’t care about trailing, unmatched values from the longer iterables.\n",
    "\n",
    "For further reference: https://docs.python.org/3.6/library/functions.html#zip\n",
    "\n",
    "Lets see it in action in some examples:"
   ]
  },
  {
   "cell_type": "code",
   "execution_count": 103,
   "metadata": {},
   "outputs": [
    {
     "data": {
      "text/plain": [
       "[('A', 'x'), ('B', 'y')]"
      ]
     },
     "execution_count": 103,
     "metadata": {},
     "output_type": "execute_result"
    }
   ],
   "source": [
    "list(zip('ABCD', 'xy'))"
   ]
  },
  {
   "cell_type": "markdown",
   "metadata": {},
   "source": [
    "In the above example, length of 'ABCD' is not same 'xy', that is why only first two characters of the 2 strings were zipped together."
   ]
  },
  {
   "cell_type": "markdown",
   "metadata": {},
   "source": [
    "Using zip function create a list names with first name and last name of each player"
   ]
  },
  {
   "cell_type": "code",
   "execution_count": 108,
   "metadata": {},
   "outputs": [
    {
     "name": "stdout",
     "output_type": "stream",
     "text": [
      "['Rohit Sharma', 'Jasprit Bumrah', 'Siddhesh Lad', 'Ishan Kishan', 'Hardik Pandya']\n"
     ]
    }
   ],
   "source": [
    "first_names = ['Rohit', 'Jasprit', 'Siddhesh', 'Ishan', 'Hardik']\n",
    "last_names = ['Sharma', 'Bumrah', 'Lad', 'Kishan', 'Pandya']\n",
    "\n",
    "# Concatenate names with space between them\n",
    "names = [i+' '+j for i,j in zip(first_names,last_names)]\n",
    "\n",
    "print(names)"
   ]
  },
  {
   "cell_type": "markdown",
   "metadata": {},
   "source": [
    "# Summary\n",
    "\n",
    "Now that you have learnt about functions. You have covered one of the most important topic of Python programming.\n",
    "<br> This chapter is very crucial as functions play a very important role in developing programs as a data scientist.\n",
    "<br> Please solve your assignment very well and invest as much time as possible in order to master these topics.\n",
    "<br> Lets get to hands on practice by solving the assignment.\n",
    "\n",
    "**All the best!!**<t>"
   ]
  }
 ],
 "metadata": {
  "kernelspec": {
   "display_name": "Python 3",
   "language": "python",
   "name": "python3"
  },
  "language_info": {
   "codemirror_mode": {
    "name": "ipython",
    "version": 3
   },
   "file_extension": ".py",
   "mimetype": "text/x-python",
   "name": "python",
   "nbconvert_exporter": "python",
   "pygments_lexer": "ipython3",
   "version": "3.6.1"
  }
 },
 "nbformat": 4,
 "nbformat_minor": 2
}
