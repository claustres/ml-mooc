{
 "cells": [
  {
   "cell_type": "markdown",
   "metadata": {},
   "source": [
    "<img src=\"https://www.digitalvidya.com/wp-content/uploads/2013/05/Digital-Vidya-Website-Logo-HD-2-300x95.png\">"
   ]
  },
  {
   "cell_type": "markdown",
   "metadata": {},
   "source": [
    "# Introduction to Object Oriented Programming\n",
    "\n",
    "Hello!\n",
    "\n",
    "In this chapter we are going to explore a new concept or a new programming style called Object Oriented Programming.\n",
    "\n",
    "### What is object oriented programming?\n",
    "\n",
    "This style of programming is closer to the way how our world is organised. We identify things as a material object and associate certain properties to it.\n",
    "<br> \n",
    "Object-oriented programming (OOP) is organized around objects. \n",
    "An object is identified by : \n",
    "1. Attributes or properties\n",
    "2. Actions that are performed on the object (properties)\n",
    "3. Logic that defines how the actions are performed\n",
    "Historically, a program has been viewed as a logical procedure that takes input data, processes it, and produces output data. In OOP, we will now look at creating programs constituting objects. \n",
    "\n",
    "### What is this \"class\" and \"object\"????\n",
    "\n",
    "**Class** - In object-oriented programming, a class is an extensible program-code-template for creating objects, providing initial values for state (member variables) and implementations of behavior (member functions or methods).\n",
    "\n",
    "Consider, a class as a human. A human has various **attributes** such as eyes, hands, legs, etc. He can perform various actions (here, **methods**) such as moving his hands, walking, running, etc.\n",
    "\n",
    "**Object** - In the class-based object-oriented programming paradigm, \"object\" refers to a particular instance of a class where the object can be a combination of variables, functions, and data structures.\n",
    "\n",
    "In simple words, a class is a blueprint for creating objects.\n",
    "<br> For eg. I create a class of type \"car\" with features such seats, rear view mirror, etc. Actions performed by car are drive(), change_gear(), etc.\n",
    "<br> But these are the things any car could do.\n",
    "<br> Now I create an object of this class. This object is named as \"Ferrari\". Ferrari has its additional features and actions that it can perform.\n",
    "<br> Similarly, I can keep on creating objects such Buggati, Renault, etc.\n",
    "\n",
    "Now that we have a fair idea what is object oriented programming conceptually. Lets see how to express it programmatically.\n",
    "\n",
    "Syntax for creating a class:\n",
    "\n",
    "```python\n",
    "class ClassName:\n",
    "    <statement-1>\n",
    "    .\n",
    "    .\n",
    "    .\n",
    "    <statement-N>\n",
    "```\n",
    "\n",
    "<font color=orange>### IMPORTANT NOTE </font>\n",
    "<br>  OOP is not so much as making your code smaller but making it represent what you're coding. \n",
    "\n",
    "**Lets begin**\n"
   ]
  },
  {
   "cell_type": "markdown",
   "metadata": {
    "collapsed": true
   },
   "source": [
    "# Built-in classes\n",
    "\n",
    "Until now, we were working with built-in classes such as lists, tuples, dictionaries. \n",
    "<br> Built-in classes have predefined methods. We as a programmer just need to create objects of these classes and then use them right away.\n",
    "<br> Lets have a look at how this works."
   ]
  },
  {
   "cell_type": "code",
   "execution_count": 1,
   "metadata": {},
   "outputs": [
    {
     "name": "stdout",
     "output_type": "stream",
     "text": [
      "Help on class list in module builtins:\n",
      "\n",
      "class list(object)\n",
      " |  list() -> new empty list\n",
      " |  list(iterable) -> new list initialized from iterable's items\n",
      " |  \n",
      " |  Methods defined here:\n",
      " |  \n",
      " |  __add__(self, value, /)\n",
      " |      Return self+value.\n",
      " |  \n",
      " |  __contains__(self, key, /)\n",
      " |      Return key in self.\n",
      " |  \n",
      " |  __delitem__(self, key, /)\n",
      " |      Delete self[key].\n",
      " |  \n",
      " |  __eq__(self, value, /)\n",
      " |      Return self==value.\n",
      " |  \n",
      " |  __ge__(self, value, /)\n",
      " |      Return self>=value.\n",
      " |  \n",
      " |  __getattribute__(self, name, /)\n",
      " |      Return getattr(self, name).\n",
      " |  \n",
      " |  __getitem__(...)\n",
      " |      x.__getitem__(y) <==> x[y]\n",
      " |  \n",
      " |  __gt__(self, value, /)\n",
      " |      Return self>value.\n",
      " |  \n",
      " |  __iadd__(self, value, /)\n",
      " |      Implement self+=value.\n",
      " |  \n",
      " |  __imul__(self, value, /)\n",
      " |      Implement self*=value.\n",
      " |  \n",
      " |  __init__(self, /, *args, **kwargs)\n",
      " |      Initialize self.  See help(type(self)) for accurate signature.\n",
      " |  \n",
      " |  __iter__(self, /)\n",
      " |      Implement iter(self).\n",
      " |  \n",
      " |  __le__(self, value, /)\n",
      " |      Return self<=value.\n",
      " |  \n",
      " |  __len__(self, /)\n",
      " |      Return len(self).\n",
      " |  \n",
      " |  __lt__(self, value, /)\n",
      " |      Return self<value.\n",
      " |  \n",
      " |  __mul__(self, value, /)\n",
      " |      Return self*value.n\n",
      " |  \n",
      " |  __ne__(self, value, /)\n",
      " |      Return self!=value.\n",
      " |  \n",
      " |  __new__(*args, **kwargs) from builtins.type\n",
      " |      Create and return a new object.  See help(type) for accurate signature.\n",
      " |  \n",
      " |  __repr__(self, /)\n",
      " |      Return repr(self).\n",
      " |  \n",
      " |  __reversed__(...)\n",
      " |      L.__reversed__() -- return a reverse iterator over the list\n",
      " |  \n",
      " |  __rmul__(self, value, /)\n",
      " |      Return self*value.\n",
      " |  \n",
      " |  __setitem__(self, key, value, /)\n",
      " |      Set self[key] to value.\n",
      " |  \n",
      " |  __sizeof__(...)\n",
      " |      L.__sizeof__() -- size of L in memory, in bytes\n",
      " |  \n",
      " |  append(...)\n",
      " |      L.append(object) -> None -- append object to end\n",
      " |  \n",
      " |  clear(...)\n",
      " |      L.clear() -> None -- remove all items from L\n",
      " |  \n",
      " |  copy(...)\n",
      " |      L.copy() -> list -- a shallow copy of L\n",
      " |  \n",
      " |  count(...)\n",
      " |      L.count(value) -> integer -- return number of occurrences of value\n",
      " |  \n",
      " |  extend(...)\n",
      " |      L.extend(iterable) -> None -- extend list by appending elements from the iterable\n",
      " |  \n",
      " |  index(...)\n",
      " |      L.index(value, [start, [stop]]) -> integer -- return first index of value.\n",
      " |      Raises ValueError if the value is not present.\n",
      " |  \n",
      " |  insert(...)\n",
      " |      L.insert(index, object) -- insert object before index\n",
      " |  \n",
      " |  pop(...)\n",
      " |      L.pop([index]) -> item -- remove and return item at index (default last).\n",
      " |      Raises IndexError if list is empty or index is out of range.\n",
      " |  \n",
      " |  remove(...)\n",
      " |      L.remove(value) -> None -- remove first occurrence of value.\n",
      " |      Raises ValueError if the value is not present.\n",
      " |  \n",
      " |  reverse(...)\n",
      " |      L.reverse() -- reverse *IN PLACE*\n",
      " |  \n",
      " |  sort(...)\n",
      " |      L.sort(key=None, reverse=False) -> None -- stable sort *IN PLACE*\n",
      " |  \n",
      " |  ----------------------------------------------------------------------\n",
      " |  Data and other attributes defined here:\n",
      " |  \n",
      " |  __hash__ = None\n",
      "\n"
     ]
    }
   ],
   "source": [
    "help(list)"
   ]
  },
  {
   "cell_type": "markdown",
   "metadata": {},
   "source": [
    "You can see above that list is a built-in class with various methods.\n",
    "<br> As we had already said that an object of a class is like its blue print. \n",
    "<br> Uptil now, all the times you had created list objects, you could use these methods.\n",
    "\n",
    "<font color=orange>### IMPORTANT NOTE </font>\n",
    "<br> You could use help() method to get the description of any class in python."
   ]
  },
  {
   "cell_type": "code",
   "execution_count": 4,
   "metadata": {
    "collapsed": true
   },
   "outputs": [],
   "source": [
    "l = [\"Welcome\",\"to\",\"OOP chapter\"]"
   ]
  },
  {
   "cell_type": "code",
   "execution_count": 7,
   "metadata": {},
   "outputs": [
    {
     "data": {
      "text/plain": [
       "True"
      ]
     },
     "execution_count": 7,
     "metadata": {},
     "output_type": "execute_result"
    }
   ],
   "source": [
    "l.__contains__(\"to\")"
   ]
  },
  {
   "cell_type": "markdown",
   "metadata": {},
   "source": [
    "You must have noticed some methods have double underscores before and after their names.\n",
    "<br> These methods are *magic* or *special* methods. \n",
    "<br> For eg. l[1] is equivalent to l.__getitem__(1)\n",
    "<br> There are many such magic functions. You can explore as many as you want."
   ]
  },
  {
   "cell_type": "code",
   "execution_count": 16,
   "metadata": {},
   "outputs": [
    {
     "data": {
      "text/plain": [
       "'to'"
      ]
     },
     "execution_count": 16,
     "metadata": {},
     "output_type": "execute_result"
    }
   ],
   "source": [
    "l.__getitem__(1)"
   ]
  },
  {
   "cell_type": "code",
   "execution_count": 15,
   "metadata": {},
   "outputs": [
    {
     "data": {
      "text/plain": [
       "'to'"
      ]
     },
     "execution_count": 15,
     "metadata": {},
     "output_type": "execute_result"
    }
   ],
   "source": [
    "l[1]"
   ]
  },
  {
   "cell_type": "markdown",
   "metadata": {},
   "source": [
    "<font color=orange>### IMPORTANT NOTE </font>\n",
    "<br> As we had already discussed, everything in Python is an object.\n",
    "<br> Whatever variables we had created uptil now they, were objects of some or the other class.\n",
    "<br> You can always verify it using the type() method.\n",
    "\n",
    "Now we will go on to create user defined classes and objects."
   ]
  },
  {
   "cell_type": "markdown",
   "metadata": {},
   "source": [
    "# User-defined classes\n",
    "\n",
    "User defined classes are those classes which are created or defined by the programmer.\n",
    "<br> User defined classes prove to be useful when you want to group a set of functionalities and use them repeatedly.\n",
    "<br> For eg. A class teacher of a class of 100 students wants to keep record of their roll no., name, and marks.\n",
    "<br> One way could be creating a list of 100 dictionaries containing keys as roll no, name and marks as we have been doing until now.\n",
    "<br> More presentable, maintainable and easier to code way would be to use classes and objects.\n",
    "<br> How?\n",
    "<br> Create a class student with attributes name, roll no and marks.\n",
    "<br> Now create a list 100 objects of student class and assign name, roll no and marks with their respective values.\n",
    "<br> This is more maintainable way.\n",
    "<br> If suppose later a new student joins the class we just need to append one more student object to the list. Instead of appending a dictionary.\n",
    "<br> Still if the programmer is stubborn he can still stick to using a dictionary but the added advantage of using objects is it can perform **actions**. Recall that objects store data and perform actions.\n",
    "<br> You can add methods to your class such as showMarks(), changeMarks(), etc which cannot be done in the former technique.\n",
    "\n",
    "Lets jump straight to the examples."
   ]
  },
  {
   "cell_type": "markdown",
   "metadata": {},
   "source": [
    "Create a class called Student. It has attributes such as name, roll no., marks.\n",
    "<br> It has method \\__str\\__() which prints \"Hello everyone my name is $name$\", replace $name$ with name of the student.\n",
    "\n",
    "<font color=orange>### IMPORTANT NOTE </font>\n",
    "<br> Class names should always start with capital letters.\n",
    "<br> Method names should always start with small letters and the other important words in the name must begin with capital letters.\n",
    "<br> eg. \\__str\\__() here introduce starts with small 'i' but later Yourself starts with capital 'Y'."
   ]
  },
  {
   "cell_type": "markdown",
   "metadata": {},
   "source": [
    "### Lets look at a basic implementation of a class for a LMS (Learning Management System) focused on course and student management."
   ]
  },
  {
   "cell_type": "code",
   "execution_count": 218,
   "metadata": {
    "collapsed": true
   },
   "outputs": [],
   "source": [
    "class Student:\n",
    "    \n",
    "    def __init__(self, name, roll_no, marks):\n",
    "        '''\n",
    "            This is a constructor method which needs to be compulsarily named as __init__\n",
    "            This method would be called whenever an object is created.\n",
    "            Creating this method is upto the programmer but it is a good practice to create an constructor method as far\n",
    "            as possible\n",
    "            \n",
    "            Everywhere inside the class we have written self, because self refers to the current calling object.\n",
    "        '''\n",
    "        print(\"Student Object Created\")\n",
    "        self.name = name\n",
    "        self.roll_no = roll_no\n",
    "        self.marks = marks\n",
    "        \n",
    "    def __str__(self):\n",
    "        \n",
    "        return \"Hello everyone, my name is \" + self.name\n",
    "    \n",
    "    def __del__(self):\n",
    "        \n",
    "        print('Finalizer called, student object deleted.')\n",
    "        "
   ]
  },
  {
   "cell_type": "markdown",
   "metadata": {},
   "source": [
    "<font color=orange>### IMPORTANT NOTE </font>\n",
    "<br> Methods in a class can be arranged in any order as the programmer wishes to arrange them.\n",
    "<br> Since, we have been using Jupyter notebook throughout the course you must have got the habit of writing code separated in cells. But you can't do that in case of OOP. **Complete class must be written in a single cell.**\n",
    "<br> The drawback is that for testing each method you need to create an object of the class and then test each method."
   ]
  },
  {
   "cell_type": "markdown",
   "metadata": {},
   "source": [
    "## Instance of a class\n",
    "    \n",
    "We create an instance of the class by using function notation.\n",
    "<br> This instance is created by Student() then this instance needs to be assigned to a variable.\n",
    "<br> Below you can see that the variable is student which can also be called object of the class Student."
   ]
  },
  {
   "cell_type": "code",
   "execution_count": 219,
   "metadata": {},
   "outputs": [
    {
     "name": "stdout",
     "output_type": "stream",
     "text": [
      "Student Object Created\n"
     ]
    }
   ],
   "source": [
    "student = Student(\"Ashish\", 29, 97) "
   ]
  },
  {
   "cell_type": "code",
   "execution_count": 220,
   "metadata": {},
   "outputs": [
    {
     "data": {
      "text/plain": [
       "'Ashish'"
      ]
     },
     "execution_count": 220,
     "metadata": {},
     "output_type": "execute_result"
    }
   ],
   "source": [
    "student.name"
   ]
  },
  {
   "cell_type": "code",
   "execution_count": 221,
   "metadata": {},
   "outputs": [
    {
     "data": {
      "text/plain": [
       "29"
      ]
     },
     "execution_count": 221,
     "metadata": {},
     "output_type": "execute_result"
    }
   ],
   "source": [
    "student.roll_no"
   ]
  },
  {
   "cell_type": "code",
   "execution_count": 222,
   "metadata": {},
   "outputs": [
    {
     "data": {
      "text/plain": [
       "97"
      ]
     },
     "execution_count": 222,
     "metadata": {},
     "output_type": "execute_result"
    }
   ],
   "source": [
    "student.marks"
   ]
  },
  {
   "cell_type": "code",
   "execution_count": 223,
   "metadata": {},
   "outputs": [
    {
     "name": "stdout",
     "output_type": "stream",
     "text": [
      "Hello everyone, my name is Ashish\n"
     ]
    }
   ],
   "source": [
    "print(student)"
   ]
  },
  {
   "cell_type": "code",
   "execution_count": 224,
   "metadata": {},
   "outputs": [
    {
     "name": "stdout",
     "output_type": "stream",
     "text": [
      "Student Object Created\n"
     ]
    }
   ],
   "source": [
    "# Creating another object\n",
    "\n",
    "student2 = Student(\"Ashok\", 31, 99)"
   ]
  },
  {
   "cell_type": "code",
   "execution_count": 225,
   "metadata": {},
   "outputs": [
    {
     "data": {
      "text/plain": [
       "'Ashok'"
      ]
     },
     "execution_count": 225,
     "metadata": {},
     "output_type": "execute_result"
    }
   ],
   "source": [
    "student2.name"
   ]
  },
  {
   "cell_type": "code",
   "execution_count": 226,
   "metadata": {},
   "outputs": [
    {
     "data": {
      "text/plain": [
       "31"
      ]
     },
     "execution_count": 226,
     "metadata": {},
     "output_type": "execute_result"
    }
   ],
   "source": [
    "student2.roll_no"
   ]
  },
  {
   "cell_type": "code",
   "execution_count": 227,
   "metadata": {},
   "outputs": [
    {
     "data": {
      "text/plain": [
       "99"
      ]
     },
     "execution_count": 227,
     "metadata": {},
     "output_type": "execute_result"
    }
   ],
   "source": [
    "student2.marks"
   ]
  },
  {
   "cell_type": "code",
   "execution_count": 228,
   "metadata": {},
   "outputs": [
    {
     "name": "stdout",
     "output_type": "stream",
     "text": [
      "Hello everyone, my name is Ashok\n"
     ]
    }
   ],
   "source": [
    "print(student2)"
   ]
  },
  {
   "cell_type": "code",
   "execution_count": 229,
   "metadata": {},
   "outputs": [
    {
     "name": "stdout",
     "output_type": "stream",
     "text": [
      "Destructor called, student object deleted.\n"
     ]
    }
   ],
   "source": [
    "del student"
   ]
  },
  {
   "cell_type": "markdown",
   "metadata": {},
   "source": [
    "### What just happened above???\n",
    "\n",
    "First, we created an object of class Student.\n",
    "<br> As soon as we had created the object, the \"\\__init\\__\" method got executed. Because it is a constructor.\n",
    "\n",
    "### What is a constructor?\n",
    "A constructor always gets executed on creation of an object. (Defining a constructor is optional)\n",
    "<br> Then using the addStudent() method we added a student and similarly we added a course using addCourse().\n",
    "<br> Everywhere inside the class we have written **self**, because self refers to the current calling object.\n",
    "<br> If you don't write self in a class that means that attribute is not specific to a object.\n",
    "\n",
    "After all the methods are called on the Student. Finally a finalizer is called on the student object using del object_name.\n",
    "\n",
    "### What is a finalizer?\n",
    "<br> All the objects are stored in a heap, when we call a finalizer, we clear the heap.\n",
    "Called when the instance is about to be destroyed. This is also called a finalizer or (improperly) a destructor. If a base class has a \\__del\\__() method, the derived class’s \\__del\\__() method, if any, must explicitly call it to ensure proper deletion of the base class part of the instance."
   ]
  },
  {
   "cell_type": "markdown",
   "metadata": {},
   "source": [
    "There are some issues in the above implementation.\n",
    "\n",
    "### Public and private attributes\n",
    "Public attributes are the attributes that can be accessed from other classes (anywhere inside or outside the class). \n",
    " \n",
    "Private attributes are the attributes that are only accessible only within the class.\n",
    "\n",
    "Since roll no and marks are public attributes, they need to be made private attributes.\n",
    "<br> As you saw above, we viewed the roll no and marks directly because they are public attributes.\n",
    "<br> This is very unsafe. Any person can create an object and alter those attributes which can be very harmful to the system.\n",
    "\n",
    "<font color=orange>### IMPORTANT NOTE </font>\n",
    "<br> Private attributes have a double underscores before them.\n",
    "eg. __name"
   ]
  },
  {
   "cell_type": "code",
   "execution_count": 155,
   "metadata": {
    "collapsed": true
   },
   "outputs": [],
   "source": [
    "class Student :\n",
    "    \n",
    "    # constructor\n",
    "    def __init__(self, name, roll_no, marks):\n",
    "        \n",
    "        print(\"Student object created\")\n",
    "        self.__name = name\n",
    "        self.__roll_no = roll_no\n",
    "        self.__marks = marks\n",
    "        \n",
    "    def __str__(self):\n",
    "        return \"Hello everyone, my name is \" + self.__name\n",
    "    \n",
    "    def __del__(self):\n",
    "        \n",
    "        print('Finalizer called, student object deleted.')    "
   ]
  },
  {
   "cell_type": "code",
   "execution_count": 156,
   "metadata": {},
   "outputs": [
    {
     "name": "stdout",
     "output_type": "stream",
     "text": [
      "Student object created\n"
     ]
    }
   ],
   "source": [
    "student = Student(\"Ashish\", 45, 89)"
   ]
  },
  {
   "cell_type": "code",
   "execution_count": 157,
   "metadata": {},
   "outputs": [
    {
     "ename": "AttributeError",
     "evalue": "'Student' object has no attribute '__name'",
     "output_type": "error",
     "traceback": [
      "\u001b[1;31m---------------------------------------------------------------------------\u001b[0m",
      "\u001b[1;31mAttributeError\u001b[0m                            Traceback (most recent call last)",
      "\u001b[1;32m<ipython-input-157-21f4af1beefc>\u001b[0m in \u001b[0;36m<module>\u001b[1;34m()\u001b[0m\n\u001b[0;32m      1\u001b[0m \u001b[1;31m# Now there is no way to access name, roll no. and marks of a student directly\u001b[0m\u001b[1;33m\u001b[0m\u001b[1;33m\u001b[0m\u001b[0m\n\u001b[0;32m      2\u001b[0m \u001b[1;33m\u001b[0m\u001b[0m\n\u001b[1;32m----> 3\u001b[1;33m \u001b[0mstudent\u001b[0m\u001b[1;33m.\u001b[0m\u001b[0m__name\u001b[0m\u001b[1;33m\u001b[0m\u001b[0m\n\u001b[0m",
      "\u001b[1;31mAttributeError\u001b[0m: 'Student' object has no attribute '__name'"
     ]
    }
   ],
   "source": [
    "# Now there is no way to access name, roll no. and marks of a student directly\n",
    "\n",
    "student.__name"
   ]
  },
  {
   "cell_type": "code",
   "execution_count": 158,
   "metadata": {},
   "outputs": [
    {
     "ename": "AttributeError",
     "evalue": "'Student' object has no attribute '__marks'",
     "output_type": "error",
     "traceback": [
      "\u001b[1;31m---------------------------------------------------------------------------\u001b[0m",
      "\u001b[1;31mAttributeError\u001b[0m                            Traceback (most recent call last)",
      "\u001b[1;32m<ipython-input-158-6651c61df5a4>\u001b[0m in \u001b[0;36m<module>\u001b[1;34m()\u001b[0m\n\u001b[1;32m----> 1\u001b[1;33m \u001b[0mstudent\u001b[0m\u001b[1;33m.\u001b[0m\u001b[0m__marks\u001b[0m\u001b[1;33m\u001b[0m\u001b[0m\n\u001b[0m",
      "\u001b[1;31mAttributeError\u001b[0m: 'Student' object has no attribute '__marks'"
     ]
    }
   ],
   "source": [
    "student.__marks"
   ]
  },
  {
   "cell_type": "code",
   "execution_count": 159,
   "metadata": {},
   "outputs": [
    {
     "name": "stdout",
     "output_type": "stream",
     "text": [
      "Hello everyone, my name is Ashish\n"
     ]
    }
   ],
   "source": [
    "print(student)"
   ]
  },
  {
   "cell_type": "markdown",
   "metadata": {},
   "source": [
    "In the previous example, we spoke about objects being secure and private, at times a class needs to access an object from another class. In this case it becomes extremely important to add methods which can retrieve objects and set the value of objects without directly accessing the object.\n",
    "<br> These methods are called as **Getters and Setters**."
   ]
  },
  {
   "cell_type": "markdown",
   "metadata": {},
   "source": [
    "## Getters and setters\n",
    "Getters are the methods which return the data they are defined for and setters are used to set the data they are defined for.\n",
    "<br> In the following version you can see how getters and setters are used."
   ]
  },
  {
   "cell_type": "code",
   "execution_count": 160,
   "metadata": {
    "collapsed": true
   },
   "outputs": [],
   "source": [
    "class Student :\n",
    "    \n",
    "    # constructor\n",
    "    def __init__(self, name, roll_no, marks):\n",
    "        \n",
    "        print(\"Student object created\")\n",
    "        self.__name = name\n",
    "        self.__roll_no = roll_no\n",
    "        self.__marks = marks\n",
    "        \n",
    "    def setName(self, name):\n",
    "        self.__name = name\n",
    "        \n",
    "    def setRollNo(self, name):\n",
    "        self.__roll_no = roll_no\n",
    "        \n",
    "    def setMarks(self, marks):\n",
    "        self.__marks = marks\n",
    "        \n",
    "    def getName(self):\n",
    "        return self.__name\n",
    "        \n",
    "    def getRollNo(self):\n",
    "        return self.__roll_no \n",
    "        \n",
    "    def getMarks(self):\n",
    "        return self.__marks\n",
    "        \n",
    "    def __str__(self):\n",
    "        return \"Hello everyone, my name is \" + self.__name\n",
    "\n",
    "    def __del__(self):\n",
    "        \n",
    "        print('Finalizer called, student object deleted.')"
   ]
  },
  {
   "cell_type": "code",
   "execution_count": 161,
   "metadata": {},
   "outputs": [
    {
     "name": "stdout",
     "output_type": "stream",
     "text": [
      "Student object created\n"
     ]
    }
   ],
   "source": [
    "student = Student(\"Ashish\", 27, 78)"
   ]
  },
  {
   "cell_type": "code",
   "execution_count": 162,
   "metadata": {},
   "outputs": [
    {
     "data": {
      "text/plain": [
       "'Ashish'"
      ]
     },
     "execution_count": 162,
     "metadata": {},
     "output_type": "execute_result"
    }
   ],
   "source": [
    "# use getName()\n",
    "\n",
    "student.getName()"
   ]
  },
  {
   "cell_type": "code",
   "execution_count": 163,
   "metadata": {
    "scrolled": true
   },
   "outputs": [
    {
     "data": {
      "text/plain": [
       "27"
      ]
     },
     "execution_count": 163,
     "metadata": {},
     "output_type": "execute_result"
    }
   ],
   "source": [
    "student.getRollNo()"
   ]
  },
  {
   "cell_type": "code",
   "execution_count": 164,
   "metadata": {},
   "outputs": [
    {
     "data": {
      "text/plain": [
       "78"
      ]
     },
     "execution_count": 164,
     "metadata": {},
     "output_type": "execute_result"
    }
   ],
   "source": [
    "student.getMarks()"
   ]
  },
  {
   "cell_type": "code",
   "execution_count": 165,
   "metadata": {
    "collapsed": true
   },
   "outputs": [],
   "source": [
    "student.setMarks(86)"
   ]
  },
  {
   "cell_type": "code",
   "execution_count": 166,
   "metadata": {},
   "outputs": [
    {
     "data": {
      "text/plain": [
       "86"
      ]
     },
     "execution_count": 166,
     "metadata": {},
     "output_type": "execute_result"
    }
   ],
   "source": [
    "student.getMarks()"
   ]
  },
  {
   "cell_type": "code",
   "execution_count": 167,
   "metadata": {},
   "outputs": [
    {
     "name": "stdout",
     "output_type": "stream",
     "text": [
      "Hello everyone, my name is Ashish\n"
     ]
    }
   ],
   "source": [
    "print(student)"
   ]
  },
  {
   "cell_type": "markdown",
   "metadata": {},
   "source": [
    "Thus one can access the data through methods but not directly. This concept is called data hiding."
   ]
  },
  {
   "cell_type": "markdown",
   "metadata": {},
   "source": [
    "# Class variables\n",
    "\n",
    "Uptil now inside the classes whichever variables we had created name, roll_no and marks all these were instance variables.\n",
    "<br> **Instance variables** are the variables that are created on creation of an instance.\n",
    "<br> In this case for each student object created a new set of name, roll_no and marks would be created.\n",
    "\n",
    "Class variables are the variables that are created on creation of a class.\n",
    "<br> Once the class is created, the variable is initialised with a value and the value remains same no matter how many objects are created."
   ]
  },
  {
   "cell_type": "code",
   "execution_count": 169,
   "metadata": {
    "collapsed": true
   },
   "outputs": [],
   "source": [
    "class Student :\n",
    "    \n",
    "    classroom = \"DS - 1\"\n",
    "    \n",
    "    # constructor\n",
    "    def __init__(self, name, roll_no, marks):\n",
    "        \n",
    "        print(\"Student object created\")\n",
    "        self.__name = name\n",
    "        self.__roll_no = roll_no\n",
    "        self.__marks = marks\n",
    "        \n",
    "    def setName(self, name):\n",
    "        self.__name = name\n",
    "        \n",
    "    def setRollNo(self, name):\n",
    "        self.__roll_no = roll_no\n",
    "        \n",
    "    def setMarks(self, marks):\n",
    "        self.__marks = marks\n",
    "        \n",
    "    def getName(self):\n",
    "        return self.__name\n",
    "        \n",
    "    def getRollNo(self):\n",
    "        return self.__roll_no \n",
    "        \n",
    "    def getMarks(self):\n",
    "        return self.__marks\n",
    "        \n",
    "    def __str__(self):\n",
    "        return \"Hello everyone, my name is \" + self.__name\n",
    "    \n",
    "    def __del__(self):\n",
    "        \n",
    "        print('Finalizer called, student object deleted.')"
   ]
  },
  {
   "cell_type": "code",
   "execution_count": 170,
   "metadata": {},
   "outputs": [
    {
     "name": "stdout",
     "output_type": "stream",
     "text": [
      "Student object created\n"
     ]
    }
   ],
   "source": [
    "student = Student(\"Ashish\", 29, 89)"
   ]
  },
  {
   "cell_type": "code",
   "execution_count": 171,
   "metadata": {},
   "outputs": [
    {
     "name": "stdout",
     "output_type": "stream",
     "text": [
      "Hello everyone, my name is Ashish\n"
     ]
    }
   ],
   "source": [
    "print(student)"
   ]
  },
  {
   "cell_type": "code",
   "execution_count": 172,
   "metadata": {},
   "outputs": [
    {
     "data": {
      "text/plain": [
       "'DS - 1'"
      ]
     },
     "execution_count": 172,
     "metadata": {},
     "output_type": "execute_result"
    }
   ],
   "source": [
    "student.classroom"
   ]
  },
  {
   "cell_type": "code",
   "execution_count": 173,
   "metadata": {},
   "outputs": [
    {
     "name": "stdout",
     "output_type": "stream",
     "text": [
      "Student object created\n"
     ]
    }
   ],
   "source": [
    "# Creating another object\n",
    "\n",
    "student2 = Student(\"Ashok\", 31, 99)"
   ]
  },
  {
   "cell_type": "code",
   "execution_count": 174,
   "metadata": {},
   "outputs": [
    {
     "name": "stdout",
     "output_type": "stream",
     "text": [
      "Hello everyone, my name is Ashok\n"
     ]
    }
   ],
   "source": [
    "print(student2)"
   ]
  },
  {
   "cell_type": "code",
   "execution_count": 175,
   "metadata": {},
   "outputs": [
    {
     "data": {
      "text/plain": [
       "'DS - 1'"
      ]
     },
     "execution_count": 175,
     "metadata": {},
     "output_type": "execute_result"
    }
   ],
   "source": [
    "student2.classroom"
   ]
  },
  {
   "cell_type": "markdown",
   "metadata": {},
   "source": [
    "Each and every object will be assigned with the same classroom.\n",
    "\n",
    "<font color=orange>### IMPORTANT NOTE </font>\n",
    "<br> Be careful. Always use class variables whenever you want the same value of variable for all objects otherwise use instance variable.\n"
   ]
  },
  {
   "cell_type": "code",
   "execution_count": 177,
   "metadata": {
    "collapsed": true
   },
   "outputs": [],
   "source": [
    "class Student :\n",
    "    \n",
    "    __courses = []\n",
    "    \n",
    "    # constructor\n",
    "    def __init__(self, name, roll_no, marks):\n",
    "        \n",
    "        print(\"Student object created\")\n",
    "        self.__name = name\n",
    "        self.__roll_no = roll_no\n",
    "        self.__marks = marks\n",
    "        \n",
    "    def setName(self, name):\n",
    "        self.__name = name\n",
    "        \n",
    "    def setRollNo(self, name):\n",
    "        self.__roll_no = roll_no\n",
    "        \n",
    "    def setMarks(self, marks):\n",
    "        self.__marks = marks\n",
    "        \n",
    "    def getName(self):\n",
    "        return self.__name\n",
    "        \n",
    "    def getRollNo(self):\n",
    "        return self.__roll_no \n",
    "        \n",
    "    def getMarks(self):\n",
    "        return self.__marks\n",
    "    \n",
    "    def addCourse(self, course):\n",
    "        self.__courses.append(course)\n",
    "    \n",
    "    def getCourses(self):\n",
    "        return self.__courses\n",
    "        \n",
    "    def __str__(self):\n",
    "        return \"Hello everyone, my name is \" + self.__name\n",
    "    \n",
    "    def __del__(self):\n",
    "        \n",
    "        print('Finalizer called, student object deleted.')"
   ]
  },
  {
   "cell_type": "code",
   "execution_count": 178,
   "metadata": {
    "scrolled": true
   },
   "outputs": [
    {
     "name": "stdout",
     "output_type": "stream",
     "text": [
      "Student object created\n"
     ]
    }
   ],
   "source": [
    "student = Student(\"Ashish\", 29, 89)"
   ]
  },
  {
   "cell_type": "code",
   "execution_count": 179,
   "metadata": {},
   "outputs": [
    {
     "name": "stdout",
     "output_type": "stream",
     "text": [
      "Hello everyone, my name is Ashish\n"
     ]
    }
   ],
   "source": [
    "print(student)"
   ]
  },
  {
   "cell_type": "code",
   "execution_count": 180,
   "metadata": {
    "collapsed": true
   },
   "outputs": [],
   "source": [
    "student.addCourse(\"DA\")"
   ]
  },
  {
   "cell_type": "code",
   "execution_count": 181,
   "metadata": {},
   "outputs": [
    {
     "data": {
      "text/plain": [
       "['DA']"
      ]
     },
     "execution_count": 181,
     "metadata": {},
     "output_type": "execute_result"
    }
   ],
   "source": [
    "student.getCourses()"
   ]
  },
  {
   "cell_type": "code",
   "execution_count": 182,
   "metadata": {
    "scrolled": true
   },
   "outputs": [
    {
     "name": "stdout",
     "output_type": "stream",
     "text": [
      "Student object created\n"
     ]
    }
   ],
   "source": [
    "student2 = Student(\"Ashok\", 39, 89)"
   ]
  },
  {
   "cell_type": "code",
   "execution_count": 183,
   "metadata": {},
   "outputs": [
    {
     "name": "stdout",
     "output_type": "stream",
     "text": [
      "Hello everyone, my name is Ashok\n"
     ]
    }
   ],
   "source": [
    "print(student2)"
   ]
  },
  {
   "cell_type": "code",
   "execution_count": 184,
   "metadata": {
    "collapsed": true
   },
   "outputs": [],
   "source": [
    "student2.addCourse(\"Excel\")"
   ]
  },
  {
   "cell_type": "code",
   "execution_count": 185,
   "metadata": {},
   "outputs": [
    {
     "data": {
      "text/plain": [
       "['DA', 'Excel']"
      ]
     },
     "execution_count": 185,
     "metadata": {},
     "output_type": "execute_result"
    }
   ],
   "source": [
    "student2.getCourses()"
   ]
  },
  {
   "cell_type": "markdown",
   "metadata": {},
   "source": [
    "This is wrong usage of class variable. Here, student and student2 both have DA but student2 has taken only Excel course.\n",
    "<br> Here every student has personal set of courses and thus it is more preferable to keep courses as instance variable."
   ]
  },
  {
   "cell_type": "code",
   "execution_count": 284,
   "metadata": {
    "collapsed": true
   },
   "outputs": [],
   "source": [
    "class Student :\n",
    "       \n",
    "    # constructor\n",
    "    def __init__(self, name, roll_no, marks):\n",
    "        \n",
    "        self.__name = name\n",
    "        self.__roll_no = roll_no\n",
    "        self.__marks = marks\n",
    "        self.__courses = []\n",
    "        \n",
    "    def setName(self, name):\n",
    "        self.__name = name\n",
    "        \n",
    "    def setRollNo(self, name):\n",
    "        self.__roll_no = roll_no\n",
    "        \n",
    "    def setMarks(self, marks):\n",
    "        self.__marks = marks\n",
    "        \n",
    "    def getName(self):\n",
    "        return self.__name\n",
    "        \n",
    "    def getRollNo(self):\n",
    "        return self.__roll_no \n",
    "        \n",
    "    def getMarks(self):\n",
    "        return self.__marks\n",
    "    \n",
    "    def addCourse(self, course):\n",
    "        self.__courses.append(course)\n",
    "    \n",
    "    def getCourses(self):\n",
    "        return self.__courses\n",
    "        \n",
    "    def __str__(self):\n",
    "        return \"Hello everyone, my name is \" + self.__name\n",
    "\n",
    "    def __del__(self):\n",
    "        \n",
    "        print('Finalizer called, student object deleted.')"
   ]
  },
  {
   "cell_type": "code",
   "execution_count": 255,
   "metadata": {
    "collapsed": true,
    "scrolled": true
   },
   "outputs": [],
   "source": [
    "student = Student(\"Ashish\", 29, 89)"
   ]
  },
  {
   "cell_type": "code",
   "execution_count": 256,
   "metadata": {},
   "outputs": [
    {
     "name": "stdout",
     "output_type": "stream",
     "text": [
      "Hello everyone, my name is Ashish\n"
     ]
    }
   ],
   "source": [
    "print(student)"
   ]
  },
  {
   "cell_type": "code",
   "execution_count": 257,
   "metadata": {
    "collapsed": true
   },
   "outputs": [],
   "source": [
    "student.addCourse(\"DA\")"
   ]
  },
  {
   "cell_type": "code",
   "execution_count": 258,
   "metadata": {},
   "outputs": [
    {
     "data": {
      "text/plain": [
       "['DA']"
      ]
     },
     "execution_count": 258,
     "metadata": {},
     "output_type": "execute_result"
    }
   ],
   "source": [
    "student.getCourses()"
   ]
  },
  {
   "cell_type": "code",
   "execution_count": 259,
   "metadata": {
    "scrolled": true
   },
   "outputs": [
    {
     "name": "stdout",
     "output_type": "stream",
     "text": [
      "Destructor called, student object deleted.\n"
     ]
    }
   ],
   "source": [
    "student2 = Student(\"Ashok\", 39, 89)"
   ]
  },
  {
   "cell_type": "code",
   "execution_count": 260,
   "metadata": {},
   "outputs": [
    {
     "name": "stdout",
     "output_type": "stream",
     "text": [
      "Hello everyone, my name is Ashok\n"
     ]
    }
   ],
   "source": [
    "print(student2)"
   ]
  },
  {
   "cell_type": "code",
   "execution_count": 261,
   "metadata": {
    "collapsed": true
   },
   "outputs": [],
   "source": [
    "student2.addCourse(\"Excel\")"
   ]
  },
  {
   "cell_type": "code",
   "execution_count": 262,
   "metadata": {},
   "outputs": [
    {
     "data": {
      "text/plain": [
       "['Excel']"
      ]
     },
     "execution_count": 262,
     "metadata": {},
     "output_type": "execute_result"
    }
   ],
   "source": [
    "student2.getCourses()"
   ]
  },
  {
   "cell_type": "markdown",
   "metadata": {},
   "source": [
    "# Inheritance\n",
    "\n",
    "Inheritance like in humans, is about carrying certain genetic properties from one generation to the next. \n",
    "<br> In object-oriented programming, inheritance enables new objects to take on the properties of existing objects. A class that is used as the basis for inheritance is called a superclass or base class. A class that inherits from a superclass is called a subclass or derived class. A child inherits visible properties and methods from its parent while adding additional properties and methods of its own.\n",
    "<br> <table>\n",
    "  <tr style=\"text-align:left\">\n",
    "  <td>Base class/ Superclass<td>\n",
    "    <td>Parent</td>\n",
    " </tr>\n",
    " <tr style=\"text-align:left\">\n",
    "  <td>Subclass<td>\n",
    "    <td>Child</td>\n",
    "  </tr>\n",
    "</table>\n",
    "    \n",
    "Subclasses and superclasses can be understood in terms of the **is a** relationship. A subclass is a more specific instance of a superclass. For example, an assistant professor **is a** professor.  If the is a relationship does not exist between a subclass and superclass, you should not use inheritance. \n",
    "<br> An assistant professor is a professor; so it is okay to write an assistant professor class that is a subclass of a professor class. As a contrast, a kitchen has a sink. It would not make sense to say a kitchen is a sink or that a sink is a kitchen. "
   ]
  },
  {
   "cell_type": "code",
   "execution_count": 263,
   "metadata": {
    "collapsed": true
   },
   "outputs": [],
   "source": [
    "class Professor:\n",
    "    \n",
    "    def __init__(self, name, subject, experience):\n",
    "        self.name = name\n",
    "        self.subject = subject\n",
    "        self.experience = experience\n",
    "        \n",
    "    def setSubject(self, subject):\n",
    "        \n",
    "        self.subject = subject\n",
    "    \n",
    "    def setExperience(self, experience):\n",
    "        \n",
    "        self.experience = experience\n",
    "    \n",
    "    def setName(self, name):\n",
    "        \n",
    "        self.name = name\n",
    "    \n",
    "    def getName(self):\n",
    "        \n",
    "        return self.name\n",
    "    \n",
    "    def getSubject(self):\n",
    "        \n",
    "        return self.subject\n",
    "    \n",
    "    def getExperience(self):\n",
    "        \n",
    "        return self.experience\n",
    "    \n",
    "    def __str__(self):\n",
    "        \n",
    "        return \"Hello, my name is \" + self.name + \". I am a Professor with an experience of \" + str(self.experience)\n",
    "\n",
    "    def __del__(self):\n",
    "        \n",
    "        print('Finalizer called, professor object deleted.')"
   ]
  },
  {
   "cell_type": "code",
   "execution_count": 264,
   "metadata": {
    "collapsed": true
   },
   "outputs": [],
   "source": [
    "class AssistantProfessor(Professor):\n",
    "    \n",
    "    def __init__(self, name, subject, experience, numberOfTeachingAssistants):\n",
    "        Professor.__init__(self, name, subject, experience)\n",
    "        self.numberOfTeachingAssistants = numberOfTeachingAssistants\n",
    "        \n",
    "    def getNumberOfTeachingAssistants(self):\n",
    "        \n",
    "        return self.numberOfTeachingAssistants  \n",
    "    \n",
    "    def setNumberOfTeachingAssistants(self, name):\n",
    "        \n",
    "        self.name = numberOfTeachingAssistants\n",
    "        \n",
    "    def __str__(self):\n",
    "        \n",
    "        return \"Hello, my name is \" + self.name + \". I am an assistant professor with an experience of %s\"% str(self.experience)\n",
    "    \n",
    "    def __del__(self):\n",
    "        \n",
    "        print('Finalizer called, assistant professor object deleted.')"
   ]
  },
  {
   "cell_type": "code",
   "execution_count": 265,
   "metadata": {},
   "outputs": [
    {
     "name": "stdout",
     "output_type": "stream",
     "text": [
      "Destructor called, assistant professor object deleted.\n"
     ]
    }
   ],
   "source": [
    "assistantProf = AssistantProfessor(\"Rama\", \"Physics\", 10, 15)"
   ]
  },
  {
   "cell_type": "code",
   "execution_count": 266,
   "metadata": {},
   "outputs": [
    {
     "data": {
      "text/plain": [
       "15"
      ]
     },
     "execution_count": 266,
     "metadata": {},
     "output_type": "execute_result"
    }
   ],
   "source": [
    "assistantProf.getNumberOfTeachingAssistants()"
   ]
  },
  {
   "cell_type": "code",
   "execution_count": 267,
   "metadata": {},
   "outputs": [
    {
     "data": {
      "text/plain": [
       "10"
      ]
     },
     "execution_count": 267,
     "metadata": {},
     "output_type": "execute_result"
    }
   ],
   "source": [
    "assistantProf.getExperience()"
   ]
  },
  {
   "cell_type": "code",
   "execution_count": 268,
   "metadata": {},
   "outputs": [
    {
     "name": "stdout",
     "output_type": "stream",
     "text": [
      "Hello, my name is Rama. I am an assistant professor with an experience of 10\n"
     ]
    }
   ],
   "source": [
    "# Lets make use of special method\n",
    "\n",
    "print(assistantProf)"
   ]
  },
  {
   "cell_type": "code",
   "execution_count": 269,
   "metadata": {
    "collapsed": true
   },
   "outputs": [],
   "source": [
    "# Lets create an object of Professor class\n",
    "\n",
    "prof = Professor(\"Aman\", \"Geology\", 20)"
   ]
  },
  {
   "cell_type": "code",
   "execution_count": 270,
   "metadata": {},
   "outputs": [
    {
     "name": "stdout",
     "output_type": "stream",
     "text": [
      "Hello, my name is Aman. I am a Professor with an experience of 20\n"
     ]
    }
   ],
   "source": [
    "# Lets make use of special method\n",
    "\n",
    "print(prof)"
   ]
  },
  {
   "cell_type": "code",
   "execution_count": 271,
   "metadata": {},
   "outputs": [
    {
     "name": "stdout",
     "output_type": "stream",
     "text": [
      "Finalizer called, professor object deleted.\n"
     ]
    }
   ],
   "source": [
    "del prof"
   ]
  },
  {
   "cell_type": "markdown",
   "metadata": {},
   "source": [
    "As you can see the AssistantProfessor class does not have getExperience() but when we call the method on assistantProf object it got executed.\n",
    "<br> Inheritance allows you to inherit the methods of the parent class or super class\n",
    "\n",
    "<font color=orange>### IMPORTANT NOTE </font>\n",
    "<br> The constructor of the parent class can be accessed using super() or subclass_name.\\__init\\__().\n",
    "\n",
    "<font color=orange>### IMPORTANT NOTE </font>\n",
    "<br> When you call a method, the control starts searching the method from bottom till the top of the inheritance tree until the method is not found."
   ]
  },
  {
   "cell_type": "markdown",
   "metadata": {},
   "source": [
    "# Overriding\n",
    "\n",
    "Overriding is one of the most important concepts in Inheritance.\n",
    "<br> Overriding typically means extend over or overlap.\n",
    "<br> That is what happens in Overriding in case of Inheritance.\n",
    "<br> Subclass method overrides super class method.\n",
    "<br> As you can see above the \\__init\\__() method of AssistantProfessor overrides the \\__init\\__() method of the Professor class. Also the \\__str\\__ method of AssistantProfessor overrides \\__str\\__() method of Professor class.\n",
    " "
   ]
  },
  {
   "cell_type": "markdown",
   "metadata": {
    "collapsed": true
   },
   "source": [
    "# Multiple inheritance\n",
    "\n",
    "In multiple inheritance, a class inherits from multiple base classes.\n",
    "<br> In case if a method with same name appears in both the base classes the problem is called as \"Deadly Diamond of Death\" problem\n",
    "<br> In order to overcome it, reference the method using the classname.\n",
    "<br> You can see in the example below, \\__init\\__() method is reference using Student and AssistantProfessor class."
   ]
  },
  {
   "cell_type": "code",
   "execution_count": 272,
   "metadata": {
    "collapsed": true
   },
   "outputs": [],
   "source": [
    "class PhDStudent(Student, AssistantProfessor):\n",
    "\n",
    "    def __init__(self, name, roll_no, marks, subject, experience, numberOfTeachingAssistants, numberOfResearchPapers, researchPapers):\n",
    "        \n",
    "        Student.__init__(self,name, roll_no, marks)\n",
    "        AssistantProfessor.__init__(self,name, subject, experience, numberOfTeachingAssistants)\n",
    "        self.numberOfResearchPapers = numberOfResearchPapers\n",
    "        self.researchPapers = researchPapers\n",
    "    \n",
    "    def __str__(self):\n",
    "        return \"My name is \" + self.name + \". I have written {0} research papers\".format(self.numberOfResearchPapers) + \". They are {0}.\".format(','.join(self.researchPapers))\n",
    "    \n",
    "    def __del__(self):\n",
    "        \n",
    "        print('Finalizer called, PhD student object deleted.')"
   ]
  },
  {
   "cell_type": "code",
   "execution_count": 273,
   "metadata": {
    "collapsed": true
   },
   "outputs": [],
   "source": [
    "phdStudent = PhDStudent(\"Anvay\", 13, 90, \"Maths\", 5, 2, 3, [\"Spheres\", \"Geometry\", \"Algebra\"])"
   ]
  },
  {
   "cell_type": "code",
   "execution_count": 274,
   "metadata": {},
   "outputs": [
    {
     "name": "stdout",
     "output_type": "stream",
     "text": [
      "My name is Anvay. I have written 3 research papers. They are Spheres,Geometry,Algebra.\n"
     ]
    }
   ],
   "source": [
    "print(phdStudent)"
   ]
  },
  {
   "cell_type": "code",
   "execution_count": 275,
   "metadata": {},
   "outputs": [
    {
     "name": "stdout",
     "output_type": "stream",
     "text": [
      "Finalizer called, PhD student object deleted.\n"
     ]
    }
   ],
   "source": [
    "del phdStudent"
   ]
  },
  {
   "cell_type": "markdown",
   "metadata": {},
   "source": [
    "# Iterators\n",
    "\n",
    "Iterator is something that iterates over an iterable.\n",
    "<br> We know that lists, tuples, dictionaries and strings are iterables.\n",
    "<br> Below are few examples of iterators using for loop"
   ]
  },
  {
   "cell_type": "code",
   "execution_count": 276,
   "metadata": {},
   "outputs": [
    {
     "name": "stdout",
     "output_type": "stream",
     "text": [
      "1\n",
      "2\n",
      "3\n"
     ]
    }
   ],
   "source": [
    "for element in [1, 2, 3]:\n",
    "    print(element)"
   ]
  },
  {
   "cell_type": "markdown",
   "metadata": {},
   "source": [
    "Behind the scenes, the for statement calls iter() on the iterable. The function returns an iterator object that defines the method __next__() which accesses elements in the iterable one at a time. When there are no more elements, __next__() raises a StopIteration exception which tells the for loop to terminate. You can call the __next__() method using the next() built-in function; this example shows how it all works:"
   ]
  },
  {
   "cell_type": "code",
   "execution_count": 294,
   "metadata": {
    "collapsed": true
   },
   "outputs": [],
   "source": [
    "class NextStudent:\n",
    "    \"\"\"Iterator for looping over a list of students.\"\"\"\n",
    "    \n",
    "    def __init__(self, data):\n",
    "        '''\n",
    "        Initialise the list\n",
    "        Set index to -1\n",
    "        End is the end of the list index\n",
    "        '''\n",
    "        self.data = data\n",
    "        self.index = -1\n",
    "        self.end = len(data)\n",
    "\n",
    "    def __iter__(self):\n",
    "        return self\n",
    "\n",
    "    def __next__(self):\n",
    "        '''\n",
    "            Returns one list object at a time\n",
    "            This method is called repeatedly by for loop\n",
    "        '''\n",
    "        if self.index == self.end - 1:\n",
    "            raise StopIteration\n",
    "        self.index = self.index + 1\n",
    "        return self.data[self.index].getName()"
   ]
  },
  {
   "cell_type": "code",
   "execution_count": 295,
   "metadata": {},
   "outputs": [
    {
     "name": "stdout",
     "output_type": "stream",
     "text": [
      "Finalizer called, student object deleted.\n",
      "Finalizer called, student object deleted.\n",
      "Finalizer called, student object deleted.\n",
      "Finalizer called, student object deleted.\n",
      "Ashish\n",
      "Amay\n",
      "Akash\n",
      "Ajay\n"
     ]
    }
   ],
   "source": [
    "l = [Student(\"Ashish\", 20, 21), Student(\"Amay\", 21, 45), Student(\"Akash\", 31, 35), Student(\"Ajay\", 11, 85)]\n",
    "student_list = NextStudent(l)\n",
    "iter(student_list)\n",
    "\n",
    "for student in student_list:\n",
    "    print(student)"
   ]
  },
  {
   "cell_type": "markdown",
   "metadata": {
    "collapsed": true
   },
   "source": [
    "In the above example as you can see we are iterating over a list of student objects using an iterator.\n",
    "<br> You can see that how iterator works internally."
   ]
  },
  {
   "cell_type": "markdown",
   "metadata": {
    "collapsed": true
   },
   "source": [
    "# Generators\n",
    "\n",
    "Generators are a simple and powerful tool for creating iterators. They are written like regular functions but use the yield statement whenever they want to return data. Each time next() is called on it, the generator resumes where it left off (it remembers all the data values and which statement was last executed). \n",
    "<br> An example shows that generators can be trivially easy to create:"
   ]
  },
  {
   "cell_type": "code",
   "execution_count": 298,
   "metadata": {
    "collapsed": true
   },
   "outputs": [],
   "source": [
    "def showStudent(data):\n",
    "    for index in range(len(data)-1, -1, -1):\n",
    "        yield data[index].getName()"
   ]
  },
  {
   "cell_type": "code",
   "execution_count": 299,
   "metadata": {},
   "outputs": [
    {
     "name": "stdout",
     "output_type": "stream",
     "text": [
      "Amay\n",
      "Ashish\n",
      "Finalizer called, student object deleted.\n",
      "Finalizer called, student object deleted.\n"
     ]
    }
   ],
   "source": [
    "for student in showStudent([Student(\"Ashish\", 20, 21), Student(\"Amay\", 21, 45)]):\n",
    "    print(student)"
   ]
  },
  {
   "cell_type": "markdown",
   "metadata": {},
   "source": [
    "Anything that can be done with generators can also be done with class-based iterators. What makes generators so compact is that the \\__iter\\__() and \\__next\\__() methods are created automatically.\n",
    "\n",
    "Another key feature is that the local variables and execution state are automatically saved between calls. This makes the function easier to write and much more clear than an approach using instance variables like self.index and self.data.\n",
    "\n",
    "In addition to automatic method creation and saving program state, when generators terminate, they automatically raise StopIteration. In combination, these features make it easy to create iterators with no more effort than writing a normal function."
   ]
  },
  {
   "cell_type": "markdown",
   "metadata": {
    "collapsed": true
   },
   "source": [
    "# Summary\n",
    "\n",
    "No matter how many times we repeat this point, OOP is very very important part of software development.\n",
    "<br> This chapter is very crucial as these topics play a very important role in developing programs as a data scientist and also a software developer.\n",
    "<br> If you build a strong foundation in these topics you are on your journey towards becoming a great developer.\n",
    "<br> Lets get to hands on practice by solving the assignment.\n",
    "\n",
    "**All the best!!**<t>"
   ]
  }
 ],
 "metadata": {
  "kernelspec": {
   "display_name": "Python 3",
   "language": "python",
   "name": "python3"
  },
  "language_info": {
   "codemirror_mode": {
    "name": "ipython",
    "version": 3
   },
   "file_extension": ".py",
   "mimetype": "text/x-python",
   "name": "python",
   "nbconvert_exporter": "python",
   "pygments_lexer": "ipython3",
   "version": "3.6.1"
  }
 },
 "nbformat": 4,
 "nbformat_minor": 2
}
