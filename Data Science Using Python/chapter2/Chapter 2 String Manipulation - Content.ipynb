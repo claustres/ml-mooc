{
 "cells": [
  {
   "cell_type": "markdown",
   "metadata": {},
   "source": [
    "<img src=\"https://www.digitalvidya.com/wp-content/uploads/2013/05/Digital-Vidya-Website-Logo-HD-2-300x95.png\">"
   ]
  },
  {
   "cell_type": "markdown",
   "metadata": {},
   "source": [
    "# String Manipulation\n",
    "\n",
    "Hello!\n",
    "\n",
    "In this chapter we are going to explore a new datatype called as \"string\".\n",
    "\n",
    "You may observe that there is a lot of information that is expressed in words.\n",
    "Words, sentences are basically represented as \"Strings\" in Computer Programming.\n",
    "Earlier the programming language supported only one character at a time.\n",
    "However, all the programming languages now support String and prtovide easy ways to work with them.\n",
    "\n",
    "We have a full notebook for you to learn, so that you become comfortable with many possibilities that you have when you work with data.\n",
    "\n",
    "#### Strings  are  amongst  the  most  popular  types  in  Python. They  come  in  handy  while  handling  text  data. In  Data Analysis  its  often  used  wide  range  of  things  from  text  cleaning/manipulation, dates  conversion  to  sentiment  analysis.\n",
    "\n",
    "https://docs.python.org/3/library/stdtypes.html#text-sequence-type-str\n",
    "\n",
    "In this lecture we'll learn about the following:\n",
    "\n",
    "1. Creating Strings \n",
    "3. String Indexing and Slicing\n",
    "4. String Properties\n",
    "5. String Methods\n",
    "\n",
    "\n",
    "\n",
    "<br> Note:\n",
    "<br> You MUST do the CELLS marked as INSTRUCTION\n",
    "<font color=red>### INSTRUCTION TO DO</font>\n",
    "\n",
    "<br>**Lets begin**\n"
   ]
  },
  {
   "cell_type": "markdown",
   "metadata": {},
   "source": [
    "# Creating a String"
   ]
  },
  {
   "cell_type": "markdown",
   "metadata": {},
   "source": [
    "To create a string in Python you need to use either single quotes or double quotes. For example:"
   ]
  },
  {
   "cell_type": "code",
   "execution_count": 1,
   "metadata": {},
   "outputs": [
    {
     "data": {
      "text/plain": [
       "'hello'"
      ]
     },
     "execution_count": 1,
     "metadata": {},
     "output_type": "execute_result"
    }
   ],
   "source": [
    "# Single word\n",
    "'hello'"
   ]
  },
  {
   "cell_type": "code",
   "execution_count": 27,
   "metadata": {},
   "outputs": [
    {
     "data": {
      "text/plain": [
       "'Welcome to Digital Vidya'"
      ]
     },
     "execution_count": 27,
     "metadata": {},
     "output_type": "execute_result"
    }
   ],
   "source": [
    "# Entire phrase \n",
    "\n",
    "'Welcome to Digital Vidya'"
   ]
  },
  {
   "cell_type": "code",
   "execution_count": 28,
   "metadata": {},
   "outputs": [
    {
     "data": {
      "text/plain": [
       "'I am string containing double quotes'"
      ]
     },
     "execution_count": 28,
     "metadata": {},
     "output_type": "execute_result"
    }
   ],
   "source": [
    "# We can also use double quote\n",
    "\n",
    "\"I am string containing double quotes\""
   ]
  },
  {
   "cell_type": "code",
   "execution_count": 29,
   "metadata": {},
   "outputs": [
    {
     "ename": "SyntaxError",
     "evalue": "invalid syntax (<ipython-input-29-4703086968f5>, line 3)",
     "output_type": "error",
     "traceback": [
      "\u001b[1;36m  File \u001b[1;32m\"<ipython-input-29-4703086968f5>\"\u001b[1;36m, line \u001b[1;32m3\u001b[0m\n\u001b[1;33m    ' I'm using single quotes, but will create an error'\u001b[0m\n\u001b[1;37m        ^\u001b[0m\n\u001b[1;31mSyntaxError\u001b[0m\u001b[1;31m:\u001b[0m invalid syntax\n"
     ]
    }
   ],
   "source": [
    "# Be careful with quotes!\n",
    "\n",
    "' I'm using single quotes, but will create an error'"
   ]
  },
  {
   "cell_type": "markdown",
   "metadata": {},
   "source": [
    "<font color=orange>### IMPORTANT NOTE </font>\n",
    "The reason for the error above is because the single quote in **I'm** stopped the string. You can use combinations of double and single quotes to get the complete statement.\n",
    "\n",
    "\n",
    "**TIP : Look at the colour. **\n",
    "<br>That is the beauty of jupyter notebooks. Strings are red in colour in jupyter notebooks, the change in colour will help you in spotting the errors faster."
   ]
  },
  {
   "cell_type": "code",
   "execution_count": 5,
   "metadata": {},
   "outputs": [
    {
     "data": {
      "text/plain": [
       "\"Now I'm ready to use the single quotes inside a string!\""
      ]
     },
     "execution_count": 5,
     "metadata": {},
     "output_type": "execute_result"
    }
   ],
   "source": [
    "# See it's red in colour.\n",
    "# And voila,the problem is fixed.\n",
    "\n",
    "\"Now I'm ready to use the single quotes inside a string!\""
   ]
  },
  {
   "cell_type": "markdown",
   "metadata": {},
   "source": [
    "Say you want to write long sentences that span several lines, what will you do?"
   ]
  },
  {
   "cell_type": "code",
   "execution_count": 2,
   "metadata": {},
   "outputs": [
    {
     "ename": "SyntaxError",
     "evalue": "EOL while scanning string literal (<ipython-input-2-e3f497f94b19>, line 1)",
     "output_type": "error",
     "traceback": [
      "\u001b[1;36m  File \u001b[1;32m\"<ipython-input-2-e3f497f94b19>\"\u001b[1;36m, line \u001b[1;32m1\u001b[0m\n\u001b[1;33m    learnstring = 'Learning Python with Digital Vidya to prepare myself for Data Science\u001b[0m\n\u001b[1;37m                                                                                        ^\u001b[0m\n\u001b[1;31mSyntaxError\u001b[0m\u001b[1;31m:\u001b[0m EOL while scanning string literal\n"
     ]
    }
   ],
   "source": [
    "learnstring = 'Learning Python with Digital Vidya to prepare myself for Data Science\n",
    "After that I will be ready to do\n",
    "Data Analytics using Pandas\n",
    "Visualization\n",
    "Machine Learning'\n",
    "\n",
    "print (learnstring)"
   ]
  },
  {
   "cell_type": "markdown",
   "metadata": {},
   "source": [
    "The red colour is not there."
   ]
  },
  {
   "cell_type": "markdown",
   "metadata": {},
   "source": [
    "You will find that the above string across multiple lines will give an error as it expects a closing at the end of the line, before the return character.\n",
    "\n",
    "<br> There is a different way to do this:\n",
    "<br> 1 - Using tripe single quote ''' \n",
    "<br> 2 - Or triple double quote \"\"\"\n",
    "\n",
    "Triple quoted strings may span multiple lines - all associated whitespace will be included in the string literal."
   ]
  },
  {
   "cell_type": "code",
   "execution_count": 32,
   "metadata": {},
   "outputs": [
    {
     "name": "stdout",
     "output_type": "stream",
     "text": [
      "Learning Python with Digital Vidya to prepare myself for Data Science\n",
      "After that I will be ready to do\n",
      "Data Analytics using Pandas\n",
      "Visualization\n",
      "Machine Learning\n"
     ]
    }
   ],
   "source": [
    "learnstring = '''Learning Python with Digital Vidya to prepare myself for Data Science\n",
    "After that I will be ready to do\n",
    "Data Analytics using Pandas\n",
    "Visualization\n",
    "Machine Learning'''\n",
    "\n",
    "print(learnstring)"
   ]
  },
  {
   "cell_type": "markdown",
   "metadata": {},
   "source": [
    "We can also use a function called len() to check the length of a string"
   ]
  },
  {
   "cell_type": "code",
   "execution_count": 30,
   "metadata": {},
   "outputs": [
    {
     "data": {
      "text/plain": [
       "24"
      ]
     },
     "execution_count": 30,
     "metadata": {},
     "output_type": "execute_result"
    }
   ],
   "source": [
    "len('Welcome to Digital Vidya')"
   ]
  },
  {
   "cell_type": "markdown",
   "metadata": {},
   "source": [
    "<font color=red>### INSTRUCTION TO DO</font>\n",
    "\n",
    "Create any string containing a sentence of your choice and try using single quotes, double quotes and triple quotes.\n",
    "<br> Try to get more comfortable with strings\n",
    "<br> Add new cells and practice"
   ]
  },
  {
   "cell_type": "code",
   "execution_count": null,
   "metadata": {
    "collapsed": true
   },
   "outputs": [],
   "source": []
  },
  {
   "cell_type": "markdown",
   "metadata": {},
   "source": [
    "# String Indexing\n",
    "\n",
    "Strings in Python are actually a sequence, which basically means Python keeps track of every element in the string as a sequence. For example, Python understands the string \"hello\" to be a sequence of letters in a specific order. \n",
    "\n",
    "Since strings are a sequence, which means Python can use indexes to call parts of the sequence.\n",
    "\n",
    "But wait, **what is indexing ?? **\n",
    "\n",
    "Every character in a string has an index associated with it, indexing starts at 0 for Python uptil the length of the string.\n",
    "<br>Each character in a string can be accessed using index.\n",
    "\n",
    "Let us look at string \"Digital Vidya\"\n",
    "\n",
    "The following diagram depicts the index \n",
    "a) Left to Right - Starting with Index 0\n",
    "b) Right to Left - Starting with -1\n",
    "\n",
    "|   |   |   |   |   |    |    |   |\n",
    "|---|---|---|---|---|--- | ---|---|\n",
    "| D  |  i |  g |  i |  t |  a | l |  | V | i | d | y | a |\n",
    "| 0 |  1 |  2 | 3  |  4 |  5 | 6 | 7 | 8 | 9 | 10 | 11 | 12\n",
    "| -13 |-12| -11 | -10 | -9 | -8 | -7 | -6 | -5 | -4 | -3 | -2 | -1 |\n",
    "\n",
    "Let's create a new object called s and the walk through a few examples of indexing to see how it works"
   ]
  },
  {
   "cell_type": "code",
   "execution_count": 1,
   "metadata": {
    "collapsed": true
   },
   "outputs": [],
   "source": [
    "# Assign s as a string\n",
    "\n",
    "s = \"Digital Vidya\" \n"
   ]
  },
  {
   "cell_type": "code",
   "execution_count": 2,
   "metadata": {},
   "outputs": [
    {
     "data": {
      "text/plain": [
       "'Digital Vidya'"
      ]
     },
     "execution_count": 2,
     "metadata": {},
     "output_type": "execute_result"
    }
   ],
   "source": [
    "#Check\n",
    "\n",
    "s"
   ]
  },
  {
   "cell_type": "code",
   "execution_count": 3,
   "metadata": {},
   "outputs": [
    {
     "name": "stdout",
     "output_type": "stream",
     "text": [
      "Digital Vidya\n"
     ]
    }
   ],
   "source": [
    "# Print the object\n",
    "\n",
    "print(s)"
   ]
  },
  {
   "cell_type": "markdown",
   "metadata": {},
   "source": [
    "Lets have a look at Indexing!!!"
   ]
  },
  {
   "cell_type": "code",
   "execution_count": 4,
   "metadata": {},
   "outputs": [
    {
     "data": {
      "text/plain": [
       "'D'"
      ]
     },
     "execution_count": 4,
     "metadata": {},
     "output_type": "execute_result"
    }
   ],
   "source": [
    "# Show first element (in this case a letter)\n",
    "\n",
    "s[0]"
   ]
  },
  {
   "cell_type": "code",
   "execution_count": 5,
   "metadata": {},
   "outputs": [
    {
     "data": {
      "text/plain": [
       "'i'"
      ]
     },
     "execution_count": 5,
     "metadata": {},
     "output_type": "execute_result"
    }
   ],
   "source": [
    "# Show second element (in this case a letter)\n",
    "\n",
    "s[1]"
   ]
  },
  {
   "cell_type": "code",
   "execution_count": 6,
   "metadata": {},
   "outputs": [
    {
     "data": {
      "text/plain": [
       "'g'"
      ]
     },
     "execution_count": 6,
     "metadata": {},
     "output_type": "execute_result"
    }
   ],
   "source": [
    "# Show third element (in this case a letter)\n",
    "\n",
    "s[2]"
   ]
  },
  {
   "cell_type": "code",
   "execution_count": 7,
   "metadata": {},
   "outputs": [
    {
     "data": {
      "text/plain": [
       "'a'"
      ]
     },
     "execution_count": 7,
     "metadata": {},
     "output_type": "execute_result"
    }
   ],
   "source": [
    "# Show last element (in this case a letter)\n",
    "\n",
    "s[-1]"
   ]
  },
  {
   "cell_type": "markdown",
   "metadata": {},
   "source": [
    "OR"
   ]
  },
  {
   "cell_type": "code",
   "execution_count": 8,
   "metadata": {},
   "outputs": [
    {
     "data": {
      "text/plain": [
       "'a'"
      ]
     },
     "execution_count": 8,
     "metadata": {},
     "output_type": "execute_result"
    }
   ],
   "source": [
    "# Show last element (in this case a letter)\n",
    "\n",
    "s[len(s) - 1]"
   ]
  },
  {
   "cell_type": "markdown",
   "metadata": {},
   "source": [
    "-1 because the last character is at (length-1) th position. (Indexing starts from 0)"
   ]
  },
  {
   "cell_type": "markdown",
   "metadata": {},
   "source": [
    "**Slicing**\n",
    "\n",
    ">We can use a ':' to perform slicing which grabs everything up to a designated point. \n",
    "<br> s[start : end]\n",
    "**<br> Note that the above expression will return all character in the string from start uptil end - 1 \n",
    "<br> If end is not specified end is by default length of string and if start is not specified start is by default 0\n",
    "<br> Again, indexing starts at 0 for Python**\n",
    "<br>For example:"
   ]
  },
  {
   "cell_type": "code",
   "execution_count": 9,
   "metadata": {},
   "outputs": [
    {
     "data": {
      "text/plain": [
       "'igital Vidya'"
      ]
     },
     "execution_count": 9,
     "metadata": {},
     "output_type": "execute_result"
    }
   ],
   "source": [
    "# Grab everything past the first term all the way to the length of s which is len(s)\n",
    "\n",
    "s[1:]"
   ]
  },
  {
   "cell_type": "code",
   "execution_count": 10,
   "metadata": {},
   "outputs": [
    {
     "data": {
      "text/plain": [
       "'Digital Vidya'"
      ]
     },
     "execution_count": 10,
     "metadata": {},
     "output_type": "execute_result"
    }
   ],
   "source": [
    "# Note that there is no change to the original s\n",
    "\n",
    "s"
   ]
  },
  {
   "cell_type": "code",
   "execution_count": 11,
   "metadata": {},
   "outputs": [
    {
     "data": {
      "text/plain": [
       "'Dig'"
      ]
     },
     "execution_count": 11,
     "metadata": {},
     "output_type": "execute_result"
    }
   ],
   "source": [
    "# Grab everything UP TO the 4th index\n",
    "\n",
    "s[:3]"
   ]
  },
  {
   "cell_type": "markdown",
   "metadata": {},
   "source": [
    "<font color=orange>### IMPORTANT NOTE </font> In the above solution, here we're telling Python to slice everything from 0 up to 3. It doesn't include the 3rd index. You'll notice this a lot in Python, where statements and are usually in the context of \"up to, but not including\".\n",
    "<br> For those who are good at Algebra - [start,end)"
   ]
  },
  {
   "cell_type": "code",
   "execution_count": 12,
   "metadata": {},
   "outputs": [
    {
     "data": {
      "text/plain": [
       "'Digital Vidya'"
      ]
     },
     "execution_count": 12,
     "metadata": {},
     "output_type": "execute_result"
    }
   ],
   "source": [
    "#Lets retrieve everything\n",
    "\n",
    "s[:]"
   ]
  },
  {
   "cell_type": "markdown",
   "metadata": {},
   "source": [
    "We can also use negative indexing to go backwards."
   ]
  },
  {
   "cell_type": "code",
   "execution_count": 13,
   "metadata": {},
   "outputs": [
    {
     "data": {
      "text/plain": [
       "'a'"
      ]
     },
     "execution_count": 13,
     "metadata": {},
     "output_type": "execute_result"
    }
   ],
   "source": [
    "# Last letter (one index behind 0 so it loops back around)\n",
    "\n",
    "s[-1]"
   ]
  },
  {
   "cell_type": "code",
   "execution_count": 14,
   "metadata": {},
   "outputs": [
    {
     "data": {
      "text/plain": [
       "'Digital Vidy'"
      ]
     },
     "execution_count": 14,
     "metadata": {},
     "output_type": "execute_result"
    }
   ],
   "source": [
    "# Grab everything but the last letter\n",
    "\n",
    "s[:-1]"
   ]
  },
  {
   "cell_type": "markdown",
   "metadata": {},
   "source": [
    "We can also use index and slice notation to grab elements of a sequence by a specified step size (the default is 1). \n",
    "<br> s[start : end : step size]\n",
    "<br> As specified above if end is not specified end is by default length of string and if start is not specified start is by default 0.\n",
    "<br> In similar way, step size is by default 1\n",
    "For example:"
   ]
  },
  {
   "cell_type": "code",
   "execution_count": 15,
   "metadata": {},
   "outputs": [
    {
     "data": {
      "text/plain": [
       "'Digital Vidya'"
      ]
     },
     "execution_count": 15,
     "metadata": {},
     "output_type": "execute_result"
    }
   ],
   "source": [
    "# Grab everything, but go in steps size of 1 \n",
    "# Specify step size\n",
    "\n",
    "s[::1]"
   ]
  },
  {
   "cell_type": "code",
   "execution_count": 16,
   "metadata": {},
   "outputs": [
    {
     "data": {
      "text/plain": [
       "'Digital Vidya'"
      ]
     },
     "execution_count": 16,
     "metadata": {},
     "output_type": "execute_result"
    }
   ],
   "source": [
    "# Grab everything, but go in steps size of 1 \n",
    "# Don't specify step size\n",
    "\n",
    "s[::]"
   ]
  },
  {
   "cell_type": "markdown",
   "metadata": {},
   "source": [
    "Can you see the difference?\n",
    "<br>There's none right!"
   ]
  },
  {
   "cell_type": "code",
   "execution_count": 17,
   "metadata": {},
   "outputs": [
    {
     "data": {
      "text/plain": [
       "'DgtlVda'"
      ]
     },
     "execution_count": 17,
     "metadata": {},
     "output_type": "execute_result"
    }
   ],
   "source": [
    "# Grab everything, but go in step sizes of 2\n",
    "\n",
    "s[::2]"
   ]
  },
  {
   "cell_type": "markdown",
   "metadata": {},
   "source": [
    "Now lets go backwards\n",
    "<br> Here we will have to set step size as negative."
   ]
  },
  {
   "cell_type": "code",
   "execution_count": 18,
   "metadata": {},
   "outputs": [
    {
     "data": {
      "text/plain": [
       "'aydiV latigiD'"
      ]
     },
     "execution_count": 18,
     "metadata": {},
     "output_type": "execute_result"
    }
   ],
   "source": [
    "# We can use this to print a string backwards\n",
    "\n",
    "s[::-1]"
   ]
  },
  {
   "cell_type": "code",
   "execution_count": 19,
   "metadata": {},
   "outputs": [
    {
     "data": {
      "text/plain": [
       "'Digital Vidya'"
      ]
     },
     "execution_count": 19,
     "metadata": {},
     "output_type": "execute_result"
    }
   ],
   "source": [
    "s"
   ]
  },
  {
   "cell_type": "code",
   "execution_count": 20,
   "metadata": {},
   "outputs": [
    {
     "data": {
      "text/plain": [
       "'aydiV latigiD'"
      ]
     },
     "execution_count": 20,
     "metadata": {},
     "output_type": "execute_result"
    }
   ],
   "source": [
    "s[::-1]"
   ]
  },
  {
   "cell_type": "markdown",
   "metadata": {},
   "source": [
    "**Having a problem understanding it?**\n",
    "\n",
    "> Lets look at a real life example\n",
    "<br> Suppose you are standing on the ground floor of a building and you have to climb up to reach the top floor.\n",
    "<br> Your start would be less than end right?\n",
    "<br> Also you need to make positive increments as you want to climb up not go down.\n",
    "<br> In a similar way, suppose you are standing on the top floor of a building and you have to climb down to reach the ground floor.\n",
    "<br> Your start would be greater than end right?\n",
    "<br> Also you need to make negative increments i.e decrements as you want to go down not go up."
   ]
  },
  {
   "cell_type": "markdown",
   "metadata": {},
   "source": [
    "<font color=red>### INSTRUCTION TO DO</font>"
   ]
  },
  {
   "cell_type": "markdown",
   "metadata": {},
   "source": [
    "Now your task is to work with slicing and do it on a string \"Welcome to Digital Vidya\".\n",
    "<br> Assign this string to a variable.\n",
    "<br> Add new cells and practice all kind of slicing operations shown above."
   ]
  },
  {
   "cell_type": "code",
   "execution_count": null,
   "metadata": {
    "collapsed": true
   },
   "outputs": [],
   "source": []
  },
  {
   "cell_type": "markdown",
   "metadata": {},
   "source": [
    "# String properties\n",
    "\n",
    "Its important to note that strings have an important property known as **immutability**. This means that once a string is created, the elements within it can not be changed or replaced. It can be sliced, concatenated but cannot be changed. For example:"
   ]
  },
  {
   "cell_type": "markdown",
   "metadata": {},
   "source": [
    "## Replacing characters within a string "
   ]
  },
  {
   "cell_type": "code",
   "execution_count": 86,
   "metadata": {
    "collapsed": true
   },
   "outputs": [],
   "source": [
    "# Lets create a string variable s with string 'Hello World'\n",
    "\n",
    "s = 'Hello World'"
   ]
  },
  {
   "cell_type": "code",
   "execution_count": 87,
   "metadata": {},
   "outputs": [
    {
     "ename": "TypeError",
     "evalue": "'str' object does not support item assignment",
     "output_type": "error",
     "traceback": [
      "\u001b[1;31m---------------------------------------------------------------------------\u001b[0m",
      "\u001b[1;31mTypeError\u001b[0m                                 Traceback (most recent call last)",
      "\u001b[1;32m<ipython-input-87-e7cb74835d1e>\u001b[0m in \u001b[0;36m<module>\u001b[1;34m()\u001b[0m\n\u001b[0;32m      1\u001b[0m \u001b[1;31m# Let's try to change the first letter to 'x'\u001b[0m\u001b[1;33m\u001b[0m\u001b[1;33m\u001b[0m\u001b[0m\n\u001b[0;32m      2\u001b[0m \u001b[1;33m\u001b[0m\u001b[0m\n\u001b[1;32m----> 3\u001b[1;33m \u001b[0ms\u001b[0m\u001b[1;33m[\u001b[0m\u001b[1;36m0\u001b[0m\u001b[1;33m]\u001b[0m \u001b[1;33m=\u001b[0m \u001b[1;34m'x'\u001b[0m\u001b[1;33m\u001b[0m\u001b[0m\n\u001b[0m",
      "\u001b[1;31mTypeError\u001b[0m: 'str' object does not support item assignment"
     ]
    }
   ],
   "source": [
    "# Let's try to change the first letter to 'x'\n",
    "\n",
    "s[0] = 'x'"
   ]
  },
  {
   "cell_type": "markdown",
   "metadata": {},
   "source": [
    "## Concatenation of strings"
   ]
  },
  {
   "cell_type": "code",
   "execution_count": 88,
   "metadata": {},
   "outputs": [
    {
     "data": {
      "text/plain": [
       "'Hello World concatenate me!'"
      ]
     },
     "execution_count": 88,
     "metadata": {},
     "output_type": "execute_result"
    }
   ],
   "source": [
    "# Concatenation of strings!\n",
    "\n",
    "s + ' concatenate me!'"
   ]
  },
  {
   "cell_type": "code",
   "execution_count": 89,
   "metadata": {
    "collapsed": true
   },
   "outputs": [],
   "source": [
    "# We can reassign s completely though!\n",
    "\n",
    "s = s + ' concatenate me!'"
   ]
  },
  {
   "cell_type": "code",
   "execution_count": 90,
   "metadata": {},
   "outputs": [
    {
     "name": "stdout",
     "output_type": "stream",
     "text": [
      "Hello World concatenate me!\n"
     ]
    }
   ],
   "source": [
    "# Print s\n",
    "\n",
    "print(s)"
   ]
  },
  {
   "cell_type": "markdown",
   "metadata": {},
   "source": [
    "# String Methods\n",
    "\n",
    "Objects in Python usually have built-in methods. Remember that every Python variable is an object as  Python is an object-oriented language.\n",
    "\n",
    "String variables are objects too. Therefore, they have their own methods.\n",
    "\n",
    "In Python, we call methods with a period(.) and then the method name. \n",
    "\n",
    "Methods are in the form:\n",
    "\n",
    "        object.method(parameters)\n",
    "\n",
    "Where parameters are extra arguments we can pass into the method. Don't worry if the details seem confusing to you right now. Later on we will be creating our own objects and functions!\n",
    "\n",
    "You can find further details here:\n",
    "\n",
    "https://docs.python.org/3.6/library/stdtypes.html#string-methods\n",
    "\n",
    "Here are some examples of built-in methods in strings:"
   ]
  },
  {
   "cell_type": "code",
   "execution_count": 23,
   "metadata": {
    "collapsed": true
   },
   "outputs": [],
   "source": [
    "# Assign s as a string \"Digital Vidya\" \n",
    "\n",
    "s = \"Digital Vidya\" \n"
   ]
  },
  {
   "cell_type": "markdown",
   "metadata": {},
   "source": [
    "## upper()"
   ]
  },
  {
   "cell_type": "code",
   "execution_count": 24,
   "metadata": {},
   "outputs": [
    {
     "data": {
      "text/plain": [
       "'DIGITAL VIDYA'"
      ]
     },
     "execution_count": 24,
     "metadata": {},
     "output_type": "execute_result"
    }
   ],
   "source": [
    "# Capitalize a string (Make every character capital)\n",
    "\n",
    "s.upper()"
   ]
  },
  {
   "cell_type": "markdown",
   "metadata": {},
   "source": [
    "## lower()"
   ]
  },
  {
   "cell_type": "code",
   "execution_count": 25,
   "metadata": {},
   "outputs": [
    {
     "data": {
      "text/plain": [
       "'digital vidya'"
      ]
     },
     "execution_count": 25,
     "metadata": {},
     "output_type": "execute_result"
    }
   ],
   "source": [
    "# Lower case of the string\n",
    "\n",
    "s.lower()"
   ]
  },
  {
   "cell_type": "markdown",
   "metadata": {},
   "source": [
    "## split()"
   ]
  },
  {
   "cell_type": "markdown",
   "metadata": {},
   "source": [
    "**Split function details**\n",
    "\n",
    "str.split([sep[, maxsplit]])\n",
    "\n",
    ">Returns a list of the words in the string, using sep as the delimiter string. If maxsplit is given, at most maxsplit splits are done (thus, the list will have at most maxsplit+1 elements). If maxsplit is not specified, then there is no limit on the number of splits (all possible splits are made)."
   ]
  },
  {
   "cell_type": "markdown",
   "metadata": {},
   "source": [
    "A question should arise to your mind, How should I split ?\n",
    "<br> By default Python splits by space.\n",
    "<br> Is there space in our given string?\n",
    "<br> I don't think so.\n",
    "<br> That is why we got the whole string back without splitting"
   ]
  },
  {
   "cell_type": "code",
   "execution_count": 29,
   "metadata": {},
   "outputs": [
    {
     "data": {
      "text/plain": [
       "['Digital', 'Vidya']"
      ]
     },
     "execution_count": 29,
     "metadata": {},
     "output_type": "execute_result"
    }
   ],
   "source": [
    "# Lets split by character space\n",
    "\n",
    "s.split()\n",
    "\n",
    "# And voila we have our 2 parts"
   ]
  },
  {
   "cell_type": "code",
   "execution_count": 33,
   "metadata": {},
   "outputs": [
    {
     "name": "stdout",
     "output_type": "stream",
     "text": [
      "['Learning', 'Python', 'with', 'Digital', 'Vidya', 'to', 'prepare', 'myself', 'for', 'Data', 'Science\\nAfter', 'that', 'I', 'will', 'be', 'ready', 'to', 'do\\nData', 'Analytics', 'using', 'Pandas\\nVisualization\\nMachine', 'Learning']\n"
     ]
    }
   ],
   "source": [
    "learnstring = '''Learning Python with Digital Vidya to prepare myself for Data Science\n",
    "After that I will be ready to do\n",
    "Data Analytics using Pandas\n",
    "Visualization\n",
    "Machine Learning'''\n",
    "\n",
    "listoflearnwords = learnstring.split(\" \")\n",
    "print (listoflearnwords)"
   ]
  },
  {
   "cell_type": "markdown",
   "metadata": {},
   "source": [
    "Copy same cell in compound datatypes"
   ]
  },
  {
   "cell_type": "markdown",
   "metadata": {},
   "source": [
    "** Notice how the separation was for space, so the words separate with the new sentence (denoted as \\n),\n",
    "is being treated as one word**\n",
    "\n",
    "Did you read that what the function return?\n",
    "It said it returned a **list of the words**\n",
    "\n",
    "What is a **list**\n",
    "We will very soon cover it, so that you can work on the output of the above function.\n",
    "For example, if you want to now get a count of the words in this sentence, you must work with the \"list\" data and check what property will get you its length."
   ]
  },
  {
   "cell_type": "markdown",
   "metadata": {},
   "source": [
    "<font color=red>### INSTRUCTION TO DO</font>\n",
    "\n",
    "We have illustrated a few examples of string methods.\n",
    "<br> Now go ahead try a few examples.\n",
    "<br> Also try to use some methods which are not illustrated above.\n",
    "<br> This link will come to your rescue. https://docs.python.org/3.6/library/stdtypes.html#string-methods"
   ]
  },
  {
   "cell_type": "code",
   "execution_count": null,
   "metadata": {
    "collapsed": true
   },
   "outputs": [],
   "source": []
  },
  {
   "cell_type": "markdown",
   "metadata": {},
   "source": [
    "# Summary\n",
    "\n",
    "You learnt how to :\n",
    "1. Create strings\n",
    "2. Apply indexing and slicing on them\n",
    "3. Properties of strings.\n",
    "4. Their various methods (All string methods are not explored here you will start applying them when you will do data analysis).\n",
    "\n",
    "Now that you have learnt about strings.\n",
    "<br>Lets get to hands on practice by solving the assignment.\n",
    "\n",
    "**All the best!!**<t>"
   ]
  }
 ],
 "metadata": {
  "kernelspec": {
   "display_name": "Python 3",
   "language": "python",
   "name": "python3"
  },
  "language_info": {
   "codemirror_mode": {
    "name": "ipython",
    "version": 3
   },
   "file_extension": ".py",
   "mimetype": "text/x-python",
   "name": "python",
   "nbconvert_exporter": "python",
   "pygments_lexer": "ipython3",
   "version": "3.6.1"
  }
 },
 "nbformat": 4,
 "nbformat_minor": 2
}
