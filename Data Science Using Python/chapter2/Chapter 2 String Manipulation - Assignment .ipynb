{
 "cells": [
  {
   "cell_type": "markdown",
   "metadata": {},
   "source": [
    "<img src=\"https://www.digitalvidya.com/wp-content/uploads/2013/05/Digital-Vidya-Website-Logo-HD-2-300x95.png\">"
   ]
  },
  {
   "cell_type": "markdown",
   "metadata": {},
   "source": [
    "# Creating string\n",
    "\n",
    "Lets begin with simple quote\n",
    "\n",
    "\"Success is not final, failure is not fatal: it is the courage to continue that counts.\""
   ]
  },
  {
   "cell_type": "markdown",
   "metadata": {},
   "source": [
    "**Q.1 Print the above quote**"
   ]
  },
  {
   "cell_type": "code",
   "execution_count": 25,
   "metadata": {
    "collapsed": true
   },
   "outputs": [],
   "source": [
    "## START CODE HERE\n",
    "\n",
    "\n",
    "## END CODE HERE"
   ]
  },
  {
   "cell_type": "markdown",
   "metadata": {},
   "source": [
    "\n",
    "<table>\n",
    "  <tr>\n",
    "  <td>**Expected Output:**<td>\n",
    "    <td>Success is not final, failure is not fatal: it is the courage to continue that counts.</td>\n",
    "  </tr>\n",
    "</table>\n",
    "    "
   ]
  },
  {
   "cell_type": "markdown",
   "metadata": {},
   "source": [
    "**Q.2 Create a string - I'll have coffee **\n",
    "<br>TIP - Use the right quotes so that it will print the apostrophe correctly. (Keep the exception or error in mind)\n",
    "\n",
    "By the way, exception in object oriented programming means Errors detected during execution are called exceptions and are not unconditionally fatal.\n",
    "<br> For further info : https://docs.python.org/3/tutorial/errors.html\n",
    "<br> Its fine if you can't understand this right now you will learn Exception handling later."
   ]
  },
  {
   "cell_type": "code",
   "execution_count": 2,
   "metadata": {
    "collapsed": true
   },
   "outputs": [],
   "source": [
    "## START CODE HERE\n",
    "\n",
    "\n",
    "## END CODE HERE"
   ]
  },
  {
   "cell_type": "markdown",
   "metadata": {},
   "source": [
    "<table>\n",
    "  \n",
    "  <tr>\n",
    "    <td>**Expected Output:**<td>\n",
    "    <td>I'll have coffee</td>\n",
    "  </tr>\n",
    "</table>\n",
    "    "
   ]
  },
  {
   "cell_type": "markdown",
   "metadata": {},
   "source": [
    "# String Indexing"
   ]
  },
  {
   "cell_type": "markdown",
   "metadata": {
    "collapsed": true
   },
   "source": [
    "We have created a string variable 's' for you"
   ]
  },
  {
   "cell_type": "code",
   "execution_count": 27,
   "metadata": {},
   "outputs": [
    {
     "data": {
      "text/plain": [
       "'Welcome to Digital Vidya'"
      ]
     },
     "execution_count": 27,
     "metadata": {},
     "output_type": "execute_result"
    }
   ],
   "source": [
    "s = \"Welcome to Digital Vidya\"\n",
    "s"
   ]
  },
  {
   "cell_type": "markdown",
   "metadata": {},
   "source": [
    "**Q.3 Print first character (There's something special about indexing in Python)**"
   ]
  },
  {
   "cell_type": "code",
   "execution_count": 28,
   "metadata": {
    "collapsed": true
   },
   "outputs": [],
   "source": [
    "## START CODE HERE\n",
    "\n",
    "\n",
    "## END CODE HERE"
   ]
  },
  {
   "cell_type": "markdown",
   "metadata": {},
   "source": [
    "\n",
    "       \n",
    "<table>\n",
    "  \n",
    "  <tr>\n",
    "    <td>**Expected Output:**<td>\n",
    "    <td>W</td>\n",
    "  </tr>\n",
    "</table>\n",
    "    "
   ]
  },
  {
   "cell_type": "markdown",
   "metadata": {},
   "source": [
    "**Q.4 Print the last character using forward index**"
   ]
  },
  {
   "cell_type": "code",
   "execution_count": 29,
   "metadata": {
    "collapsed": true
   },
   "outputs": [],
   "source": [
    "## START CODE HERE\n",
    "\n",
    "\n",
    "## END CODE HERE"
   ]
  },
  {
   "cell_type": "markdown",
   "metadata": {},
   "source": [
    "\n",
    "       \n",
    "<table>\n",
    "  \n",
    "  <tr>\n",
    "    <td>**Expected Output:**<td>\n",
    "    <td>a</td>\n",
    "  </tr>\n",
    "</table>\n",
    "    "
   ]
  },
  {
   "cell_type": "markdown",
   "metadata": {},
   "source": [
    "**Q.5 Print the second last character using backward index**"
   ]
  },
  {
   "cell_type": "code",
   "execution_count": 30,
   "metadata": {
    "collapsed": true
   },
   "outputs": [],
   "source": [
    "## START CODE HERE\n",
    "\n",
    "\n",
    "## END CODE HERE"
   ]
  },
  {
   "cell_type": "markdown",
   "metadata": {},
   "source": [
    "\n",
    "       \n",
    "<table>\n",
    "  \n",
    "  <tr>\n",
    "    <td>**Expected Output:**<td>\n",
    "    <td>y</td>\n",
    "  </tr>\n",
    "</table>\n",
    "    "
   ]
  },
  {
   "cell_type": "markdown",
   "metadata": {},
   "source": [
    "**Q.6 Print alternating characters in s starting from first character (Skip one character at a time)**"
   ]
  },
  {
   "cell_type": "code",
   "execution_count": 31,
   "metadata": {
    "collapsed": true
   },
   "outputs": [],
   "source": [
    "## START CODE HERE\n",
    "\n",
    "\n",
    "## END CODE HERE"
   ]
  },
  {
   "cell_type": "markdown",
   "metadata": {},
   "source": [
    "\n",
    "       \n",
    "<table>\n",
    "  \n",
    "  <tr>\n",
    "    <td>**Expected Output:**<td>\n",
    "    <td>Wloet iia iy</td>\n",
    "  </tr>\n",
    "</table>\n",
    "    "
   ]
  },
  {
   "cell_type": "markdown",
   "metadata": {},
   "source": [
    "**Q.7 Print s in reverse**"
   ]
  },
  {
   "cell_type": "code",
   "execution_count": 35,
   "metadata": {
    "collapsed": true
   },
   "outputs": [],
   "source": [
    "## START CODE HERE\n",
    "\n",
    "\n",
    "## END CODE HERE"
   ]
  },
  {
   "cell_type": "markdown",
   "metadata": {},
   "source": [
    "\n",
    "       \n",
    "<table>\n",
    "  \n",
    "  <tr>\n",
    "    <td>**Expected Output:**<td>\n",
    "    <td>aydiV latigiD ot emocleW</td>\n",
    "  </tr>\n",
    "</table>\n",
    "    "
   ]
  },
  {
   "cell_type": "markdown",
   "metadata": {},
   "source": [
    "# String Properties"
   ]
  },
  {
   "cell_type": "code",
   "execution_count": 45,
   "metadata": {},
   "outputs": [
    {
     "data": {
      "text/plain": [
       "'Welcome to Digital Vidya'"
      ]
     },
     "execution_count": 45,
     "metadata": {},
     "output_type": "execute_result"
    }
   ],
   "source": [
    "s = 'Welcome to Digital Vidya'\n",
    "s"
   ]
  },
  {
   "cell_type": "markdown",
   "metadata": {},
   "source": [
    "**Q.8 Change s to \"Welcome to Digital Vidya, this is your week 2 assignment\" and print s**"
   ]
  },
  {
   "cell_type": "code",
   "execution_count": 37,
   "metadata": {
    "collapsed": true
   },
   "outputs": [],
   "source": [
    "## START CODE HERE\n",
    "\n",
    "\n",
    "## END CODE HERE"
   ]
  },
  {
   "cell_type": "markdown",
   "metadata": {},
   "source": [
    "<table>\n",
    "  \n",
    "  <tr>\n",
    "    <td>**Expected Output:**<td>\n",
    "    <td>Welcome to Digital Vidya, this is your week 2 assignment</td>\n",
    "  </tr>\n",
    "</table>\n",
    "    "
   ]
  },
  {
   "cell_type": "markdown",
   "metadata": {},
   "source": [
    "# String Methods"
   ]
  },
  {
   "cell_type": "code",
   "execution_count": 1,
   "metadata": {},
   "outputs": [
    {
     "data": {
      "text/plain": [
       "'Welcome to Digital Vidya, this is your week 2 assignment'"
      ]
     },
     "execution_count": 1,
     "metadata": {},
     "output_type": "execute_result"
    }
   ],
   "source": [
    "s = \"Welcome to Digital Vidya, this is your week 2 assignment\"\n",
    "\n",
    "s"
   ]
  },
  {
   "cell_type": "markdown",
   "metadata": {},
   "source": [
    "**Q.9 Convert complete string to UPPER case and print the resultant string**"
   ]
  },
  {
   "cell_type": "code",
   "execution_count": 42,
   "metadata": {
    "collapsed": true
   },
   "outputs": [],
   "source": [
    "## START CODE HERE\n",
    "\n",
    "\n",
    "## END CODE HERE"
   ]
  },
  {
   "cell_type": "markdown",
   "metadata": {},
   "source": [
    "<table>\n",
    "  \n",
    "  <tr>\n",
    "    <td>**Expected Output:**<td>\n",
    "    <td>WELCOME TO DIGITAL VIDYA, THIS IS YOUR WEEK 2 ASSIGNMENT</td>\n",
    "  </tr>\n",
    "</table>\n",
    "    "
   ]
  },
  {
   "cell_type": "markdown",
   "metadata": {},
   "source": [
    "**Q.10 Convert complete string to lower case and print the resultant string**"
   ]
  },
  {
   "cell_type": "code",
   "execution_count": 43,
   "metadata": {
    "collapsed": true
   },
   "outputs": [],
   "source": [
    "## START CODE HERE\n",
    "\n",
    "\n",
    "## END CODE HERE"
   ]
  },
  {
   "cell_type": "markdown",
   "metadata": {},
   "source": [
    "\n",
    "       \n",
    "<table>\n",
    "  \n",
    "  <tr>\n",
    "    <td>**Expected Output:**<td>\n",
    "    <td>welcome to digital vidya, this is your week 2 assignment</td>\n",
    "  </tr>\n",
    "</table>\n",
    "    "
   ]
  },
  {
   "cell_type": "markdown",
   "metadata": {},
   "source": [
    "**Q.11 What is the length of s?**"
   ]
  },
  {
   "cell_type": "code",
   "execution_count": 3,
   "metadata": {
    "collapsed": true
   },
   "outputs": [],
   "source": [
    "## START CODE HERE\n",
    "\n",
    "\n",
    "## END CODE HERE"
   ]
  },
  {
   "cell_type": "markdown",
   "metadata": {},
   "source": [
    "<table>\n",
    "  \n",
    "  <tr>\n",
    "    <td>**Expected Output:**<td>\n",
    "    <td>56</td>\n",
    "  </tr>\n",
    "</table>  "
   ]
  },
  {
   "cell_type": "markdown",
   "metadata": {},
   "source": [
    "**Q.12 Split the sentence \"Welcome to Digital Vidya, this is your week 2 assignment\" at the ',' using appropriate method and print the output.**"
   ]
  },
  {
   "cell_type": "code",
   "execution_count": 44,
   "metadata": {
    "collapsed": true
   },
   "outputs": [],
   "source": [
    "## START CODE HERE\n",
    "\n",
    "\n",
    "## END CODE HERE"
   ]
  },
  {
   "cell_type": "markdown",
   "metadata": {},
   "source": [
    "<table>\n",
    "  <tr>\n",
    "    <td>**Expected Output:**<td>\n",
    "    <td>['Welcome to Digital Vidya', ' this is your week 2 assignment']</td>\n",
    "  </tr>\n",
    "</table>\n",
    "    "
   ]
  },
  {
   "cell_type": "markdown",
   "metadata": {},
   "source": [
    "# Congratulations\n",
    "\n",
    "You are through the second assignment of the Basic Python Programming Course.\n",
    "<br>Good understanding of String datatype will help you a lot in your data science career.\n",
    "<br>Further in the course we'll try to enhance your knowledge and understanding of strings by introducing regular expressions and other advanced concepts.\n",
    "<br>Buckle up!\n",
    "<br>You are doing very well.\n",
    "<br>See you in the next chapter."
   ]
  }
 ],
 "metadata": {
  "kernelspec": {
   "display_name": "Python 3",
   "language": "python",
   "name": "python3"
  },
  "language_info": {
   "codemirror_mode": {
    "name": "ipython",
    "version": 3
   },
   "file_extension": ".py",
   "mimetype": "text/x-python",
   "name": "python",
   "nbconvert_exporter": "python",
   "pygments_lexer": "ipython3",
   "version": "3.6.1"
  }
 },
 "nbformat": 4,
 "nbformat_minor": 2
}
