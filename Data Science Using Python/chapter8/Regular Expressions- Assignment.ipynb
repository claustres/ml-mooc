{
 "cells": [
  {
   "cell_type": "markdown",
   "metadata": {},
   "source": [
    "<img src=\"https://www.digitalvidya.com/wp-content/uploads/2013/05/Digital-Vidya-Website-Logo-HD-2-300x95.png\">"
   ]
  },
  {
   "cell_type": "markdown",
   "metadata": {},
   "source": [
    "In this assignment we are going to apply our knowledge of regex to FIFA world cup data.\n",
    "<br> The data consists of FIFA world cup winners from 1938 to 2014.\n",
    "<br> You job is to extract relevant information out of it and store it in appropriate data structure in order to obtain desired results."
   ]
  },
  {
   "cell_type": "markdown",
   "metadata": {},
   "source": [
    "You can find the b.html file attached in the assignment.\n",
    "<br> Go ahead open it in the browser and see how the table looks."
   ]
  },
  {
   "cell_type": "markdown",
   "metadata": {},
   "source": [
    "<font color=orange>### IMPORTANT NOTE </font>\n",
    "<br> In order to check parts of code : \n",
    "<br> Open HTML file in browser and then right click inspect element.\n",
    "<br> Now you know which part corresponds to which html element.\n",
    "<br> This will help you a lot in construction of regex."
   ]
  },
  {
   "cell_type": "code",
   "execution_count": 5,
   "metadata": {},
   "outputs": [],
   "source": [
    "import re"
   ]
  },
  {
   "cell_type": "markdown",
   "metadata": {},
   "source": [
    "**Q.1 Create a function show_contents() which takes file name and the number of lines of the file to be printed**"
   ]
  },
  {
   "cell_type": "code",
   "execution_count": 6,
   "metadata": {},
   "outputs": [],
   "source": [
    "def show_content(file_name, number_of_lines = 5):\n",
    "    \n",
    "    ### START CODE HERE\n",
    "\n",
    "        \n",
    "    ### END CODE HERE"
   ]
  },
  {
   "cell_type": "code",
   "execution_count": 7,
   "metadata": {},
   "outputs": [
    {
     "name": "stdout",
     "output_type": "stream",
     "text": [
      "['<table class=\"sortable plainrowheaders wikitable jquery-tablesorter\">\\n', '<caption>List of finals matches, their venues and locations, the finalists, and final scores</caption>\\n', '<thead><tr>\\n', '<th scope=\"col\" class=\"headerSort\" tabindex=\"0\" role=\"columnheader button\" title=\"Sort ascending\">Year</th>\\n', '<th scope=\"col\" class=\"headerSort\" tabindex=\"0\" role=\"columnheader button\" title=\"Sort ascending\">Winners</th>\\n']\n"
     ]
    }
   ],
   "source": [
    "show_content('b.html')"
   ]
  },
  {
   "cell_type": "markdown",
   "metadata": {},
   "source": [
    "**Q.2 Create a function getData which takes file name as a argument and returns a dictionary in the following format.**\n",
    "\n",
    "{ $year$ : {'winning team' : $winningTeam$, 'runners up' : $runnersUp$ }\n",
    "<br>$year$ - Fill the corresponding year.Similary for winning team and runners up\n",
    "<br>See expected output if you have any doubt.\n",
    "\n",
    "We will address this dictionary as fifa for the rest of the questions."
   ]
  },
  {
   "cell_type": "code",
   "execution_count": 16,
   "metadata": {
    "scrolled": true
   },
   "outputs": [],
   "source": [
    "def getData(file_name):\n",
    "    \n",
    "    ### START CODE HERE\n",
    "   \n",
    "    ### END CODE HERE     "
   ]
  },
  {
   "cell_type": "code",
   "execution_count": null,
   "metadata": {},
   "outputs": [],
   "source": [
    "fifa = getData('b.html')\n",
    "\n",
    "fifa"
   ]
  },
  {
   "cell_type": "markdown",
   "metadata": {},
   "source": [
    "<table>\n",
    "  <tr>\n",
    "  <td>**Expected Output:**<td>\n",
    "    <td style=\"text-align:left\">{'1930': {'winning team': 'Uruguay',\n",
    "  'score': '4–2',\n",
    "  'runners up': 'Argentina'},\n",
    " <br>'1934': {'winning team': 'Italy',\n",
    "  'score': '2–1',\n",
    "  'runners up': 'Czechoslovakia'},\n",
    " <br>'1938': {'winning team': 'Italy', 'score': '4–2', 'runners up': 'Hungary'},\n",
    " <br>'1950': {'winning team': 'Uruguay', 'score': '2–1', 'runners up': 'Brazil'},\n",
    " <br>'1954': {'winning team': 'West Germany',\n",
    "  'score': '3–2',\n",
    "  'runners up': 'Hungary'},\n",
    " <br>'1958': {'winning team': 'Brazil', 'score': '5–2', 'runners up': 'Sweden'},\n",
    " <br>'1962': {'winning team': 'Brazil',\n",
    "  'score': '3–1',\n",
    "  'runners up': 'Czechoslovakia'},\n",
    " <br>'1966': {'winning team': 'England',\n",
    "  'score': '4–2',\n",
    "  'runners up': 'West Germany'},\n",
    " <br>'1970': {'winning team': 'Brazil', 'score': '4–1', 'runners up': 'Italy'},\n",
    " <br>'1974': {'winning team': 'West Germany',\n",
    "  'score': '2–1',\n",
    "  'runners up': 'Netherlands'},\n",
    " <br>'1978': {'winning team': 'Argentina',\n",
    "  'score': '3–1',\n",
    "  'runners up': 'Netherlands'},\n",
    " <br>'1982': {'winning team': 'Italy',\n",
    "  'score': '3–1',\n",
    "  'runners up': 'West Germany'},\n",
    " <br>'1986': {'winning team': 'Argentina',\n",
    "  'score': '3–2',\n",
    "  'runners up': 'West Germany'},\n",
    " <br>'1990': {'winning team': 'West Germany',\n",
    "  'score': '1–0',\n",
    "  'runners up': 'Argentina'},\n",
    " <br>'1994': {'winning team': 'Brazil', 'score': '0–0', 'runners up': 'Italy'},\n",
    " <br>'1998': {'winning team': 'France', 'score': '3–0', 'runners up': 'Brazil'},\n",
    " <br>'2002': {'winning team': 'Brazil', 'score': '2–0', 'runners up': 'Germany'},\n",
    " <br>'2006': {'winning team': 'Italy', 'score': '1–1', 'runners up': 'France'},\n",
    " <br>'2010': {'winning team': 'Spain',\n",
    "  'score': '1–0',\n",
    "  'runners up': 'Netherlands'},\n",
    " <br>'2014': {'winning team': 'Germany',\n",
    "  'score': '1–0',\n",
    "  'runners up': 'Argentina'}}</td>\n",
    "  </tr>\n",
    "</table>"
   ]
  },
  {
   "cell_type": "markdown",
   "metadata": {},
   "source": [
    "**Q.3 Which team won most number of times?**\n",
    "\n",
    "A simple approach would be to loop over fifa dictionary and create a separate dictionary which stores the count of wins of each team and then display it.\n",
    "\n",
    "We can do the count part using collections.Counter.\n",
    "On passing a list of elements Counter() method will return a dictionary with element as key and number of times it has occured as its corresponding value."
   ]
  },
  {
   "cell_type": "code",
   "execution_count": 18,
   "metadata": {},
   "outputs": [],
   "source": [
    "import collections\n",
    "\n",
    "def countWins(d):\n",
    "    \n",
    "    ### START CODE HERE\n",
    "\n",
    "    ### END CODE HERE"
   ]
  },
  {
   "cell_type": "code",
   "execution_count": null,
   "metadata": {
    "scrolled": true
   },
   "outputs": [],
   "source": [
    "countWins(fifa)"
   ]
  },
  {
   "cell_type": "markdown",
   "metadata": {},
   "source": [
    "\n",
    "<table>\n",
    "  <tr>\n",
    "  <td>**Expected Output:**<td>\n",
    "    <td style=\"text-align:left\">[('Brazil', 5),\n",
    " <br>('Italy', 4),\n",
    " <br>('West Germany', 3),\n",
    " <br>('Uruguay', 2),\n",
    " <br>('Argentina', 2),\n",
    " <br>('England', 1),\n",
    " <br>('France', 1),\n",
    " <br>('Spain', 1),\n",
    " <br>('Germany', 1)]</td>\n",
    "  </tr>\n",
    "</table>\n",
    "    "
   ]
  },
  {
   "cell_type": "markdown",
   "metadata": {},
   "source": [
    "**Q.4 Which team has played most number of times?**\n",
    "\n",
    "The only change in this question is you have to store the winning team as well as runners up in the list and then take the count."
   ]
  },
  {
   "cell_type": "code",
   "execution_count": 21,
   "metadata": {},
   "outputs": [],
   "source": [
    "import collections\n",
    "\n",
    "def countPlayed(d):\n",
    "    \n",
    "    ### START CODE HERE\n",
    "\n",
    "    ### END CODE HERE"
   ]
  },
  {
   "cell_type": "code",
   "execution_count": null,
   "metadata": {},
   "outputs": [],
   "source": [
    "countPlayed(fifa)"
   ]
  },
  {
   "cell_type": "markdown",
   "metadata": {},
   "source": [
    "\n",
    "<table>\n",
    "  <tr>\n",
    "  <td>**Expected Output:**<td>\n",
    "    <td style=\"text-align:left\">[('Brazil', 7),\n",
    "<br> ('Italy', 6),\n",
    " <br>('West Germany', 6),\n",
    " <br>('Argentina', 5),\n",
    "<br> ('Netherlands', 3),\n",
    "<br> ('Uruguay', 2),\n",
    "<br> ('France', 2),\n",
    "<br> ('Germany', 2),\n",
    "<br> ('Czechoslovakia', 2),\n",
    "<br> ('Hungary', 2),\n",
    "<br> ('England', 1),\n",
    "<br> ('Spain', 1),\n",
    "<br> ('Sweden', 1)]</td>\n",
    "  </tr>\n",
    "</table>\n",
    "    "
   ]
  },
  {
   "cell_type": "markdown",
   "metadata": {},
   "source": [
    "**Q.5 Which team has won with biggest margin?**\n",
    "\n",
    "You have to calculate the largest difference in scores."
   ]
  },
  {
   "cell_type": "code",
   "execution_count": 42,
   "metadata": {},
   "outputs": [],
   "source": [
    "def calculateMargin(d):\n",
    "    \n",
    "    ### START CODE HERE\n",
    "\n",
    "    ### END CODE HERE"
   ]
  },
  {
   "cell_type": "code",
   "execution_count": null,
   "metadata": {},
   "outputs": [],
   "source": [
    "calculateMargin(fifa)"
   ]
  },
  {
   "cell_type": "markdown",
   "metadata": {},
   "source": [
    "\n",
    "<table>\n",
    "  <tr>\n",
    "  <td>**Expected Output:**<td>\n",
    "    <td style=\"text-align:left\">3</td>\n",
    "  </tr>\n",
    "</table>\n",
    "    "
   ]
  },
  {
   "cell_type": "markdown",
   "metadata": {},
   "source": [
    "# Congratulations\n",
    "\n",
    "You are through the regular expressions assignment of the Basic Python Programming Course.\n",
    "<br> We know that this was a challenging one. You got to work with real world data.\n",
    "<br> This data was very clean as compared to what you get in most real life situations.\n",
    "<br> This was a great place to start. Now you know how to match text from HTML file. You can explore some advanced libraries such as beautiful soup too if you are interested.\n",
    "<br> But for now, this is an achievement worth celebrating.\n",
    "<br>Buckle up!\n",
    "<br>You are doing very well.\n",
    "<br>See you in the next chapter."
   ]
  }
 ],
 "metadata": {
  "kernelspec": {
   "display_name": "Python 3",
   "language": "python",
   "name": "python3"
  },
  "language_info": {
   "codemirror_mode": {
    "name": "ipython",
    "version": 3
   },
   "file_extension": ".py",
   "mimetype": "text/x-python",
   "name": "python",
   "nbconvert_exporter": "python",
   "pygments_lexer": "ipython3",
   "version": "3.6.5"
  }
 },
 "nbformat": 4,
 "nbformat_minor": 2
}
