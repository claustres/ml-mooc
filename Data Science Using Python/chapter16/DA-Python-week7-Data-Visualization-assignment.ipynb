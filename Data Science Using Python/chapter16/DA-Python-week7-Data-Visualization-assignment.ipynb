{
 "cells": [
  {
   "cell_type": "markdown",
   "metadata": {},
   "source": [
    "<img src=\"http://www.digitalvidya.com/wp-content/uploads/2013/05/logoa5-300x95.png\">"
   ]
  },
  {
   "cell_type": "markdown",
   "metadata": {},
   "source": [
    "## Data Analysis using Python Assignment Week 7\n",
    "### Digital Vidya Copyright"
   ]
  },
  {
   "cell_type": "markdown",
   "metadata": {},
   "source": [
    "We get NSE stocks data using package nsepy. You will have to first install nsepy using the command pip install nsepy. \n",
    "\n",
    "Use function get_history, it fetches the price history of stocks/indices/derivatives and returns a pandas dataframe.\n",
    "\n",
    "We are going to use data of 'INFY', 'HDFC', 'RELIANCE', 'WIPRO' \n",
    "\n",
    "We have created the dataframes hdfc, infy, wipro and reliance. \n",
    "\n",
    "We will use the dataframes created above to create plots.\n"
   ]
  },
  {
   "cell_type": "code",
   "execution_count": 1,
   "metadata": {},
   "outputs": [],
   "source": [
    "import pandas as pd\n",
    "import numpy as np\n",
    "import matplotlib.pyplot as plt\n",
    "from nsepy import get_history\n",
    "import datetime as dt\n",
    "% matplotlib inline\n",
    "\n",
    "start = dt.datetime(2015, 1, 1)\n",
    "\n",
    "end = dt.datetime.today()\n",
    "\n",
    "infy = get_history(symbol='INFY', start = start, end = end)\n",
    "infy.index = pd.to_datetime(infy.index)\n",
    "\n",
    "hdfc = get_history(symbol='HDFC', start = start, end = end)\n",
    "hdfc.index = pd.to_datetime(hdfc.index)\n",
    "\n",
    "reliance = get_history(symbol='RELIANCE', start = start, end = end)\n",
    "reliance.index = pd.to_datetime(reliance.index)\n",
    "\n",
    "wipro = get_history(symbol='WIPRO', start = start, end = end)\n",
    "wipro.index = pd.to_datetime(wipro.index)\n"
   ]
  },
  {
   "cell_type": "markdown",
   "metadata": {},
   "source": [
    "### Answer the following questions. Do remember to add appropriate title to the graphs."
   ]
  },
  {
   "cell_type": "markdown",
   "metadata": {},
   "source": [
    "#### 1. Use the dataframe open_prices created below to plot a line graph showing each of the four stocks price. Set the figure size to 15,6 for better visualization and add grids. The plot will have four lines depicting each stock and a legend."
   ]
  },
  {
   "cell_type": "code",
   "execution_count": 44,
   "metadata": {},
   "outputs": [
    {
     "data": {
      "text/html": [
       "<div>\n",
       "<style scoped>\n",
       "    .dataframe tbody tr th:only-of-type {\n",
       "        vertical-align: middle;\n",
       "    }\n",
       "\n",
       "    .dataframe tbody tr th {\n",
       "        vertical-align: top;\n",
       "    }\n",
       "\n",
       "    .dataframe thead th {\n",
       "        text-align: right;\n",
       "    }\n",
       "</style>\n",
       "<table border=\"1\" class=\"dataframe\">\n",
       "  <thead>\n",
       "    <tr style=\"text-align: right;\">\n",
       "      <th></th>\n",
       "      <th>Infy</th>\n",
       "      <th>Hdfc</th>\n",
       "      <th>Reliance</th>\n",
       "      <th>Wipro</th>\n",
       "    </tr>\n",
       "    <tr>\n",
       "      <th>Date</th>\n",
       "      <th></th>\n",
       "      <th></th>\n",
       "      <th></th>\n",
       "      <th></th>\n",
       "    </tr>\n",
       "  </thead>\n",
       "  <tbody>\n",
       "    <tr>\n",
       "      <th>2015-01-01</th>\n",
       "      <td>1968.95</td>\n",
       "      <td>1130.0</td>\n",
       "      <td>886.3</td>\n",
       "      <td>552.55</td>\n",
       "    </tr>\n",
       "    <tr>\n",
       "      <th>2015-01-02</th>\n",
       "      <td>1972.00</td>\n",
       "      <td>1127.3</td>\n",
       "      <td>888.1</td>\n",
       "      <td>553.40</td>\n",
       "    </tr>\n",
       "    <tr>\n",
       "      <th>2015-01-05</th>\n",
       "      <td>2009.90</td>\n",
       "      <td>1168.8</td>\n",
       "      <td>885.0</td>\n",
       "      <td>557.05</td>\n",
       "    </tr>\n",
       "    <tr>\n",
       "      <th>2015-01-06</th>\n",
       "      <td>1980.00</td>\n",
       "      <td>1148.6</td>\n",
       "      <td>870.0</td>\n",
       "      <td>555.00</td>\n",
       "    </tr>\n",
       "    <tr>\n",
       "      <th>2015-01-07</th>\n",
       "      <td>1965.00</td>\n",
       "      <td>1097.5</td>\n",
       "      <td>837.1</td>\n",
       "      <td>543.20</td>\n",
       "    </tr>\n",
       "  </tbody>\n",
       "</table>\n",
       "</div>"
      ],
      "text/plain": [
       "               Infy    Hdfc  Reliance   Wipro\n",
       "Date                                         \n",
       "2015-01-01  1968.95  1130.0     886.3  552.55\n",
       "2015-01-02  1972.00  1127.3     888.1  553.40\n",
       "2015-01-05  2009.90  1168.8     885.0  557.05\n",
       "2015-01-06  1980.00  1148.6     870.0  555.00\n",
       "2015-01-07  1965.00  1097.5     837.1  543.20"
      ]
     },
     "execution_count": 44,
     "metadata": {},
     "output_type": "execute_result"
    }
   ],
   "source": [
    "open_prices = pd.concat([infy['Open'], hdfc['Open'], reliance['Open'], wipro['Open']], axis = 1)\n",
    "open_prices.columns = ['Infy', 'Hdfc', 'Reliance', 'Wipro']\n",
    "open_prices.head()"
   ]
  },
  {
   "cell_type": "markdown",
   "metadata": {},
   "source": [
    "#### 2. Use the dataframe open_prices created in qn 1 to create open_yearly with mean open prices every year. Create a bar chart with stock name on X-axis and price on Y-axis. The resulting plot will have multiple bar plot comparing price of each stock for 2015, 2016 and 2017. The legend should specify which colored bar represents which year for each stock."
   ]
  },
  {
   "cell_type": "markdown",
   "metadata": {
    "collapsed": true
   },
   "source": [
    "#### 3. Plot 4 different line plots for the 4 companies in dataframe open_prices. Year would be on X-axis, stock price on Y axis, you will need (2,2) plot. Set figure size to 10, 8 and share X-axis for better visualization."
   ]
  },
  {
   "cell_type": "markdown",
   "metadata": {},
   "source": [
    "#### 4. Get the stock prices for TCS for the same time period and plot a line graph with two lines representing daily high and low prices respectively."
   ]
  },
  {
   "cell_type": "markdown",
   "metadata": {},
   "source": [
    "#### 5. Create 3 pie charts from the open_prices dataframe, each representing % mean prices of stocks per year. You should get three charts for year 2015, 2016 and 2017 respectively. Try the parameter layout = (2,2) to get 2 plots on each row."
   ]
  }
 ],
 "metadata": {
  "kernelspec": {
   "display_name": "Python 3",
   "language": "python",
   "name": "python3"
  },
  "language_info": {
   "codemirror_mode": {
    "name": "ipython",
    "version": 3
   },
   "file_extension": ".py",
   "mimetype": "text/x-python",
   "name": "python",
   "nbconvert_exporter": "python",
   "pygments_lexer": "ipython3",
   "version": "3.6.4"
  }
 },
 "nbformat": 4,
 "nbformat_minor": 2
}
