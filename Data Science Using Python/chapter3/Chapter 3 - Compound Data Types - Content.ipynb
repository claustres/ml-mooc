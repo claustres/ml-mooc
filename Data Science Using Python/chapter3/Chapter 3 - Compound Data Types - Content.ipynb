{
 "cells": [
  {
   "cell_type": "markdown",
   "metadata": {},
   "source": [
    "<img src=\"https://www.digitalvidya.com/wp-content/uploads/2013/05/Digital-Vidya-Website-Logo-HD-2-300x95.png\">"
   ]
  },
  {
   "cell_type": "markdown",
   "metadata": {},
   "source": [
    "# Compound Data Types\n",
    "\n",
    "Hello!\n",
    "\n",
    "In this chapter we are going to explore the different types of Compound Data Types such as set, tuples, lists, dictionaries and the various concepts associated with these data types.\n",
    "\n",
    "First question which would arise in anyone's mind would be: \n",
    "\n",
    "**What is the meaning of compound data types?**\n",
    "\n",
    "In computer science, a composite data type or compound data type is any data type which can be constructed in a program using the programming language's primitive data types and other composite types\n",
    "\n",
    "Lists, sets, tuples and dictionaries are also called data structures.\n",
    "\n",
    "A data structure is a specialized format for organizing and storing data. Any data structure is designed to organize data to suit a specific purpose so that it can be accessed and worked with in appropriate ways.\n",
    "\n",
    "For reference:\n",
    "https://docs.python.org/3/library/stdtypes.html#sequence-types-list-tuple-range\n",
    "<br>https://docs.python.org/3/library/stdtypes.html#set-types-set-frozenset\n",
    "\n",
    "In this lecture we'll learn about the following:\n",
    "\n",
    "1. Lists\n",
    "2. Tuples\n",
    "3. Dictionaries\n",
    "4. Sets \n",
    "\n",
    "**Lets begin**\n"
   ]
  },
  {
   "cell_type": "markdown",
   "metadata": {},
   "source": [
    "# Lists"
   ]
  },
  {
   "cell_type": "markdown",
   "metadata": {},
   "source": [
    "Lists are collection of objects which can be of same or different datatype.\n",
    "<br> Lists can be very useful in many situations.\n",
    "<font color=green>### Example</font>\n",
    "<br> Suppose in a class, teacher has to store information of a student of the form name, roll number, marks then its convenient to store in 3 variables but suppose there are 25 students then the number of variables will be 25 x 3 = 75,\n",
    "this will increase a toll on the teacher, so its better to store in 3 lists.  \n",
    "\n",
    "Earlier when discussing strings we introduced the concept of a sequence in Python. On the same lines we can say that lists are general form of sequence in Python. Unlike strings, they are mutable, meaning the **elements inside a list can be changed!**\n",
    "\n",
    "By mutable we mean that, the elements in the list can deleted, swapped, replaced also new elements can be added.\n",
    "\n",
    "If you are familiar with another programming language, you might start to draw parallels between arrays in another language and lists in Python. Lists in Python however, tend to be more flexible than arrays in other languages for a two good reasons: they have no fixed size (meaning we don't have to specify how big a list will be), and they have no fixed type constraint (like we've seen above).\n",
    "\n",
    "When can lists be used?\n",
    "<br> Lists can be used to store collection of objects of same or different datatype.\n",
    "\n",
    "In this section we will learn about:\n",
    "\n",
    "1. Creating lists\n",
    "2. Indexing and Slicing Lists\n",
    "3. Basic List Methods\n",
    "4. Nesting Lists\n",
    "5. Introduction to List Comprehensions\n",
    "\n",
    "For reference:\n",
    "https://docs.python.org/3/library/stdtypes.html#sequence-types-list-tuple-range"
   ]
  },
  {
   "cell_type": "markdown",
   "metadata": {},
   "source": [
    "## 1. Creating Lists\n",
    "\n",
    "Lists are constructed with brackets [] and commas separating every element in the list.\n",
    "\n",
    "Let's go ahead and see what can we do with lists!"
   ]
  },
  {
   "cell_type": "code",
   "execution_count": 1,
   "metadata": {
    "collapsed": true
   },
   "outputs": [],
   "source": [
    "# Assign a list to an variable named my_list\n",
    "\n",
    "my_list = [1,2,3]"
   ]
  },
  {
   "cell_type": "code",
   "execution_count": 2,
   "metadata": {},
   "outputs": [
    {
     "data": {
      "text/plain": [
       "[1, 2, 3]"
      ]
     },
     "execution_count": 2,
     "metadata": {},
     "output_type": "execute_result"
    }
   ],
   "source": [
    "# Show\n",
    "\n",
    "my_list"
   ]
  },
  {
   "cell_type": "code",
   "execution_count": 1,
   "metadata": {
    "collapsed": true
   },
   "outputs": [],
   "source": [
    "# Creating 3 lists based on the example given above.\n",
    "\n",
    "student_names = [\"John\" ,\"Jane\", \"Amita\", \"Amit\", \"Ram\"]\n",
    "student_roll_nos = [11,22,32,44,77]\n",
    "student_marks = [20,19,11,15,16]"
   ]
  },
  {
   "cell_type": "code",
   "execution_count": 2,
   "metadata": {},
   "outputs": [
    {
     "name": "stdout",
     "output_type": "stream",
     "text": [
      "['John', 'Jane', 'Amita', 'Amit', 'Ram']\n",
      "[11, 22, 32, 44, 77]\n",
      "[20, 19, 11, 15, 16]\n"
     ]
    }
   ],
   "source": [
    "# show all 3 lists\n",
    "\n",
    "print(student_names)\n",
    "print(student_roll_nos)\n",
    "print(student_marks)"
   ]
  },
  {
   "cell_type": "markdown",
   "metadata": {},
   "source": [
    "Another **special property** of lists is that it can hold different types of objects. \n",
    "<br> Although you might not find this property very useful. Keep it for those rare times.\n",
    "<br> For example :"
   ]
  },
  {
   "cell_type": "code",
   "execution_count": 3,
   "metadata": {
    "collapsed": true
   },
   "outputs": [],
   "source": [
    "my_list = ['Welcome',2,'a new chapter',3.1]"
   ]
  },
  {
   "cell_type": "markdown",
   "metadata": {},
   "source": [
    "Here 'Welcome' is string,\n",
    "      2 is an integer,\n",
    "      'a new chapter' is string,\n",
    "      3.1 is a float"
   ]
  },
  {
   "cell_type": "code",
   "execution_count": 4,
   "metadata": {},
   "outputs": [
    {
     "data": {
      "text/plain": [
       "['Welcome', 2, 'a new chapter', 3.1]"
      ]
     },
     "execution_count": 4,
     "metadata": {},
     "output_type": "execute_result"
    }
   ],
   "source": [
    "# show\n",
    "my_list"
   ]
  },
  {
   "cell_type": "markdown",
   "metadata": {},
   "source": [
    "### Creating a list of repeatable elements\n",
    "\n",
    "<font color=green>### Example</font>\n",
    "<br> Suppose you have enrolled for Python Programming course in Digital Vidya. Once you submit your assignment, the admin team keeps a record of your submissions.\n",
    "<br> It will create a list of 15 assignments marked as N initially, later as they are submitted,corresponding assignment is marked as 'Y'. \n"
   ]
  },
  {
   "cell_type": "code",
   "execution_count": 5,
   "metadata": {
    "collapsed": true
   },
   "outputs": [],
   "source": [
    "# Complete list initialized as 'N'\n",
    "\n",
    "submission = ['N']*15 \n"
   ]
  },
  {
   "cell_type": "code",
   "execution_count": 6,
   "metadata": {},
   "outputs": [
    {
     "data": {
      "text/plain": [
       "['N', 'N', 'N', 'N', 'N', 'N', 'N', 'N', 'N', 'N', 'N', 'N', 'N', 'N', 'N']"
      ]
     },
     "execution_count": 6,
     "metadata": {},
     "output_type": "execute_result"
    }
   ],
   "source": [
    "# Show submission list\n",
    "\n",
    "submission"
   ]
  },
  {
   "cell_type": "markdown",
   "metadata": {},
   "source": [
    "## Indexing and Slicing\n",
    "\n",
    "Indexing and slicing works just like in strings. Try to recall the process of slicing in strings, a very similar process happens in lists.\n",
    "<br>If you understood string indexing and slicing very well, this is a piece of cake for you. \n",
    "\n",
    "<font color=green>### Example</font>\n",
    "<br>Indexing and Slicing can be useful in cases like retrieve the name of last 25 students or \n",
    "<br> Suppose you have a list of 50 names and you want the name of 25th student then indexing will come in handy."
   ]
  },
  {
   "cell_type": "code",
   "execution_count": 7,
   "metadata": {},
   "outputs": [
    {
     "name": "stdout",
     "output_type": "stream",
     "text": [
      "John\n",
      "11\n",
      "20\n"
     ]
    }
   ],
   "source": [
    "# Grab all the information of the first student in all 3 lists.\n",
    "\n",
    "print(student_names[0])\n",
    "print(student_roll_nos[0])\n",
    "print(student_marks[0])"
   ]
  },
  {
   "cell_type": "markdown",
   "metadata": {},
   "source": [
    "Just like strings you can go backwards using negative indexes"
   ]
  },
  {
   "cell_type": "code",
   "execution_count": 8,
   "metadata": {},
   "outputs": [
    {
     "name": "stdout",
     "output_type": "stream",
     "text": [
      "Ram\n",
      "77\n",
      "16\n"
     ]
    }
   ],
   "source": [
    "# Grab all the information of the last student in all 3 lists.\n",
    "\n",
    "print(student_names[-1])\n",
    "print(student_roll_nos[-1])\n",
    "print(student_marks[-1])"
   ]
  },
  {
   "cell_type": "markdown",
   "metadata": {},
   "source": [
    "It should also be noted that lists indexing will return an error if there is no element at that index. For example:"
   ]
  },
  {
   "cell_type": "code",
   "execution_count": 9,
   "metadata": {},
   "outputs": [
    {
     "ename": "IndexError",
     "evalue": "list index out of range",
     "output_type": "error",
     "traceback": [
      "\u001b[1;31m---------------------------------------------------------------------------\u001b[0m",
      "\u001b[1;31mIndexError\u001b[0m                                Traceback (most recent call last)",
      "\u001b[1;32m<ipython-input-9-70d7d8cd59d9>\u001b[0m in \u001b[0;36m<module>\u001b[1;34m()\u001b[0m\n\u001b[1;32m----> 1\u001b[1;33m \u001b[0mstudent_names\u001b[0m\u001b[1;33m[\u001b[0m\u001b[1;36m100\u001b[0m\u001b[1;33m]\u001b[0m\u001b[1;33m\u001b[0m\u001b[0m\n\u001b[0m",
      "\u001b[1;31mIndexError\u001b[0m: list index out of range"
     ]
    }
   ],
   "source": [
    "student_names[100]"
   ]
  },
  {
   "cell_type": "markdown",
   "metadata": {},
   "source": [
    "<font color=red>### INSTRUCTION TO DO</font>\n",
    "<br> Try accessing the information of the second student in all 3 lists.\n",
    "<br> Add new cells if required and practice\n"
   ]
  },
  {
   "cell_type": "code",
   "execution_count": null,
   "metadata": {
    "collapsed": true
   },
   "outputs": [],
   "source": []
  },
  {
   "cell_type": "code",
   "execution_count": 10,
   "metadata": {},
   "outputs": [
    {
     "name": "stdout",
     "output_type": "stream",
     "text": [
      "['Jane', 'Amita', 'Amit', 'Ram']\n",
      "[22, 32, 44, 77]\n",
      "[19, 11, 15, 16]\n"
     ]
    }
   ],
   "source": [
    "# Grab all the information of all the students after the first student.\n",
    "\n",
    "print(student_names[1:])\n",
    "print(student_roll_nos[1:])\n",
    "print(student_marks[1:])"
   ]
  },
  {
   "cell_type": "code",
   "execution_count": 11,
   "metadata": {},
   "outputs": [
    {
     "name": "stdout",
     "output_type": "stream",
     "text": [
      "['John', 'Jane', 'Amita', 'Amit']\n",
      "[11, 22, 32, 44]\n",
      "[20, 19, 11, 15]\n"
     ]
    }
   ],
   "source": [
    "# Grab all the information of all the students uptil the 4th student.\n",
    "\n",
    "print(student_names[:4])\n",
    "print(student_roll_nos[:4])\n",
    "print(student_marks[:4])"
   ]
  },
  {
   "cell_type": "markdown",
   "metadata": {},
   "source": [
    "Just like strings you can go backwards by performing slicing using negative indexes"
   ]
  },
  {
   "cell_type": "markdown",
   "metadata": {},
   "source": [
    "**Just a reminder** : The format is [start : stop : increment]\n",
    "<br> You will get elements beginning from start and ending at (stop - 1) index."
   ]
  },
  {
   "cell_type": "code",
   "execution_count": 12,
   "metadata": {},
   "outputs": [
    {
     "name": "stdout",
     "output_type": "stream",
     "text": [
      "['John', 'Amita', 'Ram']\n",
      "[11, 32, 77]\n",
      "[20, 11, 16]\n"
     ]
    }
   ],
   "source": [
    "# Grab all the information of all the alternate students.\n",
    "\n",
    "print(student_names[: : 2])\n",
    "print(student_roll_nos[:: 2])\n",
    "print(student_marks[::2])"
   ]
  },
  {
   "cell_type": "code",
   "execution_count": 13,
   "metadata": {},
   "outputs": [
    {
     "name": "stdout",
     "output_type": "stream",
     "text": [
      "['Ram', 'Amit', 'Amita', 'Jane', 'John']\n",
      "[77, 44, 32, 22, 11]\n",
      "[16, 15, 11, 19, 20]\n"
     ]
    }
   ],
   "source": [
    "# Grab all the information of all the students in reverse order.\n",
    "\n",
    "print(student_names[: : -1])\n",
    "print(student_roll_nos[:: -1])\n",
    "print(student_marks[::-1])"
   ]
  },
  {
   "cell_type": "markdown",
   "metadata": {},
   "source": [
    "We can also use + to concatenate lists, just like we did for strings.\n",
    "<br> Group B of 5 students will be concatenated into 1 common list."
   ]
  },
  {
   "cell_type": "code",
   "execution_count": 14,
   "metadata": {
    "collapsed": true
   },
   "outputs": [],
   "source": [
    "# Lets save the above lists in a new group A\n",
    "\n",
    "student_names_groupA = student_names\n",
    "student_roll_nos_groupA = student_roll_nos\n",
    "student_marks_groupA = student_marks"
   ]
  },
  {
   "cell_type": "code",
   "execution_count": 15,
   "metadata": {
    "collapsed": true
   },
   "outputs": [],
   "source": [
    "# Lets create group B lists\n",
    "\n",
    "student_names_groupB = ['Jaya','Sagar','Simran','Aditya','Gautam']\n",
    "student_roll_nos_groupB = [1,4,7,8,9,14]\n",
    "student_marks_groupB = [20,11,14,17,18]"
   ]
  },
  {
   "cell_type": "code",
   "execution_count": 16,
   "metadata": {},
   "outputs": [
    {
     "name": "stdout",
     "output_type": "stream",
     "text": [
      "['John', 'Jane', 'Amita', 'Amit', 'Ram', 'Jaya', 'Sagar', 'Simran', 'Aditya', 'Gautam']\n",
      "[11, 22, 32, 44, 77, 1, 4, 7, 8, 9, 14]\n",
      "[20, 19, 11, 15, 16, 20, 11, 14, 17, 18]\n"
     ]
    }
   ],
   "source": [
    "# Lets concatenate the two groups \n",
    "\n",
    "print(student_names_groupA + student_names_groupB)\n",
    "print(student_roll_nos_groupA + student_roll_nos_groupB)\n",
    "print(student_marks_groupA + student_marks_groupB)"
   ]
  },
  {
   "cell_type": "markdown",
   "metadata": {},
   "source": [
    "Note: The original list is intact!"
   ]
  },
  {
   "cell_type": "code",
   "execution_count": 17,
   "metadata": {},
   "outputs": [
    {
     "name": "stdout",
     "output_type": "stream",
     "text": [
      "Group A\n",
      "['John', 'Jane', 'Amita', 'Amit', 'Ram']\n",
      "[11, 22, 32, 44, 77]\n",
      "[20, 19, 11, 15, 16]\n",
      "\n",
      "Group B\n",
      "['Jaya', 'Sagar', 'Simran', 'Aditya', 'Gautam']\n",
      "[1, 4, 7, 8, 9, 14]\n",
      "[20, 11, 14, 17, 18]\n"
     ]
    }
   ],
   "source": [
    "#Show\n",
    "\n",
    "print(\"Group A\")\n",
    "print(student_names_groupA)\n",
    "print(student_roll_nos_groupA)\n",
    "print(student_marks_groupA)\n",
    "\n",
    "print()\n",
    "\n",
    "print(\"Group B\")\n",
    "print(student_names_groupB)\n",
    "print(student_roll_nos_groupB)\n",
    "print(student_marks_groupB)"
   ]
  },
  {
   "cell_type": "markdown",
   "metadata": {},
   "source": [
    "You would have to reassign the list to make the change permanent."
   ]
  },
  {
   "cell_type": "code",
   "execution_count": 18,
   "metadata": {
    "collapsed": true
   },
   "outputs": [],
   "source": [
    "# Reassign the 3 lists\n",
    "\n",
    "reassigned_names = student_names_groupA + student_names_groupB\n",
    "reassigned_roll_nos = student_roll_nos_groupA + student_roll_nos_groupB\n",
    "reassigned_marks = student_marks_groupA + student_marks_groupB"
   ]
  },
  {
   "cell_type": "code",
   "execution_count": 19,
   "metadata": {},
   "outputs": [
    {
     "name": "stdout",
     "output_type": "stream",
     "text": [
      "['John', 'Jane', 'Amita', 'Amit', 'Ram', 'Jaya', 'Sagar', 'Simran', 'Aditya', 'Gautam']\n",
      "[11, 22, 32, 44, 77, 1, 4, 7, 8, 9, 14]\n",
      "[20, 19, 11, 15, 16, 20, 11, 14, 17, 18]\n"
     ]
    }
   ],
   "source": [
    "#Show\n",
    "\n",
    "print(reassigned_names)\n",
    "print(reassigned_roll_nos)\n",
    "print(reassigned_marks)"
   ]
  },
  {
   "cell_type": "markdown",
   "metadata": {},
   "source": [
    "<font color=red>### INSTRUCTION TO DO</font>\n",
    "\n",
    "Add a student to the reassigned lists with name \"Amitabh\", roll no. 42, marks 15. \n",
    "<br> Try applying slicing on the above newly created reassigned lists for your practice.\n",
    "<br> Add new cells if required and practice"
   ]
  },
  {
   "cell_type": "code",
   "execution_count": null,
   "metadata": {
    "collapsed": true
   },
   "outputs": [],
   "source": []
  },
  {
   "cell_type": "markdown",
   "metadata": {},
   "source": [
    "# List Methods\n",
    "\n",
    "Remember one thing : \n",
    "<br> You **don't** need to remember all methods, you can enter list name and then enter a dot and then Press Tab that will give all the suggestions for different methods.\n",
    "<br> Also, you **don't** need to remember all parameters that can be passed to methods, you can enter list_name.method_name() then inside the parenthesis Press Shift + Tab that will give detailed documentation for all the parameters that can be passed to a function.\n",
    "\n",
    "For reference:\n",
    "https://docs.python.org/3/tutorial/datastructures.html#more-on-lists\n",
    "\n",
    "Let's go ahead and explore some methods for lists:"
   ]
  },
  {
   "cell_type": "markdown",
   "metadata": {},
   "source": [
    "### Append method\n",
    "\n",
    "The append method can be used to add elements to the list permanently so you don't need to add elements and keep reassigning.\n",
    "\n",
    "**This method is useful when you want to add one element to the list.** You can directly append an element to the list no need to reassign.\n",
    "\n",
    "<font color=green>### Example</font>\n",
    "<br> Suppose a new student has joined group A then his name can be appended to list of names,roll number can be appended to list of roll numbers, marks can be appended to list of marks. \n",
    "<br> New student's name is Rajiv, roll number is 39, marks is 13."
   ]
  },
  {
   "cell_type": "code",
   "execution_count": 20,
   "metadata": {
    "collapsed": true
   },
   "outputs": [],
   "source": [
    "# Append\n",
    "\n",
    "student_names_groupA.append('Rajiv')\n",
    "\n",
    "student_roll_nos_groupA.append(39)\n",
    "\n",
    "student_marks_groupA.append(13)"
   ]
  },
  {
   "cell_type": "code",
   "execution_count": 21,
   "metadata": {},
   "outputs": [
    {
     "name": "stdout",
     "output_type": "stream",
     "text": [
      "Group A\n",
      "['John', 'Jane', 'Amita', 'Amit', 'Ram', 'Rajiv']\n",
      "[11, 22, 32, 44, 77, 39]\n",
      "[20, 19, 11, 15, 16, 13]\n"
     ]
    }
   ],
   "source": [
    "# Show\n",
    "\n",
    "print(\"Group A\")\n",
    "print(student_names_groupA)\n",
    "print(student_roll_nos_groupA)\n",
    "print(student_marks_groupA)\n"
   ]
  },
  {
   "cell_type": "markdown",
   "metadata": {},
   "source": [
    "### Extend method\n",
    "\n",
    "The extend method can also be used to add elements to the list permanently so you don't need to add elements and keep reassigning.\n",
    "<br> **This method is useful when you want to add more than one elements to the list.** \n",
    "<br> You can directly append an element to the list no need to reassign.\n",
    "<br> This is similar to concatenation of lists with the key difference being that the original list gets modified. \n",
    "\n",
    "<font color=green>### Example</font>\n",
    "<br> Suppose a two students have joined group A their names are Rahul,Sanjeev and their roll nos are 51,81 and their marks are 19,18. Thus the 3 lists need to be updated accordingly. \n"
   ]
  },
  {
   "cell_type": "code",
   "execution_count": 22,
   "metadata": {
    "collapsed": true
   },
   "outputs": [],
   "source": [
    "# Creating 3 lists of the two students.\n",
    "\n",
    "new_student_names = [\"Rahul\",\"Sanjeev\"]\n",
    "new_student_roll_nos = [51,81]\n",
    "new_student_marks = [19,18]"
   ]
  },
  {
   "cell_type": "code",
   "execution_count": 23,
   "metadata": {
    "collapsed": true
   },
   "outputs": [],
   "source": [
    "# Extend\n",
    "\n",
    "student_names_groupA.extend(new_student_names)\n",
    "\n",
    "student_roll_nos_groupA.extend(new_student_roll_nos)\n",
    "\n",
    "student_marks_groupA.extend(new_student_marks)"
   ]
  },
  {
   "cell_type": "code",
   "execution_count": 24,
   "metadata": {},
   "outputs": [
    {
     "name": "stdout",
     "output_type": "stream",
     "text": [
      "Group A\n",
      "['John', 'Jane', 'Amita', 'Amit', 'Ram', 'Rajiv', 'Rahul', 'Sanjeev']\n",
      "[11, 22, 32, 44, 77, 39, 51, 81]\n",
      "[20, 19, 11, 15, 16, 13, 19, 18]\n"
     ]
    }
   ],
   "source": [
    "# Show\n",
    "\n",
    "print(\"Group A\")\n",
    "print(student_names_groupA)\n",
    "print(student_roll_nos_groupA)\n",
    "print(student_marks_groupA)\n"
   ]
  },
  {
   "cell_type": "markdown",
   "metadata": {},
   "source": [
    "### Pop method\n",
    "\n",
    "Use pop to \"pop off\" or remove an item from the list. By default pop takes off the last index (length of list - 1), but you can also specify which index to pop off. \n",
    "\n",
    "<font color=green>### Example</font>\n",
    "<br> Suppose a student has left the group then his details removed or popped off from the 3 lists.\n",
    "\n",
    "Let's see an example:\n",
    "<br> John has left group A due to personal reasons."
   ]
  },
  {
   "cell_type": "code",
   "execution_count": 25,
   "metadata": {},
   "outputs": [
    {
     "name": "stdout",
     "output_type": "stream",
     "text": [
      "John\n",
      "11\n",
      "20\n"
     ]
    }
   ],
   "source": [
    "# Pop off the 0 indexed item because John's details are present at index 0.\n",
    "\n",
    "print(student_names_groupA.pop(0))\n",
    "print(student_roll_nos_groupA.pop(0))\n",
    "print(student_marks_groupA.pop(0))"
   ]
  },
  {
   "cell_type": "markdown",
   "metadata": {},
   "source": [
    "Note that the 0th element is removed permanently."
   ]
  },
  {
   "cell_type": "code",
   "execution_count": 26,
   "metadata": {},
   "outputs": [
    {
     "name": "stdout",
     "output_type": "stream",
     "text": [
      "Group A\n",
      "['Jane', 'Amita', 'Amit', 'Ram', 'Rajiv', 'Rahul', 'Sanjeev']\n",
      "[22, 32, 44, 77, 39, 51, 81]\n",
      "[19, 11, 15, 16, 13, 19, 18]\n"
     ]
    }
   ],
   "source": [
    "# Show\n",
    "\n",
    "print(\"Group A\")\n",
    "print(student_names_groupA)\n",
    "print(student_roll_nos_groupA)\n",
    "print(student_marks_groupA)"
   ]
  },
  {
   "cell_type": "markdown",
   "metadata": {},
   "source": [
    "John is not present in output neither are his marks and roll no."
   ]
  },
  {
   "cell_type": "code",
   "execution_count": 27,
   "metadata": {
    "collapsed": true
   },
   "outputs": [],
   "source": [
    "# Assign the popped element, remember default popped index is -1 or (length of list - 1)\n",
    "\n",
    "removed_student_name = student_names_groupA.pop()\n",
    "removed_student_roll_nos = student_roll_nos_groupA.pop()\n",
    "removed_student_marks = student_marks_groupA.pop()"
   ]
  },
  {
   "cell_type": "code",
   "execution_count": 28,
   "metadata": {},
   "outputs": [
    {
     "name": "stdout",
     "output_type": "stream",
     "text": [
      "Sanjeev\n",
      "81\n",
      "18\n"
     ]
    }
   ],
   "source": [
    "# Show \n",
    "\n",
    "print(removed_student_name)\n",
    "print(removed_student_roll_nos)\n",
    "print(removed_student_marks)"
   ]
  },
  {
   "cell_type": "markdown",
   "metadata": {},
   "source": [
    "Sanjeev was the last student hence his details are displayed."
   ]
  },
  {
   "cell_type": "code",
   "execution_count": 29,
   "metadata": {},
   "outputs": [
    {
     "name": "stdout",
     "output_type": "stream",
     "text": [
      "Group A\n",
      "['Jane', 'Amita', 'Amit', 'Ram', 'Rajiv', 'Rahul']\n",
      "[22, 32, 44, 77, 39, 51]\n",
      "[19, 11, 15, 16, 13, 19]\n"
     ]
    }
   ],
   "source": [
    "# Lets see how the remaining list looks\n",
    "\n",
    "print(\"Group A\")\n",
    "print(student_names_groupA)\n",
    "print(student_roll_nos_groupA)\n",
    "print(student_marks_groupA)\n"
   ]
  },
  {
   "cell_type": "code",
   "execution_count": null,
   "metadata": {
    "collapsed": true
   },
   "outputs": [],
   "source": []
  },
  {
   "cell_type": "markdown",
   "metadata": {},
   "source": [
    "### Index method\n",
    "\n",
    "Index method is used to find index of an element in the list. \n",
    "\n",
    "Let's see an example:"
   ]
  },
  {
   "cell_type": "code",
   "execution_count": 30,
   "metadata": {},
   "outputs": [
    {
     "data": {
      "text/plain": [
       "2"
      ]
     },
     "execution_count": 30,
     "metadata": {},
     "output_type": "execute_result"
    }
   ],
   "source": [
    "# Lets find the index of Amit\n",
    "\n",
    "student_names_groupA.index(\"Amit\")"
   ]
  },
  {
   "cell_type": "markdown",
   "metadata": {
    "collapsed": true
   },
   "source": [
    "### Sort method\n",
    "\n",
    "Sort method sort the elements of the list in ascending order.\n",
    "<br> This method has a very important application everywhere.\n",
    "<br> Sorting is not just limited to numbers, you can sort characters too.\n",
    "\n",
    "<font color=green>### Example</font>\n",
    "<br> Suppose the roll numbers of students are not in sorted order, for convenience of access we always sort things. Here sort method comes to our rescue.\n",
    "\n",
    "Let's see an example:"
   ]
  },
  {
   "cell_type": "code",
   "execution_count": 31,
   "metadata": {
    "collapsed": true
   },
   "outputs": [],
   "source": [
    "random_alphabets = ['a','z','u','b','c']"
   ]
  },
  {
   "cell_type": "code",
   "execution_count": 32,
   "metadata": {
    "collapsed": true
   },
   "outputs": [],
   "source": [
    "# Lets sort the list\n",
    "random_alphabets.sort()"
   ]
  },
  {
   "cell_type": "code",
   "execution_count": 33,
   "metadata": {},
   "outputs": [
    {
     "data": {
      "text/plain": [
       "['a', 'b', 'c', 'u', 'z']"
      ]
     },
     "execution_count": 33,
     "metadata": {},
     "output_type": "execute_result"
    }
   ],
   "source": [
    "# Show\n",
    "random_alphabets"
   ]
  },
  {
   "cell_type": "markdown",
   "metadata": {},
   "source": [
    "There is another method sorted to which if a list is passed it returns a sorted list.\n",
    "<br> But there is a catch, the list is sorted temporarily.\n",
    "<br> By the way, the technical term for permanent sorting is inplace sorting.\n",
    "<br> So you can say that sorted method does not perform inplace sorting on the lists."
   ]
  },
  {
   "cell_type": "code",
   "execution_count": 34,
   "metadata": {
    "collapsed": true
   },
   "outputs": [],
   "source": [
    "# Lets use sorted function to sort the list\n",
    "\n",
    "sorted_alphabets = sorted(random_alphabets)"
   ]
  },
  {
   "cell_type": "code",
   "execution_count": 35,
   "metadata": {},
   "outputs": [
    {
     "data": {
      "text/plain": [
       "['a', 'b', 'c', 'u', 'z']"
      ]
     },
     "execution_count": 35,
     "metadata": {},
     "output_type": "execute_result"
    }
   ],
   "source": [
    "# Show\n",
    "\n",
    "sorted_alphabets"
   ]
  },
  {
   "cell_type": "code",
   "execution_count": 36,
   "metadata": {},
   "outputs": [
    {
     "data": {
      "text/plain": [
       "['z', 'u', 'c', 'b', 'a']"
      ]
     },
     "execution_count": 36,
     "metadata": {},
     "output_type": "execute_result"
    }
   ],
   "source": [
    "# Sorting in decending order\n",
    "\n",
    "sorted(random_alphabets,reverse = True)"
   ]
  },
  {
   "cell_type": "markdown",
   "metadata": {},
   "source": [
    "reverse = True, sorts the elements in descending order, again you don't have to remember this, Shift + Tab is your friend"
   ]
  },
  {
   "cell_type": "markdown",
   "metadata": {},
   "source": [
    "<font color=red>### INSTRUCTION TO DO</font>\n",
    "\n",
    "Go through all the other methods for list datatype. \n",
    "<br> Add new cells if required and practice"
   ]
  },
  {
   "cell_type": "code",
   "execution_count": null,
   "metadata": {
    "collapsed": true
   },
   "outputs": [],
   "source": []
  },
  {
   "cell_type": "markdown",
   "metadata": {},
   "source": [
    "## Nested lists\n",
    "\n",
    "A great feature of of Python data structures is that they support nesting. This means we can have data structures within data structures. \n",
    "<br>**For example: A list inside a list, a tuple inside a list**.\n",
    "<br> \n",
    "The same thing done above using 3 lists can rather be presented in the form of nested lists.\n",
    "\n",
    "Let's see how this works!"
   ]
  },
  {
   "cell_type": "code",
   "execution_count": 37,
   "metadata": {},
   "outputs": [
    {
     "data": {
      "text/plain": [
       "[[32, 'John', 20],\n",
       " [22, 'Jane', 19],\n",
       " [21, 'Amita', 10],\n",
       " [44, 'Amit', 15],\n",
       " [77, 'Ram', 16]]"
      ]
     },
     "execution_count": 37,
     "metadata": {},
     "output_type": "execute_result"
    }
   ],
   "source": [
    "# Let's make three lists\n",
    "\n",
    "student_roll_nos = [32,22,21,44,77] \n",
    "student_names = [\"John\" ,\"Jane\", \"Amita\", \"Amit\", \"Ram\"] \n",
    "student_marks = [20,19,10,15,16]\n",
    "\n",
    "# Format is name, roll no., marks\n",
    "students = [[i,j,k] for (i,j,k) in zip(student_roll_nos,student_names, student_marks)]\n",
    "students"
   ]
  },
  {
   "cell_type": "markdown",
   "metadata": {},
   "source": [
    "In the above code, we used a new function call **zip()** to create a list containing each element of respective lists.\n",
    "\n",
    "For reference : https://docs.python.org/3.3/library/functions.html#zip"
   ]
  },
  {
   "cell_type": "code",
   "execution_count": 38,
   "metadata": {},
   "outputs": [
    {
     "data": {
      "text/plain": [
       "[[32, 'John', 20],\n",
       " [22, 'Jane', 19],\n",
       " [21, 'Amita', 10],\n",
       " [44, 'Amit', 15],\n",
       " [77, 'Ram', 16]]"
      ]
     },
     "execution_count": 38,
     "metadata": {},
     "output_type": "execute_result"
    }
   ],
   "source": [
    "# Show \n",
    "\n",
    "students"
   ]
  },
  {
   "cell_type": "markdown",
   "metadata": {},
   "source": [
    "Now we can again use indexing to grab elements, but now there are two levels for the index. The items in the matrix object, and then the items inside batsman1,batsman2,batsman3 !\n",
    "At times, there can three, four and maybe even more levels of indexing depending on the levels of nesting. "
   ]
  },
  {
   "cell_type": "code",
   "execution_count": 39,
   "metadata": {},
   "outputs": [
    {
     "data": {
      "text/plain": [
       "[32, 'John', 20]"
      ]
     },
     "execution_count": 39,
     "metadata": {},
     "output_type": "execute_result"
    }
   ],
   "source": [
    "# Grab the details of the first student\n",
    "\n",
    "students[0]"
   ]
  },
  {
   "cell_type": "code",
   "execution_count": 40,
   "metadata": {},
   "outputs": [
    {
     "data": {
      "text/plain": [
       "32"
      ]
     },
     "execution_count": 40,
     "metadata": {},
     "output_type": "execute_result"
    }
   ],
   "source": [
    "# Grab the name of the first student\n",
    "\n",
    "students[0][0]"
   ]
  },
  {
   "cell_type": "markdown",
   "metadata": {},
   "source": [
    "This returns the first element of first element i.e list l1."
   ]
  },
  {
   "cell_type": "code",
   "execution_count": 41,
   "metadata": {},
   "outputs": [
    {
     "data": {
      "text/plain": [
       "19"
      ]
     },
     "execution_count": 41,
     "metadata": {},
     "output_type": "execute_result"
    }
   ],
   "source": [
    "# Grab the marks of Khushi\n",
    "\n",
    "students[1][2]"
   ]
  },
  {
   "cell_type": "markdown",
   "metadata": {},
   "source": [
    "<font color=red>### INSTRUCTION TO DO</font>\n",
    "\n",
    "Using the same nested list given above.\n",
    "<br> Try accessing : \n",
    "    1. Marks of Amit\n",
    "    2. Roll no. of Ram\n",
    " Add new cells if required and practice"
   ]
  },
  {
   "cell_type": "code",
   "execution_count": 42,
   "metadata": {
    "collapsed": true
   },
   "outputs": [],
   "source": [
    "students.sort()"
   ]
  },
  {
   "cell_type": "code",
   "execution_count": 43,
   "metadata": {},
   "outputs": [
    {
     "data": {
      "text/plain": [
       "[[21, 'Amita', 10],\n",
       " [22, 'Jane', 19],\n",
       " [32, 'John', 20],\n",
       " [44, 'Amit', 15],\n",
       " [77, 'Ram', 16]]"
      ]
     },
     "execution_count": 43,
     "metadata": {},
     "output_type": "execute_result"
    }
   ],
   "source": [
    "students"
   ]
  },
  {
   "cell_type": "markdown",
   "metadata": {},
   "source": [
    "The students are sorted by their roll nos.\n",
    "<br> Note that the lists would be sorted by the first element of the list inside it."
   ]
  },
  {
   "cell_type": "markdown",
   "metadata": {},
   "source": [
    "## List Comprehension\n",
    "\n",
    "Python has an advanced feature for lists called **List Comprehensions**. \n",
    "<br> It allows for quick construction of lists. \n",
    "<br> It performs element-wise operation.  \n",
    "It allows single line code for complex operations on lists.\n",
    "\n",
    "Here are a few examples!"
   ]
  },
  {
   "cell_type": "code",
   "execution_count": 44,
   "metadata": {},
   "outputs": [
    {
     "data": {
      "text/plain": [
       "[[21, 'Amita', 10],\n",
       " [22, 'Jane', 19],\n",
       " [32, 'John', 20],\n",
       " [44, 'Amit', 15],\n",
       " [77, 'Ram', 16]]"
      ]
     },
     "execution_count": 44,
     "metadata": {},
     "output_type": "execute_result"
    }
   ],
   "source": [
    "# Show nested list created above\n",
    "\n",
    "students"
   ]
  },
  {
   "cell_type": "code",
   "execution_count": 45,
   "metadata": {
    "collapsed": true
   },
   "outputs": [],
   "source": [
    "# Retrieve all the roll nos. from nested list\n",
    "\n",
    "roll_nos = [student[0] for student in students]"
   ]
  },
  {
   "cell_type": "code",
   "execution_count": 46,
   "metadata": {},
   "outputs": [
    {
     "data": {
      "text/plain": [
       "[21, 22, 32, 44, 77]"
      ]
     },
     "execution_count": 46,
     "metadata": {},
     "output_type": "execute_result"
    }
   ],
   "source": [
    "# Show roll nos.\n",
    "\n",
    "roll_nos"
   ]
  },
  {
   "cell_type": "code",
   "execution_count": 47,
   "metadata": {
    "collapsed": true
   },
   "outputs": [],
   "source": [
    "# Retrieve all the marks from nested list\n",
    "\n",
    "marks = [student[2] for student in students]"
   ]
  },
  {
   "cell_type": "code",
   "execution_count": 48,
   "metadata": {},
   "outputs": [
    {
     "data": {
      "text/plain": [
       "[10, 19, 20, 15, 16]"
      ]
     },
     "execution_count": 48,
     "metadata": {},
     "output_type": "execute_result"
    }
   ],
   "source": [
    "# Show marks\n",
    "\n",
    "marks"
   ]
  },
  {
   "cell_type": "markdown",
   "metadata": {},
   "source": [
    "Calculate the percentage marks of each student considering that each student marks are out of 20."
   ]
  },
  {
   "cell_type": "code",
   "execution_count": 49,
   "metadata": {
    "collapsed": true
   },
   "outputs": [],
   "source": [
    "# iterating through marks which is created above\n",
    "\n",
    "pct_marks = [(i/20)*100 for i in marks]"
   ]
  },
  {
   "cell_type": "code",
   "execution_count": 50,
   "metadata": {},
   "outputs": [
    {
     "data": {
      "text/plain": [
       "[50.0, 95.0, 100.0, 75.0, 80.0]"
      ]
     },
     "execution_count": 50,
     "metadata": {},
     "output_type": "execute_result"
    }
   ],
   "source": [
    "# Show\n",
    "\n",
    "pct_marks"
   ]
  },
  {
   "cell_type": "markdown",
   "metadata": {},
   "source": [
    "<font color=red>### INSTRUCTION TO DO</font>\n",
    "\n",
    "Try the above task for retrieving the roll nos. from students_groupA\n",
    "<br> Add new cells if required and practice"
   ]
  },
  {
   "cell_type": "code",
   "execution_count": null,
   "metadata": {
    "collapsed": true
   },
   "outputs": [],
   "source": []
  },
  {
   "cell_type": "markdown",
   "metadata": {},
   "source": [
    "# Tuples\n",
    "\n",
    "In Python tuples are very similar to lists, however, unlike lists they are immutable meaning they can not be changed. You would use tuples to represent things that shouldn't be changed, such as days of the week, or dates on a calendar.\n",
    "\n",
    "In this section, we will get a brief overview of the following:\n",
    "\n",
    "1. Constructing Tuples\n",
    "2. Indexing and Slicing\n",
    "3. Basic Tuple Methods\n",
    "4. Immutability\n",
    "5. When to Use Tuples?\n",
    "\n",
    "You'll have an idea of how to use tuples based on what you've learned about lists. There is a lot similarity between lists and tuples with the major distinction being that tuples are immutable.\n",
    "\n",
    "<font color=green>### Example</font>\n",
    "<br> Tuples are generally used for smaller groups of similar items, things like coordinate systems.\n",
    "\n",
    "Tuples are mostly used to store elements of different types, not necessarily this happens every time.\n",
    "\n",
    "When can tuples be used?\n",
    "<br> Tuples can be used when you don't want to the elements in the tuple to be changed.\n",
    "\n",
    "For reference:\n",
    "https://docs.python.org/3/library/stdtypes.html#sequence-types-list-tuple-range"
   ]
  },
  {
   "cell_type": "markdown",
   "metadata": {},
   "source": [
    "## Constructing Tuples\n",
    "\n",
    "The construction of a tuples uses () notation with elements separated by commas. For example:"
   ]
  },
  {
   "cell_type": "code",
   "execution_count": 51,
   "metadata": {
    "collapsed": true
   },
   "outputs": [],
   "source": [
    "# Lets create a homogeneous tuple\n",
    "\n",
    "t = (1,2,3)"
   ]
  },
  {
   "cell_type": "code",
   "execution_count": 52,
   "metadata": {},
   "outputs": [
    {
     "data": {
      "text/plain": [
       "(1, 2, 3)"
      ]
     },
     "execution_count": 52,
     "metadata": {},
     "output_type": "execute_result"
    }
   ],
   "source": [
    "# Show\n",
    "t"
   ]
  },
  {
   "cell_type": "code",
   "execution_count": 53,
   "metadata": {},
   "outputs": [
    {
     "data": {
      "text/plain": [
       "3"
      ]
     },
     "execution_count": 53,
     "metadata": {},
     "output_type": "execute_result"
    }
   ],
   "source": [
    "# You can check length just like a list\n",
    "len(t)"
   ]
  },
  {
   "cell_type": "code",
   "execution_count": 54,
   "metadata": {
    "collapsed": true
   },
   "outputs": [],
   "source": [
    "# Lets create a tuple of name, roll no. and marks for each student.\n",
    "# Let's make three tuples\n",
    "\n",
    "# Format is (name, roll no. , marks)\n",
    "student1 = (\"Jay\" , 19 ,20)\n",
    "student2 = (\"Khushi\", 21 , 18) \n",
    "student3 = (\"Luv\" , 22 , 17)\n",
    "\n",
    "students_groupA = [student1, student2, student3]"
   ]
  },
  {
   "cell_type": "code",
   "execution_count": 55,
   "metadata": {},
   "outputs": [
    {
     "data": {
      "text/plain": [
       "[('Jay', 19, 20), ('Khushi', 21, 18), ('Luv', 22, 17)]"
      ]
     },
     "execution_count": 55,
     "metadata": {},
     "output_type": "execute_result"
    }
   ],
   "source": [
    "# Show \n",
    "\n",
    "students_groupA"
   ]
  },
  {
   "cell_type": "markdown",
   "metadata": {},
   "source": [
    "In the above cell, students_groupA is a list, we did not convert it to tuple because new students can be added to a group thus flexibility is necessary. But a student's name, roll no. and marks will remain as it is forever. Thus we have kept them as a tuple."
   ]
  },
  {
   "cell_type": "markdown",
   "metadata": {},
   "source": [
    "<font color=red>### INSTRUCTION TO DO</font>\n",
    "\n",
    "Create 3 tuples for students with names Ajay, Arun, Aakash , roll nos. as 21,41,71 and marks as 20,15,19.\n",
    "Create a list students_groupB containing these 3 tuples.\n",
    "<br> Add new cells if required and practice"
   ]
  },
  {
   "cell_type": "code",
   "execution_count": null,
   "metadata": {
    "collapsed": true
   },
   "outputs": [],
   "source": []
  },
  {
   "cell_type": "markdown",
   "metadata": {},
   "source": [
    "## Indexing and Slicing in tuples\n",
    "\n",
    "Indexing and Slicing in tuples is exactly same as that in lists so we'll just quickly go over this section. "
   ]
  },
  {
   "cell_type": "code",
   "execution_count": 56,
   "metadata": {},
   "outputs": [
    {
     "data": {
      "text/plain": [
       "('Jay', 19, 20)"
      ]
     },
     "execution_count": 56,
     "metadata": {},
     "output_type": "execute_result"
    }
   ],
   "source": [
    "# Grab the details of first student.\n",
    "\n",
    "students_groupA[0]"
   ]
  },
  {
   "cell_type": "code",
   "execution_count": 57,
   "metadata": {},
   "outputs": [
    {
     "data": {
      "text/plain": [
       "'Khushi'"
      ]
     },
     "execution_count": 57,
     "metadata": {},
     "output_type": "execute_result"
    }
   ],
   "source": [
    "# Grab the name of the second student\n",
    "\n",
    "students_groupA[1][0]"
   ]
  },
  {
   "cell_type": "code",
   "execution_count": 58,
   "metadata": {},
   "outputs": [
    {
     "data": {
      "text/plain": [
       "[('Khushi', 21, 18), ('Luv', 22, 17)]"
      ]
     },
     "execution_count": 58,
     "metadata": {},
     "output_type": "execute_result"
    }
   ],
   "source": [
    "# Grab the details of all the students starting from second student\n",
    "\n",
    "students_groupA[1:]"
   ]
  },
  {
   "cell_type": "markdown",
   "metadata": {},
   "source": [
    "## Basic Tuple Methods\n",
    "\n",
    "Tuples have built-in methods, but not as many as lists do.\n",
    "<br> Because of immutability, there are very less operations that you can perform of tuples.\n",
    "<br> No need to remember the methods, just use Tab for suggestions\n",
    "<br> Lets look at two of them:"
   ]
  },
  {
   "cell_type": "markdown",
   "metadata": {},
   "source": [
    "### Index method"
   ]
  },
  {
   "cell_type": "code",
   "execution_count": 59,
   "metadata": {},
   "outputs": [
    {
     "data": {
      "text/plain": [
       "1"
      ]
     },
     "execution_count": 59,
     "metadata": {},
     "output_type": "execute_result"
    }
   ],
   "source": [
    "# Grab the index with value ('Khushi', 21, 18)\n",
    "\n",
    "students_groupA.index(('Khushi', 21, 18))"
   ]
  },
  {
   "cell_type": "markdown",
   "metadata": {},
   "source": [
    "### Count method"
   ]
  },
  {
   "cell_type": "code",
   "execution_count": 60,
   "metadata": {},
   "outputs": [
    {
     "data": {
      "text/plain": [
       "1"
      ]
     },
     "execution_count": 60,
     "metadata": {},
     "output_type": "execute_result"
    }
   ],
   "source": [
    "# This method to count the number of times a value appears\n",
    "\n",
    "students_groupA.count(('Khushi', 21, 18))"
   ]
  },
  {
   "cell_type": "markdown",
   "metadata": {},
   "source": [
    "<font color=red>### INSTRUCTION TO DO</font>\n",
    "\n",
    "On the students_groupB you have created above apply a few methods to just brush up your skills.\n",
    "<br> Add new cells if required and practice"
   ]
  },
  {
   "cell_type": "code",
   "execution_count": null,
   "metadata": {
    "collapsed": true
   },
   "outputs": [],
   "source": []
  },
  {
   "cell_type": "markdown",
   "metadata": {},
   "source": [
    "## Immutability\n",
    "It can't be stressed enough that tuples are immutable. To drive that point home:"
   ]
  },
  {
   "cell_type": "markdown",
   "metadata": {},
   "source": [
    "Change the name of the first student"
   ]
  },
  {
   "cell_type": "code",
   "execution_count": 61,
   "metadata": {},
   "outputs": [
    {
     "data": {
      "text/plain": [
       "'Jay'"
      ]
     },
     "execution_count": 61,
     "metadata": {},
     "output_type": "execute_result"
    }
   ],
   "source": [
    "# Show the name of the first student\n",
    "\n",
    "students_groupA[0][0]"
   ]
  },
  {
   "cell_type": "code",
   "execution_count": 62,
   "metadata": {},
   "outputs": [
    {
     "ename": "TypeError",
     "evalue": "'tuple' object does not support item assignment",
     "output_type": "error",
     "traceback": [
      "\u001b[1;31m---------------------------------------------------------------------------\u001b[0m",
      "\u001b[1;31mTypeError\u001b[0m                                 Traceback (most recent call last)",
      "\u001b[1;32m<ipython-input-62-823f1732679d>\u001b[0m in \u001b[0;36m<module>\u001b[1;34m()\u001b[0m\n\u001b[1;32m----> 1\u001b[1;33m \u001b[0mstudents_groupA\u001b[0m\u001b[1;33m[\u001b[0m\u001b[1;36m0\u001b[0m\u001b[1;33m]\u001b[0m\u001b[1;33m[\u001b[0m\u001b[1;36m0\u001b[0m\u001b[1;33m]\u001b[0m \u001b[1;33m=\u001b[0m \u001b[1;34m'new name'\u001b[0m\u001b[1;33m\u001b[0m\u001b[0m\n\u001b[0m",
      "\u001b[1;31mTypeError\u001b[0m: 'tuple' object does not support item assignment"
     ]
    }
   ],
   "source": [
    "students_groupA[0][0] = 'new name'"
   ]
  },
  {
   "cell_type": "markdown",
   "metadata": {},
   "source": [
    "Because of this immutability, tuples size is fixed. Once a tuple is created we can not add to it.\n",
    "\n",
    "Add another subject marks to the first student."
   ]
  },
  {
   "cell_type": "code",
   "execution_count": 63,
   "metadata": {},
   "outputs": [
    {
     "ename": "AttributeError",
     "evalue": "'str' object has no attribute 'append'",
     "output_type": "error",
     "traceback": [
      "\u001b[1;31m---------------------------------------------------------------------------\u001b[0m",
      "\u001b[1;31mAttributeError\u001b[0m                            Traceback (most recent call last)",
      "\u001b[1;32m<ipython-input-63-571ebe2672a7>\u001b[0m in \u001b[0;36m<module>\u001b[1;34m()\u001b[0m\n\u001b[1;32m----> 1\u001b[1;33m \u001b[0mstudents_groupA\u001b[0m\u001b[1;33m[\u001b[0m\u001b[1;36m0\u001b[0m\u001b[1;33m]\u001b[0m\u001b[1;33m[\u001b[0m\u001b[1;36m0\u001b[0m\u001b[1;33m]\u001b[0m\u001b[1;33m.\u001b[0m\u001b[0mappend\u001b[0m\u001b[1;33m(\u001b[0m\u001b[1;34m\"sorry can't add\"\u001b[0m\u001b[1;33m)\u001b[0m\u001b[1;33m\u001b[0m\u001b[0m\n\u001b[0m",
      "\u001b[1;31mAttributeError\u001b[0m: 'str' object has no attribute 'append'"
     ]
    }
   ],
   "source": [
    "students_groupA[0][0].append(\"sorry can't add\")"
   ]
  },
  {
   "cell_type": "markdown",
   "metadata": {},
   "source": [
    "## When to use Tuples ?¶\n",
    "You may be wondering, \"Why bother using tuples when they have fewer available methods?\" To be honest, tuples are not used as often as lists in programming, but are used when immutability is necessary.\n",
    "<br>If in your program you are passing around an object and need to make sure it does not get altered or changed, then tuple is your companion. It helps in maintaining data integrity.\n",
    "\n",
    "You should now be able to create and use tuples in your programming as well as have an understanding of their immutability."
   ]
  },
  {
   "cell_type": "markdown",
   "metadata": {},
   "source": [
    "# Dictionaries\n",
    "\n",
    "We've been learning about sequences in Python but now we're going to switch gears and learn about mappings in Python. \n",
    "<br>If you're familiar with other programming languages, you can think of these Dictionaries as hash tables.\n",
    "<br> If Python is your first programming language, you can relate it to the index at the back of the books.\n",
    "\n",
    "This section will serve as a brief introduction to dictionaries and consist of:\n",
    "\n",
    "1. Constructing a Dictionary\n",
    "2. Accessing objects from a dictionary\n",
    "3. Nested Dictionaries\n",
    "4. Basic Dictionary Methods\n",
    "\n",
    "So what are mappings? Mappings are a collection of objects that are stored by a key, unlike a sequence that stored objects by their relative position. This is an important distinction, since mappings won't retain order since they have objects defined by a key.\n",
    "\n",
    "You can consider the other iterables such as lists and tuples to be dictionaries with indexes as their keys but in iterables we can change the order and thus the key-value combination changes.\n",
    "\n",
    "A Python dictionary consists of a key and then an associated value. That value can be almost any Python object.\n",
    "\n",
    "<font color=green>### Example</font>\n",
    "<br> In a class of 25 students, each student has a name, roll number and marks. To store these three values we can create a dictionary containing these three attributes and then we can create a list of 25 such dictionaries. \n",
    "\n",
    "When can dictionaries be used?\n",
    "<br> List is like a dictionary with keys as 0,1,2,.... uptil its length while dictionary has user defined key-value pairs.\n",
    "<br> Dictionaries can be useful when you want to create your own keys and their corresponding values.\n",
    "\n",
    "For reference : \n",
    "https://docs.python.org/3/library/stdtypes.html#mapping-types-dict"
   ]
  },
  {
   "cell_type": "markdown",
   "metadata": {},
   "source": [
    "## Constructing a Dictionary\n",
    "\n",
    "A dictionary can be created with {} and : to signify a key and a value\n",
    "<br>Let's see how we can construct dictionaries to get a better understanding of how they function!"
   ]
  },
  {
   "cell_type": "code",
   "execution_count": 64,
   "metadata": {
    "collapsed": true
   },
   "outputs": [],
   "source": [
    "# Create a dictionary\n",
    "\n",
    "student = {'name':'John','roll no':'25'}"
   ]
  },
  {
   "cell_type": "code",
   "execution_count": 65,
   "metadata": {},
   "outputs": [
    {
     "data": {
      "text/plain": [
       "{'name': 'John', 'roll no': '25'}"
      ]
     },
     "execution_count": 65,
     "metadata": {},
     "output_type": "execute_result"
    }
   ],
   "source": [
    "# Show\n",
    "\n",
    "student"
   ]
  },
  {
   "cell_type": "markdown",
   "metadata": {},
   "source": [
    "<font color=red>### INSTRUCTION TO DO</font>\n",
    "\n",
    "Create a dictionary with key : \"English\", value : \"Hi\" and another key: \"Hindi\", value : \"Namaste\".\n",
    "<br> Name it as greeting\n",
    "<br> Add new cells if required and practice"
   ]
  },
  {
   "cell_type": "code",
   "execution_count": null,
   "metadata": {
    "collapsed": true
   },
   "outputs": [],
   "source": []
  },
  {
   "cell_type": "markdown",
   "metadata": {},
   "source": [
    "## Accessing objects from a dictionary"
   ]
  },
  {
   "cell_type": "code",
   "execution_count": 66,
   "metadata": {},
   "outputs": [
    {
     "data": {
      "text/plain": [
       "'25'"
      ]
     },
     "execution_count": 66,
     "metadata": {},
     "output_type": "execute_result"
    }
   ],
   "source": [
    "# Access values by their key here, value is value2 and key is key2\n",
    "\n",
    "student['roll no']"
   ]
  },
  {
   "cell_type": "code",
   "execution_count": 67,
   "metadata": {},
   "outputs": [
    {
     "data": {
      "text/plain": [
       "'John'"
      ]
     },
     "execution_count": 67,
     "metadata": {},
     "output_type": "execute_result"
    }
   ],
   "source": [
    "# Access values by their key here, value is value1 and key is key1\n",
    "\n",
    "student['name']"
   ]
  },
  {
   "cell_type": "markdown",
   "metadata": {},
   "source": [
    "<font color=red>### INSTRUCTION TO DO</font>\n",
    "\n",
    "Try accessing the values of the greeting.\n",
    "<br> Add new cells if required and practice"
   ]
  },
  {
   "cell_type": "code",
   "execution_count": null,
   "metadata": {
    "collapsed": true
   },
   "outputs": [],
   "source": []
  },
  {
   "cell_type": "markdown",
   "metadata": {},
   "source": [
    "Its important to note that dictionaries are very flexible in the data types they can hold just like lists and tuples. For example:"
   ]
  },
  {
   "cell_type": "code",
   "execution_count": 68,
   "metadata": {
    "collapsed": true
   },
   "outputs": [],
   "source": [
    "student = {'name':'John','roll no':22,'marks':[25,26,27]}"
   ]
  },
  {
   "cell_type": "code",
   "execution_count": 69,
   "metadata": {},
   "outputs": [
    {
     "data": {
      "text/plain": [
       "22"
      ]
     },
     "execution_count": 69,
     "metadata": {},
     "output_type": "execute_result"
    }
   ],
   "source": [
    "#Lets call items from the dictionary\n",
    "student['roll no']"
   ]
  },
  {
   "cell_type": "markdown",
   "metadata": {},
   "source": [
    "Just like we did in nested lists, we will try to access the elements further in the values returned by dictionary until there is no scope left.\n",
    "<br> For example:"
   ]
  },
  {
   "cell_type": "code",
   "execution_count": 70,
   "metadata": {},
   "outputs": [
    {
     "data": {
      "text/plain": [
       "[25, 26, 27]"
      ]
     },
     "execution_count": 70,
     "metadata": {},
     "output_type": "execute_result"
    }
   ],
   "source": [
    "student['marks']"
   ]
  },
  {
   "cell_type": "markdown",
   "metadata": {},
   "source": [
    "There is still scope for accessing further"
   ]
  },
  {
   "cell_type": "code",
   "execution_count": 71,
   "metadata": {},
   "outputs": [
    {
     "data": {
      "text/plain": [
       "25"
      ]
     },
     "execution_count": 71,
     "metadata": {},
     "output_type": "execute_result"
    }
   ],
   "source": [
    "student['marks'][0]"
   ]
  },
  {
   "cell_type": "markdown",
   "metadata": {},
   "source": [
    "<font color=red>### INSTRUCTION TO DO</font>\n",
    "\n",
    "Try the above task for retrieving 27 which is present in the value of 'marks'\n",
    "<br> Add new cells if required and practice"
   ]
  },
  {
   "cell_type": "code",
   "execution_count": null,
   "metadata": {
    "collapsed": true
   },
   "outputs": [],
   "source": []
  },
  {
   "cell_type": "code",
   "execution_count": 72,
   "metadata": {},
   "outputs": [
    {
     "data": {
      "text/plain": [
       "'JOHN'"
      ]
     },
     "execution_count": 72,
     "metadata": {},
     "output_type": "execute_result"
    }
   ],
   "source": [
    "# You can even call methods on that retrieved value\n",
    "\n",
    "student['name'].upper()"
   ]
  },
  {
   "cell_type": "code",
   "execution_count": 73,
   "metadata": {},
   "outputs": [
    {
     "data": {
      "text/plain": [
       "False"
      ]
     },
     "execution_count": 73,
     "metadata": {},
     "output_type": "execute_result"
    }
   ],
   "source": [
    "t = student['name']\n",
    "\n",
    "t.isnumeric() # Checking if the string is aplhanumeric"
   ]
  },
  {
   "cell_type": "markdown",
   "metadata": {},
   "source": [
    "<font color=orange>### IMPORTANT NOTE </font>\n",
    "<br> As we had applied the string methods on the retrieved value because it was a string.\n",
    "<br> Whatever maybe the retrieved value all its methods are applicable to it."
   ]
  },
  {
   "cell_type": "markdown",
   "metadata": {},
   "source": [
    " In a similar way, these operations can be applied to numbers too.\n",
    " Lets see:"
   ]
  },
  {
   "cell_type": "code",
   "execution_count": 74,
   "metadata": {},
   "outputs": [
    {
     "data": {
      "text/plain": [
       "22"
      ]
     },
     "execution_count": 74,
     "metadata": {},
     "output_type": "execute_result"
    }
   ],
   "source": [
    "student['roll no']"
   ]
  },
  {
   "cell_type": "code",
   "execution_count": 75,
   "metadata": {
    "collapsed": true
   },
   "outputs": [],
   "source": [
    "# Subtract 5 from the marks of subject 1\n",
    "\n",
    "student['marks'][0] = student['marks'][0] - 5"
   ]
  },
  {
   "cell_type": "code",
   "execution_count": 76,
   "metadata": {},
   "outputs": [
    {
     "data": {
      "text/plain": [
       "[20, 26, 27]"
      ]
     },
     "execution_count": 76,
     "metadata": {},
     "output_type": "execute_result"
    }
   ],
   "source": [
    "# Show\n",
    "\n",
    "student['marks']"
   ]
  },
  {
   "cell_type": "markdown",
   "metadata": {},
   "source": [
    "# Sets\n",
    "\n",
    "A set object is an unordered collection of distinct hashable objects.\n",
    "<br>An object is hashable if it has a hash value which never changes during its lifetime. A hash value is a numeric value of a fixed length that uniquely identifies data.\n",
    "<br>Same data cannot have different hash value and different data cannot have same hash value.\n",
    "<br>For reference : https://docs.python.org/3/library/stdtypes.html#set\n",
    "\n",
    "<font color=green>### Example</font>\n",
    "<br> There are many cases when the elements are repeated and such kind of duplicate entries need to be removed.\n",
    "<br> At that time, sets prove to be a useful tool.\n",
    "\n",
    "When can sets be used?\n",
    "<br> Sets can be used when you want to create a list but with unique elements.\n",
    "\n",
    "Frozenset is a new class that has the characteristics of a set, but its elements cannot be changed once assigned. While tuples are immutable lists, frozensets are immutable sets. (https://docs.python.org/3/library/stdtypes.html#frozenset)\n",
    "\n",
    "Let's go ahead and make a set to see how it works."
   ]
  },
  {
   "cell_type": "code",
   "execution_count": 77,
   "metadata": {
    "collapsed": true
   },
   "outputs": [],
   "source": [
    "# create set\n",
    "\n",
    "m = {\"Welcome\", 2 ,\"this course\"}"
   ]
  },
  {
   "cell_type": "code",
   "execution_count": 78,
   "metadata": {},
   "outputs": [
    {
     "data": {
      "text/plain": [
       "{'this course', 2, 'Welcome'}"
      ]
     },
     "execution_count": 78,
     "metadata": {},
     "output_type": "execute_result"
    }
   ],
   "source": [
    "# show\n",
    "\n",
    "m"
   ]
  },
  {
   "cell_type": "markdown",
   "metadata": {},
   "source": [
    "Initially when we created student_roll_nos it was better to create a set because roll no. of each and every student is unique."
   ]
  },
  {
   "cell_type": "code",
   "execution_count": 79,
   "metadata": {
    "collapsed": true
   },
   "outputs": [],
   "source": [
    "student_roll_nos = set(student_roll_nos)"
   ]
  },
  {
   "cell_type": "markdown",
   "metadata": {},
   "source": [
    "Type casting a list to a set."
   ]
  },
  {
   "cell_type": "code",
   "execution_count": 80,
   "metadata": {},
   "outputs": [
    {
     "data": {
      "text/plain": [
       "{21, 22, 32, 44, 77}"
      ]
     },
     "execution_count": 80,
     "metadata": {},
     "output_type": "execute_result"
    }
   ],
   "source": [
    "#Show\n",
    "\n",
    "student_roll_nos"
   ]
  },
  {
   "cell_type": "markdown",
   "metadata": {},
   "source": [
    "We know that a set has only unique entries. So what happens when we try to add something that is already in a set?\n",
    "\n",
    "A new student has joined with roll no. 77 \n",
    "<br> Oops! Already roll no. 77  is assigned to another student."
   ]
  },
  {
   "cell_type": "code",
   "execution_count": 81,
   "metadata": {
    "collapsed": true
   },
   "outputs": [],
   "source": [
    "student_roll_nos.add(77)"
   ]
  },
  {
   "cell_type": "code",
   "execution_count": 82,
   "metadata": {},
   "outputs": [
    {
     "data": {
      "text/plain": [
       "{21, 22, 32, 44, 77}"
      ]
     },
     "execution_count": 82,
     "metadata": {},
     "output_type": "execute_result"
    }
   ],
   "source": [
    "#Show\n",
    "\n",
    "student_roll_nos"
   ]
  },
  {
   "cell_type": "markdown",
   "metadata": {},
   "source": [
    "We can see that there is no effect on the student_roll_nos. Thus uniqueness is ensured."
   ]
  },
  {
   "cell_type": "markdown",
   "metadata": {},
   "source": [
    "**Note the curly brackets. This does not indicate a dictionary!** Although you can draw analogies as a set being a dictionary with only keys."
   ]
  },
  {
   "cell_type": "code",
   "execution_count": 83,
   "metadata": {},
   "outputs": [
    {
     "data": {
      "text/plain": [
       "dict"
      ]
     },
     "execution_count": 83,
     "metadata": {},
     "output_type": "execute_result"
    }
   ],
   "source": [
    "# What is the type of this?\n",
    "\n",
    "s = {}\n",
    "\n",
    "type(s)"
   ]
  },
  {
   "cell_type": "markdown",
   "metadata": {},
   "source": [
    "<font color=orange>### IMPORTANT NOTE </font>\n",
    "<br>Empty curly braces denote an empty dictionary and not a set"
   ]
  },
  {
   "cell_type": "code",
   "execution_count": 84,
   "metadata": {
    "collapsed": true
   },
   "outputs": [],
   "source": [
    "# Create a list with repeated elements\n",
    "\n",
    "l = [1,1,2,2,3,4,4,5]"
   ]
  },
  {
   "cell_type": "code",
   "execution_count": 85,
   "metadata": {},
   "outputs": [
    {
     "data": {
      "text/plain": [
       "{1, 2, 3, 4, 5}"
      ]
     },
     "execution_count": 85,
     "metadata": {},
     "output_type": "execute_result"
    }
   ],
   "source": [
    "# Convert list to set to get unique values\n",
    "\n",
    "set(l)"
   ]
  },
  {
   "cell_type": "markdown",
   "metadata": {},
   "source": [
    "Here you can see that all the duplicates from the list are eliminated."
   ]
  },
  {
   "cell_type": "markdown",
   "metadata": {},
   "source": [
    "## Indexing and Slicing \n",
    "\n",
    "Indexing and Slicing is not supported in sets."
   ]
  },
  {
   "cell_type": "markdown",
   "metadata": {
    "collapsed": true
   },
   "source": [
    "## Set methods "
   ]
  },
  {
   "cell_type": "markdown",
   "metadata": {},
   "source": [
    "### add()\n",
    "\n",
    "As you have seen above add method is used to add single element to a set. "
   ]
  },
  {
   "cell_type": "code",
   "execution_count": 86,
   "metadata": {
    "collapsed": true
   },
   "outputs": [],
   "source": [
    "x = set()"
   ]
  },
  {
   "cell_type": "markdown",
   "metadata": {},
   "source": [
    "Adding elements to a set"
   ]
  },
  {
   "cell_type": "code",
   "execution_count": 87,
   "metadata": {
    "collapsed": true
   },
   "outputs": [],
   "source": [
    "# Adding 1\n",
    "\n",
    "x.add(1)"
   ]
  },
  {
   "cell_type": "code",
   "execution_count": 88,
   "metadata": {
    "collapsed": true
   },
   "outputs": [],
   "source": [
    "# Adding 2\n",
    "\n",
    "x.add(2)"
   ]
  },
  {
   "cell_type": "code",
   "execution_count": 89,
   "metadata": {},
   "outputs": [
    {
     "data": {
      "text/plain": [
       "{1, 2}"
      ]
     },
     "execution_count": 89,
     "metadata": {},
     "output_type": "execute_result"
    }
   ],
   "source": [
    "#Show\n",
    "\n",
    "x"
   ]
  },
  {
   "cell_type": "code",
   "execution_count": 90,
   "metadata": {
    "collapsed": true
   },
   "outputs": [],
   "source": [
    "# Try to add 1 again\n",
    "\n",
    "x.add(1)"
   ]
  },
  {
   "cell_type": "code",
   "execution_count": 91,
   "metadata": {},
   "outputs": [
    {
     "data": {
      "text/plain": [
       "{1, 2}"
      ]
     },
     "execution_count": 91,
     "metadata": {},
     "output_type": "execute_result"
    }
   ],
   "source": [
    "#Show\n",
    "\n",
    "x"
   ]
  },
  {
   "cell_type": "markdown",
   "metadata": {},
   "source": [
    "We can see that there is no effect on the set when 1 was added again."
   ]
  },
  {
   "cell_type": "markdown",
   "metadata": {},
   "source": [
    "### update()"
   ]
  },
  {
   "cell_type": "markdown",
   "metadata": {},
   "source": [
    "Update method can be used to add to add multiple elements to a set."
   ]
  },
  {
   "cell_type": "code",
   "execution_count": 92,
   "metadata": {
    "collapsed": true
   },
   "outputs": [],
   "source": [
    "# Passing list as a parameter\n",
    "\n",
    "x.update([4,5,6])"
   ]
  },
  {
   "cell_type": "code",
   "execution_count": 93,
   "metadata": {},
   "outputs": [
    {
     "data": {
      "text/plain": [
       "{1, 2, 4, 5, 6}"
      ]
     },
     "execution_count": 93,
     "metadata": {},
     "output_type": "execute_result"
    }
   ],
   "source": [
    "#Show\n",
    "\n",
    "x"
   ]
  },
  {
   "cell_type": "code",
   "execution_count": 94,
   "metadata": {
    "collapsed": true
   },
   "outputs": [],
   "source": [
    "# Passing tuple as a parameter\n",
    "\n",
    "x.update((7,8,9))"
   ]
  },
  {
   "cell_type": "code",
   "execution_count": 95,
   "metadata": {},
   "outputs": [
    {
     "data": {
      "text/plain": [
       "{1, 2, 4, 5, 6, 7, 8, 9}"
      ]
     },
     "execution_count": 95,
     "metadata": {},
     "output_type": "execute_result"
    }
   ],
   "source": [
    "#Show\n",
    "\n",
    "x"
   ]
  },
  {
   "cell_type": "code",
   "execution_count": 96,
   "metadata": {
    "collapsed": true
   },
   "outputs": [],
   "source": [
    "# Passing set as a parameter\n",
    "\n",
    "x.update({10,11})"
   ]
  },
  {
   "cell_type": "code",
   "execution_count": 97,
   "metadata": {},
   "outputs": [
    {
     "data": {
      "text/plain": [
       "{1, 2, 4, 5, 6, 7, 8, 9, 10, 11}"
      ]
     },
     "execution_count": 97,
     "metadata": {},
     "output_type": "execute_result"
    }
   ],
   "source": [
    "#Show\n",
    "\n",
    "x"
   ]
  },
  {
   "cell_type": "code",
   "execution_count": 98,
   "metadata": {
    "collapsed": true
   },
   "outputs": [],
   "source": [
    "# Passing parameters from multiple datatypes \n",
    "\n",
    "x.update([\"list\"],{\"set\"},(20,21), {\"key\" : \"value\"})"
   ]
  },
  {
   "cell_type": "code",
   "execution_count": 99,
   "metadata": {},
   "outputs": [
    {
     "data": {
      "text/plain": [
       "{1, 2, 'key', 4, 5, 6, 7, 8, 9, 10, 11, 'set', 'list', 20, 21}"
      ]
     },
     "execution_count": 99,
     "metadata": {},
     "output_type": "execute_result"
    }
   ],
   "source": [
    "#Show\n",
    "\n",
    "x"
   ]
  },
  {
   "cell_type": "markdown",
   "metadata": {},
   "source": [
    "What is happening here is the update method breaks each iterable element by element and then each element is added to the set?"
   ]
  },
  {
   "cell_type": "markdown",
   "metadata": {},
   "source": [
    "Lets see what happens with strings."
   ]
  },
  {
   "cell_type": "code",
   "execution_count": 100,
   "metadata": {
    "collapsed": true
   },
   "outputs": [],
   "source": [
    "s = set()"
   ]
  },
  {
   "cell_type": "code",
   "execution_count": 101,
   "metadata": {
    "collapsed": true
   },
   "outputs": [],
   "source": [
    "# Passing string as a parameter\n",
    "\n",
    "s.update(\"string\")"
   ]
  },
  {
   "cell_type": "code",
   "execution_count": 102,
   "metadata": {
    "scrolled": true
   },
   "outputs": [
    {
     "data": {
      "text/plain": [
       "{'g', 'i', 'n', 'r', 's', 't'}"
      ]
     },
     "execution_count": 102,
     "metadata": {},
     "output_type": "execute_result"
    }
   ],
   "source": [
    "#Show\n",
    "\n",
    "s"
   ]
  },
  {
   "cell_type": "markdown",
   "metadata": {},
   "source": [
    "String is broken into characters and arranged in alphabetical order."
   ]
  },
  {
   "cell_type": "markdown",
   "metadata": {},
   "source": [
    "### discard()\n",
    "\n",
    "This method will discard an element from a set and it will not raise an exception if the element is not present in the set, the set will remain unchanged.\n",
    "\n",
    "Lets see how this works."
   ]
  },
  {
   "cell_type": "code",
   "execution_count": 103,
   "metadata": {
    "collapsed": true
   },
   "outputs": [],
   "source": [
    "s = {\"Welcome\", 2 ,\"this chapter\", \"my friend\"}"
   ]
  },
  {
   "cell_type": "code",
   "execution_count": 104,
   "metadata": {
    "collapsed": true
   },
   "outputs": [],
   "source": [
    "s.discard(\"my friend\")"
   ]
  },
  {
   "cell_type": "code",
   "execution_count": 105,
   "metadata": {},
   "outputs": [
    {
     "data": {
      "text/plain": [
       "{2, 'Welcome', 'this chapter'}"
      ]
     },
     "execution_count": 105,
     "metadata": {},
     "output_type": "execute_result"
    }
   ],
   "source": [
    "# Show\n",
    "\n",
    "s"
   ]
  },
  {
   "cell_type": "code",
   "execution_count": 106,
   "metadata": {
    "collapsed": true
   },
   "outputs": [],
   "source": [
    "s.discard(\"enemy\")"
   ]
  },
  {
   "cell_type": "code",
   "execution_count": 107,
   "metadata": {},
   "outputs": [
    {
     "data": {
      "text/plain": [
       "{2, 'Welcome', 'this chapter'}"
      ]
     },
     "execution_count": 107,
     "metadata": {},
     "output_type": "execute_result"
    }
   ],
   "source": [
    "# Show\n",
    "\n",
    "s"
   ]
  },
  {
   "cell_type": "markdown",
   "metadata": {},
   "source": [
    "As you can see there was no exception raised even though the given string was not present in the set."
   ]
  },
  {
   "cell_type": "markdown",
   "metadata": {},
   "source": [
    "### remove()\n",
    "\n",
    "This method will remove an element from the set and it will raise an exception if the element is not present in the set, the set will remain unchanged.\n",
    "\n",
    "Lets see how this works."
   ]
  },
  {
   "cell_type": "code",
   "execution_count": 108,
   "metadata": {
    "collapsed": true
   },
   "outputs": [],
   "source": [
    "s = {\"Welcome\", 2 ,\"this chapter\", \"my friend\"}"
   ]
  },
  {
   "cell_type": "code",
   "execution_count": 109,
   "metadata": {
    "collapsed": true
   },
   "outputs": [],
   "source": [
    "s.remove(\"my friend\")"
   ]
  },
  {
   "cell_type": "code",
   "execution_count": 110,
   "metadata": {},
   "outputs": [
    {
     "data": {
      "text/plain": [
       "{2, 'Welcome', 'this chapter'}"
      ]
     },
     "execution_count": 110,
     "metadata": {},
     "output_type": "execute_result"
    }
   ],
   "source": [
    "# Show\n",
    "\n",
    "s"
   ]
  },
  {
   "cell_type": "code",
   "execution_count": 111,
   "metadata": {},
   "outputs": [
    {
     "ename": "KeyError",
     "evalue": "'enemy'",
     "output_type": "error",
     "traceback": [
      "\u001b[1;31m---------------------------------------------------------------------------\u001b[0m",
      "\u001b[1;31mKeyError\u001b[0m                                  Traceback (most recent call last)",
      "\u001b[1;32m<ipython-input-111-ad92dab4eb4b>\u001b[0m in \u001b[0;36m<module>\u001b[1;34m()\u001b[0m\n\u001b[1;32m----> 1\u001b[1;33m \u001b[0ms\u001b[0m\u001b[1;33m.\u001b[0m\u001b[0mremove\u001b[0m\u001b[1;33m(\u001b[0m\u001b[1;34m\"enemy\"\u001b[0m\u001b[1;33m)\u001b[0m\u001b[1;33m\u001b[0m\u001b[0m\n\u001b[0m",
      "\u001b[1;31mKeyError\u001b[0m: 'enemy'"
     ]
    }
   ],
   "source": [
    "s.remove(\"enemy\")"
   ]
  },
  {
   "cell_type": "markdown",
   "metadata": {},
   "source": [
    "As you can see there was an exception raised because given string was not present in the set."
   ]
  },
  {
   "cell_type": "markdown",
   "metadata": {},
   "source": [
    "## Set operations\n",
    "\n",
    "Sets support various mathematical operations such as union, intersection, difference and symmetric difference. We can do this with operators or methods.\n"
   ]
  },
  {
   "cell_type": "code",
   "execution_count": 112,
   "metadata": {
    "collapsed": true
   },
   "outputs": [],
   "source": [
    "student_names_groupA  = {\"John\" ,\"Jane\", \"Amita\", \"Amit\", \"Ram\",\"Gautam\"}\n",
    "student_roll_nos_groupA  = {11,22,32,44,77,14}\n",
    "student_marks_groupA  = {20,19,11,15,16,18}\n",
    "\n",
    "student_names_groupB = {'Jaya','Sagar','Simran','Aditya','Gautam'}\n",
    "student_roll_nos_groupB = {1,4,7,8,9,14}\n",
    "student_marks_groupB = {20,11,14,17,18}"
   ]
  },
  {
   "cell_type": "markdown",
   "metadata": {},
   "source": [
    "### Union\n",
    "\n",
    "When a union of two sets is performed, all the elements of both sets are brought in a single set.\n",
    "<br>Union can be performed with the help of pipe(|)(This symbol is present above your Enter key on the keyboard) or the union() method. "
   ]
  },
  {
   "cell_type": "code",
   "execution_count": 113,
   "metadata": {},
   "outputs": [
    {
     "data": {
      "text/plain": [
       "{'Aditya',\n",
       " 'Amit',\n",
       " 'Amita',\n",
       " 'Gautam',\n",
       " 'Jane',\n",
       " 'Jaya',\n",
       " 'John',\n",
       " 'Ram',\n",
       " 'Sagar',\n",
       " 'Simran'}"
      ]
     },
     "execution_count": 113,
     "metadata": {},
     "output_type": "execute_result"
    }
   ],
   "source": [
    "student_names_groupA | student_names_groupB"
   ]
  },
  {
   "cell_type": "code",
   "execution_count": 114,
   "metadata": {},
   "outputs": [
    {
     "data": {
      "text/plain": [
       "{'Aditya',\n",
       " 'Amit',\n",
       " 'Amita',\n",
       " 'Gautam',\n",
       " 'Jane',\n",
       " 'Jaya',\n",
       " 'John',\n",
       " 'Ram',\n",
       " 'Sagar',\n",
       " 'Simran'}"
      ]
     },
     "execution_count": 114,
     "metadata": {},
     "output_type": "execute_result"
    }
   ],
   "source": [
    "student_names_groupA.union(student_names_groupB)"
   ]
  },
  {
   "cell_type": "markdown",
   "metadata": {},
   "source": [
    "### Intersection\n",
    "\n",
    "When an intersection of two sets is performed, the elements that are common in both sets are brought in a single set.\n",
    "<br>Intersection can be performed with the help of ampersand(&) or the intersection() method. "
   ]
  },
  {
   "cell_type": "code",
   "execution_count": 115,
   "metadata": {},
   "outputs": [
    {
     "data": {
      "text/plain": [
       "{'Gautam'}"
      ]
     },
     "execution_count": 115,
     "metadata": {},
     "output_type": "execute_result"
    }
   ],
   "source": [
    "student_names_groupA & student_names_groupB"
   ]
  },
  {
   "cell_type": "code",
   "execution_count": 116,
   "metadata": {},
   "outputs": [
    {
     "data": {
      "text/plain": [
       "{'Gautam'}"
      ]
     },
     "execution_count": 116,
     "metadata": {},
     "output_type": "execute_result"
    }
   ],
   "source": [
    "student_names_groupA.intersection(student_names_groupB)"
   ]
  },
  {
   "cell_type": "markdown",
   "metadata": {},
   "source": [
    "### Set difference\n",
    "\n",
    "When a set is subtracted from another set, the elements that are present in first set but are not present in second set are returned in a set.\n",
    "<br>Set difference can be performed with the help of minus(-) or the difference() method. "
   ]
  },
  {
   "cell_type": "code",
   "execution_count": 117,
   "metadata": {},
   "outputs": [
    {
     "data": {
      "text/plain": [
       "{'Amit', 'Amita', 'Jane', 'John', 'Ram'}"
      ]
     },
     "execution_count": 117,
     "metadata": {},
     "output_type": "execute_result"
    }
   ],
   "source": [
    "student_names_groupA - student_names_groupB"
   ]
  },
  {
   "cell_type": "code",
   "execution_count": 118,
   "metadata": {},
   "outputs": [
    {
     "data": {
      "text/plain": [
       "{'Amit', 'Amita', 'Jane', 'John', 'Ram'}"
      ]
     },
     "execution_count": 118,
     "metadata": {},
     "output_type": "execute_result"
    }
   ],
   "source": [
    "student_names_groupA.difference(student_names_groupB)"
   ]
  },
  {
   "cell_type": "markdown",
   "metadata": {},
   "source": [
    "### Set symmetric difference\n",
    "\n",
    "This method returns all the elements in both sets except the ones that are common in both.\n",
    "<br>Set symmetric difference can be performed with the help of caret(^) or the symmetric_difference() method. "
   ]
  },
  {
   "cell_type": "code",
   "execution_count": 119,
   "metadata": {},
   "outputs": [
    {
     "data": {
      "text/plain": [
       "{'Aditya', 'Amit', 'Amita', 'Jane', 'Jaya', 'John', 'Ram', 'Sagar', 'Simran'}"
      ]
     },
     "execution_count": 119,
     "metadata": {},
     "output_type": "execute_result"
    }
   ],
   "source": [
    "student_names_groupA ^ student_names_groupB"
   ]
  },
  {
   "cell_type": "code",
   "execution_count": 120,
   "metadata": {},
   "outputs": [
    {
     "data": {
      "text/plain": [
       "{'Aditya', 'Amit', 'Amita', 'Jane', 'Jaya', 'John', 'Ram', 'Sagar', 'Simran'}"
      ]
     },
     "execution_count": 120,
     "metadata": {},
     "output_type": "execute_result"
    }
   ],
   "source": [
    "student_names_groupA.symmetric_difference(student_names_groupB)"
   ]
  },
  {
   "cell_type": "markdown",
   "metadata": {},
   "source": [
    "<font color=red>### INSTRUCTION TO DO</font>\n",
    "\n",
    "There are other methods too.\n",
    "<br> Using the above sets, try different set methods.\n",
    "<br> To get you started there are difference_update and intersection_update methods. See what they do differently.\n",
    "<br> Add new cells if required and practice"
   ]
  },
  {
   "cell_type": "code",
   "execution_count": null,
   "metadata": {
    "collapsed": true
   },
   "outputs": [],
   "source": []
  },
  {
   "cell_type": "markdown",
   "metadata": {},
   "source": [
    "## Membership operator\n",
    "\n",
    "<br> Membership operator in programming terms is **in**.\n",
    "<br>As the name suggests this operator can be used to check whether a particular element is present in an iterable.\n",
    "<br> Strings, lists, tuples and dictionaries all are iterables and thus this operator is applicable to all of them. "
   ]
  },
  {
   "cell_type": "markdown",
   "metadata": {
    "collapsed": true
   },
   "source": [
    "### For strings"
   ]
  },
  {
   "cell_type": "code",
   "execution_count": 121,
   "metadata": {
    "collapsed": true
   },
   "outputs": [],
   "source": [
    "s = 'My name is Anthony Gonsalves'"
   ]
  },
  {
   "cell_type": "markdown",
   "metadata": {},
   "source": [
    "Let's find out whether character 'A' is present in the above string."
   ]
  },
  {
   "cell_type": "code",
   "execution_count": 122,
   "metadata": {},
   "outputs": [
    {
     "data": {
      "text/plain": [
       "True"
      ]
     },
     "execution_count": 122,
     "metadata": {},
     "output_type": "execute_result"
    }
   ],
   "source": [
    "'A' in s"
   ]
  },
  {
   "cell_type": "markdown",
   "metadata": {},
   "source": [
    "**in** operator is used to check whether 'A' is a member of string s "
   ]
  },
  {
   "cell_type": "markdown",
   "metadata": {},
   "source": [
    "### For lists"
   ]
  },
  {
   "cell_type": "code",
   "execution_count": 123,
   "metadata": {
    "collapsed": true
   },
   "outputs": [],
   "source": [
    "l = [\"Welcome to chapter\" ,3, \"David\" ]"
   ]
  },
  {
   "cell_type": "markdown",
   "metadata": {},
   "source": [
    "Let's find out whether \"David\" is present in the above list."
   ]
  },
  {
   "cell_type": "code",
   "execution_count": 124,
   "metadata": {},
   "outputs": [
    {
     "data": {
      "text/plain": [
       "True"
      ]
     },
     "execution_count": 124,
     "metadata": {},
     "output_type": "execute_result"
    }
   ],
   "source": [
    "\"David\" in l"
   ]
  },
  {
   "cell_type": "markdown",
   "metadata": {},
   "source": [
    "### For tuples"
   ]
  },
  {
   "cell_type": "code",
   "execution_count": 125,
   "metadata": {
    "collapsed": true
   },
   "outputs": [],
   "source": [
    "t = (\"Is the time\", 4, \"AM now?\")"
   ]
  },
  {
   "cell_type": "markdown",
   "metadata": {},
   "source": [
    "Let's find out whether 3 is present in the above tuple."
   ]
  },
  {
   "cell_type": "code",
   "execution_count": 126,
   "metadata": {},
   "outputs": [
    {
     "data": {
      "text/plain": [
       "False"
      ]
     },
     "execution_count": 126,
     "metadata": {},
     "output_type": "execute_result"
    }
   ],
   "source": [
    "3 in t"
   ]
  },
  {
   "cell_type": "markdown",
   "metadata": {},
   "source": [
    "### For dictionary"
   ]
  },
  {
   "cell_type": "code",
   "execution_count": 127,
   "metadata": {
    "collapsed": true
   },
   "outputs": [],
   "source": [
    "student = {'name':'John','roll no':22,'marks':[25,26,27]}"
   ]
  },
  {
   "cell_type": "markdown",
   "metadata": {},
   "source": [
    "In dictionaries **in** operator only checks the keys and not the values."
   ]
  },
  {
   "cell_type": "code",
   "execution_count": 128,
   "metadata": {},
   "outputs": [
    {
     "data": {
      "text/plain": [
       "False"
      ]
     },
     "execution_count": 128,
     "metadata": {},
     "output_type": "execute_result"
    }
   ],
   "source": [
    "'John' in student"
   ]
  },
  {
   "cell_type": "code",
   "execution_count": 129,
   "metadata": {},
   "outputs": [
    {
     "data": {
      "text/plain": [
       "True"
      ]
     },
     "execution_count": 129,
     "metadata": {},
     "output_type": "execute_result"
    }
   ],
   "source": [
    "'name' in student"
   ]
  },
  {
   "cell_type": "markdown",
   "metadata": {},
   "source": [
    "How to find in values?\n",
    "\n",
    "Simple! Use the values() method."
   ]
  },
  {
   "cell_type": "code",
   "execution_count": 130,
   "metadata": {},
   "outputs": [
    {
     "data": {
      "text/plain": [
       "True"
      ]
     },
     "execution_count": 130,
     "metadata": {},
     "output_type": "execute_result"
    }
   ],
   "source": [
    "'John' in student.values()"
   ]
  },
  {
   "cell_type": "markdown",
   "metadata": {},
   "source": [
    "### For Set"
   ]
  },
  {
   "cell_type": "code",
   "execution_count": 131,
   "metadata": {
    "collapsed": true
   },
   "outputs": [],
   "source": [
    "s = {\"That place is \" , 5 , \"miles away.\"}"
   ]
  },
  {
   "cell_type": "markdown",
   "metadata": {},
   "source": [
    "Let's find out whether 5 is present in the above set."
   ]
  },
  {
   "cell_type": "code",
   "execution_count": 132,
   "metadata": {},
   "outputs": [
    {
     "data": {
      "text/plain": [
       "True"
      ]
     },
     "execution_count": 132,
     "metadata": {},
     "output_type": "execute_result"
    }
   ],
   "source": [
    "5 in s"
   ]
  },
  {
   "cell_type": "markdown",
   "metadata": {},
   "source": [
    "<h2>Comparison between data structures</h2>\n",
    "\n",
    "<table>\n",
    "  <tr >\n",
    "    <th width=\"20%\" style=\"text-align:left;\">Property</th>\n",
    "    <th width=\"20%\" style=\"text-align:left;\">List</th>\n",
    "    <th width=\"20%\" style=\"text-align:left;\">Tuple</th>\n",
    "    <th width=\"20%\" style=\"text-align:left;\">Dictionary</th>\n",
    "    <th width=\"20%\" style=\"text-align:left;\">Set</th>\n",
    "  </tr>\n",
    "  <tr>\n",
    "    <td style=\"text-align:left;\">**Mutability**</td>\n",
    "    <td style=\"text-align:left;\">Mutable</td>\n",
    "    <td style=\"text-align:left;\">Immutable</td>\n",
    "    <td style=\"text-align:left;\">Mutable</td>\n",
    "    <td style=\"text-align:left;\">Mutable</td>\n",
    "  </tr>\n",
    "  <tr>\n",
    "    <td style=\"text-align:left;\">**Indexing and Slicing**</td>\n",
    "    <td style=\"text-align:left;\">Supported</td>\n",
    "    <td style=\"text-align:left;\">Supported</td>\n",
    "    <td style=\"text-align:left;\">Supported</td>\n",
    "    <td style=\"text-align:left;\">Not Supported</td>\n",
    "  </tr>\n",
    "  <tr>\n",
    "    <td  style=\"text-align:left;\">**Looping**</td>\n",
    "    <td style=\"text-align:left;\">Looping through list indices is possible</td>\n",
    "    <td style=\"text-align:left;\">Looping through tuple indices is possible</td>\n",
    "    <td style=\"text-align:left;\">Looping is possible in 3 ways either by keys or values or both.</td>\n",
    "    <td style=\"text-align:left;\">Looping through set indices is possible</td>\n",
    "  </tr>\n",
    "   <tr>\n",
    "    <td style=\"text-align:left;\">**Repetition of elements**</td>\n",
    "    <td style=\"text-align:left;\">Duplicate elements can be stored in a list.</td>\n",
    "    <td style=\"text-align:left;\">Duplicate elements can be stored in a tuple.</td>\n",
    "    <td style=\"text-align:left;\">There can be two items in a dictionary with the same key, but the second one will be kept, the first one will be discarded.</td>\n",
    "    <td style=\"text-align:left;\">In a set duplicate elements cannot exist, if the same element is added again the set remains unchanged.</td>\n",
    "  </tr>\n",
    "</table>\n",
    "\n",
    "</body>"
   ]
  },
  {
   "cell_type": "markdown",
   "metadata": {
    "collapsed": true
   },
   "source": [
    "# Summary\n",
    "\n",
    "Now that you have learnt about list, tuples, dictionaries and sets you are getting good at Python.\n",
    "<br> This chapter is very crucial as these data structures are used everywhere in Python programming.\n",
    "<br> Please solve your assignment very well and invest as much time as possible to master these topics.\n",
    "<br>Lets get to hands on practice by solving the assignment.\n",
    "\n",
    "**All the best!!**<t>"
   ]
  }
 ],
 "metadata": {
  "kernelspec": {
   "display_name": "Python 3",
   "language": "python",
   "name": "python3"
  },
  "language_info": {
   "codemirror_mode": {
    "name": "ipython",
    "version": 3
   },
   "file_extension": ".py",
   "mimetype": "text/x-python",
   "name": "python",
   "nbconvert_exporter": "python",
   "pygments_lexer": "ipython3",
   "version": "3.6.1"
  }
 },
 "nbformat": 4,
 "nbformat_minor": 2
}
