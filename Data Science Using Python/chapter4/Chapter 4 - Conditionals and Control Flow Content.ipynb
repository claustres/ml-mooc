{
 "cells": [
  {
   "cell_type": "markdown",
   "metadata": {},
   "source": [
    "<img src=\"https://www.digitalvidya.com/wp-content/uploads/2013/05/Digital-Vidya-Website-Logo-HD-2-300x95.png\">"
   ]
  },
  {
   "cell_type": "markdown",
   "metadata": {},
   "source": [
    "# Conditionals and Control Flow\n",
    "\n",
    "Hello!\n",
    "\n",
    "You are doing very well. You have reached the next phase in Basics of Python Programming. \n",
    "\n",
    "In this chapter we are going to explore different types of conditional statements and how control flows in a program.\n",
    "\n",
    "Just like we humans change our behaviour based on conditions, in a similar way a program can also change its behaviour.\n",
    "<br> This behaviour can be changed by using conditional statements.\n",
    "\n",
    "So far we have accomplished predefined tasks, where the program followed a particular set of instructions, where the control flow was constant. What makes programming so much more powerful are conditional statements. This is the ability to test a variable against a value and act in one way if the condition is met by the variable or another way if not. \n",
    "\n",
    "Very often when you write code, you want to perform different actions for different decisions. You can use conditional statements in your code to do this. What happens is, when you use conditional statements, the program control jumps from one place to another and so you need to be very careful while using conditional statements.\n",
    "\n",
    "The different kinds of operators especially comparison operators which you had learnt in chapter 1 will come in handy here.\n",
    "\n",
    "https://docs.python.org/3/tutorial/controlflow.html\n",
    "\n",
    "In this lecture we'll learn about the following:\n",
    "\n",
    "1. if and else statement\n",
    "2. for loop\n",
    "3. The range() function\n",
    "4. break and continue statements\n",
    "\n",
    "**Lets begin**\n"
   ]
  },
  {
   "cell_type": "markdown",
   "metadata": {
    "collapsed": true
   },
   "source": [
    "##  if and else statement\n",
    "\n",
    "if Statements in Python allows us to tell the computer to perform alternative actions based on a certain set of results.\n",
    "\n",
    "Consider this example in English style :\n",
    "\n",
    "*If* your marks is less than 40 then you passed in the examination *else* you failed.\n",
    "\n",
    "We can then expand the idea further with elif and else statements, which allow us to tell the computer:\n",
    "\n",
    "*If* you scored more than 80 marks then you passed with distinction *else if* you scored more than 40 and less than 80 you passed without distinction *else* you failed. \n",
    "\n",
    "Let's go ahead and look at the syntax format for if statements to get a better idea of this:\n",
    "\n",
    "`if case1:\n",
    "    perform action1\n",
    "elif case2:\n",
    "    perform action2\n",
    "else: \n",
    "    perform action 3\n",
    "`"
   ]
  },
  {
   "cell_type": "markdown",
   "metadata": {},
   "source": [
    "<font color=orange>### IMPORTANT NOTE </font>\n",
    "<br>The condition in the conditional statement must always return a boolean value i.e True or False\n",
    "\n",
    "**Guidelines** : For those who have programming experience in different languages such as C,Java,etc\n",
    "             (Beginners can also read)\n",
    "             \n",
    "1. In Python, True and 1 are same and False and 0 are same like in C, C++\n",
    "2. Since Python is an  **indented language**, every condtional statement has to end with a colon (':').\n",
    "3. In Python, 'T' in True needs to be upper case unlike Java."
   ]
  },
  {
   "cell_type": "markdown",
   "metadata": {},
   "source": [
    "Let's take a simple example"
   ]
  },
  {
   "cell_type": "code",
   "execution_count": 14,
   "metadata": {},
   "outputs": [
    {
     "name": "stdout",
     "output_type": "stream",
     "text": [
      "It is true!\n"
     ]
    }
   ],
   "source": [
    "if True:\n",
    "    print('It is true!')"
   ]
  },
  {
   "cell_type": "markdown",
   "metadata": {},
   "source": [
    "<font color=orange>### IMPORTANT NOTE </font>\n",
    "<br>Be careful about the ':', it is extremely important. "
   ]
  },
  {
   "cell_type": "code",
   "execution_count": 15,
   "metadata": {
    "collapsed": true
   },
   "outputs": [],
   "source": [
    "# Another one\n",
    "\n",
    "if False:\n",
    "    print('It is false!')\n",
    "    "
   ]
  },
  {
   "cell_type": "markdown",
   "metadata": {},
   "source": [
    "If you are wondering why it did not print 'It is False!', because the condition is False.\n",
    "<br>**Statements in inside a conditional statement will only be executed if the condition evaluates to True**"
   ]
  },
  {
   "cell_type": "code",
   "execution_count": 16,
   "metadata": {},
   "outputs": [
    {
     "name": "stdout",
     "output_type": "stream",
     "text": [
      "It is true!\n"
     ]
    }
   ],
   "source": [
    "if 1:\n",
    "    print(\"It is true!\")"
   ]
  },
  {
   "cell_type": "markdown",
   "metadata": {},
   "source": [
    "1 also works instead of True"
   ]
  },
  {
   "cell_type": "markdown",
   "metadata": {},
   "source": [
    "Let's add in some else logic:"
   ]
  },
  {
   "cell_type": "code",
   "execution_count": 18,
   "metadata": {},
   "outputs": [
    {
     "name": "stdout",
     "output_type": "stream",
     "text": [
      "Else statement is executed since x is not True!\n"
     ]
    }
   ],
   "source": [
    "# if - else both \n",
    "\n",
    "x = False\n",
    "\n",
    "if x:\n",
    "    print('x is True!')\n",
    "else:\n",
    "    print('Else statement is executed since x is not True!')"
   ]
  },
  {
   "cell_type": "markdown",
   "metadata": {},
   "source": [
    "## if - elif - else statements"
   ]
  },
  {
   "cell_type": "markdown",
   "metadata": {
    "collapsed": true
   },
   "source": [
    "If marks are greater than 80 then print First class with distinction, between 60 to 79 print First class and between 40 to 59 print Second class and finally,for less than 40 print Fail."
   ]
  },
  {
   "cell_type": "code",
   "execution_count": 2,
   "metadata": {},
   "outputs": [
    {
     "name": "stdout",
     "output_type": "stream",
     "text": [
      "Second class\n"
     ]
    }
   ],
   "source": [
    "marks = 49\n",
    "\n",
    "if marks > 80:\n",
    "    print(\"First class with distinction\")\n",
    "\n",
    "elif marks >=60 and marks <=79:\n",
    "    print(\"First class\")\n",
    "    \n",
    "elif marks >=40 and marks <=59:\n",
    "    print(\"Second class\")\n",
    "    \n",
    "else :\n",
    "    print(\"Fail\")"
   ]
  },
  {
   "cell_type": "markdown",
   "metadata": {},
   "source": [
    "<font color=orange>### IMPORTANT NOTE </font>\n",
    " <br> For those who have programming experience in other languages.\n",
    " <br> \"elif\" is the Python alternative for \"else if\".\n",
    " <br> \"else if\" won't work in Python."
   ]
  },
  {
   "cell_type": "markdown",
   "metadata": {},
   "source": [
    "** You can also place if-else inside if statement ** "
   ]
  },
  {
   "cell_type": "code",
   "execution_count": 24,
   "metadata": {},
   "outputs": [
    {
     "name": "stdout",
     "output_type": "stream",
     "text": [
      "Positive number\n"
     ]
    }
   ],
   "source": [
    "num = 10\n",
    "\n",
    "if num >= 0:                       # A\n",
    "    if num == 0:                   # B\n",
    "        print(\"Zero\")\n",
    "    else:                          # This is the else to the if marked as \"B\"\n",
    "        print(\"Positive number\")\n",
    "else:                              # This is the else to the if marked as \"A\"\n",
    "    print(\"Negative number\")"
   ]
  },
  {
   "cell_type": "markdown",
   "metadata": {},
   "source": [
    "** You can also place if-else inside else statement ** "
   ]
  },
  {
   "cell_type": "code",
   "execution_count": 30,
   "metadata": {},
   "outputs": [
    {
     "name": "stdout",
     "output_type": "stream",
     "text": [
      "Negative number\n"
     ]
    }
   ],
   "source": [
    "num = -10\n",
    "\n",
    "if num > 0:\n",
    "    print(\"Positive number\")\n",
    "else:\n",
    "    if num == 0:\n",
    "        print(\"Zero\")\n",
    "    else:\n",
    "        print(\"Negative number\")"
   ]
  },
  {
   "cell_type": "markdown",
   "metadata": {},
   "source": [
    "**Lets solve odd and even problem.**\n",
    "<br>Find whether a number is even or odd."
   ]
  },
  {
   "cell_type": "code",
   "execution_count": 32,
   "metadata": {},
   "outputs": [
    {
     "name": "stdout",
     "output_type": "stream",
     "text": [
      "Even\n"
     ]
    }
   ],
   "source": [
    "x = 10\n",
    "\n",
    "if x % 2 == 0:\n",
    "    print(\"Even\")\n",
    "else:\n",
    "    print(\"Odd\")"
   ]
  },
  {
   "cell_type": "markdown",
   "metadata": {},
   "source": [
    "**Lets check if a given character is a vowel or consonant.**\n"
   ]
  },
  {
   "cell_type": "code",
   "execution_count": 6,
   "metadata": {},
   "outputs": [
    {
     "name": "stdout",
     "output_type": "stream",
     "text": [
      "Given character is a vowel\n"
     ]
    }
   ],
   "source": [
    "vowels = ['a','e','i','o','u']\n",
    "given_character = 'B'\n",
    "\n",
    "if given_character.lower() in vowels:       # lower because given character could be upper case also \n",
    "                                            # recall membership operator from chapter 1\n",
    "    print(\"Given character is a vowel\")\n",
    "else :\n",
    "    print(\"Given character is a consonant\")"
   ]
  },
  {
   "cell_type": "markdown",
   "metadata": {},
   "source": [
    "<font color=red>### INSTRUCTION TO DO</font>\n",
    "\n",
    "Assign a value to x.\n",
    "<br> Print \"x is greater than 10\" if x is is greater than 10 else print \"x is less than 10\" if x is less than 10.\n",
    "<br> Add new cells if required and practice\n"
   ]
  },
  {
   "cell_type": "code",
   "execution_count": null,
   "metadata": {
    "collapsed": true
   },
   "outputs": [],
   "source": []
  },
  {
   "cell_type": "markdown",
   "metadata": {},
   "source": [
    "# The range() function\n",
    "\n",
    "We haven't developed a very deep level of knowledge of functions yet, but we can understand the basics of this simple (but extremely useful!) function. Range function is most commonly used while iterating through lists or tuples.\n",
    "\n",
    "For reference : https://docs.python.org/3.6/library/stdtypes.html#range"
   ]
  },
  {
   "cell_type": "code",
   "execution_count": 5,
   "metadata": {},
   "outputs": [
    {
     "data": {
      "text/plain": [
       "range(0, 5)"
      ]
     },
     "execution_count": 5,
     "metadata": {},
     "output_type": "execute_result"
    }
   ],
   "source": [
    "# Lets see what happens when we use range function\n",
    "\n",
    "range(5)"
   ]
  },
  {
   "cell_type": "markdown",
   "metadata": {},
   "source": [
    "Lets see what is the type of returned object"
   ]
  },
  {
   "cell_type": "code",
   "execution_count": 7,
   "metadata": {},
   "outputs": [
    {
     "data": {
      "text/plain": [
       "range"
      ]
     },
     "execution_count": 7,
     "metadata": {},
     "output_type": "execute_result"
    }
   ],
   "source": [
    "x = range(0,10)\n",
    "type(x)"
   ]
  },
  {
   "cell_type": "markdown",
   "metadata": {},
   "source": [
    "It returned a range object.\n",
    "<br> **So how is it useful?**"
   ]
  },
  {
   "cell_type": "code",
   "execution_count": 6,
   "metadata": {},
   "outputs": [
    {
     "data": {
      "text/plain": [
       "[0, 1, 2, 3, 4]"
      ]
     },
     "execution_count": 6,
     "metadata": {},
     "output_type": "execute_result"
    }
   ],
   "source": [
    "list(range(5))"
   ]
  },
  {
   "cell_type": "markdown",
   "metadata": {},
   "source": [
    "Instead of manually creating a list of integers upto 'n'. You can create using the range() function"
   ]
  },
  {
   "cell_type": "markdown",
   "metadata": {},
   "source": [
    "The parameters of range function are (start,stop,step size).\n",
    "<br> Where the range would begin from start and end at (step size - 1), by default the step size is 1 and start is 0.\n",
    "<br> You can relate this with slicing."
   ]
  },
  {
   "cell_type": "code",
   "execution_count": 5,
   "metadata": {
    "collapsed": true
   },
   "outputs": [],
   "source": [
    "# Lets see a range with start and stop\n",
    "start = 0 \n",
    "stop = 20 \n",
    "\n",
    "x = range(start,stop)"
   ]
  },
  {
   "cell_type": "code",
   "execution_count": 6,
   "metadata": {},
   "outputs": [
    {
     "data": {
      "text/plain": [
       "range(0, 20)"
      ]
     },
     "execution_count": 6,
     "metadata": {},
     "output_type": "execute_result"
    }
   ],
   "source": [
    "x"
   ]
  },
  {
   "cell_type": "code",
   "execution_count": 8,
   "metadata": {},
   "outputs": [
    {
     "data": {
      "text/plain": [
       "[0, 1, 2, 3, 4, 5, 6, 7, 8, 9, 10, 11, 12, 13, 14, 15, 16, 17, 18, 19]"
      ]
     },
     "execution_count": 8,
     "metadata": {},
     "output_type": "execute_result"
    }
   ],
   "source": [
    "# Show\n",
    "\n",
    "list(x)"
   ]
  },
  {
   "cell_type": "markdown",
   "metadata": {},
   "source": [
    "Great! Notice how it went up to 20, but doesn't actually produce 20. Just like in indexing. \n",
    "<br>What about step size? \n",
    "<br>We can specify that as a third argument:"
   ]
  },
  {
   "cell_type": "code",
   "execution_count": 10,
   "metadata": {
    "collapsed": true
   },
   "outputs": [],
   "source": [
    "# Lets set step size to 2\n",
    "x = range(start,stop,2)"
   ]
  },
  {
   "cell_type": "code",
   "execution_count": 11,
   "metadata": {},
   "outputs": [
    {
     "data": {
      "text/plain": [
       "range(0, 20, 2)"
      ]
     },
     "execution_count": 11,
     "metadata": {},
     "output_type": "execute_result"
    }
   ],
   "source": [
    "#Show\n",
    "x"
   ]
  },
  {
   "cell_type": "code",
   "execution_count": 12,
   "metadata": {},
   "outputs": [
    {
     "data": {
      "text/plain": [
       "[0, 2, 4, 6, 8, 10, 12, 14, 16, 18]"
      ]
     },
     "execution_count": 12,
     "metadata": {},
     "output_type": "execute_result"
    }
   ],
   "source": [
    "list(x)"
   ]
  },
  {
   "cell_type": "markdown",
   "metadata": {
    "collapsed": true
   },
   "source": [
    "But still what makes range() so special?\n",
    "\n",
    "Range function makes use of a generator. For a simplified explanation: A generator allows the generation of generated objects that are provided at that instance but does not store every instance generated into memory.\n",
    "\n",
    "This means a generator would not create a list to generate like range() does, but instead provide a one time generation of the numbers in that range.\n",
    "<br> This is very beneficial when we need range upto huge numbers.\n",
    "<br> Don't worry about it if you did not understand.\n",
    "<br> The application of range is more important to understand."
   ]
  },
  {
   "cell_type": "markdown",
   "metadata": {},
   "source": [
    "<font color=red>### INSTRUCTION TO DO</font>\n",
    "\n",
    "Print all the numbers from 4 uptil 108 with a gap of three between consective numbers\n",
    "<br> Add new cells if required and practice\n"
   ]
  },
  {
   "cell_type": "code",
   "execution_count": null,
   "metadata": {
    "collapsed": true
   },
   "outputs": [],
   "source": []
  },
  {
   "cell_type": "markdown",
   "metadata": {},
   "source": [
    "# for loops\n",
    "\n",
    "Python’s for statement iterates over the items of any sequence (a list or a string), in the order that they appear in the sequence. We can iterate over iterables such as strings, lists, tuples, and even built in iterables for dictionaries, such as the keys or values. You had learnt that  lists, tuples, dictionaries are iterables now you will know why.\n",
    "\n",
    "Here's the general format for a for loop in Python:\n",
    "\n",
    "`\n",
    "for item in object:\n",
    "    statements to do stuff\n",
    "`   \n",
    "\n",
    "The variable name used for the item is completely up to the coder, so use your best judgment for choosing a name that makes sense and you will be able to understand when revisiting your code. This item name can then be referenced inside you loop, for example if you wanted to use if statements to perform checks.\n",
    "\n",
    "Let's go ahead and work through several example of for loops using a variety of data object types. "
   ]
  },
  {
   "cell_type": "markdown",
   "metadata": {
    "collapsed": true
   },
   "source": [
    "## Iterating through a list"
   ]
  },
  {
   "cell_type": "code",
   "execution_count": 15,
   "metadata": {
    "collapsed": true
   },
   "outputs": [],
   "source": [
    "# Lets create a list\n",
    "\n",
    "l = [1,2,3,4,5,6,7,8,9,10]"
   ]
  },
  {
   "cell_type": "markdown",
   "metadata": {},
   "source": [
    "### Iterating through a list without indexing "
   ]
  },
  {
   "cell_type": "code",
   "execution_count": 16,
   "metadata": {},
   "outputs": [
    {
     "name": "stdout",
     "output_type": "stream",
     "text": [
      "1\n",
      "2\n",
      "3\n",
      "4\n",
      "5\n",
      "6\n",
      "7\n",
      "8\n",
      "9\n",
      "10\n"
     ]
    }
   ],
   "source": [
    "for number in l:\n",
    "    print(number)"
   ]
  },
  {
   "cell_type": "markdown",
   "metadata": {},
   "source": [
    "As you can see the for loop helped us to access each element one by one without using indexing."
   ]
  },
  {
   "cell_type": "markdown",
   "metadata": {},
   "source": [
    "### Iterating through a list with indexing "
   ]
  },
  {
   "cell_type": "code",
   "execution_count": 17,
   "metadata": {},
   "outputs": [
    {
     "name": "stdout",
     "output_type": "stream",
     "text": [
      "1\n",
      "2\n",
      "3\n",
      "4\n",
      "5\n",
      "6\n",
      "7\n",
      "8\n",
      "9\n",
      "10\n"
     ]
    }
   ],
   "source": [
    "for number in range(len(l)):\n",
    "    print(l[number])"
   ]
  },
  {
   "cell_type": "markdown",
   "metadata": {},
   "source": [
    "Lets solve the odd even problem using for loop.\n",
    "<br> Print all even numbers in the list"
   ]
  },
  {
   "cell_type": "code",
   "execution_count": 21,
   "metadata": {},
   "outputs": [
    {
     "name": "stdout",
     "output_type": "stream",
     "text": [
      "2\n",
      "4\n",
      "6\n",
      "8\n",
      "10\n"
     ]
    }
   ],
   "source": [
    "for number in l:\n",
    "    if number % 2 == 0:\n",
    "        print(number)"
   ]
  },
  {
   "cell_type": "markdown",
   "metadata": {},
   "source": [
    "If a number is even print \"Even\" and the number else print \"Odd\" and the number"
   ]
  },
  {
   "cell_type": "code",
   "execution_count": 23,
   "metadata": {},
   "outputs": [
    {
     "name": "stdout",
     "output_type": "stream",
     "text": [
      "Odd 1\n",
      "Even 2\n",
      "Odd 3\n",
      "Even 4\n",
      "Odd 5\n",
      "Even 6\n",
      "Odd 7\n",
      "Even 8\n",
      "Odd 9\n",
      "Even 10\n"
     ]
    }
   ],
   "source": [
    "for number in l:\n",
    "    if number % 2 == 0:\n",
    "        print(\"Even\",number)\n",
    "    else:\n",
    "        print(\"Odd\",number)"
   ]
  },
  {
   "cell_type": "markdown",
   "metadata": {},
   "source": [
    "Lets find sum of the numbers in the list"
   ]
  },
  {
   "cell_type": "code",
   "execution_count": 26,
   "metadata": {
    "collapsed": true
   },
   "outputs": [],
   "source": [
    "l_sum = 0\n",
    "\n",
    "for number in l:\n",
    "    l_sum += number   # notice the use of shorthand operator"
   ]
  },
  {
   "cell_type": "code",
   "execution_count": 27,
   "metadata": {},
   "outputs": [
    {
     "data": {
      "text/plain": [
       "55"
      ]
     },
     "execution_count": 27,
     "metadata": {},
     "output_type": "execute_result"
    }
   ],
   "source": [
    "# Display sum\n",
    "\n",
    "l_sum"
   ]
  },
  {
   "cell_type": "markdown",
   "metadata": {},
   "source": [
    "What is happening?\n",
    "\n",
    "Consider, l = [1,2,3]\n",
    "\n",
    "`\n",
    "Initially :\n",
    "    l_sum = 0\n",
    "Iteration 1 :\n",
    "    l_sum = 0 + 1\n",
    "    l_sum = 1\n",
    "Iteration 2 :\n",
    "    l_sum = 1 + 2\n",
    "    l_sum = 3\n",
    "Iteration 3 :\n",
    "    l_sum = 3 + 3\n",
    "    l_sum = 6\n",
    "-----Loop ends-----\n",
    "`\n",
    "\n",
    "This is how final result is calculated"
   ]
  },
  {
   "cell_type": "markdown",
   "metadata": {},
   "source": [
    "<font color=red>### INSTRUCTION TO DO</font>\n",
    "\n",
    "In the previous chapter we had created 3 lists\n",
    "\n",
    "student_names = [\"John\" ,\"Jane\", \"Amita\", \"Amit\", \"Ram\"]\n",
    "<br>student_roll_nos = [11,22,32,44,77]\n",
    "<br>student_marks = [20,19,11,15,16]\n",
    "\n",
    "Print the name of every student.\n",
    "Find the sum of marks using a for loop.\n",
    "<br> Make sure you initialize your variable which will store the product with an appropriate value.\n",
    "<br> Print the sum.\n",
    "<br> Add new cells if required and practice\n"
   ]
  },
  {
   "cell_type": "code",
   "execution_count": null,
   "metadata": {
    "collapsed": true
   },
   "outputs": [],
   "source": []
  },
  {
   "cell_type": "markdown",
   "metadata": {},
   "source": [
    "## Iterating through a string"
   ]
  },
  {
   "cell_type": "markdown",
   "metadata": {},
   "source": [
    "As discussed before strings are a sequence so when we iterate through them we will be accessing each item in that string."
   ]
  },
  {
   "cell_type": "code",
   "execution_count": 29,
   "metadata": {},
   "outputs": [
    {
     "name": "stdout",
     "output_type": "stream",
     "text": [
      "W\n",
      "e\n",
      "l\n",
      "c\n",
      "o\n",
      "m\n",
      "e\n",
      " \n",
      "t\n",
      "o\n",
      " \n",
      "D\n",
      "i\n",
      "g\n",
      "i\n",
      "t\n",
      "a\n",
      "l\n",
      " \n",
      "V\n",
      "i\n",
      "d\n",
      "y\n",
      "a\n"
     ]
    }
   ],
   "source": [
    "for letter in 'Welcome to Digital Vidya':\n",
    "    print(letter)"
   ]
  },
  {
   "cell_type": "markdown",
   "metadata": {},
   "source": [
    "Character by character printing is done"
   ]
  },
  {
   "cell_type": "markdown",
   "metadata": {},
   "source": [
    "## Iterating through a tuple\n",
    "\n",
    "Iterating through a tuple is very similar to iterating through a list or a string.\n",
    "<br> We will use the tuple created in previous chapter."
   ]
  },
  {
   "cell_type": "code",
   "execution_count": 3,
   "metadata": {
    "collapsed": true
   },
   "outputs": [],
   "source": [
    "student1 = (\"Jay\" , 19 ,20)\n",
    "student2 = (\"Khushi\", 21 , 18) \n",
    "student3 = (\"Luv\" , 22 , 17)"
   ]
  },
  {
   "cell_type": "code",
   "execution_count": 8,
   "metadata": {},
   "outputs": [
    {
     "name": "stdout",
     "output_type": "stream",
     "text": [
      "Student1 details : \n",
      "Jay\n",
      "19\n",
      "20\n",
      "\n",
      "Student2 details : \n",
      "Khushi\n",
      "21\n",
      "18\n",
      "\n",
      "Student3 details : \n",
      "Luv\n",
      "22\n",
      "17\n"
     ]
    }
   ],
   "source": [
    "print(\"Student1 details : \")\n",
    "\n",
    "for t in student1:\n",
    "    print(t)\n",
    "    \n",
    "print()\n",
    "print(\"Student2 details : \")\n",
    "\n",
    "for t in student2:\n",
    "    print(t)\n",
    "    \n",
    "print()\n",
    "print(\"Student3 details : \")\n",
    "\n",
    "for t in student3:\n",
    "    print(t)"
   ]
  },
  {
   "cell_type": "markdown",
   "metadata": {},
   "source": [
    "### Tuple unpacking\n",
    "\n",
    "Tuples have a special property when it comes to for loops. While iterating through a sequence, if the element which is obtained is also a tuple then we can unpack its elements using **Tuple Unpacking**.\n"
   ]
  },
  {
   "cell_type": "code",
   "execution_count": 1,
   "metadata": {},
   "outputs": [
    {
     "data": {
      "text/plain": [
       "[(32, 'John', 20),\n",
       " (22, 'Jane', 19),\n",
       " (21, 'Amita', 10),\n",
       " (44, 'Amit', 15),\n",
       " (77, 'Ram', 16)]"
      ]
     },
     "execution_count": 1,
     "metadata": {},
     "output_type": "execute_result"
    }
   ],
   "source": [
    "# Lets create a tuple of name, roll no. and marks for each student.\n",
    "# Let's make three tuples\n",
    "\n",
    "student_roll_nos = [32,22,21,44,77] \n",
    "student_names = [\"John\" ,\"Jane\", \"Amita\", \"Amit\", \"Ram\"] \n",
    "student_marks = [20,19,10,15,16]\n",
    "\n",
    "# Format is name, roll no., marks\n",
    "students = [(roll_no, name, marks) for (roll_no, name, marks) in zip(student_roll_nos,student_names, student_marks)]\n",
    "students"
   ]
  },
  {
   "cell_type": "code",
   "execution_count": 38,
   "metadata": {},
   "outputs": [
    {
     "name": "stdout",
     "output_type": "stream",
     "text": [
      "Roll no. Name  Marks\n",
      "\n",
      "     32 John    20\n",
      "     22 Jane    19\n",
      "     21 Amita   10\n",
      "     44 Amit    15\n",
      "     77 Ram     16\n"
     ]
    }
   ],
   "source": [
    "# Iterating through the list\n",
    "\n",
    "print(\"Roll no. Name  Marks\")\n",
    "print()\n",
    "\n",
    "# Tuple unpacking\n",
    "for (roll_no, name, marks) in students:\n",
    "    print('{0:7d} {1:5s} {2:4d}'.format(roll_no, name, marks))"
   ]
  },
  {
   "cell_type": "markdown",
   "metadata": {},
   "source": [
    "The above printing style has been improved for better presentation. No need to worry if you don't understand you will learn this later.\n",
    "<br>For reference : https://docs.python.org/3.1/tutorial/inputoutput.html"
   ]
  },
  {
   "cell_type": "markdown",
   "metadata": {},
   "source": [
    "<font color=red>### INSTRUCTION TO DO</font>\n",
    "\n",
    "Create a list with 5 tuples.\n",
    "<br> For a tuple of the form (a,b), b is square of a.\n",
    "<br> a should be from 1 to 5.\n",
    "<br> Each list has two consective alphabets (a,b) , (b,c) and so on.\n",
    "<br> TIP : Use list comprehension.\n",
    "<br> Print each tuple using tuple unpacking in the same way as shown above.\n",
    "<br> Add new cells if required and practice\n"
   ]
  },
  {
   "cell_type": "code",
   "execution_count": null,
   "metadata": {
    "collapsed": true
   },
   "outputs": [],
   "source": []
  },
  {
   "cell_type": "markdown",
   "metadata": {},
   "source": [
    "## Iterating through a dictionary\n",
    "\n",
    "Iterating through a dictionary is a bit different from iterating through other iterables"
   ]
  },
  {
   "cell_type": "code",
   "execution_count": 31,
   "metadata": {
    "collapsed": true
   },
   "outputs": [],
   "source": [
    "# Create a dictionary.\n",
    "\n",
    "student = {'name':'John','roll no':22,'marks':[25,26,27]}"
   ]
  },
  {
   "cell_type": "code",
   "execution_count": 32,
   "metadata": {},
   "outputs": [
    {
     "name": "stdout",
     "output_type": "stream",
     "text": [
      "name\n",
      "roll no\n",
      "marks\n"
     ]
    }
   ],
   "source": [
    "for key in student:\n",
    "    print(key)"
   ]
  },
  {
   "cell_type": "markdown",
   "metadata": {},
   "source": [
    "We could only get the keys. So how can we get the values? Or both the keys and the values?"
   ]
  },
  {
   "cell_type": "markdown",
   "metadata": {},
   "source": [
    "### Only keys:"
   ]
  },
  {
   "cell_type": "code",
   "execution_count": 33,
   "metadata": {},
   "outputs": [
    {
     "name": "stdout",
     "output_type": "stream",
     "text": [
      "name\n",
      "roll no\n",
      "marks\n"
     ]
    }
   ],
   "source": [
    "for key in student.keys():\n",
    "    print(key)"
   ]
  },
  {
   "cell_type": "markdown",
   "metadata": {},
   "source": [
    "### Only values:"
   ]
  },
  {
   "cell_type": "code",
   "execution_count": 34,
   "metadata": {},
   "outputs": [
    {
     "name": "stdout",
     "output_type": "stream",
     "text": [
      "John\n",
      "22\n",
      "[25, 26, 27]\n"
     ]
    }
   ],
   "source": [
    "for value in student.values():\n",
    "    print(value)"
   ]
  },
  {
   "cell_type": "markdown",
   "metadata": {},
   "source": [
    "### Both keys and values:"
   ]
  },
  {
   "cell_type": "code",
   "execution_count": 35,
   "metadata": {},
   "outputs": [
    {
     "name": "stdout",
     "output_type": "stream",
     "text": [
      "name John\n",
      "roll no 22\n",
      "marks [25, 26, 27]\n"
     ]
    }
   ],
   "source": [
    "for key,value in student.items():  # Tuple unpacking \n",
    "    print(key,value)"
   ]
  },
  {
   "cell_type": "code",
   "execution_count": 36,
   "metadata": {},
   "outputs": [
    {
     "data": {
      "text/plain": [
       "dict_items([('name', 'John'), ('roll no', 22), ('marks', [25, 26, 27])])"
      ]
     },
     "execution_count": 36,
     "metadata": {},
     "output_type": "execute_result"
    }
   ],
   "source": [
    "student.items()"
   ]
  },
  {
   "cell_type": "markdown",
   "metadata": {},
   "source": [
    "Here you can see that student.items() returns a lists of tuples containing key,value pairs.\n",
    "<br> Using tuple unpacking we could retrieve individual keys and values.\n",
    "<br> This is an important example of tuple unpacking."
   ]
  },
  {
   "cell_type": "markdown",
   "metadata": {},
   "source": [
    "<font color=red>### INSTRUCTION TO DO</font>\n",
    "\n",
    "Create a dictionary with key : \"Taj Mahal\", value : \"India\" and another key: \"Eiffel Tower\", value : \"France\".\n",
    "<br> Name it as monuments\n",
    "<br> Try all the three methods of iterating through a dictionary i.e by key, by value and by key and value both.\n",
    "<br> Add new cells if required and practice"
   ]
  },
  {
   "cell_type": "code",
   "execution_count": null,
   "metadata": {
    "collapsed": true
   },
   "outputs": [],
   "source": []
  },
  {
   "cell_type": "markdown",
   "metadata": {},
   "source": [
    "### Miscellaneous problem"
   ]
  },
  {
   "cell_type": "markdown",
   "metadata": {},
   "source": [
    "This will help you with your assignment.\n",
    "\n",
    "Find factorial of a number.\n",
    "<br> Factorial of a number n is 1*2*3*....* n.\n",
    "<br> eg. Factorial of 5 is 1×2×3×4×5 = 120"
   ]
  },
  {
   "cell_type": "code",
   "execution_count": 5,
   "metadata": {},
   "outputs": [
    {
     "name": "stdout",
     "output_type": "stream",
     "text": [
      "Factorial of 5 is 120\n"
     ]
    }
   ],
   "source": [
    "n = 5\n",
    "factorial = 1\n",
    "\n",
    "# range(1,6) will return [1,2,3,4,5]\n",
    "# factorial will multiply each consecutive number in each iteration and then store the result in itself.\n",
    "\n",
    "for i in range(1,n+1):\n",
    "    factorial *= i\n",
    "\n",
    "print(\"Factorial of %d is %d\"% (n,factorial))"
   ]
  },
  {
   "cell_type": "markdown",
   "metadata": {},
   "source": [
    "# While loop\n",
    "\n",
    "The while statement in Python is one of most general ways to perform iteration. A while statement will repeatedly execute a single statement or group of statements as long as the condition is true. The reason it is called a 'loop' is because the code statements are looped through over and over again until the condition is no longer met.\n",
    "\n",
    "But wait when to use a for loop and when to use while loop?\n",
    "\n",
    "Use for loop when you know when to terminate the loop. Like we knew when to terminate the loop in all the examples above.\n",
    "<br> Use while loop when you are not aware when the loop should terminate.\n",
    "<br> For eg. While its raining outside, stay indoors.\n",
    "<br> Programming based example would be : until the user keeps giving input don't terminate the loop.\n",
    "\n",
    "The while loop also has an else clause just like an if statement.\n",
    "<br> The else statement is executed after the condition in while loop becomes False. \n",
    "\n",
    "The general format of a while loop is:\n",
    "\n",
    "`\n",
    "while test:\n",
    "    code statement\n",
    "else:\n",
    "    final code statements\n",
    "`\n",
    "\n",
    "Lets have a look at the examples"
   ]
  },
  {
   "cell_type": "code",
   "execution_count": 49,
   "metadata": {},
   "outputs": [
    {
     "name": "stdout",
     "output_type": "stream",
     "text": [
      "x is : 0\n",
      " Adding 1 to x\n",
      "x is : 1\n",
      " Adding 1 to x\n",
      "x is : 2\n",
      " Adding 1 to x\n",
      "x is : 3\n",
      " Adding 1 to x\n",
      "x is : 4\n",
      " Adding 1 to x\n",
      "x is : 5\n",
      " Adding 1 to x\n",
      "x is : 6\n",
      " Adding 1 to x\n",
      "x is : 7\n",
      " Adding 1 to x\n",
      "x is : 8\n",
      " Adding 1 to x\n",
      "x is : 9\n",
      " Adding 1 to x\n"
     ]
    }
   ],
   "source": [
    "# Print all numbers less than 10\n",
    "\n",
    "x = 0\n",
    "\n",
    "while x < 10:  \n",
    "    \n",
    "    print('x is :',x)\n",
    "    print(' Adding 1 to x')\n",
    "    x+=1"
   ]
  },
  {
   "cell_type": "markdown",
   "metadata": {},
   "source": [
    "Here, the most important take away is that terminating condition is x == 10.\n",
    "\n",
    "Notice how many times the print statements occurred and how the while loop kept going until the True condition was met, which occurred once x==10. Its important to note that once this occurred the code stopped. \n",
    "<br>Lets see how we could add an else statement:\n",
    "\n"
   ]
  },
  {
   "cell_type": "code",
   "execution_count": 50,
   "metadata": {},
   "outputs": [
    {
     "name": "stdout",
     "output_type": "stream",
     "text": [
      "x is : 0\n",
      " Adding 1 to x\n",
      "x is : 1\n",
      " Adding 1 to x\n",
      "x is : 2\n",
      " Adding 1 to x\n",
      "x is : 3\n",
      " Adding 1 to x\n",
      "x is : 4\n",
      " Adding 1 to x\n",
      "x is : 5\n",
      " Adding 1 to x\n",
      "x is : 6\n",
      " Adding 1 to x\n",
      "x is : 7\n",
      " Adding 1 to x\n",
      "x is : 8\n",
      " Adding 1 to x\n",
      "x is : 9\n",
      " Adding 1 to x\n",
      "All 10 numbers are printed!\n"
     ]
    }
   ],
   "source": [
    "x = 0\n",
    "\n",
    "while x < 10:\n",
    "    print('x is :',x)\n",
    "    print(' Adding 1 to x')\n",
    "    x+=1\n",
    "else:\n",
    "    print('All 10 numbers are printed!')"
   ]
  },
  {
   "cell_type": "markdown",
   "metadata": {},
   "source": [
    "<font color=orange>### IMPORTANT NOTE </font>\n",
    "\n",
    "At times the programmer misses a case when the loop may not terminate and the loop runs infinitely.\n",
    "<br> Infinite loops are difficult to handle so please be careful about it.\n",
    "\n",
    "eg. \n",
    "\n",
    "`\n",
    "while True :\n",
    "    print(\"Don't do this\")\n",
    "`"
   ]
  },
  {
   "cell_type": "markdown",
   "metadata": {},
   "source": [
    "<font color=red>### INSTRUCTION TO DO</font>\n",
    "\n",
    "Print all the positive numbers that are less than 100.\n",
    "<br> After the loop terminates print \"All 100 numbers printed\"\n",
    "<br> Add new cells if required and practice\n"
   ]
  },
  {
   "cell_type": "code",
   "execution_count": null,
   "metadata": {
    "collapsed": true
   },
   "outputs": [],
   "source": []
  },
  {
   "cell_type": "markdown",
   "metadata": {},
   "source": [
    "# Break  and  continue statements"
   ]
  },
  {
   "cell_type": "markdown",
   "metadata": {},
   "source": [
    "Based on certain conditions we can decide whether to break, continue or pass through a loop.\n",
    "\n",
    "    break: Breaks out of the current closest enclosing loop, skipping all the statements after it.\n",
    "    continue: Goes to the top of the closest enclosing loop i.e goes to next iteration of the loop, skipping all statements               following it.\n",
    "    \n",
    "break and continue statements can appear anywhere inside the loop’s body, but it is logical to put them inside a conditional statement such as an if statement to perform an action based on some condition.\n",
    "\n",
    "You will get a clear idea when you look at the examples"
   ]
  },
  {
   "cell_type": "markdown",
   "metadata": {},
   "source": [
    "## Break statement"
   ]
  },
  {
   "cell_type": "markdown",
   "metadata": {},
   "source": [
    "1. Print all number from 1 to 10 but break the loop when x is equal to 3."
   ]
  },
  {
   "cell_type": "code",
   "execution_count": 55,
   "metadata": {},
   "outputs": [
    {
     "name": "stdout",
     "output_type": "stream",
     "text": [
      "x is : 0\n",
      " Adding 1 to x\n",
      "x is : 1\n",
      " Adding 1 to x\n",
      "x is : 2\n",
      " Adding 1 to x\n",
      "x==3\n"
     ]
    }
   ],
   "source": [
    "x = 0\n",
    "\n",
    "while x < 10:\n",
    "    print('x is :',x)\n",
    "    print(' Adding 1 to x')\n",
    "    x+=1\n",
    "    if x ==3:\n",
    "        print('x==3')\n",
    "        break"
   ]
  },
  {
   "cell_type": "markdown",
   "metadata": {},
   "source": [
    "2 User should enter any number between 1 to 10 and when the user enters 5, we will print \"Got you!\""
   ]
  },
  {
   "cell_type": "code",
   "execution_count": 3,
   "metadata": {},
   "outputs": [
    {
     "name": "stdout",
     "output_type": "stream",
     "text": [
      "Enter any number between 1 to 10   5\n",
      "Go low\n",
      "Enter any number between 1 to 10   6\n",
      "Go low\n",
      "Enter any number between 1 to 10   3\n",
      "Go low\n",
      "Enter any number between 1 to 10   2\n",
      "Go low\n",
      "Enter any number between 1 to 10   1\n",
      "Go low\n",
      "Enter any number between 1 to 10   0\n",
      "Got you!!\n",
      "The number was 0\n"
     ]
    }
   ],
   "source": [
    "from random import randint\n",
    "n = randint(1, 10)\n",
    "\n",
    "while True:\n",
    "    \n",
    "    a = int(input(\"Enter any number between 1 to 10   \"))\n",
    "    if a == n:\n",
    "        print(\"Got you!!\")\n",
    "        print(\"The number was %d\"%n)\n",
    "        break\n",
    "    elif a>n:\n",
    "        print(\"Go low\")\n",
    "    else:\n",
    "        print(\"Go high\")"
   ]
  },
  {
   "cell_type": "markdown",
   "metadata": {},
   "source": [
    "<font color=orange>### IMPORTANT NOTE </font>\n",
    "<br> We have used break to break the while loop otherwise the loop will keep running infinitely. \n",
    "<br> Programmers have been known to hang machines by inadvertently leaving the while loop in an infinite condition.  "
   ]
  },
  {
   "cell_type": "markdown",
   "metadata": {},
   "source": [
    "## Continue statement"
   ]
  },
  {
   "cell_type": "markdown",
   "metadata": {},
   "source": [
    "2. Iterate from 1 to 10 and print \"hi\" and the number if the number is even else don't print anything."
   ]
  },
  {
   "cell_type": "code",
   "execution_count": 4,
   "metadata": {},
   "outputs": [
    {
     "name": "stdout",
     "output_type": "stream",
     "text": [
      "I am an even number 2\n",
      "I am an even number 4\n",
      "I am an even number 6\n",
      "I am an even number 8\n",
      "I am an even number 10\n"
     ]
    }
   ],
   "source": [
    "for i in range(1,11):\n",
    "    if i % 2 != 0:\n",
    "        continue    \n",
    "    print(\"I am an even number\",i)"
   ]
  },
  {
   "cell_type": "markdown",
   "metadata": {},
   "source": [
    "Here when the number is odd the if condition becomes true and continue is executed and thus following statements are skipped.\n"
   ]
  },
  {
   "cell_type": "markdown",
   "metadata": {},
   "source": [
    "<font color=red>### INSTRUCTION TO DO</font>\n",
    "\n",
    "Run any loop from from 1 to 10 but don't print 5. And break the loop on 8.\n",
    "<br> This problem doesn't seem practical but later you will use it in real life situation.\n",
    "<br> Add new cells if required and practice\n"
   ]
  },
  {
   "cell_type": "code",
   "execution_count": null,
   "metadata": {
    "collapsed": true
   },
   "outputs": [],
   "source": []
  },
  {
   "cell_type": "markdown",
   "metadata": {},
   "source": [
    "# Summary\n",
    "\n",
    "You learnt about :\n",
    "\n",
    "1. if and else statement\n",
    "2. for loop\n",
    "3. The range() function\n",
    "4. break and continue statements\n",
    "\n",
    "Now that you have learnt about conditionals and control flow.\n",
    "<br>Lets get to hands on practice by solving the assignment.\n",
    "\n",
    "**All the best!!**"
   ]
  }
 ],
 "metadata": {
  "kernelspec": {
   "display_name": "Python 3",
   "language": "python",
   "name": "python3"
  },
  "language_info": {
   "codemirror_mode": {
    "name": "ipython",
    "version": 3
   },
   "file_extension": ".py",
   "mimetype": "text/x-python",
   "name": "python",
   "nbconvert_exporter": "python",
   "pygments_lexer": "ipython3",
   "version": "3.6.1"
  }
 },
 "nbformat": 4,
 "nbformat_minor": 2
}
