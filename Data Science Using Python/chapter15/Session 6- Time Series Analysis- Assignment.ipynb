{
 "cells": [
  {
   "cell_type": "markdown",
   "metadata": {},
   "source": [
    "<img src=\"http://www.digitalvidya.com/wp-content/uploads/2013/05/logoa5-300x95.png\">"
   ]
  },
  {
   "cell_type": "markdown",
   "metadata": {},
   "source": [
    "## Data Analysis using Python Assignment Week 6 \n",
    "### Digital Vidya Copyright"
   ]
  },
  {
   "cell_type": "markdown",
   "metadata": {},
   "source": [
    "We get NSE stocks data using package nsepy. You will have to first install nsepy using the command pip install nsepy. \n",
    "\n",
    "Use function get_history, it fetches the price history of stocks/indices/derivatives and returns a pandas dataframe.\n",
    "\n",
    "We are going to use data of 'INFY', 'HDFC', 'RELIANCE', 'WIPRO' \n",
    "\n",
    "We have created the dataframe hdfc for you using symbol = 'HDFC', create other dataframes using symbols given above.\n",
    "\n",
    "Once we get the data, we will do some aggregations using pandas functions and datetime functionalities."
   ]
  },
  {
   "cell_type": "code",
   "execution_count": 2,
   "metadata": {},
   "outputs": [
    {
     "data": {
      "text/html": [
       "<div>\n",
       "<style scoped>\n",
       "    .dataframe tbody tr th:only-of-type {\n",
       "        vertical-align: middle;\n",
       "    }\n",
       "\n",
       "    .dataframe tbody tr th {\n",
       "        vertical-align: top;\n",
       "    }\n",
       "\n",
       "    .dataframe thead th {\n",
       "        text-align: right;\n",
       "    }\n",
       "</style>\n",
       "<table border=\"1\" class=\"dataframe\">\n",
       "  <thead>\n",
       "    <tr style=\"text-align: right;\">\n",
       "      <th></th>\n",
       "      <th>Symbol</th>\n",
       "      <th>Series</th>\n",
       "      <th>Prev Close</th>\n",
       "      <th>Open</th>\n",
       "      <th>High</th>\n",
       "      <th>Low</th>\n",
       "      <th>Last</th>\n",
       "      <th>Close</th>\n",
       "      <th>VWAP</th>\n",
       "      <th>Volume</th>\n",
       "      <th>Turnover</th>\n",
       "      <th>Trades</th>\n",
       "      <th>Deliverable Volume</th>\n",
       "      <th>%Deliverble</th>\n",
       "    </tr>\n",
       "    <tr>\n",
       "      <th>Date</th>\n",
       "      <th></th>\n",
       "      <th></th>\n",
       "      <th></th>\n",
       "      <th></th>\n",
       "      <th></th>\n",
       "      <th></th>\n",
       "      <th></th>\n",
       "      <th></th>\n",
       "      <th></th>\n",
       "      <th></th>\n",
       "      <th></th>\n",
       "      <th></th>\n",
       "      <th></th>\n",
       "      <th></th>\n",
       "    </tr>\n",
       "  </thead>\n",
       "  <tbody>\n",
       "    <tr>\n",
       "      <th>2015-01-01</th>\n",
       "      <td>HDFC</td>\n",
       "      <td>EQ</td>\n",
       "      <td>1135.90</td>\n",
       "      <td>1130.0</td>\n",
       "      <td>1131.15</td>\n",
       "      <td>1120.10</td>\n",
       "      <td>1125.90</td>\n",
       "      <td>1124.00</td>\n",
       "      <td>1124.23</td>\n",
       "      <td>401576</td>\n",
       "      <td>4.514650e+13</td>\n",
       "      <td>11804</td>\n",
       "      <td>128793</td>\n",
       "      <td>0.3207</td>\n",
       "    </tr>\n",
       "    <tr>\n",
       "      <th>2015-01-02</th>\n",
       "      <td>HDFC</td>\n",
       "      <td>EQ</td>\n",
       "      <td>1124.00</td>\n",
       "      <td>1127.3</td>\n",
       "      <td>1176.95</td>\n",
       "      <td>1125.35</td>\n",
       "      <td>1171.05</td>\n",
       "      <td>1171.90</td>\n",
       "      <td>1159.93</td>\n",
       "      <td>2019816</td>\n",
       "      <td>2.342845e+14</td>\n",
       "      <td>59071</td>\n",
       "      <td>1258847</td>\n",
       "      <td>0.6232</td>\n",
       "    </tr>\n",
       "    <tr>\n",
       "      <th>2015-01-05</th>\n",
       "      <td>HDFC</td>\n",
       "      <td>EQ</td>\n",
       "      <td>1171.90</td>\n",
       "      <td>1168.8</td>\n",
       "      <td>1175.00</td>\n",
       "      <td>1150.40</td>\n",
       "      <td>1154.95</td>\n",
       "      <td>1156.40</td>\n",
       "      <td>1159.24</td>\n",
       "      <td>2219458</td>\n",
       "      <td>2.572880e+14</td>\n",
       "      <td>57749</td>\n",
       "      <td>1414720</td>\n",
       "      <td>0.6374</td>\n",
       "    </tr>\n",
       "    <tr>\n",
       "      <th>2015-01-06</th>\n",
       "      <td>HDFC</td>\n",
       "      <td>EQ</td>\n",
       "      <td>1156.40</td>\n",
       "      <td>1148.6</td>\n",
       "      <td>1148.60</td>\n",
       "      <td>1096.10</td>\n",
       "      <td>1098.00</td>\n",
       "      <td>1101.95</td>\n",
       "      <td>1117.84</td>\n",
       "      <td>2531748</td>\n",
       "      <td>2.830100e+14</td>\n",
       "      <td>81436</td>\n",
       "      <td>1547523</td>\n",
       "      <td>0.6112</td>\n",
       "    </tr>\n",
       "    <tr>\n",
       "      <th>2015-01-07</th>\n",
       "      <td>HDFC</td>\n",
       "      <td>EQ</td>\n",
       "      <td>1101.95</td>\n",
       "      <td>1097.5</td>\n",
       "      <td>1114.15</td>\n",
       "      <td>1095.00</td>\n",
       "      <td>1097.65</td>\n",
       "      <td>1099.25</td>\n",
       "      <td>1105.58</td>\n",
       "      <td>2406880</td>\n",
       "      <td>2.660992e+14</td>\n",
       "      <td>133109</td>\n",
       "      <td>1533304</td>\n",
       "      <td>0.6371</td>\n",
       "    </tr>\n",
       "  </tbody>\n",
       "</table>\n",
       "</div>"
      ],
      "text/plain": [
       "           Symbol Series  Prev Close    Open     High      Low     Last  \\\n",
       "Date                                                                      \n",
       "2015-01-01   HDFC     EQ     1135.90  1130.0  1131.15  1120.10  1125.90   \n",
       "2015-01-02   HDFC     EQ     1124.00  1127.3  1176.95  1125.35  1171.05   \n",
       "2015-01-05   HDFC     EQ     1171.90  1168.8  1175.00  1150.40  1154.95   \n",
       "2015-01-06   HDFC     EQ     1156.40  1148.6  1148.60  1096.10  1098.00   \n",
       "2015-01-07   HDFC     EQ     1101.95  1097.5  1114.15  1095.00  1097.65   \n",
       "\n",
       "              Close     VWAP   Volume      Turnover  Trades  \\\n",
       "Date                                                          \n",
       "2015-01-01  1124.00  1124.23   401576  4.514650e+13   11804   \n",
       "2015-01-02  1171.90  1159.93  2019816  2.342845e+14   59071   \n",
       "2015-01-05  1156.40  1159.24  2219458  2.572880e+14   57749   \n",
       "2015-01-06  1101.95  1117.84  2531748  2.830100e+14   81436   \n",
       "2015-01-07  1099.25  1105.58  2406880  2.660992e+14  133109   \n",
       "\n",
       "            Deliverable Volume  %Deliverble  \n",
       "Date                                         \n",
       "2015-01-01              128793       0.3207  \n",
       "2015-01-02             1258847       0.6232  \n",
       "2015-01-05             1414720       0.6374  \n",
       "2015-01-06             1547523       0.6112  \n",
       "2015-01-07             1533304       0.6371  "
      ]
     },
     "execution_count": 2,
     "metadata": {},
     "output_type": "execute_result"
    }
   ],
   "source": [
    "import pandas as pd\n",
    "import numpy as np\n",
    "from nsepy import get_history\n",
    "import datetime as dt\n",
    "\n",
    "start = dt.datetime(2015, 1, 1)\n",
    "\n",
    "end = dt.datetime.today()\n",
    "\n",
    "hdfc = get_history(symbol='HDFC', start = start, end = end)\n",
    "hdfc.index = pd.to_datetime(hdfc.index)\n",
    "hdfc.head()"
   ]
  },
  {
   "cell_type": "markdown",
   "metadata": {},
   "source": [
    "#### 1. In hdfc, drop all the columns except Open, High, Low and Close. Call the new df hdfc_ohlc"
   ]
  },
  {
   "cell_type": "markdown",
   "metadata": {},
   "source": [
    "#### 2. Use the dataframe hdfc_ohlc created in qn 1 to create hdfc_mean with mean prices every year. "
   ]
  },
  {
   "cell_type": "markdown",
   "metadata": {
    "collapsed": true
   },
   "source": [
    "#### 3. Group the hdfc_ohlc to get the mean prices per week per year. The resulting dataframe hdfc_weekly should have mean price data for week 1 to 52 for years 2015, 2016 and 2017. \n",
    "\n",
    "Hint: You may have to groupby open_prices.index.week and open_prices.index.year to ensure that you get data per week per year."
   ]
  },
  {
   "cell_type": "markdown",
   "metadata": {},
   "source": [
    "#### 4. Create a dataframe infy and find total volumn by month, save it in infy_volume. Infy_volume should be a multi-index series with tow levels of index - Year and Month."
   ]
  },
  {
   "cell_type": "markdown",
   "metadata": {},
   "source": [
    "#### 5. Create a series infy_pctchange from the infy_volume dataframe created in qn 4. It should have two levels of index, Year and Month and the value should be % change in volume compared to the previous row."
   ]
  },
  {
   "cell_type": "markdown",
   "metadata": {},
   "source": [
    "#### 6. Create dataframe reliance, keep only columns PrevClose and Close and create a column diff which would be the difference between Close and PrevClose\n"
   ]
  },
  {
   "cell_type": "markdown",
   "metadata": {},
   "source": [
    "#### 6. Create dataframe wipro and keep columns Open, High, Low, Close. Now find minimum close price each month by year."
   ]
  },
  {
   "cell_type": "markdown",
   "metadata": {},
   "source": [
    "#### 7. For wipro, find the number of days the close price was greater than open price"
   ]
  },
  {
   "cell_type": "markdown",
   "metadata": {},
   "source": [
    "#### 8. Find the date in which wipro close price was maximum. "
   ]
  },
  {
   "cell_type": "markdown",
   "metadata": {},
   "source": [
    "#### 9. Find dates when wipro close price was max year, what was the price? \n",
    "Hint: Read about idxmax"
   ]
  }
 ],
 "metadata": {
  "kernelspec": {
   "display_name": "Python 3",
   "language": "python",
   "name": "python3"
  },
  "language_info": {
   "codemirror_mode": {
    "name": "ipython",
    "version": 3
   },
   "file_extension": ".py",
   "mimetype": "text/x-python",
   "name": "python",
   "nbconvert_exporter": "python",
   "pygments_lexer": "ipython3",
   "version": "3.6.4"
  }
 },
 "nbformat": 4,
 "nbformat_minor": 2
}
