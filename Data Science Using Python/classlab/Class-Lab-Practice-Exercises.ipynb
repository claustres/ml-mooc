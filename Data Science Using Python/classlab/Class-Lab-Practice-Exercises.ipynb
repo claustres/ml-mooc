{
 "cells": [
  {
   "cell_type": "markdown",
   "metadata": {},
   "source": [
    "### Using Jupyter Notebook:\n"
   ]
  },
  {
   "cell_type": "markdown",
   "metadata": {},
   "source": [
    "Execute cell: \n",
    "\n",
    "    Click Run or using Shift + Enter"
   ]
  },
  {
   "cell_type": "markdown",
   "metadata": {},
   "source": [
    "Print: \n",
    "\n",
    "    No need of print statement if printing single output per cell. For printing multiple outputs, use print()"
   ]
  },
  {
   "cell_type": "markdown",
   "metadata": {},
   "source": [
    "Tab-completion:\n",
    "\n",
    "    Find the available functions for a variable of a certain type - varname.<tab>\n",
    "    Find the available functions in a library - libraryname.<tab> \n",
    "    Long variable names - partial_varname.<tab>\n"
   ]
  },
  {
   "cell_type": "markdown",
   "metadata": {},
   "source": [
    "## Python\n",
    "\n",
    "### Numbers"
   ]
  },
  {
   "cell_type": "code",
   "execution_count": null,
   "metadata": {
    "collapsed": true
   },
   "outputs": [],
   "source": [
    "# 1. Find 8 to the power 4 using mathmatical operator\n",
    "# 2. What would be the remainder if you divide 51 by 6?\n",
    "# 3. Divide 51 by 4, return only the whole number not the decimal (do not round)"
   ]
  },
  {
   "cell_type": "markdown",
   "metadata": {},
   "source": [
    "### String"
   ]
  },
  {
   "cell_type": "code",
   "execution_count": null,
   "metadata": {
    "collapsed": true
   },
   "outputs": [],
   "source": [
    "# 4. Given the string s below, print only r (which is in word string)\n",
    "s = 'This is a string' \n",
    "# 5. Print only the word string.\n",
    "# 6. Convert the string to uppercase, save to variable s_upper.\n",
    "# 7. Find if all the letters of s and s_upper are capital or not.\n",
    "# 8. Combine the following strings to return United States of America\n",
    "s1 = 'United'\n",
    "s2 = 'States'\n",
    "s3 = 'of'\n",
    "s4 = 'America'\n",
    "# 9. Split the string s to return a list with length 4, save it in variable l.\n",
    "s = 'This is a string'\n",
    "# 10. In string s_new, replace doc with document\n",
    "s_new = 'This doc has a lot of pages but the entire doc has short for the word doc, lets change that to document'\n",
    "# 11. In s_new, find the index at which words 'This' and 'that' appear.\n",
    "# 12. Find the number of times word This' and 'has' appear in s_new.\n"
   ]
  },
  {
   "cell_type": "markdown",
   "metadata": {},
   "source": [
    "### List"
   ]
  },
  {
   "cell_type": "code",
   "execution_count": null,
   "metadata": {
    "collapsed": true
   },
   "outputs": [],
   "source": [
    "# 13. return a string separated by space containing all the elements of the following list\n",
    "l = ['One','Two','Three']\n",
    "# 14. Add word'four' to the list l at the end of the list.\n",
    "# 15. Add 'Zero', at the beginning of the list.\n",
    "# 16. Sort the above list in descending order."
   ]
  },
  {
   "cell_type": "markdown",
   "metadata": {},
   "source": [
    "### Dictionary"
   ]
  },
  {
   "cell_type": "code",
   "execution_count": null,
   "metadata": {
    "collapsed": true
   },
   "outputs": [],
   "source": [
    "# 17. Create a dictionary with numbers 1,2,3,4 as key and 'one', 'two', 'three', 'four' as corresponding values.\n",
    "# 18. Sort the above dictionary on values.\n",
    "# 19. Add a key 5 with value 'Five'.\n",
    "# 20. Save the values to a list."
   ]
  },
  {
   "cell_type": "markdown",
   "metadata": {},
   "source": [
    "### Tuples"
   ]
  },
  {
   "cell_type": "code",
   "execution_count": null,
   "metadata": {
    "collapsed": true
   },
   "outputs": [],
   "source": [
    "# 21. Create a list of tuples from the following lists using loop.\n",
    "l1 = [3,5,2,1,6]\n",
    "l2 = ['a', 'b', 'c', 'd', 'e']\n",
    "l3 = [0.1, 0.2, 0.3, 0.4, 0.5]\n",
    "# 22.Create a list of tuples from the following lists using zip()\n",
    "l1 = [3,5,2,1,6]\n",
    "l2 = ['a', 'b', 'c', 'd', 'e']\n",
    "l3 = [0.1, 0.2, 0.3, 0.4, 0.5]"
   ]
  },
  {
   "cell_type": "markdown",
   "metadata": {},
   "source": [
    "### Set"
   ]
  },
  {
   "cell_type": "code",
   "execution_count": null,
   "metadata": {
    "collapsed": true
   },
   "outputs": [],
   "source": [
    "# 23. Find number of unique elements in the list below\n",
    "l = [7,56,4,23,7,9,6,56,7,6,7,9,12,3]"
   ]
  },
  {
   "cell_type": "markdown",
   "metadata": {},
   "source": [
    "### For Loop"
   ]
  },
  {
   "cell_type": "code",
   "execution_count": null,
   "metadata": {
    "collapsed": true
   },
   "outputs": [],
   "source": [
    "# 24. For the list l, print 'Big' if the number is greater than 10, 'Small' otherwise.\n",
    "l = [7,15,4,23,7,9,6,56,7,6,17,9,12,3]\n",
    "# 25. For the list l given above, print 'Big' if the number is greater or equal to 20, \n",
    "#    'medium' if it greater than or equal to 10 but less than 20,\n",
    "#    'Small' if it is less than 10.\n",
    "# 26. For the list given below, If number is smaller than next previous, multiply it by 5 and append to new list. \n",
    "#    The new list should be [20, 5] \n",
    "l = [2,6,4,9,1]"
   ]
  },
  {
   "cell_type": "markdown",
   "metadata": {},
   "source": [
    "### Functions"
   ]
  },
  {
   "cell_type": "code",
   "execution_count": null,
   "metadata": {
    "collapsed": true
   },
   "outputs": [],
   "source": [
    "# 27. Define a function that takes a list as an argument and returns the maximum number from that list\n",
    "\n",
    "# 28. Define a function that takes temperature in celcius and returns temp in Fahrenheit. f = c*9/5 + 32\n",
    "# assert ctof(32) == 89.6\n",
    "# assert ctof(0) == 32.0\n",
    "\n",
    "# 29. Modify the above function ctof such that it takes two parameters, temperature and unit of measurement \n",
    "#    (celcius or Fahrenheit) and convert it accordingly. If user inputs c, return Temperature in Fahrenheit and vice versa. \n",
    "#   Round the resulting value to 2 decimals.\n",
    "# f = (c * 9/5) + 32\n",
    "# c = (f - 32) * (5/9)\n",
    "# assert temp_converter(100, 'c') == 212 Fahrenheit\n",
    "# assert temp_converter(100, 'f') == 37.77 Celcius\n",
    "\n",
    "#30.  Write a function to check if an integer is within a pair of positive integers in a tuple.\n",
    "#assert check_between((5,10), 6) is True\n",
    "#assert check_between((25,20), 21) is True\n",
    "#assert check_between((11,15), 9) is False\n",
    "\n",
    "#31. Define a function that takes a string and returns number of upper case and lower case letters\n",
    "# assert count_case('AbracaDaBra') == 'Upper Case: 3, Lower Case: 8'\n",
    "# assert count_case('ALLCAPS') == 'Upper Case: 7, Lower Case: 0'\n",
    "# assert count_case('Digital Vidya') == 'Upper Case: 2, Lower Case: 11'\n",
    "\n",
    "#32. Define a function that takes list as an argument and returns the sorted list.\n",
    "# assert my_sort([5,7,3,4,9,1]) == [1, 3, 4, 5, 7, 9]\n",
    "\n",
    "# 33. Define a function that takes list as an argument and returns the reversed list. \n",
    "# Reverse should work in place, do not create a new list. Don't use reverse() or ::-1\n",
    "# assert my_reverse([5,7,3,4,9,1]) == [1,9,4,3,7,5]\n",
    "# assert my_reverse([5,8,9,0,2]) == [2, 0, 9, 8, 5]\n",
    "\n",
    "# 34. Define a function that takes a string as an argument and returns True if it is a palindrome, False otherwise. Ignore case.\n",
    "# assert check_palindrome('civic') is True\n",
    "# assert check_palindrome('bababa')is False\n",
    "# assert check_palindrome('malayalam') is True\n",
    "# assert check_palindrome('aabcaa') is False\n",
    "# assert check_palindrome('Avid diva') is True\n",
    "# assert check_palindrome('abcba') is True\n",
    "# assert check_palindrome('abcd dcba') is True\n",
    "\n",
    "# 35. Write a function fibonacci that takes the number of elements as argument and prints the series. First two elements should be 0 and 1.\n",
    "# assert fibonacci(12) == [0, 1, 1, 2, 3, 5, 8, 13, 21, 34, 55, 89]\n",
    "\n"
   ]
  },
  {
   "cell_type": "markdown",
   "metadata": {},
   "source": [
    "### Answers"
   ]
  },
  {
   "cell_type": "code",
   "execution_count": 263,
   "metadata": {},
   "outputs": [
    {
     "data": {
      "text/plain": [
       "4096"
      ]
     },
     "execution_count": 263,
     "metadata": {},
     "output_type": "execute_result"
    }
   ],
   "source": [
    "#1. Find 8 to the power 4 using mathmatical operator\n",
    "\n",
    "8**4"
   ]
  },
  {
   "cell_type": "code",
   "execution_count": 264,
   "metadata": {},
   "outputs": [
    {
     "data": {
      "text/plain": [
       "3"
      ]
     },
     "execution_count": 264,
     "metadata": {},
     "output_type": "execute_result"
    }
   ],
   "source": [
    "#2. What would be the remainder if you divide 51 by 6?\n",
    "51 % 6"
   ]
  },
  {
   "cell_type": "code",
   "execution_count": 265,
   "metadata": {},
   "outputs": [
    {
     "data": {
      "text/plain": [
       "12"
      ]
     },
     "execution_count": 265,
     "metadata": {},
     "output_type": "execute_result"
    }
   ],
   "source": [
    "#3. Divide 51 by 4, return only the whole number not the decimal (do not round)\n",
    "51//4"
   ]
  },
  {
   "cell_type": "code",
   "execution_count": 266,
   "metadata": {},
   "outputs": [
    {
     "data": {
      "text/plain": [
       "'r'"
      ]
     },
     "execution_count": 266,
     "metadata": {},
     "output_type": "execute_result"
    }
   ],
   "source": [
    "#4. Given the string s below, print only r (which is in word string)\n",
    "s = 'This is a string' \n",
    "s[-4]\n",
    "s[12]"
   ]
  },
  {
   "cell_type": "code",
   "execution_count": 267,
   "metadata": {},
   "outputs": [
    {
     "data": {
      "text/plain": [
       "'string'"
      ]
     },
     "execution_count": 267,
     "metadata": {},
     "output_type": "execute_result"
    }
   ],
   "source": [
    "#5. Print only the word string\n",
    "s[10:]"
   ]
  },
  {
   "cell_type": "code",
   "execution_count": 271,
   "metadata": {
    "collapsed": true
   },
   "outputs": [],
   "source": [
    "#6. Convert the string to uppercase, save to variable s_upper\n",
    "s_upper = s.upper()"
   ]
  },
  {
   "cell_type": "code",
   "execution_count": 272,
   "metadata": {},
   "outputs": [
    {
     "data": {
      "text/plain": [
       "(False, True)"
      ]
     },
     "execution_count": 272,
     "metadata": {},
     "output_type": "execute_result"
    }
   ],
   "source": [
    "#7. Find if all the letters of s and s_upper are capital or not\n",
    "s.isupper(), s_upper.isupper()"
   ]
  },
  {
   "cell_type": "code",
   "execution_count": 273,
   "metadata": {},
   "outputs": [
    {
     "data": {
      "text/plain": [
       "'United States of America'"
      ]
     },
     "execution_count": 273,
     "metadata": {},
     "output_type": "execute_result"
    }
   ],
   "source": [
    "#8. Combine the following strings to return United States of America\n",
    "\n",
    "s1 = 'United'\n",
    "s2 = 'States'\n",
    "s3 = 'of'\n",
    "s4 = 'America'\n",
    "\n",
    "s1 + ' ' + s2 + ' '+s3+' '+s4"
   ]
  },
  {
   "cell_type": "code",
   "execution_count": 274,
   "metadata": {},
   "outputs": [
    {
     "data": {
      "text/plain": [
       "['This', 'is', 'a', 'string']"
      ]
     },
     "execution_count": 274,
     "metadata": {},
     "output_type": "execute_result"
    }
   ],
   "source": [
    "#9. Split the string s to return a list with length 4, save it in variable l.\n",
    "s = 'This is a string'\n",
    "l = s.split()\n",
    "l"
   ]
  },
  {
   "cell_type": "code",
   "execution_count": 349,
   "metadata": {},
   "outputs": [
    {
     "data": {
      "text/plain": [
       "'This doc has a lot of pages but the entire doc has short for the word doc, lets change that to document'"
      ]
     },
     "execution_count": 349,
     "metadata": {},
     "output_type": "execute_result"
    }
   ],
   "source": [
    "#10. In string s_new, replace doc with document\n",
    "s_new = 'This doc has a lot of pages but the entire doc has short for the word doc, lets change that to document'\n",
    "s1 = s_new.replace('doc', 'document')"
   ]
  },
  {
   "cell_type": "code",
   "execution_count": 361,
   "metadata": {},
   "outputs": [
    {
     "data": {
      "text/plain": [
       "(0, 102)"
      ]
     },
     "execution_count": 361,
     "metadata": {},
     "output_type": "execute_result"
    }
   ],
   "source": [
    "#11. Find the index at which words 'This' and 'that' appear\n",
    "s1.find('This'), s1.find('that')"
   ]
  },
  {
   "cell_type": "code",
   "execution_count": 359,
   "metadata": {},
   "outputs": [
    {
     "data": {
      "text/plain": [
       "(1, 2)"
      ]
     },
     "execution_count": 359,
     "metadata": {},
     "output_type": "execute_result"
    }
   ],
   "source": [
    "#12. Find the number of times word This' and 'has' appear in s_new.\n",
    "s1.count('This'), s1.count('has')"
   ]
  },
  {
   "cell_type": "code",
   "execution_count": 371,
   "metadata": {},
   "outputs": [
    {
     "data": {
      "text/plain": [
       "'One Two Three'"
      ]
     },
     "execution_count": 371,
     "metadata": {},
     "output_type": "execute_result"
    }
   ],
   "source": [
    "#13. return a string separated by space containing all the elements of the following list\n",
    "l = ['One','Two','Three']\n",
    "' '.join(l)"
   ]
  },
  {
   "cell_type": "code",
   "execution_count": 372,
   "metadata": {},
   "outputs": [
    {
     "data": {
      "text/plain": [
       "['One', 'Two', 'Three', 'Four']"
      ]
     },
     "execution_count": 372,
     "metadata": {},
     "output_type": "execute_result"
    }
   ],
   "source": [
    "#14. Add word'four' to the list l\n",
    "l.append('Four')\n",
    "l"
   ]
  },
  {
   "cell_type": "code",
   "execution_count": 373,
   "metadata": {},
   "outputs": [
    {
     "data": {
      "text/plain": [
       "['Zero', 'One', 'Two', 'Three', 'Four']"
      ]
     },
     "execution_count": 373,
     "metadata": {},
     "output_type": "execute_result"
    }
   ],
   "source": [
    "#15. Add 'Zero', at the beginning of the list\n",
    "l.insert(0, 'Zero')\n",
    "l"
   ]
  },
  {
   "cell_type": "code",
   "execution_count": 374,
   "metadata": {},
   "outputs": [
    {
     "data": {
      "text/plain": [
       "['Zero', 'Two', 'Three', 'One', 'Four']"
      ]
     },
     "execution_count": 374,
     "metadata": {},
     "output_type": "execute_result"
    }
   ],
   "source": [
    "#16. Sort the above list in descending order\n",
    "l.sort(reverse = True)\n",
    "l"
   ]
  },
  {
   "cell_type": "code",
   "execution_count": 12,
   "metadata": {},
   "outputs": [
    {
     "data": {
      "text/plain": [
       "{1: 'one', 2: 'two', 3: 'three', 4: 'four'}"
      ]
     },
     "execution_count": 12,
     "metadata": {},
     "output_type": "execute_result"
    }
   ],
   "source": [
    "#17. Create a dictionary with numbers 1,2,3,4 as key and 'one', 'two', 'three', 'four' as corresponding values.\n",
    "d = {1: 'one', 2: 'two', 3: 'three', 4: 'four'}\n",
    "d"
   ]
  },
  {
   "cell_type": "code",
   "execution_count": 1,
   "metadata": {
    "collapsed": true
   },
   "outputs": [],
   "source": [
    "#18. Sort the above dictionary on values\n",
    "#Dictionary is an unordered set of key-value pairs and CAN NOT be sorted"
   ]
  },
  {
   "cell_type": "code",
   "execution_count": 57,
   "metadata": {},
   "outputs": [
    {
     "data": {
      "text/plain": [
       "{1: 'one', 2: 'two', 3: 'three', 4: 'four', 5: 'five'}"
      ]
     },
     "execution_count": 57,
     "metadata": {},
     "output_type": "execute_result"
    }
   ],
   "source": [
    "#19. Add a key 5 with value 'Five'\n",
    "d[5] = 'five'\n",
    "d"
   ]
  },
  {
   "cell_type": "code",
   "execution_count": 16,
   "metadata": {},
   "outputs": [
    {
     "data": {
      "text/plain": [
       "['one', 'two', 'three', 'four', 'five']"
      ]
     },
     "execution_count": 16,
     "metadata": {},
     "output_type": "execute_result"
    }
   ],
   "source": [
    "#20. Save the values to a list\n",
    "d.values() # Python 2, d.values() returns a list, python 3, it returns a view of the values\n",
    "l = list(d.values())\n",
    "l"
   ]
  },
  {
   "cell_type": "code",
   "execution_count": 52,
   "metadata": {
    "collapsed": true
   },
   "outputs": [],
   "source": [
    "#21. Create a list of tuples from the following lists using loop.\n",
    "l1 = [3,5,2,1,6]\n",
    "l2 = ['a', 'b', 'c', 'd', 'e']\n",
    "l3 = [0.1, 0.2, 0.3, 0.4, 0.5]\n",
    "\n",
    "l4 = []\n",
    "for index in range(len(l1)): #indices 0 to 4\n",
    "    l4.append( (l1[index], l2[index], l3[index]) ) #First iteration - (l1[0], l2[0], l3[0])\n",
    "    \n",
    "l4"
   ]
  },
  {
   "cell_type": "code",
   "execution_count": 26,
   "metadata": {},
   "outputs": [
    {
     "data": {
      "text/plain": [
       "[(1, 'one', 5), (2, 'two', 4), (3, 'three', 3), (4, 'four', 2), (5, 'five', 1)]"
      ]
     },
     "execution_count": 26,
     "metadata": {},
     "output_type": "execute_result"
    }
   ],
   "source": [
    "#22.Create a list of tuples from the following lists using zip()\n",
    "l1 = [3,5,2,1,6]\n",
    "l2 = ['a', 'b', 'c', 'd', 'e']\n",
    "l3 = [0.1, 0.2, 0.3, 0.4, 0.5]\n",
    "list(zip(l1,l2,l3))"
   ]
  },
  {
   "cell_type": "code",
   "execution_count": 2,
   "metadata": {},
   "outputs": [
    {
     "data": {
      "text/plain": [
       "8"
      ]
     },
     "execution_count": 2,
     "metadata": {},
     "output_type": "execute_result"
    }
   ],
   "source": [
    "#23. Find number of unique elements in the list below\n",
    "l = [7,56,4,23,7,9,6,56,7,6,7,9,12,3]\n",
    "len(set(l))"
   ]
  },
  {
   "cell_type": "code",
   "execution_count": 84,
   "metadata": {},
   "outputs": [
    {
     "name": "stdout",
     "output_type": "stream",
     "text": [
      "small\n",
      "Big\n",
      "small\n",
      "Big\n",
      "small\n",
      "small\n",
      "small\n",
      "Big\n",
      "small\n",
      "small\n",
      "Big\n",
      "small\n",
      "Big\n",
      "small\n"
     ]
    }
   ],
   "source": [
    "#24. For the list l, print 'Big' if the number is greater than 10, 'Small' otherwise.\n",
    "l = [7,15,4,23,7,9,6,56,7,6,17,9,12,3]\n",
    "for x in l: \n",
    "    if(x > 10): \n",
    "        print(\"Big\") \n",
    "    else: \n",
    "        print(\"small\")"
   ]
  },
  {
   "cell_type": "code",
   "execution_count": 85,
   "metadata": {},
   "outputs": [
    {
     "name": "stdout",
     "output_type": "stream",
     "text": [
      "Small\n",
      "Medium\n",
      "Small\n",
      "Big\n",
      "Small\n",
      "Small\n",
      "Small\n",
      "Big\n",
      "Small\n",
      "Small\n",
      "Medium\n",
      "Small\n",
      "Medium\n",
      "Small\n"
     ]
    }
   ],
   "source": [
    "# 25. For the list l, print 'Big' if the number is greater or equal to 20, \n",
    "#    'medium' if it greater than or equal to 10 but less than 20,\n",
    "#    'Small' if it is less than 10.\n",
    "\n",
    "for x in l: \n",
    "    if x >= 20: \n",
    "        print(\"Big\") \n",
    "    elif (x >= 10) and (x < 20): \n",
    "        print(\"Medium\") \n",
    "    elif x < 10: \n",
    "        print(\"Small\")"
   ]
  },
  {
   "cell_type": "code",
   "execution_count": 104,
   "metadata": {
    "collapsed": true
   },
   "outputs": [],
   "source": [
    "#26. For the list given below, If number is smaller than next previous, multiply it by 5 and append to new list. \n",
    "#    The new list should be [20, 5] \n",
    "\n",
    "l = [2,6,4,9,1]\n",
    "\n",
    "# Solution 1:\n",
    "new_l = []\n",
    "for i in range(len(l)-1): \n",
    "    if l[i+1] < l[i]: \n",
    "        new_l.append(l[i+1]*5) \n",
    "\n",
    "# Solution 2:\n",
    "new_l1 = []\n",
    "for i in range(1, len(l), 1): \n",
    "    if l[i] < l[i-1]: \n",
    "        new_l1.append(l[i]*5) \n"
   ]
  },
  {
   "cell_type": "code",
   "execution_count": 10,
   "metadata": {
    "collapsed": true
   },
   "outputs": [],
   "source": [
    "#27. Define a function that takes a list as an argument and returns the maximum number from that list\n",
    "\n",
    "def max_list(l): \n",
    "    max = 0 \n",
    "    for i in l: \n",
    "        if i > max: \n",
    "            max = i\n",
    "    return max \n",
    "\n",
    "assert max_list([1000,7,56,34,3,8, 2000,20, 5]) == 2000"
   ]
  },
  {
   "cell_type": "code",
   "execution_count": 13,
   "metadata": {
    "collapsed": true
   },
   "outputs": [],
   "source": [
    "#28. Define a function that takes temperature in celcius and returns temp in Fahrenheit. f = c*9/5 + 32\n",
    "\n",
    "def ctof(c): \n",
    "    return c*9/5 + 32  \n",
    "\n",
    "assert ctof(32) == 89.6\n",
    "assert ctof(0) == 32.0"
   ]
  },
  {
   "cell_type": "code",
   "execution_count": 6,
   "metadata": {},
   "outputs": [
    {
     "data": {
      "text/plain": [
       "'37.78 Celcius'"
      ]
     },
     "execution_count": 6,
     "metadata": {},
     "output_type": "execute_result"
    }
   ],
   "source": [
    "# 29. Modify the above function ctof such that it takes two parameters, temperature and unit of measurement \n",
    "#    (celcius or Fahrenheit) and convert it accordingly. If user inputs c, return Temperature in Fahrenheit and vice versa. \n",
    "#   Round the resulting value to 2 decimals.\n",
    "\n",
    "# f = (c * 9/5) + 32\n",
    "# c = (f - 32) * (5/9)\n",
    "\n",
    "def temp_converter(t, u):\n",
    "    if u == 'c':\n",
    "        f = round((t * 9/5) + 32, 2)\n",
    "        return '{} Fahrenheit'.format(f)\n",
    "    elif u == 'f':\n",
    "        c = round((t - 32) * (5/9), 2)\n",
    "        return '{} Celcius'.format(c)\n",
    "    \n",
    "\n",
    "assert temp_converter(100, 'c') == '212.0 Fahrenheit'\n",
    "assert temp_converter(100, 'f') == '37.78 Celcius'"
   ]
  },
  {
   "cell_type": "code",
   "execution_count": 9,
   "metadata": {
    "collapsed": true
   },
   "outputs": [],
   "source": [
    "#30.  Write a function to check if an integer is within a pair of positive integers in a tuple.\n",
    "\n",
    "def check_between(t, n):\n",
    "    if (t[0] < t[1]) and (n in range (t[0],t[1])): \n",
    "        return True \n",
    "    elif (t[0] > t[1]) and (n in range (t[1],t[0])): \n",
    "        return True\n",
    "    else:\n",
    "        return False\n",
    "\n",
    "    \n",
    "assert check_between((5,10), 6) is True\n",
    "assert check_between((25,20), 21) is True\n",
    "assert check_between((11,15), 9) is False"
   ]
  },
  {
   "cell_type": "code",
   "execution_count": 16,
   "metadata": {
    "collapsed": true
   },
   "outputs": [],
   "source": [
    "#31. Define a function that takes a string and returns number of upper case and lower case letters\n",
    "\n",
    "def count_case(s):\n",
    "    upper_count = 0 \n",
    "    lower_count = 0     \n",
    "    for i in s: \n",
    "        if i.isupper(): \n",
    "            upper_count+= 1 \n",
    "        else: \n",
    "            lower_count+= 1     \n",
    "    return 'Upper Case: {}, Lower Case: {}'.format(upper_count, lower_count)\n",
    "\n",
    "    \n",
    "assert count_case('AbracaDaBra') == 'Upper Case: 3, Lower Case: 8'\n",
    "assert count_case('ALLCAPS') == 'Upper Case: 7, Lower Case: 0'\n",
    "assert count_case('Digital Vidya') == 'Upper Case: 2, Lower Case: 11'"
   ]
  },
  {
   "cell_type": "code",
   "execution_count": 18,
   "metadata": {},
   "outputs": [
    {
     "data": {
      "text/plain": [
       "[1, 3, 4, 5, 7, 9]"
      ]
     },
     "execution_count": 18,
     "metadata": {},
     "output_type": "execute_result"
    }
   ],
   "source": [
    "#32. Define a function that takes list as an argument and returns the sorted list.\n",
    "\n",
    "def my_sort(l):\n",
    "    l_sorted = True\n",
    "    while l_sorted:\n",
    "        l_sorted = False\n",
    "        for i in range(len(l) - 1):\n",
    "            if l[i] > l[i+1]:\n",
    "                l[i], l[i+1] = l[i+1], l[i]\n",
    "                l_sorted = True\n",
    "                \n",
    "    return l\n",
    "\n",
    "assert my_sort([5,7,3,4,9,1]) == [1, 3, 4, 5, 7, 9]"
   ]
  },
  {
   "cell_type": "code",
   "execution_count": 19,
   "metadata": {
    "collapsed": true
   },
   "outputs": [],
   "source": [
    "# 33. Define a function that takes list as an argument and returns the reversed list. \n",
    "# Reverse should work in place, do not create a new list. Don't use reverse() or ::-1\n",
    "\n",
    "def my_reverse(l):\n",
    "    for index in range(len(l)//2):\n",
    "        l[index], l[len(l)-1-index] = l[len(l)-1-index], l[index]\n",
    "    return l\n",
    "   \n",
    "\n",
    "assert my_reverse([5,7,3,4,9,1]) == [1,9,4,3,7,5]\n",
    "assert my_reverse([5,8,9,0,2]) == [2, 0, 9, 8, 5]"
   ]
  },
  {
   "cell_type": "code",
   "execution_count": 23,
   "metadata": {},
   "outputs": [
    {
     "name": "stdout",
     "output_type": "stream",
     "text": [
      "c c\n",
      "i i\n",
      "b a\n",
      "m m\n",
      "a a\n",
      "l l\n",
      "a a\n",
      "a a\n",
      "a a\n",
      "b c\n",
      "a a\n",
      "v v\n",
      "i i\n",
      "d d\n",
      "a a\n",
      "b b\n",
      "a a\n",
      "b b\n",
      "c c\n",
      "d d\n"
     ]
    }
   ],
   "source": [
    "# 34. Define a function that takes a string as an argument and returns True if it is a palindrome, False otherwise. Ignore case.\n",
    "\n",
    "def check_palindrome(s):    \n",
    "    for i in range(len(s)//2): \n",
    "        # Print statement is not needed for the function, I have put it here just to show the elements in each iteration\n",
    "        print(s[i].lower(), s[len(s)-1-i].lower()) \n",
    "        if s[i].lower() != s[len(s)-1-i].lower():            \n",
    "            return False    \n",
    "    return True\n",
    "    \n",
    "assert check_palindrome('civic') is True\n",
    "assert check_palindrome('bababa')is False\n",
    "assert check_palindrome('malayalam') is True\n",
    "assert check_palindrome('aabcaa') is False\n",
    "assert check_palindrome('Avid diva') is True\n",
    "assert check_palindrome('abcba') is True\n",
    "assert check_palindrome('abcd dcba') is True\n"
   ]
  },
  {
   "cell_type": "code",
   "execution_count": 26,
   "metadata": {
    "collapsed": true
   },
   "outputs": [],
   "source": [
    "# 35. Write a function fibonacci that takes the number of elements as argument and prints the series. First two elements should be 0 and 1.\n",
    "def fibonacci(n):\n",
    "    l = []\n",
    "    a, b = 0, 1\n",
    "    for i in range(n):\n",
    "        l.append(a)\n",
    "        a, b = b, a + b\n",
    "    return l\n",
    "\n",
    "assert fibonacci(12) == [0, 1, 1, 2, 3, 5, 8, 13, 21, 34, 55, 89]\n"
   ]
  }
 ],
 "metadata": {
  "kernelspec": {
   "display_name": "Python 3",
   "language": "python",
   "name": "python3"
  },
  "language_info": {
   "codemirror_mode": {
    "name": "ipython",
    "version": 3
   },
   "file_extension": ".py",
   "mimetype": "text/x-python",
   "name": "python",
   "nbconvert_exporter": "python",
   "pygments_lexer": "ipython3",
   "version": "3.6.1"
  }
 },
 "nbformat": 4,
 "nbformat_minor": 2
}
