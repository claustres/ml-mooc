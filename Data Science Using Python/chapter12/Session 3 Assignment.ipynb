{
 "cells": [
  {
   "cell_type": "markdown",
   "metadata": {},
   "source": [
    "<img src=\"http://www.digitalvidya.com/wp-content/uploads/2013/05/logoa5-300x95.png\">"
   ]
  },
  {
   "cell_type": "markdown",
   "metadata": {},
   "source": [
    "## Data Analytics using NumPy Assignment"
   ]
  },
  {
   "cell_type": "code",
   "execution_count": 1,
   "metadata": {
    "collapsed": true
   },
   "outputs": [],
   "source": [
    "import numpy as np"
   ]
  },
  {
   "cell_type": "code",
   "execution_count": 2,
   "metadata": {
    "collapsed": true
   },
   "outputs": [],
   "source": [
    "# 1.Create a rank 2 numpy array of random integers and print:a) shape,size and dimensions of the array b) number of odd and even\n",
    "#   integers in the array"
   ]
  },
  {
   "cell_type": "code",
   "execution_count": 3,
   "metadata": {
    "collapsed": true
   },
   "outputs": [],
   "source": [
    "# 2.Create a (3X3) numpy array with values ranging from 1 to 9."
   ]
  },
  {
   "cell_type": "code",
   "execution_count": 4,
   "metadata": {
    "collapsed": true
   },
   "outputs": [],
   "source": [
    "# 3.Create a (5X5) random numpy array and print the numbers from the array which are greater than average value of the array.\n",
    "# Hint: Use np.where() function"
   ]
  },
  {
   "cell_type": "code",
   "execution_count": 5,
   "metadata": {
    "collapsed": true
   },
   "outputs": [],
   "source": [
    "# 4.Given an array of random integers:\n",
    "arr1 = np.random.randint(50,size=(10,10))\n",
    "# Find out : a) row wise and column wise mean b) row wise and column wise max and min values c) Variance and Standard Deviation \n",
    "# of the array."
   ]
  },
  {
   "cell_type": "code",
   "execution_count": 6,
   "metadata": {
    "collapsed": true
   },
   "outputs": [],
   "source": [
    "# Extra Credits\n",
    "# 5.Given two matrices:\n",
    "arr1 = np.matrix([[4,5],[7,3]])\n",
    "arr2 = np.matrix([[2,3],[8,9]])\n",
    "\n",
    "# Find out the matrix multiplication of the above two matrices without using numpy function and then verify your answer \n",
    "# using np.dot(arr1,arr2) function"
   ]
  },
  {
   "cell_type": "code",
   "execution_count": null,
   "metadata": {
    "collapsed": true
   },
   "outputs": [],
   "source": []
  }
 ],
 "metadata": {
  "kernelspec": {
   "display_name": "Python 3",
   "language": "python",
   "name": "python3"
  },
  "language_info": {
   "codemirror_mode": {
    "name": "ipython",
    "version": 3
   },
   "file_extension": ".py",
   "mimetype": "text/x-python",
   "name": "python",
   "nbconvert_exporter": "python",
   "pygments_lexer": "ipython3",
   "version": "3.6.1"
  }
 },
 "nbformat": 4,
 "nbformat_minor": 2
}
