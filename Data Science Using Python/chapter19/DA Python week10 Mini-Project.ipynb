{
 "cells": [
  {
   "cell_type": "markdown",
   "metadata": {},
   "source": [
    "<img src=\"http://www.digitalvidya.com/wp-content/uploads/2013/05/logoa5-300x95.png\">"
   ]
  },
  {
   "cell_type": "markdown",
   "metadata": {},
   "source": [
    "## Data Analysis using Python Mini-Project\n",
    "### Digital Vidya Copyright"
   ]
  },
  {
   "cell_type": "markdown",
   "metadata": {},
   "source": [
    "### Data Cleaning and Exploratory Analysis \n",
    "\n",
    "In machine learning, you clean up the data and turn raw data into features from which you can derive the pattern. There are methods available to extract features that will be covered in upcoming sessions but it's very important to build the intuition. The process of data cleaning and visualization helps with that. In this assignment, we will try to manually identify the important features in the given dataset. \n",
    "\n",
    "### Dataset: Lending Club data\n",
    "\n",
    "https://www.lendingclub.com/info/download-data.action\n",
    "\n",
    "Years of data to download: 2007-2011\n",
    "\n",
    "Load the Lending Club data into a pandas dataframe. The data contains 42538 rows and 145 columns. Not all these columns contain meaningful (or any) information so they need to be cleaned. The loans are categorized into different grades and sub-grades. It would be interesting to see whether they have any impact on the interest rates or not.\n",
    "The process should lead us into default prediction, and finding the columns that directly predict how the loan will behave. These would be our most important features.\n",
    "\n",
    "We strongly recommend that you look in to the columns closely to see the relationship between them. This is not a guided assignment and you can use the techniques that you have learnt so far to clean and visualize the data. \n",
    "\n",
    "There is no one right answer but this tests your ability to handle a much larger unknown dataset.\n",
    "\n",
    "Here are the broad guidelines:\n",
    "\n",
    "    View the data \n",
    "    Find the columns that are useful (may be null columns) and the ones that are not \n",
    "    Delete the columns that are not needed\n",
    "    Clean columns values like int_rate and term by removing the string part and convert the column to numeric.\n",
    "    Identify the columns containing useful information, they would be the features. \n",
    "    Visualize the important features\n"
   ]
  },
  {
   "cell_type": "code",
   "execution_count": null,
   "metadata": {},
   "outputs": [],
   "source": []
  }
 ],
 "metadata": {
  "kernelspec": {
   "display_name": "Python 3",
   "language": "python",
   "name": "python3"
  },
  "language_info": {
   "codemirror_mode": {
    "name": "ipython",
    "version": 3
   },
   "file_extension": ".py",
   "mimetype": "text/x-python",
   "name": "python",
   "nbconvert_exporter": "python",
   "pygments_lexer": "ipython3",
   "version": "3.6.1"
  }
 },
 "nbformat": 4,
 "nbformat_minor": 2
}
