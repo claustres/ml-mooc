{
 "cells": [
  {
   "cell_type": "markdown",
   "metadata": {},
   "source": [
    "<img src=\"https://www.digitalvidya.com/wp-content/uploads/2013/05/Digital-Vidya-Website-Logo-HD-2-300x95.png\">"
   ]
  },
  {
   "cell_type": "markdown",
   "metadata": {},
   "source": [
    "# Starting with your journey in Python Programming\n",
    "\n",
    "Hello, welcome to the Basic Python Programming Course.\n",
    "\n",
    "In this chapter our main aim is to make you comfortable with the Jupyter Notebook, writing code, exploring Python Programming syntax, basic math Library, and debugging. With this assignment and in the next chapter or so, we would like to cross the limitation of **never programmed before**.\n",
    "\n",
    "In this chapter we are going to explore the basic datatypes and variables, basic math operators, comparison operators.\n",
    "\n",
    "\n",
    "\n",
    "All the very best. Your effort is well spent. Do not hurry up.\n",
    "<br>And most important Have FUN.\n",
    "<br>Happy coding!!\n",
    "\n",
    "\n",
    "Develop a passion for learning. If you do, you will never cease to grow.\n",
    "                                                                        - Anthony J. D'Angelo\n",
    "                                                                        \n",
    "Success is not final, failure is not fatal: it is the courage to continue that counts. \n",
    "                                                                        - Winston Churchill\n",
    "\n",
    "With all being said lets begin the journey, its our promise you will enjoy it. "
   ]
  },
  {
   "cell_type": "markdown",
   "metadata": {},
   "source": [
    "# Variables and Overview of data types\n",
    "\n",
    "### What is a Variable?\n",
    "A variable is something that holds a value that may change. In simplest terms, a variable is just a box that you can put stuff in. You can use variables to store all kinds of stuff, but for now, we are just going to look at storing numbers in variables.\n",
    "\n",
    "Python is completely object oriented, and not \"statically typed\". You do not need to declare variables before using them, or declare their type. Every variable in Python is an object.\n",
    "\n",
    "### What is a data-type?\n",
    "In Python, like in all programming languages, data types are used to classify one particular type of data. This is important because the specific data type you use will determine what values you can assign to it and what you can do to it (including what operations you can perform on it).\n",
    "\n",
    "eg.&emsp;Lamborgini is an object of data type \"car\". \n",
    "<br>&emsp;&emsp; Can \"Bajaj Yamaha\" be an object of type \"car\"?\n",
    "<br>&emsp;&emsp; No, because \"Bajaj Yamaha\" is a bike.\n",
    "<br>&emsp;&emsp; This is the significance of data type.\n",
    "\n",
    "<font color=orange>### IMPORTANT NOTE </font>\n",
    "<br>Python provides extensive documentation for all it syntax, library etc.\n",
    "Make sure that you start to become comfortable in referring to it.\n",
    "Here is the link to the basic built-in data types.\n",
    "\n",
    "Refer : https://docs.python.org/3.6/library/stdtypes.html"
   ]
  },
  {
   "cell_type": "markdown",
   "metadata": {},
   "source": [
    "\n",
    "<font color=orange>### IMPORTANT NOTE </font>\n",
    "<br> '=' operator is used for assigning value to a variable. \n",
    "\n",
    "In the following code, we are assigning a value 10 to variable x."
   ]
  },
  {
   "cell_type": "code",
   "execution_count": 1,
   "metadata": {
    "collapsed": true
   },
   "outputs": [],
   "source": [
    "x = 10"
   ]
  },
  {
   "cell_type": "markdown",
   "metadata": {},
   "source": [
    "<font color=orange>### IMPORTANT NOTE </font>\n",
    "<br>In Python keywords, numbers and functions will always be green in colour. "
   ]
  },
  {
   "cell_type": "markdown",
   "metadata": {},
   "source": [
    "We can find the type of a variable using the type function. \n",
    "<br> Execute the code by pressing \"Shift Enter\"\n",
    "<br> And you will see that the function returns one of the basic data types (int, float, str)"
   ]
  },
  {
   "cell_type": "code",
   "execution_count": 2,
   "metadata": {},
   "outputs": [
    {
     "data": {
      "text/plain": [
       "int"
      ]
     },
     "execution_count": 2,
     "metadata": {},
     "output_type": "execute_result"
    }
   ],
   "source": [
    "type(x)"
   ]
  },
  {
   "cell_type": "markdown",
   "metadata": {},
   "source": [
    "In the following code, we are assigning a value 4.9 to variable y"
   ]
  },
  {
   "cell_type": "code",
   "execution_count": 4,
   "metadata": {
    "collapsed": true
   },
   "outputs": [],
   "source": [
    "y = 4.9"
   ]
  },
  {
   "cell_type": "markdown",
   "metadata": {},
   "source": [
    "Lets see what is the datatype of y\n",
    "<br> type and datatype can be used alternatively.\n",
    "\n",
    "Follow the same steps as the ones in the previous question"
   ]
  },
  {
   "cell_type": "code",
   "execution_count": 5,
   "metadata": {},
   "outputs": [
    {
     "data": {
      "text/plain": [
       "float"
      ]
     },
     "execution_count": 5,
     "metadata": {},
     "output_type": "execute_result"
    }
   ],
   "source": [
    "type(y)"
   ]
  },
  {
   "cell_type": "markdown",
   "metadata": {
    "collapsed": true
   },
   "source": [
    "You can change the type of a variable. This phenomenon is called as type casting.\n",
    "\n",
    "Type casting is useful for improving precision. Precision is very important for data analysis"
   ]
  },
  {
   "cell_type": "code",
   "execution_count": 6,
   "metadata": {},
   "outputs": [
    {
     "data": {
      "text/plain": [
       "10.0"
      ]
     },
     "execution_count": 6,
     "metadata": {},
     "output_type": "execute_result"
    }
   ],
   "source": [
    "float(x)"
   ]
  },
  {
   "cell_type": "markdown",
   "metadata": {},
   "source": [
    "There is a problem with type casting, if a higher precision datatype is type casted to lower precision datatype there is loss of data. "
   ]
  },
  {
   "cell_type": "code",
   "execution_count": 7,
   "metadata": {},
   "outputs": [
    {
     "data": {
      "text/plain": [
       "4"
      ]
     },
     "execution_count": 7,
     "metadata": {},
     "output_type": "execute_result"
    }
   ],
   "source": [
    "int(y)"
   ]
  },
  {
   "cell_type": "markdown",
   "metadata": {},
   "source": [
    "You can see that 4.9 is converted to 4 thus, there is loss of data."
   ]
  },
  {
   "cell_type": "markdown",
   "metadata": {},
   "source": [
    "# Operators"
   ]
  },
  {
   "cell_type": "markdown",
   "metadata": {},
   "source": [
    "Python language supports the following types of operators.\n",
    "\n",
    "Arithmetic Operators<br>\n",
    "Comparison (Relational) Operators<br>\n",
    "Assignment Operators<br>\n",
    "Logical Operators<br>\n",
    "Membership Operators<br>"
   ]
  },
  {
   "cell_type": "markdown",
   "metadata": {},
   "source": [
    "** First lets clear out the concept of operators and operands. **\n",
    "\n",
    "Operators are special tokens that represent computations like addition, multiplication and division,etc.<br>The values the operator works on are called operands."
   ]
  },
  {
   "cell_type": "markdown",
   "metadata": {},
   "source": [
    "Lets go over all the types of operators"
   ]
  },
  {
   "cell_type": "markdown",
   "metadata": {},
   "source": [
    "# 1.0  Arithmetic Operators\n"
   ]
  },
  {
   "cell_type": "markdown",
   "metadata": {},
   "source": [
    "<tbody>\n",
    "\t\t<tr>\n",
    "\t\t\t<th style=\"text-align:center;\">Operator</th>\n",
    "\t\t\t<th style=\"text-align:center;width:45%\">Meaning</th>\n",
    "\t\t\t<th style=\"text-align:center;\">Example</th>\n",
    "\t\t</tr>\n",
    "\t\t<tr>\n",
    "\t\t\t<td style=\"text-align:center;\">+</td>\n",
    "\t\t\t<td style=\"text-align:center;\">Add two operands or unary plus</td>\n",
    "\t\t\t<td style=\"text-align:center;\">x + y<br>\n",
    "\t\t\t</td>\n",
    "\t\t</tr>\n",
    "\t\t<tr>\n",
    "\t\t\t<td style=\"text-align:center;\">-</td>\n",
    "\t\t\t<td style=\"text-align:center;\">Subtract right operand from the left or unary minus</td>\n",
    "\t\t\t<td style=\"text-align:center;\">x - y<br></td>\n",
    "\t\t</tr>\n",
    "\t\t<tr>\n",
    "\t\t\t<td style=\"text-align:center;\">\\**</td>\n",
    "\t\t\t<td style=\"text-align:center;\">Multiply two operands</td>\n",
    "\t\t\t<td style=\"text-align:center;\">x \\** y</td>\n",
    "\t\t</tr>\n",
    "\t\t<tr>\n",
    "\t\t\t<td style=\"text-align:center;\">/</td>\n",
    "\t\t\t<td style=\"text-align:center;\">Divide left operand by the right one (always results into float)</td>\n",
    "\t\t\t<td style=\"text-align:center;\">x / y</td>\n",
    "\t\t</tr>\n",
    "\t\t<tr>\n",
    "\t\t\t<td style=\"text-align:center;\">%</td>\n",
    "\t\t\t<td style=\"text-align:center;\">Modulus - remainder of the division of left operand by the right</td>\n",
    "\t\t\t<td style=\"text-align:center;\">x % y (remainder of x/y)</td>\n",
    "\t\t</tr>\n",
    "\t\t<tr>\n",
    "\t\t\t<td style=\"text-align:center;\">//</td>\n",
    "\t\t\t<td style=\"text-align:center;\">Floor division - division that results into whole number adjusted to the left in the number line</td>\n",
    "\t\t\t<td style=\"text-align:center;\">x // y (quotient of x/y)</td>\n",
    "\t\t</tr>\n",
    "\t\t<tr>\n",
    "\t\t\t<td style=\"text-align:center;\">&#42;&#42;</td>\n",
    "\t\t\t<td style=\"text-align:center;\">Exponent - left operand raised to the power of right</td>\n",
    "\t\t\t<td style=\"text-align:center;\">x&#42;&#42;y (x to the power y)</td>\n",
    "\t\t</tr>\n",
    "\t</tbody>"
   ]
  },
  {
   "cell_type": "markdown",
   "metadata": {},
   "source": [
    "Please refer the operators given in the table to solve following questions "
   ]
  },
  {
   "cell_type": "markdown",
   "metadata": {},
   "source": [
    "Given that"
   ]
  },
  {
   "cell_type": "code",
   "execution_count": 10,
   "metadata": {
    "collapsed": true
   },
   "outputs": [],
   "source": [
    "a = 5\n",
    "b = 10"
   ]
  },
  {
   "cell_type": "markdown",
   "metadata": {
    "collapsed": true
   },
   "source": [
    "### Addition of two numbers\n",
    "Whenever you need to display the result you need to use **print** function."
   ]
  },
  {
   "cell_type": "code",
   "execution_count": 11,
   "metadata": {},
   "outputs": [
    {
     "name": "stdout",
     "output_type": "stream",
     "text": [
      "15\n"
     ]
    }
   ],
   "source": [
    "print(a+b)"
   ]
  },
  {
   "cell_type": "markdown",
   "metadata": {
    "collapsed": true
   },
   "source": [
    "### Subtraction of two numbers"
   ]
  },
  {
   "cell_type": "code",
   "execution_count": 12,
   "metadata": {},
   "outputs": [
    {
     "name": "stdout",
     "output_type": "stream",
     "text": [
      "-5\n"
     ]
    }
   ],
   "source": [
    "print(a-b)"
   ]
  },
  {
   "cell_type": "markdown",
   "metadata": {
    "collapsed": true
   },
   "source": [
    "### Multiplication of two numbers"
   ]
  },
  {
   "cell_type": "code",
   "execution_count": 13,
   "metadata": {},
   "outputs": [
    {
     "name": "stdout",
     "output_type": "stream",
     "text": [
      "50\n"
     ]
    }
   ],
   "source": [
    "print(a*b)"
   ]
  },
  {
   "cell_type": "markdown",
   "metadata": {
    "collapsed": true
   },
   "source": [
    "### Division of two numbers"
   ]
  },
  {
   "cell_type": "code",
   "execution_count": 14,
   "metadata": {},
   "outputs": [
    {
     "name": "stdout",
     "output_type": "stream",
     "text": [
      "0.5\n"
     ]
    }
   ],
   "source": [
    "print(a/b)"
   ]
  },
  {
   "cell_type": "markdown",
   "metadata": {
    "collapsed": true
   },
   "source": [
    "### Modulus operation for finding the remainder obtained when a is divided by b"
   ]
  },
  {
   "cell_type": "code",
   "execution_count": 15,
   "metadata": {},
   "outputs": [
    {
     "name": "stdout",
     "output_type": "stream",
     "text": [
      "5\n"
     ]
    }
   ],
   "source": [
    "print(a % b)"
   ]
  },
  {
   "cell_type": "markdown",
   "metadata": {
    "collapsed": true
   },
   "source": [
    "### Exponentiation operation: A number is raised to another number"
   ]
  },
  {
   "cell_type": "code",
   "execution_count": 16,
   "metadata": {},
   "outputs": [
    {
     "name": "stdout",
     "output_type": "stream",
     "text": [
      "9765625\n"
     ]
    }
   ],
   "source": [
    "print(a**b)"
   ]
  },
  {
   "cell_type": "markdown",
   "metadata": {
    "collapsed": true
   },
   "source": [
    "### Floor Division of two numbers for finding the quotient obtained when a is divided by b \n",
    "\n",
    "**Short revision**\n",
    "\n",
    "eg. a = 3 <br>\n",
    "    b = 2 <br>\n",
    "    a/b - > <br>\n",
    "<span style=\"display:inline-block; width: 45px;\"></span>quotient = 1 <br>\n",
    "<span style=\"display:inline-block; width: 45px;\"></span>remainder = 1 <br>\n",
    "\n",
    "Now try to find out the exact operator from the table given above which can give you the quotient "
   ]
  },
  {
   "cell_type": "code",
   "execution_count": 17,
   "metadata": {
    "collapsed": true
   },
   "outputs": [],
   "source": [
    "a = 20\n",
    "b = 6"
   ]
  },
  {
   "cell_type": "code",
   "execution_count": 18,
   "metadata": {},
   "outputs": [
    {
     "name": "stdout",
     "output_type": "stream",
     "text": [
      "3\n"
     ]
    }
   ],
   "source": [
    "print(a // b)"
   ]
  },
  {
   "cell_type": "markdown",
   "metadata": {},
   "source": [
    "# Introduction to math library built-in functions\n",
    "\n",
    "\n",
    "** The math library can be used to perform various functions. You can check them out in the link below.** <br>\n",
    "All links to Python 3.6<br>\n",
    "https://docs.python.org/3.6/library/math.html\n",
    "\n",
    "The library includes logarithmic, trigonometric and various scientific functions which can help in performing different operations on the data"
   ]
  },
  {
   "cell_type": "code",
   "execution_count": 9,
   "metadata": {
    "collapsed": true
   },
   "outputs": [],
   "source": [
    "# Importing math module\n",
    "\n",
    "import math"
   ]
  },
  {
   "cell_type": "markdown",
   "metadata": {
    "collapsed": true
   },
   "source": [
    "Find a**b"
   ]
  },
  {
   "cell_type": "code",
   "execution_count": 10,
   "metadata": {},
   "outputs": [
    {
     "data": {
      "text/plain": [
       "9.0"
      ]
     },
     "execution_count": 10,
     "metadata": {},
     "output_type": "execute_result"
    }
   ],
   "source": [
    "a = 3\n",
    "b = 2\n",
    "\n",
    "# same as a ** b\n",
    "math.pow(a,b) "
   ]
  },
  {
   "cell_type": "markdown",
   "metadata": {
    "collapsed": true
   },
   "source": [
    "Find square root of a number"
   ]
  },
  {
   "cell_type": "code",
   "execution_count": 11,
   "metadata": {},
   "outputs": [
    {
     "data": {
      "text/plain": [
       "8.0"
      ]
     },
     "execution_count": 11,
     "metadata": {},
     "output_type": "execute_result"
    }
   ],
   "source": [
    "a = 64\n",
    "\n",
    "math.sqrt(a)"
   ]
  },
  {
   "cell_type": "markdown",
   "metadata": {},
   "source": [
    "# 2.0  Comparison Operators"
   ]
  },
  {
   "cell_type": "markdown",
   "metadata": {},
   "source": [
    "<tbody><tr>\n",
    "<th style=\"text-align:center;width:10%\">Operator</th>\n",
    "<th style=\"text-align:center;width:45%\">Description</th>\n",
    "\n",
    "</tr>\n",
    "<tr>\n",
    "<td class=\"ts\" style=\"text-align:center;\" >==</td>\n",
    "<td style=\"text-align:center;\">If the values of two operands are equal, then the condition becomes true.</td>\n",
    "\n",
    "<tr>\n",
    "<td class=\"ts\" style=\"text-align:center;\">!=</td>\n",
    "<td style=\"text-align:center;\">If values of two operands are not equal, then condition becomes true.</td>\n",
    "\n",
    "</tr>\n",
    "<tr>\n",
    "<td class=\"ts\" style=\"text-align:center;\">&gt;</td>\n",
    "<td style=\"text-align:center;\">If the value of left operand is greater than the value of right operand, then condition becomes true.</td>\n",
    "</tr>\n",
    "<tr>\n",
    "<td class=\"ts\" style=\"text-align:center;\">&lt;</td>\n",
    "<td style=\"text-align:center;\">If the value of left operand is less than the value of right operand, then condition becomes true.</td>\n",
    "\n",
    "</tr>\n",
    "<tr>\n",
    "<td class=\"ts\" style=\"text-align:center;\">&gt;=</td>\n",
    "<td style=\"text-align:center;\">If the value of left operand is greater than or equal to the value of right operand, then condition becomes true.</td>\n",
    "\n",
    "</tr>\n",
    "<tr>\n",
    "<td class=\"ts\" style=\"text-align:center;\">&lt;=</td>\n",
    "<td style=\"text-align:center;\">If the value of left operand is less than or equal to the value of right operand, then condition becomes true.</td>\n",
    "\n",
    "</tr>\n",
    "</tbody>"
   ]
  },
  {
   "cell_type": "markdown",
   "metadata": {},
   "source": [
    "** Please note that,&nbsp; '=' is not same as '=='**<br>\n",
    "The reason being '=' is an assignment operator<br>\n",
    "For eg. a = b + c<br>\n",
    "The result of (b + c) would be stored in a<br>\n",
    "While, if suppose a == b,<br>\n",
    "Here we are trying to compare the values of a and b<br>\n",
    "Don't worry you will be exploring comparison operators in the following section"
   ]
  },
  {
   "cell_type": "markdown",
   "metadata": {},
   "source": [
    "\n",
    "#### Some operations are supported by several object types; in particular, practically all objects can be compared, tested for truth value, and converted to a string\n"
   ]
  },
  {
   "cell_type": "markdown",
   "metadata": {},
   "source": [
    "Given that"
   ]
  },
  {
   "cell_type": "code",
   "execution_count": 1,
   "metadata": {
    "collapsed": true
   },
   "outputs": [],
   "source": [
    "a = 20\n",
    "b = 6"
   ]
  },
  {
   "cell_type": "markdown",
   "metadata": {
    "collapsed": true
   },
   "source": [
    "### '==' to check whether two operands are equal or not."
   ]
  },
  {
   "cell_type": "code",
   "execution_count": 31,
   "metadata": {},
   "outputs": [
    {
     "name": "stdout",
     "output_type": "stream",
     "text": [
      "False\n"
     ]
    }
   ],
   "source": [
    "print(a == b)"
   ]
  },
  {
   "cell_type": "code",
   "execution_count": 12,
   "metadata": {},
   "outputs": [
    {
     "data": {
      "text/plain": [
       "bool"
      ]
     },
     "execution_count": 12,
     "metadata": {},
     "output_type": "execute_result"
    }
   ],
   "source": [
    "# lets see what is the datatype of an expression involving comparison operator \n",
    "\n",
    "type(a == b)"
   ]
  },
  {
   "cell_type": "markdown",
   "metadata": {},
   "source": [
    "<font color=orange>### IMPORTANT NOTE </font>\n",
    "<br> Whenever a comparison operator is involved in an expression, the datatype of the result will always be boolean."
   ]
  },
  {
   "cell_type": "markdown",
   "metadata": {},
   "source": [
    "Lets compare **'='** with **'=='**."
   ]
  },
  {
   "cell_type": "code",
   "execution_count": 25,
   "metadata": {},
   "outputs": [
    {
     "ename": "TypeError",
     "evalue": "'a' is an invalid keyword argument for this function",
     "output_type": "error",
     "traceback": [
      "\u001b[1;31m---------------------------------------------------------------------------\u001b[0m",
      "\u001b[1;31mTypeError\u001b[0m                                 Traceback (most recent call last)",
      "\u001b[1;32m<ipython-input-25-57c99decdbae>\u001b[0m in \u001b[0;36m<module>\u001b[1;34m()\u001b[0m\n\u001b[0;32m      1\u001b[0m \u001b[1;31m# Write your code below\u001b[0m\u001b[1;33m\u001b[0m\u001b[1;33m\u001b[0m\u001b[0m\n\u001b[0;32m      2\u001b[0m \u001b[1;33m\u001b[0m\u001b[0m\n\u001b[1;32m----> 3\u001b[1;33m \u001b[0mprint\u001b[0m\u001b[1;33m(\u001b[0m\u001b[0ma\u001b[0m \u001b[1;33m=\u001b[0m \u001b[0mb\u001b[0m\u001b[1;33m)\u001b[0m\u001b[1;33m\u001b[0m\u001b[0m\n\u001b[0m\u001b[0;32m      4\u001b[0m \u001b[1;33m\u001b[0m\u001b[0m\n\u001b[0;32m      5\u001b[0m \u001b[1;31m# Code ends here\u001b[0m\u001b[1;33m\u001b[0m\u001b[1;33m\u001b[0m\u001b[0m\n",
      "\u001b[1;31mTypeError\u001b[0m: 'a' is an invalid keyword argument for this function"
     ]
    }
   ],
   "source": [
    "print(a = b)"
   ]
  },
  {
   "cell_type": "markdown",
   "metadata": {},
   "source": [
    "As you can see above the assignment operation does not involve comparison and thus doesn't return any value.\n",
    "<br> That is why, when we try to print the result, we get an error."
   ]
  },
  {
   "cell_type": "markdown",
   "metadata": {},
   "source": [
    "### '!=' to check whether two operands are unequal or not."
   ]
  },
  {
   "cell_type": "code",
   "execution_count": 15,
   "metadata": {},
   "outputs": [
    {
     "name": "stdout",
     "output_type": "stream",
     "text": [
      "True\n"
     ]
    }
   ],
   "source": [
    "print(a != b)"
   ]
  },
  {
   "cell_type": "markdown",
   "metadata": {
    "collapsed": true
   },
   "source": [
    "### '>' to check whether a is greater than b or not."
   ]
  },
  {
   "cell_type": "code",
   "execution_count": 16,
   "metadata": {},
   "outputs": [
    {
     "name": "stdout",
     "output_type": "stream",
     "text": [
      "True\n"
     ]
    }
   ],
   "source": [
    "print(a > b)"
   ]
  },
  {
   "cell_type": "markdown",
   "metadata": {
    "collapsed": true
   },
   "source": [
    "### '<' to check whether a is less than b or not."
   ]
  },
  {
   "cell_type": "code",
   "execution_count": 17,
   "metadata": {},
   "outputs": [
    {
     "name": "stdout",
     "output_type": "stream",
     "text": [
      "False\n"
     ]
    }
   ],
   "source": [
    "print(a < b)"
   ]
  },
  {
   "cell_type": "markdown",
   "metadata": {
    "collapsed": true
   },
   "source": [
    "### '>=' to check whether a is greater than or equal to b or not.\n",
    "\n",
    "Here, two conditions are checked **a>b** and **a==b**, if any of these turns out to be true, the result is true else false."
   ]
  },
  {
   "cell_type": "code",
   "execution_count": 18,
   "metadata": {},
   "outputs": [
    {
     "name": "stdout",
     "output_type": "stream",
     "text": [
      "True\n"
     ]
    }
   ],
   "source": [
    "print(a >= b)"
   ]
  },
  {
   "cell_type": "markdown",
   "metadata": {
    "collapsed": true
   },
   "source": [
    "### '<=' to check whether a is less than or equal to b or not.\n",
    "\n",
    "Here, two conditions are checked **a &lt; b** and **a==b**, if any of these turns out to be true, the result is true else false."
   ]
  },
  {
   "cell_type": "code",
   "execution_count": 19,
   "metadata": {},
   "outputs": [
    {
     "name": "stdout",
     "output_type": "stream",
     "text": [
      "False\n"
     ]
    }
   ],
   "source": [
    "print(a <= b)"
   ]
  },
  {
   "cell_type": "markdown",
   "metadata": {},
   "source": [
    "# 3.0 Assignment Operators"
   ]
  },
  {
   "cell_type": "markdown",
   "metadata": {},
   "source": [
    "<tbody><tr>\n",
    "<th style=\"text-align:center;width:25%\">Operator</th>\n",
    "<th style=\"text-align:center;width:45%\">Description</th>\n",
    "<th style=\"text-align:center;\">Example</th>\n",
    "</tr>\n",
    "<tr>\n",
    "<td class=\"ts\" style=\"text-align:center;\">=</td>\n",
    "<td style=\"text-align:center;\">Assigns values from right side operands to left side operand</td>\n",
    "<td style=\"vertical-align:middle;text-align:center;\">c = a + b assigns value of a + b into c</td>\n",
    "</tr>\n",
    "<tr>\n",
    "<td class=\"ts\" style=\"text-align:center;\">+= Add AND</td>\n",
    "<td style=\"text-align:center;\">It adds right operand to the left operand and assign the result to left operand</td>\n",
    "<td style=\"vertical-align:middle;text-align:center;\">c += a is equivalent to c = c + a</td>\n",
    "</tr>\n",
    "<tr>\n",
    "<td class=\"ts\" style=\"text-align:center;\">-= Subtract AND</td>\n",
    "<td style=\"text-align:center;\">It subtracts right operand from the left operand and assign the result to left operand</td>\n",
    "<td style=\"vertical-align:middle;text-align:center;\">c -= a is equivalent to c = c - a</td>\n",
    "</tr>\n",
    "<tr>\n",
    "<td class=\"ts\" style=\"text-align:center;\">\\*= Multiply AND</td>\n",
    "<td style=\"text-align:center;\">It multiplies right operand with the left operand and assign the result to left operand</td>\n",
    "<td style=\"vertical-align:middle;text-align:center;\">c &#42;= a is equivalent to c = c * a</td>\n",
    "</tr>\n",
    "<tr>\n",
    "<td class=\"ts\" style=\"text-align:center;\">/= Divide AND</td>\n",
    "<td style=\"text-align:center;\">It divides left operand with the right operand and assign the result to left operand</td>\n",
    "<td style=\"vertical-align:middle;text-align:center;\">c /= a is equivalent to c = c / a</td>\n",
    "</tr>\n",
    "<tr>\n",
    "<td class=\"ts\" style=\"text-align:center;\">%= Modulus AND</td>\n",
    "<td style=\"text-align:center;\">It takes modulus using two operands and assign the result to left operand</td>\n",
    "<td style=\"vertical-align:middle;text-align:center;\">c %= a is equivalent to c = c % a</td>\n",
    "</tr>\n",
    "<tr>\n",
    "<td class=\"ts\" style=\"text-align:center;\">&#42;&#42;= Exponent AND</td>\n",
    "<td style=\"text-align:center;\">Performs exponential (power) calculation on operators and assign value to the left operand</td>\n",
    "<td style=\"vertical-align:middle;text-align:center;\">c &#42;&#42;= a is equivalent to c = c ** a</td>\n",
    "</tr>\n",
    "<tr>\n",
    "<td class=\"ts\" style=\"text-align:center;\">//= Floor Division</td>\n",
    "<td style=\"text-align:center;\">It performs floor division on operators and assign value to the left operand</td>\n",
    "<td style=\"vertical-align:middle;text-align:center;\">c //= a is equivalent to c = c // a</td>\n",
    "</tr>\n",
    "</tbody>"
   ]
  },
  {
   "cell_type": "markdown",
   "metadata": {},
   "source": [
    "These are called as 'short hand' operators. They will help you to code faster."
   ]
  },
  {
   "cell_type": "markdown",
   "metadata": {},
   "source": [
    "### Assignment operation"
   ]
  },
  {
   "cell_type": "code",
   "execution_count": 23,
   "metadata": {
    "collapsed": true
   },
   "outputs": [],
   "source": [
    "a = 5 "
   ]
  },
  {
   "cell_type": "code",
   "execution_count": 24,
   "metadata": {},
   "outputs": [
    {
     "data": {
      "text/plain": [
       "5"
      ]
     },
     "execution_count": 24,
     "metadata": {},
     "output_type": "execute_result"
    }
   ],
   "source": [
    "# Show \n",
    "\n",
    "a"
   ]
  },
  {
   "cell_type": "markdown",
   "metadata": {},
   "source": [
    "### Assignment operation post addition"
   ]
  },
  {
   "cell_type": "code",
   "execution_count": 25,
   "metadata": {
    "collapsed": true
   },
   "outputs": [],
   "source": [
    "a += 5 "
   ]
  },
  {
   "cell_type": "code",
   "execution_count": 26,
   "metadata": {},
   "outputs": [
    {
     "data": {
      "text/plain": [
       "10"
      ]
     },
     "execution_count": 26,
     "metadata": {},
     "output_type": "execute_result"
    }
   ],
   "source": [
    "# Show \n",
    "\n",
    "a"
   ]
  },
  {
   "cell_type": "markdown",
   "metadata": {},
   "source": [
    "### Assignment operation post subtraction"
   ]
  },
  {
   "cell_type": "code",
   "execution_count": 27,
   "metadata": {
    "collapsed": true
   },
   "outputs": [],
   "source": [
    "a -= 5 "
   ]
  },
  {
   "cell_type": "code",
   "execution_count": 28,
   "metadata": {},
   "outputs": [
    {
     "data": {
      "text/plain": [
       "5"
      ]
     },
     "execution_count": 28,
     "metadata": {},
     "output_type": "execute_result"
    }
   ],
   "source": [
    "# Show \n",
    "\n",
    "a"
   ]
  },
  {
   "cell_type": "markdown",
   "metadata": {},
   "source": [
    "### Assignment operation post multiplication"
   ]
  },
  {
   "cell_type": "code",
   "execution_count": 29,
   "metadata": {
    "collapsed": true
   },
   "outputs": [],
   "source": [
    "a *= 5 "
   ]
  },
  {
   "cell_type": "code",
   "execution_count": 30,
   "metadata": {},
   "outputs": [
    {
     "data": {
      "text/plain": [
       "25"
      ]
     },
     "execution_count": 30,
     "metadata": {},
     "output_type": "execute_result"
    }
   ],
   "source": [
    "# Show \n",
    "\n",
    "a"
   ]
  },
  {
   "cell_type": "markdown",
   "metadata": {},
   "source": [
    "### Assignment operation post division"
   ]
  },
  {
   "cell_type": "code",
   "execution_count": 31,
   "metadata": {
    "collapsed": true
   },
   "outputs": [],
   "source": [
    "a /= 5 "
   ]
  },
  {
   "cell_type": "code",
   "execution_count": 32,
   "metadata": {},
   "outputs": [
    {
     "data": {
      "text/plain": [
       "5.0"
      ]
     },
     "execution_count": 32,
     "metadata": {},
     "output_type": "execute_result"
    }
   ],
   "source": [
    "# Show \n",
    "\n",
    "a"
   ]
  },
  {
   "cell_type": "markdown",
   "metadata": {},
   "source": [
    "### Assignment operation post modulo operation"
   ]
  },
  {
   "cell_type": "code",
   "execution_count": 33,
   "metadata": {
    "collapsed": true
   },
   "outputs": [],
   "source": [
    "a %= 5 "
   ]
  },
  {
   "cell_type": "code",
   "execution_count": 34,
   "metadata": {},
   "outputs": [
    {
     "data": {
      "text/plain": [
       "0.0"
      ]
     },
     "execution_count": 34,
     "metadata": {},
     "output_type": "execute_result"
    }
   ],
   "source": [
    "# Show \n",
    "\n",
    "a"
   ]
  },
  {
   "cell_type": "markdown",
   "metadata": {},
   "source": [
    "Given that"
   ]
  },
  {
   "cell_type": "code",
   "execution_count": 35,
   "metadata": {
    "collapsed": true
   },
   "outputs": [],
   "source": [
    "a = 5"
   ]
  },
  {
   "cell_type": "markdown",
   "metadata": {},
   "source": [
    "### Assignment operation post exponentiation"
   ]
  },
  {
   "cell_type": "code",
   "execution_count": 36,
   "metadata": {
    "collapsed": true
   },
   "outputs": [],
   "source": [
    "a **= 2 "
   ]
  },
  {
   "cell_type": "code",
   "execution_count": 37,
   "metadata": {},
   "outputs": [
    {
     "data": {
      "text/plain": [
       "25"
      ]
     },
     "execution_count": 37,
     "metadata": {},
     "output_type": "execute_result"
    }
   ],
   "source": [
    "# Show \n",
    "\n",
    "a"
   ]
  },
  {
   "cell_type": "markdown",
   "metadata": {},
   "source": [
    "### Assignment operation post floor division"
   ]
  },
  {
   "cell_type": "code",
   "execution_count": 38,
   "metadata": {
    "collapsed": true
   },
   "outputs": [],
   "source": [
    "a //= 2 "
   ]
  },
  {
   "cell_type": "code",
   "execution_count": 39,
   "metadata": {},
   "outputs": [
    {
     "data": {
      "text/plain": [
       "12"
      ]
     },
     "execution_count": 39,
     "metadata": {},
     "output_type": "execute_result"
    }
   ],
   "source": [
    "# Show \n",
    "\n",
    "a"
   ]
  },
  {
   "cell_type": "markdown",
   "metadata": {},
   "source": [
    "Note that a was 25 before floor division and it later became 12.<br>\n",
    "Actually, 25/2 is 12.5 but floor division eliminates decimal part and returns the quotient only."
   ]
  },
  {
   "cell_type": "markdown",
   "metadata": {},
   "source": [
    "# Logical Operators"
   ]
  },
  {
   "cell_type": "markdown",
   "metadata": {},
   "source": [
    "<tbody><tr>\n",
    "<th style=\"text-align:center;width:20%\">Operator</th>\n",
    "<th style=\"text-align:center;width:45%\">Description</th>\n",
    "<th style=\"text-align:center;\">Example</th>\n",
    "</tr>\n",
    "<tr>\n",
    "<td style=\"text-align:center;\">and Logical AND</td>\n",
    "<td class=\"ts\" style=\"text-align:center;\">If both the operands are true then condition becomes true.</td>\n",
    "<td class=\"ts\" style=\"text-align:center;\">(a and b) is true.</td>\n",
    "</tr>\n",
    "<tr>\n",
    "<td style=\"text-align:center;\">or Logical OR</td>\n",
    "<td class=\"ts\" style=\"text-align:center;\">If any of the two operands are non-zero then condition becomes true.</td>\n",
    "<td class=\"ts\" style=\"text-align:center;\">(a or b) is true.</td>\n",
    "</tr>\n",
    "<tr>\n",
    "<td style=\"text-align:center;\">not Logical NOT</td>\n",
    "<td class=\"ts\" style=\"text-align:center;\">Used to reverse the logical state of its operand.</td>\n",
    "<td class=\"ts\" style=\"text-align:center;\">Not(a and b) is false.</td>\n",
    "</tr>\n",
    "</tbody>"
   ]
  },
  {
   "cell_type": "markdown",
   "metadata": {},
   "source": [
    "Given that"
   ]
  },
  {
   "cell_type": "code",
   "execution_count": 13,
   "metadata": {
    "collapsed": true
   },
   "outputs": [],
   "source": [
    "a = 5\n",
    "b = 25"
   ]
  },
  {
   "cell_type": "markdown",
   "metadata": {},
   "source": [
    "###  'and' operator for finding whether a and b both are divisible by 5. \n",
    "\n",
    "<br> First we will write the code to check a is divisible by 5 \n",
    "<br> (a % 5) == 0\n",
    "<br> Then we will write the code to check b is divisible by 5\n",
    "<br> (b % 5) == 0\n",
    "<br> Now connect the two conditions by AND operator\n",
    "<br> You will have to use brackets to make this into a single statement\n",
    "<br> e.g. (a % 5) == 0 and (b % 5) == 0\n",
    "<br> and now when you print the result, you need to add additional braces\n",
    "\n",
    "<font color=orange>### IMPORTANT NOTE </font>\n",
    "<br>\"AND\" operator will return True only when all the conditions are True "
   ]
  },
  {
   "cell_type": "code",
   "execution_count": 16,
   "metadata": {},
   "outputs": [
    {
     "data": {
      "text/plain": [
       "True"
      ]
     },
     "execution_count": 16,
     "metadata": {},
     "output_type": "execute_result"
    }
   ],
   "source": [
    "(a % 5) == 0 and (b % 5) == 0"
   ]
  },
  {
   "cell_type": "markdown",
   "metadata": {},
   "source": [
    "Given that"
   ]
  },
  {
   "cell_type": "code",
   "execution_count": 204,
   "metadata": {
    "collapsed": true
   },
   "outputs": [],
   "source": [
    "a = 26\n",
    "b = 25"
   ]
  },
  {
   "cell_type": "markdown",
   "metadata": {},
   "source": [
    "### 'or' operator for finding whether either a or b is divisible by 5.\n",
    "\n",
    "<br>We will follow similar procedure that we had followed in the previous example and in the end we will use 'or' operator instead of 'and'.\n",
    "\n",
    "<font color=orange>### IMPORTANT NOTE </font>\n",
    "<br>\"OR\" operator will return False only when all the conditions are False "
   ]
  },
  {
   "cell_type": "code",
   "execution_count": 208,
   "metadata": {},
   "outputs": [
    {
     "name": "stdout",
     "output_type": "stream",
     "text": [
      "True\n"
     ]
    }
   ],
   "source": [
    "print(((a % 5) == 0 or (b % 5) == 0))"
   ]
  },
  {
   "cell_type": "markdown",
   "metadata": {},
   "source": [
    "Given that"
   ]
  },
  {
   "cell_type": "code",
   "execution_count": 41,
   "metadata": {
    "collapsed": true
   },
   "outputs": [],
   "source": [
    "a = 26"
   ]
  },
  {
   "cell_type": "markdown",
   "metadata": {},
   "source": [
    "### 'not' operator to check whether value of a variable is not equal to a particular number.\n",
    "\n",
    "eg. To check whether a is not equal to 35 ->\n",
    "<br> We have to check whether a is equal to 35 and then calculate 'not' of the result.\n",
    "\n",
    "In a similar way, lets find out whether a is not equal to 26."
   ]
  },
  {
   "cell_type": "code",
   "execution_count": 42,
   "metadata": {},
   "outputs": [
    {
     "name": "stdout",
     "output_type": "stream",
     "text": [
      "False\n"
     ]
    }
   ],
   "source": [
    "print(not ( a == 26))"
   ]
  },
  {
   "cell_type": "markdown",
   "metadata": {},
   "source": [
    "# Membership Operators"
   ]
  },
  {
   "cell_type": "markdown",
   "metadata": {},
   "source": [
    "<tbody><tr>\n",
    "<th style=\"text-align:center;width:10%\">Operator</th>\n",
    "<th style=\"text-align:center;width:45%\">Description</th>\n",
    "<th style=\"text-align:center;\">Example</th>\n",
    "</tr>\n",
    "<tr>\n",
    "<td class=\"ts\">in</td>\n",
    "<td>Evaluates to true if it finds a variable in the specified sequence and false otherwise.</td>\n",
    "<td style=\"vertical-align:middle;\">x in y, here in results in a 1 if x is a member of sequence y.</td>\n",
    "</tr>\n",
    "<tr>\n",
    "<td class=\"ts\">not in</td>\n",
    "<td>Evaluates to true if it does not finds a variable in the specified sequence and false otherwise.</td>\n",
    "<td>x not in y, here not in results in a 1 if x is not a member of sequence y.</td>\n",
    "</tr>\n",
    "</tbody>"
   ]
  },
  {
   "cell_type": "markdown",
   "metadata": {},
   "source": [
    "These operators would be explored in much detail in further chapters. But, they are mentioned here because they belong to this chapter.<br>\n",
    "Don't worry if you find it difficult to understand."
   ]
  },
  {
   "cell_type": "markdown",
   "metadata": {},
   "source": [
    "We create a list l with elements 1,2,3. Lists are explored in detail in chapter 3."
   ]
  },
  {
   "cell_type": "code",
   "execution_count": 69,
   "metadata": {
    "collapsed": true
   },
   "outputs": [],
   "source": [
    "l = [1,2,3]"
   ]
  },
  {
   "cell_type": "markdown",
   "metadata": {},
   "source": [
    "We check whether 1 is present in l"
   ]
  },
  {
   "cell_type": "code",
   "execution_count": 70,
   "metadata": {},
   "outputs": [
    {
     "data": {
      "text/plain": [
       "True"
      ]
     },
     "execution_count": 70,
     "metadata": {},
     "output_type": "execute_result"
    }
   ],
   "source": [
    "1 in l"
   ]
  },
  {
   "cell_type": "markdown",
   "metadata": {},
   "source": [
    "We check whether 4 is present in l"
   ]
  },
  {
   "cell_type": "code",
   "execution_count": 73,
   "metadata": {},
   "outputs": [
    {
     "data": {
      "text/plain": [
       "False"
      ]
     },
     "execution_count": 73,
     "metadata": {},
     "output_type": "execute_result"
    }
   ],
   "source": [
    "4 in l"
   ]
  },
  {
   "cell_type": "markdown",
   "metadata": {},
   "source": [
    "# Operator Precedence (Highest to lowest)"
   ]
  },
  {
   "cell_type": "markdown",
   "metadata": {},
   "source": [
    "Follow PEMDAS rule:\n",
    "PEMDAS is an acronym for the words parenthesis, exponents, multiplication, division, addition, subtraction. \n",
    "\n",
    "\n",
    "1. Paranthesis\n",
    "2. Exponents \n",
    "3. Multiplication and Division \n",
    "4. Addition and Subtraction\n",
    "\n",
    "Precedence decreases from top to bottom\n",
    "\n",
    "**Please note that**\n",
    "\n",
    "- In the United States, the acronym PEMDAS is common. It stands for Parentheses, Exponents, Multiplication/Division, Addition/Subtraction. PEMDAS is often expanded to the mnemonic \"Please Excuse My Dear Aunt Sally\".\n",
    "\n",
    "- Canada and New Zealand use BEDMAS, standing for Brackets, Exponents, Division/Multiplication, Addition/Subtraction.\n",
    "- Most common in the UK, India and Australia are BODMAS meaning Brackets, Of or Order, Division/Multiplication,        Addition/Subtraction. Nigeria and some other West African countries also use BODMAS. Similarly in the UK, BIDMAS is used, standing for Brackets, Indices, Division/Multiplication, Addition/Subtraction."
   ]
  },
  {
   "cell_type": "markdown",
   "metadata": {},
   "source": [
    "<tbody><tr>\n",
    "<th style=\"text-align:center;\">Sr.No.</th>\n",
    "<th style=\"text-align:center;\">Operator &amp; Description</th>\n",
    "</tr>\n",
    "<tr>\n",
    "<td class=\"ts\">1</td>\n",
    "<td><p><b>**</b></p>\n",
    "<p>Exponentiation (raise to the power)</p></td>\n",
    "</tr>\n",
    "<tr>\n",
    "<td class=\"ts\">2</td>\n",
    "<td><p><b>~ + -</b></p>\n",
    "<p>Complement, unary plus and minus (method names for the last two are +@ and -@)</p></td>\n",
    "</tr>\n",
    "<tr>\n",
    "<td class=\"ts\">3</td>\n",
    "<td><p><b>* / % //</b></p>\n",
    "<p>Multiply, divide, modulo and floor division</p></td>\n",
    "</tr>\n",
    "<tr>\n",
    "<td class=\"ts\">4</td>\n",
    "<td><p><b>+ -</b></p>\n",
    "<p>Addition and subtraction</p></td>\n",
    "</tr>\n",
    "<tr>\n",
    "<td class=\"ts\">5</td>\n",
    "<td><p><b>&gt;&gt; &lt;&lt;</b></p>\n",
    "<p>Right and left bitwise shift</p></td>\n",
    "</tr>\n",
    "<tr>\n",
    "<td class=\"ts\">6</td>\n",
    "<td><p><b>&amp;</b></p>\n",
    "<p>Bitwise 'AND'</p></td>\n",
    "</tr>\n",
    "<tr>\n",
    "<td class=\"ts\">7</td>\n",
    "<td><p><b>^ |</b></p>\n",
    "<p>Bitwise exclusive `OR' and regular `OR'</p></td>\n",
    "</tr>\n",
    "<tr>\n",
    "<td class=\"ts\">8</td>\n",
    "<td><p><b>&lt;= &lt; &gt; &gt;=</b></p>\n",
    "<p>Comparison operators</p></td>\n",
    "</tr>\n",
    "<tr>\n",
    "<td class=\"ts\">9</td>\n",
    "<td><p><b>&lt;&gt; == !=</b></p>\n",
    "<p>Equality operators</p></td>\n",
    "</tr>\n",
    "<tr>\n",
    "<td class=\"ts\">10</td>\n",
    "<td><p><b>= %= /= //= -= += *= **=</b></p>\n",
    "<p>Assignment operators</p></td>\n",
    "</tr>\n",
    "<tr>\n",
    "<td class=\"ts\">11</td>\n",
    "<td><p><b>is is not</b></p>\n",
    "<p>Identity operators</p></td>\n",
    "</tr>\n",
    "<tr>\n",
    "<td class=\"ts\">12</td>\n",
    "<td><p><b>in not in</b></p>\n",
    "<p>Membership operators</p></td>\n",
    "</tr>\n",
    "<tr>\n",
    "<td class=\"ts\">13</td>\n",
    "<td><p><b>not or and</b></p>\n",
    "<p>Logical operators</p></td>\n",
    "</tr>\n",
    "</tbody>"
   ]
  },
  {
   "cell_type": "markdown",
   "metadata": {},
   "source": [
    "# Summary\n",
    "\n",
    "Now that you have learnt about various datatypes and math operators.\n",
    "<br> You have taken a big step in the right direction.\n",
    "<br> These topics will help you build a strong foundation for future chapters.\n",
    "<br> Please solve your assignment very well and invest as much time as possible to master these topics.\n",
    "<br> Lets get to hands on practice by solving the assignment.\n",
    "\n",
    "**All the best!!**"
   ]
  }
 ],
 "metadata": {
  "kernelspec": {
   "display_name": "Python 3",
   "language": "python",
   "name": "python3"
  },
  "language_info": {
   "codemirror_mode": {
    "name": "ipython",
    "version": 3
   },
   "file_extension": ".py",
   "mimetype": "text/x-python",
   "name": "python",
   "nbconvert_exporter": "python",
   "pygments_lexer": "ipython3",
   "version": "3.6.1"
  }
 },
 "nbformat": 4,
 "nbformat_minor": 2
}
