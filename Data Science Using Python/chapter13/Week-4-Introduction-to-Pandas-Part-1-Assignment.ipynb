{
 "cells": [
  {
   "cell_type": "markdown",
   "metadata": {},
   "source": [
    "<img src=\"http://www.digitalvidya.com/wp-content/uploads/2013/05/logoa5-300x95.png\">"
   ]
  },
  {
   "cell_type": "markdown",
   "metadata": {
    "collapsed": true
   },
   "source": [
    "## Data Analysis using Python Assignment\n",
    "### Digital Vidya Copyright"
   ]
  },
  {
   "cell_type": "markdown",
   "metadata": {},
   "source": [
    "#### Download the IPL dataset from the given link and load it in a dataframe using the following command.\n",
    "#### This dataset contains details of each match played in IPL from season 2008 to 2016. Each row represents one match.\n",
    "#### Answer the questions based on the dataset. \n",
    "#### Please show the code you would use to get to the answer.\n"
   ]
  },
  {
   "cell_type": "code",
   "execution_count": 3,
   "metadata": {},
   "outputs": [],
   "source": [
    "import pandas as pd\n",
    "import numpy as np"
   ]
  },
  {
   "cell_type": "code",
   "execution_count": 2,
   "metadata": {},
   "outputs": [
    {
     "data": {
      "text/plain": [
       "(577, 18)"
      ]
     },
     "execution_count": 2,
     "metadata": {},
     "output_type": "execute_result"
    }
   ],
   "source": [
    "matches = pd.read_csv('matches.csv') #<location/filename.csv>\n",
    "matches.shape"
   ]
  },
  {
   "cell_type": "code",
   "execution_count": 1,
   "metadata": {
    "collapsed": true
   },
   "outputs": [],
   "source": [
    "# 1. What is the easiest way to view the details of the last match of the dataset?"
   ]
  },
  {
   "cell_type": "code",
   "execution_count": 2,
   "metadata": {
    "collapsed": true
   },
   "outputs": [],
   "source": [
    "# 2. Create a slice of this dataframe to only show the details from index 517 to 576 and columns id, season, city \n",
    "#and date. Print the output."
   ]
  },
  {
   "cell_type": "code",
   "execution_count": 3,
   "metadata": {
    "collapsed": true
   },
   "outputs": [],
   "source": [
    "# 3. The final match of the season 2011 is at the index 247, on what date was the match played?"
   ]
  },
  {
   "cell_type": "code",
   "execution_count": 4,
   "metadata": {
    "collapsed": true
   },
   "outputs": [],
   "source": [
    "# 4. Create a new dataframe called matches_compact which contains only the id, season, date and winner. \n",
    "#What is the shape of the matches_compact?"
   ]
  },
  {
   "cell_type": "code",
   "execution_count": 5,
   "metadata": {
    "collapsed": true
   },
   "outputs": [],
   "source": [
    "# 5. How many matches were played in the year 2010? "
   ]
  },
  {
   "cell_type": "code",
   "execution_count": 6,
   "metadata": {
    "collapsed": true
   },
   "outputs": [],
   "source": [
    "# 6. How will you find the highest margin of runs by which any team won the match in matches so far? \n",
    "#Which team was it and by how many runs did it win?"
   ]
  },
  {
   "cell_type": "code",
   "execution_count": 7,
   "metadata": {
    "collapsed": true
   },
   "outputs": [],
   "source": [
    "# 7. Here is a dictionary of short names for all the team names in the dataset. Create a new dataframe called \n",
    "# matches_alias by replacing names in all the columns with long team names.\n",
    "team_names = {'Kolkata Knight Riders': 'KKR', \n",
    "              'Chennai Super Kings': 'CSK', \n",
    "              'Rajasthan Royals' : 'RR',\n",
    "               'Mumbai Indians' : 'MI', \n",
    "              'Deccan Chargers' : 'DC', \n",
    "              'Kings XI Punjab' : 'KIXP',\n",
    "               'Royal Challengers Bangalore' : 'RCB', \n",
    "              'Delhi Daredevils' : 'DD',\n",
    "              'Kochi Tuskers Kerala' : 'KTK', \n",
    "              'Pune Warriors' : 'PW', \n",
    "              'Sunrisers Hyderabad' : 'SRH',\n",
    "              'Rising Pune Supergiants' : 'RPS', \n",
    "              'Gujarat Lions' : 'GL'}\n"
   ]
  },
  {
   "cell_type": "code",
   "execution_count": 8,
   "metadata": {
    "collapsed": true
   },
   "outputs": [],
   "source": [
    "# 8. Find out in which stadium the maximum number of matches have been played and in which stadium minimum? \n",
    "# What is the highest and the lowest number? Show the code.\n"
   ]
  },
  {
   "cell_type": "code",
   "execution_count": 20,
   "metadata": {
    "collapsed": true
   },
   "outputs": [],
   "source": [
    "# 9. The following dataframe contains large blocks of NaNs. \n",
    "# Fill the NAs with mean only for 2 or less consecutive values of NAs. \n",
    "# Refer to the documentation of fillna() to find out the parameter you would use to fill only a certail number of NAs.\n",
    "# The resulting dataframe should look like df_filled shown below.\n",
    "\n",
    "df = pd.DataFrame({'val1':[4,np.nan,7,np.nan,np.nan,9,5, np.nan , 1,9,np.nan, np.nan,np.nan, 5, np.nan], \n",
    "                    'val2': [ np.nan, 5,7,np.nan, np.nan,8,3,np.nan, 4,np.nan, np.nan, np.nan,np.nan,21,np.nan]})\n",
    "\n",
    "d = {'val1': {0: 4.0,1: 5.7142857142857144,2: 7.0,3: 5.7142857142857144,4: np.nan,5: 9.0,6: 5.0,7: np.nan,8: 1.0,9: 9.0,10: np.nan,11: np.nan,12: np.nan,13: 5.0,14: np.nan},\n",
    "'val2': {0: 8.0,1: 5.0,2: 7.0,3: 8.0,4: np.nan,5: 8.0,6: 3.0,7: np.nan,8: 4.0,9: np.nan,10: np.nan,11: np.nan,12: np.nan,13: 21.0,14: np.nan}}\n",
    "\n",
    "df_filled = pd.DataFrame(d)\n"
   ]
  },
  {
   "cell_type": "code",
   "execution_count": 4,
   "metadata": {},
   "outputs": [
    {
     "data": {
      "text/html": [
       "<div>\n",
       "<style scoped>\n",
       "    .dataframe tbody tr th:only-of-type {\n",
       "        vertical-align: middle;\n",
       "    }\n",
       "\n",
       "    .dataframe tbody tr th {\n",
       "        vertical-align: top;\n",
       "    }\n",
       "\n",
       "    .dataframe thead th {\n",
       "        text-align: right;\n",
       "    }\n",
       "</style>\n",
       "<table border=\"1\" class=\"dataframe\">\n",
       "  <thead>\n",
       "    <tr style=\"text-align: right;\">\n",
       "      <th></th>\n",
       "      <th>diff</th>\n",
       "      <th>val1</th>\n",
       "      <th>val2</th>\n",
       "    </tr>\n",
       "  </thead>\n",
       "  <tbody>\n",
       "    <tr>\n",
       "      <th>0</th>\n",
       "      <td>1.0</td>\n",
       "      <td>9.0</td>\n",
       "      <td>8.0</td>\n",
       "    </tr>\n",
       "    <tr>\n",
       "      <th>1</th>\n",
       "      <td>16.0</td>\n",
       "      <td>15.0</td>\n",
       "      <td>31.0</td>\n",
       "    </tr>\n",
       "    <tr>\n",
       "      <th>2</th>\n",
       "      <td>61.0</td>\n",
       "      <td>71.0</td>\n",
       "      <td>10.0</td>\n",
       "    </tr>\n",
       "    <tr>\n",
       "      <th>3</th>\n",
       "      <td>5.0</td>\n",
       "      <td>9.0</td>\n",
       "      <td>14.0</td>\n",
       "    </tr>\n",
       "    <tr>\n",
       "      <th>4</th>\n",
       "      <td>5.0</td>\n",
       "      <td>5.0</td>\n",
       "      <td>0.0</td>\n",
       "    </tr>\n",
       "    <tr>\n",
       "      <th>diff</th>\n",
       "      <td>35.0</td>\n",
       "      <td>66.0</td>\n",
       "      <td>31.0</td>\n",
       "    </tr>\n",
       "  </tbody>\n",
       "</table>\n",
       "</div>"
      ],
      "text/plain": [
       "      diff  val1  val2\n",
       "0      1.0   9.0   8.0\n",
       "1     16.0  15.0  31.0\n",
       "2     61.0  71.0  10.0\n",
       "3      5.0   9.0  14.0\n",
       "4      5.0   5.0   0.0\n",
       "diff  35.0  66.0  31.0"
      ]
     },
     "execution_count": 4,
     "metadata": {},
     "output_type": "execute_result"
    }
   ],
   "source": [
    "# 10. For the dataframe given below, \n",
    "# Convert the NaN values to zero\n",
    "# Add a row called diff with the difference between minimum and maximum value in each column. Try solving it using lambda function\n",
    "# Add a column called diff with the difference between minimum and maximum value in each row. \n",
    "# The final df should look like df_final shown below\n",
    "\n",
    "df = pd.DataFrame({'val1':[9,15,71,9,5], 'val2': [8,31,10, 14,np.nan]})\n",
    "\n",
    "df_final = pd.DataFrame({'diff': {0: 1.0, 1: 16.0, 2: 61.0, 3: 5.0, 4: 5.0, 'diff': 35.0},\n",
    " 'val1': {0: 9.0, 1: 15.0, 2: 71.0, 3: 9.0, 4: 5.0, 'diff': 66.0},\n",
    " 'val2': {0: 8.0, 1: 31.0, 2: 10.0, 3: 14.0, 4: 0.0, 'diff': 31.0}})\n",
    "\n",
    "df_final"
   ]
  },
  {
   "cell_type": "code",
   "execution_count": null,
   "metadata": {},
   "outputs": [],
   "source": []
  },
  {
   "cell_type": "code",
   "execution_count": null,
   "metadata": {},
   "outputs": [],
   "source": []
  },
  {
   "cell_type": "code",
   "execution_count": null,
   "metadata": {
    "collapsed": true
   },
   "outputs": [],
   "source": []
  }
 ],
 "metadata": {
  "kernelspec": {
   "display_name": "Python 3",
   "language": "python",
   "name": "python3"
  },
  "language_info": {
   "codemirror_mode": {
    "name": "ipython",
    "version": 3
   },
   "file_extension": ".py",
   "mimetype": "text/x-python",
   "name": "python",
   "nbconvert_exporter": "python",
   "pygments_lexer": "ipython3",
   "version": "3.6.5"
  }
 },
 "nbformat": 4,
 "nbformat_minor": 2
}
