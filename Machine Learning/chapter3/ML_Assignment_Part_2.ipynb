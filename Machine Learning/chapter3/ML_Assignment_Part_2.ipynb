{
 "cells": [
  {
   "cell_type": "code",
   "execution_count": 1,
   "metadata": {
    "colab": {},
    "colab_type": "code",
    "id": "39Is0it2xagK"
   },
   "outputs": [],
   "source": [
    "# 1. Load the cars dataset."
   ]
  },
  {
   "cell_type": "code",
   "execution_count": 20,
   "metadata": {},
   "outputs": [
    {
     "data": {
      "text/html": [
       "<div>\n",
       "<style scoped>\n",
       "    .dataframe tbody tr th:only-of-type {\n",
       "        vertical-align: middle;\n",
       "    }\n",
       "\n",
       "    .dataframe tbody tr th {\n",
       "        vertical-align: top;\n",
       "    }\n",
       "\n",
       "    .dataframe thead th {\n",
       "        text-align: right;\n",
       "    }\n",
       "</style>\n",
       "<table border=\"1\" class=\"dataframe\">\n",
       "  <thead>\n",
       "    <tr style=\"text-align: right;\">\n",
       "      <th></th>\n",
       "      <th>price</th>\n",
       "      <th>name</th>\n",
       "      <th>yearOfRegistration</th>\n",
       "      <th>monthOfRegistration</th>\n",
       "      <th>gearbox</th>\n",
       "      <th>powerPS</th>\n",
       "      <th>model</th>\n",
       "      <th>kilometer</th>\n",
       "      <th>fuelType</th>\n",
       "      <th>brand</th>\n",
       "      <th>vehicleType</th>\n",
       "    </tr>\n",
       "  </thead>\n",
       "  <tbody>\n",
       "    <tr>\n",
       "      <th>0</th>\n",
       "      <td>400</td>\n",
       "      <td>Ford_Escort</td>\n",
       "      <td>1992</td>\n",
       "      <td>8</td>\n",
       "      <td>manuell</td>\n",
       "      <td>89</td>\n",
       "      <td>escort</td>\n",
       "      <td>60000</td>\n",
       "      <td>benzin</td>\n",
       "      <td>ford</td>\n",
       "      <td>kombi</td>\n",
       "    </tr>\n",
       "    <tr>\n",
       "      <th>1</th>\n",
       "      <td>3500</td>\n",
       "      <td>Bmw_320_cabrio</td>\n",
       "      <td>1996</td>\n",
       "      <td>0</td>\n",
       "      <td>manuell</td>\n",
       "      <td>150</td>\n",
       "      <td>3er</td>\n",
       "      <td>125000</td>\n",
       "      <td>NaN</td>\n",
       "      <td>bmw</td>\n",
       "      <td>cabrio</td>\n",
       "    </tr>\n",
       "    <tr>\n",
       "      <th>2</th>\n",
       "      <td>2200</td>\n",
       "      <td>Mercedes_C_230_T_im_top_Zustand_Tuev_Neu!!_Win...</td>\n",
       "      <td>1998</td>\n",
       "      <td>0</td>\n",
       "      <td>manuell</td>\n",
       "      <td>150</td>\n",
       "      <td>c_klasse</td>\n",
       "      <td>150000</td>\n",
       "      <td>benzin</td>\n",
       "      <td>mercedes_benz</td>\n",
       "      <td>kombi</td>\n",
       "    </tr>\n",
       "    <tr>\n",
       "      <th>3</th>\n",
       "      <td>4000</td>\n",
       "      <td>A3_Limousine</td>\n",
       "      <td>2006</td>\n",
       "      <td>7</td>\n",
       "      <td>manuell</td>\n",
       "      <td>0</td>\n",
       "      <td>a3</td>\n",
       "      <td>150000</td>\n",
       "      <td>diesel</td>\n",
       "      <td>audi</td>\n",
       "      <td>limousine</td>\n",
       "    </tr>\n",
       "    <tr>\n",
       "      <th>4</th>\n",
       "      <td>2600</td>\n",
       "      <td>Smart_Smart_cabrio_450_cdi</td>\n",
       "      <td>2002</td>\n",
       "      <td>7</td>\n",
       "      <td>automatik</td>\n",
       "      <td>41</td>\n",
       "      <td>fortwo</td>\n",
       "      <td>150000</td>\n",
       "      <td>diesel</td>\n",
       "      <td>smart</td>\n",
       "      <td>cabrio</td>\n",
       "    </tr>\n",
       "  </tbody>\n",
       "</table>\n",
       "</div>"
      ],
      "text/plain": [
       "   price                                               name  \\\n",
       "0    400                                        Ford_Escort   \n",
       "1   3500                                     Bmw_320_cabrio   \n",
       "2   2200  Mercedes_C_230_T_im_top_Zustand_Tuev_Neu!!_Win...   \n",
       "3   4000                                       A3_Limousine   \n",
       "4   2600                         Smart_Smart_cabrio_450_cdi   \n",
       "\n",
       "   yearOfRegistration  monthOfRegistration    gearbox  powerPS     model  \\\n",
       "0                1992                    8    manuell       89    escort   \n",
       "1                1996                    0    manuell      150       3er   \n",
       "2                1998                    0    manuell      150  c_klasse   \n",
       "3                2006                    7    manuell        0        a3   \n",
       "4                2002                    7  automatik       41    fortwo   \n",
       "\n",
       "   kilometer fuelType          brand vehicleType  \n",
       "0      60000   benzin           ford       kombi  \n",
       "1     125000      NaN            bmw      cabrio  \n",
       "2     150000   benzin  mercedes_benz       kombi  \n",
       "3     150000   diesel           audi   limousine  \n",
       "4     150000   diesel          smart      cabrio  "
      ]
     },
     "execution_count": 20,
     "metadata": {},
     "output_type": "execute_result"
    }
   ],
   "source": [
    "import pandas as pd\n",
    "import matplotlib.pyplot as plt\n",
    "\n",
    "cars = pd.read_csv('autos_small.csv')\n",
    "cars.head()"
   ]
  },
  {
   "cell_type": "code",
   "execution_count": 19,
   "metadata": {},
   "outputs": [
    {
     "data": {
      "text/html": [
       "<div>\n",
       "<style scoped>\n",
       "    .dataframe tbody tr th:only-of-type {\n",
       "        vertical-align: middle;\n",
       "    }\n",
       "\n",
       "    .dataframe tbody tr th {\n",
       "        vertical-align: top;\n",
       "    }\n",
       "\n",
       "    .dataframe thead th {\n",
       "        text-align: right;\n",
       "    }\n",
       "</style>\n",
       "<table border=\"1\" class=\"dataframe\">\n",
       "  <thead>\n",
       "    <tr style=\"text-align: right;\">\n",
       "      <th></th>\n",
       "      <th>price</th>\n",
       "      <th>yearOfRegistration</th>\n",
       "      <th>monthOfRegistration</th>\n",
       "      <th>powerPS</th>\n",
       "      <th>kilometer</th>\n",
       "    </tr>\n",
       "  </thead>\n",
       "  <tbody>\n",
       "    <tr>\n",
       "      <th>count</th>\n",
       "      <td>1.000000e+04</td>\n",
       "      <td>10000.000000</td>\n",
       "      <td>10000.000000</td>\n",
       "      <td>10000.00000</td>\n",
       "      <td>10000.000000</td>\n",
       "    </tr>\n",
       "    <tr>\n",
       "      <th>mean</th>\n",
       "      <td>7.056705e+03</td>\n",
       "      <td>2003.637400</td>\n",
       "      <td>5.737600</td>\n",
       "      <td>122.01890</td>\n",
       "      <td>125034.000000</td>\n",
       "    </tr>\n",
       "    <tr>\n",
       "      <th>std</th>\n",
       "      <td>1.237501e+05</td>\n",
       "      <td>40.424633</td>\n",
       "      <td>3.706794</td>\n",
       "      <td>342.09721</td>\n",
       "      <td>40581.689607</td>\n",
       "    </tr>\n",
       "    <tr>\n",
       "      <th>min</th>\n",
       "      <td>0.000000e+00</td>\n",
       "      <td>1000.000000</td>\n",
       "      <td>0.000000</td>\n",
       "      <td>0.00000</td>\n",
       "      <td>5000.000000</td>\n",
       "    </tr>\n",
       "    <tr>\n",
       "      <th>25%</th>\n",
       "      <td>1.150000e+03</td>\n",
       "      <td>1999.000000</td>\n",
       "      <td>3.000000</td>\n",
       "      <td>69.00000</td>\n",
       "      <td>100000.000000</td>\n",
       "    </tr>\n",
       "    <tr>\n",
       "      <th>50%</th>\n",
       "      <td>2.999000e+03</td>\n",
       "      <td>2004.000000</td>\n",
       "      <td>6.000000</td>\n",
       "      <td>105.00000</td>\n",
       "      <td>150000.000000</td>\n",
       "    </tr>\n",
       "    <tr>\n",
       "      <th>75%</th>\n",
       "      <td>7.250000e+03</td>\n",
       "      <td>2008.000000</td>\n",
       "      <td>9.000000</td>\n",
       "      <td>150.00000</td>\n",
       "      <td>150000.000000</td>\n",
       "    </tr>\n",
       "    <tr>\n",
       "      <th>max</th>\n",
       "      <td>1.234568e+07</td>\n",
       "      <td>5000.000000</td>\n",
       "      <td>12.000000</td>\n",
       "      <td>17322.00000</td>\n",
       "      <td>150000.000000</td>\n",
       "    </tr>\n",
       "  </tbody>\n",
       "</table>\n",
       "</div>"
      ],
      "text/plain": [
       "              price  yearOfRegistration  monthOfRegistration      powerPS  \\\n",
       "count  1.000000e+04        10000.000000         10000.000000  10000.00000   \n",
       "mean   7.056705e+03         2003.637400             5.737600    122.01890   \n",
       "std    1.237501e+05           40.424633             3.706794    342.09721   \n",
       "min    0.000000e+00         1000.000000             0.000000      0.00000   \n",
       "25%    1.150000e+03         1999.000000             3.000000     69.00000   \n",
       "50%    2.999000e+03         2004.000000             6.000000    105.00000   \n",
       "75%    7.250000e+03         2008.000000             9.000000    150.00000   \n",
       "max    1.234568e+07         5000.000000            12.000000  17322.00000   \n",
       "\n",
       "           kilometer  \n",
       "count   10000.000000  \n",
       "mean   125034.000000  \n",
       "std     40581.689607  \n",
       "min      5000.000000  \n",
       "25%    100000.000000  \n",
       "50%    150000.000000  \n",
       "75%    150000.000000  \n",
       "max    150000.000000  "
      ]
     },
     "execution_count": 19,
     "metadata": {},
     "output_type": "execute_result"
    }
   ],
   "source": [
    "cars.describe()"
   ]
  },
  {
   "cell_type": "code",
   "execution_count": 12,
   "metadata": {},
   "outputs": [
    {
     "data": {
      "text/plain": [
       "price                  False\n",
       "name                   False\n",
       "yearOfRegistration     False\n",
       "monthOfRegistration    False\n",
       "gearbox                 True\n",
       "powerPS                False\n",
       "model                   True\n",
       "kilometer              False\n",
       "fuelType                True\n",
       "brand                  False\n",
       "vehicleType             True\n",
       "dtype: bool"
      ]
     },
     "execution_count": 12,
     "metadata": {},
     "output_type": "execute_result"
    }
   ],
   "source": [
    "cars.isnull().any() "
   ]
  },
  {
   "cell_type": "code",
   "execution_count": 0,
   "metadata": {
    "colab": {},
    "colab_type": "code",
    "id": "knCBUJ1axagO"
   },
   "outputs": [],
   "source": [
    "# 2. Figure out the best strategy to fill missing values"
   ]
  },
  {
   "cell_type": "code",
   "execution_count": null,
   "metadata": {},
   "outputs": [],
   "source": [
    "As missing data are categorial data and there is no relatonship between previous/next rows we cannot really fill blanks using fillna()."
   ]
  },
  {
   "cell_type": "code",
   "execution_count": 0,
   "metadata": {
    "colab": {},
    "colab_type": "code",
    "id": "RB1wjuqdxagQ"
   },
   "outputs": [],
   "source": [
    "# 3. Complete any other preprocessing required."
   ]
  },
  {
   "cell_type": "code",
   "execution_count": 0,
   "metadata": {
    "colab": {},
    "colab_type": "code",
    "id": "r5hv6nboxagT"
   },
   "outputs": [],
   "source": [
    "# 4. Apply various regression models and find out which model is the best for this dataset"
   ]
  },
  {
   "cell_type": "code",
   "execution_count": 0,
   "metadata": {
    "colab": {},
    "colab_type": "code",
    "id": "4gHkzTNWxagW"
   },
   "outputs": [],
   "source": [
    "# 5. Apply different Outlier detection methods and choose best approach to treat outliers "
   ]
  },
  {
   "cell_type": "code",
   "execution_count": 0,
   "metadata": {
    "colab": {},
    "colab_type": "code",
    "id": "taS7lIk7xsFC"
   },
   "outputs": [],
   "source": [
    "# 6. Apply Variance Inflation Factors calculation and find if the model built has collinearity between different variables"
   ]
  }
 ],
 "metadata": {
  "colab": {
   "collapsed_sections": [],
   "name": "Stats & ML Assignment Part 2.ipynb",
   "provenance": [],
   "version": "0.3.2"
  },
  "kernelspec": {
   "display_name": "Python 3",
   "language": "python",
   "name": "python3"
  },
  "language_info": {
   "codemirror_mode": {
    "name": "ipython",
    "version": 3
   },
   "file_extension": ".py",
   "mimetype": "text/x-python",
   "name": "python",
   "nbconvert_exporter": "python",
   "pygments_lexer": "ipython3",
   "version": "3.7.0"
  }
 },
 "nbformat": 4,
 "nbformat_minor": 1
}
