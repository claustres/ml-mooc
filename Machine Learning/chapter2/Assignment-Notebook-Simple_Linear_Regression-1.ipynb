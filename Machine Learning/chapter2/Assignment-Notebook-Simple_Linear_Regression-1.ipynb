{
 "cells": [
  {
   "cell_type": "markdown",
   "metadata": {
    "colab_type": "text",
    "id": "W6PdGdhdDcoh"
   },
   "source": [
    "# Ordinary Least Squares in Python\n",
    "\n"
   ]
  },
  {
   "cell_type": "markdown",
   "metadata": {
    "colab_type": "text",
    "id": "jBH5c_rdDcol"
   },
   "source": [
    "## Statsmodels\n",
    "\n",
    "Statsmodel is a Python library designed for more statistically-oriented approaches to data analysis, with an emphasis on econometric analyses. It integrates well with the [pandas](http://pandas.pydata.org) and [numpy](http://numpy.org) libraries we covered in a previous post. It also has built in support for many of the statistical tests to check the quality of the fit and a dedicated set of plotting functions to visualize and diagnose the fit. [Scikit-learn](http://scikit-learn.org/stable/) also has support for linear regression, including many forms of regularized regression lacking in statsmodels, but it lacks the rich set of statistical tests and diagnostics that have been developed for linear models."
   ]
  },
  {
   "cell_type": "markdown",
   "metadata": {
    "colab_type": "text",
    "id": "KyUTCsB4Dcon"
   },
   "source": [
    "## Linear Regression and Ordinary Least Squares"
   ]
  },
  {
   "cell_type": "markdown",
   "metadata": {
    "colab_type": "text",
    "id": "29WLXf83Dcop"
   },
   "source": [
    "Linear regression one of the simplest and most commonly used modeling techniques. It makes very strong assumptions about the relationship between the predictor variables (the X) and the response (the Y). It assumes that this relationship takes the form:\n",
    "\n",
    "$y = \\beta_0 + \\beta_1 * x$\n",
    "\n",
    "Ordinary Least Squares is the simplest and most common estimator in which the two $\\beta$s are chosen to minimize the square of the distance between the predicted values and the actual values. Even though this model is quite rigid and often does not reflect the true relationship, this still remains a popular approach for several reasons. For one, it is computationally cheap to calculate the coefficients. It is also easier to interpret than more sophisticated models, and in situations where the goal is understanding a simple model in detail, rather than estimating the response well, they can provide insight into what the model captures. Finally, in situations where there is a lot of noise, it may be hard to find the true functional form, so a constrained model can perform quite well compared to a complex model which is more affected by noise.\n",
    "\n",
    "The resulting model is represented as follows:\n",
    "\n",
    "$\\hat{y} = \\hat{\\beta}_0 + \\hat{\\beta}_1 * x$\n",
    "\n",
    "Here the hats on the variables represent the fact that they are estimated from the data we have available. The $\\beta$s are termed the parameters of the model or the coefficients. $\\beta_0$ is called the constant term or the intercept."
   ]
  },
  {
   "cell_type": "markdown",
   "metadata": {
    "colab_type": "text",
    "id": "ytqXc57GDcor"
   },
   "source": [
    "## Ordinary Least Squares Using Statsmodels\n",
    "\n",
    "The statsmodels package provides several different classes that provide different options for linear regression. Getting started with linear regression is quite straightforward with the OLS module. \n",
    "\n",
    "To start with we load the [Longley dataset](http://stat.ethz.ch/R-manual/R-patched/library/datasets/html/longley.html) of US macroeconomic data from the [Rdatasets](http://vincentarelbundock.github.io/Rdatasets/) website."
   ]
  },
  {
   "cell_type": "code",
   "execution_count": 1,
   "metadata": {
    "colab": {
     "base_uri": "https://localhost:8080/",
     "height": 255
    },
    "colab_type": "code",
    "id": "ftyV8OMJDcot",
    "outputId": "8992ce24-5ce4-4677-8f9e-b1509edca528"
   },
   "outputs": [
    {
     "data": {
      "text/html": [
       "<div>\n",
       "<style scoped>\n",
       "    .dataframe tbody tr th:only-of-type {\n",
       "        vertical-align: middle;\n",
       "    }\n",
       "\n",
       "    .dataframe tbody tr th {\n",
       "        vertical-align: top;\n",
       "    }\n",
       "\n",
       "    .dataframe thead th {\n",
       "        text-align: right;\n",
       "    }\n",
       "</style>\n",
       "<table border=\"1\" class=\"dataframe\">\n",
       "  <thead>\n",
       "    <tr style=\"text-align: right;\">\n",
       "      <th></th>\n",
       "      <th>Unnamed: 0</th>\n",
       "      <th>employment</th>\n",
       "      <th>price</th>\n",
       "      <th>gnp</th>\n",
       "      <th>armedforces</th>\n",
       "    </tr>\n",
       "  </thead>\n",
       "  <tbody>\n",
       "    <tr>\n",
       "      <th>0</th>\n",
       "      <td>1</td>\n",
       "      <td>60323</td>\n",
       "      <td>83.0</td>\n",
       "      <td>234289</td>\n",
       "      <td>1590</td>\n",
       "    </tr>\n",
       "    <tr>\n",
       "      <th>1</th>\n",
       "      <td>2</td>\n",
       "      <td>61122</td>\n",
       "      <td>88.5</td>\n",
       "      <td>259426</td>\n",
       "      <td>1456</td>\n",
       "    </tr>\n",
       "    <tr>\n",
       "      <th>2</th>\n",
       "      <td>3</td>\n",
       "      <td>60171</td>\n",
       "      <td>88.2</td>\n",
       "      <td>258054</td>\n",
       "      <td>1616</td>\n",
       "    </tr>\n",
       "    <tr>\n",
       "      <th>3</th>\n",
       "      <td>4</td>\n",
       "      <td>61187</td>\n",
       "      <td>89.5</td>\n",
       "      <td>284599</td>\n",
       "      <td>1650</td>\n",
       "    </tr>\n",
       "    <tr>\n",
       "      <th>4</th>\n",
       "      <td>5</td>\n",
       "      <td>63221</td>\n",
       "      <td>96.2</td>\n",
       "      <td>328975</td>\n",
       "      <td>3099</td>\n",
       "    </tr>\n",
       "  </tbody>\n",
       "</table>\n",
       "</div>"
      ],
      "text/plain": [
       "   Unnamed: 0  employment  price     gnp  armedforces\n",
       "0           1       60323   83.0  234289         1590\n",
       "1           2       61122   88.5  259426         1456\n",
       "2           3       60171   88.2  258054         1616\n",
       "3           4       61187   89.5  284599         1650\n",
       "4           5       63221   96.2  328975         3099"
      ]
     },
     "execution_count": 1,
     "metadata": {},
     "output_type": "execute_result"
    }
   ],
   "source": [
    "# load numpy and pandas for data manipulation\n",
    "import numpy as np\n",
    "import pandas as pd\n",
    "# and matplotlib for graphs\n",
    "import matplotlib.pyplot as plt\n",
    "\n",
    "# load statsmodels as alias ``sm``\n",
    "import statsmodels.api as sm\n",
    "\n",
    "# load the longley dataset into a pandas data frame - first column (year) used as row labels\n",
    "longley = pd.read_csv('longley.csv')\n",
    "longley.head()"
   ]
  },
  {
   "cell_type": "markdown",
   "metadata": {
    "colab_type": "text",
    "id": "39GLXeIzDco5"
   },
   "source": [
    "We will use the variable Total Derived Employment (``'Employed'``) as our response ``y`` and Gross National Product (``'GNP'``) as our predictor ``X``. "
   ]
  },
  {
   "cell_type": "markdown",
   "metadata": {
    "colab_type": "text",
    "id": "LkAhiyONDco6"
   },
   "source": [
    "1. Create a linear regression model that can predict Employment based on GNP as independent variable"
   ]
  },
  {
   "cell_type": "code",
   "execution_count": 2,
   "metadata": {
    "colab": {
     "base_uri": "https://localhost:8080/",
     "height": 198
    },
    "colab_type": "code",
    "id": "5OpJGwaeDco7",
    "outputId": "e1d56725-9974-4816-a9aa-fdb839ab8d99"
   },
   "outputs": [],
   "source": [
    "x = longley['gnp']\n",
    "# Without this the model will be fit without intercept\n",
    "x = sm.add_constant(x)\n",
    "y = longley['employment']"
   ]
  },
  {
   "cell_type": "markdown",
   "metadata": {
    "colab_type": "text",
    "id": "ZMBEpASRDcpA"
   },
   "source": [
    "Using statsmodel OLS method create a model trained on GNP"
   ]
  },
  {
   "cell_type": "code",
   "execution_count": 3,
   "metadata": {
    "colab": {},
    "colab_type": "code",
    "id": "Obtm4PaaDcpB"
   },
   "outputs": [],
   "source": [
    "model = sm.OLS(y, x)"
   ]
  },
  {
   "cell_type": "markdown",
   "metadata": {
    "colab_type": "text",
    "id": "RgfCNrAjDcpE"
   },
   "source": [
    "Fit the model by calling the OLS object's ``fit()`` method. "
   ]
  },
  {
   "cell_type": "code",
   "execution_count": 4,
   "metadata": {
    "colab": {
     "base_uri": "https://localhost:8080/",
     "height": 411
    },
    "colab_type": "code",
    "id": "_VDrvJDLDcpG",
    "outputId": "d6489a44-9bce-4748-b745-c969afd1e6fd"
   },
   "outputs": [
    {
     "name": "stdout",
     "output_type": "stream",
     "text": [
      "                            OLS Regression Results                            \n",
      "==============================================================================\n",
      "Dep. Variable:             employment   R-squared:                       0.967\n",
      "Model:                            OLS   Adj. R-squared:                  0.965\n",
      "Method:                 Least Squares   F-statistic:                     415.1\n",
      "Date:                Fri, 23 Oct 2020   Prob (F-statistic):           8.36e-12\n",
      "Time:                        09:23:00   Log-Likelihood:                -125.43\n",
      "No. Observations:                  16   AIC:                             254.9\n",
      "Df Residuals:                      14   BIC:                             256.4\n",
      "Df Model:                           1                                         \n",
      "Covariance Type:            nonrobust                                         \n",
      "==============================================================================\n",
      "                 coef    std err          t      P>|t|      [0.025      0.975]\n",
      "------------------------------------------------------------------------------\n",
      "const       5.184e+04    681.372     76.087      0.000    5.04e+04    5.33e+04\n",
      "gnp            0.0348      0.002     20.374      0.000       0.031       0.038\n",
      "==============================================================================\n",
      "Omnibus:                        1.925   Durbin-Watson:                   1.619\n",
      "Prob(Omnibus):                  0.382   Jarque-Bera (JB):                1.215\n",
      "Skew:                           0.664   Prob(JB):                        0.545\n",
      "Kurtosis:                       2.759   Cond. No.                     1.66e+06\n",
      "==============================================================================\n",
      "\n",
      "Warnings:\n",
      "[1] Standard Errors assume that the covariance matrix of the errors is correctly specified.\n",
      "[2] The condition number is large, 1.66e+06. This might indicate that there are\n",
      "strong multicollinearity or other numerical problems.\n"
     ]
    },
    {
     "name": "stderr",
     "output_type": "stream",
     "text": [
      "D:\\Applications\\Anaconda3\\lib\\site-packages\\scipy\\stats\\stats.py:1394: UserWarning: kurtosistest only valid for n>=20 ... continuing anyway, n=16\n",
      "  \"anyway, n=%i\" % int(n))\n"
     ]
    }
   ],
   "source": [
    "result = model.fit()\n",
    "print(result.summary())"
   ]
  },
  {
   "cell_type": "markdown",
   "metadata": {
    "colab_type": "text",
    "id": "bkwKpcBVDcpK"
   },
   "source": [
    "Print the slope of GNP predictor and the intercept variables"
   ]
  },
  {
   "cell_type": "code",
   "execution_count": 5,
   "metadata": {
    "colab": {
     "base_uri": "https://localhost:8080/",
     "height": 72
    },
    "colab_type": "code",
    "id": "cihPKVPGDcpM",
    "outputId": "704287a9-235c-4fdc-829a-3ba6b9dbfbb8"
   },
   "outputs": [
    {
     "name": "stdout",
     "output_type": "stream",
     "text": [
      "Params= const    51843.589782\n",
      "gnp          0.034752\n",
      "dtype: float64\n",
      "R²= 0.9673737718541234\n",
      "F= 415.1026206708294\n"
     ]
    }
   ],
   "source": [
    "print('Params=', result.params)\n",
    "print('R²=', result.rsquared)\n",
    "print('F=', result.fvalue)"
   ]
  },
  {
   "cell_type": "markdown",
   "metadata": {
    "colab_type": "text",
    "id": "bDY5sDgdFDv7"
   },
   "source": [
    "Pick 100 hundred points equally spaced from the min to the max of GNP \n",
    "Calculate the predicted values and plot the graph between X and Y"
   ]
  },
  {
   "cell_type": "code",
   "execution_count": 6,
   "metadata": {
    "colab": {
     "base_uri": "https://localhost:8080/",
     "height": 315
    },
    "colab_type": "code",
    "id": "yJug6aS5DcpQ",
    "outputId": "fac3c5c3-9ed8-40b2-d81d-67f44d3f77bd"
   },
   "outputs": [
    {
     "data": {
      "image/png": "[encoded data removed]",
      "text/plain": [
       "<Figure size 432x288 with 1 Axes>"
      ]
     },
     "metadata": {
      "needs_background": "light"
     },
     "output_type": "display_data"
    }
   ],
   "source": [
    "# We pick 100 hundred points equally spaced from the min to the max\n",
    "min = longley['gnp'].min()\n",
    "max = longley['gnp'].max()\n",
    "gnp = pd.DataFrame({ 'gnp': np.linspace(min,max,100) })\n",
    "X = sm.add_constant(gnp)\n",
    "\n",
    "# Now we calculate the predicted value\n",
    "Y = model.predict(result.params, X)\n",
    "\n",
    "# Plot the raw data\n",
    "plt.scatter(longley['gnp'], longley['employment'],  color='blue', alpha=0.20)\n",
    "plt.xlabel(\"GNP\")\n",
    "plt.ylabel(\"Employment\")\n",
    "\n",
    "# Add the prediction/regression line\n",
    "plt.scatter(gnp, Y,  color='red', alpha=0.20)\n",
    "plt.plot(longley['gnp'], model.predict(result.params), color='black', alpha=0.70, linewidth=2)\n",
    "plt.show()"
   ]
  },
  {
   "cell_type": "markdown",
   "metadata": {
    "colab_type": "text",
    "id": "-ou1xpHxDcpV"
   },
   "source": [
    "Statsmodels also provides a formulaic interface . Note that this requires the use of a different api to statsmodels, and the class is now called ``ols`` rather than ``OLS``. The argument ``formula`` allows you to specify the response and the predictors using the column names of the input data frame ``data``. \n",
    "\n",
    "Task : import formula api as alias smf and then create OLS based model using the formula Employed ~ GNP\n",
    "\n",
    "Hint: smf.ols(formula='Employed ~ GNP', data=df).fit()\n",
    "\n",
    "Also print a summary of the object created in the previous step \n",
    "\n"
   ]
  },
  {
   "cell_type": "code",
   "execution_count": 7,
   "metadata": {
    "colab": {
     "base_uri": "https://localhost:8080/",
     "height": 375
    },
    "colab_type": "code",
    "id": "NjbfFJGmDcpW",
    "outputId": "68d51226-db4b-4238-d5ea-ed9045b4c7dc"
   },
   "outputs": [
    {
     "name": "stdout",
     "output_type": "stream",
     "text": [
      "                            OLS Regression Results                            \n",
      "==============================================================================\n",
      "Dep. Variable:             employment   R-squared:                       0.967\n",
      "Model:                            OLS   Adj. R-squared:                  0.965\n",
      "Method:                 Least Squares   F-statistic:                     415.1\n",
      "Date:                Fri, 23 Oct 2020   Prob (F-statistic):           8.36e-12\n",
      "Time:                        09:27:03   Log-Likelihood:                -125.43\n",
      "No. Observations:                  16   AIC:                             254.9\n",
      "Df Residuals:                      14   BIC:                             256.4\n",
      "Df Model:                           1                                         \n",
      "Covariance Type:            nonrobust                                         \n",
      "==============================================================================\n",
      "                 coef    std err          t      P>|t|      [0.025      0.975]\n",
      "------------------------------------------------------------------------------\n",
      "Intercept   5.184e+04    681.372     76.087      0.000    5.04e+04    5.33e+04\n",
      "gnp            0.0348      0.002     20.374      0.000       0.031       0.038\n",
      "==============================================================================\n",
      "Omnibus:                        1.925   Durbin-Watson:                   1.619\n",
      "Prob(Omnibus):                  0.382   Jarque-Bera (JB):                1.215\n",
      "Skew:                           0.664   Prob(JB):                        0.545\n",
      "Kurtosis:                       2.759   Cond. No.                     1.66e+06\n",
      "==============================================================================\n",
      "\n",
      "Warnings:\n",
      "[1] Standard Errors assume that the covariance matrix of the errors is correctly specified.\n",
      "[2] The condition number is large, 1.66e+06. This might indicate that there are\n",
      "strong multicollinearity or other numerical problems.\n"
     ]
    },
    {
     "name": "stderr",
     "output_type": "stream",
     "text": [
      "D:\\Applications\\Anaconda3\\lib\\site-packages\\scipy\\stats\\stats.py:1394: UserWarning: kurtosistest only valid for n>=20 ... continuing anyway, n=16\n",
      "  \"anyway, n=%i\" % int(n))\n"
     ]
    }
   ],
   "source": [
    "# import formula api as alias smf\n",
    "import statsmodels.formula.api as smf\n",
    "\n",
    "# formula: response ~ predictors\n",
    "model = smf.ols('employment ~ gnp', data = longley)\n",
    "result = model.fit()\n",
    "print(result.summary())"
   ]
  },
  {
   "cell_type": "markdown",
   "metadata": {
    "colab_type": "text",
    "id": "TQiKx2DMDcpZ"
   },
   "source": [
    "This summary provides quite a lot of information about the fit. The pats of the table we think are the most important are bolded in the description below.\n",
    "\n",
    "The left part of the first table provides basic information about the model fit:\n",
    "\n",
    "<table>\n",
    "<thead>\n",
    "<tr>\n",
    "<th>Element</th>\n",
    "<th>Description</th>\n",
    "</tr>\n",
    "</thead>\n",
    "<tbody>\n",
    "<tr>\n",
    "<td>Dep. Variable</td>\n",
    "<td>Which variable is the response in the model</td>\n",
    "</tr>\n",
    "<tr>\n",
    "<td>Model</td>\n",
    "<td>What model you are using in the fit</td>\n",
    "</tr>\n",
    "<tr>\n",
    "<td>Method</td>\n",
    "<td>How the parameters of the model were calculated</td>\n",
    "</tr>\n",
    "<tr>\n",
    "<td>No. Observations</td>\n",
    "<td>The number of observations (examples)</td>\n",
    "</tr>\n",
    "<tr>\n",
    "<td>DF Residuals</td>\n",
    "<td>Degrees of freedom of the residuals. Number of observations - number of parameters</td>\n",
    "</tr>\n",
    "<tr>\n",
    "<td>DF Model</td>\n",
    "<td>Number of parameters in the model (not including the constant term if present)</td>\n",
    "</tr>\n",
    "</tbody>\n",
    "</table>\n",
    "\n",
    "The right part of the first table shows the goodness of fit\n",
    "\n",
    "<table>\n",
    "<thead>\n",
    "<tr>\n",
    "<th>Element</th>\n",
    "<th>Description</th>\n",
    "</tr>\n",
    "</thead>\n",
    "<tbody>\n",
    "<tr>\n",
    "<td>**R-squared**</td>\n",
    "<td>The [coefficient of determination](http://en.wikipedia.org/wiki/Coefficient_of_determination). A statistical measure of how well the regression line approximates the real data points</td>\n",
    "</tr>\n",
    "<tr>\n",
    "<td>**Adj. R-squared**</td>\n",
    "<td>The above value adjusted based on the number of observations and the degrees-of-freedom of the residuals</td>\n",
    "</tr>\n",
    "<tr>\n",
    "<td>F-statistic</td>\n",
    "<td>A measure how significant the fit is. The mean squared error of the model divided by the mean squared error of the residuals</td>\n",
    "</tr>\n",
    "<tr>\n",
    "<td>Prob (F-statistic)</td>\n",
    "<td>The probability that you would get the above statistic, given the null hypothesis that they are unrelated</td>\n",
    "</tr>\n",
    "<tr>\n",
    "<td>Log-likelihood</td>\n",
    "<td>The log of the likelihood function.</td>\n",
    "</tr>\n",
    "<tr>\n",
    "<td>AIC</td>\n",
    "<td>The [Akaike Information Criterion](http://en.wikipedia.org/wiki/Akaike_information_criterion). Adjusts the log-likelihood based on the number of observations and the complexity of the model.</td>\n",
    "</tr>\n",
    "<tr>\n",
    "<td>BIC</td>\n",
    "<td>The [Bayesian Information Criterion](http://en.wikipedia.org/wiki/Bayesian_information_criterion). Similar to the AIC, but has a higher penalty for models with more parameters.</td>\n",
    "</tr>\n",
    "</tbody>\n",
    "</table>\n",
    "\n",
    "The second table reports for each of the coefficients\n",
    "\n",
    "<table>\n",
    "<thead>\n",
    "<tr>\n",
    "<th></th>\n",
    "<th>Description</th>\n",
    "</tr>\n",
    "</thead>\n",
    "<tbody>\n",
    "<tr>\n",
    "<td></td>\n",
    "<td>The name of the term in the model</td>\n",
    "</tr>\n",
    "<tr>\n",
    "<td>coef</td>\n",
    "<td>The estimated value of the coefficient</td>\n",
    "</tr>\n",
    "<tr>\n",
    "<td>std err</td>\n",
    "<td>The basic standard error of the estimate of the coefficient. More sophisticated errors are also available.</td>\n",
    "</tr>\n",
    "<tr>\n",
    "<td>t</td>\n",
    "<td>The t-statistic value. This is a measure of how statistically significant the coefficient is.</td>\n",
    "</tr>\n",
    "<tr>\n",
    "<td><strong>P &gt; |t|</strong></td>\n",
    "<td>P-value that the null-hypothesis that the coefficient = 0 is true. If it is less than the confidence level, often 0.05, it indicates that there is a statistically significant relationship between the term and the response.</td>\n",
    "</tr>\n",
    "<tr>\n",
    "<td>**[95.0% Conf. Interval]**</td>\n",
    "<td>The lower and upper values of the 95% confidence interval</td>\n",
    "</tr>\n",
    "</tbody>\n",
    "</table>\n",
    "\n",
    "Finally, there are several statistical tests to assess the distribution of the residuals \n",
    "\n",
    "<table>\n",
    "<thead>\n",
    "<tr>\n",
    "<th>Element</th>\n",
    "<th>Description</th>\n",
    "</tr>\n",
    "</thead>\n",
    "<tbody>\n",
    "<tr>\n",
    "<td>Skewness</td>\n",
    "<td>A measure of the symmetry of the data about the mean. Normally-distributed errors should be symmetrically distributed about the mean (equal amounts above and below the line).</td>\n",
    "</tr>\n",
    "<tr>\n",
    "<td>Kurtosis</td>\n",
    "<td>A measure of the shape of the distribution. Compares the amount of data close to the mean with those far away from the mean (in the tails).</td>\n",
    "</tr>\n",
    "<tr>\n",
    "<td>Omnibus</td>\n",
    "<td>D'Angostino's test. It provides a combined statistical test for the presence of skewness and kurtosis.</td>\n",
    "</tr>\n",
    "<tr>\n",
    "<td>Prob(Omnibus)</td>\n",
    "<td>The above statistic turned into a probability</td>\n",
    "</tr>\n",
    "<tr>\n",
    "<td>Jarque-Bera</td>\n",
    "<td>A different test of the skewness and kurtosis</td>\n",
    "</tr>\n",
    "<tr>\n",
    "<td>Prob (JB)</td>\n",
    "<td>The above statistic turned into a probability</td>\n",
    "</tr>\n",
    "<tr>\n",
    "<td>Durbin-Watson</td>\n",
    "<td>A test for the presence of autocorrelation (that the errors are not independent.) Often important in time-series analysis</td>\n",
    "</tr>\n",
    "<tr>\n",
    "<td>Cond. No</td>\n",
    "<td>A test for multicollinearity (if in a fit with multiple parameters, the parameters are related with each other).</td>\n",
    "</tr>\n",
    "</tbody>\n",
    "</table>\n"
   ]
  },
  {
   "cell_type": "markdown",
   "metadata": {
    "colab_type": "text",
    "id": "cATtxG7KDcpa"
   },
   "source": [
    "As a final note, if you don't want to include a constant term in your model, you can exclude it using the minus operator."
   ]
  },
  {
   "cell_type": "markdown",
   "metadata": {
    "colab_type": "text",
    "id": "ctkQ6oPwGEBJ"
   },
   "source": [
    "Task : Create model with Zero intercept and plot X-Y predicted/Y-original values on a graph\n",
    "\n",
    "Task: Create model with non-Zero intercept and plot X-Y predicted/Y-original values on a graph"
   ]
  },
  {
   "cell_type": "code",
   "execution_count": 46,
   "metadata": {
    "colab": {
     "base_uri": "https://localhost:8080/",
     "height": 313
    },
    "colab_type": "code",
    "id": "Fop5ezydDcpa",
    "outputId": "6e036bb4-7c89-408a-fc36-7893a64e38f4"
   },
   "outputs": [
    {
     "name": "stdout",
     "output_type": "stream",
     "text": [
      "                            OLS Regression Results                            \n",
      "==============================================================================\n",
      "Dep. Variable:             employment   R-squared:                       0.963\n",
      "Model:                            OLS   Adj. R-squared:                  0.961\n",
      "Method:                 Least Squares   F-statistic:                     395.3\n",
      "Date:                Fri, 16 Oct 2020   Prob (F-statistic):           3.44e-12\n",
      "Time:                        12:49:53   Log-Likelihood:                -173.65\n",
      "No. Observations:                  16   AIC:                             349.3\n",
      "Df Residuals:                      15   BIC:                             350.1\n",
      "Df Model:                           1                                         \n",
      "Covariance Type:            nonrobust                                         \n",
      "==============================================================================\n",
      "                 coef    std err          t      P>|t|      [0.025      0.975]\n",
      "------------------------------------------------------------------------------\n",
      "gnp            0.1607      0.008     19.883      0.000       0.143       0.178\n",
      "==============================================================================\n",
      "Omnibus:                        1.059   Durbin-Watson:                   0.055\n",
      "Prob(Omnibus):                  0.589   Jarque-Bera (JB):                0.742\n",
      "Skew:                          -0.068   Prob(JB):                        0.690\n",
      "Kurtosis:                       1.954   Cond. No.                         1.00\n",
      "==============================================================================\n",
      "\n",
      "Warnings:\n",
      "[1] Standard Errors assume that the covariance matrix of the errors is correctly specified.\n",
      "                            OLS Regression Results                            \n",
      "==============================================================================\n",
      "Dep. Variable:             employment   R-squared:                       0.963\n",
      "Model:                            OLS   Adj. R-squared:                  0.961\n",
      "Method:                 Least Squares   F-statistic:                     395.3\n",
      "Date:                Fri, 16 Oct 2020   Prob (F-statistic):           3.44e-12\n",
      "Time:                        12:49:53   Log-Likelihood:                -173.65\n",
      "No. Observations:                  16   AIC:                             349.3\n",
      "Df Residuals:                      15   BIC:                             350.1\n",
      "Df Model:                           1                                         \n",
      "Covariance Type:            nonrobust                                         \n",
      "==============================================================================\n",
      "                 coef    std err          t      P>|t|      [0.025      0.975]\n",
      "------------------------------------------------------------------------------\n",
      "gnp            0.1607      0.008     19.883      0.000       0.143       0.178\n",
      "==============================================================================\n",
      "Omnibus:                        1.059   Durbin-Watson:                   0.055\n",
      "Prob(Omnibus):                  0.589   Jarque-Bera (JB):                0.742\n",
      "Skew:                          -0.068   Prob(JB):                        0.690\n",
      "Kurtosis:                       1.954   Cond. No.                         1.00\n",
      "==============================================================================\n",
      "\n",
      "Warnings:\n",
      "[1] Standard Errors assume that the covariance matrix of the errors is correctly specified.\n"
     ]
    },
    {
     "name": "stderr",
     "output_type": "stream",
     "text": [
      "D:\\Applications\\Anaconda3\\lib\\site-packages\\scipy\\stats\\stats.py:1394: UserWarning: kurtosistest only valid for n>=20 ... continuing anyway, n=16\n",
      "  \"anyway, n=%i\" % int(n))\n",
      "D:\\Applications\\Anaconda3\\lib\\site-packages\\scipy\\stats\\stats.py:1394: UserWarning: kurtosistest only valid for n>=20 ... continuing anyway, n=16\n",
      "  \"anyway, n=%i\" % int(n))\n"
     ]
    },
    {
     "data": {
      "image/png": "[encoded data removed]",
      "text/plain": [
       "<Figure size 432x288 with 1 Axes>"
      ]
     },
     "metadata": {
      "needs_background": "light"
     },
     "output_type": "display_data"
    }
   ],
   "source": [
    "# Fit the no-intercept model without adding a constant column to X\n",
    "x = longley['gnp']\n",
    "y = longley['employment']\n",
    "model = sm.OLS(y, x)\n",
    "result = model.fit()\n",
    "print(result.summary())\n",
    "\n",
    "# Similar with formula API\n",
    "model = smf.ols('employment ~ gnp - 1', data = longley)\n",
    "result = model.fit()\n",
    "print(result.summary())\n",
    "\n",
    "# We pick 100 hundred points equally spaced from the min to the max\n",
    "min = longley['gnp'].min()\n",
    "max = longley['gnp'].max()\n",
    "X = pd.DataFrame({ 'gnp': np.linspace(min,max,100) })\n",
    "\n",
    "# Now we calculate the predicted value\n",
    "Y = model.predict(result.params, X)\n",
    "\n",
    "# Plot the raw data\n",
    "plt.scatter(longley['gnp'], longley['employment'],  color='blue', alpha=0.20)\n",
    "plt.xlabel(\"GNP\")\n",
    "plt.ylabel(\"Employment\")\n",
    "\n",
    "# Add the prediction/regression line\n",
    "plt.scatter(gnp, Y,  color='red', alpha=0.20)\n",
    "plt.plot(longley['gnp'], model.predict(result.params), color='black', alpha=0.70, linewidth=2)\n",
    "plt.show()\n"
   ]
  },
  {
   "cell_type": "markdown",
   "metadata": {
    "colab_type": "text",
    "id": "8oQqvHYVDcpe"
   },
   "source": []
  },
  {
   "cell_type": "markdown",
   "metadata": {
    "colab_type": "text",
    "id": "1hXrCHG5Dcpf"
   },
   "source": [
    "## Correlation and Causation"
   ]
  },
  {
   "cell_type": "markdown",
   "metadata": {
    "colab_type": "text",
    "id": "KLhkSFPiDcpg"
   },
   "source": [
    "Clearly there is a relationship or correlation between GNP and total employment. So does that mean a change in GNP cause a change in total employment? Or does a change in total employment cause a change in GNP?"
   ]
  },
  {
   "cell_type": "markdown",
   "metadata": {},
   "source": [
    "**The model parameters indicate that employment increases by 0.1607 (1000s) for an increase of 1 M$ in GDP.**"
   ]
  },
  {
   "cell_type": "code",
   "execution_count": null,
   "metadata": {},
   "outputs": [],
   "source": []
  }
 ],
 "metadata": {
  "colab": {
   "collapsed_sections": [],
   "name": "Simple Linear Regression.ipynb",
   "provenance": [],
   "version": "0.3.2"
  },
  "kernelspec": {
   "display_name": "Python 3",
   "language": "python",
   "name": "python3"
  },
  "language_info": {
   "codemirror_mode": {
    "name": "ipython",
    "version": 3
   },
   "file_extension": ".py",
   "mimetype": "text/x-python",
   "name": "python",
   "nbconvert_exporter": "python",
   "pygments_lexer": "ipython3",
   "version": "3.7.0"
  }
 },
 "nbformat": 4,
 "nbformat_minor": 1
}
