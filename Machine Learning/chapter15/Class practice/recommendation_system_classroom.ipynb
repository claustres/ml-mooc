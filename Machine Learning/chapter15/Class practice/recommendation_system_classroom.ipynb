{
  "nbformat": 4,
  "nbformat_minor": 0,
  "metadata": {
    "kernelspec": {
      "display_name": "Python 3",
      "language": "python",
      "name": "python3"
    },
    "language_info": {
      "codemirror_mode": {
        "name": "ipython",
        "version": 3
      },
      "file_extension": ".py",
      "mimetype": "text/x-python",
      "name": "python",
      "nbconvert_exporter": "python",
      "pygments_lexer": "ipython3",
      "version": "3.6.0"
    },
    "colab": {
      "name": "recommendation_system_classroom.ipynb",
      "provenance": [],
      "collapsed_sections": [],
      "toc_visible": true
    }
  },
  "cells": [
    {
      "cell_type": "markdown",
      "metadata": {
        "id": "M52HpzkVRvlO",
        "colab_type": "text"
      },
      "source": [
        "\n",
        "## Problem statement\n",
        "We have to build collaborative filtering models for recommending product items. The steps below aim to recommend users their top 10 items to place into their basket. The final output will be a csv file in the `output` folder, and a function that searches for a recommendation list based on a speficied user:\n",
        "* Input: user - customer ID\n",
        "* Returns: ranked list of items (product IDs), that the user is most likely to want to put in his/her (empty) \"basket\"\n",
        "\n",
        "## 1. Import modules\n",
        "* `pandas` and `numpy` for data manipulation\n",
        "* `turicreate` for performing model selection and evaluation\n",
        "* `sklearn` for splitting the data into train and test set"
      ]
    },
    {
      "cell_type": "code",
      "metadata": {
        "id": "Btd-exkESRxP",
        "colab_type": "code",
        "colab": {
          "base_uri": "https://localhost:8080/",
          "height": 435
        },
        "outputId": "fcb31fc5-7bf3-4ced-deb3-dd1a9f3aa573"
      },
      "source": [
        "! pip install turicreate"
      ],
      "execution_count": 39,
      "outputs": [
        {
          "output_type": "stream",
          "text": [
            "Requirement already satisfied: turicreate in /usr/local/lib/python3.6/dist-packages (5.8)\n",
            "Requirement already satisfied: mxnet<1.2.0,>=1.1.0 in /usr/local/lib/python3.6/dist-packages (from turicreate) (1.1.0.post0)\n",
            "Requirement already satisfied: prettytable==0.7.2 in /usr/local/lib/python3.6/dist-packages (from turicreate) (0.7.2)\n",
            "Requirement already satisfied: pillow>=5.2.0 in /usr/local/lib/python3.6/dist-packages (from turicreate) (6.2.1)\n",
            "Requirement already satisfied: requests>=2.9.1 in /usr/local/lib/python3.6/dist-packages (from turicreate) (2.21.0)\n",
            "Requirement already satisfied: numpy==1.16.4 in /usr/local/lib/python3.6/dist-packages (from turicreate) (1.16.4)\n",
            "Requirement already satisfied: six>=1.10.0 in /usr/local/lib/python3.6/dist-packages (from turicreate) (1.12.0)\n",
            "Requirement already satisfied: decorator>=4.0.9 in /usr/local/lib/python3.6/dist-packages (from turicreate) (4.4.1)\n",
            "Requirement already satisfied: pandas>=0.23.2 in /usr/local/lib/python3.6/dist-packages (from turicreate) (0.25.3)\n",
            "Requirement already satisfied: scipy>=1.1.0 in /usr/local/lib/python3.6/dist-packages (from turicreate) (1.3.1)\n",
            "Requirement already satisfied: resampy==0.2.1 in /usr/local/lib/python3.6/dist-packages (from turicreate) (0.2.1)\n",
            "Requirement already satisfied: coremltools==3.0b3 in /usr/local/lib/python3.6/dist-packages (from turicreate) (3.0b3)\n",
            "Requirement already satisfied: graphviz<0.9.0,>=0.8.1 in /usr/local/lib/python3.6/dist-packages (from mxnet<1.2.0,>=1.1.0->turicreate) (0.8.4)\n",
            "Requirement already satisfied: idna<2.9,>=2.5 in /usr/local/lib/python3.6/dist-packages (from requests>=2.9.1->turicreate) (2.8)\n",
            "Requirement already satisfied: urllib3<1.25,>=1.21.1 in /usr/local/lib/python3.6/dist-packages (from requests>=2.9.1->turicreate) (1.24.3)\n",
            "Requirement already satisfied: certifi>=2017.4.17 in /usr/local/lib/python3.6/dist-packages (from requests>=2.9.1->turicreate) (2019.9.11)\n",
            "Requirement already satisfied: chardet<3.1.0,>=3.0.2 in /usr/local/lib/python3.6/dist-packages (from requests>=2.9.1->turicreate) (3.0.4)\n",
            "Requirement already satisfied: python-dateutil>=2.6.1 in /usr/local/lib/python3.6/dist-packages (from pandas>=0.23.2->turicreate) (2.6.1)\n",
            "Requirement already satisfied: pytz>=2017.2 in /usr/local/lib/python3.6/dist-packages (from pandas>=0.23.2->turicreate) (2018.9)\n",
            "Requirement already satisfied: numba>=0.32 in /usr/local/lib/python3.6/dist-packages (from resampy==0.2.1->turicreate) (0.40.1)\n",
            "Requirement already satisfied: protobuf>=3.1.0 in /usr/local/lib/python3.6/dist-packages (from coremltools==3.0b3->turicreate) (3.10.0)\n",
            "Requirement already satisfied: llvmlite>=0.25.0dev0 in /usr/local/lib/python3.6/dist-packages (from numba>=0.32->resampy==0.2.1->turicreate) (0.30.0)\n",
            "Requirement already satisfied: setuptools in /usr/local/lib/python3.6/dist-packages (from protobuf>=3.1.0->coremltools==3.0b3->turicreate) (41.4.0)\n"
          ],
          "name": "stdout"
        }
      ]
    },
    {
      "cell_type": "code",
      "metadata": {
        "id": "LPR5pXjzRvlQ",
        "colab_type": "code",
        "colab": {}
      },
      "source": [
        "\n",
        "import pandas as pd\n",
        "import numpy as np\n",
        "import time\n",
        "import turicreate as tc\n",
        "from sklearn.model_selection  import train_test_split\n"
      ],
      "execution_count": 0,
      "outputs": []
    },
    {
      "cell_type": "markdown",
      "metadata": {
        "id": "ktDDSWyIRvlV",
        "colab_type": "text"
      },
      "source": [
        "## 2. Load data\n",
        "Two datasets are used in this exercise: \n",
        "* `recommend_1.csv` consisting of a list of 1000 customer IDs to recommend as output\n",
        "* `trx_data.csv` consisting of user transactions\n",
        "\n",
        "The format is as follows."
      ]
    },
    {
      "cell_type": "code",
      "metadata": {
        "id": "yQ1gweo8RvlW",
        "colab_type": "code",
        "colab": {}
      },
      "source": [
        "customers = pd.read_csv('recommend_1.csv', error_bad_lines=False)\n",
        "transactions = pd.read_csv('trx_data.csv', error_bad_lines=False)"
      ],
      "execution_count": 0,
      "outputs": []
    },
    {
      "cell_type": "code",
      "metadata": {
        "id": "mGBm3TJRRvlY",
        "colab_type": "code",
        "colab": {
          "base_uri": "https://localhost:8080/",
          "height": 216
        },
        "outputId": "11a89659-d658-4ef4-e787-b5a251ff062a"
      },
      "source": [
        "print(customers.shape)\n",
        "customers.head()"
      ],
      "execution_count": 42,
      "outputs": [
        {
          "output_type": "stream",
          "text": [
            "(1000, 1)\n"
          ],
          "name": "stdout"
        },
        {
          "output_type": "execute_result",
          "data": {
            "text/html": [
              "<div>\n",
              "<style scoped>\n",
              "    .dataframe tbody tr th:only-of-type {\n",
              "        vertical-align: middle;\n",
              "    }\n",
              "\n",
              "    .dataframe tbody tr th {\n",
              "        vertical-align: top;\n",
              "    }\n",
              "\n",
              "    .dataframe thead th {\n",
              "        text-align: right;\n",
              "    }\n",
              "</style>\n",
              "<table border=\"1\" class=\"dataframe\">\n",
              "  <thead>\n",
              "    <tr style=\"text-align: right;\">\n",
              "      <th></th>\n",
              "      <th>customerId</th>\n",
              "    </tr>\n",
              "  </thead>\n",
              "  <tbody>\n",
              "    <tr>\n",
              "      <th>0</th>\n",
              "      <td>1553</td>\n",
              "    </tr>\n",
              "    <tr>\n",
              "      <th>1</th>\n",
              "      <td>20400</td>\n",
              "    </tr>\n",
              "    <tr>\n",
              "      <th>2</th>\n",
              "      <td>19750</td>\n",
              "    </tr>\n",
              "    <tr>\n",
              "      <th>3</th>\n",
              "      <td>6334</td>\n",
              "    </tr>\n",
              "    <tr>\n",
              "      <th>4</th>\n",
              "      <td>27773</td>\n",
              "    </tr>\n",
              "  </tbody>\n",
              "</table>\n",
              "</div>"
            ],
            "text/plain": [
              "   customerId\n",
              "0        1553\n",
              "1       20400\n",
              "2       19750\n",
              "3        6334\n",
              "4       27773"
            ]
          },
          "metadata": {
            "tags": []
          },
          "execution_count": 42
        }
      ]
    },
    {
      "cell_type": "code",
      "metadata": {
        "id": "Kf9JZ6ytRvlb",
        "colab_type": "code",
        "colab": {
          "base_uri": "https://localhost:8080/",
          "height": 216
        },
        "outputId": "85f1e1dd-ddf6-494f-e73c-234a73d4f9ec"
      },
      "source": [
        "print(transactions.shape)\n",
        "transactions.head()"
      ],
      "execution_count": 43,
      "outputs": [
        {
          "output_type": "stream",
          "text": [
            "(62483, 2)\n"
          ],
          "name": "stdout"
        },
        {
          "output_type": "execute_result",
          "data": {
            "text/html": [
              "<div>\n",
              "<style scoped>\n",
              "    .dataframe tbody tr th:only-of-type {\n",
              "        vertical-align: middle;\n",
              "    }\n",
              "\n",
              "    .dataframe tbody tr th {\n",
              "        vertical-align: top;\n",
              "    }\n",
              "\n",
              "    .dataframe thead th {\n",
              "        text-align: right;\n",
              "    }\n",
              "</style>\n",
              "<table border=\"1\" class=\"dataframe\">\n",
              "  <thead>\n",
              "    <tr style=\"text-align: right;\">\n",
              "      <th></th>\n",
              "      <th>customerId</th>\n",
              "      <th>products</th>\n",
              "    </tr>\n",
              "  </thead>\n",
              "  <tbody>\n",
              "    <tr>\n",
              "      <th>0</th>\n",
              "      <td>0</td>\n",
              "      <td>20</td>\n",
              "    </tr>\n",
              "    <tr>\n",
              "      <th>1</th>\n",
              "      <td>1</td>\n",
              "      <td>2|2|23|68|68|111|29|86|107|152</td>\n",
              "    </tr>\n",
              "    <tr>\n",
              "      <th>2</th>\n",
              "      <td>2</td>\n",
              "      <td>111|107|29|11|11|11|33|23</td>\n",
              "    </tr>\n",
              "    <tr>\n",
              "      <th>3</th>\n",
              "      <td>3</td>\n",
              "      <td>164|227</td>\n",
              "    </tr>\n",
              "    <tr>\n",
              "      <th>4</th>\n",
              "      <td>5</td>\n",
              "      <td>2|2</td>\n",
              "    </tr>\n",
              "  </tbody>\n",
              "</table>\n",
              "</div>"
            ],
            "text/plain": [
              "   customerId                        products\n",
              "0           0                              20\n",
              "1           1  2|2|23|68|68|111|29|86|107|152\n",
              "2           2       111|107|29|11|11|11|33|23\n",
              "3           3                         164|227\n",
              "4           5                             2|2"
            ]
          },
          "metadata": {
            "tags": []
          },
          "execution_count": 43
        }
      ]
    },
    {
      "cell_type": "markdown",
      "metadata": {
        "id": "YDe9qetORvld",
        "colab_type": "text"
      },
      "source": [
        "## 3. Data preparation\n",
        "* Our goal here is to break down each list of items in the `products` column into rows and count the number of products bought by a user"
      ]
    },
    {
      "cell_type": "code",
      "metadata": {
        "id": "XOnWtEVTRvle",
        "colab_type": "code",
        "colab": {
          "base_uri": "https://localhost:8080/",
          "height": 108
        },
        "outputId": "96cdf96a-8de9-4c20-ee94-b5fb0dc331ce"
      },
      "source": [
        "# example 1: split product items\n",
        "transactions['products'] = transactions['products'].apply(lambda x: [int(i) for i in x.split('|')])\n",
        "transactions.head(2).set_index('customerId')['products'].apply(pd.Series).reset_index()"
      ],
      "execution_count": 44,
      "outputs": [
        {
          "output_type": "execute_result",
          "data": {
            "text/html": [
              "<div>\n",
              "<style scoped>\n",
              "    .dataframe tbody tr th:only-of-type {\n",
              "        vertical-align: middle;\n",
              "    }\n",
              "\n",
              "    .dataframe tbody tr th {\n",
              "        vertical-align: top;\n",
              "    }\n",
              "\n",
              "    .dataframe thead th {\n",
              "        text-align: right;\n",
              "    }\n",
              "</style>\n",
              "<table border=\"1\" class=\"dataframe\">\n",
              "  <thead>\n",
              "    <tr style=\"text-align: right;\">\n",
              "      <th></th>\n",
              "      <th>customerId</th>\n",
              "      <th>0</th>\n",
              "      <th>1</th>\n",
              "      <th>2</th>\n",
              "      <th>3</th>\n",
              "      <th>4</th>\n",
              "      <th>5</th>\n",
              "      <th>6</th>\n",
              "      <th>7</th>\n",
              "      <th>8</th>\n",
              "      <th>9</th>\n",
              "    </tr>\n",
              "  </thead>\n",
              "  <tbody>\n",
              "    <tr>\n",
              "      <th>0</th>\n",
              "      <td>0</td>\n",
              "      <td>20.0</td>\n",
              "      <td>NaN</td>\n",
              "      <td>NaN</td>\n",
              "      <td>NaN</td>\n",
              "      <td>NaN</td>\n",
              "      <td>NaN</td>\n",
              "      <td>NaN</td>\n",
              "      <td>NaN</td>\n",
              "      <td>NaN</td>\n",
              "      <td>NaN</td>\n",
              "    </tr>\n",
              "    <tr>\n",
              "      <th>1</th>\n",
              "      <td>1</td>\n",
              "      <td>2.0</td>\n",
              "      <td>2.0</td>\n",
              "      <td>23.0</td>\n",
              "      <td>68.0</td>\n",
              "      <td>68.0</td>\n",
              "      <td>111.0</td>\n",
              "      <td>29.0</td>\n",
              "      <td>86.0</td>\n",
              "      <td>107.0</td>\n",
              "      <td>152.0</td>\n",
              "    </tr>\n",
              "  </tbody>\n",
              "</table>\n",
              "</div>"
            ],
            "text/plain": [
              "   customerId     0    1     2     3     4      5     6     7      8      9\n",
              "0           0  20.0  NaN   NaN   NaN   NaN    NaN   NaN   NaN    NaN    NaN\n",
              "1           1   2.0  2.0  23.0  68.0  68.0  111.0  29.0  86.0  107.0  152.0"
            ]
          },
          "metadata": {
            "tags": []
          },
          "execution_count": 44
        }
      ]
    },
    {
      "cell_type": "code",
      "metadata": {
        "id": "AfvUzFKcRvlg",
        "colab_type": "code",
        "colab": {
          "base_uri": "https://localhost:8080/",
          "height": 319
        },
        "outputId": "970957ed-0cd1-4433-e866-148c4c5d4470"
      },
      "source": [
        "# example 2: organize a given table into a dataframe with customerId, single productId, and purchase count\n",
        "pd.melt(transactions.head(2).set_index('customerId')['products'].apply(pd.Series).reset_index(), \n",
        "             id_vars=['customerId'],\n",
        "             value_name='products') \\\n",
        "    .dropna().drop(['variable'], axis=1) \\\n",
        "    .groupby(['customerId', 'products']) \\\n",
        "    .agg({'products': 'count'}) \\\n",
        "    .rename(columns={'products': 'purchase_count'}) \\\n",
        "    .reset_index() \\\n",
        "    .rename(columns={'products': 'productId'})"
      ],
      "execution_count": 45,
      "outputs": [
        {
          "output_type": "execute_result",
          "data": {
            "text/html": [
              "<div>\n",
              "<style scoped>\n",
              "    .dataframe tbody tr th:only-of-type {\n",
              "        vertical-align: middle;\n",
              "    }\n",
              "\n",
              "    .dataframe tbody tr th {\n",
              "        vertical-align: top;\n",
              "    }\n",
              "\n",
              "    .dataframe thead th {\n",
              "        text-align: right;\n",
              "    }\n",
              "</style>\n",
              "<table border=\"1\" class=\"dataframe\">\n",
              "  <thead>\n",
              "    <tr style=\"text-align: right;\">\n",
              "      <th></th>\n",
              "      <th>customerId</th>\n",
              "      <th>productId</th>\n",
              "      <th>purchase_count</th>\n",
              "    </tr>\n",
              "  </thead>\n",
              "  <tbody>\n",
              "    <tr>\n",
              "      <th>0</th>\n",
              "      <td>0</td>\n",
              "      <td>20.0</td>\n",
              "      <td>1</td>\n",
              "    </tr>\n",
              "    <tr>\n",
              "      <th>1</th>\n",
              "      <td>1</td>\n",
              "      <td>2.0</td>\n",
              "      <td>2</td>\n",
              "    </tr>\n",
              "    <tr>\n",
              "      <th>2</th>\n",
              "      <td>1</td>\n",
              "      <td>23.0</td>\n",
              "      <td>1</td>\n",
              "    </tr>\n",
              "    <tr>\n",
              "      <th>3</th>\n",
              "      <td>1</td>\n",
              "      <td>29.0</td>\n",
              "      <td>1</td>\n",
              "    </tr>\n",
              "    <tr>\n",
              "      <th>4</th>\n",
              "      <td>1</td>\n",
              "      <td>68.0</td>\n",
              "      <td>2</td>\n",
              "    </tr>\n",
              "    <tr>\n",
              "      <th>5</th>\n",
              "      <td>1</td>\n",
              "      <td>86.0</td>\n",
              "      <td>1</td>\n",
              "    </tr>\n",
              "    <tr>\n",
              "      <th>6</th>\n",
              "      <td>1</td>\n",
              "      <td>107.0</td>\n",
              "      <td>1</td>\n",
              "    </tr>\n",
              "    <tr>\n",
              "      <th>7</th>\n",
              "      <td>1</td>\n",
              "      <td>111.0</td>\n",
              "      <td>1</td>\n",
              "    </tr>\n",
              "    <tr>\n",
              "      <th>8</th>\n",
              "      <td>1</td>\n",
              "      <td>152.0</td>\n",
              "      <td>1</td>\n",
              "    </tr>\n",
              "  </tbody>\n",
              "</table>\n",
              "</div>"
            ],
            "text/plain": [
              "   customerId  productId  purchase_count\n",
              "0           0       20.0               1\n",
              "1           1        2.0               2\n",
              "2           1       23.0               1\n",
              "3           1       29.0               1\n",
              "4           1       68.0               2\n",
              "5           1       86.0               1\n",
              "6           1      107.0               1\n",
              "7           1      111.0               1\n",
              "8           1      152.0               1"
            ]
          },
          "metadata": {
            "tags": []
          },
          "execution_count": 45
        }
      ]
    },
    {
      "cell_type": "markdown",
      "metadata": {
        "id": "06F1_PWDRvli",
        "colab_type": "text"
      },
      "source": [
        "### 3.1. Create data with user, item, and target field\n",
        "* This table will be an input for our modeling later\n",
        "    * In this case, our user is `customerId`, `productId`, and `purchase_count`"
      ]
    },
    {
      "cell_type": "code",
      "metadata": {
        "id": "KC2kOwzbRvlj",
        "colab_type": "code",
        "colab": {
          "base_uri": "https://localhost:8080/",
          "height": 34
        },
        "outputId": "cc1aefd9-6cbd-4c30-8048-b408da856c4b"
      },
      "source": [
        "s=time.time()\n",
        "\n",
        "data = pd.melt(transactions.set_index('customerId')['products'].apply(pd.Series).reset_index(), \n",
        "             id_vars=['customerId'],\n",
        "             value_name='products') \\\n",
        "    .dropna().drop(['variable'], axis=1) \\\n",
        "    .groupby(['customerId', 'products']) \\\n",
        "    .agg({'products': 'count'}) \\\n",
        "    .rename(columns={'products': 'purchase_count'}) \\\n",
        "    .reset_index() \\\n",
        "    .rename(columns={'products': 'productId'})\n",
        "data['productId'] = data['productId'].astype(np.int64)\n",
        "\n",
        "print(\"Execution time:\", round((time.time()-s)/60,2), \"minutes\")"
      ],
      "execution_count": 46,
      "outputs": [
        {
          "output_type": "stream",
          "text": [
            "Execution time: 0.3 minutes\n"
          ],
          "name": "stdout"
        }
      ]
    },
    {
      "cell_type": "code",
      "metadata": {
        "id": "t1bnkawFRvln",
        "colab_type": "code",
        "colab": {
          "base_uri": "https://localhost:8080/",
          "height": 216
        },
        "outputId": "52070c33-37d0-41d2-dfba-036cb1c2f636"
      },
      "source": [
        "print(data.shape)\n",
        "data.head()"
      ],
      "execution_count": 47,
      "outputs": [
        {
          "output_type": "stream",
          "text": [
            "(133585, 3)\n"
          ],
          "name": "stdout"
        },
        {
          "output_type": "execute_result",
          "data": {
            "text/html": [
              "<div>\n",
              "<style scoped>\n",
              "    .dataframe tbody tr th:only-of-type {\n",
              "        vertical-align: middle;\n",
              "    }\n",
              "\n",
              "    .dataframe tbody tr th {\n",
              "        vertical-align: top;\n",
              "    }\n",
              "\n",
              "    .dataframe thead th {\n",
              "        text-align: right;\n",
              "    }\n",
              "</style>\n",
              "<table border=\"1\" class=\"dataframe\">\n",
              "  <thead>\n",
              "    <tr style=\"text-align: right;\">\n",
              "      <th></th>\n",
              "      <th>customerId</th>\n",
              "      <th>productId</th>\n",
              "      <th>purchase_count</th>\n",
              "    </tr>\n",
              "  </thead>\n",
              "  <tbody>\n",
              "    <tr>\n",
              "      <th>0</th>\n",
              "      <td>0</td>\n",
              "      <td>1</td>\n",
              "      <td>2</td>\n",
              "    </tr>\n",
              "    <tr>\n",
              "      <th>1</th>\n",
              "      <td>0</td>\n",
              "      <td>13</td>\n",
              "      <td>1</td>\n",
              "    </tr>\n",
              "    <tr>\n",
              "      <th>2</th>\n",
              "      <td>0</td>\n",
              "      <td>19</td>\n",
              "      <td>3</td>\n",
              "    </tr>\n",
              "    <tr>\n",
              "      <th>3</th>\n",
              "      <td>0</td>\n",
              "      <td>20</td>\n",
              "      <td>1</td>\n",
              "    </tr>\n",
              "    <tr>\n",
              "      <th>4</th>\n",
              "      <td>0</td>\n",
              "      <td>31</td>\n",
              "      <td>2</td>\n",
              "    </tr>\n",
              "  </tbody>\n",
              "</table>\n",
              "</div>"
            ],
            "text/plain": [
              "   customerId  productId  purchase_count\n",
              "0           0          1               2\n",
              "1           0         13               1\n",
              "2           0         19               3\n",
              "3           0         20               1\n",
              "4           0         31               2"
            ]
          },
          "metadata": {
            "tags": []
          },
          "execution_count": 47
        }
      ]
    },
    {
      "cell_type": "markdown",
      "metadata": {
        "id": "57L5n8ySRvlp",
        "colab_type": "text"
      },
      "source": [
        "### 3.2. Create dummy\n",
        "* Dummy for marking whether a customer bought that item or not.\n",
        "* If one buys an item, then `purchase_dummy` are marked as 1\n",
        "* Why create a dummy instead of normalizing it, you ask?\n",
        "    * Normalizing the purchase count, say by each user, would not work because customers may have different buying frequency don't have the same taste\n",
        "    * However, we can normalize items by purchase frequency across all users, which is done in section 3.3. below."
      ]
    },
    {
      "cell_type": "code",
      "metadata": {
        "id": "O9Vjday6Rvlq",
        "colab_type": "code",
        "colab": {}
      },
      "source": [
        "def create_data_dummy(data):\n",
        "    data_dummy = data.copy()\n",
        "    data_dummy['purchase_dummy'] = 1\n",
        "    return data_dummy"
      ],
      "execution_count": 0,
      "outputs": []
    },
    {
      "cell_type": "code",
      "metadata": {
        "id": "ko1ilDu2Rvls",
        "colab_type": "code",
        "colab": {}
      },
      "source": [
        "data_dummy = create_data_dummy(data)"
      ],
      "execution_count": 0,
      "outputs": []
    },
    {
      "cell_type": "markdown",
      "metadata": {
        "id": "WthOQYUORvlu",
        "colab_type": "text"
      },
      "source": [
        "### 3.3. Normalize item values across users\n",
        "* To do this, we normalize purchase frequency of each item across users by first creating a user-item matrix as follows"
      ]
    },
    {
      "cell_type": "code",
      "metadata": {
        "id": "Tv_fyssmRvlu",
        "colab_type": "code",
        "colab": {
          "base_uri": "https://localhost:8080/",
          "height": 277
        },
        "outputId": "b8cd4f12-d983-4239-f52c-ada511d3072c"
      },
      "source": [
        "df_matrix = pd.pivot_table(data, values='purchase_count', index='customerId', columns='productId')\n",
        "df_matrix.head()"
      ],
      "execution_count": 50,
      "outputs": [
        {
          "output_type": "execute_result",
          "data": {
            "text/html": [
              "<div>\n",
              "<style scoped>\n",
              "    .dataframe tbody tr th:only-of-type {\n",
              "        vertical-align: middle;\n",
              "    }\n",
              "\n",
              "    .dataframe tbody tr th {\n",
              "        vertical-align: top;\n",
              "    }\n",
              "\n",
              "    .dataframe thead th {\n",
              "        text-align: right;\n",
              "    }\n",
              "</style>\n",
              "<table border=\"1\" class=\"dataframe\">\n",
              "  <thead>\n",
              "    <tr style=\"text-align: right;\">\n",
              "      <th>productId</th>\n",
              "      <th>0</th>\n",
              "      <th>1</th>\n",
              "      <th>2</th>\n",
              "      <th>3</th>\n",
              "      <th>4</th>\n",
              "      <th>5</th>\n",
              "      <th>6</th>\n",
              "      <th>7</th>\n",
              "      <th>8</th>\n",
              "      <th>9</th>\n",
              "      <th>10</th>\n",
              "      <th>11</th>\n",
              "      <th>12</th>\n",
              "      <th>13</th>\n",
              "      <th>14</th>\n",
              "      <th>15</th>\n",
              "      <th>16</th>\n",
              "      <th>17</th>\n",
              "      <th>18</th>\n",
              "      <th>19</th>\n",
              "      <th>20</th>\n",
              "      <th>21</th>\n",
              "      <th>22</th>\n",
              "      <th>23</th>\n",
              "      <th>24</th>\n",
              "      <th>25</th>\n",
              "      <th>26</th>\n",
              "      <th>27</th>\n",
              "      <th>28</th>\n",
              "      <th>29</th>\n",
              "      <th>30</th>\n",
              "      <th>31</th>\n",
              "      <th>32</th>\n",
              "      <th>33</th>\n",
              "      <th>34</th>\n",
              "      <th>35</th>\n",
              "      <th>36</th>\n",
              "      <th>37</th>\n",
              "      <th>38</th>\n",
              "      <th>39</th>\n",
              "      <th>...</th>\n",
              "      <th>260</th>\n",
              "      <th>261</th>\n",
              "      <th>262</th>\n",
              "      <th>263</th>\n",
              "      <th>264</th>\n",
              "      <th>265</th>\n",
              "      <th>266</th>\n",
              "      <th>267</th>\n",
              "      <th>268</th>\n",
              "      <th>269</th>\n",
              "      <th>270</th>\n",
              "      <th>271</th>\n",
              "      <th>272</th>\n",
              "      <th>273</th>\n",
              "      <th>274</th>\n",
              "      <th>275</th>\n",
              "      <th>276</th>\n",
              "      <th>277</th>\n",
              "      <th>278</th>\n",
              "      <th>279</th>\n",
              "      <th>280</th>\n",
              "      <th>281</th>\n",
              "      <th>282</th>\n",
              "      <th>283</th>\n",
              "      <th>284</th>\n",
              "      <th>285</th>\n",
              "      <th>286</th>\n",
              "      <th>287</th>\n",
              "      <th>288</th>\n",
              "      <th>289</th>\n",
              "      <th>290</th>\n",
              "      <th>291</th>\n",
              "      <th>292</th>\n",
              "      <th>293</th>\n",
              "      <th>294</th>\n",
              "      <th>295</th>\n",
              "      <th>296</th>\n",
              "      <th>297</th>\n",
              "      <th>298</th>\n",
              "      <th>299</th>\n",
              "    </tr>\n",
              "    <tr>\n",
              "      <th>customerId</th>\n",
              "      <th></th>\n",
              "      <th></th>\n",
              "      <th></th>\n",
              "      <th></th>\n",
              "      <th></th>\n",
              "      <th></th>\n",
              "      <th></th>\n",
              "      <th></th>\n",
              "      <th></th>\n",
              "      <th></th>\n",
              "      <th></th>\n",
              "      <th></th>\n",
              "      <th></th>\n",
              "      <th></th>\n",
              "      <th></th>\n",
              "      <th></th>\n",
              "      <th></th>\n",
              "      <th></th>\n",
              "      <th></th>\n",
              "      <th></th>\n",
              "      <th></th>\n",
              "      <th></th>\n",
              "      <th></th>\n",
              "      <th></th>\n",
              "      <th></th>\n",
              "      <th></th>\n",
              "      <th></th>\n",
              "      <th></th>\n",
              "      <th></th>\n",
              "      <th></th>\n",
              "      <th></th>\n",
              "      <th></th>\n",
              "      <th></th>\n",
              "      <th></th>\n",
              "      <th></th>\n",
              "      <th></th>\n",
              "      <th></th>\n",
              "      <th></th>\n",
              "      <th></th>\n",
              "      <th></th>\n",
              "      <th></th>\n",
              "      <th></th>\n",
              "      <th></th>\n",
              "      <th></th>\n",
              "      <th></th>\n",
              "      <th></th>\n",
              "      <th></th>\n",
              "      <th></th>\n",
              "      <th></th>\n",
              "      <th></th>\n",
              "      <th></th>\n",
              "      <th></th>\n",
              "      <th></th>\n",
              "      <th></th>\n",
              "      <th></th>\n",
              "      <th></th>\n",
              "      <th></th>\n",
              "      <th></th>\n",
              "      <th></th>\n",
              "      <th></th>\n",
              "      <th></th>\n",
              "      <th></th>\n",
              "      <th></th>\n",
              "      <th></th>\n",
              "      <th></th>\n",
              "      <th></th>\n",
              "      <th></th>\n",
              "      <th></th>\n",
              "      <th></th>\n",
              "      <th></th>\n",
              "      <th></th>\n",
              "      <th></th>\n",
              "      <th></th>\n",
              "      <th></th>\n",
              "      <th></th>\n",
              "      <th></th>\n",
              "      <th></th>\n",
              "      <th></th>\n",
              "      <th></th>\n",
              "      <th></th>\n",
              "      <th></th>\n",
              "    </tr>\n",
              "  </thead>\n",
              "  <tbody>\n",
              "    <tr>\n",
              "      <th>0</th>\n",
              "      <td>NaN</td>\n",
              "      <td>2.0</td>\n",
              "      <td>NaN</td>\n",
              "      <td>NaN</td>\n",
              "      <td>NaN</td>\n",
              "      <td>NaN</td>\n",
              "      <td>NaN</td>\n",
              "      <td>NaN</td>\n",
              "      <td>NaN</td>\n",
              "      <td>NaN</td>\n",
              "      <td>NaN</td>\n",
              "      <td>NaN</td>\n",
              "      <td>NaN</td>\n",
              "      <td>1.0</td>\n",
              "      <td>NaN</td>\n",
              "      <td>NaN</td>\n",
              "      <td>NaN</td>\n",
              "      <td>NaN</td>\n",
              "      <td>NaN</td>\n",
              "      <td>3.0</td>\n",
              "      <td>1.0</td>\n",
              "      <td>NaN</td>\n",
              "      <td>NaN</td>\n",
              "      <td>NaN</td>\n",
              "      <td>NaN</td>\n",
              "      <td>NaN</td>\n",
              "      <td>NaN</td>\n",
              "      <td>NaN</td>\n",
              "      <td>NaN</td>\n",
              "      <td>NaN</td>\n",
              "      <td>NaN</td>\n",
              "      <td>2.0</td>\n",
              "      <td>NaN</td>\n",
              "      <td>NaN</td>\n",
              "      <td>NaN</td>\n",
              "      <td>NaN</td>\n",
              "      <td>NaN</td>\n",
              "      <td>NaN</td>\n",
              "      <td>NaN</td>\n",
              "      <td>NaN</td>\n",
              "      <td>...</td>\n",
              "      <td>5.0</td>\n",
              "      <td>NaN</td>\n",
              "      <td>NaN</td>\n",
              "      <td>NaN</td>\n",
              "      <td>NaN</td>\n",
              "      <td>NaN</td>\n",
              "      <td>NaN</td>\n",
              "      <td>NaN</td>\n",
              "      <td>NaN</td>\n",
              "      <td>NaN</td>\n",
              "      <td>NaN</td>\n",
              "      <td>NaN</td>\n",
              "      <td>NaN</td>\n",
              "      <td>NaN</td>\n",
              "      <td>NaN</td>\n",
              "      <td>NaN</td>\n",
              "      <td>NaN</td>\n",
              "      <td>NaN</td>\n",
              "      <td>NaN</td>\n",
              "      <td>NaN</td>\n",
              "      <td>NaN</td>\n",
              "      <td>NaN</td>\n",
              "      <td>NaN</td>\n",
              "      <td>NaN</td>\n",
              "      <td>NaN</td>\n",
              "      <td>NaN</td>\n",
              "      <td>NaN</td>\n",
              "      <td>NaN</td>\n",
              "      <td>NaN</td>\n",
              "      <td>NaN</td>\n",
              "      <td>NaN</td>\n",
              "      <td>NaN</td>\n",
              "      <td>NaN</td>\n",
              "      <td>NaN</td>\n",
              "      <td>NaN</td>\n",
              "      <td>NaN</td>\n",
              "      <td>NaN</td>\n",
              "      <td>NaN</td>\n",
              "      <td>NaN</td>\n",
              "      <td>NaN</td>\n",
              "    </tr>\n",
              "    <tr>\n",
              "      <th>1</th>\n",
              "      <td>NaN</td>\n",
              "      <td>NaN</td>\n",
              "      <td>6.0</td>\n",
              "      <td>NaN</td>\n",
              "      <td>NaN</td>\n",
              "      <td>NaN</td>\n",
              "      <td>NaN</td>\n",
              "      <td>NaN</td>\n",
              "      <td>NaN</td>\n",
              "      <td>NaN</td>\n",
              "      <td>NaN</td>\n",
              "      <td>NaN</td>\n",
              "      <td>NaN</td>\n",
              "      <td>NaN</td>\n",
              "      <td>NaN</td>\n",
              "      <td>NaN</td>\n",
              "      <td>NaN</td>\n",
              "      <td>NaN</td>\n",
              "      <td>NaN</td>\n",
              "      <td>NaN</td>\n",
              "      <td>NaN</td>\n",
              "      <td>NaN</td>\n",
              "      <td>NaN</td>\n",
              "      <td>1.0</td>\n",
              "      <td>NaN</td>\n",
              "      <td>1.0</td>\n",
              "      <td>NaN</td>\n",
              "      <td>NaN</td>\n",
              "      <td>NaN</td>\n",
              "      <td>1.0</td>\n",
              "      <td>NaN</td>\n",
              "      <td>NaN</td>\n",
              "      <td>NaN</td>\n",
              "      <td>NaN</td>\n",
              "      <td>NaN</td>\n",
              "      <td>NaN</td>\n",
              "      <td>NaN</td>\n",
              "      <td>NaN</td>\n",
              "      <td>NaN</td>\n",
              "      <td>NaN</td>\n",
              "      <td>...</td>\n",
              "      <td>NaN</td>\n",
              "      <td>NaN</td>\n",
              "      <td>NaN</td>\n",
              "      <td>NaN</td>\n",
              "      <td>NaN</td>\n",
              "      <td>NaN</td>\n",
              "      <td>NaN</td>\n",
              "      <td>NaN</td>\n",
              "      <td>NaN</td>\n",
              "      <td>NaN</td>\n",
              "      <td>NaN</td>\n",
              "      <td>NaN</td>\n",
              "      <td>NaN</td>\n",
              "      <td>NaN</td>\n",
              "      <td>1.0</td>\n",
              "      <td>NaN</td>\n",
              "      <td>NaN</td>\n",
              "      <td>NaN</td>\n",
              "      <td>NaN</td>\n",
              "      <td>NaN</td>\n",
              "      <td>NaN</td>\n",
              "      <td>NaN</td>\n",
              "      <td>NaN</td>\n",
              "      <td>NaN</td>\n",
              "      <td>NaN</td>\n",
              "      <td>1.0</td>\n",
              "      <td>NaN</td>\n",
              "      <td>NaN</td>\n",
              "      <td>NaN</td>\n",
              "      <td>NaN</td>\n",
              "      <td>NaN</td>\n",
              "      <td>NaN</td>\n",
              "      <td>NaN</td>\n",
              "      <td>1.0</td>\n",
              "      <td>NaN</td>\n",
              "      <td>NaN</td>\n",
              "      <td>1.0</td>\n",
              "      <td>NaN</td>\n",
              "      <td>NaN</td>\n",
              "      <td>NaN</td>\n",
              "    </tr>\n",
              "    <tr>\n",
              "      <th>2</th>\n",
              "      <td>NaN</td>\n",
              "      <td>NaN</td>\n",
              "      <td>NaN</td>\n",
              "      <td>NaN</td>\n",
              "      <td>NaN</td>\n",
              "      <td>NaN</td>\n",
              "      <td>NaN</td>\n",
              "      <td>NaN</td>\n",
              "      <td>NaN</td>\n",
              "      <td>NaN</td>\n",
              "      <td>NaN</td>\n",
              "      <td>3.0</td>\n",
              "      <td>NaN</td>\n",
              "      <td>NaN</td>\n",
              "      <td>NaN</td>\n",
              "      <td>NaN</td>\n",
              "      <td>NaN</td>\n",
              "      <td>NaN</td>\n",
              "      <td>NaN</td>\n",
              "      <td>NaN</td>\n",
              "      <td>NaN</td>\n",
              "      <td>NaN</td>\n",
              "      <td>NaN</td>\n",
              "      <td>1.0</td>\n",
              "      <td>NaN</td>\n",
              "      <td>NaN</td>\n",
              "      <td>NaN</td>\n",
              "      <td>NaN</td>\n",
              "      <td>NaN</td>\n",
              "      <td>1.0</td>\n",
              "      <td>NaN</td>\n",
              "      <td>NaN</td>\n",
              "      <td>NaN</td>\n",
              "      <td>1.0</td>\n",
              "      <td>NaN</td>\n",
              "      <td>NaN</td>\n",
              "      <td>NaN</td>\n",
              "      <td>NaN</td>\n",
              "      <td>NaN</td>\n",
              "      <td>NaN</td>\n",
              "      <td>...</td>\n",
              "      <td>NaN</td>\n",
              "      <td>NaN</td>\n",
              "      <td>NaN</td>\n",
              "      <td>NaN</td>\n",
              "      <td>NaN</td>\n",
              "      <td>NaN</td>\n",
              "      <td>NaN</td>\n",
              "      <td>NaN</td>\n",
              "      <td>NaN</td>\n",
              "      <td>NaN</td>\n",
              "      <td>NaN</td>\n",
              "      <td>NaN</td>\n",
              "      <td>NaN</td>\n",
              "      <td>NaN</td>\n",
              "      <td>NaN</td>\n",
              "      <td>NaN</td>\n",
              "      <td>NaN</td>\n",
              "      <td>NaN</td>\n",
              "      <td>NaN</td>\n",
              "      <td>NaN</td>\n",
              "      <td>NaN</td>\n",
              "      <td>NaN</td>\n",
              "      <td>NaN</td>\n",
              "      <td>NaN</td>\n",
              "      <td>NaN</td>\n",
              "      <td>NaN</td>\n",
              "      <td>NaN</td>\n",
              "      <td>NaN</td>\n",
              "      <td>NaN</td>\n",
              "      <td>NaN</td>\n",
              "      <td>NaN</td>\n",
              "      <td>NaN</td>\n",
              "      <td>NaN</td>\n",
              "      <td>NaN</td>\n",
              "      <td>NaN</td>\n",
              "      <td>NaN</td>\n",
              "      <td>NaN</td>\n",
              "      <td>NaN</td>\n",
              "      <td>NaN</td>\n",
              "      <td>NaN</td>\n",
              "    </tr>\n",
              "    <tr>\n",
              "      <th>3</th>\n",
              "      <td>NaN</td>\n",
              "      <td>NaN</td>\n",
              "      <td>NaN</td>\n",
              "      <td>NaN</td>\n",
              "      <td>NaN</td>\n",
              "      <td>NaN</td>\n",
              "      <td>NaN</td>\n",
              "      <td>NaN</td>\n",
              "      <td>NaN</td>\n",
              "      <td>NaN</td>\n",
              "      <td>NaN</td>\n",
              "      <td>NaN</td>\n",
              "      <td>NaN</td>\n",
              "      <td>NaN</td>\n",
              "      <td>NaN</td>\n",
              "      <td>NaN</td>\n",
              "      <td>NaN</td>\n",
              "      <td>NaN</td>\n",
              "      <td>NaN</td>\n",
              "      <td>NaN</td>\n",
              "      <td>NaN</td>\n",
              "      <td>NaN</td>\n",
              "      <td>NaN</td>\n",
              "      <td>NaN</td>\n",
              "      <td>NaN</td>\n",
              "      <td>1.0</td>\n",
              "      <td>NaN</td>\n",
              "      <td>NaN</td>\n",
              "      <td>NaN</td>\n",
              "      <td>NaN</td>\n",
              "      <td>NaN</td>\n",
              "      <td>NaN</td>\n",
              "      <td>NaN</td>\n",
              "      <td>NaN</td>\n",
              "      <td>NaN</td>\n",
              "      <td>NaN</td>\n",
              "      <td>NaN</td>\n",
              "      <td>NaN</td>\n",
              "      <td>NaN</td>\n",
              "      <td>NaN</td>\n",
              "      <td>...</td>\n",
              "      <td>NaN</td>\n",
              "      <td>NaN</td>\n",
              "      <td>NaN</td>\n",
              "      <td>NaN</td>\n",
              "      <td>NaN</td>\n",
              "      <td>NaN</td>\n",
              "      <td>NaN</td>\n",
              "      <td>NaN</td>\n",
              "      <td>NaN</td>\n",
              "      <td>NaN</td>\n",
              "      <td>NaN</td>\n",
              "      <td>NaN</td>\n",
              "      <td>NaN</td>\n",
              "      <td>NaN</td>\n",
              "      <td>NaN</td>\n",
              "      <td>NaN</td>\n",
              "      <td>NaN</td>\n",
              "      <td>NaN</td>\n",
              "      <td>NaN</td>\n",
              "      <td>NaN</td>\n",
              "      <td>NaN</td>\n",
              "      <td>NaN</td>\n",
              "      <td>NaN</td>\n",
              "      <td>NaN</td>\n",
              "      <td>NaN</td>\n",
              "      <td>NaN</td>\n",
              "      <td>NaN</td>\n",
              "      <td>NaN</td>\n",
              "      <td>NaN</td>\n",
              "      <td>NaN</td>\n",
              "      <td>NaN</td>\n",
              "      <td>NaN</td>\n",
              "      <td>NaN</td>\n",
              "      <td>NaN</td>\n",
              "      <td>NaN</td>\n",
              "      <td>NaN</td>\n",
              "      <td>NaN</td>\n",
              "      <td>NaN</td>\n",
              "      <td>NaN</td>\n",
              "      <td>NaN</td>\n",
              "    </tr>\n",
              "    <tr>\n",
              "      <th>4</th>\n",
              "      <td>NaN</td>\n",
              "      <td>NaN</td>\n",
              "      <td>NaN</td>\n",
              "      <td>NaN</td>\n",
              "      <td>NaN</td>\n",
              "      <td>NaN</td>\n",
              "      <td>NaN</td>\n",
              "      <td>NaN</td>\n",
              "      <td>NaN</td>\n",
              "      <td>NaN</td>\n",
              "      <td>NaN</td>\n",
              "      <td>NaN</td>\n",
              "      <td>NaN</td>\n",
              "      <td>NaN</td>\n",
              "      <td>NaN</td>\n",
              "      <td>2.0</td>\n",
              "      <td>NaN</td>\n",
              "      <td>NaN</td>\n",
              "      <td>NaN</td>\n",
              "      <td>NaN</td>\n",
              "      <td>NaN</td>\n",
              "      <td>NaN</td>\n",
              "      <td>NaN</td>\n",
              "      <td>NaN</td>\n",
              "      <td>NaN</td>\n",
              "      <td>NaN</td>\n",
              "      <td>NaN</td>\n",
              "      <td>NaN</td>\n",
              "      <td>NaN</td>\n",
              "      <td>NaN</td>\n",
              "      <td>NaN</td>\n",
              "      <td>NaN</td>\n",
              "      <td>NaN</td>\n",
              "      <td>NaN</td>\n",
              "      <td>NaN</td>\n",
              "      <td>NaN</td>\n",
              "      <td>NaN</td>\n",
              "      <td>NaN</td>\n",
              "      <td>NaN</td>\n",
              "      <td>NaN</td>\n",
              "      <td>...</td>\n",
              "      <td>NaN</td>\n",
              "      <td>NaN</td>\n",
              "      <td>NaN</td>\n",
              "      <td>NaN</td>\n",
              "      <td>NaN</td>\n",
              "      <td>NaN</td>\n",
              "      <td>NaN</td>\n",
              "      <td>NaN</td>\n",
              "      <td>NaN</td>\n",
              "      <td>NaN</td>\n",
              "      <td>1.0</td>\n",
              "      <td>NaN</td>\n",
              "      <td>NaN</td>\n",
              "      <td>NaN</td>\n",
              "      <td>NaN</td>\n",
              "      <td>NaN</td>\n",
              "      <td>NaN</td>\n",
              "      <td>NaN</td>\n",
              "      <td>NaN</td>\n",
              "      <td>NaN</td>\n",
              "      <td>NaN</td>\n",
              "      <td>NaN</td>\n",
              "      <td>NaN</td>\n",
              "      <td>NaN</td>\n",
              "      <td>NaN</td>\n",
              "      <td>NaN</td>\n",
              "      <td>NaN</td>\n",
              "      <td>NaN</td>\n",
              "      <td>NaN</td>\n",
              "      <td>1.0</td>\n",
              "      <td>NaN</td>\n",
              "      <td>NaN</td>\n",
              "      <td>NaN</td>\n",
              "      <td>NaN</td>\n",
              "      <td>NaN</td>\n",
              "      <td>NaN</td>\n",
              "      <td>NaN</td>\n",
              "      <td>NaN</td>\n",
              "      <td>NaN</td>\n",
              "      <td>NaN</td>\n",
              "    </tr>\n",
              "  </tbody>\n",
              "</table>\n",
              "<p>5 rows × 300 columns</p>\n",
              "</div>"
            ],
            "text/plain": [
              "productId   0    1    2    3    4    5    ...  294  295  296  297  298  299\n",
              "customerId                                ...                              \n",
              "0           NaN  2.0  NaN  NaN  NaN  NaN  ...  NaN  NaN  NaN  NaN  NaN  NaN\n",
              "1           NaN  NaN  6.0  NaN  NaN  NaN  ...  NaN  NaN  1.0  NaN  NaN  NaN\n",
              "2           NaN  NaN  NaN  NaN  NaN  NaN  ...  NaN  NaN  NaN  NaN  NaN  NaN\n",
              "3           NaN  NaN  NaN  NaN  NaN  NaN  ...  NaN  NaN  NaN  NaN  NaN  NaN\n",
              "4           NaN  NaN  NaN  NaN  NaN  NaN  ...  NaN  NaN  NaN  NaN  NaN  NaN\n",
              "\n",
              "[5 rows x 300 columns]"
            ]
          },
          "metadata": {
            "tags": []
          },
          "execution_count": 50
        }
      ]
    },
    {
      "cell_type": "code",
      "metadata": {
        "id": "5JjLRJ3ORvlx",
        "colab_type": "code",
        "colab": {
          "base_uri": "https://localhost:8080/",
          "height": 34
        },
        "outputId": "811f4882-1694-47e5-fed2-bd658d6772d0"
      },
      "source": [
        "(df_matrix.shape)"
      ],
      "execution_count": 51,
      "outputs": [
        {
          "output_type": "execute_result",
          "data": {
            "text/plain": [
              "(24429, 300)"
            ]
          },
          "metadata": {
            "tags": []
          },
          "execution_count": 51
        }
      ]
    },
    {
      "cell_type": "code",
      "metadata": {
        "id": "xbSV0StaRvlz",
        "colab_type": "code",
        "colab": {
          "base_uri": "https://localhost:8080/",
          "height": 294
        },
        "outputId": "11d5ddbc-d024-4ab9-dcce-323b4e1a9d32"
      },
      "source": [
        "df_matrix_norm = (df_matrix-df_matrix.min())/(df_matrix.max()-df_matrix.min())\n",
        "print(df_matrix_norm.shape)\n",
        "df_matrix_norm.head()"
      ],
      "execution_count": 52,
      "outputs": [
        {
          "output_type": "stream",
          "text": [
            "(24429, 300)\n"
          ],
          "name": "stdout"
        },
        {
          "output_type": "execute_result",
          "data": {
            "text/html": [
              "<div>\n",
              "<style scoped>\n",
              "    .dataframe tbody tr th:only-of-type {\n",
              "        vertical-align: middle;\n",
              "    }\n",
              "\n",
              "    .dataframe tbody tr th {\n",
              "        vertical-align: top;\n",
              "    }\n",
              "\n",
              "    .dataframe thead th {\n",
              "        text-align: right;\n",
              "    }\n",
              "</style>\n",
              "<table border=\"1\" class=\"dataframe\">\n",
              "  <thead>\n",
              "    <tr style=\"text-align: right;\">\n",
              "      <th>productId</th>\n",
              "      <th>0</th>\n",
              "      <th>1</th>\n",
              "      <th>2</th>\n",
              "      <th>3</th>\n",
              "      <th>4</th>\n",
              "      <th>5</th>\n",
              "      <th>6</th>\n",
              "      <th>7</th>\n",
              "      <th>8</th>\n",
              "      <th>9</th>\n",
              "      <th>10</th>\n",
              "      <th>11</th>\n",
              "      <th>12</th>\n",
              "      <th>13</th>\n",
              "      <th>14</th>\n",
              "      <th>15</th>\n",
              "      <th>16</th>\n",
              "      <th>17</th>\n",
              "      <th>18</th>\n",
              "      <th>19</th>\n",
              "      <th>20</th>\n",
              "      <th>21</th>\n",
              "      <th>22</th>\n",
              "      <th>23</th>\n",
              "      <th>24</th>\n",
              "      <th>25</th>\n",
              "      <th>26</th>\n",
              "      <th>27</th>\n",
              "      <th>28</th>\n",
              "      <th>29</th>\n",
              "      <th>30</th>\n",
              "      <th>31</th>\n",
              "      <th>32</th>\n",
              "      <th>33</th>\n",
              "      <th>34</th>\n",
              "      <th>35</th>\n",
              "      <th>36</th>\n",
              "      <th>37</th>\n",
              "      <th>38</th>\n",
              "      <th>39</th>\n",
              "      <th>...</th>\n",
              "      <th>260</th>\n",
              "      <th>261</th>\n",
              "      <th>262</th>\n",
              "      <th>263</th>\n",
              "      <th>264</th>\n",
              "      <th>265</th>\n",
              "      <th>266</th>\n",
              "      <th>267</th>\n",
              "      <th>268</th>\n",
              "      <th>269</th>\n",
              "      <th>270</th>\n",
              "      <th>271</th>\n",
              "      <th>272</th>\n",
              "      <th>273</th>\n",
              "      <th>274</th>\n",
              "      <th>275</th>\n",
              "      <th>276</th>\n",
              "      <th>277</th>\n",
              "      <th>278</th>\n",
              "      <th>279</th>\n",
              "      <th>280</th>\n",
              "      <th>281</th>\n",
              "      <th>282</th>\n",
              "      <th>283</th>\n",
              "      <th>284</th>\n",
              "      <th>285</th>\n",
              "      <th>286</th>\n",
              "      <th>287</th>\n",
              "      <th>288</th>\n",
              "      <th>289</th>\n",
              "      <th>290</th>\n",
              "      <th>291</th>\n",
              "      <th>292</th>\n",
              "      <th>293</th>\n",
              "      <th>294</th>\n",
              "      <th>295</th>\n",
              "      <th>296</th>\n",
              "      <th>297</th>\n",
              "      <th>298</th>\n",
              "      <th>299</th>\n",
              "    </tr>\n",
              "    <tr>\n",
              "      <th>customerId</th>\n",
              "      <th></th>\n",
              "      <th></th>\n",
              "      <th></th>\n",
              "      <th></th>\n",
              "      <th></th>\n",
              "      <th></th>\n",
              "      <th></th>\n",
              "      <th></th>\n",
              "      <th></th>\n",
              "      <th></th>\n",
              "      <th></th>\n",
              "      <th></th>\n",
              "      <th></th>\n",
              "      <th></th>\n",
              "      <th></th>\n",
              "      <th></th>\n",
              "      <th></th>\n",
              "      <th></th>\n",
              "      <th></th>\n",
              "      <th></th>\n",
              "      <th></th>\n",
              "      <th></th>\n",
              "      <th></th>\n",
              "      <th></th>\n",
              "      <th></th>\n",
              "      <th></th>\n",
              "      <th></th>\n",
              "      <th></th>\n",
              "      <th></th>\n",
              "      <th></th>\n",
              "      <th></th>\n",
              "      <th></th>\n",
              "      <th></th>\n",
              "      <th></th>\n",
              "      <th></th>\n",
              "      <th></th>\n",
              "      <th></th>\n",
              "      <th></th>\n",
              "      <th></th>\n",
              "      <th></th>\n",
              "      <th></th>\n",
              "      <th></th>\n",
              "      <th></th>\n",
              "      <th></th>\n",
              "      <th></th>\n",
              "      <th></th>\n",
              "      <th></th>\n",
              "      <th></th>\n",
              "      <th></th>\n",
              "      <th></th>\n",
              "      <th></th>\n",
              "      <th></th>\n",
              "      <th></th>\n",
              "      <th></th>\n",
              "      <th></th>\n",
              "      <th></th>\n",
              "      <th></th>\n",
              "      <th></th>\n",
              "      <th></th>\n",
              "      <th></th>\n",
              "      <th></th>\n",
              "      <th></th>\n",
              "      <th></th>\n",
              "      <th></th>\n",
              "      <th></th>\n",
              "      <th></th>\n",
              "      <th></th>\n",
              "      <th></th>\n",
              "      <th></th>\n",
              "      <th></th>\n",
              "      <th></th>\n",
              "      <th></th>\n",
              "      <th></th>\n",
              "      <th></th>\n",
              "      <th></th>\n",
              "      <th></th>\n",
              "      <th></th>\n",
              "      <th></th>\n",
              "      <th></th>\n",
              "      <th></th>\n",
              "      <th></th>\n",
              "    </tr>\n",
              "  </thead>\n",
              "  <tbody>\n",
              "    <tr>\n",
              "      <th>0</th>\n",
              "      <td>NaN</td>\n",
              "      <td>0.1</td>\n",
              "      <td>NaN</td>\n",
              "      <td>NaN</td>\n",
              "      <td>NaN</td>\n",
              "      <td>NaN</td>\n",
              "      <td>NaN</td>\n",
              "      <td>NaN</td>\n",
              "      <td>NaN</td>\n",
              "      <td>NaN</td>\n",
              "      <td>NaN</td>\n",
              "      <td>NaN</td>\n",
              "      <td>NaN</td>\n",
              "      <td>0.0</td>\n",
              "      <td>NaN</td>\n",
              "      <td>NaN</td>\n",
              "      <td>NaN</td>\n",
              "      <td>NaN</td>\n",
              "      <td>NaN</td>\n",
              "      <td>0.142857</td>\n",
              "      <td>0.0</td>\n",
              "      <td>NaN</td>\n",
              "      <td>NaN</td>\n",
              "      <td>NaN</td>\n",
              "      <td>NaN</td>\n",
              "      <td>NaN</td>\n",
              "      <td>NaN</td>\n",
              "      <td>NaN</td>\n",
              "      <td>NaN</td>\n",
              "      <td>NaN</td>\n",
              "      <td>NaN</td>\n",
              "      <td>0.2</td>\n",
              "      <td>NaN</td>\n",
              "      <td>NaN</td>\n",
              "      <td>NaN</td>\n",
              "      <td>NaN</td>\n",
              "      <td>NaN</td>\n",
              "      <td>NaN</td>\n",
              "      <td>NaN</td>\n",
              "      <td>NaN</td>\n",
              "      <td>...</td>\n",
              "      <td>0.571429</td>\n",
              "      <td>NaN</td>\n",
              "      <td>NaN</td>\n",
              "      <td>NaN</td>\n",
              "      <td>NaN</td>\n",
              "      <td>NaN</td>\n",
              "      <td>NaN</td>\n",
              "      <td>NaN</td>\n",
              "      <td>NaN</td>\n",
              "      <td>NaN</td>\n",
              "      <td>NaN</td>\n",
              "      <td>NaN</td>\n",
              "      <td>NaN</td>\n",
              "      <td>NaN</td>\n",
              "      <td>NaN</td>\n",
              "      <td>NaN</td>\n",
              "      <td>NaN</td>\n",
              "      <td>NaN</td>\n",
              "      <td>NaN</td>\n",
              "      <td>NaN</td>\n",
              "      <td>NaN</td>\n",
              "      <td>NaN</td>\n",
              "      <td>NaN</td>\n",
              "      <td>NaN</td>\n",
              "      <td>NaN</td>\n",
              "      <td>NaN</td>\n",
              "      <td>NaN</td>\n",
              "      <td>NaN</td>\n",
              "      <td>NaN</td>\n",
              "      <td>NaN</td>\n",
              "      <td>NaN</td>\n",
              "      <td>NaN</td>\n",
              "      <td>NaN</td>\n",
              "      <td>NaN</td>\n",
              "      <td>NaN</td>\n",
              "      <td>NaN</td>\n",
              "      <td>NaN</td>\n",
              "      <td>NaN</td>\n",
              "      <td>NaN</td>\n",
              "      <td>NaN</td>\n",
              "    </tr>\n",
              "    <tr>\n",
              "      <th>1</th>\n",
              "      <td>NaN</td>\n",
              "      <td>NaN</td>\n",
              "      <td>0.166667</td>\n",
              "      <td>NaN</td>\n",
              "      <td>NaN</td>\n",
              "      <td>NaN</td>\n",
              "      <td>NaN</td>\n",
              "      <td>NaN</td>\n",
              "      <td>NaN</td>\n",
              "      <td>NaN</td>\n",
              "      <td>NaN</td>\n",
              "      <td>NaN</td>\n",
              "      <td>NaN</td>\n",
              "      <td>NaN</td>\n",
              "      <td>NaN</td>\n",
              "      <td>NaN</td>\n",
              "      <td>NaN</td>\n",
              "      <td>NaN</td>\n",
              "      <td>NaN</td>\n",
              "      <td>NaN</td>\n",
              "      <td>NaN</td>\n",
              "      <td>NaN</td>\n",
              "      <td>NaN</td>\n",
              "      <td>0.0</td>\n",
              "      <td>NaN</td>\n",
              "      <td>0.0</td>\n",
              "      <td>NaN</td>\n",
              "      <td>NaN</td>\n",
              "      <td>NaN</td>\n",
              "      <td>0.0</td>\n",
              "      <td>NaN</td>\n",
              "      <td>NaN</td>\n",
              "      <td>NaN</td>\n",
              "      <td>NaN</td>\n",
              "      <td>NaN</td>\n",
              "      <td>NaN</td>\n",
              "      <td>NaN</td>\n",
              "      <td>NaN</td>\n",
              "      <td>NaN</td>\n",
              "      <td>NaN</td>\n",
              "      <td>...</td>\n",
              "      <td>NaN</td>\n",
              "      <td>NaN</td>\n",
              "      <td>NaN</td>\n",
              "      <td>NaN</td>\n",
              "      <td>NaN</td>\n",
              "      <td>NaN</td>\n",
              "      <td>NaN</td>\n",
              "      <td>NaN</td>\n",
              "      <td>NaN</td>\n",
              "      <td>NaN</td>\n",
              "      <td>NaN</td>\n",
              "      <td>NaN</td>\n",
              "      <td>NaN</td>\n",
              "      <td>NaN</td>\n",
              "      <td>0.0</td>\n",
              "      <td>NaN</td>\n",
              "      <td>NaN</td>\n",
              "      <td>NaN</td>\n",
              "      <td>NaN</td>\n",
              "      <td>NaN</td>\n",
              "      <td>NaN</td>\n",
              "      <td>NaN</td>\n",
              "      <td>NaN</td>\n",
              "      <td>NaN</td>\n",
              "      <td>NaN</td>\n",
              "      <td>0.0</td>\n",
              "      <td>NaN</td>\n",
              "      <td>NaN</td>\n",
              "      <td>NaN</td>\n",
              "      <td>NaN</td>\n",
              "      <td>NaN</td>\n",
              "      <td>NaN</td>\n",
              "      <td>NaN</td>\n",
              "      <td>0.0</td>\n",
              "      <td>NaN</td>\n",
              "      <td>NaN</td>\n",
              "      <td>0.0</td>\n",
              "      <td>NaN</td>\n",
              "      <td>NaN</td>\n",
              "      <td>NaN</td>\n",
              "    </tr>\n",
              "    <tr>\n",
              "      <th>2</th>\n",
              "      <td>NaN</td>\n",
              "      <td>NaN</td>\n",
              "      <td>NaN</td>\n",
              "      <td>NaN</td>\n",
              "      <td>NaN</td>\n",
              "      <td>NaN</td>\n",
              "      <td>NaN</td>\n",
              "      <td>NaN</td>\n",
              "      <td>NaN</td>\n",
              "      <td>NaN</td>\n",
              "      <td>NaN</td>\n",
              "      <td>0.1</td>\n",
              "      <td>NaN</td>\n",
              "      <td>NaN</td>\n",
              "      <td>NaN</td>\n",
              "      <td>NaN</td>\n",
              "      <td>NaN</td>\n",
              "      <td>NaN</td>\n",
              "      <td>NaN</td>\n",
              "      <td>NaN</td>\n",
              "      <td>NaN</td>\n",
              "      <td>NaN</td>\n",
              "      <td>NaN</td>\n",
              "      <td>0.0</td>\n",
              "      <td>NaN</td>\n",
              "      <td>NaN</td>\n",
              "      <td>NaN</td>\n",
              "      <td>NaN</td>\n",
              "      <td>NaN</td>\n",
              "      <td>0.0</td>\n",
              "      <td>NaN</td>\n",
              "      <td>NaN</td>\n",
              "      <td>NaN</td>\n",
              "      <td>0.0</td>\n",
              "      <td>NaN</td>\n",
              "      <td>NaN</td>\n",
              "      <td>NaN</td>\n",
              "      <td>NaN</td>\n",
              "      <td>NaN</td>\n",
              "      <td>NaN</td>\n",
              "      <td>...</td>\n",
              "      <td>NaN</td>\n",
              "      <td>NaN</td>\n",
              "      <td>NaN</td>\n",
              "      <td>NaN</td>\n",
              "      <td>NaN</td>\n",
              "      <td>NaN</td>\n",
              "      <td>NaN</td>\n",
              "      <td>NaN</td>\n",
              "      <td>NaN</td>\n",
              "      <td>NaN</td>\n",
              "      <td>NaN</td>\n",
              "      <td>NaN</td>\n",
              "      <td>NaN</td>\n",
              "      <td>NaN</td>\n",
              "      <td>NaN</td>\n",
              "      <td>NaN</td>\n",
              "      <td>NaN</td>\n",
              "      <td>NaN</td>\n",
              "      <td>NaN</td>\n",
              "      <td>NaN</td>\n",
              "      <td>NaN</td>\n",
              "      <td>NaN</td>\n",
              "      <td>NaN</td>\n",
              "      <td>NaN</td>\n",
              "      <td>NaN</td>\n",
              "      <td>NaN</td>\n",
              "      <td>NaN</td>\n",
              "      <td>NaN</td>\n",
              "      <td>NaN</td>\n",
              "      <td>NaN</td>\n",
              "      <td>NaN</td>\n",
              "      <td>NaN</td>\n",
              "      <td>NaN</td>\n",
              "      <td>NaN</td>\n",
              "      <td>NaN</td>\n",
              "      <td>NaN</td>\n",
              "      <td>NaN</td>\n",
              "      <td>NaN</td>\n",
              "      <td>NaN</td>\n",
              "      <td>NaN</td>\n",
              "    </tr>\n",
              "    <tr>\n",
              "      <th>3</th>\n",
              "      <td>NaN</td>\n",
              "      <td>NaN</td>\n",
              "      <td>NaN</td>\n",
              "      <td>NaN</td>\n",
              "      <td>NaN</td>\n",
              "      <td>NaN</td>\n",
              "      <td>NaN</td>\n",
              "      <td>NaN</td>\n",
              "      <td>NaN</td>\n",
              "      <td>NaN</td>\n",
              "      <td>NaN</td>\n",
              "      <td>NaN</td>\n",
              "      <td>NaN</td>\n",
              "      <td>NaN</td>\n",
              "      <td>NaN</td>\n",
              "      <td>NaN</td>\n",
              "      <td>NaN</td>\n",
              "      <td>NaN</td>\n",
              "      <td>NaN</td>\n",
              "      <td>NaN</td>\n",
              "      <td>NaN</td>\n",
              "      <td>NaN</td>\n",
              "      <td>NaN</td>\n",
              "      <td>NaN</td>\n",
              "      <td>NaN</td>\n",
              "      <td>0.0</td>\n",
              "      <td>NaN</td>\n",
              "      <td>NaN</td>\n",
              "      <td>NaN</td>\n",
              "      <td>NaN</td>\n",
              "      <td>NaN</td>\n",
              "      <td>NaN</td>\n",
              "      <td>NaN</td>\n",
              "      <td>NaN</td>\n",
              "      <td>NaN</td>\n",
              "      <td>NaN</td>\n",
              "      <td>NaN</td>\n",
              "      <td>NaN</td>\n",
              "      <td>NaN</td>\n",
              "      <td>NaN</td>\n",
              "      <td>...</td>\n",
              "      <td>NaN</td>\n",
              "      <td>NaN</td>\n",
              "      <td>NaN</td>\n",
              "      <td>NaN</td>\n",
              "      <td>NaN</td>\n",
              "      <td>NaN</td>\n",
              "      <td>NaN</td>\n",
              "      <td>NaN</td>\n",
              "      <td>NaN</td>\n",
              "      <td>NaN</td>\n",
              "      <td>NaN</td>\n",
              "      <td>NaN</td>\n",
              "      <td>NaN</td>\n",
              "      <td>NaN</td>\n",
              "      <td>NaN</td>\n",
              "      <td>NaN</td>\n",
              "      <td>NaN</td>\n",
              "      <td>NaN</td>\n",
              "      <td>NaN</td>\n",
              "      <td>NaN</td>\n",
              "      <td>NaN</td>\n",
              "      <td>NaN</td>\n",
              "      <td>NaN</td>\n",
              "      <td>NaN</td>\n",
              "      <td>NaN</td>\n",
              "      <td>NaN</td>\n",
              "      <td>NaN</td>\n",
              "      <td>NaN</td>\n",
              "      <td>NaN</td>\n",
              "      <td>NaN</td>\n",
              "      <td>NaN</td>\n",
              "      <td>NaN</td>\n",
              "      <td>NaN</td>\n",
              "      <td>NaN</td>\n",
              "      <td>NaN</td>\n",
              "      <td>NaN</td>\n",
              "      <td>NaN</td>\n",
              "      <td>NaN</td>\n",
              "      <td>NaN</td>\n",
              "      <td>NaN</td>\n",
              "    </tr>\n",
              "    <tr>\n",
              "      <th>4</th>\n",
              "      <td>NaN</td>\n",
              "      <td>NaN</td>\n",
              "      <td>NaN</td>\n",
              "      <td>NaN</td>\n",
              "      <td>NaN</td>\n",
              "      <td>NaN</td>\n",
              "      <td>NaN</td>\n",
              "      <td>NaN</td>\n",
              "      <td>NaN</td>\n",
              "      <td>NaN</td>\n",
              "      <td>NaN</td>\n",
              "      <td>NaN</td>\n",
              "      <td>NaN</td>\n",
              "      <td>NaN</td>\n",
              "      <td>NaN</td>\n",
              "      <td>0.022222</td>\n",
              "      <td>NaN</td>\n",
              "      <td>NaN</td>\n",
              "      <td>NaN</td>\n",
              "      <td>NaN</td>\n",
              "      <td>NaN</td>\n",
              "      <td>NaN</td>\n",
              "      <td>NaN</td>\n",
              "      <td>NaN</td>\n",
              "      <td>NaN</td>\n",
              "      <td>NaN</td>\n",
              "      <td>NaN</td>\n",
              "      <td>NaN</td>\n",
              "      <td>NaN</td>\n",
              "      <td>NaN</td>\n",
              "      <td>NaN</td>\n",
              "      <td>NaN</td>\n",
              "      <td>NaN</td>\n",
              "      <td>NaN</td>\n",
              "      <td>NaN</td>\n",
              "      <td>NaN</td>\n",
              "      <td>NaN</td>\n",
              "      <td>NaN</td>\n",
              "      <td>NaN</td>\n",
              "      <td>NaN</td>\n",
              "      <td>...</td>\n",
              "      <td>NaN</td>\n",
              "      <td>NaN</td>\n",
              "      <td>NaN</td>\n",
              "      <td>NaN</td>\n",
              "      <td>NaN</td>\n",
              "      <td>NaN</td>\n",
              "      <td>NaN</td>\n",
              "      <td>NaN</td>\n",
              "      <td>NaN</td>\n",
              "      <td>NaN</td>\n",
              "      <td>0.0</td>\n",
              "      <td>NaN</td>\n",
              "      <td>NaN</td>\n",
              "      <td>NaN</td>\n",
              "      <td>NaN</td>\n",
              "      <td>NaN</td>\n",
              "      <td>NaN</td>\n",
              "      <td>NaN</td>\n",
              "      <td>NaN</td>\n",
              "      <td>NaN</td>\n",
              "      <td>NaN</td>\n",
              "      <td>NaN</td>\n",
              "      <td>NaN</td>\n",
              "      <td>NaN</td>\n",
              "      <td>NaN</td>\n",
              "      <td>NaN</td>\n",
              "      <td>NaN</td>\n",
              "      <td>NaN</td>\n",
              "      <td>NaN</td>\n",
              "      <td>0.0</td>\n",
              "      <td>NaN</td>\n",
              "      <td>NaN</td>\n",
              "      <td>NaN</td>\n",
              "      <td>NaN</td>\n",
              "      <td>NaN</td>\n",
              "      <td>NaN</td>\n",
              "      <td>NaN</td>\n",
              "      <td>NaN</td>\n",
              "      <td>NaN</td>\n",
              "      <td>NaN</td>\n",
              "    </tr>\n",
              "  </tbody>\n",
              "</table>\n",
              "<p>5 rows × 300 columns</p>\n",
              "</div>"
            ],
            "text/plain": [
              "productId   0    1         2    3    4    5    ...  294  295  296  297  298  299\n",
              "customerId                                     ...                              \n",
              "0           NaN  0.1       NaN  NaN  NaN  NaN  ...  NaN  NaN  NaN  NaN  NaN  NaN\n",
              "1           NaN  NaN  0.166667  NaN  NaN  NaN  ...  NaN  NaN  0.0  NaN  NaN  NaN\n",
              "2           NaN  NaN       NaN  NaN  NaN  NaN  ...  NaN  NaN  NaN  NaN  NaN  NaN\n",
              "3           NaN  NaN       NaN  NaN  NaN  NaN  ...  NaN  NaN  NaN  NaN  NaN  NaN\n",
              "4           NaN  NaN       NaN  NaN  NaN  NaN  ...  NaN  NaN  NaN  NaN  NaN  NaN\n",
              "\n",
              "[5 rows x 300 columns]"
            ]
          },
          "metadata": {
            "tags": []
          },
          "execution_count": 52
        }
      ]
    },
    {
      "cell_type": "code",
      "metadata": {
        "id": "Yw5LI3SPRvl1",
        "colab_type": "code",
        "colab": {
          "base_uri": "https://localhost:8080/",
          "height": 216
        },
        "outputId": "c8ae27f6-179a-4b73-af05-a166c3a1c453"
      },
      "source": [
        "# create a table for input to the modeling\n",
        "\n",
        "d = df_matrix_norm.reset_index()\n",
        "d.index.names = ['scaled_purchase_freq']\n",
        "data_norm = pd.melt(d, id_vars=['customerId'], value_name='scaled_purchase_freq').dropna()\n",
        "print(data_norm.shape)\n",
        "data_norm.head()"
      ],
      "execution_count": 53,
      "outputs": [
        {
          "output_type": "stream",
          "text": [
            "(133585, 3)\n"
          ],
          "name": "stdout"
        },
        {
          "output_type": "execute_result",
          "data": {
            "text/html": [
              "<div>\n",
              "<style scoped>\n",
              "    .dataframe tbody tr th:only-of-type {\n",
              "        vertical-align: middle;\n",
              "    }\n",
              "\n",
              "    .dataframe tbody tr th {\n",
              "        vertical-align: top;\n",
              "    }\n",
              "\n",
              "    .dataframe thead th {\n",
              "        text-align: right;\n",
              "    }\n",
              "</style>\n",
              "<table border=\"1\" class=\"dataframe\">\n",
              "  <thead>\n",
              "    <tr style=\"text-align: right;\">\n",
              "      <th></th>\n",
              "      <th>customerId</th>\n",
              "      <th>productId</th>\n",
              "      <th>scaled_purchase_freq</th>\n",
              "    </tr>\n",
              "  </thead>\n",
              "  <tbody>\n",
              "    <tr>\n",
              "      <th>9</th>\n",
              "      <td>9</td>\n",
              "      <td>0</td>\n",
              "      <td>0.133333</td>\n",
              "    </tr>\n",
              "    <tr>\n",
              "      <th>25</th>\n",
              "      <td>25</td>\n",
              "      <td>0</td>\n",
              "      <td>0.133333</td>\n",
              "    </tr>\n",
              "    <tr>\n",
              "      <th>32</th>\n",
              "      <td>33</td>\n",
              "      <td>0</td>\n",
              "      <td>0.133333</td>\n",
              "    </tr>\n",
              "    <tr>\n",
              "      <th>35</th>\n",
              "      <td>36</td>\n",
              "      <td>0</td>\n",
              "      <td>0.133333</td>\n",
              "    </tr>\n",
              "    <tr>\n",
              "      <th>43</th>\n",
              "      <td>44</td>\n",
              "      <td>0</td>\n",
              "      <td>0.133333</td>\n",
              "    </tr>\n",
              "  </tbody>\n",
              "</table>\n",
              "</div>"
            ],
            "text/plain": [
              "    customerId productId  scaled_purchase_freq\n",
              "9            9         0              0.133333\n",
              "25          25         0              0.133333\n",
              "32          33         0              0.133333\n",
              "35          36         0              0.133333\n",
              "43          44         0              0.133333"
            ]
          },
          "metadata": {
            "tags": []
          },
          "execution_count": 53
        }
      ]
    },
    {
      "cell_type": "markdown",
      "metadata": {
        "id": "6Y7c53a3Rvl3",
        "colab_type": "text"
      },
      "source": [
        "#### Define a function for normalizing data"
      ]
    },
    {
      "cell_type": "code",
      "metadata": {
        "id": "kg14MnLJRvl4",
        "colab_type": "code",
        "colab": {}
      },
      "source": [
        "def normalize_data(data):\n",
        "    df_matrix = pd.pivot_table(data, values='purchase_count', index='customerId', columns='productId')\n",
        "    df_matrix_norm = (df_matrix-df_matrix.min())/(df_matrix.max()-df_matrix.min())\n",
        "    d = df_matrix_norm.reset_index()\n",
        "    d.index.names = ['scaled_purchase_freq']\n",
        "    return pd.melt(d, id_vars=['customerId'], value_name='scaled_purchase_freq').dropna()"
      ],
      "execution_count": 0,
      "outputs": []
    },
    {
      "cell_type": "markdown",
      "metadata": {
        "id": "VAXZ5XvTRvl6",
        "colab_type": "text"
      },
      "source": [
        "* We can normalize the their purchase history, from 0-1 (with 1 being the most number of purchase for an item and 0 being 0 purchase count for that item)."
      ]
    },
    {
      "cell_type": "markdown",
      "metadata": {
        "id": "TC31mvZrRvl7",
        "colab_type": "text"
      },
      "source": [
        "## 4. Split train and test set\n",
        "* Splitting the data into training and testing sets is an important part of evaluating predictive modeling, in this case a collaborative filtering model. Typically, we use a larger portion of the data for training and a smaller portion for testing. \n",
        "* We use 80:20 ratio for our train-test set size.\n",
        "* Our training portion will be used to develop a predictive model, while the other to evaluate the model's performance.\n",
        "* Now that we have three datasets with purchase counts, purchase dummy, and scaled purchase counts, we would like to split each."
      ]
    },
    {
      "cell_type": "code",
      "metadata": {
        "id": "T3tZ0fPxRvl7",
        "colab_type": "code",
        "colab": {
          "base_uri": "https://localhost:8080/",
          "height": 34
        },
        "outputId": "2ed9046d-5017-4b32-bddd-dd3b5c6ec2e1"
      },
      "source": [
        "train, test = train_test_split(data, test_size = .2)\n",
        "print(train.shape, test.shape)"
      ],
      "execution_count": 55,
      "outputs": [
        {
          "output_type": "stream",
          "text": [
            "(106868, 3) (26717, 3)\n"
          ],
          "name": "stdout"
        }
      ]
    },
    {
      "cell_type": "code",
      "metadata": {
        "id": "CnbzDiWSRvl9",
        "colab_type": "code",
        "colab": {}
      },
      "source": [
        "# Using turicreate library, we convert dataframe to SFrame - this will be useful in the modeling part\n",
        "\n",
        "train_data = tc.SFrame(train)\n",
        "test_data = tc.SFrame(test)"
      ],
      "execution_count": 0,
      "outputs": []
    },
    {
      "cell_type": "code",
      "metadata": {
        "id": "0fybsMdfRvl_",
        "colab_type": "code",
        "colab": {
          "base_uri": "https://localhost:8080/",
          "height": 274
        },
        "outputId": "0fffdf25-bbe5-461f-fcce-8ed96eb39612"
      },
      "source": [
        "train_data"
      ],
      "execution_count": 57,
      "outputs": [
        {
          "output_type": "execute_result",
          "data": {
            "text/html": [
              "<div style=\"max-height:1000px;max-width:1500px;overflow:auto;\"><table frame=\"box\" rules=\"cols\">\n",
              "    <tr>\n",
              "        <th style=\"padding-left: 1em; padding-right: 1em; text-align: center\">customerId</th>\n",
              "        <th style=\"padding-left: 1em; padding-right: 1em; text-align: center\">productId</th>\n",
              "        <th style=\"padding-left: 1em; padding-right: 1em; text-align: center\">purchase_count</th>\n",
              "    </tr>\n",
              "    <tr>\n",
              "        <td style=\"padding-left: 1em; padding-right: 1em; text-align: center; vertical-align: top\">2946</td>\n",
              "        <td style=\"padding-left: 1em; padding-right: 1em; text-align: center; vertical-align: top\">81</td>\n",
              "        <td style=\"padding-left: 1em; padding-right: 1em; text-align: center; vertical-align: top\">2</td>\n",
              "    </tr>\n",
              "    <tr>\n",
              "        <td style=\"padding-left: 1em; padding-right: 1em; text-align: center; vertical-align: top\">1297</td>\n",
              "        <td style=\"padding-left: 1em; padding-right: 1em; text-align: center; vertical-align: top\">275</td>\n",
              "        <td style=\"padding-left: 1em; padding-right: 1em; text-align: center; vertical-align: top\">1</td>\n",
              "    </tr>\n",
              "    <tr>\n",
              "        <td style=\"padding-left: 1em; padding-right: 1em; text-align: center; vertical-align: top\">704</td>\n",
              "        <td style=\"padding-left: 1em; padding-right: 1em; text-align: center; vertical-align: top\">143</td>\n",
              "        <td style=\"padding-left: 1em; padding-right: 1em; text-align: center; vertical-align: top\">1</td>\n",
              "    </tr>\n",
              "    <tr>\n",
              "        <td style=\"padding-left: 1em; padding-right: 1em; text-align: center; vertical-align: top\">8743</td>\n",
              "        <td style=\"padding-left: 1em; padding-right: 1em; text-align: center; vertical-align: top\">139</td>\n",
              "        <td style=\"padding-left: 1em; padding-right: 1em; text-align: center; vertical-align: top\">3</td>\n",
              "    </tr>\n",
              "    <tr>\n",
              "        <td style=\"padding-left: 1em; padding-right: 1em; text-align: center; vertical-align: top\">25717</td>\n",
              "        <td style=\"padding-left: 1em; padding-right: 1em; text-align: center; vertical-align: top\">66</td>\n",
              "        <td style=\"padding-left: 1em; padding-right: 1em; text-align: center; vertical-align: top\">1</td>\n",
              "    </tr>\n",
              "    <tr>\n",
              "        <td style=\"padding-left: 1em; padding-right: 1em; text-align: center; vertical-align: top\">1441</td>\n",
              "        <td style=\"padding-left: 1em; padding-right: 1em; text-align: center; vertical-align: top\">1</td>\n",
              "        <td style=\"padding-left: 1em; padding-right: 1em; text-align: center; vertical-align: top\">1</td>\n",
              "    </tr>\n",
              "    <tr>\n",
              "        <td style=\"padding-left: 1em; padding-right: 1em; text-align: center; vertical-align: top\">5202</td>\n",
              "        <td style=\"padding-left: 1em; padding-right: 1em; text-align: center; vertical-align: top\">153</td>\n",
              "        <td style=\"padding-left: 1em; padding-right: 1em; text-align: center; vertical-align: top\">1</td>\n",
              "    </tr>\n",
              "    <tr>\n",
              "        <td style=\"padding-left: 1em; padding-right: 1em; text-align: center; vertical-align: top\">3429</td>\n",
              "        <td style=\"padding-left: 1em; padding-right: 1em; text-align: center; vertical-align: top\">273</td>\n",
              "        <td style=\"padding-left: 1em; padding-right: 1em; text-align: center; vertical-align: top\">4</td>\n",
              "    </tr>\n",
              "    <tr>\n",
              "        <td style=\"padding-left: 1em; padding-right: 1em; text-align: center; vertical-align: top\">24955</td>\n",
              "        <td style=\"padding-left: 1em; padding-right: 1em; text-align: center; vertical-align: top\">171</td>\n",
              "        <td style=\"padding-left: 1em; padding-right: 1em; text-align: center; vertical-align: top\">3</td>\n",
              "    </tr>\n",
              "    <tr>\n",
              "        <td style=\"padding-left: 1em; padding-right: 1em; text-align: center; vertical-align: top\">16922</td>\n",
              "        <td style=\"padding-left: 1em; padding-right: 1em; text-align: center; vertical-align: top\">108</td>\n",
              "        <td style=\"padding-left: 1em; padding-right: 1em; text-align: center; vertical-align: top\">2</td>\n",
              "    </tr>\n",
              "</table>\n",
              "[106868 rows x 3 columns]<br/>Note: Only the head of the SFrame is printed.<br/>You can use print_rows(num_rows=m, num_columns=n) to print more rows and columns.\n",
              "</div>"
            ],
            "text/plain": [
              "Columns:\n",
              "\tcustomerId\tint\n",
              "\tproductId\tint\n",
              "\tpurchase_count\tint\n",
              "\n",
              "Rows: 106868\n",
              "\n",
              "Data:\n",
              "+------------+-----------+----------------+\n",
              "| customerId | productId | purchase_count |\n",
              "+------------+-----------+----------------+\n",
              "|    2946    |     81    |       2        |\n",
              "|    1297    |    275    |       1        |\n",
              "|    704     |    143    |       1        |\n",
              "|    8743    |    139    |       3        |\n",
              "|   25717    |     66    |       1        |\n",
              "|    1441    |     1     |       1        |\n",
              "|    5202    |    153    |       1        |\n",
              "|    3429    |    273    |       4        |\n",
              "|   24955    |    171    |       3        |\n",
              "|   16922    |    108    |       2        |\n",
              "+------------+-----------+----------------+\n",
              "[106868 rows x 3 columns]\n",
              "Note: Only the head of the SFrame is printed.\n",
              "You can use print_rows(num_rows=m, num_columns=n) to print more rows and columns."
            ]
          },
          "metadata": {
            "tags": []
          },
          "execution_count": 57
        }
      ]
    },
    {
      "cell_type": "code",
      "metadata": {
        "id": "0-xTaiU6RvmD",
        "colab_type": "code",
        "colab": {
          "base_uri": "https://localhost:8080/",
          "height": 274
        },
        "outputId": "36a59d75-a841-4e82-b768-8b64b530ebdb"
      },
      "source": [
        "test_data"
      ],
      "execution_count": 58,
      "outputs": [
        {
          "output_type": "execute_result",
          "data": {
            "text/html": [
              "<div style=\"max-height:1000px;max-width:1500px;overflow:auto;\"><table frame=\"box\" rules=\"cols\">\n",
              "    <tr>\n",
              "        <th style=\"padding-left: 1em; padding-right: 1em; text-align: center\">customerId</th>\n",
              "        <th style=\"padding-left: 1em; padding-right: 1em; text-align: center\">productId</th>\n",
              "        <th style=\"padding-left: 1em; padding-right: 1em; text-align: center\">purchase_count</th>\n",
              "    </tr>\n",
              "    <tr>\n",
              "        <td style=\"padding-left: 1em; padding-right: 1em; text-align: center; vertical-align: top\">2317</td>\n",
              "        <td style=\"padding-left: 1em; padding-right: 1em; text-align: center; vertical-align: top\">62</td>\n",
              "        <td style=\"padding-left: 1em; padding-right: 1em; text-align: center; vertical-align: top\">4</td>\n",
              "    </tr>\n",
              "    <tr>\n",
              "        <td style=\"padding-left: 1em; padding-right: 1em; text-align: center; vertical-align: top\">14112</td>\n",
              "        <td style=\"padding-left: 1em; padding-right: 1em; text-align: center; vertical-align: top\">218</td>\n",
              "        <td style=\"padding-left: 1em; padding-right: 1em; text-align: center; vertical-align: top\">1</td>\n",
              "    </tr>\n",
              "    <tr>\n",
              "        <td style=\"padding-left: 1em; padding-right: 1em; text-align: center; vertical-align: top\">1441</td>\n",
              "        <td style=\"padding-left: 1em; padding-right: 1em; text-align: center; vertical-align: top\">8</td>\n",
              "        <td style=\"padding-left: 1em; padding-right: 1em; text-align: center; vertical-align: top\">1</td>\n",
              "    </tr>\n",
              "    <tr>\n",
              "        <td style=\"padding-left: 1em; padding-right: 1em; text-align: center; vertical-align: top\">7223</td>\n",
              "        <td style=\"padding-left: 1em; padding-right: 1em; text-align: center; vertical-align: top\">85</td>\n",
              "        <td style=\"padding-left: 1em; padding-right: 1em; text-align: center; vertical-align: top\">1</td>\n",
              "    </tr>\n",
              "    <tr>\n",
              "        <td style=\"padding-left: 1em; padding-right: 1em; text-align: center; vertical-align: top\">1084</td>\n",
              "        <td style=\"padding-left: 1em; padding-right: 1em; text-align: center; vertical-align: top\">15</td>\n",
              "        <td style=\"padding-left: 1em; padding-right: 1em; text-align: center; vertical-align: top\">1</td>\n",
              "    </tr>\n",
              "    <tr>\n",
              "        <td style=\"padding-left: 1em; padding-right: 1em; text-align: center; vertical-align: top\">19014</td>\n",
              "        <td style=\"padding-left: 1em; padding-right: 1em; text-align: center; vertical-align: top\">1</td>\n",
              "        <td style=\"padding-left: 1em; padding-right: 1em; text-align: center; vertical-align: top\">1</td>\n",
              "    </tr>\n",
              "    <tr>\n",
              "        <td style=\"padding-left: 1em; padding-right: 1em; text-align: center; vertical-align: top\">4404</td>\n",
              "        <td style=\"padding-left: 1em; padding-right: 1em; text-align: center; vertical-align: top\">2</td>\n",
              "        <td style=\"padding-left: 1em; padding-right: 1em; text-align: center; vertical-align: top\">5</td>\n",
              "    </tr>\n",
              "    <tr>\n",
              "        <td style=\"padding-left: 1em; padding-right: 1em; text-align: center; vertical-align: top\">1507</td>\n",
              "        <td style=\"padding-left: 1em; padding-right: 1em; text-align: center; vertical-align: top\">6</td>\n",
              "        <td style=\"padding-left: 1em; padding-right: 1em; text-align: center; vertical-align: top\">8</td>\n",
              "    </tr>\n",
              "    <tr>\n",
              "        <td style=\"padding-left: 1em; padding-right: 1em; text-align: center; vertical-align: top\">25364</td>\n",
              "        <td style=\"padding-left: 1em; padding-right: 1em; text-align: center; vertical-align: top\">135</td>\n",
              "        <td style=\"padding-left: 1em; padding-right: 1em; text-align: center; vertical-align: top\">1</td>\n",
              "    </tr>\n",
              "    <tr>\n",
              "        <td style=\"padding-left: 1em; padding-right: 1em; text-align: center; vertical-align: top\">26358</td>\n",
              "        <td style=\"padding-left: 1em; padding-right: 1em; text-align: center; vertical-align: top\">268</td>\n",
              "        <td style=\"padding-left: 1em; padding-right: 1em; text-align: center; vertical-align: top\">1</td>\n",
              "    </tr>\n",
              "</table>\n",
              "[26717 rows x 3 columns]<br/>Note: Only the head of the SFrame is printed.<br/>You can use print_rows(num_rows=m, num_columns=n) to print more rows and columns.\n",
              "</div>"
            ],
            "text/plain": [
              "Columns:\n",
              "\tcustomerId\tint\n",
              "\tproductId\tint\n",
              "\tpurchase_count\tint\n",
              "\n",
              "Rows: 26717\n",
              "\n",
              "Data:\n",
              "+------------+-----------+----------------+\n",
              "| customerId | productId | purchase_count |\n",
              "+------------+-----------+----------------+\n",
              "|    2317    |     62    |       4        |\n",
              "|   14112    |    218    |       1        |\n",
              "|    1441    |     8     |       1        |\n",
              "|    7223    |     85    |       1        |\n",
              "|    1084    |     15    |       1        |\n",
              "|   19014    |     1     |       1        |\n",
              "|    4404    |     2     |       5        |\n",
              "|    1507    |     6     |       8        |\n",
              "|   25364    |    135    |       1        |\n",
              "|   26358    |    268    |       1        |\n",
              "+------------+-----------+----------------+\n",
              "[26717 rows x 3 columns]\n",
              "Note: Only the head of the SFrame is printed.\n",
              "You can use print_rows(num_rows=m, num_columns=n) to print more rows and columns."
            ]
          },
          "metadata": {
            "tags": []
          },
          "execution_count": 58
        }
      ]
    },
    {
      "cell_type": "markdown",
      "metadata": {
        "id": "AjNnxYdYRvmH",
        "colab_type": "text"
      },
      "source": [
        "#### Define a `split_data` function for splitting data to training and test set"
      ]
    },
    {
      "cell_type": "code",
      "metadata": {
        "id": "PMJR7EFoRvmH",
        "colab_type": "code",
        "colab": {}
      },
      "source": [
        "# We can define a function for this step as follows\n",
        "\n",
        "def split_data(data):\n",
        "    '''\n",
        "    Splits dataset into training and test set.\n",
        "    \n",
        "    Args:\n",
        "        data (pandas.DataFrame)\n",
        "        \n",
        "    Returns\n",
        "        train_data (tc.SFrame)\n",
        "        test_data (tc.SFrame)\n",
        "    '''\n",
        "    train, test = train_test_split(data, test_size = .2)\n",
        "    train_data = tc.SFrame(train)\n",
        "    test_data = tc.SFrame(test)\n",
        "    return train_data, test_data"
      ],
      "execution_count": 0,
      "outputs": []
    },
    {
      "cell_type": "code",
      "metadata": {
        "id": "UyMf-fhrRvmK",
        "colab_type": "code",
        "colab": {}
      },
      "source": [
        "# lets try with both dummy table and scaled/normalized purchase table\n",
        "\n",
        "train_data_dummy, test_data_dummy = split_data(data_dummy)\n",
        "train_data_norm, test_data_norm = split_data(data_norm)"
      ],
      "execution_count": 0,
      "outputs": []
    },
    {
      "cell_type": "markdown",
      "metadata": {
        "collapsed": false,
        "id": "pY4GXx83RvmM",
        "colab_type": "text"
      },
      "source": [
        "## 5. Baseline Model\n",
        "Before running a more complicated approach such as collaborative filtering, we would like to use a baseline model to compare and evaluate models. Since baseline typically uses a very simple approach, techniques used beyond this approach should be chosen if they show relatively better accuracy and complexity.\n",
        "\n",
        "### 5.1. Using a Popularity model as a baseline\n",
        "* The popularity model takes the most popular items for recommendation. These items are products with the highest number of sells across customers.\n",
        "* We use `turicreate` library for running and evaluating both baseline and collaborative filtering models below\n",
        "* Training data is used for model selection\n",
        "\n",
        "#### Using purchase counts"
      ]
    },
    {
      "cell_type": "code",
      "metadata": {
        "id": "XswgBD3gRvmN",
        "colab_type": "code",
        "colab": {}
      },
      "source": [
        "# variables to define field names\n",
        "user_id = 'customerId'\n",
        "item_id = 'productId'\n",
        "target = 'purchase_count'\n",
        "users_to_recommend = list(transactions[user_id])\n",
        "n_rec = 10 # number of items to recommend\n",
        "n_display = 30"
      ],
      "execution_count": 0,
      "outputs": []
    },
    {
      "cell_type": "code",
      "metadata": {
        "id": "52Co9LtXRvmP",
        "colab_type": "code",
        "colab": {
          "base_uri": "https://localhost:8080/",
          "height": 86
        },
        "outputId": "7d94c99f-31ef-4e43-be9e-213efa260630"
      },
      "source": [
        "popularity_model = tc.popularity_recommender.create(train_data, \n",
        "                                                    user_id=user_id, \n",
        "                                                    item_id=item_id, \n",
        "                                                    target=target)"
      ],
      "execution_count": 62,
      "outputs": [
        {
          "output_type": "display_data",
          "data": {
            "text/html": [
              "<pre>Preparing data set.</pre>"
            ],
            "text/plain": [
              "Preparing data set."
            ]
          },
          "metadata": {
            "tags": []
          }
        },
        {
          "output_type": "display_data",
          "data": {
            "text/html": [
              "<pre>    Data has 106868 observations with 23366 users and 300 items.</pre>"
            ],
            "text/plain": [
              "    Data has 106868 observations with 23366 users and 300 items."
            ]
          },
          "metadata": {
            "tags": []
          }
        },
        {
          "output_type": "display_data",
          "data": {
            "text/html": [
              "<pre>    Data prepared in: 0.121398s</pre>"
            ],
            "text/plain": [
              "    Data prepared in: 0.121398s"
            ]
          },
          "metadata": {
            "tags": []
          }
        },
        {
          "output_type": "display_data",
          "data": {
            "text/html": [
              "<pre>106868 observations to process; with 300 unique items.</pre>"
            ],
            "text/plain": [
              "106868 observations to process; with 300 unique items."
            ]
          },
          "metadata": {
            "tags": []
          }
        }
      ]
    },
    {
      "cell_type": "code",
      "metadata": {
        "id": "stccVuL_RvmS",
        "colab_type": "code",
        "colab": {
          "base_uri": "https://localhost:8080/",
          "height": 1000
        },
        "outputId": "7bc928fc-04c6-469c-9631-597301e10836"
      },
      "source": [
        "# Get recommendations for a list of users to recommend (from customers file)\n",
        "# Printed below is head / top 30 rows for first 3 customers with 10 recommendations each\n",
        "\n",
        "popularity_recomm = popularity_model.recommend(users=users_to_recommend, k=n_rec)\n",
        "popularity_recomm.print_rows(n_display)"
      ],
      "execution_count": 63,
      "outputs": [
        {
          "output_type": "display_data",
          "data": {
            "text/html": [
              "<pre>recommendations finished on 1000/62483 queries. users per second: 89405.5</pre>"
            ],
            "text/plain": [
              "recommendations finished on 1000/62483 queries. users per second: 89405.5"
            ]
          },
          "metadata": {
            "tags": []
          }
        },
        {
          "output_type": "display_data",
          "data": {
            "text/html": [
              "<pre>recommendations finished on 2000/62483 queries. users per second: 101807</pre>"
            ],
            "text/plain": [
              "recommendations finished on 2000/62483 queries. users per second: 101807"
            ]
          },
          "metadata": {
            "tags": []
          }
        },
        {
          "output_type": "display_data",
          "data": {
            "text/html": [
              "<pre>recommendations finished on 3000/62483 queries. users per second: 111682</pre>"
            ],
            "text/plain": [
              "recommendations finished on 3000/62483 queries. users per second: 111682"
            ]
          },
          "metadata": {
            "tags": []
          }
        },
        {
          "output_type": "display_data",
          "data": {
            "text/html": [
              "<pre>recommendations finished on 4000/62483 queries. users per second: 118259</pre>"
            ],
            "text/plain": [
              "recommendations finished on 4000/62483 queries. users per second: 118259"
            ]
          },
          "metadata": {
            "tags": []
          }
        },
        {
          "output_type": "display_data",
          "data": {
            "text/html": [
              "<pre>recommendations finished on 5000/62483 queries. users per second: 118883</pre>"
            ],
            "text/plain": [
              "recommendations finished on 5000/62483 queries. users per second: 118883"
            ]
          },
          "metadata": {
            "tags": []
          }
        },
        {
          "output_type": "display_data",
          "data": {
            "text/html": [
              "<pre>recommendations finished on 6000/62483 queries. users per second: 118481</pre>"
            ],
            "text/plain": [
              "recommendations finished on 6000/62483 queries. users per second: 118481"
            ]
          },
          "metadata": {
            "tags": []
          }
        },
        {
          "output_type": "display_data",
          "data": {
            "text/html": [
              "<pre>recommendations finished on 7000/62483 queries. users per second: 120838</pre>"
            ],
            "text/plain": [
              "recommendations finished on 7000/62483 queries. users per second: 120838"
            ]
          },
          "metadata": {
            "tags": []
          }
        },
        {
          "output_type": "display_data",
          "data": {
            "text/html": [
              "<pre>recommendations finished on 8000/62483 queries. users per second: 122728</pre>"
            ],
            "text/plain": [
              "recommendations finished on 8000/62483 queries. users per second: 122728"
            ]
          },
          "metadata": {
            "tags": []
          }
        },
        {
          "output_type": "display_data",
          "data": {
            "text/html": [
              "<pre>recommendations finished on 9000/62483 queries. users per second: 117810</pre>"
            ],
            "text/plain": [
              "recommendations finished on 9000/62483 queries. users per second: 117810"
            ]
          },
          "metadata": {
            "tags": []
          }
        },
        {
          "output_type": "display_data",
          "data": {
            "text/html": [
              "<pre>recommendations finished on 10000/62483 queries. users per second: 118385</pre>"
            ],
            "text/plain": [
              "recommendations finished on 10000/62483 queries. users per second: 118385"
            ]
          },
          "metadata": {
            "tags": []
          }
        },
        {
          "output_type": "display_data",
          "data": {
            "text/html": [
              "<pre>recommendations finished on 11000/62483 queries. users per second: 118397</pre>"
            ],
            "text/plain": [
              "recommendations finished on 11000/62483 queries. users per second: 118397"
            ]
          },
          "metadata": {
            "tags": []
          }
        },
        {
          "output_type": "display_data",
          "data": {
            "text/html": [
              "<pre>recommendations finished on 12000/62483 queries. users per second: 118934</pre>"
            ],
            "text/plain": [
              "recommendations finished on 12000/62483 queries. users per second: 118934"
            ]
          },
          "metadata": {
            "tags": []
          }
        },
        {
          "output_type": "display_data",
          "data": {
            "text/html": [
              "<pre>recommendations finished on 13000/62483 queries. users per second: 120504</pre>"
            ],
            "text/plain": [
              "recommendations finished on 13000/62483 queries. users per second: 120504"
            ]
          },
          "metadata": {
            "tags": []
          }
        },
        {
          "output_type": "display_data",
          "data": {
            "text/html": [
              "<pre>recommendations finished on 14000/62483 queries. users per second: 120661</pre>"
            ],
            "text/plain": [
              "recommendations finished on 14000/62483 queries. users per second: 120661"
            ]
          },
          "metadata": {
            "tags": []
          }
        },
        {
          "output_type": "display_data",
          "data": {
            "text/html": [
              "<pre>recommendations finished on 15000/62483 queries. users per second: 121391</pre>"
            ],
            "text/plain": [
              "recommendations finished on 15000/62483 queries. users per second: 121391"
            ]
          },
          "metadata": {
            "tags": []
          }
        },
        {
          "output_type": "display_data",
          "data": {
            "text/html": [
              "<pre>recommendations finished on 16000/62483 queries. users per second: 122079</pre>"
            ],
            "text/plain": [
              "recommendations finished on 16000/62483 queries. users per second: 122079"
            ]
          },
          "metadata": {
            "tags": []
          }
        },
        {
          "output_type": "display_data",
          "data": {
            "text/html": [
              "<pre>recommendations finished on 17000/62483 queries. users per second: 121577</pre>"
            ],
            "text/plain": [
              "recommendations finished on 17000/62483 queries. users per second: 121577"
            ]
          },
          "metadata": {
            "tags": []
          }
        },
        {
          "output_type": "display_data",
          "data": {
            "text/html": [
              "<pre>recommendations finished on 18000/62483 queries. users per second: 121477</pre>"
            ],
            "text/plain": [
              "recommendations finished on 18000/62483 queries. users per second: 121477"
            ]
          },
          "metadata": {
            "tags": []
          }
        },
        {
          "output_type": "display_data",
          "data": {
            "text/html": [
              "<pre>recommendations finished on 19000/62483 queries. users per second: 122067</pre>"
            ],
            "text/plain": [
              "recommendations finished on 19000/62483 queries. users per second: 122067"
            ]
          },
          "metadata": {
            "tags": []
          }
        },
        {
          "output_type": "display_data",
          "data": {
            "text/html": [
              "<pre>recommendations finished on 20000/62483 queries. users per second: 123088</pre>"
            ],
            "text/plain": [
              "recommendations finished on 20000/62483 queries. users per second: 123088"
            ]
          },
          "metadata": {
            "tags": []
          }
        },
        {
          "output_type": "display_data",
          "data": {
            "text/html": [
              "<pre>recommendations finished on 21000/62483 queries. users per second: 123943</pre>"
            ],
            "text/plain": [
              "recommendations finished on 21000/62483 queries. users per second: 123943"
            ]
          },
          "metadata": {
            "tags": []
          }
        },
        {
          "output_type": "display_data",
          "data": {
            "text/html": [
              "<pre>recommendations finished on 22000/62483 queries. users per second: 123636</pre>"
            ],
            "text/plain": [
              "recommendations finished on 22000/62483 queries. users per second: 123636"
            ]
          },
          "metadata": {
            "tags": []
          }
        },
        {
          "output_type": "display_data",
          "data": {
            "text/html": [
              "<pre>recommendations finished on 23000/62483 queries. users per second: 124080</pre>"
            ],
            "text/plain": [
              "recommendations finished on 23000/62483 queries. users per second: 124080"
            ]
          },
          "metadata": {
            "tags": []
          }
        },
        {
          "output_type": "display_data",
          "data": {
            "text/html": [
              "<pre>recommendations finished on 24000/62483 queries. users per second: 122940</pre>"
            ],
            "text/plain": [
              "recommendations finished on 24000/62483 queries. users per second: 122940"
            ]
          },
          "metadata": {
            "tags": []
          }
        },
        {
          "output_type": "display_data",
          "data": {
            "text/html": [
              "<pre>recommendations finished on 25000/62483 queries. users per second: 121631</pre>"
            ],
            "text/plain": [
              "recommendations finished on 25000/62483 queries. users per second: 121631"
            ]
          },
          "metadata": {
            "tags": []
          }
        },
        {
          "output_type": "display_data",
          "data": {
            "text/html": [
              "<pre>recommendations finished on 26000/62483 queries. users per second: 121545</pre>"
            ],
            "text/plain": [
              "recommendations finished on 26000/62483 queries. users per second: 121545"
            ]
          },
          "metadata": {
            "tags": []
          }
        },
        {
          "output_type": "display_data",
          "data": {
            "text/html": [
              "<pre>recommendations finished on 27000/62483 queries. users per second: 121598</pre>"
            ],
            "text/plain": [
              "recommendations finished on 27000/62483 queries. users per second: 121598"
            ]
          },
          "metadata": {
            "tags": []
          }
        },
        {
          "output_type": "display_data",
          "data": {
            "text/html": [
              "<pre>recommendations finished on 28000/62483 queries. users per second: 121590</pre>"
            ],
            "text/plain": [
              "recommendations finished on 28000/62483 queries. users per second: 121590"
            ]
          },
          "metadata": {
            "tags": []
          }
        },
        {
          "output_type": "display_data",
          "data": {
            "text/html": [
              "<pre>recommendations finished on 29000/62483 queries. users per second: 122287</pre>"
            ],
            "text/plain": [
              "recommendations finished on 29000/62483 queries. users per second: 122287"
            ]
          },
          "metadata": {
            "tags": []
          }
        },
        {
          "output_type": "display_data",
          "data": {
            "text/html": [
              "<pre>recommendations finished on 30000/62483 queries. users per second: 122466</pre>"
            ],
            "text/plain": [
              "recommendations finished on 30000/62483 queries. users per second: 122466"
            ]
          },
          "metadata": {
            "tags": []
          }
        },
        {
          "output_type": "display_data",
          "data": {
            "text/html": [
              "<pre>recommendations finished on 31000/62483 queries. users per second: 122398</pre>"
            ],
            "text/plain": [
              "recommendations finished on 31000/62483 queries. users per second: 122398"
            ]
          },
          "metadata": {
            "tags": []
          }
        },
        {
          "output_type": "display_data",
          "data": {
            "text/html": [
              "<pre>recommendations finished on 32000/62483 queries. users per second: 121161</pre>"
            ],
            "text/plain": [
              "recommendations finished on 32000/62483 queries. users per second: 121161"
            ]
          },
          "metadata": {
            "tags": []
          }
        },
        {
          "output_type": "display_data",
          "data": {
            "text/html": [
              "<pre>recommendations finished on 33000/62483 queries. users per second: 120812</pre>"
            ],
            "text/plain": [
              "recommendations finished on 33000/62483 queries. users per second: 120812"
            ]
          },
          "metadata": {
            "tags": []
          }
        },
        {
          "output_type": "display_data",
          "data": {
            "text/html": [
              "<pre>recommendations finished on 34000/62483 queries. users per second: 120660</pre>"
            ],
            "text/plain": [
              "recommendations finished on 34000/62483 queries. users per second: 120660"
            ]
          },
          "metadata": {
            "tags": []
          }
        },
        {
          "output_type": "display_data",
          "data": {
            "text/html": [
              "<pre>recommendations finished on 35000/62483 queries. users per second: 121004</pre>"
            ],
            "text/plain": [
              "recommendations finished on 35000/62483 queries. users per second: 121004"
            ]
          },
          "metadata": {
            "tags": []
          }
        },
        {
          "output_type": "display_data",
          "data": {
            "text/html": [
              "<pre>recommendations finished on 36000/62483 queries. users per second: 121200</pre>"
            ],
            "text/plain": [
              "recommendations finished on 36000/62483 queries. users per second: 121200"
            ]
          },
          "metadata": {
            "tags": []
          }
        },
        {
          "output_type": "display_data",
          "data": {
            "text/html": [
              "<pre>recommendations finished on 37000/62483 queries. users per second: 121954</pre>"
            ],
            "text/plain": [
              "recommendations finished on 37000/62483 queries. users per second: 121954"
            ]
          },
          "metadata": {
            "tags": []
          }
        },
        {
          "output_type": "display_data",
          "data": {
            "text/html": [
              "<pre>recommendations finished on 38000/62483 queries. users per second: 121800</pre>"
            ],
            "text/plain": [
              "recommendations finished on 38000/62483 queries. users per second: 121800"
            ]
          },
          "metadata": {
            "tags": []
          }
        },
        {
          "output_type": "display_data",
          "data": {
            "text/html": [
              "<pre>recommendations finished on 39000/62483 queries. users per second: 121622</pre>"
            ],
            "text/plain": [
              "recommendations finished on 39000/62483 queries. users per second: 121622"
            ]
          },
          "metadata": {
            "tags": []
          }
        },
        {
          "output_type": "display_data",
          "data": {
            "text/html": [
              "<pre>recommendations finished on 40000/62483 queries. users per second: 122010</pre>"
            ],
            "text/plain": [
              "recommendations finished on 40000/62483 queries. users per second: 122010"
            ]
          },
          "metadata": {
            "tags": []
          }
        },
        {
          "output_type": "display_data",
          "data": {
            "text/html": [
              "<pre>recommendations finished on 41000/62483 queries. users per second: 121722</pre>"
            ],
            "text/plain": [
              "recommendations finished on 41000/62483 queries. users per second: 121722"
            ]
          },
          "metadata": {
            "tags": []
          }
        },
        {
          "output_type": "display_data",
          "data": {
            "text/html": [
              "<pre>recommendations finished on 42000/62483 queries. users per second: 121911</pre>"
            ],
            "text/plain": [
              "recommendations finished on 42000/62483 queries. users per second: 121911"
            ]
          },
          "metadata": {
            "tags": []
          }
        },
        {
          "output_type": "display_data",
          "data": {
            "text/html": [
              "<pre>recommendations finished on 43000/62483 queries. users per second: 121761</pre>"
            ],
            "text/plain": [
              "recommendations finished on 43000/62483 queries. users per second: 121761"
            ]
          },
          "metadata": {
            "tags": []
          }
        },
        {
          "output_type": "display_data",
          "data": {
            "text/html": [
              "<pre>recommendations finished on 44000/62483 queries. users per second: 122070</pre>"
            ],
            "text/plain": [
              "recommendations finished on 44000/62483 queries. users per second: 122070"
            ]
          },
          "metadata": {
            "tags": []
          }
        },
        {
          "output_type": "display_data",
          "data": {
            "text/html": [
              "<pre>recommendations finished on 45000/62483 queries. users per second: 122482</pre>"
            ],
            "text/plain": [
              "recommendations finished on 45000/62483 queries. users per second: 122482"
            ]
          },
          "metadata": {
            "tags": []
          }
        },
        {
          "output_type": "display_data",
          "data": {
            "text/html": [
              "<pre>recommendations finished on 46000/62483 queries. users per second: 122624</pre>"
            ],
            "text/plain": [
              "recommendations finished on 46000/62483 queries. users per second: 122624"
            ]
          },
          "metadata": {
            "tags": []
          }
        },
        {
          "output_type": "display_data",
          "data": {
            "text/html": [
              "<pre>recommendations finished on 47000/62483 queries. users per second: 122417</pre>"
            ],
            "text/plain": [
              "recommendations finished on 47000/62483 queries. users per second: 122417"
            ]
          },
          "metadata": {
            "tags": []
          }
        },
        {
          "output_type": "display_data",
          "data": {
            "text/html": [
              "<pre>recommendations finished on 48000/62483 queries. users per second: 122460</pre>"
            ],
            "text/plain": [
              "recommendations finished on 48000/62483 queries. users per second: 122460"
            ]
          },
          "metadata": {
            "tags": []
          }
        },
        {
          "output_type": "display_data",
          "data": {
            "text/html": [
              "<pre>recommendations finished on 49000/62483 queries. users per second: 122805</pre>"
            ],
            "text/plain": [
              "recommendations finished on 49000/62483 queries. users per second: 122805"
            ]
          },
          "metadata": {
            "tags": []
          }
        },
        {
          "output_type": "display_data",
          "data": {
            "text/html": [
              "<pre>recommendations finished on 50000/62483 queries. users per second: 122927</pre>"
            ],
            "text/plain": [
              "recommendations finished on 50000/62483 queries. users per second: 122927"
            ]
          },
          "metadata": {
            "tags": []
          }
        },
        {
          "output_type": "display_data",
          "data": {
            "text/html": [
              "<pre>recommendations finished on 51000/62483 queries. users per second: 122884</pre>"
            ],
            "text/plain": [
              "recommendations finished on 51000/62483 queries. users per second: 122884"
            ]
          },
          "metadata": {
            "tags": []
          }
        },
        {
          "output_type": "display_data",
          "data": {
            "text/html": [
              "<pre>recommendations finished on 52000/62483 queries. users per second: 122951</pre>"
            ],
            "text/plain": [
              "recommendations finished on 52000/62483 queries. users per second: 122951"
            ]
          },
          "metadata": {
            "tags": []
          }
        },
        {
          "output_type": "display_data",
          "data": {
            "text/html": [
              "<pre>recommendations finished on 53000/62483 queries. users per second: 122068</pre>"
            ],
            "text/plain": [
              "recommendations finished on 53000/62483 queries. users per second: 122068"
            ]
          },
          "metadata": {
            "tags": []
          }
        },
        {
          "output_type": "display_data",
          "data": {
            "text/html": [
              "<pre>recommendations finished on 54000/62483 queries. users per second: 121979</pre>"
            ],
            "text/plain": [
              "recommendations finished on 54000/62483 queries. users per second: 121979"
            ]
          },
          "metadata": {
            "tags": []
          }
        },
        {
          "output_type": "display_data",
          "data": {
            "text/html": [
              "<pre>recommendations finished on 55000/62483 queries. users per second: 122237</pre>"
            ],
            "text/plain": [
              "recommendations finished on 55000/62483 queries. users per second: 122237"
            ]
          },
          "metadata": {
            "tags": []
          }
        },
        {
          "output_type": "display_data",
          "data": {
            "text/html": [
              "<pre>recommendations finished on 56000/62483 queries. users per second: 121530</pre>"
            ],
            "text/plain": [
              "recommendations finished on 56000/62483 queries. users per second: 121530"
            ]
          },
          "metadata": {
            "tags": []
          }
        },
        {
          "output_type": "display_data",
          "data": {
            "text/html": [
              "<pre>recommendations finished on 57000/62483 queries. users per second: 120328</pre>"
            ],
            "text/plain": [
              "recommendations finished on 57000/62483 queries. users per second: 120328"
            ]
          },
          "metadata": {
            "tags": []
          }
        },
        {
          "output_type": "display_data",
          "data": {
            "text/html": [
              "<pre>recommendations finished on 58000/62483 queries. users per second: 118272</pre>"
            ],
            "text/plain": [
              "recommendations finished on 58000/62483 queries. users per second: 118272"
            ]
          },
          "metadata": {
            "tags": []
          }
        },
        {
          "output_type": "display_data",
          "data": {
            "text/html": [
              "<pre>recommendations finished on 59000/62483 queries. users per second: 117663</pre>"
            ],
            "text/plain": [
              "recommendations finished on 59000/62483 queries. users per second: 117663"
            ]
          },
          "metadata": {
            "tags": []
          }
        },
        {
          "output_type": "display_data",
          "data": {
            "text/html": [
              "<pre>recommendations finished on 60000/62483 queries. users per second: 117672</pre>"
            ],
            "text/plain": [
              "recommendations finished on 60000/62483 queries. users per second: 117672"
            ]
          },
          "metadata": {
            "tags": []
          }
        },
        {
          "output_type": "display_data",
          "data": {
            "text/html": [
              "<pre>recommendations finished on 61000/62483 queries. users per second: 117497</pre>"
            ],
            "text/plain": [
              "recommendations finished on 61000/62483 queries. users per second: 117497"
            ]
          },
          "metadata": {
            "tags": []
          }
        },
        {
          "output_type": "display_data",
          "data": {
            "text/html": [
              "<pre>recommendations finished on 62000/62483 queries. users per second: 117311</pre>"
            ],
            "text/plain": [
              "recommendations finished on 62000/62483 queries. users per second: 117311"
            ]
          },
          "metadata": {
            "tags": []
          }
        },
        {
          "output_type": "stream",
          "text": [
            "+------------+-----------+--------------------+------+\n",
            "| customerId | productId |       score        | rank |\n",
            "+------------+-----------+--------------------+------+\n",
            "|     0      |    132    | 3.1481481481481484 |  1   |\n",
            "|     0      |     34    | 3.0689655172413794 |  2   |\n",
            "|     0      |     37    | 3.0077220077220077 |  3   |\n",
            "|     0      |     0     | 2.9549376797698947 |  4   |\n",
            "|     0      |    248    | 2.877551020408163  |  5   |\n",
            "|     0      |     3     | 2.831983805668016  |  6   |\n",
            "|     0      |    110    | 2.7966101694915255 |  7   |\n",
            "|     0      |     27    | 2.6946564885496183 |  8   |\n",
            "|     0      |     10    | 2.641833810888252  |  9   |\n",
            "|     0      |    230    |  2.56390977443609  |  10  |\n",
            "|     1      |    132    | 3.1481481481481484 |  1   |\n",
            "|     1      |     34    | 3.0689655172413794 |  2   |\n",
            "|     1      |     37    | 3.0077220077220077 |  3   |\n",
            "|     1      |     0     | 2.9549376797698947 |  4   |\n",
            "|     1      |    248    | 2.877551020408163  |  5   |\n",
            "|     1      |     3     | 2.831983805668016  |  6   |\n",
            "|     1      |    110    | 2.7966101694915255 |  7   |\n",
            "|     1      |     27    | 2.6946564885496183 |  8   |\n",
            "|     1      |     10    | 2.641833810888252  |  9   |\n",
            "|     1      |    230    |  2.56390977443609  |  10  |\n",
            "|     2      |    132    | 3.1481481481481484 |  1   |\n",
            "|     2      |     34    | 3.0689655172413794 |  2   |\n",
            "|     2      |     37    | 3.0077220077220077 |  3   |\n",
            "|     2      |     0     | 2.9549376797698947 |  4   |\n",
            "|     2      |    248    | 2.877551020408163  |  5   |\n",
            "|     2      |     3     | 2.831983805668016  |  6   |\n",
            "|     2      |    110    | 2.7966101694915255 |  7   |\n",
            "|     2      |     27    | 2.6946564885496183 |  8   |\n",
            "|     2      |     10    | 2.641833810888252  |  9   |\n",
            "|     2      |    230    |  2.56390977443609  |  10  |\n",
            "+------------+-----------+--------------------+------+\n",
            "[624830 rows x 4 columns]\n",
            "\n"
          ],
          "name": "stdout"
        }
      ]
    },
    {
      "cell_type": "markdown",
      "metadata": {
        "id": "MoODr035RvmV",
        "colab_type": "text"
      },
      "source": [
        "#### Define a `model` function for model selection"
      ]
    },
    {
      "cell_type": "code",
      "metadata": {
        "id": "XR58FYZSRvmV",
        "colab_type": "code",
        "colab": {}
      },
      "source": [
        "# Since turicreate is very accessible library, we can define a model selection function as below\n",
        "\n",
        "def model(train_data, name, user_id, item_id, target, users_to_recommend, n_rec, n_display):\n",
        "    if name == 'popularity':\n",
        "        model = tc.popularity_recommender.create(train_data, \n",
        "                                                    user_id=user_id, \n",
        "                                                    item_id=item_id, \n",
        "                                                    target=target)\n",
        "    elif name == 'cosine':\n",
        "        model = tc.item_similarity_recommender.create(train_data, \n",
        "                                                    user_id=user_id, \n",
        "                                                    item_id=item_id, \n",
        "                                                    target=target, \n",
        "                                                    similarity_type='cosine')\n",
        "    elif name == 'pearson':\n",
        "        model = tc.item_similarity_recommender.create(train_data, \n",
        "                                                    user_id=user_id, \n",
        "                                                    item_id=item_id, \n",
        "                                                    target=target, \n",
        "                                                    similarity_type='pearson')\n",
        "        \n",
        "    recom = model.recommend(users=users_to_recommend, k=n_rec)\n",
        "    recom.print_rows(n_display)\n",
        "    return model"
      ],
      "execution_count": 0,
      "outputs": []
    },
    {
      "cell_type": "code",
      "metadata": {
        "id": "EI4Ab-ZORvmY",
        "colab_type": "code",
        "colab": {}
      },
      "source": [
        "# variables to define field names\n",
        "# constant variables include:\n",
        "user_id = 'customerId'\n",
        "item_id = 'productId'\n",
        "users_to_recommend = list(customers[user_id])\n",
        "n_rec = 10 # number of items to recommend\n",
        "n_display = 30 # to print the head / first few rows in a defined dataset"
      ],
      "execution_count": 0,
      "outputs": []
    },
    {
      "cell_type": "markdown",
      "metadata": {
        "id": "8aquP07mRvma",
        "colab_type": "text"
      },
      "source": [
        "#### Using purchase dummy"
      ]
    },
    {
      "cell_type": "code",
      "metadata": {
        "id": "UfhnUn5WRvmb",
        "colab_type": "code",
        "colab": {
          "base_uri": "https://localhost:8080/",
          "height": 780
        },
        "outputId": "c17aea33-68a2-4362-c739-9074026c14c4"
      },
      "source": [
        "# these variables will change accordingly\n",
        "name = 'popularity'\n",
        "target = 'purchase_dummy'\n",
        "pop_dummy = model(train_data_dummy, name, user_id, item_id, target, users_to_recommend, n_rec, n_display)"
      ],
      "execution_count": 66,
      "outputs": [
        {
          "output_type": "display_data",
          "data": {
            "text/html": [
              "<pre>Warning: Ignoring columns purchase_count;</pre>"
            ],
            "text/plain": [
              "Warning: Ignoring columns purchase_count;"
            ]
          },
          "metadata": {
            "tags": []
          }
        },
        {
          "output_type": "display_data",
          "data": {
            "text/html": [
              "<pre>    To use these columns in scoring predictions, use a model that allows the use of additional features.</pre>"
            ],
            "text/plain": [
              "    To use these columns in scoring predictions, use a model that allows the use of additional features."
            ]
          },
          "metadata": {
            "tags": []
          }
        },
        {
          "output_type": "display_data",
          "data": {
            "text/html": [
              "<pre>Preparing data set.</pre>"
            ],
            "text/plain": [
              "Preparing data set."
            ]
          },
          "metadata": {
            "tags": []
          }
        },
        {
          "output_type": "display_data",
          "data": {
            "text/html": [
              "<pre>    Data has 106868 observations with 23332 users and 300 items.</pre>"
            ],
            "text/plain": [
              "    Data has 106868 observations with 23332 users and 300 items."
            ]
          },
          "metadata": {
            "tags": []
          }
        },
        {
          "output_type": "display_data",
          "data": {
            "text/html": [
              "<pre>    Data prepared in: 0.124998s</pre>"
            ],
            "text/plain": [
              "    Data prepared in: 0.124998s"
            ]
          },
          "metadata": {
            "tags": []
          }
        },
        {
          "output_type": "display_data",
          "data": {
            "text/html": [
              "<pre>106868 observations to process; with 300 unique items.</pre>"
            ],
            "text/plain": [
              "106868 observations to process; with 300 unique items."
            ]
          },
          "metadata": {
            "tags": []
          }
        },
        {
          "output_type": "display_data",
          "data": {
            "text/html": [
              "<pre>recommendations finished on 1000/1000 queries. users per second: 104679</pre>"
            ],
            "text/plain": [
              "recommendations finished on 1000/1000 queries. users per second: 104679"
            ]
          },
          "metadata": {
            "tags": []
          }
        },
        {
          "output_type": "stream",
          "text": [
            "+------------+-----------+-------+------+\n",
            "| customerId | productId | score | rank |\n",
            "+------------+-----------+-------+------+\n",
            "|    1553    |    170    |  1.0  |  1   |\n",
            "|    1553    |     96    |  1.0  |  2   |\n",
            "|    1553    |     5     |  1.0  |  3   |\n",
            "|    1553    |    107    |  1.0  |  4   |\n",
            "|    1553    |     23    |  1.0  |  5   |\n",
            "|    1553    |    129    |  1.0  |  6   |\n",
            "|    1553    |    189    |  1.0  |  7   |\n",
            "|    1553    |    144    |  1.0  |  8   |\n",
            "|    1553    |     65    |  1.0  |  9   |\n",
            "|    1553    |    106    |  1.0  |  10  |\n",
            "|   20400    |     96    |  1.0  |  1   |\n",
            "|   20400    |     5     |  1.0  |  2   |\n",
            "|   20400    |    107    |  1.0  |  3   |\n",
            "|   20400    |     14    |  1.0  |  4   |\n",
            "|   20400    |     23    |  1.0  |  5   |\n",
            "|   20400    |    129    |  1.0  |  6   |\n",
            "|   20400    |    189    |  1.0  |  7   |\n",
            "|   20400    |    144    |  1.0  |  8   |\n",
            "|   20400    |     65    |  1.0  |  9   |\n",
            "|   20400    |    106    |  1.0  |  10  |\n",
            "|   19750    |     96    |  1.0  |  1   |\n",
            "|   19750    |     5     |  1.0  |  2   |\n",
            "|   19750    |    107    |  1.0  |  3   |\n",
            "|   19750    |     14    |  1.0  |  4   |\n",
            "|   19750    |     23    |  1.0  |  5   |\n",
            "|   19750    |    129    |  1.0  |  6   |\n",
            "|   19750    |    189    |  1.0  |  7   |\n",
            "|   19750    |    144    |  1.0  |  8   |\n",
            "|   19750    |     65    |  1.0  |  9   |\n",
            "|   19750    |    106    |  1.0  |  10  |\n",
            "+------------+-----------+-------+------+\n",
            "[10000 rows x 4 columns]\n",
            "\n"
          ],
          "name": "stdout"
        }
      ]
    },
    {
      "cell_type": "markdown",
      "metadata": {
        "id": "91mGtdfhRvmd",
        "colab_type": "text"
      },
      "source": [
        "#### Using normalized purchase count"
      ]
    },
    {
      "cell_type": "code",
      "metadata": {
        "id": "OyjquFXCRvme",
        "colab_type": "code",
        "colab": {
          "base_uri": "https://localhost:8080/",
          "height": 726
        },
        "outputId": "cdd5f5a1-078c-4df8-d126-fe2a20de2286"
      },
      "source": [
        "name = 'popularity'\n",
        "target = 'scaled_purchase_freq'\n",
        "pop_norm = model(train_data_norm, name, user_id, item_id, target, users_to_recommend, n_rec, n_display)"
      ],
      "execution_count": 67,
      "outputs": [
        {
          "output_type": "display_data",
          "data": {
            "text/html": [
              "<pre>Preparing data set.</pre>"
            ],
            "text/plain": [
              "Preparing data set."
            ]
          },
          "metadata": {
            "tags": []
          }
        },
        {
          "output_type": "display_data",
          "data": {
            "text/html": [
              "<pre>    Data has 106868 observations with 23292 users and 300 items.</pre>"
            ],
            "text/plain": [
              "    Data has 106868 observations with 23292 users and 300 items."
            ]
          },
          "metadata": {
            "tags": []
          }
        },
        {
          "output_type": "display_data",
          "data": {
            "text/html": [
              "<pre>    Data prepared in: 0.126998s</pre>"
            ],
            "text/plain": [
              "    Data prepared in: 0.126998s"
            ]
          },
          "metadata": {
            "tags": []
          }
        },
        {
          "output_type": "display_data",
          "data": {
            "text/html": [
              "<pre>106868 observations to process; with 300 unique items.</pre>"
            ],
            "text/plain": [
              "106868 observations to process; with 300 unique items."
            ]
          },
          "metadata": {
            "tags": []
          }
        },
        {
          "output_type": "display_data",
          "data": {
            "text/html": [
              "<pre>recommendations finished on 1000/1000 queries. users per second: 88699.7</pre>"
            ],
            "text/plain": [
              "recommendations finished on 1000/1000 queries. users per second: 88699.7"
            ]
          },
          "metadata": {
            "tags": []
          }
        },
        {
          "output_type": "stream",
          "text": [
            "+------------+-----------+---------------------+------+\n",
            "| customerId | productId |        score        | rank |\n",
            "+------------+-----------+---------------------+------+\n",
            "|    1553    |    226    |  0.7789115646258503 |  1   |\n",
            "|    1553    |    230    | 0.33383458646616493 |  2   |\n",
            "|    1553    |    247    | 0.33333333333333326 |  3   |\n",
            "|    1553    |    125    | 0.26857142857142824 |  4   |\n",
            "|    1553    |    248    | 0.26063829787234044 |  5   |\n",
            "|    1553    |    294    | 0.25238095238095204 |  6   |\n",
            "|    1553    |    155    |  0.2482758620689654 |  7   |\n",
            "|    1553    |    204    | 0.23655913978494605 |  8   |\n",
            "|    1553    |    276    | 0.23214285714285715 |  9   |\n",
            "|    1553    |    165    |        0.225        |  10  |\n",
            "|   20400    |    226    |  0.7789115646258503 |  1   |\n",
            "|   20400    |    230    | 0.33383458646616493 |  2   |\n",
            "|   20400    |    247    | 0.33333333333333326 |  3   |\n",
            "|   20400    |    125    | 0.26857142857142824 |  4   |\n",
            "|   20400    |    248    | 0.26063829787234044 |  5   |\n",
            "|   20400    |    294    | 0.25238095238095204 |  6   |\n",
            "|   20400    |    155    |  0.2482758620689654 |  7   |\n",
            "|   20400    |    204    | 0.23655913978494605 |  8   |\n",
            "|   20400    |    276    | 0.23214285714285715 |  9   |\n",
            "|   20400    |    165    |        0.225        |  10  |\n",
            "|   19750    |    226    |  0.7789115646258503 |  1   |\n",
            "|   19750    |    230    | 0.33383458646616493 |  2   |\n",
            "|   19750    |    125    | 0.26857142857142824 |  3   |\n",
            "|   19750    |    248    | 0.26063829787234044 |  4   |\n",
            "|   19750    |    294    | 0.25238095238095204 |  5   |\n",
            "|   19750    |    155    |  0.2482758620689654 |  6   |\n",
            "|   19750    |    204    | 0.23655913978494605 |  7   |\n",
            "|   19750    |    276    | 0.23214285714285715 |  8   |\n",
            "|   19750    |    165    |        0.225        |  9   |\n",
            "|   19750    |     72    |  0.2248995983935743 |  10  |\n",
            "+------------+-----------+---------------------+------+\n",
            "[10000 rows x 4 columns]\n",
            "\n"
          ],
          "name": "stdout"
        }
      ]
    },
    {
      "cell_type": "markdown",
      "metadata": {
        "id": "qJEJqPG1Rvmg",
        "colab_type": "text"
      },
      "source": [
        "#### Notes\n",
        "* Once we created the model, we predicted the recommendation items using scores by popularity. As you can tell for each model results above, the rows show the first 30 records from 1000 users with 10 recommendations. These 30 records include 3 users and their recommended items, along with score and descending ranks. \n",
        "* In the result, although different models have different recommendation list, each user is recommended the same list of 10 items. This is because popularity is calculated by taking the most popular items across all users.\n",
        "* If a grouping example below, products 132, 248, 37, and 34 are the most popular (best-selling) across customers. Using their purchase counts divided by the number of customers, we see that these products are at least bought 3 times on average in the training set of transactions (same as the first popularity measure on `purchase_count` variable)"
      ]
    },
    {
      "cell_type": "code",
      "metadata": {
        "id": "VaHi-7grRvmh",
        "colab_type": "code",
        "colab": {
          "base_uri": "https://localhost:8080/",
          "height": 397
        },
        "outputId": "451ff1c3-f935-43b1-8af4-883177cb920e"
      },
      "source": [
        "train.groupby(by=item_id)['purchase_count'].mean().sort_values(ascending=False).head(20)"
      ],
      "execution_count": 68,
      "outputs": [
        {
          "output_type": "execute_result",
          "data": {
            "text/plain": [
              "productId\n",
              "132    3.148148\n",
              "34     3.068966\n",
              "37     3.007722\n",
              "0      2.954938\n",
              "248    2.877551\n",
              "3      2.831984\n",
              "110    2.796610\n",
              "27     2.694656\n",
              "10     2.641834\n",
              "230    2.563910\n",
              "32     2.551546\n",
              "226    2.546763\n",
              "245    2.527473\n",
              "58     2.500000\n",
              "252    2.471698\n",
              "68     2.418803\n",
              "18     2.405612\n",
              "54     2.404412\n",
              "87     2.401674\n",
              "91     2.378486\n",
              "Name: purchase_count, dtype: float64"
            ]
          },
          "metadata": {
            "tags": []
          },
          "execution_count": 68
        }
      ]
    },
    {
      "cell_type": "markdown",
      "metadata": {
        "id": "cSj-0katRvmj",
        "colab_type": "text"
      },
      "source": [
        "## 6. Collaborative Filtering Model\n",
        "\n",
        "* In collaborative filtering, we would recommend items based on how similar users purchase items. For instance, if customer 1 and customer 2 bought similar items, e.g. 1 bought X, Y, Z and 2 bought X, Y, we would recommend an item Z to customer 2.\n",
        "\n",
        "* To define similarity across users, we use the following steps:\n",
        "    1. Create a user-item matrix, where index values represent unique customer IDs and column values represent unique product IDs\n",
        "    \n",
        "    2. Create an item-to-item similarity matrix. The idea is to calculate how similar a product is to another product. There are a number of ways of calculating this. In steps 6.1 and 6.2, we use cosine and pearson similarity measure, respectively.  \n",
        "    \n",
        "        * To calculate similarity between products X and Y, look at all customers who have rated both these items. For example, both X and Y have been rated by customers 1 and 2. \n",
        "        * We then create two item-vectors, v1 for item X and v2 for item Y, in the user-space of (1, 2) and then find the `cosine` or `pearson` angle/distance between these vectors. A zero angle or overlapping vectors with cosine value of 1 means total similarity (or per user, across all items, there is same rating) and an angle of 90 degree would mean cosine of 0 or no similarity.\n",
        "        \n",
        "    3. For each customer, we then predict his likelihood to buy a product (or his purchase counts) for products that he had not bought. \n",
        "    \n",
        "        * For our example, we will calculate rating for user 2 in the case of item Z (target item). To calculate this we weigh the just-calculated similarity-measure between the target item and other items that customer has already bought. The weighing factor is the purchase counts given by the user to items already bought by him. \n",
        "        * We then scale this weighted sum with the sum of similarity-measures so that the calculated rating remains within a predefined limits. Thus, the predicted rating for item Z for user 2 would be calculated using similarity measures.\n",
        "\n",
        "* While I wrote python scripts for all the process including finding similarity using python scripts (which can be found in `scripts` folder, we can use `turicreate` library for now to capture different measures like using `cosine` and `pearson` distance, and evaluate the best model."
      ]
    },
    {
      "cell_type": "markdown",
      "metadata": {
        "id": "SxSuPUgQRvmk",
        "colab_type": "text"
      },
      "source": [
        "### 6.1. `Cosine` similarity\n",
        "* Similarity is the cosine of the angle between the 2 vectors of the item vectors of A and B\n",
        "* It is defined by the following formula\n",
        "![](https://encrypted-tbn0.gstatic.com/images?q=tbn:ANd9GcTnRHSAx1c084UXF2wIHYwaHJLmq2qKtNk_YIv3RjHUO00xwlkt)\n",
        "* Closer the vectors, smaller will be the angle and larger the cosine"
      ]
    },
    {
      "cell_type": "markdown",
      "metadata": {
        "id": "1XqsHHbORvml",
        "colab_type": "text"
      },
      "source": [
        "#### Using purchase count"
      ]
    },
    {
      "cell_type": "code",
      "metadata": {
        "id": "FTqeXa3iRvml",
        "colab_type": "code",
        "colab": {
          "base_uri": "https://localhost:8080/",
          "height": 1000
        },
        "outputId": "5670d679-f471-4ce7-d2b9-116d5fa64681"
      },
      "source": [
        "# these variables will change accordingly\n",
        "name = 'cosine'\n",
        "target = 'purchase_count'\n",
        "cos = model(train_data, name, user_id, item_id, target, users_to_recommend, n_rec, n_display)"
      ],
      "execution_count": 69,
      "outputs": [
        {
          "output_type": "display_data",
          "data": {
            "text/html": [
              "<pre>Preparing data set.</pre>"
            ],
            "text/plain": [
              "Preparing data set."
            ]
          },
          "metadata": {
            "tags": []
          }
        },
        {
          "output_type": "display_data",
          "data": {
            "text/html": [
              "<pre>    Data has 106868 observations with 23366 users and 300 items.</pre>"
            ],
            "text/plain": [
              "    Data has 106868 observations with 23366 users and 300 items."
            ]
          },
          "metadata": {
            "tags": []
          }
        },
        {
          "output_type": "display_data",
          "data": {
            "text/html": [
              "<pre>    Data prepared in: 0.125327s</pre>"
            ],
            "text/plain": [
              "    Data prepared in: 0.125327s"
            ]
          },
          "metadata": {
            "tags": []
          }
        },
        {
          "output_type": "display_data",
          "data": {
            "text/html": [
              "<pre>Training model from provided data.</pre>"
            ],
            "text/plain": [
              "Training model from provided data."
            ]
          },
          "metadata": {
            "tags": []
          }
        },
        {
          "output_type": "display_data",
          "data": {
            "text/html": [
              "<pre>Gathering per-item and per-user statistics.</pre>"
            ],
            "text/plain": [
              "Gathering per-item and per-user statistics."
            ]
          },
          "metadata": {
            "tags": []
          }
        },
        {
          "output_type": "display_data",
          "data": {
            "text/html": [
              "<pre>+--------------------------------+------------+</pre>"
            ],
            "text/plain": [
              "+--------------------------------+------------+"
            ]
          },
          "metadata": {
            "tags": []
          }
        },
        {
          "output_type": "display_data",
          "data": {
            "text/html": [
              "<pre>| Elapsed Time (Item Statistics) | % Complete |</pre>"
            ],
            "text/plain": [
              "| Elapsed Time (Item Statistics) | % Complete |"
            ]
          },
          "metadata": {
            "tags": []
          }
        },
        {
          "output_type": "display_data",
          "data": {
            "text/html": [
              "<pre>+--------------------------------+------------+</pre>"
            ],
            "text/plain": [
              "+--------------------------------+------------+"
            ]
          },
          "metadata": {
            "tags": []
          }
        },
        {
          "output_type": "display_data",
          "data": {
            "text/html": [
              "<pre>| 975us                          | 4.25       |</pre>"
            ],
            "text/plain": [
              "| 975us                          | 4.25       |"
            ]
          },
          "metadata": {
            "tags": []
          }
        },
        {
          "output_type": "display_data",
          "data": {
            "text/html": [
              "<pre>| 10.976ms                       | 100        |</pre>"
            ],
            "text/plain": [
              "| 10.976ms                       | 100        |"
            ]
          },
          "metadata": {
            "tags": []
          }
        },
        {
          "output_type": "display_data",
          "data": {
            "text/html": [
              "<pre>+--------------------------------+------------+</pre>"
            ],
            "text/plain": [
              "+--------------------------------+------------+"
            ]
          },
          "metadata": {
            "tags": []
          }
        },
        {
          "output_type": "display_data",
          "data": {
            "text/html": [
              "<pre>Setting up lookup tables.</pre>"
            ],
            "text/plain": [
              "Setting up lookup tables."
            ]
          },
          "metadata": {
            "tags": []
          }
        },
        {
          "output_type": "display_data",
          "data": {
            "text/html": [
              "<pre>Processing data in one pass using dense lookup tables.</pre>"
            ],
            "text/plain": [
              "Processing data in one pass using dense lookup tables."
            ]
          },
          "metadata": {
            "tags": []
          }
        },
        {
          "output_type": "display_data",
          "data": {
            "text/html": [
              "<pre>+-------------------------------------+------------------+-----------------+</pre>"
            ],
            "text/plain": [
              "+-------------------------------------+------------------+-----------------+"
            ]
          },
          "metadata": {
            "tags": []
          }
        },
        {
          "output_type": "display_data",
          "data": {
            "text/html": [
              "<pre>| Elapsed Time (Constructing Lookups) | Total % Complete | Items Processed |</pre>"
            ],
            "text/plain": [
              "| Elapsed Time (Constructing Lookups) | Total % Complete | Items Processed |"
            ]
          },
          "metadata": {
            "tags": []
          }
        },
        {
          "output_type": "display_data",
          "data": {
            "text/html": [
              "<pre>+-------------------------------------+------------------+-----------------+</pre>"
            ],
            "text/plain": [
              "+-------------------------------------+------------------+-----------------+"
            ]
          },
          "metadata": {
            "tags": []
          }
        },
        {
          "output_type": "display_data",
          "data": {
            "text/html": [
              "<pre>| 12.134ms                            | 0                | 0               |</pre>"
            ],
            "text/plain": [
              "| 12.134ms                            | 0                | 0               |"
            ]
          },
          "metadata": {
            "tags": []
          }
        },
        {
          "output_type": "display_data",
          "data": {
            "text/html": [
              "<pre>| 50.793ms                            | 100              | 300             |</pre>"
            ],
            "text/plain": [
              "| 50.793ms                            | 100              | 300             |"
            ]
          },
          "metadata": {
            "tags": []
          }
        },
        {
          "output_type": "display_data",
          "data": {
            "text/html": [
              "<pre>+-------------------------------------+------------------+-----------------+</pre>"
            ],
            "text/plain": [
              "+-------------------------------------+------------------+-----------------+"
            ]
          },
          "metadata": {
            "tags": []
          }
        },
        {
          "output_type": "display_data",
          "data": {
            "text/html": [
              "<pre>Finalizing lookup tables.</pre>"
            ],
            "text/plain": [
              "Finalizing lookup tables."
            ]
          },
          "metadata": {
            "tags": []
          }
        },
        {
          "output_type": "display_data",
          "data": {
            "text/html": [
              "<pre>Generating candidate set for working with new users.</pre>"
            ],
            "text/plain": [
              "Generating candidate set for working with new users."
            ]
          },
          "metadata": {
            "tags": []
          }
        },
        {
          "output_type": "display_data",
          "data": {
            "text/html": [
              "<pre>Finished training in 0.08326s</pre>"
            ],
            "text/plain": [
              "Finished training in 0.08326s"
            ]
          },
          "metadata": {
            "tags": []
          }
        },
        {
          "output_type": "display_data",
          "data": {
            "text/html": [
              "<pre>recommendations finished on 1000/1000 queries. users per second: 28233.4</pre>"
            ],
            "text/plain": [
              "recommendations finished on 1000/1000 queries. users per second: 28233.4"
            ]
          },
          "metadata": {
            "tags": []
          }
        },
        {
          "output_type": "stream",
          "text": [
            "+------------+-----------+----------------------+------+\n",
            "| customerId | productId |        score         | rank |\n",
            "+------------+-----------+----------------------+------+\n",
            "|    1553    |     2     | 0.13541358709335327  |  1   |\n",
            "|    1553    |     35    | 0.11725354194641113  |  2   |\n",
            "|    1553    |     17    | 0.08008340994517009  |  3   |\n",
            "|    1553    |     1     | 0.07827071348826091  |  4   |\n",
            "|    1553    |     5     |  0.0740700364112854  |  5   |\n",
            "|    1553    |     21    | 0.06394805510838826  |  6   |\n",
            "|    1553    |     47    | 0.06064931551615397  |  7   |\n",
            "|    1553    |     13    | 0.057833572228749595 |  8   |\n",
            "|    1553    |    150    | 0.05629505713780721  |  9   |\n",
            "|    1553    |     15    | 0.05536544322967529  |  10  |\n",
            "|   20400    |    280    |  0.0845455527305603  |  1   |\n",
            "|   20400    |    284    | 0.039641380310058594 |  2   |\n",
            "|   20400    |     1     | 0.038047730922698975 |  3   |\n",
            "|   20400    |     26    | 0.03721386194229126  |  4   |\n",
            "|   20400    |    246    |  0.0360187292098999  |  5   |\n",
            "|   20400    |     56    | 0.03486824035644531  |  6   |\n",
            "|   20400    |    160    | 0.03416156768798828  |  7   |\n",
            "|   20400    |    215    | 0.03382670879364014  |  8   |\n",
            "|   20400    |     74    | 0.03289806842803955  |  9   |\n",
            "|   20400    |     90    | 0.032660067081451416 |  10  |\n",
            "|   19750    |     38    | 0.12547282874584198  |  1   |\n",
            "|   19750    |     48    |  0.1233077347278595  |  2   |\n",
            "|   19750    |     79    | 0.09565460681915283  |  3   |\n",
            "|   19750    |     1     |  0.0818750411272049  |  4   |\n",
            "|   19750    |     2     | 0.08029414713382721  |  5   |\n",
            "|   19750    |     36    |  0.074338898062706   |  6   |\n",
            "|   19750    |     21    | 0.05863529443740845  |  7   |\n",
            "|   19750    |     5     | 0.05706503987312317  |  8   |\n",
            "|   19750    |     14    | 0.054501041769981384 |  9   |\n",
            "|   19750    |     61    | 0.053764671087265015 |  10  |\n",
            "+------------+-----------+----------------------+------+\n",
            "[10000 rows x 4 columns]\n",
            "\n"
          ],
          "name": "stdout"
        }
      ]
    },
    {
      "cell_type": "markdown",
      "metadata": {
        "id": "TmELRmUDRvmo",
        "colab_type": "text"
      },
      "source": [
        "#### Using purchase dummy"
      ]
    },
    {
      "cell_type": "code",
      "metadata": {
        "id": "9JSkzGgnRvmp",
        "colab_type": "code",
        "colab": {
          "base_uri": "https://localhost:8080/",
          "height": 1000
        },
        "outputId": "090e240e-b345-414e-bc16-bb9f9f0369ec"
      },
      "source": [
        "# these variables will change accordingly\n",
        "name = 'cosine'\n",
        "target = 'purchase_dummy'\n",
        "cos_dummy = model(train_data_dummy, name, user_id, item_id, target, users_to_recommend, n_rec, n_display)"
      ],
      "execution_count": 70,
      "outputs": [
        {
          "output_type": "display_data",
          "data": {
            "text/html": [
              "<pre>Warning: Ignoring columns purchase_count;</pre>"
            ],
            "text/plain": [
              "Warning: Ignoring columns purchase_count;"
            ]
          },
          "metadata": {
            "tags": []
          }
        },
        {
          "output_type": "display_data",
          "data": {
            "text/html": [
              "<pre>    To use these columns in scoring predictions, use a model that allows the use of additional features.</pre>"
            ],
            "text/plain": [
              "    To use these columns in scoring predictions, use a model that allows the use of additional features."
            ]
          },
          "metadata": {
            "tags": []
          }
        },
        {
          "output_type": "display_data",
          "data": {
            "text/html": [
              "<pre>Preparing data set.</pre>"
            ],
            "text/plain": [
              "Preparing data set."
            ]
          },
          "metadata": {
            "tags": []
          }
        },
        {
          "output_type": "display_data",
          "data": {
            "text/html": [
              "<pre>    Data has 106868 observations with 23332 users and 300 items.</pre>"
            ],
            "text/plain": [
              "    Data has 106868 observations with 23332 users and 300 items."
            ]
          },
          "metadata": {
            "tags": []
          }
        },
        {
          "output_type": "display_data",
          "data": {
            "text/html": [
              "<pre>    Data prepared in: 0.125691s</pre>"
            ],
            "text/plain": [
              "    Data prepared in: 0.125691s"
            ]
          },
          "metadata": {
            "tags": []
          }
        },
        {
          "output_type": "display_data",
          "data": {
            "text/html": [
              "<pre>Training model from provided data.</pre>"
            ],
            "text/plain": [
              "Training model from provided data."
            ]
          },
          "metadata": {
            "tags": []
          }
        },
        {
          "output_type": "display_data",
          "data": {
            "text/html": [
              "<pre>Gathering per-item and per-user statistics.</pre>"
            ],
            "text/plain": [
              "Gathering per-item and per-user statistics."
            ]
          },
          "metadata": {
            "tags": []
          }
        },
        {
          "output_type": "display_data",
          "data": {
            "text/html": [
              "<pre>+--------------------------------+------------+</pre>"
            ],
            "text/plain": [
              "+--------------------------------+------------+"
            ]
          },
          "metadata": {
            "tags": []
          }
        },
        {
          "output_type": "display_data",
          "data": {
            "text/html": [
              "<pre>| Elapsed Time (Item Statistics) | % Complete |</pre>"
            ],
            "text/plain": [
              "| Elapsed Time (Item Statistics) | % Complete |"
            ]
          },
          "metadata": {
            "tags": []
          }
        },
        {
          "output_type": "display_data",
          "data": {
            "text/html": [
              "<pre>+--------------------------------+------------+</pre>"
            ],
            "text/plain": [
              "+--------------------------------+------------+"
            ]
          },
          "metadata": {
            "tags": []
          }
        },
        {
          "output_type": "display_data",
          "data": {
            "text/html": [
              "<pre>| 931us                          | 4.25       |</pre>"
            ],
            "text/plain": [
              "| 931us                          | 4.25       |"
            ]
          },
          "metadata": {
            "tags": []
          }
        },
        {
          "output_type": "display_data",
          "data": {
            "text/html": [
              "<pre>| 19.885ms                       | 100        |</pre>"
            ],
            "text/plain": [
              "| 19.885ms                       | 100        |"
            ]
          },
          "metadata": {
            "tags": []
          }
        },
        {
          "output_type": "display_data",
          "data": {
            "text/html": [
              "<pre>+--------------------------------+------------+</pre>"
            ],
            "text/plain": [
              "+--------------------------------+------------+"
            ]
          },
          "metadata": {
            "tags": []
          }
        },
        {
          "output_type": "display_data",
          "data": {
            "text/html": [
              "<pre>Setting up lookup tables.</pre>"
            ],
            "text/plain": [
              "Setting up lookup tables."
            ]
          },
          "metadata": {
            "tags": []
          }
        },
        {
          "output_type": "display_data",
          "data": {
            "text/html": [
              "<pre>Processing data in one pass using dense lookup tables.</pre>"
            ],
            "text/plain": [
              "Processing data in one pass using dense lookup tables."
            ]
          },
          "metadata": {
            "tags": []
          }
        },
        {
          "output_type": "display_data",
          "data": {
            "text/html": [
              "<pre>+-------------------------------------+------------------+-----------------+</pre>"
            ],
            "text/plain": [
              "+-------------------------------------+------------------+-----------------+"
            ]
          },
          "metadata": {
            "tags": []
          }
        },
        {
          "output_type": "display_data",
          "data": {
            "text/html": [
              "<pre>| Elapsed Time (Constructing Lookups) | Total % Complete | Items Processed |</pre>"
            ],
            "text/plain": [
              "| Elapsed Time (Constructing Lookups) | Total % Complete | Items Processed |"
            ]
          },
          "metadata": {
            "tags": []
          }
        },
        {
          "output_type": "display_data",
          "data": {
            "text/html": [
              "<pre>+-------------------------------------+------------------+-----------------+</pre>"
            ],
            "text/plain": [
              "+-------------------------------------+------------------+-----------------+"
            ]
          },
          "metadata": {
            "tags": []
          }
        },
        {
          "output_type": "display_data",
          "data": {
            "text/html": [
              "<pre>| 20.663ms                            | 0                | 0               |</pre>"
            ],
            "text/plain": [
              "| 20.663ms                            | 0                | 0               |"
            ]
          },
          "metadata": {
            "tags": []
          }
        },
        {
          "output_type": "display_data",
          "data": {
            "text/html": [
              "<pre>| 47.569ms                            | 100              | 300             |</pre>"
            ],
            "text/plain": [
              "| 47.569ms                            | 100              | 300             |"
            ]
          },
          "metadata": {
            "tags": []
          }
        },
        {
          "output_type": "display_data",
          "data": {
            "text/html": [
              "<pre>+-------------------------------------+------------------+-----------------+</pre>"
            ],
            "text/plain": [
              "+-------------------------------------+------------------+-----------------+"
            ]
          },
          "metadata": {
            "tags": []
          }
        },
        {
          "output_type": "display_data",
          "data": {
            "text/html": [
              "<pre>Finalizing lookup tables.</pre>"
            ],
            "text/plain": [
              "Finalizing lookup tables."
            ]
          },
          "metadata": {
            "tags": []
          }
        },
        {
          "output_type": "display_data",
          "data": {
            "text/html": [
              "<pre>Generating candidate set for working with new users.</pre>"
            ],
            "text/plain": [
              "Generating candidate set for working with new users."
            ]
          },
          "metadata": {
            "tags": []
          }
        },
        {
          "output_type": "display_data",
          "data": {
            "text/html": [
              "<pre>Finished training in 0.072591s</pre>"
            ],
            "text/plain": [
              "Finished training in 0.072591s"
            ]
          },
          "metadata": {
            "tags": []
          }
        },
        {
          "output_type": "display_data",
          "data": {
            "text/html": [
              "<pre>recommendations finished on 1000/1000 queries. users per second: 33973.2</pre>"
            ],
            "text/plain": [
              "recommendations finished on 1000/1000 queries. users per second: 33973.2"
            ]
          },
          "metadata": {
            "tags": []
          }
        },
        {
          "output_type": "stream",
          "text": [
            "+------------+-----------+----------------------+------+\n",
            "| customerId | productId |        score         | rank |\n",
            "+------------+-----------+----------------------+------+\n",
            "|    1553    |     2     | 0.11079622805118561  |  1   |\n",
            "|    1553    |     35    | 0.10909666121006012  |  2   |\n",
            "|    1553    |     1     |  0.0906706154346466  |  3   |\n",
            "|    1553    |     5     | 0.08284689486026764  |  4   |\n",
            "|    1553    |     8     | 0.06188082695007324  |  5   |\n",
            "|    1553    |     33    | 0.059453919529914856 |  6   |\n",
            "|    1553    |     36    | 0.05837637186050415  |  7   |\n",
            "|    1553    |    106    | 0.05349157750606537  |  8   |\n",
            "|    1553    |     21    | 0.05245846509933472  |  9   |\n",
            "|    1553    |     15    | 0.050799086689949036 |  10  |\n",
            "|   20400    |     26    | 0.049696147441864014 |  1   |\n",
            "|   20400    |     58    | 0.04531306028366089  |  2   |\n",
            "|   20400    |    273    | 0.040882885456085205 |  3   |\n",
            "|   20400    |    113    | 0.04074352979660034  |  4   |\n",
            "|   20400    |    215    | 0.03958171606063843  |  5   |\n",
            "|   20400    |    246    | 0.03870892524719238  |  6   |\n",
            "|   20400    |     6     | 0.038261473178863525 |  7   |\n",
            "|   20400    |     15    | 0.03684943914413452  |  8   |\n",
            "|   20400    |     14    | 0.036321938037872314 |  9   |\n",
            "|   20400    |    105    | 0.03631085157394409  |  10  |\n",
            "|   19750    |     1     |  0.0833611289660136  |  1   |\n",
            "|   19750    |     2     | 0.07066984971364339  |  2   |\n",
            "|   19750    |     21    | 0.06268346309661865  |  3   |\n",
            "|   19750    |    112    | 0.06231894095738729  |  4   |\n",
            "|   19750    |     0     | 0.05672069390614828  |  5   |\n",
            "|   19750    |     14    | 0.052906413873036705 |  6   |\n",
            "|   19750    |     15    | 0.05207246541976929  |  7   |\n",
            "|   19750    |     5     | 0.050397773583730064 |  8   |\n",
            "|   19750    |     7     | 0.04984400669733683  |  9   |\n",
            "|   19750    |     36    | 0.048287272453308105 |  10  |\n",
            "+------------+-----------+----------------------+------+\n",
            "[10000 rows x 4 columns]\n",
            "\n"
          ],
          "name": "stdout"
        }
      ]
    },
    {
      "cell_type": "markdown",
      "metadata": {
        "id": "o_dYpjchRvms",
        "colab_type": "text"
      },
      "source": [
        "#### Using normalized purchase count"
      ]
    },
    {
      "cell_type": "code",
      "metadata": {
        "id": "kxIhoDg8Rvmt",
        "colab_type": "code",
        "colab": {
          "base_uri": "https://localhost:8080/",
          "height": 1000
        },
        "outputId": "c4e00f3c-5758-46e3-b2b4-a6f8acde3edc"
      },
      "source": [
        "name = 'cosine'\n",
        "target = 'scaled_purchase_freq'\n",
        "cos_norm = model(train_data_norm, name, user_id, item_id, target, users_to_recommend, n_rec, n_display)"
      ],
      "execution_count": 71,
      "outputs": [
        {
          "output_type": "display_data",
          "data": {
            "text/html": [
              "<pre>Preparing data set.</pre>"
            ],
            "text/plain": [
              "Preparing data set."
            ]
          },
          "metadata": {
            "tags": []
          }
        },
        {
          "output_type": "display_data",
          "data": {
            "text/html": [
              "<pre>    Data has 106868 observations with 23292 users and 300 items.</pre>"
            ],
            "text/plain": [
              "    Data has 106868 observations with 23292 users and 300 items."
            ]
          },
          "metadata": {
            "tags": []
          }
        },
        {
          "output_type": "display_data",
          "data": {
            "text/html": [
              "<pre>    Data prepared in: 0.134326s</pre>"
            ],
            "text/plain": [
              "    Data prepared in: 0.134326s"
            ]
          },
          "metadata": {
            "tags": []
          }
        },
        {
          "output_type": "display_data",
          "data": {
            "text/html": [
              "<pre>Training model from provided data.</pre>"
            ],
            "text/plain": [
              "Training model from provided data."
            ]
          },
          "metadata": {
            "tags": []
          }
        },
        {
          "output_type": "display_data",
          "data": {
            "text/html": [
              "<pre>Gathering per-item and per-user statistics.</pre>"
            ],
            "text/plain": [
              "Gathering per-item and per-user statistics."
            ]
          },
          "metadata": {
            "tags": []
          }
        },
        {
          "output_type": "display_data",
          "data": {
            "text/html": [
              "<pre>+--------------------------------+------------+</pre>"
            ],
            "text/plain": [
              "+--------------------------------+------------+"
            ]
          },
          "metadata": {
            "tags": []
          }
        },
        {
          "output_type": "display_data",
          "data": {
            "text/html": [
              "<pre>| Elapsed Time (Item Statistics) | % Complete |</pre>"
            ],
            "text/plain": [
              "| Elapsed Time (Item Statistics) | % Complete |"
            ]
          },
          "metadata": {
            "tags": []
          }
        },
        {
          "output_type": "display_data",
          "data": {
            "text/html": [
              "<pre>+--------------------------------+------------+</pre>"
            ],
            "text/plain": [
              "+--------------------------------+------------+"
            ]
          },
          "metadata": {
            "tags": []
          }
        },
        {
          "output_type": "display_data",
          "data": {
            "text/html": [
              "<pre>| 1.094ms                        | 4.25       |</pre>"
            ],
            "text/plain": [
              "| 1.094ms                        | 4.25       |"
            ]
          },
          "metadata": {
            "tags": []
          }
        },
        {
          "output_type": "display_data",
          "data": {
            "text/html": [
              "<pre>| 13.062ms                       | 100        |</pre>"
            ],
            "text/plain": [
              "| 13.062ms                       | 100        |"
            ]
          },
          "metadata": {
            "tags": []
          }
        },
        {
          "output_type": "display_data",
          "data": {
            "text/html": [
              "<pre>+--------------------------------+------------+</pre>"
            ],
            "text/plain": [
              "+--------------------------------+------------+"
            ]
          },
          "metadata": {
            "tags": []
          }
        },
        {
          "output_type": "display_data",
          "data": {
            "text/html": [
              "<pre>Setting up lookup tables.</pre>"
            ],
            "text/plain": [
              "Setting up lookup tables."
            ]
          },
          "metadata": {
            "tags": []
          }
        },
        {
          "output_type": "display_data",
          "data": {
            "text/html": [
              "<pre>Processing data in one pass using dense lookup tables.</pre>"
            ],
            "text/plain": [
              "Processing data in one pass using dense lookup tables."
            ]
          },
          "metadata": {
            "tags": []
          }
        },
        {
          "output_type": "display_data",
          "data": {
            "text/html": [
              "<pre>+-------------------------------------+------------------+-----------------+</pre>"
            ],
            "text/plain": [
              "+-------------------------------------+------------------+-----------------+"
            ]
          },
          "metadata": {
            "tags": []
          }
        },
        {
          "output_type": "display_data",
          "data": {
            "text/html": [
              "<pre>| Elapsed Time (Constructing Lookups) | Total % Complete | Items Processed |</pre>"
            ],
            "text/plain": [
              "| Elapsed Time (Constructing Lookups) | Total % Complete | Items Processed |"
            ]
          },
          "metadata": {
            "tags": []
          }
        },
        {
          "output_type": "display_data",
          "data": {
            "text/html": [
              "<pre>+-------------------------------------+------------------+-----------------+</pre>"
            ],
            "text/plain": [
              "+-------------------------------------+------------------+-----------------+"
            ]
          },
          "metadata": {
            "tags": []
          }
        },
        {
          "output_type": "display_data",
          "data": {
            "text/html": [
              "<pre>| 14.644ms                            | 0                | 0               |</pre>"
            ],
            "text/plain": [
              "| 14.644ms                            | 0                | 0               |"
            ]
          },
          "metadata": {
            "tags": []
          }
        },
        {
          "output_type": "display_data",
          "data": {
            "text/html": [
              "<pre>| 47.266ms                            | 100              | 300             |</pre>"
            ],
            "text/plain": [
              "| 47.266ms                            | 100              | 300             |"
            ]
          },
          "metadata": {
            "tags": []
          }
        },
        {
          "output_type": "display_data",
          "data": {
            "text/html": [
              "<pre>+-------------------------------------+------------------+-----------------+</pre>"
            ],
            "text/plain": [
              "+-------------------------------------+------------------+-----------------+"
            ]
          },
          "metadata": {
            "tags": []
          }
        },
        {
          "output_type": "display_data",
          "data": {
            "text/html": [
              "<pre>Finalizing lookup tables.</pre>"
            ],
            "text/plain": [
              "Finalizing lookup tables."
            ]
          },
          "metadata": {
            "tags": []
          }
        },
        {
          "output_type": "display_data",
          "data": {
            "text/html": [
              "<pre>Generating candidate set for working with new users.</pre>"
            ],
            "text/plain": [
              "Generating candidate set for working with new users."
            ]
          },
          "metadata": {
            "tags": []
          }
        },
        {
          "output_type": "display_data",
          "data": {
            "text/html": [
              "<pre>Finished training in 0.076313s</pre>"
            ],
            "text/plain": [
              "Finished training in 0.076313s"
            ]
          },
          "metadata": {
            "tags": []
          }
        },
        {
          "output_type": "display_data",
          "data": {
            "text/html": [
              "<pre>recommendations finished on 1000/1000 queries. users per second: 42414.2</pre>"
            ],
            "text/plain": [
              "recommendations finished on 1000/1000 queries. users per second: 42414.2"
            ]
          },
          "metadata": {
            "tags": []
          }
        },
        {
          "output_type": "stream",
          "text": [
            "+------------+-----------+-----------------------+------+\n",
            "| customerId | productId |         score         | rank |\n",
            "+------------+-----------+-----------------------+------+\n",
            "|    1553    |     7     |          0.0          |  1   |\n",
            "|    1553    |     11    |          0.0          |  2   |\n",
            "|    1553    |    176    |          0.0          |  3   |\n",
            "|    1553    |    244    |          0.0          |  4   |\n",
            "|    1553    |     39    |          0.0          |  5   |\n",
            "|    1553    |     43    |          0.0          |  6   |\n",
            "|    1553    |     12    |          0.0          |  7   |\n",
            "|    1553    |    177    |          0.0          |  8   |\n",
            "|    1553    |    273    |          0.0          |  9   |\n",
            "|    1553    |    114    |          0.0          |  10  |\n",
            "|   20400    |     1     |  0.003978612422943115 |  1   |\n",
            "|   20400    |     2     |  0.003670961856842041 |  2   |\n",
            "|   20400    |     13    |  0.002444273233413696 |  3   |\n",
            "|   20400    |     0     |  0.002372108697891235 |  4   |\n",
            "|   20400    |     8     | 0.0023595809936523436 |  5   |\n",
            "|   20400    |     9     |  0.002079935073852539 |  6   |\n",
            "|   20400    |     38    |  0.002036893367767334 |  7   |\n",
            "|   20400    |     72    | 0.0019056618213653565 |  8   |\n",
            "|   20400    |     20    | 0.0018649685382843017 |  9   |\n",
            "|   20400    |     31    | 0.0018535399436950685 |  10  |\n",
            "|   19750    |    228    | 0.0027364889780680337 |  1   |\n",
            "|   19750    |    248    |  0.002727935711542765 |  2   |\n",
            "|   19750    |     3     | 0.0024956961472829184 |  3   |\n",
            "|   19750    |    181    | 0.0024063587188720703 |  4   |\n",
            "|   19750    |    254    | 0.0022383928298950195 |  5   |\n",
            "|   19750    |    222    | 0.0022104382514953613 |  6   |\n",
            "|   19750    |    120    |  0.002206524213155111 |  7   |\n",
            "|   19750    |    187    | 0.0020433664321899414 |  8   |\n",
            "|   19750    |    208    | 0.0019698143005371094 |  9   |\n",
            "|   19750    |    105    | 0.0017900665601094563 |  10  |\n",
            "+------------+-----------+-----------------------+------+\n",
            "[10000 rows x 4 columns]\n",
            "\n"
          ],
          "name": "stdout"
        }
      ]
    },
    {
      "cell_type": "markdown",
      "metadata": {
        "id": "yJhI8nxuRvmv",
        "colab_type": "text"
      },
      "source": [
        "### 6.2. `Pearson` similarity\n",
        "* Similarity is the pearson coefficient between the two vectors.\n",
        "* It is defined by the following formula\n",
        "![](http://critical-numbers.group.shef.ac.uk/glossary/images/correlationKT1.png)"
      ]
    },
    {
      "cell_type": "markdown",
      "metadata": {
        "id": "cLn8aZtBRvmv",
        "colab_type": "text"
      },
      "source": [
        "#### Using purchase count"
      ]
    },
    {
      "cell_type": "code",
      "metadata": {
        "id": "16j7qpV1Rvmw",
        "colab_type": "code",
        "colab": {
          "base_uri": "https://localhost:8080/",
          "height": 1000
        },
        "outputId": "4089ecb0-d7d2-4282-def6-6f92587aa13f"
      },
      "source": [
        "# these variables will change accordingly\n",
        "name = 'pearson'\n",
        "target = 'purchase_count'\n",
        "pear = model(train_data, name, user_id, item_id, target, users_to_recommend, n_rec, n_display)"
      ],
      "execution_count": 72,
      "outputs": [
        {
          "output_type": "display_data",
          "data": {
            "text/html": [
              "<pre>Preparing data set.</pre>"
            ],
            "text/plain": [
              "Preparing data set."
            ]
          },
          "metadata": {
            "tags": []
          }
        },
        {
          "output_type": "display_data",
          "data": {
            "text/html": [
              "<pre>    Data has 106868 observations with 23366 users and 300 items.</pre>"
            ],
            "text/plain": [
              "    Data has 106868 observations with 23366 users and 300 items."
            ]
          },
          "metadata": {
            "tags": []
          }
        },
        {
          "output_type": "display_data",
          "data": {
            "text/html": [
              "<pre>    Data prepared in: 0.139597s</pre>"
            ],
            "text/plain": [
              "    Data prepared in: 0.139597s"
            ]
          },
          "metadata": {
            "tags": []
          }
        },
        {
          "output_type": "display_data",
          "data": {
            "text/html": [
              "<pre>Training model from provided data.</pre>"
            ],
            "text/plain": [
              "Training model from provided data."
            ]
          },
          "metadata": {
            "tags": []
          }
        },
        {
          "output_type": "display_data",
          "data": {
            "text/html": [
              "<pre>Gathering per-item and per-user statistics.</pre>"
            ],
            "text/plain": [
              "Gathering per-item and per-user statistics."
            ]
          },
          "metadata": {
            "tags": []
          }
        },
        {
          "output_type": "display_data",
          "data": {
            "text/html": [
              "<pre>+--------------------------------+------------+</pre>"
            ],
            "text/plain": [
              "+--------------------------------+------------+"
            ]
          },
          "metadata": {
            "tags": []
          }
        },
        {
          "output_type": "display_data",
          "data": {
            "text/html": [
              "<pre>| Elapsed Time (Item Statistics) | % Complete |</pre>"
            ],
            "text/plain": [
              "| Elapsed Time (Item Statistics) | % Complete |"
            ]
          },
          "metadata": {
            "tags": []
          }
        },
        {
          "output_type": "display_data",
          "data": {
            "text/html": [
              "<pre>+--------------------------------+------------+</pre>"
            ],
            "text/plain": [
              "+--------------------------------+------------+"
            ]
          },
          "metadata": {
            "tags": []
          }
        },
        {
          "output_type": "display_data",
          "data": {
            "text/html": [
              "<pre>| 1.187ms                        | 4.25       |</pre>"
            ],
            "text/plain": [
              "| 1.187ms                        | 4.25       |"
            ]
          },
          "metadata": {
            "tags": []
          }
        },
        {
          "output_type": "display_data",
          "data": {
            "text/html": [
              "<pre>| 24.733ms                       | 100        |</pre>"
            ],
            "text/plain": [
              "| 24.733ms                       | 100        |"
            ]
          },
          "metadata": {
            "tags": []
          }
        },
        {
          "output_type": "display_data",
          "data": {
            "text/html": [
              "<pre>+--------------------------------+------------+</pre>"
            ],
            "text/plain": [
              "+--------------------------------+------------+"
            ]
          },
          "metadata": {
            "tags": []
          }
        },
        {
          "output_type": "display_data",
          "data": {
            "text/html": [
              "<pre>Setting up lookup tables.</pre>"
            ],
            "text/plain": [
              "Setting up lookup tables."
            ]
          },
          "metadata": {
            "tags": []
          }
        },
        {
          "output_type": "display_data",
          "data": {
            "text/html": [
              "<pre>Processing data in one pass using dense lookup tables.</pre>"
            ],
            "text/plain": [
              "Processing data in one pass using dense lookup tables."
            ]
          },
          "metadata": {
            "tags": []
          }
        },
        {
          "output_type": "display_data",
          "data": {
            "text/html": [
              "<pre>+-------------------------------------+------------------+-----------------+</pre>"
            ],
            "text/plain": [
              "+-------------------------------------+------------------+-----------------+"
            ]
          },
          "metadata": {
            "tags": []
          }
        },
        {
          "output_type": "display_data",
          "data": {
            "text/html": [
              "<pre>| Elapsed Time (Constructing Lookups) | Total % Complete | Items Processed |</pre>"
            ],
            "text/plain": [
              "| Elapsed Time (Constructing Lookups) | Total % Complete | Items Processed |"
            ]
          },
          "metadata": {
            "tags": []
          }
        },
        {
          "output_type": "display_data",
          "data": {
            "text/html": [
              "<pre>+-------------------------------------+------------------+-----------------+</pre>"
            ],
            "text/plain": [
              "+-------------------------------------+------------------+-----------------+"
            ]
          },
          "metadata": {
            "tags": []
          }
        },
        {
          "output_type": "display_data",
          "data": {
            "text/html": [
              "<pre>| 27.371ms                            | 0                | 0               |</pre>"
            ],
            "text/plain": [
              "| 27.371ms                            | 0                | 0               |"
            ]
          },
          "metadata": {
            "tags": []
          }
        },
        {
          "output_type": "display_data",
          "data": {
            "text/html": [
              "<pre>| 79.115ms                            | 100              | 300             |</pre>"
            ],
            "text/plain": [
              "| 79.115ms                            | 100              | 300             |"
            ]
          },
          "metadata": {
            "tags": []
          }
        },
        {
          "output_type": "display_data",
          "data": {
            "text/html": [
              "<pre>+-------------------------------------+------------------+-----------------+</pre>"
            ],
            "text/plain": [
              "+-------------------------------------+------------------+-----------------+"
            ]
          },
          "metadata": {
            "tags": []
          }
        },
        {
          "output_type": "display_data",
          "data": {
            "text/html": [
              "<pre>Finalizing lookup tables.</pre>"
            ],
            "text/plain": [
              "Finalizing lookup tables."
            ]
          },
          "metadata": {
            "tags": []
          }
        },
        {
          "output_type": "display_data",
          "data": {
            "text/html": [
              "<pre>Generating candidate set for working with new users.</pre>"
            ],
            "text/plain": [
              "Generating candidate set for working with new users."
            ]
          },
          "metadata": {
            "tags": []
          }
        },
        {
          "output_type": "display_data",
          "data": {
            "text/html": [
              "<pre>Finished training in 0.1053s</pre>"
            ],
            "text/plain": [
              "Finished training in 0.1053s"
            ]
          },
          "metadata": {
            "tags": []
          }
        },
        {
          "output_type": "display_data",
          "data": {
            "text/html": [
              "<pre>recommendations finished on 1000/1000 queries. users per second: 59995.2</pre>"
            ],
            "text/plain": [
              "recommendations finished on 1000/1000 queries. users per second: 59995.2"
            ]
          },
          "metadata": {
            "tags": []
          }
        },
        {
          "output_type": "stream",
          "text": [
            "+------------+-----------+--------------------+------+\n",
            "| customerId | productId |       score        | rank |\n",
            "+------------+-----------+--------------------+------+\n",
            "|    1553    |    132    | 3.1481481481481484 |  1   |\n",
            "|    1553    |     34    | 3.068965517241379  |  2   |\n",
            "|    1553    |     37    | 3.0048790449801563 |  3   |\n",
            "|    1553    |     0     | 2.9529009890579156 |  4   |\n",
            "|    1553    |    248    | 2.8775510204081636 |  5   |\n",
            "|    1553    |     3     | 2.8319838056680178 |  6   |\n",
            "|    1553    |    110    |  2.79129899827774  |  7   |\n",
            "|    1553    |     27    | 2.694656488549618  |  8   |\n",
            "|    1553    |     10    | 2.6418338108882513 |  9   |\n",
            "|    1553    |    230    | 2.5573732509350124 |  10  |\n",
            "|   20400    |    132    | 3.1481481481481484 |  1   |\n",
            "|   20400    |     34    | 3.068965517241379  |  2   |\n",
            "|   20400    |     37    | 3.007722007722008  |  3   |\n",
            "|   20400    |     0     | 2.9536013436340265 |  4   |\n",
            "|   20400    |    248    | 2.8756892097239595 |  5   |\n",
            "|   20400    |     3     | 2.8319838056680178 |  6   |\n",
            "|   20400    |    110    | 2.7966101694915255 |  7   |\n",
            "|   20400    |     27    | 2.694656488549618  |  8   |\n",
            "|   20400    |     10    | 2.639709620557746  |  9   |\n",
            "|   20400    |    230    | 2.5619747692481023 |  10  |\n",
            "|   19750    |    132    | 3.1445323962856224 |  1   |\n",
            "|   19750    |     34    | 3.0563110786265337 |  2   |\n",
            "|   19750    |     37    | 3.007722007722008  |  3   |\n",
            "|   19750    |     0     | 2.953609777691262  |  4   |\n",
            "|   19750    |    248    | 2.8775510204081636 |  5   |\n",
            "|   19750    |     3     | 2.8283516625281786 |  6   |\n",
            "|   19750    |    110    | 2.7893507558915576 |  7   |\n",
            "|   19750    |     27    | 2.6906333687423745 |  8   |\n",
            "|   19750    |     10    | 2.6418338108882513 |  9   |\n",
            "|   19750    |    230    | 2.5639097744360906 |  10  |\n",
            "+------------+-----------+--------------------+------+\n",
            "[10000 rows x 4 columns]\n",
            "\n"
          ],
          "name": "stdout"
        }
      ]
    },
    {
      "cell_type": "markdown",
      "metadata": {
        "id": "65UDbd3eRvmx",
        "colab_type": "text"
      },
      "source": [
        "#### Using purchase dummy"
      ]
    },
    {
      "cell_type": "code",
      "metadata": {
        "id": "NKoet4rURvmy",
        "colab_type": "code",
        "colab": {
          "base_uri": "https://localhost:8080/",
          "height": 1000
        },
        "outputId": "c72dbdcb-b563-4d12-e4cd-70ce1f8ecf77"
      },
      "source": [
        "# these variables will change accordingly\n",
        "name = 'pearson'\n",
        "target = 'purchase_dummy'\n",
        "pear_dummy = model(train_data_dummy, name, user_id, item_id, target, users_to_recommend, n_rec, n_display)"
      ],
      "execution_count": 73,
      "outputs": [
        {
          "output_type": "display_data",
          "data": {
            "text/html": [
              "<pre>Warning: Ignoring columns purchase_count;</pre>"
            ],
            "text/plain": [
              "Warning: Ignoring columns purchase_count;"
            ]
          },
          "metadata": {
            "tags": []
          }
        },
        {
          "output_type": "display_data",
          "data": {
            "text/html": [
              "<pre>    To use these columns in scoring predictions, use a model that allows the use of additional features.</pre>"
            ],
            "text/plain": [
              "    To use these columns in scoring predictions, use a model that allows the use of additional features."
            ]
          },
          "metadata": {
            "tags": []
          }
        },
        {
          "output_type": "display_data",
          "data": {
            "text/html": [
              "<pre>Preparing data set.</pre>"
            ],
            "text/plain": [
              "Preparing data set."
            ]
          },
          "metadata": {
            "tags": []
          }
        },
        {
          "output_type": "display_data",
          "data": {
            "text/html": [
              "<pre>    Data has 106868 observations with 23332 users and 300 items.</pre>"
            ],
            "text/plain": [
              "    Data has 106868 observations with 23332 users and 300 items."
            ]
          },
          "metadata": {
            "tags": []
          }
        },
        {
          "output_type": "display_data",
          "data": {
            "text/html": [
              "<pre>    Data prepared in: 0.13989s</pre>"
            ],
            "text/plain": [
              "    Data prepared in: 0.13989s"
            ]
          },
          "metadata": {
            "tags": []
          }
        },
        {
          "output_type": "display_data",
          "data": {
            "text/html": [
              "<pre>Training model from provided data.</pre>"
            ],
            "text/plain": [
              "Training model from provided data."
            ]
          },
          "metadata": {
            "tags": []
          }
        },
        {
          "output_type": "display_data",
          "data": {
            "text/html": [
              "<pre>Gathering per-item and per-user statistics.</pre>"
            ],
            "text/plain": [
              "Gathering per-item and per-user statistics."
            ]
          },
          "metadata": {
            "tags": []
          }
        },
        {
          "output_type": "display_data",
          "data": {
            "text/html": [
              "<pre>+--------------------------------+------------+</pre>"
            ],
            "text/plain": [
              "+--------------------------------+------------+"
            ]
          },
          "metadata": {
            "tags": []
          }
        },
        {
          "output_type": "display_data",
          "data": {
            "text/html": [
              "<pre>| Elapsed Time (Item Statistics) | % Complete |</pre>"
            ],
            "text/plain": [
              "| Elapsed Time (Item Statistics) | % Complete |"
            ]
          },
          "metadata": {
            "tags": []
          }
        },
        {
          "output_type": "display_data",
          "data": {
            "text/html": [
              "<pre>+--------------------------------+------------+</pre>"
            ],
            "text/plain": [
              "+--------------------------------+------------+"
            ]
          },
          "metadata": {
            "tags": []
          }
        },
        {
          "output_type": "display_data",
          "data": {
            "text/html": [
              "<pre>| 1.263ms                        | 4.25       |</pre>"
            ],
            "text/plain": [
              "| 1.263ms                        | 4.25       |"
            ]
          },
          "metadata": {
            "tags": []
          }
        },
        {
          "output_type": "display_data",
          "data": {
            "text/html": [
              "<pre>| 20.611ms                       | 100        |</pre>"
            ],
            "text/plain": [
              "| 20.611ms                       | 100        |"
            ]
          },
          "metadata": {
            "tags": []
          }
        },
        {
          "output_type": "display_data",
          "data": {
            "text/html": [
              "<pre>+--------------------------------+------------+</pre>"
            ],
            "text/plain": [
              "+--------------------------------+------------+"
            ]
          },
          "metadata": {
            "tags": []
          }
        },
        {
          "output_type": "display_data",
          "data": {
            "text/html": [
              "<pre>Setting up lookup tables.</pre>"
            ],
            "text/plain": [
              "Setting up lookup tables."
            ]
          },
          "metadata": {
            "tags": []
          }
        },
        {
          "output_type": "display_data",
          "data": {
            "text/html": [
              "<pre>Processing data in one pass using dense lookup tables.</pre>"
            ],
            "text/plain": [
              "Processing data in one pass using dense lookup tables."
            ]
          },
          "metadata": {
            "tags": []
          }
        },
        {
          "output_type": "display_data",
          "data": {
            "text/html": [
              "<pre>+-------------------------------------+------------------+-----------------+</pre>"
            ],
            "text/plain": [
              "+-------------------------------------+------------------+-----------------+"
            ]
          },
          "metadata": {
            "tags": []
          }
        },
        {
          "output_type": "display_data",
          "data": {
            "text/html": [
              "<pre>| Elapsed Time (Constructing Lookups) | Total % Complete | Items Processed |</pre>"
            ],
            "text/plain": [
              "| Elapsed Time (Constructing Lookups) | Total % Complete | Items Processed |"
            ]
          },
          "metadata": {
            "tags": []
          }
        },
        {
          "output_type": "display_data",
          "data": {
            "text/html": [
              "<pre>+-------------------------------------+------------------+-----------------+</pre>"
            ],
            "text/plain": [
              "+-------------------------------------+------------------+-----------------+"
            ]
          },
          "metadata": {
            "tags": []
          }
        },
        {
          "output_type": "display_data",
          "data": {
            "text/html": [
              "<pre>| 23.76ms                             | 0                | 0               |</pre>"
            ],
            "text/plain": [
              "| 23.76ms                             | 0                | 0               |"
            ]
          },
          "metadata": {
            "tags": []
          }
        },
        {
          "output_type": "display_data",
          "data": {
            "text/html": [
              "<pre>| 65.536ms                            | 100              | 300             |</pre>"
            ],
            "text/plain": [
              "| 65.536ms                            | 100              | 300             |"
            ]
          },
          "metadata": {
            "tags": []
          }
        },
        {
          "output_type": "display_data",
          "data": {
            "text/html": [
              "<pre>+-------------------------------------+------------------+-----------------+</pre>"
            ],
            "text/plain": [
              "+-------------------------------------+------------------+-----------------+"
            ]
          },
          "metadata": {
            "tags": []
          }
        },
        {
          "output_type": "display_data",
          "data": {
            "text/html": [
              "<pre>Finalizing lookup tables.</pre>"
            ],
            "text/plain": [
              "Finalizing lookup tables."
            ]
          },
          "metadata": {
            "tags": []
          }
        },
        {
          "output_type": "display_data",
          "data": {
            "text/html": [
              "<pre>Generating candidate set for working with new users.</pre>"
            ],
            "text/plain": [
              "Generating candidate set for working with new users."
            ]
          },
          "metadata": {
            "tags": []
          }
        },
        {
          "output_type": "display_data",
          "data": {
            "text/html": [
              "<pre>Finished training in 0.091272s</pre>"
            ],
            "text/plain": [
              "Finished training in 0.091272s"
            ]
          },
          "metadata": {
            "tags": []
          }
        },
        {
          "output_type": "display_data",
          "data": {
            "text/html": [
              "<pre>recommendations finished on 1000/1000 queries. users per second: 57280.3</pre>"
            ],
            "text/plain": [
              "recommendations finished on 1000/1000 queries. users per second: 57280.3"
            ]
          },
          "metadata": {
            "tags": []
          }
        },
        {
          "output_type": "stream",
          "text": [
            "+------------+-----------+-------+------+\n",
            "| customerId | productId | score | rank |\n",
            "+------------+-----------+-------+------+\n",
            "|    1553    |    170    |  0.0  |  1   |\n",
            "|    1553    |     96    |  0.0  |  2   |\n",
            "|    1553    |     5     |  0.0  |  3   |\n",
            "|    1553    |    107    |  0.0  |  4   |\n",
            "|    1553    |     23    |  0.0  |  5   |\n",
            "|    1553    |    129    |  0.0  |  6   |\n",
            "|    1553    |    189    |  0.0  |  7   |\n",
            "|    1553    |    144    |  0.0  |  8   |\n",
            "|    1553    |     65    |  0.0  |  9   |\n",
            "|    1553    |    106    |  0.0  |  10  |\n",
            "|   20400    |     96    |  0.0  |  1   |\n",
            "|   20400    |     5     |  0.0  |  2   |\n",
            "|   20400    |    107    |  0.0  |  3   |\n",
            "|   20400    |     14    |  0.0  |  4   |\n",
            "|   20400    |     23    |  0.0  |  5   |\n",
            "|   20400    |    129    |  0.0  |  6   |\n",
            "|   20400    |    189    |  0.0  |  7   |\n",
            "|   20400    |    144    |  0.0  |  8   |\n",
            "|   20400    |     65    |  0.0  |  9   |\n",
            "|   20400    |    106    |  0.0  |  10  |\n",
            "|   19750    |     96    |  0.0  |  1   |\n",
            "|   19750    |     5     |  0.0  |  2   |\n",
            "|   19750    |    107    |  0.0  |  3   |\n",
            "|   19750    |     14    |  0.0  |  4   |\n",
            "|   19750    |     23    |  0.0  |  5   |\n",
            "|   19750    |    129    |  0.0  |  6   |\n",
            "|   19750    |    189    |  0.0  |  7   |\n",
            "|   19750    |    144    |  0.0  |  8   |\n",
            "|   19750    |     65    |  0.0  |  9   |\n",
            "|   19750    |    106    |  0.0  |  10  |\n",
            "+------------+-----------+-------+------+\n",
            "[10000 rows x 4 columns]\n",
            "\n"
          ],
          "name": "stdout"
        }
      ]
    },
    {
      "cell_type": "markdown",
      "metadata": {
        "id": "XeeHC1o1Rvm0",
        "colab_type": "text"
      },
      "source": [
        "#### Using normalized purchase count"
      ]
    },
    {
      "cell_type": "code",
      "metadata": {
        "id": "g5BUNRd6Rvm0",
        "colab_type": "code",
        "colab": {
          "base_uri": "https://localhost:8080/",
          "height": 1000
        },
        "outputId": "9ccfac64-9556-4b99-b022-5aa40b73c71a"
      },
      "source": [
        "name = 'pearson'\n",
        "target = 'scaled_purchase_freq'\n",
        "pear_norm = model(train_data_norm, name, user_id, item_id, target, users_to_recommend, n_rec, n_display)"
      ],
      "execution_count": 74,
      "outputs": [
        {
          "output_type": "display_data",
          "data": {
            "text/html": [
              "<pre>Preparing data set.</pre>"
            ],
            "text/plain": [
              "Preparing data set."
            ]
          },
          "metadata": {
            "tags": []
          }
        },
        {
          "output_type": "display_data",
          "data": {
            "text/html": [
              "<pre>    Data has 106868 observations with 23292 users and 300 items.</pre>"
            ],
            "text/plain": [
              "    Data has 106868 observations with 23292 users and 300 items."
            ]
          },
          "metadata": {
            "tags": []
          }
        },
        {
          "output_type": "display_data",
          "data": {
            "text/html": [
              "<pre>    Data prepared in: 0.128545s</pre>"
            ],
            "text/plain": [
              "    Data prepared in: 0.128545s"
            ]
          },
          "metadata": {
            "tags": []
          }
        },
        {
          "output_type": "display_data",
          "data": {
            "text/html": [
              "<pre>Training model from provided data.</pre>"
            ],
            "text/plain": [
              "Training model from provided data."
            ]
          },
          "metadata": {
            "tags": []
          }
        },
        {
          "output_type": "display_data",
          "data": {
            "text/html": [
              "<pre>Gathering per-item and per-user statistics.</pre>"
            ],
            "text/plain": [
              "Gathering per-item and per-user statistics."
            ]
          },
          "metadata": {
            "tags": []
          }
        },
        {
          "output_type": "display_data",
          "data": {
            "text/html": [
              "<pre>+--------------------------------+------------+</pre>"
            ],
            "text/plain": [
              "+--------------------------------+------------+"
            ]
          },
          "metadata": {
            "tags": []
          }
        },
        {
          "output_type": "display_data",
          "data": {
            "text/html": [
              "<pre>| Elapsed Time (Item Statistics) | % Complete |</pre>"
            ],
            "text/plain": [
              "| Elapsed Time (Item Statistics) | % Complete |"
            ]
          },
          "metadata": {
            "tags": []
          }
        },
        {
          "output_type": "display_data",
          "data": {
            "text/html": [
              "<pre>+--------------------------------+------------+</pre>"
            ],
            "text/plain": [
              "+--------------------------------+------------+"
            ]
          },
          "metadata": {
            "tags": []
          }
        },
        {
          "output_type": "display_data",
          "data": {
            "text/html": [
              "<pre>| 1.275ms                        | 4.25       |</pre>"
            ],
            "text/plain": [
              "| 1.275ms                        | 4.25       |"
            ]
          },
          "metadata": {
            "tags": []
          }
        },
        {
          "output_type": "display_data",
          "data": {
            "text/html": [
              "<pre>| 30.491ms                       | 100        |</pre>"
            ],
            "text/plain": [
              "| 30.491ms                       | 100        |"
            ]
          },
          "metadata": {
            "tags": []
          }
        },
        {
          "output_type": "display_data",
          "data": {
            "text/html": [
              "<pre>+--------------------------------+------------+</pre>"
            ],
            "text/plain": [
              "+--------------------------------+------------+"
            ]
          },
          "metadata": {
            "tags": []
          }
        },
        {
          "output_type": "display_data",
          "data": {
            "text/html": [
              "<pre>Setting up lookup tables.</pre>"
            ],
            "text/plain": [
              "Setting up lookup tables."
            ]
          },
          "metadata": {
            "tags": []
          }
        },
        {
          "output_type": "display_data",
          "data": {
            "text/html": [
              "<pre>Processing data in one pass using dense lookup tables.</pre>"
            ],
            "text/plain": [
              "Processing data in one pass using dense lookup tables."
            ]
          },
          "metadata": {
            "tags": []
          }
        },
        {
          "output_type": "display_data",
          "data": {
            "text/html": [
              "<pre>+-------------------------------------+------------------+-----------------+</pre>"
            ],
            "text/plain": [
              "+-------------------------------------+------------------+-----------------+"
            ]
          },
          "metadata": {
            "tags": []
          }
        },
        {
          "output_type": "display_data",
          "data": {
            "text/html": [
              "<pre>| Elapsed Time (Constructing Lookups) | Total % Complete | Items Processed |</pre>"
            ],
            "text/plain": [
              "| Elapsed Time (Constructing Lookups) | Total % Complete | Items Processed |"
            ]
          },
          "metadata": {
            "tags": []
          }
        },
        {
          "output_type": "display_data",
          "data": {
            "text/html": [
              "<pre>+-------------------------------------+------------------+-----------------+</pre>"
            ],
            "text/plain": [
              "+-------------------------------------+------------------+-----------------+"
            ]
          },
          "metadata": {
            "tags": []
          }
        },
        {
          "output_type": "display_data",
          "data": {
            "text/html": [
              "<pre>| 31.845ms                            | 0                | 0               |</pre>"
            ],
            "text/plain": [
              "| 31.845ms                            | 0                | 0               |"
            ]
          },
          "metadata": {
            "tags": []
          }
        },
        {
          "output_type": "display_data",
          "data": {
            "text/html": [
              "<pre>| 77.304ms                            | 100              | 300             |</pre>"
            ],
            "text/plain": [
              "| 77.304ms                            | 100              | 300             |"
            ]
          },
          "metadata": {
            "tags": []
          }
        },
        {
          "output_type": "display_data",
          "data": {
            "text/html": [
              "<pre>+-------------------------------------+------------------+-----------------+</pre>"
            ],
            "text/plain": [
              "+-------------------------------------+------------------+-----------------+"
            ]
          },
          "metadata": {
            "tags": []
          }
        },
        {
          "output_type": "display_data",
          "data": {
            "text/html": [
              "<pre>Finalizing lookup tables.</pre>"
            ],
            "text/plain": [
              "Finalizing lookup tables."
            ]
          },
          "metadata": {
            "tags": []
          }
        },
        {
          "output_type": "display_data",
          "data": {
            "text/html": [
              "<pre>Generating candidate set for working with new users.</pre>"
            ],
            "text/plain": [
              "Generating candidate set for working with new users."
            ]
          },
          "metadata": {
            "tags": []
          }
        },
        {
          "output_type": "display_data",
          "data": {
            "text/html": [
              "<pre>Finished training in 0.104816s</pre>"
            ],
            "text/plain": [
              "Finished training in 0.104816s"
            ]
          },
          "metadata": {
            "tags": []
          }
        },
        {
          "output_type": "display_data",
          "data": {
            "text/html": [
              "<pre>recommendations finished on 1000/1000 queries. users per second: 53995.7</pre>"
            ],
            "text/plain": [
              "recommendations finished on 1000/1000 queries. users per second: 53995.7"
            ]
          },
          "metadata": {
            "tags": []
          }
        },
        {
          "output_type": "stream",
          "text": [
            "+------------+-----------+---------------------+------+\n",
            "| customerId | productId |        score        | rank |\n",
            "+------------+-----------+---------------------+------+\n",
            "|    1553    |    226    |  0.7789115646258504 |  1   |\n",
            "|    1553    |    230    |  0.3336027243979892 |  2   |\n",
            "|    1553    |    247    |  0.3333333333333333 |  3   |\n",
            "|    1553    |    125    |  0.2682890575272695 |  4   |\n",
            "|    1553    |    248    | 0.26016875632265773 |  5   |\n",
            "|    1553    |    294    |  0.2523809523809523 |  6   |\n",
            "|    1553    |    155    | 0.24827586206896557 |  7   |\n",
            "|    1553    |    204    | 0.23655913978494625 |  8   |\n",
            "|    1553    |    276    | 0.23183422429221007 |  9   |\n",
            "|    1553    |    165    |  0.224996268749237  |  10  |\n",
            "|   20400    |    226    |  0.7788998439685018 |  1   |\n",
            "|   20400    |    230    | 0.33382817181429475 |  2   |\n",
            "|   20400    |    247    |  0.3333313675721486 |  3   |\n",
            "|   20400    |    125    |  0.268570247207369  |  4   |\n",
            "|   20400    |    248    | 0.26063274987200463 |  5   |\n",
            "|   20400    |    294    |  0.2523661179769606 |  6   |\n",
            "|   20400    |    155    | 0.24824049267275586 |  7   |\n",
            "|   20400    |    204    | 0.23655432969011286 |  8   |\n",
            "|   20400    |    276    | 0.23212173683302734 |  9   |\n",
            "|   20400    |    165    | 0.22495937228202814 |  10  |\n",
            "|   19750    |    226    |  0.7789115646258504 |  1   |\n",
            "|   19750    |    230    |  0.3338345864661655 |  2   |\n",
            "|   19750    |    125    |  0.2683899224939799 |  3   |\n",
            "|   19750    |    248    |  0.2602936141457117 |  4   |\n",
            "|   19750    |    294    |  0.2523809523809523 |  5   |\n",
            "|   19750    |    155    | 0.24751743270062856 |  6   |\n",
            "|   19750    |    204    | 0.23647043813941301 |  7   |\n",
            "|   19750    |    276    | 0.23205926162855955 |  8   |\n",
            "|   19750    |     72    | 0.22457465373847368 |  9   |\n",
            "|   19750    |    165    | 0.22379923462867732 |  10  |\n",
            "+------------+-----------+---------------------+------+\n",
            "[10000 rows x 4 columns]\n",
            "\n"
          ],
          "name": "stdout"
        }
      ]
    },
    {
      "cell_type": "markdown",
      "metadata": {
        "id": "PR3P-bXIRvm3",
        "colab_type": "text"
      },
      "source": [
        "#### Note\n",
        "* In collaborative filtering above, we used two approaches: cosine and pearson distance. We also got to apply them to three training datasets with normal counts, dummy, or normalized counts of items purchase.\n",
        "* We can see that the recommendations are different for each user. This suggests that personalization does exist. \n",
        "* But how good is this model compared to the baseline, and to each other? We need some means of evaluating a recommendation engine. Lets focus on that in the next section."
      ]
    },
    {
      "cell_type": "markdown",
      "metadata": {
        "id": "P4EcXzzMRvm4",
        "colab_type": "text"
      },
      "source": [
        "## 7. Model Evaluation\n",
        "For evaluating recommendation engines, we can use the concept of precision-recall.\n",
        "\n",
        "* RMSE (Root Mean Squared Errors)\n",
        "    * Measures the error of predicted values\n",
        "    * Lesser the RMSE value, better the recommendations\n",
        "* Recall\n",
        "    * What percentage of products that a user buys are actually recommended?\n",
        "    * If a customer buys 5 products and the recommendation decided to show 3 of them, then the recall is 0.6\n",
        "* Precision\n",
        "    * Out of all the recommended items, how many the user actually liked?\n",
        "    * If 5 products were recommended to the customer out of which he buys 4 of them, then precision is 0.8\n",
        "    \n",
        "* Why are both recall and precision important?\n",
        "    * Consider a case where we recommend all products, so our customers will surely cover the items that they liked and bought. In this case, we have 100% recall! Does this mean our model is good?\n",
        "    * We have to consider precision. If we recommend 300 items but user likes and buys only 3 of them, then precision is 0.1%! This very low precision indicates that the model is not great, despite their excellent recall.\n",
        "    * So our aim has to be optimizing both recall and precision (to be close to 1 as possible).\n",
        "\n",
        "Lets compare all the models we have built based on precision-recall characteristics:"
      ]
    },
    {
      "cell_type": "code",
      "metadata": {
        "id": "QRXScv3gRvm4",
        "colab_type": "code",
        "colab": {}
      },
      "source": [
        "# create initial callable variables\n",
        "\n",
        "models_w_counts = [popularity_model, cos, pear]\n",
        "models_w_dummy = [pop_dummy, cos_dummy, pear_dummy]\n",
        "models_w_norm = [pop_norm, cos_norm, pear_norm]\n",
        "\n",
        "names_w_counts = ['Popularity Model on Purchase Counts', 'Cosine Similarity on Purchase Counts', 'Pearson Similarity on Purchase Counts']\n",
        "names_w_dummy = ['Popularity Model on Purchase Dummy', 'Cosine Similarity on Purchase Dummy', 'Pearson Similarity on Purchase Dummy']\n",
        "names_w_norm = ['Popularity Model on Scaled Purchase Counts', 'Cosine Similarity on Scaled Purchase Counts', 'Pearson Similarity on Scaled Purchase Counts']"
      ],
      "execution_count": 0,
      "outputs": []
    },
    {
      "cell_type": "markdown",
      "metadata": {
        "id": "7ccOJE4-Rvm9",
        "colab_type": "text"
      },
      "source": [
        "#### Models on purchase counts"
      ]
    },
    {
      "cell_type": "code",
      "metadata": {
        "scrolled": false,
        "id": "23lWNphHRvm-",
        "colab_type": "code",
        "colab": {
          "base_uri": "https://localhost:8080/",
          "height": 1000
        },
        "outputId": "6bce8552-5deb-43cf-90cf-20ff96708bf1"
      },
      "source": [
        "eval_counts = tc.recommender.util.compare_models(test_data, models_w_counts, model_names=names_w_counts)"
      ],
      "execution_count": 76,
      "outputs": [
        {
          "output_type": "stream",
          "text": [
            "PROGRESS: Evaluate model Popularity Model on Purchase Counts\n"
          ],
          "name": "stdout"
        },
        {
          "output_type": "display_data",
          "data": {
            "text/html": [
              "<pre>recommendations finished on 1000/13875 queries. users per second: 54662.7</pre>"
            ],
            "text/plain": [
              "recommendations finished on 1000/13875 queries. users per second: 54662.7"
            ]
          },
          "metadata": {
            "tags": []
          }
        },
        {
          "output_type": "display_data",
          "data": {
            "text/html": [
              "<pre>recommendations finished on 2000/13875 queries. users per second: 53433.1</pre>"
            ],
            "text/plain": [
              "recommendations finished on 2000/13875 queries. users per second: 53433.1"
            ]
          },
          "metadata": {
            "tags": []
          }
        },
        {
          "output_type": "display_data",
          "data": {
            "text/html": [
              "<pre>recommendations finished on 3000/13875 queries. users per second: 54961.2</pre>"
            ],
            "text/plain": [
              "recommendations finished on 3000/13875 queries. users per second: 54961.2"
            ]
          },
          "metadata": {
            "tags": []
          }
        },
        {
          "output_type": "display_data",
          "data": {
            "text/html": [
              "<pre>recommendations finished on 4000/13875 queries. users per second: 56873.1</pre>"
            ],
            "text/plain": [
              "recommendations finished on 4000/13875 queries. users per second: 56873.1"
            ]
          },
          "metadata": {
            "tags": []
          }
        },
        {
          "output_type": "display_data",
          "data": {
            "text/html": [
              "<pre>recommendations finished on 5000/13875 queries. users per second: 58239.1</pre>"
            ],
            "text/plain": [
              "recommendations finished on 5000/13875 queries. users per second: 58239.1"
            ]
          },
          "metadata": {
            "tags": []
          }
        },
        {
          "output_type": "display_data",
          "data": {
            "text/html": [
              "<pre>recommendations finished on 6000/13875 queries. users per second: 56682.9</pre>"
            ],
            "text/plain": [
              "recommendations finished on 6000/13875 queries. users per second: 56682.9"
            ]
          },
          "metadata": {
            "tags": []
          }
        },
        {
          "output_type": "display_data",
          "data": {
            "text/html": [
              "<pre>recommendations finished on 7000/13875 queries. users per second: 55470.6</pre>"
            ],
            "text/plain": [
              "recommendations finished on 7000/13875 queries. users per second: 55470.6"
            ]
          },
          "metadata": {
            "tags": []
          }
        },
        {
          "output_type": "display_data",
          "data": {
            "text/html": [
              "<pre>recommendations finished on 8000/13875 queries. users per second: 53694.5</pre>"
            ],
            "text/plain": [
              "recommendations finished on 8000/13875 queries. users per second: 53694.5"
            ]
          },
          "metadata": {
            "tags": []
          }
        },
        {
          "output_type": "display_data",
          "data": {
            "text/html": [
              "<pre>recommendations finished on 9000/13875 queries. users per second: 52691</pre>"
            ],
            "text/plain": [
              "recommendations finished on 9000/13875 queries. users per second: 52691"
            ]
          },
          "metadata": {
            "tags": []
          }
        },
        {
          "output_type": "display_data",
          "data": {
            "text/html": [
              "<pre>recommendations finished on 10000/13875 queries. users per second: 54117.2</pre>"
            ],
            "text/plain": [
              "recommendations finished on 10000/13875 queries. users per second: 54117.2"
            ]
          },
          "metadata": {
            "tags": []
          }
        },
        {
          "output_type": "display_data",
          "data": {
            "text/html": [
              "<pre>recommendations finished on 11000/13875 queries. users per second: 55088.1</pre>"
            ],
            "text/plain": [
              "recommendations finished on 11000/13875 queries. users per second: 55088.1"
            ]
          },
          "metadata": {
            "tags": []
          }
        },
        {
          "output_type": "display_data",
          "data": {
            "text/html": [
              "<pre>recommendations finished on 12000/13875 queries. users per second: 55162.5</pre>"
            ],
            "text/plain": [
              "recommendations finished on 12000/13875 queries. users per second: 55162.5"
            ]
          },
          "metadata": {
            "tags": []
          }
        },
        {
          "output_type": "display_data",
          "data": {
            "text/html": [
              "<pre>recommendations finished on 13000/13875 queries. users per second: 55588.3</pre>"
            ],
            "text/plain": [
              "recommendations finished on 13000/13875 queries. users per second: 55588.3"
            ]
          },
          "metadata": {
            "tags": []
          }
        },
        {
          "output_type": "stream",
          "text": [
            "/usr/local/lib/python3.6/dist-packages/turicreate/aggregate.py:92: UserWarning: Passing parameter(s) to COUNT is deprecated. This functionality will be removed in the next major release. Any passed parameters are ignored.\n",
            "  + 'the next major release. Any passed parameters are ignored.')\n"
          ],
          "name": "stderr"
        },
        {
          "output_type": "stream",
          "text": [
            "\n",
            "Precision and recall summary statistics by cutoff\n",
            "+--------+-----------------------+-----------------------+\n",
            "| cutoff |     mean_precision    |      mean_recall      |\n",
            "+--------+-----------------------+-----------------------+\n",
            "|   1    | 0.0012972972972972957 | 0.0006942942942942944 |\n",
            "|   2    |  0.003351351351351351 | 0.0034932100932100925 |\n",
            "|   3    | 0.0035795795795795803 |  0.005492180492180498 |\n",
            "|   4    |  0.007369369369369374 |   0.0157795754089872  |\n",
            "|   5    |  0.00608288288288292  |  0.016083078912490653 |\n",
            "|   6    |  0.00622222222222223  |  0.019958426087837832 |\n",
            "|   7    |  0.00573487773487775  |  0.02148864201805376  |\n",
            "|   8    |  0.005369369369369366 |  0.022871370200781966 |\n",
            "|   9    |  0.005301301301301361 |  0.02627145600086775  |\n",
            "|   10   |  0.005117117117117128 |  0.028290961220372952 |\n",
            "+--------+-----------------------+-----------------------+\n",
            "[10 rows x 3 columns]\n",
            "\n",
            "\n",
            "Overall RMSE: 1.1326440419768657\n",
            "\n",
            "Per User RMSE (best)\n",
            "+------------+------+-------+\n",
            "| customerId | rmse | count |\n",
            "+------------+------+-------+\n",
            "|   27397    | 0.0  |   1   |\n",
            "+------------+------+-------+\n",
            "[1 rows x 3 columns]\n",
            "\n",
            "\n",
            "Per User RMSE (worst)\n",
            "+------------+--------------------+-------+\n",
            "| customerId |        rmse        | count |\n",
            "+------------+--------------------+-------+\n",
            "|    1453    | 21.151594821088466 |   12  |\n",
            "+------------+--------------------+-------+\n",
            "[1 rows x 3 columns]\n",
            "\n",
            "\n",
            "Per Item RMSE (best)\n",
            "+-----------+--------------------+-------+\n",
            "| productId |        rmse        | count |\n",
            "+-----------+--------------------+-------+\n",
            "|    216    | 0.2878970146884288 |   84  |\n",
            "+-----------+--------------------+-------+\n",
            "[1 rows x 3 columns]\n",
            "\n",
            "\n",
            "Per Item RMSE (worst)\n",
            "+-----------+--------------------+-------+\n",
            "| productId |        rmse        | count |\n",
            "+-----------+--------------------+-------+\n",
            "|    173    | 11.772792012382006 |   40  |\n",
            "+-----------+--------------------+-------+\n",
            "[1 rows x 3 columns]\n",
            "\n",
            "PROGRESS: Evaluate model Cosine Similarity on Purchase Counts\n"
          ],
          "name": "stdout"
        },
        {
          "output_type": "display_data",
          "data": {
            "text/html": [
              "<pre>recommendations finished on 1000/13875 queries. users per second: 39961.6</pre>"
            ],
            "text/plain": [
              "recommendations finished on 1000/13875 queries. users per second: 39961.6"
            ]
          },
          "metadata": {
            "tags": []
          }
        },
        {
          "output_type": "display_data",
          "data": {
            "text/html": [
              "<pre>recommendations finished on 2000/13875 queries. users per second: 40359.2</pre>"
            ],
            "text/plain": [
              "recommendations finished on 2000/13875 queries. users per second: 40359.2"
            ]
          },
          "metadata": {
            "tags": []
          }
        },
        {
          "output_type": "display_data",
          "data": {
            "text/html": [
              "<pre>recommendations finished on 3000/13875 queries. users per second: 41081.8</pre>"
            ],
            "text/plain": [
              "recommendations finished on 3000/13875 queries. users per second: 41081.8"
            ]
          },
          "metadata": {
            "tags": []
          }
        },
        {
          "output_type": "display_data",
          "data": {
            "text/html": [
              "<pre>recommendations finished on 4000/13875 queries. users per second: 42410.6</pre>"
            ],
            "text/plain": [
              "recommendations finished on 4000/13875 queries. users per second: 42410.6"
            ]
          },
          "metadata": {
            "tags": []
          }
        },
        {
          "output_type": "display_data",
          "data": {
            "text/html": [
              "<pre>recommendations finished on 5000/13875 queries. users per second: 43523.3</pre>"
            ],
            "text/plain": [
              "recommendations finished on 5000/13875 queries. users per second: 43523.3"
            ]
          },
          "metadata": {
            "tags": []
          }
        },
        {
          "output_type": "display_data",
          "data": {
            "text/html": [
              "<pre>recommendations finished on 6000/13875 queries. users per second: 43216.8</pre>"
            ],
            "text/plain": [
              "recommendations finished on 6000/13875 queries. users per second: 43216.8"
            ]
          },
          "metadata": {
            "tags": []
          }
        },
        {
          "output_type": "display_data",
          "data": {
            "text/html": [
              "<pre>recommendations finished on 7000/13875 queries. users per second: 42392.1</pre>"
            ],
            "text/plain": [
              "recommendations finished on 7000/13875 queries. users per second: 42392.1"
            ]
          },
          "metadata": {
            "tags": []
          }
        },
        {
          "output_type": "display_data",
          "data": {
            "text/html": [
              "<pre>recommendations finished on 8000/13875 queries. users per second: 43107.6</pre>"
            ],
            "text/plain": [
              "recommendations finished on 8000/13875 queries. users per second: 43107.6"
            ]
          },
          "metadata": {
            "tags": []
          }
        },
        {
          "output_type": "display_data",
          "data": {
            "text/html": [
              "<pre>recommendations finished on 9000/13875 queries. users per second: 43507.9</pre>"
            ],
            "text/plain": [
              "recommendations finished on 9000/13875 queries. users per second: 43507.9"
            ]
          },
          "metadata": {
            "tags": []
          }
        },
        {
          "output_type": "display_data",
          "data": {
            "text/html": [
              "<pre>recommendations finished on 10000/13875 queries. users per second: 43877.9</pre>"
            ],
            "text/plain": [
              "recommendations finished on 10000/13875 queries. users per second: 43877.9"
            ]
          },
          "metadata": {
            "tags": []
          }
        },
        {
          "output_type": "display_data",
          "data": {
            "text/html": [
              "<pre>recommendations finished on 11000/13875 queries. users per second: 44076.7</pre>"
            ],
            "text/plain": [
              "recommendations finished on 11000/13875 queries. users per second: 44076.7"
            ]
          },
          "metadata": {
            "tags": []
          }
        },
        {
          "output_type": "display_data",
          "data": {
            "text/html": [
              "<pre>recommendations finished on 12000/13875 queries. users per second: 43863.3</pre>"
            ],
            "text/plain": [
              "recommendations finished on 12000/13875 queries. users per second: 43863.3"
            ]
          },
          "metadata": {
            "tags": []
          }
        },
        {
          "output_type": "display_data",
          "data": {
            "text/html": [
              "<pre>recommendations finished on 13000/13875 queries. users per second: 43979.5</pre>"
            ],
            "text/plain": [
              "recommendations finished on 13000/13875 queries. users per second: 43979.5"
            ]
          },
          "metadata": {
            "tags": []
          }
        },
        {
          "output_type": "stream",
          "text": [
            "\n",
            "Precision and recall summary statistics by cutoff\n",
            "+--------+----------------------+---------------------+\n",
            "| cutoff |    mean_precision    |     mean_recall     |\n",
            "+--------+----------------------+---------------------+\n",
            "|   1    | 0.11401801801801803  | 0.06681394477669002 |\n",
            "|   2    | 0.09434234234234225  | 0.10915466031740549 |\n",
            "|   3    | 0.08124924924924912  |  0.1391181636730659 |\n",
            "|   4    | 0.07034234234234238  | 0.15849850571615282 |\n",
            "|   5    | 0.06284684684684708  | 0.17577861699626415 |\n",
            "|   6    | 0.05705705705705697  |  0.1895770751947224 |\n",
            "|   7    | 0.05284942084942118  |  0.204575216126197  |\n",
            "|   8    | 0.049099099099099125 | 0.21554617945990517 |\n",
            "|   9    | 0.045909909909909445 | 0.22654259058964948 |\n",
            "|   10   | 0.043091891891892053 | 0.23552203930243146 |\n",
            "+--------+----------------------+---------------------+\n",
            "[10 rows x 3 columns]\n",
            "\n",
            "\n",
            "Overall RMSE: 1.949205524468464\n",
            "\n",
            "Per User RMSE (best)\n",
            "+------------+---------------------+-------+\n",
            "| customerId |         rmse        | count |\n",
            "+------------+---------------------+-------+\n",
            "|   27894    | 0.14750373363494873 |   1   |\n",
            "+------------+---------------------+-------+\n",
            "[1 rows x 3 columns]\n",
            "\n",
            "\n",
            "Per User RMSE (worst)\n",
            "+------------+-------------------+-------+\n",
            "| customerId |        rmse       | count |\n",
            "+------------+-------------------+-------+\n",
            "|    1453    | 21.52390895095747 |   12  |\n",
            "+------------+-------------------+-------+\n",
            "[1 rows x 3 columns]\n",
            "\n",
            "\n",
            "Per Item RMSE (best)\n",
            "+-----------+--------------------+-------+\n",
            "| productId |        rmse        | count |\n",
            "+-----------+--------------------+-------+\n",
            "|     59    | 1.0553485982382873 |  160  |\n",
            "+-----------+--------------------+-------+\n",
            "[1 rows x 3 columns]\n",
            "\n",
            "\n",
            "Per Item RMSE (worst)\n",
            "+-----------+-------------------+-------+\n",
            "| productId |        rmse       | count |\n",
            "+-----------+-------------------+-------+\n",
            "|    173    | 12.13665902387138 |   40  |\n",
            "+-----------+-------------------+-------+\n",
            "[1 rows x 3 columns]\n",
            "\n",
            "PROGRESS: Evaluate model Pearson Similarity on Purchase Counts\n"
          ],
          "name": "stdout"
        },
        {
          "output_type": "display_data",
          "data": {
            "text/html": [
              "<pre>recommendations finished on 1000/13875 queries. users per second: 39382.5</pre>"
            ],
            "text/plain": [
              "recommendations finished on 1000/13875 queries. users per second: 39382.5"
            ]
          },
          "metadata": {
            "tags": []
          }
        },
        {
          "output_type": "display_data",
          "data": {
            "text/html": [
              "<pre>recommendations finished on 2000/13875 queries. users per second: 36099.1</pre>"
            ],
            "text/plain": [
              "recommendations finished on 2000/13875 queries. users per second: 36099.1"
            ]
          },
          "metadata": {
            "tags": []
          }
        },
        {
          "output_type": "display_data",
          "data": {
            "text/html": [
              "<pre>recommendations finished on 3000/13875 queries. users per second: 38314.2</pre>"
            ],
            "text/plain": [
              "recommendations finished on 3000/13875 queries. users per second: 38314.2"
            ]
          },
          "metadata": {
            "tags": []
          }
        },
        {
          "output_type": "display_data",
          "data": {
            "text/html": [
              "<pre>recommendations finished on 4000/13875 queries. users per second: 39005.7</pre>"
            ],
            "text/plain": [
              "recommendations finished on 4000/13875 queries. users per second: 39005.7"
            ]
          },
          "metadata": {
            "tags": []
          }
        },
        {
          "output_type": "display_data",
          "data": {
            "text/html": [
              "<pre>recommendations finished on 5000/13875 queries. users per second: 39921.4</pre>"
            ],
            "text/plain": [
              "recommendations finished on 5000/13875 queries. users per second: 39921.4"
            ]
          },
          "metadata": {
            "tags": []
          }
        },
        {
          "output_type": "display_data",
          "data": {
            "text/html": [
              "<pre>recommendations finished on 6000/13875 queries. users per second: 40568</pre>"
            ],
            "text/plain": [
              "recommendations finished on 6000/13875 queries. users per second: 40568"
            ]
          },
          "metadata": {
            "tags": []
          }
        },
        {
          "output_type": "display_data",
          "data": {
            "text/html": [
              "<pre>recommendations finished on 7000/13875 queries. users per second: 40331.2</pre>"
            ],
            "text/plain": [
              "recommendations finished on 7000/13875 queries. users per second: 40331.2"
            ]
          },
          "metadata": {
            "tags": []
          }
        },
        {
          "output_type": "display_data",
          "data": {
            "text/html": [
              "<pre>recommendations finished on 8000/13875 queries. users per second: 41044.8</pre>"
            ],
            "text/plain": [
              "recommendations finished on 8000/13875 queries. users per second: 41044.8"
            ]
          },
          "metadata": {
            "tags": []
          }
        },
        {
          "output_type": "display_data",
          "data": {
            "text/html": [
              "<pre>recommendations finished on 9000/13875 queries. users per second: 41228</pre>"
            ],
            "text/plain": [
              "recommendations finished on 9000/13875 queries. users per second: 41228"
            ]
          },
          "metadata": {
            "tags": []
          }
        },
        {
          "output_type": "display_data",
          "data": {
            "text/html": [
              "<pre>recommendations finished on 10000/13875 queries. users per second: 41735.7</pre>"
            ],
            "text/plain": [
              "recommendations finished on 10000/13875 queries. users per second: 41735.7"
            ]
          },
          "metadata": {
            "tags": []
          }
        },
        {
          "output_type": "display_data",
          "data": {
            "text/html": [
              "<pre>recommendations finished on 11000/13875 queries. users per second: 41728</pre>"
            ],
            "text/plain": [
              "recommendations finished on 11000/13875 queries. users per second: 41728"
            ]
          },
          "metadata": {
            "tags": []
          }
        },
        {
          "output_type": "display_data",
          "data": {
            "text/html": [
              "<pre>recommendations finished on 12000/13875 queries. users per second: 41968.8</pre>"
            ],
            "text/plain": [
              "recommendations finished on 12000/13875 queries. users per second: 41968.8"
            ]
          },
          "metadata": {
            "tags": []
          }
        },
        {
          "output_type": "display_data",
          "data": {
            "text/html": [
              "<pre>recommendations finished on 13000/13875 queries. users per second: 41077.9</pre>"
            ],
            "text/plain": [
              "recommendations finished on 13000/13875 queries. users per second: 41077.9"
            ]
          },
          "metadata": {
            "tags": []
          }
        },
        {
          "output_type": "stream",
          "text": [
            "\n",
            "Precision and recall summary statistics by cutoff\n",
            "+--------+-----------------------+-----------------------+\n",
            "| cutoff |     mean_precision    |      mean_recall      |\n",
            "+--------+-----------------------+-----------------------+\n",
            "|   1    | 0.0012972972972972983 | 0.0006942942942942942 |\n",
            "|   2    | 0.0033153153153153204 |  0.003421138021138024 |\n",
            "|   3    | 0.0036036036036036154 |  0.005564252564252572 |\n",
            "|   4    |  0.007369369369369374 |  0.01577957540898721  |\n",
            "|   5    |  0.006082882882882929 |   0.0160830789124907  |\n",
            "|   6    |  0.006198198198198208 |  0.019871939601351356 |\n",
            "|   7    |  0.005734877734877742 |  0.021488642018053776 |\n",
            "|   8    | 0.0053693693693693725 |    0.02291941824883   |\n",
            "|   9    | 0.0053253253253253835 |  0.026375960505372213 |\n",
            "|   10   |  0.005138738738738745 |  0.02842309335250509  |\n",
            "+--------+-----------------------+-----------------------+\n",
            "[10 rows x 3 columns]\n",
            "\n",
            "\n",
            "Overall RMSE: 1.129987675410589\n",
            "\n",
            "Per User RMSE (best)\n",
            "+------------+-----------------------+-------+\n",
            "| customerId |          rmse         | count |\n",
            "+------------+-----------------------+-------+\n",
            "|   11273    | 4.440892098500626e-16 |   1   |\n",
            "+------------+-----------------------+-------+\n",
            "[1 rows x 3 columns]\n",
            "\n",
            "\n",
            "Per User RMSE (worst)\n",
            "+------------+-------------------+-------+\n",
            "| customerId |        rmse       | count |\n",
            "+------------+-------------------+-------+\n",
            "|    1453    | 21.14936256954002 |   12  |\n",
            "+------------+-------------------+-------+\n",
            "[1 rows x 3 columns]\n",
            "\n",
            "\n",
            "Per Item RMSE (best)\n",
            "+-----------+---------------------+-------+\n",
            "| productId |         rmse        | count |\n",
            "+-----------+---------------------+-------+\n",
            "|    216    | 0.28723541071522524 |   84  |\n",
            "+-----------+---------------------+-------+\n",
            "[1 rows x 3 columns]\n",
            "\n",
            "\n",
            "Per Item RMSE (worst)\n",
            "+-----------+--------------------+-------+\n",
            "| productId |        rmse        | count |\n",
            "+-----------+--------------------+-------+\n",
            "|    173    | 11.772723791307554 |   40  |\n",
            "+-----------+--------------------+-------+\n",
            "[1 rows x 3 columns]\n",
            "\n"
          ],
          "name": "stdout"
        }
      ]
    },
    {
      "cell_type": "markdown",
      "metadata": {
        "id": "iOXsuxHaRvnA",
        "colab_type": "text"
      },
      "source": [
        "#### Models on purchase dummy"
      ]
    },
    {
      "cell_type": "code",
      "metadata": {
        "scrolled": false,
        "id": "DBf_Z4N1RvnA",
        "colab_type": "code",
        "colab": {
          "base_uri": "https://localhost:8080/",
          "height": 1000
        },
        "outputId": "7828f468-2d1b-4ac2-c5fe-f1691f0be478"
      },
      "source": [
        "eval_dummy = tc.recommender.util.compare_models(test_data_dummy, models_w_dummy, model_names=names_w_dummy)"
      ],
      "execution_count": 77,
      "outputs": [
        {
          "output_type": "stream",
          "text": [
            "PROGRESS: Evaluate model Popularity Model on Purchase Dummy\n"
          ],
          "name": "stdout"
        },
        {
          "output_type": "display_data",
          "data": {
            "text/html": [
              "<pre>recommendations finished on 1000/13926 queries. users per second: 53347.6</pre>"
            ],
            "text/plain": [
              "recommendations finished on 1000/13926 queries. users per second: 53347.6"
            ]
          },
          "metadata": {
            "tags": []
          }
        },
        {
          "output_type": "display_data",
          "data": {
            "text/html": [
              "<pre>recommendations finished on 2000/13926 queries. users per second: 56309.5</pre>"
            ],
            "text/plain": [
              "recommendations finished on 2000/13926 queries. users per second: 56309.5"
            ]
          },
          "metadata": {
            "tags": []
          }
        },
        {
          "output_type": "display_data",
          "data": {
            "text/html": [
              "<pre>recommendations finished on 3000/13926 queries. users per second: 60494.8</pre>"
            ],
            "text/plain": [
              "recommendations finished on 3000/13926 queries. users per second: 60494.8"
            ]
          },
          "metadata": {
            "tags": []
          }
        },
        {
          "output_type": "display_data",
          "data": {
            "text/html": [
              "<pre>recommendations finished on 4000/13926 queries. users per second: 63016.9</pre>"
            ],
            "text/plain": [
              "recommendations finished on 4000/13926 queries. users per second: 63016.9"
            ]
          },
          "metadata": {
            "tags": []
          }
        },
        {
          "output_type": "display_data",
          "data": {
            "text/html": [
              "<pre>recommendations finished on 5000/13926 queries. users per second: 64378.2</pre>"
            ],
            "text/plain": [
              "recommendations finished on 5000/13926 queries. users per second: 64378.2"
            ]
          },
          "metadata": {
            "tags": []
          }
        },
        {
          "output_type": "display_data",
          "data": {
            "text/html": [
              "<pre>recommendations finished on 6000/13926 queries. users per second: 65819.8</pre>"
            ],
            "text/plain": [
              "recommendations finished on 6000/13926 queries. users per second: 65819.8"
            ]
          },
          "metadata": {
            "tags": []
          }
        },
        {
          "output_type": "display_data",
          "data": {
            "text/html": [
              "<pre>recommendations finished on 7000/13926 queries. users per second: 63904.8</pre>"
            ],
            "text/plain": [
              "recommendations finished on 7000/13926 queries. users per second: 63904.8"
            ]
          },
          "metadata": {
            "tags": []
          }
        },
        {
          "output_type": "display_data",
          "data": {
            "text/html": [
              "<pre>recommendations finished on 8000/13926 queries. users per second: 63467.4</pre>"
            ],
            "text/plain": [
              "recommendations finished on 8000/13926 queries. users per second: 63467.4"
            ]
          },
          "metadata": {
            "tags": []
          }
        },
        {
          "output_type": "display_data",
          "data": {
            "text/html": [
              "<pre>recommendations finished on 9000/13926 queries. users per second: 64433</pre>"
            ],
            "text/plain": [
              "recommendations finished on 9000/13926 queries. users per second: 64433"
            ]
          },
          "metadata": {
            "tags": []
          }
        },
        {
          "output_type": "display_data",
          "data": {
            "text/html": [
              "<pre>recommendations finished on 10000/13926 queries. users per second: 65993.5</pre>"
            ],
            "text/plain": [
              "recommendations finished on 10000/13926 queries. users per second: 65993.5"
            ]
          },
          "metadata": {
            "tags": []
          }
        },
        {
          "output_type": "display_data",
          "data": {
            "text/html": [
              "<pre>recommendations finished on 11000/13926 queries. users per second: 67198.6</pre>"
            ],
            "text/plain": [
              "recommendations finished on 11000/13926 queries. users per second: 67198.6"
            ]
          },
          "metadata": {
            "tags": []
          }
        },
        {
          "output_type": "display_data",
          "data": {
            "text/html": [
              "<pre>recommendations finished on 12000/13926 queries. users per second: 67292.5</pre>"
            ],
            "text/plain": [
              "recommendations finished on 12000/13926 queries. users per second: 67292.5"
            ]
          },
          "metadata": {
            "tags": []
          }
        },
        {
          "output_type": "display_data",
          "data": {
            "text/html": [
              "<pre>recommendations finished on 13000/13926 queries. users per second: 64542.1</pre>"
            ],
            "text/plain": [
              "recommendations finished on 13000/13926 queries. users per second: 64542.1"
            ]
          },
          "metadata": {
            "tags": []
          }
        },
        {
          "output_type": "stream",
          "text": [
            "/usr/local/lib/python3.6/dist-packages/turicreate/aggregate.py:92: UserWarning: Passing parameter(s) to COUNT is deprecated. This functionality will be removed in the next major release. Any passed parameters are ignored.\n",
            "  + 'the next major release. Any passed parameters are ignored.')\n"
          ],
          "name": "stderr"
        },
        {
          "output_type": "stream",
          "text": [
            "\n",
            "Precision and recall summary statistics by cutoff\n",
            "+--------+----------------------+-----------------------+\n",
            "| cutoff |    mean_precision    |      mean_recall      |\n",
            "+--------+----------------------+-----------------------+\n",
            "|   1    | 0.006319115323854659 | 0.0037684393016146596 |\n",
            "|   2    | 0.005457417779692661 |  0.006137209946451656 |\n",
            "|   3    | 0.005864330508880267 |   0.009611697544162   |\n",
            "|   4    | 0.006480683613385033 |  0.013911632294333709 |\n",
            "|   5    | 0.006290392072382634 |  0.016672778321672518 |\n",
            "|   6    | 0.006139595002154258 |  0.018796446736810066 |\n",
            "|   7    | 0.006196015674688658 |  0.022112417631410874 |\n",
            "|   8    | 0.006157547034324286 |  0.025203617685127088 |\n",
            "|   9    | 0.006151563023601018 |  0.028550047453357773 |\n",
            "|   10   | 0.006161137440758273 |  0.032378648599925286 |\n",
            "+--------+----------------------+-----------------------+\n",
            "[10 rows x 3 columns]\n",
            "\n",
            "\n",
            "Overall RMSE: 0.0\n",
            "\n",
            "Per User RMSE (best)\n",
            "+------------+------+-------+\n",
            "| customerId | rmse | count |\n",
            "+------------+------+-------+\n",
            "|   13361    | 0.0  |   1   |\n",
            "+------------+------+-------+\n",
            "[1 rows x 3 columns]\n",
            "\n",
            "\n",
            "Per User RMSE (worst)\n",
            "+------------+------+-------+\n",
            "| customerId | rmse | count |\n",
            "+------------+------+-------+\n",
            "|   24527    | 0.0  |   1   |\n",
            "+------------+------+-------+\n",
            "[1 rows x 3 columns]\n",
            "\n",
            "\n",
            "Per Item RMSE (best)\n",
            "+-----------+------+-------+\n",
            "| productId | rmse | count |\n",
            "+-----------+------+-------+\n",
            "|    149    | 0.0  |   73  |\n",
            "+-----------+------+-------+\n",
            "[1 rows x 3 columns]\n",
            "\n",
            "\n",
            "Per Item RMSE (worst)\n",
            "+-----------+------+-------+\n",
            "| productId | rmse | count |\n",
            "+-----------+------+-------+\n",
            "|    118    | 0.0  |   43  |\n",
            "+-----------+------+-------+\n",
            "[1 rows x 3 columns]\n",
            "\n",
            "PROGRESS: Evaluate model Cosine Similarity on Purchase Dummy\n"
          ],
          "name": "stdout"
        },
        {
          "output_type": "display_data",
          "data": {
            "text/html": [
              "<pre>recommendations finished on 1000/13926 queries. users per second: 41130.3</pre>"
            ],
            "text/plain": [
              "recommendations finished on 1000/13926 queries. users per second: 41130.3"
            ]
          },
          "metadata": {
            "tags": []
          }
        },
        {
          "output_type": "display_data",
          "data": {
            "text/html": [
              "<pre>recommendations finished on 2000/13926 queries. users per second: 40272.2</pre>"
            ],
            "text/plain": [
              "recommendations finished on 2000/13926 queries. users per second: 40272.2"
            ]
          },
          "metadata": {
            "tags": []
          }
        },
        {
          "output_type": "display_data",
          "data": {
            "text/html": [
              "<pre>recommendations finished on 3000/13926 queries. users per second: 42085.8</pre>"
            ],
            "text/plain": [
              "recommendations finished on 3000/13926 queries. users per second: 42085.8"
            ]
          },
          "metadata": {
            "tags": []
          }
        },
        {
          "output_type": "display_data",
          "data": {
            "text/html": [
              "<pre>recommendations finished on 4000/13926 queries. users per second: 43168.6</pre>"
            ],
            "text/plain": [
              "recommendations finished on 4000/13926 queries. users per second: 43168.6"
            ]
          },
          "metadata": {
            "tags": []
          }
        },
        {
          "output_type": "display_data",
          "data": {
            "text/html": [
              "<pre>recommendations finished on 5000/13926 queries. users per second: 42372.5</pre>"
            ],
            "text/plain": [
              "recommendations finished on 5000/13926 queries. users per second: 42372.5"
            ]
          },
          "metadata": {
            "tags": []
          }
        },
        {
          "output_type": "display_data",
          "data": {
            "text/html": [
              "<pre>recommendations finished on 6000/13926 queries. users per second: 43062.9</pre>"
            ],
            "text/plain": [
              "recommendations finished on 6000/13926 queries. users per second: 43062.9"
            ]
          },
          "metadata": {
            "tags": []
          }
        },
        {
          "output_type": "display_data",
          "data": {
            "text/html": [
              "<pre>recommendations finished on 7000/13926 queries. users per second: 43045.9</pre>"
            ],
            "text/plain": [
              "recommendations finished on 7000/13926 queries. users per second: 43045.9"
            ]
          },
          "metadata": {
            "tags": []
          }
        },
        {
          "output_type": "display_data",
          "data": {
            "text/html": [
              "<pre>recommendations finished on 8000/13926 queries. users per second: 42980.7</pre>"
            ],
            "text/plain": [
              "recommendations finished on 8000/13926 queries. users per second: 42980.7"
            ]
          },
          "metadata": {
            "tags": []
          }
        },
        {
          "output_type": "display_data",
          "data": {
            "text/html": [
              "<pre>recommendations finished on 9000/13926 queries. users per second: 43550.6</pre>"
            ],
            "text/plain": [
              "recommendations finished on 9000/13926 queries. users per second: 43550.6"
            ]
          },
          "metadata": {
            "tags": []
          }
        },
        {
          "output_type": "display_data",
          "data": {
            "text/html": [
              "<pre>recommendations finished on 10000/13926 queries. users per second: 43999</pre>"
            ],
            "text/plain": [
              "recommendations finished on 10000/13926 queries. users per second: 43999"
            ]
          },
          "metadata": {
            "tags": []
          }
        },
        {
          "output_type": "display_data",
          "data": {
            "text/html": [
              "<pre>recommendations finished on 11000/13926 queries. users per second: 44375.2</pre>"
            ],
            "text/plain": [
              "recommendations finished on 11000/13926 queries. users per second: 44375.2"
            ]
          },
          "metadata": {
            "tags": []
          }
        },
        {
          "output_type": "display_data",
          "data": {
            "text/html": [
              "<pre>recommendations finished on 12000/13926 queries. users per second: 44666</pre>"
            ],
            "text/plain": [
              "recommendations finished on 12000/13926 queries. users per second: 44666"
            ]
          },
          "metadata": {
            "tags": []
          }
        },
        {
          "output_type": "display_data",
          "data": {
            "text/html": [
              "<pre>recommendations finished on 13000/13926 queries. users per second: 43399.3</pre>"
            ],
            "text/plain": [
              "recommendations finished on 13000/13926 queries. users per second: 43399.3"
            ]
          },
          "metadata": {
            "tags": []
          }
        },
        {
          "output_type": "stream",
          "text": [
            "\n",
            "Precision and recall summary statistics by cutoff\n",
            "+--------+---------------------+---------------------+\n",
            "| cutoff |    mean_precision   |     mean_recall     |\n",
            "+--------+---------------------+---------------------+\n",
            "|   1    |  0.1234381732012066 | 0.07157661295784233 |\n",
            "|   2    | 0.09837713629182829 | 0.11056602704958295 |\n",
            "|   3    |  0.0843745511991958 | 0.14084498090565833 |\n",
            "|   4    | 0.07338790751113032 | 0.16166430405515564 |\n",
            "|   5    | 0.06502944133275927 | 0.17843470566327102 |\n",
            "|   6    | 0.05881085738905644 | 0.19249195680942066 |\n",
            "|   7    | 0.05424591206581759 | 0.20717287744143986 |\n",
            "|   8    | 0.05038237828522189 | 0.21886402505182612 |\n",
            "|   9    | 0.04690666539007742 | 0.22849874342200327 |\n",
            "|   10   |  0.0441404566996985 | 0.23817515040021994 |\n",
            "+--------+---------------------+---------------------+\n",
            "[10 rows x 3 columns]\n",
            "\n",
            "\n",
            "Overall RMSE: 0.9688690087799476\n",
            "\n",
            "Per User RMSE (best)\n",
            "+------------+--------------------+-------+\n",
            "| customerId |        rmse        | count |\n",
            "+------------+--------------------+-------+\n",
            "|   20442    | 0.3949319124221802 |   1   |\n",
            "+------------+--------------------+-------+\n",
            "[1 rows x 3 columns]\n",
            "\n",
            "\n",
            "Per User RMSE (worst)\n",
            "+------------+------+-------+\n",
            "| customerId | rmse | count |\n",
            "+------------+------+-------+\n",
            "|   24527    | 1.0  |   1   |\n",
            "+------------+------+-------+\n",
            "[1 rows x 3 columns]\n",
            "\n",
            "\n",
            "Per Item RMSE (best)\n",
            "+-----------+--------------------+-------+\n",
            "| productId |        rmse        | count |\n",
            "+-----------+--------------------+-------+\n",
            "|     48    | 0.8824514001995211 |  140  |\n",
            "+-----------+--------------------+-------+\n",
            "[1 rows x 3 columns]\n",
            "\n",
            "\n",
            "Per Item RMSE (worst)\n",
            "+-----------+------+-------+\n",
            "| productId | rmse | count |\n",
            "+-----------+------+-------+\n",
            "|    125    | 1.0  |   36  |\n",
            "+-----------+------+-------+\n",
            "[1 rows x 3 columns]\n",
            "\n",
            "PROGRESS: Evaluate model Pearson Similarity on Purchase Dummy\n"
          ],
          "name": "stdout"
        },
        {
          "output_type": "display_data",
          "data": {
            "text/html": [
              "<pre>recommendations finished on 1000/13926 queries. users per second: 50122.8</pre>"
            ],
            "text/plain": [
              "recommendations finished on 1000/13926 queries. users per second: 50122.8"
            ]
          },
          "metadata": {
            "tags": []
          }
        },
        {
          "output_type": "display_data",
          "data": {
            "text/html": [
              "<pre>recommendations finished on 2000/13926 queries. users per second: 46382.2</pre>"
            ],
            "text/plain": [
              "recommendations finished on 2000/13926 queries. users per second: 46382.2"
            ]
          },
          "metadata": {
            "tags": []
          }
        },
        {
          "output_type": "display_data",
          "data": {
            "text/html": [
              "<pre>recommendations finished on 3000/13926 queries. users per second: 50796.7</pre>"
            ],
            "text/plain": [
              "recommendations finished on 3000/13926 queries. users per second: 50796.7"
            ]
          },
          "metadata": {
            "tags": []
          }
        },
        {
          "output_type": "display_data",
          "data": {
            "text/html": [
              "<pre>recommendations finished on 4000/13926 queries. users per second: 51215.7</pre>"
            ],
            "text/plain": [
              "recommendations finished on 4000/13926 queries. users per second: 51215.7"
            ]
          },
          "metadata": {
            "tags": []
          }
        },
        {
          "output_type": "display_data",
          "data": {
            "text/html": [
              "<pre>recommendations finished on 5000/13926 queries. users per second: 52324.8</pre>"
            ],
            "text/plain": [
              "recommendations finished on 5000/13926 queries. users per second: 52324.8"
            ]
          },
          "metadata": {
            "tags": []
          }
        },
        {
          "output_type": "display_data",
          "data": {
            "text/html": [
              "<pre>recommendations finished on 6000/13926 queries. users per second: 53409.8</pre>"
            ],
            "text/plain": [
              "recommendations finished on 6000/13926 queries. users per second: 53409.8"
            ]
          },
          "metadata": {
            "tags": []
          }
        },
        {
          "output_type": "display_data",
          "data": {
            "text/html": [
              "<pre>recommendations finished on 7000/13926 queries. users per second: 52577</pre>"
            ],
            "text/plain": [
              "recommendations finished on 7000/13926 queries. users per second: 52577"
            ]
          },
          "metadata": {
            "tags": []
          }
        },
        {
          "output_type": "display_data",
          "data": {
            "text/html": [
              "<pre>recommendations finished on 8000/13926 queries. users per second: 53043</pre>"
            ],
            "text/plain": [
              "recommendations finished on 8000/13926 queries. users per second: 53043"
            ]
          },
          "metadata": {
            "tags": []
          }
        },
        {
          "output_type": "display_data",
          "data": {
            "text/html": [
              "<pre>recommendations finished on 9000/13926 queries. users per second: 54478.1</pre>"
            ],
            "text/plain": [
              "recommendations finished on 9000/13926 queries. users per second: 54478.1"
            ]
          },
          "metadata": {
            "tags": []
          }
        },
        {
          "output_type": "display_data",
          "data": {
            "text/html": [
              "<pre>recommendations finished on 10000/13926 queries. users per second: 55675.6</pre>"
            ],
            "text/plain": [
              "recommendations finished on 10000/13926 queries. users per second: 55675.6"
            ]
          },
          "metadata": {
            "tags": []
          }
        },
        {
          "output_type": "display_data",
          "data": {
            "text/html": [
              "<pre>recommendations finished on 11000/13926 queries. users per second: 56220.5</pre>"
            ],
            "text/plain": [
              "recommendations finished on 11000/13926 queries. users per second: 56220.5"
            ]
          },
          "metadata": {
            "tags": []
          }
        },
        {
          "output_type": "display_data",
          "data": {
            "text/html": [
              "<pre>recommendations finished on 12000/13926 queries. users per second: 56776</pre>"
            ],
            "text/plain": [
              "recommendations finished on 12000/13926 queries. users per second: 56776"
            ]
          },
          "metadata": {
            "tags": []
          }
        },
        {
          "output_type": "display_data",
          "data": {
            "text/html": [
              "<pre>recommendations finished on 13000/13926 queries. users per second: 54902.6</pre>"
            ],
            "text/plain": [
              "recommendations finished on 13000/13926 queries. users per second: 54902.6"
            ]
          },
          "metadata": {
            "tags": []
          }
        },
        {
          "output_type": "stream",
          "text": [
            "\n",
            "Precision and recall summary statistics by cutoff\n",
            "+--------+-----------------------+----------------------+\n",
            "| cutoff |     mean_precision    |     mean_recall      |\n",
            "+--------+-----------------------+----------------------+\n",
            "|   1    |  0.006319115323854659 | 0.003768439301614659 |\n",
            "|   2    | 0.0054574177796926715 | 0.006137209946451654 |\n",
            "|   3    |  0.005864330508880261 | 0.009611697544161999 |\n",
            "|   4    |  0.006480683613385036 | 0.013911632294333716 |\n",
            "|   5    |  0.006290392072382634 | 0.016672778321672483 |\n",
            "|   6    |  0.006139595002154268 | 0.018796446736810135 |\n",
            "|   7    |  0.006196015674688649 | 0.02211241763141087  |\n",
            "|   8    |  0.006157547034324286 | 0.02520361768512707  |\n",
            "|   9    |  0.006151563023601014 | 0.028550047453357784 |\n",
            "|   10   |  0.006161137440758263 | 0.032378648599925355 |\n",
            "+--------+-----------------------+----------------------+\n",
            "[10 rows x 3 columns]\n",
            "\n",
            "\n",
            "Overall RMSE: 1.0\n",
            "\n",
            "Per User RMSE (best)\n",
            "+------------+------+-------+\n",
            "| customerId | rmse | count |\n",
            "+------------+------+-------+\n",
            "|   13361    | 1.0  |   1   |\n",
            "+------------+------+-------+\n",
            "[1 rows x 3 columns]\n",
            "\n",
            "\n",
            "Per User RMSE (worst)\n",
            "+------------+------+-------+\n",
            "| customerId | rmse | count |\n",
            "+------------+------+-------+\n",
            "|   24527    | 1.0  |   1   |\n",
            "+------------+------+-------+\n",
            "[1 rows x 3 columns]\n",
            "\n",
            "\n",
            "Per Item RMSE (best)\n",
            "+-----------+------+-------+\n",
            "| productId | rmse | count |\n",
            "+-----------+------+-------+\n",
            "|    149    | 1.0  |   73  |\n",
            "+-----------+------+-------+\n",
            "[1 rows x 3 columns]\n",
            "\n",
            "\n",
            "Per Item RMSE (worst)\n",
            "+-----------+------+-------+\n",
            "| productId | rmse | count |\n",
            "+-----------+------+-------+\n",
            "|    118    | 1.0  |   43  |\n",
            "+-----------+------+-------+\n",
            "[1 rows x 3 columns]\n",
            "\n"
          ],
          "name": "stdout"
        }
      ]
    },
    {
      "cell_type": "markdown",
      "metadata": {
        "id": "RMcLnq47RvnC",
        "colab_type": "text"
      },
      "source": [
        "#### Models on normalized purchase frequency"
      ]
    },
    {
      "cell_type": "code",
      "metadata": {
        "scrolled": false,
        "id": "qeK973ZURvnC",
        "colab_type": "code",
        "colab": {
          "base_uri": "https://localhost:8080/",
          "height": 1000
        },
        "outputId": "eb09f57f-36fa-490f-d242-38404d8f0253"
      },
      "source": [
        "eval_norm = tc.recommender.util.compare_models(test_data_norm, models_w_norm, model_names=names_w_norm)"
      ],
      "execution_count": 78,
      "outputs": [
        {
          "output_type": "stream",
          "text": [
            "PROGRESS: Evaluate model Popularity Model on Scaled Purchase Counts\n"
          ],
          "name": "stdout"
        },
        {
          "output_type": "display_data",
          "data": {
            "text/html": [
              "<pre>recommendations finished on 1000/13922 queries. users per second: 51840.3</pre>"
            ],
            "text/plain": [
              "recommendations finished on 1000/13922 queries. users per second: 51840.3"
            ]
          },
          "metadata": {
            "tags": []
          }
        },
        {
          "output_type": "display_data",
          "data": {
            "text/html": [
              "<pre>recommendations finished on 2000/13922 queries. users per second: 49870.3</pre>"
            ],
            "text/plain": [
              "recommendations finished on 2000/13922 queries. users per second: 49870.3"
            ]
          },
          "metadata": {
            "tags": []
          }
        },
        {
          "output_type": "display_data",
          "data": {
            "text/html": [
              "<pre>recommendations finished on 3000/13922 queries. users per second: 52114.1</pre>"
            ],
            "text/plain": [
              "recommendations finished on 3000/13922 queries. users per second: 52114.1"
            ]
          },
          "metadata": {
            "tags": []
          }
        },
        {
          "output_type": "display_data",
          "data": {
            "text/html": [
              "<pre>recommendations finished on 4000/13922 queries. users per second: 53438.1</pre>"
            ],
            "text/plain": [
              "recommendations finished on 4000/13922 queries. users per second: 53438.1"
            ]
          },
          "metadata": {
            "tags": []
          }
        },
        {
          "output_type": "display_data",
          "data": {
            "text/html": [
              "<pre>recommendations finished on 5000/13922 queries. users per second: 55369.1</pre>"
            ],
            "text/plain": [
              "recommendations finished on 5000/13922 queries. users per second: 55369.1"
            ]
          },
          "metadata": {
            "tags": []
          }
        },
        {
          "output_type": "display_data",
          "data": {
            "text/html": [
              "<pre>recommendations finished on 6000/13922 queries. users per second: 54363.1</pre>"
            ],
            "text/plain": [
              "recommendations finished on 6000/13922 queries. users per second: 54363.1"
            ]
          },
          "metadata": {
            "tags": []
          }
        },
        {
          "output_type": "display_data",
          "data": {
            "text/html": [
              "<pre>recommendations finished on 7000/13922 queries. users per second: 54531.6</pre>"
            ],
            "text/plain": [
              "recommendations finished on 7000/13922 queries. users per second: 54531.6"
            ]
          },
          "metadata": {
            "tags": []
          }
        },
        {
          "output_type": "display_data",
          "data": {
            "text/html": [
              "<pre>recommendations finished on 8000/13922 queries. users per second: 55442</pre>"
            ],
            "text/plain": [
              "recommendations finished on 8000/13922 queries. users per second: 55442"
            ]
          },
          "metadata": {
            "tags": []
          }
        },
        {
          "output_type": "display_data",
          "data": {
            "text/html": [
              "<pre>recommendations finished on 9000/13922 queries. users per second: 55696.2</pre>"
            ],
            "text/plain": [
              "recommendations finished on 9000/13922 queries. users per second: 55696.2"
            ]
          },
          "metadata": {
            "tags": []
          }
        },
        {
          "output_type": "display_data",
          "data": {
            "text/html": [
              "<pre>recommendations finished on 10000/13922 queries. users per second: 55311.9</pre>"
            ],
            "text/plain": [
              "recommendations finished on 10000/13922 queries. users per second: 55311.9"
            ]
          },
          "metadata": {
            "tags": []
          }
        },
        {
          "output_type": "display_data",
          "data": {
            "text/html": [
              "<pre>recommendations finished on 11000/13922 queries. users per second: 56306.6</pre>"
            ],
            "text/plain": [
              "recommendations finished on 11000/13922 queries. users per second: 56306.6"
            ]
          },
          "metadata": {
            "tags": []
          }
        },
        {
          "output_type": "display_data",
          "data": {
            "text/html": [
              "<pre>recommendations finished on 12000/13922 queries. users per second: 56198.2</pre>"
            ],
            "text/plain": [
              "recommendations finished on 12000/13922 queries. users per second: 56198.2"
            ]
          },
          "metadata": {
            "tags": []
          }
        },
        {
          "output_type": "display_data",
          "data": {
            "text/html": [
              "<pre>recommendations finished on 13000/13922 queries. users per second: 56677.2</pre>"
            ],
            "text/plain": [
              "recommendations finished on 13000/13922 queries. users per second: 56677.2"
            ]
          },
          "metadata": {
            "tags": []
          }
        },
        {
          "output_type": "stream",
          "text": [
            "/usr/local/lib/python3.6/dist-packages/turicreate/aggregate.py:92: UserWarning: Passing parameter(s) to COUNT is deprecated. This functionality will be removed in the next major release. Any passed parameters are ignored.\n",
            "  + 'the next major release. Any passed parameters are ignored.')\n"
          ],
          "name": "stderr"
        },
        {
          "output_type": "stream",
          "text": [
            "\n",
            "Precision and recall summary statistics by cutoff\n",
            "+--------+-----------------------+-----------------------+\n",
            "| cutoff |     mean_precision    |      mean_recall      |\n",
            "+--------+-----------------------+-----------------------+\n",
            "|   1    |  0.002370349087774744 |  0.001299478666236316 |\n",
            "|   2    | 0.0024421778480103384 | 0.0029954355051323876 |\n",
            "|   3    | 0.0023703490877747405 |  0.004293141773388861 |\n",
            "|   4    | 0.0022805631374802505 |  0.005541366006816389 |\n",
            "|   5    | 0.0019393765263611452 | 0.0058466382378176834 |\n",
            "|   6    | 0.0020590911267538282 |  0.007272470223195695 |\n",
            "|   7    |  0.001877809017587782 |  0.00778724300488415  |\n",
            "|   8    | 0.0018136761959488584 |  0.008573169356462011 |\n",
            "|   9    | 0.0018356238726875064 |  0.009667959377052891 |\n",
            "|   10   |  0.002047119666714563 |  0.011394474533750493 |\n",
            "+--------+-----------------------+-----------------------+\n",
            "[10 rows x 3 columns]\n",
            "\n",
            "\n",
            "Overall RMSE: 0.1349415405117426\n",
            "\n",
            "Per User RMSE (best)\n",
            "+------------+-----------------------+-------+\n",
            "| customerId |          rmse         | count |\n",
            "+------------+-----------------------+-------+\n",
            "|   18286    | 5.551115123125783e-17 |   1   |\n",
            "+------------+-----------------------+-------+\n",
            "[1 rows x 3 columns]\n",
            "\n",
            "\n",
            "Per User RMSE (worst)\n",
            "+------------+--------------------+-------+\n",
            "| customerId |        rmse        | count |\n",
            "+------------+--------------------+-------+\n",
            "|   14217    | 0.9593625498007968 |   1   |\n",
            "+------------+--------------------+-------+\n",
            "[1 rows x 3 columns]\n",
            "\n",
            "\n",
            "Per Item RMSE (best)\n",
            "+-----------+----------------------+-------+\n",
            "| productId |         rmse         | count |\n",
            "+-----------+----------------------+-------+\n",
            "|     47    | 0.020430399835133013 |  133  |\n",
            "+-----------+----------------------+-------+\n",
            "[1 rows x 3 columns]\n",
            "\n",
            "\n",
            "Per Item RMSE (worst)\n",
            "+-----------+--------------------+-------+\n",
            "| productId |        rmse        | count |\n",
            "+-----------+--------------------+-------+\n",
            "|    226    | 0.4121098623415889 |   33  |\n",
            "+-----------+--------------------+-------+\n",
            "[1 rows x 3 columns]\n",
            "\n",
            "PROGRESS: Evaluate model Cosine Similarity on Scaled Purchase Counts\n"
          ],
          "name": "stdout"
        },
        {
          "output_type": "display_data",
          "data": {
            "text/html": [
              "<pre>recommendations finished on 1000/13922 queries. users per second: 41835.8</pre>"
            ],
            "text/plain": [
              "recommendations finished on 1000/13922 queries. users per second: 41835.8"
            ]
          },
          "metadata": {
            "tags": []
          }
        },
        {
          "output_type": "display_data",
          "data": {
            "text/html": [
              "<pre>recommendations finished on 2000/13922 queries. users per second: 41971.8</pre>"
            ],
            "text/plain": [
              "recommendations finished on 2000/13922 queries. users per second: 41971.8"
            ]
          },
          "metadata": {
            "tags": []
          }
        },
        {
          "output_type": "display_data",
          "data": {
            "text/html": [
              "<pre>recommendations finished on 3000/13922 queries. users per second: 41768.8</pre>"
            ],
            "text/plain": [
              "recommendations finished on 3000/13922 queries. users per second: 41768.8"
            ]
          },
          "metadata": {
            "tags": []
          }
        },
        {
          "output_type": "display_data",
          "data": {
            "text/html": [
              "<pre>recommendations finished on 4000/13922 queries. users per second: 42132.3</pre>"
            ],
            "text/plain": [
              "recommendations finished on 4000/13922 queries. users per second: 42132.3"
            ]
          },
          "metadata": {
            "tags": []
          }
        },
        {
          "output_type": "display_data",
          "data": {
            "text/html": [
              "<pre>recommendations finished on 5000/13922 queries. users per second: 43773.6</pre>"
            ],
            "text/plain": [
              "recommendations finished on 5000/13922 queries. users per second: 43773.6"
            ]
          },
          "metadata": {
            "tags": []
          }
        },
        {
          "output_type": "display_data",
          "data": {
            "text/html": [
              "<pre>recommendations finished on 6000/13922 queries. users per second: 43275.4</pre>"
            ],
            "text/plain": [
              "recommendations finished on 6000/13922 queries. users per second: 43275.4"
            ]
          },
          "metadata": {
            "tags": []
          }
        },
        {
          "output_type": "display_data",
          "data": {
            "text/html": [
              "<pre>recommendations finished on 7000/13922 queries. users per second: 43852</pre>"
            ],
            "text/plain": [
              "recommendations finished on 7000/13922 queries. users per second: 43852"
            ]
          },
          "metadata": {
            "tags": []
          }
        },
        {
          "output_type": "display_data",
          "data": {
            "text/html": [
              "<pre>recommendations finished on 8000/13922 queries. users per second: 44207.7</pre>"
            ],
            "text/plain": [
              "recommendations finished on 8000/13922 queries. users per second: 44207.7"
            ]
          },
          "metadata": {
            "tags": []
          }
        },
        {
          "output_type": "display_data",
          "data": {
            "text/html": [
              "<pre>recommendations finished on 9000/13922 queries. users per second: 44878.8</pre>"
            ],
            "text/plain": [
              "recommendations finished on 9000/13922 queries. users per second: 44878.8"
            ]
          },
          "metadata": {
            "tags": []
          }
        },
        {
          "output_type": "display_data",
          "data": {
            "text/html": [
              "<pre>recommendations finished on 10000/13922 queries. users per second: 45146.7</pre>"
            ],
            "text/plain": [
              "recommendations finished on 10000/13922 queries. users per second: 45146.7"
            ]
          },
          "metadata": {
            "tags": []
          }
        },
        {
          "output_type": "display_data",
          "data": {
            "text/html": [
              "<pre>recommendations finished on 11000/13922 queries. users per second: 45482.5</pre>"
            ],
            "text/plain": [
              "recommendations finished on 11000/13922 queries. users per second: 45482.5"
            ]
          },
          "metadata": {
            "tags": []
          }
        },
        {
          "output_type": "display_data",
          "data": {
            "text/html": [
              "<pre>recommendations finished on 12000/13922 queries. users per second: 45181.6</pre>"
            ],
            "text/plain": [
              "recommendations finished on 12000/13922 queries. users per second: 45181.6"
            ]
          },
          "metadata": {
            "tags": []
          }
        },
        {
          "output_type": "display_data",
          "data": {
            "text/html": [
              "<pre>recommendations finished on 13000/13922 queries. users per second: 45491.9</pre>"
            ],
            "text/plain": [
              "recommendations finished on 13000/13922 queries. users per second: 45491.9"
            ]
          },
          "metadata": {
            "tags": []
          }
        },
        {
          "output_type": "stream",
          "text": [
            "\n",
            "Precision and recall summary statistics by cutoff\n",
            "+--------+----------------------+----------------------+\n",
            "| cutoff |    mean_precision    |     mean_recall      |\n",
            "+--------+----------------------+----------------------+\n",
            "|   1    | 0.06514868553368765  | 0.036322156829267746 |\n",
            "|   2    | 0.05362016951587414  | 0.05890105889656964  |\n",
            "|   3    | 0.04532394770866254  | 0.07390261626272995  |\n",
            "|   4    | 0.04076282143370199  | 0.08856020633423309  |\n",
            "|   5    | 0.03703490877747401  |  0.0997019413410736  |\n",
            "|   6    | 0.033963032131398986 | 0.10876709524892259  |\n",
            "|   7    | 0.031235249451023336 | 0.11587927388099778  |\n",
            "|   8    | 0.029243284010917955 | 0.12361987563108075  |\n",
            "|   9    | 0.027885520918130974 | 0.13263078921748617  |\n",
            "|   10   | 0.026461715270794585 | 0.13932244749296893  |\n",
            "+--------+----------------------+----------------------+\n",
            "[10 rows x 3 columns]\n",
            "\n",
            "\n",
            "Overall RMSE: 0.1620166924683617\n",
            "\n",
            "Per User RMSE (best)\n",
            "+------------+------+-------+\n",
            "| customerId | rmse | count |\n",
            "+------------+------+-------+\n",
            "|   13361    | 0.0  |   2   |\n",
            "+------------+------+-------+\n",
            "[1 rows x 3 columns]\n",
            "\n",
            "\n",
            "Per User RMSE (worst)\n",
            "+------------+------+-------+\n",
            "| customerId | rmse | count |\n",
            "+------------+------+-------+\n",
            "|   25416    | 1.0  |   1   |\n",
            "+------------+------+-------+\n",
            "[1 rows x 3 columns]\n",
            "\n",
            "\n",
            "Per Item RMSE (best)\n",
            "+-----------+---------------------+-------+\n",
            "| productId |         rmse        | count |\n",
            "+-----------+---------------------+-------+\n",
            "|     47    | 0.02006765009615183 |  133  |\n",
            "+-----------+---------------------+-------+\n",
            "[1 rows x 3 columns]\n",
            "\n",
            "\n",
            "Per Item RMSE (worst)\n",
            "+-----------+--------------------+-------+\n",
            "| productId |        rmse        | count |\n",
            "+-----------+--------------------+-------+\n",
            "|    226    | 0.8454956501704183 |   33  |\n",
            "+-----------+--------------------+-------+\n",
            "[1 rows x 3 columns]\n",
            "\n",
            "PROGRESS: Evaluate model Pearson Similarity on Scaled Purchase Counts\n"
          ],
          "name": "stdout"
        },
        {
          "output_type": "display_data",
          "data": {
            "text/html": [
              "<pre>recommendations finished on 1000/13922 queries. users per second: 36693.2</pre>"
            ],
            "text/plain": [
              "recommendations finished on 1000/13922 queries. users per second: 36693.2"
            ]
          },
          "metadata": {
            "tags": []
          }
        },
        {
          "output_type": "display_data",
          "data": {
            "text/html": [
              "<pre>recommendations finished on 2000/13922 queries. users per second: 35506.3</pre>"
            ],
            "text/plain": [
              "recommendations finished on 2000/13922 queries. users per second: 35506.3"
            ]
          },
          "metadata": {
            "tags": []
          }
        },
        {
          "output_type": "display_data",
          "data": {
            "text/html": [
              "<pre>recommendations finished on 3000/13922 queries. users per second: 36939.4</pre>"
            ],
            "text/plain": [
              "recommendations finished on 3000/13922 queries. users per second: 36939.4"
            ]
          },
          "metadata": {
            "tags": []
          }
        },
        {
          "output_type": "display_data",
          "data": {
            "text/html": [
              "<pre>recommendations finished on 4000/13922 queries. users per second: 38601.8</pre>"
            ],
            "text/plain": [
              "recommendations finished on 4000/13922 queries. users per second: 38601.8"
            ]
          },
          "metadata": {
            "tags": []
          }
        },
        {
          "output_type": "display_data",
          "data": {
            "text/html": [
              "<pre>recommendations finished on 5000/13922 queries. users per second: 39621.8</pre>"
            ],
            "text/plain": [
              "recommendations finished on 5000/13922 queries. users per second: 39621.8"
            ]
          },
          "metadata": {
            "tags": []
          }
        },
        {
          "output_type": "display_data",
          "data": {
            "text/html": [
              "<pre>recommendations finished on 6000/13922 queries. users per second: 39554.6</pre>"
            ],
            "text/plain": [
              "recommendations finished on 6000/13922 queries. users per second: 39554.6"
            ]
          },
          "metadata": {
            "tags": []
          }
        },
        {
          "output_type": "display_data",
          "data": {
            "text/html": [
              "<pre>recommendations finished on 7000/13922 queries. users per second: 39802.4</pre>"
            ],
            "text/plain": [
              "recommendations finished on 7000/13922 queries. users per second: 39802.4"
            ]
          },
          "metadata": {
            "tags": []
          }
        },
        {
          "output_type": "display_data",
          "data": {
            "text/html": [
              "<pre>recommendations finished on 8000/13922 queries. users per second: 39964</pre>"
            ],
            "text/plain": [
              "recommendations finished on 8000/13922 queries. users per second: 39964"
            ]
          },
          "metadata": {
            "tags": []
          }
        },
        {
          "output_type": "display_data",
          "data": {
            "text/html": [
              "<pre>recommendations finished on 9000/13922 queries. users per second: 40242.7</pre>"
            ],
            "text/plain": [
              "recommendations finished on 9000/13922 queries. users per second: 40242.7"
            ]
          },
          "metadata": {
            "tags": []
          }
        },
        {
          "output_type": "display_data",
          "data": {
            "text/html": [
              "<pre>recommendations finished on 10000/13922 queries. users per second: 40555</pre>"
            ],
            "text/plain": [
              "recommendations finished on 10000/13922 queries. users per second: 40555"
            ]
          },
          "metadata": {
            "tags": []
          }
        },
        {
          "output_type": "display_data",
          "data": {
            "text/html": [
              "<pre>recommendations finished on 11000/13922 queries. users per second: 40961.6</pre>"
            ],
            "text/plain": [
              "recommendations finished on 11000/13922 queries. users per second: 40961.6"
            ]
          },
          "metadata": {
            "tags": []
          }
        },
        {
          "output_type": "display_data",
          "data": {
            "text/html": [
              "<pre>recommendations finished on 12000/13922 queries. users per second: 40800.4</pre>"
            ],
            "text/plain": [
              "recommendations finished on 12000/13922 queries. users per second: 40800.4"
            ]
          },
          "metadata": {
            "tags": []
          }
        },
        {
          "output_type": "display_data",
          "data": {
            "text/html": [
              "<pre>recommendations finished on 13000/13922 queries. users per second: 41138.5</pre>"
            ],
            "text/plain": [
              "recommendations finished on 13000/13922 queries. users per second: 41138.5"
            ]
          },
          "metadata": {
            "tags": []
          }
        },
        {
          "output_type": "stream",
          "text": [
            "\n",
            "Precision and recall summary statistics by cutoff\n",
            "+--------+-----------------------+-----------------------+\n",
            "| cutoff |     mean_precision    |      mean_recall      |\n",
            "+--------+-----------------------+-----------------------+\n",
            "|   1    |  0.002370349087774743 |  0.001299478666236315 |\n",
            "|   2    |  0.002549920988363739 | 0.0031211358355446826 |\n",
            "|   3    | 0.0023703490877747388 |  0.004293141773388864 |\n",
            "|   4    | 0.0022805631374802505 |  0.005541366006816372 |\n",
            "|   5    | 0.0019393765263611487 |  0.00584663823781767  |\n",
            "|   6    |  0.002071062586793091 |  0.007344298983431291 |\n",
            "|   7    | 0.0018778090175877817 |  0.007787243004884153 |\n",
            "|   8    |  0.001831633386007758 |  0.008716826876933181 |\n",
            "|   9    | 0.0018835097128445718 |  0.009875863733068159 |\n",
            "|   10   | 0.0021764114351386418 |  0.012181598031332274 |\n",
            "+--------+-----------------------+-----------------------+\n",
            "[10 rows x 3 columns]\n",
            "\n",
            "\n",
            "Overall RMSE: 0.13464882193962685\n",
            "\n",
            "Per User RMSE (best)\n",
            "+------------+------+-------+\n",
            "| customerId | rmse | count |\n",
            "+------------+------+-------+\n",
            "|   18286    | 0.0  |   1   |\n",
            "+------------+------+-------+\n",
            "[1 rows x 3 columns]\n",
            "\n",
            "\n",
            "Per User RMSE (worst)\n",
            "+------------+--------------------+-------+\n",
            "| customerId |        rmse        | count |\n",
            "+------------+--------------------+-------+\n",
            "|   14217    | 0.9597519231032565 |   1   |\n",
            "+------------+--------------------+-------+\n",
            "[1 rows x 3 columns]\n",
            "\n",
            "\n",
            "Per Item RMSE (best)\n",
            "+-----------+---------------------+-------+\n",
            "| productId |         rmse        | count |\n",
            "+-----------+---------------------+-------+\n",
            "|     47    | 0.01946484746519952 |  133  |\n",
            "+-----------+---------------------+-------+\n",
            "[1 rows x 3 columns]\n",
            "\n",
            "\n",
            "Per Item RMSE (worst)\n",
            "+-----------+---------------------+-------+\n",
            "| productId |         rmse        | count |\n",
            "+-----------+---------------------+-------+\n",
            "|    226    | 0.41188922621144364 |   33  |\n",
            "+-----------+---------------------+-------+\n",
            "[1 rows x 3 columns]\n",
            "\n"
          ],
          "name": "stdout"
        }
      ]
    },
    {
      "cell_type": "markdown",
      "metadata": {
        "id": "6ilKW-_bRvnE",
        "colab_type": "text"
      },
      "source": [
        "## 8. Model Selection\n",
        "### 8.1. Evaluation summary\n",
        "* Based on RMSE\n",
        "\n",
        "\n",
        "    1. Popularity on purchase counts: 1.1111750034210488\n",
        "    2. Cosine similarity on purchase counts: 1.9230643981653215\n",
        "    3. Pearson similarity on purchase counts: 1.9231102838192284\n",
        "    \n",
        "    4. Popularity on purchase dummy: 0.9697374361161925\n",
        "    5. Cosine similarity on purchase dummy: 0.9697509978436404\n",
        "    6. Pearson similarity on purchase dummy: 0.9697745320187097\n",
        "    \n",
        "    7. Popularity on scaled purchase counts: 0.16230660626840343\n",
        "    8. Cosine similarity on scaled purchase counts: 0.16229800354111104\n",
        "    9. Pearson similarity on scaled purchase counts: 0.1622982668334026\n",
        "    \n",
        "* Based on Precision and Recall\n",
        "![](../images/model_comparisons.png)\n"
      ]
    },
    {
      "cell_type": "markdown",
      "metadata": {
        "id": "lQ1_yHmjRvnF",
        "colab_type": "text"
      },
      "source": [
        "#### Notes\n",
        "\n",
        "* Popularity v. Collaborative Filtering: We can see that the collaborative filtering algorithms work better than popularity model for purchase counts. Indeed, popularity model doesn’t give any personalizations as it only gives the same list of recommended items to every user.\n",
        "* Precision and recall: Looking at the summary above, we see that the precision and recall for Purchase Counts > Purchase Dummy > Normalized Purchase Counts. However, because the recommendation scores for the normalized purchase data is zero and constant, we choose the dummy. In fact, the RMSE isn’t much different between models on the dummy and those on the normalized data.\n",
        "* RMSE: Since RMSE is higher using pearson distance thancosine, we would choose model the smaller mean squared errors, which in this case would be cosine.\n",
        "Therefore, we select the Cosine similarity on Purchase Dummy approach as our final model."
      ]
    },
    {
      "cell_type": "markdown",
      "metadata": {
        "id": "axcS0XirRvnF",
        "colab_type": "text"
      },
      "source": [
        "## 8. Final Output\n",
        "* In this step, we would like to manipulate format for recommendation output to one we can export to csv, and also a function that will return recommendation list given a customer ID.\n",
        "* We need to first rerun the model using the whole dataset, as we came to a final model using train data and evaluated with test set."
      ]
    },
    {
      "cell_type": "code",
      "metadata": {
        "id": "Wy1HYJZKRvnJ",
        "colab_type": "code",
        "colab": {
          "base_uri": "https://localhost:8080/",
          "height": 1000
        },
        "outputId": "b204b723-b160-4334-c561-1e1c5d904ca6"
      },
      "source": [
        "users_to_recommend = list(customers[user_id])\n",
        "\n",
        "final_model = tc.item_similarity_recommender.create(tc.SFrame(data_dummy), \n",
        "                                            user_id=user_id, \n",
        "                                            item_id=item_id, \n",
        "                                            target='purchase_dummy', \n",
        "                                            similarity_type='cosine')\n",
        "\n",
        "recom = final_model.recommend(users=users_to_recommend, k=n_rec)\n",
        "recom.print_rows(n_display)"
      ],
      "execution_count": 79,
      "outputs": [
        {
          "output_type": "display_data",
          "data": {
            "text/html": [
              "<pre>Warning: Ignoring columns purchase_count;</pre>"
            ],
            "text/plain": [
              "Warning: Ignoring columns purchase_count;"
            ]
          },
          "metadata": {
            "tags": []
          }
        },
        {
          "output_type": "display_data",
          "data": {
            "text/html": [
              "<pre>    To use these columns in scoring predictions, use a model that allows the use of additional features.</pre>"
            ],
            "text/plain": [
              "    To use these columns in scoring predictions, use a model that allows the use of additional features."
            ]
          },
          "metadata": {
            "tags": []
          }
        },
        {
          "output_type": "display_data",
          "data": {
            "text/html": [
              "<pre>Preparing data set.</pre>"
            ],
            "text/plain": [
              "Preparing data set."
            ]
          },
          "metadata": {
            "tags": []
          }
        },
        {
          "output_type": "display_data",
          "data": {
            "text/html": [
              "<pre>    Data has 133585 observations with 24429 users and 300 items.</pre>"
            ],
            "text/plain": [
              "    Data has 133585 observations with 24429 users and 300 items."
            ]
          },
          "metadata": {
            "tags": []
          }
        },
        {
          "output_type": "display_data",
          "data": {
            "text/html": [
              "<pre>    Data prepared in: 0.136733s</pre>"
            ],
            "text/plain": [
              "    Data prepared in: 0.136733s"
            ]
          },
          "metadata": {
            "tags": []
          }
        },
        {
          "output_type": "display_data",
          "data": {
            "text/html": [
              "<pre>Training model from provided data.</pre>"
            ],
            "text/plain": [
              "Training model from provided data."
            ]
          },
          "metadata": {
            "tags": []
          }
        },
        {
          "output_type": "display_data",
          "data": {
            "text/html": [
              "<pre>Gathering per-item and per-user statistics.</pre>"
            ],
            "text/plain": [
              "Gathering per-item and per-user statistics."
            ]
          },
          "metadata": {
            "tags": []
          }
        },
        {
          "output_type": "display_data",
          "data": {
            "text/html": [
              "<pre>+--------------------------------+------------+</pre>"
            ],
            "text/plain": [
              "+--------------------------------+------------+"
            ]
          },
          "metadata": {
            "tags": []
          }
        },
        {
          "output_type": "display_data",
          "data": {
            "text/html": [
              "<pre>| Elapsed Time (Item Statistics) | % Complete |</pre>"
            ],
            "text/plain": [
              "| Elapsed Time (Item Statistics) | % Complete |"
            ]
          },
          "metadata": {
            "tags": []
          }
        },
        {
          "output_type": "display_data",
          "data": {
            "text/html": [
              "<pre>+--------------------------------+------------+</pre>"
            ],
            "text/plain": [
              "+--------------------------------+------------+"
            ]
          },
          "metadata": {
            "tags": []
          }
        },
        {
          "output_type": "display_data",
          "data": {
            "text/html": [
              "<pre>| 1.724ms                        | 4          |</pre>"
            ],
            "text/plain": [
              "| 1.724ms                        | 4          |"
            ]
          },
          "metadata": {
            "tags": []
          }
        },
        {
          "output_type": "display_data",
          "data": {
            "text/html": [
              "<pre>| 12.829ms                       | 100        |</pre>"
            ],
            "text/plain": [
              "| 12.829ms                       | 100        |"
            ]
          },
          "metadata": {
            "tags": []
          }
        },
        {
          "output_type": "display_data",
          "data": {
            "text/html": [
              "<pre>+--------------------------------+------------+</pre>"
            ],
            "text/plain": [
              "+--------------------------------+------------+"
            ]
          },
          "metadata": {
            "tags": []
          }
        },
        {
          "output_type": "display_data",
          "data": {
            "text/html": [
              "<pre>Setting up lookup tables.</pre>"
            ],
            "text/plain": [
              "Setting up lookup tables."
            ]
          },
          "metadata": {
            "tags": []
          }
        },
        {
          "output_type": "display_data",
          "data": {
            "text/html": [
              "<pre>Processing data in one pass using dense lookup tables.</pre>"
            ],
            "text/plain": [
              "Processing data in one pass using dense lookup tables."
            ]
          },
          "metadata": {
            "tags": []
          }
        },
        {
          "output_type": "display_data",
          "data": {
            "text/html": [
              "<pre>+-------------------------------------+------------------+-----------------+</pre>"
            ],
            "text/plain": [
              "+-------------------------------------+------------------+-----------------+"
            ]
          },
          "metadata": {
            "tags": []
          }
        },
        {
          "output_type": "display_data",
          "data": {
            "text/html": [
              "<pre>| Elapsed Time (Constructing Lookups) | Total % Complete | Items Processed |</pre>"
            ],
            "text/plain": [
              "| Elapsed Time (Constructing Lookups) | Total % Complete | Items Processed |"
            ]
          },
          "metadata": {
            "tags": []
          }
        },
        {
          "output_type": "display_data",
          "data": {
            "text/html": [
              "<pre>+-------------------------------------+------------------+-----------------+</pre>"
            ],
            "text/plain": [
              "+-------------------------------------+------------------+-----------------+"
            ]
          },
          "metadata": {
            "tags": []
          }
        },
        {
          "output_type": "display_data",
          "data": {
            "text/html": [
              "<pre>| 13.643ms                            | 0                | 0               |</pre>"
            ],
            "text/plain": [
              "| 13.643ms                            | 0                | 0               |"
            ]
          },
          "metadata": {
            "tags": []
          }
        },
        {
          "output_type": "display_data",
          "data": {
            "text/html": [
              "<pre>| 67.986ms                            | 100              | 300             |</pre>"
            ],
            "text/plain": [
              "| 67.986ms                            | 100              | 300             |"
            ]
          },
          "metadata": {
            "tags": []
          }
        },
        {
          "output_type": "display_data",
          "data": {
            "text/html": [
              "<pre>+-------------------------------------+------------------+-----------------+</pre>"
            ],
            "text/plain": [
              "+-------------------------------------+------------------+-----------------+"
            ]
          },
          "metadata": {
            "tags": []
          }
        },
        {
          "output_type": "display_data",
          "data": {
            "text/html": [
              "<pre>Finalizing lookup tables.</pre>"
            ],
            "text/plain": [
              "Finalizing lookup tables."
            ]
          },
          "metadata": {
            "tags": []
          }
        },
        {
          "output_type": "display_data",
          "data": {
            "text/html": [
              "<pre>Generating candidate set for working with new users.</pre>"
            ],
            "text/plain": [
              "Generating candidate set for working with new users."
            ]
          },
          "metadata": {
            "tags": []
          }
        },
        {
          "output_type": "display_data",
          "data": {
            "text/html": [
              "<pre>Finished training in 0.101247s</pre>"
            ],
            "text/plain": [
              "Finished training in 0.101247s"
            ]
          },
          "metadata": {
            "tags": []
          }
        },
        {
          "output_type": "display_data",
          "data": {
            "text/html": [
              "<pre>recommendations finished on 1000/1000 queries. users per second: 60350</pre>"
            ],
            "text/plain": [
              "recommendations finished on 1000/1000 queries. users per second: 60350"
            ]
          },
          "metadata": {
            "tags": []
          }
        },
        {
          "output_type": "stream",
          "text": [
            "+------------+-----------+----------------------+------+\n",
            "| customerId | productId |        score         | rank |\n",
            "+------------+-----------+----------------------+------+\n",
            "|    1553    |     2     | 0.10592188835144042  |  1   |\n",
            "|    1553    |     1     | 0.10348175764083863  |  2   |\n",
            "|    1553    |     35    |  0.0845762014389038  |  3   |\n",
            "|    1553    |     33    |  0.0668614387512207  |  4   |\n",
            "|    1553    |     5     | 0.06496070623397827  |  5   |\n",
            "|    1553    |     61    | 0.060317397117614746 |  6   |\n",
            "|    1553    |     15    | 0.05949603319168091  |  7   |\n",
            "|    1553    |     17    |  0.0519999623298645  |  8   |\n",
            "|    1553    |     11    | 0.050322222709655764 |  9   |\n",
            "|    1553    |     19    | 0.049363481998443606 |  10  |\n",
            "|   20400    |     26    | 0.05812269449234009  |  1   |\n",
            "|   20400    |     6     | 0.05361741781234741  |  2   |\n",
            "|   20400    |    113    | 0.05312788486480713  |  3   |\n",
            "|   20400    |     1     | 0.05210459232330322  |  4   |\n",
            "|   20400    |     15    | 0.047683894634246826 |  5   |\n",
            "|   20400    |     27    | 0.044673383235931396 |  6   |\n",
            "|   20400    |     13    | 0.04383981227874756  |  7   |\n",
            "|   20400    |    246    | 0.04373115301132202  |  8   |\n",
            "|   20400    |    160    | 0.04251152276992798  |  9   |\n",
            "|   20400    |     4     | 0.04242873191833496  |  10  |\n",
            "|   19750    |     48    |  0.132284144560496   |  1   |\n",
            "|   19750    |     36    | 0.12405195832252502  |  2   |\n",
            "|   19750    |     38    | 0.12345944841702779  |  3   |\n",
            "|   19750    |     79    | 0.10431413849194844  |  4   |\n",
            "|   19750    |     1     |  0.1038620372613271  |  5   |\n",
            "|   19750    |     5     | 0.07093353072802226  |  6   |\n",
            "|   19750    |     2     | 0.06818051139513652  |  7   |\n",
            "|   19750    |     17    | 0.06506650646527608  |  8   |\n",
            "|   19750    |     44    | 0.06468223532040913  |  9   |\n",
            "|   19750    |     21    | 0.06357964873313904  |  10  |\n",
            "+------------+-----------+----------------------+------+\n",
            "[10000 rows x 4 columns]\n",
            "\n"
          ],
          "name": "stdout"
        }
      ]
    },
    {
      "cell_type": "markdown",
      "metadata": {
        "id": "gBjY7r-jRvnL",
        "colab_type": "text"
      },
      "source": [
        "### 8.1. CSV output file"
      ]
    },
    {
      "cell_type": "code",
      "metadata": {
        "id": "kTfX31VmRvnM",
        "colab_type": "code",
        "colab": {
          "base_uri": "https://localhost:8080/",
          "height": 216
        },
        "outputId": "f8876160-cdc8-49fb-8a64-6f2336edf7f4"
      },
      "source": [
        "df_rec = recom.to_dataframe()\n",
        "print(df_rec.shape)\n",
        "df_rec.head()"
      ],
      "execution_count": 80,
      "outputs": [
        {
          "output_type": "stream",
          "text": [
            "(10000, 4)\n"
          ],
          "name": "stdout"
        },
        {
          "output_type": "execute_result",
          "data": {
            "text/html": [
              "<div>\n",
              "<style scoped>\n",
              "    .dataframe tbody tr th:only-of-type {\n",
              "        vertical-align: middle;\n",
              "    }\n",
              "\n",
              "    .dataframe tbody tr th {\n",
              "        vertical-align: top;\n",
              "    }\n",
              "\n",
              "    .dataframe thead th {\n",
              "        text-align: right;\n",
              "    }\n",
              "</style>\n",
              "<table border=\"1\" class=\"dataframe\">\n",
              "  <thead>\n",
              "    <tr style=\"text-align: right;\">\n",
              "      <th></th>\n",
              "      <th>customerId</th>\n",
              "      <th>productId</th>\n",
              "      <th>score</th>\n",
              "      <th>rank</th>\n",
              "    </tr>\n",
              "  </thead>\n",
              "  <tbody>\n",
              "    <tr>\n",
              "      <th>0</th>\n",
              "      <td>1553</td>\n",
              "      <td>2</td>\n",
              "      <td>0.105922</td>\n",
              "      <td>1</td>\n",
              "    </tr>\n",
              "    <tr>\n",
              "      <th>1</th>\n",
              "      <td>1553</td>\n",
              "      <td>1</td>\n",
              "      <td>0.103482</td>\n",
              "      <td>2</td>\n",
              "    </tr>\n",
              "    <tr>\n",
              "      <th>2</th>\n",
              "      <td>1553</td>\n",
              "      <td>35</td>\n",
              "      <td>0.084576</td>\n",
              "      <td>3</td>\n",
              "    </tr>\n",
              "    <tr>\n",
              "      <th>3</th>\n",
              "      <td>1553</td>\n",
              "      <td>33</td>\n",
              "      <td>0.066861</td>\n",
              "      <td>4</td>\n",
              "    </tr>\n",
              "    <tr>\n",
              "      <th>4</th>\n",
              "      <td>1553</td>\n",
              "      <td>5</td>\n",
              "      <td>0.064961</td>\n",
              "      <td>5</td>\n",
              "    </tr>\n",
              "  </tbody>\n",
              "</table>\n",
              "</div>"
            ],
            "text/plain": [
              "   customerId  productId     score  rank\n",
              "0        1553          2  0.105922     1\n",
              "1        1553          1  0.103482     2\n",
              "2        1553         35  0.084576     3\n",
              "3        1553         33  0.066861     4\n",
              "4        1553          5  0.064961     5"
            ]
          },
          "metadata": {
            "tags": []
          },
          "execution_count": 80
        }
      ]
    },
    {
      "cell_type": "code",
      "metadata": {
        "id": "6MpvfJN5RvnO",
        "colab_type": "code",
        "colab": {}
      },
      "source": [
        "df_rec['recommendedProducts'] = df_rec.groupby([user_id])[item_id].transform(lambda x: '|'.join(x.astype(str)))\n",
        "df_output = df_rec[['customerId', 'recommendedProducts']].drop_duplicates().sort_values('customerId').set_index('customerId')"
      ],
      "execution_count": 0,
      "outputs": []
    },
    {
      "cell_type": "markdown",
      "metadata": {
        "id": "10D6oWzzRvnQ",
        "colab_type": "text"
      },
      "source": [
        "#### Define a function to create a desired output"
      ]
    },
    {
      "cell_type": "code",
      "metadata": {
        "id": "hLXT54VMRvnQ",
        "colab_type": "code",
        "colab": {}
      },
      "source": [
        "def create_output(model, users_to_recommend, n_rec, print_csv=True):\n",
        "    recomendation = model.recommend(users=users_to_recommend, k=n_rec)\n",
        "    df_rec = recomendation.to_dataframe()\n",
        "    df_rec['recommendedProducts'] = df_rec.groupby([user_id])[item_id] \\\n",
        "        .transform(lambda x: '|'.join(x.astype(str)))\n",
        "    df_output = df_rec[['customerId', 'recommendedProducts']].drop_duplicates() \\\n",
        "        .sort_values('customerId').set_index('customerId')\n",
        "    if print_csv:\n",
        "        df_output.to_csv('../option1_recommendation.csv')\n",
        "        print(\"An output file can be found in 'output' folder with name 'option1_recommendation.csv'\")\n",
        "    return df_output"
      ],
      "execution_count": 0,
      "outputs": []
    },
    {
      "cell_type": "code",
      "metadata": {
        "id": "46_te1MCRvnS",
        "colab_type": "code",
        "colab": {
          "base_uri": "https://localhost:8080/",
          "height": 280
        },
        "outputId": "d6e8f244-aa4a-48a2-aabd-1056ba1c2fcf"
      },
      "source": [
        "df_output = create_output(pear_norm, users_to_recommend, n_rec, print_csv=True)\n",
        "print(df_output.shape)\n",
        "df_output.head()"
      ],
      "execution_count": 85,
      "outputs": [
        {
          "output_type": "display_data",
          "data": {
            "text/html": [
              "<pre>recommendations finished on 1000/1000 queries. users per second: 43308.8</pre>"
            ],
            "text/plain": [
              "recommendations finished on 1000/1000 queries. users per second: 43308.8"
            ]
          },
          "metadata": {
            "tags": []
          }
        },
        {
          "output_type": "stream",
          "text": [
            "An output file can be found in 'output' folder with name 'option1_recommendation.csv'\n",
            "(1000, 1)\n"
          ],
          "name": "stdout"
        },
        {
          "output_type": "execute_result",
          "data": {
            "text/html": [
              "<div>\n",
              "<style scoped>\n",
              "    .dataframe tbody tr th:only-of-type {\n",
              "        vertical-align: middle;\n",
              "    }\n",
              "\n",
              "    .dataframe tbody tr th {\n",
              "        vertical-align: top;\n",
              "    }\n",
              "\n",
              "    .dataframe thead th {\n",
              "        text-align: right;\n",
              "    }\n",
              "</style>\n",
              "<table border=\"1\" class=\"dataframe\">\n",
              "  <thead>\n",
              "    <tr style=\"text-align: right;\">\n",
              "      <th></th>\n",
              "      <th>recommendedProducts</th>\n",
              "    </tr>\n",
              "    <tr>\n",
              "      <th>customerId</th>\n",
              "      <th></th>\n",
              "    </tr>\n",
              "  </thead>\n",
              "  <tbody>\n",
              "    <tr>\n",
              "      <th>4</th>\n",
              "      <td>226|230|247|125|248|294|155|204|276|165</td>\n",
              "    </tr>\n",
              "    <tr>\n",
              "      <th>11</th>\n",
              "      <td>226|230|247|125|248|294|155|204|276|165</td>\n",
              "    </tr>\n",
              "    <tr>\n",
              "      <th>12</th>\n",
              "      <td>226|230|247|125|248|294|155|204|276|165</td>\n",
              "    </tr>\n",
              "    <tr>\n",
              "      <th>16</th>\n",
              "      <td>226|230|247|125|248|294|155|204|276|72</td>\n",
              "    </tr>\n",
              "    <tr>\n",
              "      <th>21</th>\n",
              "      <td>226|230|247|125|248|294|155|204|276|72</td>\n",
              "    </tr>\n",
              "  </tbody>\n",
              "</table>\n",
              "</div>"
            ],
            "text/plain": [
              "                                recommendedProducts\n",
              "customerId                                         \n",
              "4           226|230|247|125|248|294|155|204|276|165\n",
              "11          226|230|247|125|248|294|155|204|276|165\n",
              "12          226|230|247|125|248|294|155|204|276|165\n",
              "16           226|230|247|125|248|294|155|204|276|72\n",
              "21           226|230|247|125|248|294|155|204|276|72"
            ]
          },
          "metadata": {
            "tags": []
          },
          "execution_count": 85
        }
      ]
    },
    {
      "cell_type": "markdown",
      "metadata": {
        "id": "5spO47dWRvnU",
        "colab_type": "text"
      },
      "source": [
        "### 8.2. Customer recommendation function"
      ]
    },
    {
      "cell_type": "code",
      "metadata": {
        "id": "6FXndmcRRvnV",
        "colab_type": "code",
        "colab": {}
      },
      "source": [
        "def customer_recomendation(customer_id):\n",
        "    if customer_id not in df_output.index:\n",
        "        print('Customer not found.')\n",
        "        return customer_id\n",
        "    return df_output.loc[customer_id]"
      ],
      "execution_count": 0,
      "outputs": []
    },
    {
      "cell_type": "code",
      "metadata": {
        "id": "qbuRYjk4RvnX",
        "colab_type": "code",
        "colab": {}
      },
      "source": [
        "customer_recomendation(4)"
      ],
      "execution_count": 0,
      "outputs": []
    },
    {
      "cell_type": "code",
      "metadata": {
        "id": "f1tqyXTjRvnZ",
        "colab_type": "code",
        "colab": {}
      },
      "source": [
        "customer_recomendation(21)"
      ],
      "execution_count": 0,
      "outputs": []
    },
    {
      "cell_type": "markdown",
      "metadata": {
        "collapsed": true,
        "id": "lVWbIZ02Rvnd",
        "colab_type": "text"
      },
      "source": [
        "## Summary\n",
        "In this exercise, we were able to traverse a step-by-step process for making recommendations to customers. We used Collaborative Filtering approaches with `cosine` and `pearson` measure and compare the models with our baseline popularity model. We also prepared three sets of data that include regular buying count, buying dummy, as well as normalized purchase frequency as our target variable. Using RMSE, precision and recall, we evaluated our models and observed the impact of personalization. Finally, we selected the Cosine approach in dummy purchase data. "
      ]
    },
    {
      "cell_type": "code",
      "metadata": {
        "id": "N2h3Cv7rRvnd",
        "colab_type": "code",
        "colab": {}
      },
      "source": [
        ""
      ],
      "execution_count": 0,
      "outputs": []
    }
  ]
}