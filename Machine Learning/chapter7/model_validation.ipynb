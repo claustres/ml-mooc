{
 "cells": [
  {
   "cell_type": "code",
   "execution_count": 0,
   "metadata": {
    "colab": {},
    "colab_type": "code",
    "id": "JjlA5EewP34X"
   },
   "outputs": [],
   "source": [
    "import pandas as pd\n",
    "import numpy as np\n",
    "import matplotlib.pyplot as plt\n",
    "from sklearn.ensemble import RandomForestClassifier\n",
    "from sklearn.model_selection import train_test_split, StratifiedShuffleSplit\n",
    "from sklearn.metrics import accuracy_score\n",
    "from sklearn.neighbors import KNeighborsClassifier\n",
    "import seaborn as sns\n",
    "from scipy import stats\n",
    "from sklearn.model_selection import StratifiedKFold\n",
    "%matplotlib inline"
   ]
  },
  {
   "cell_type": "markdown",
   "metadata": {
    "colab_type": "text",
    "id": "4pyW599zP34j"
   },
   "source": [
    "Link to data: https://www.kaggle.com/zalando-research/fashionmnist/data"
   ]
  },
  {
   "cell_type": "code",
   "execution_count": 0,
   "metadata": {
    "colab": {},
    "colab_type": "code",
    "id": "fAJuPmwNP34m"
   },
   "outputs": [],
   "source": [
    "data = pd.read_csv('data/fashion-mnist_test.csv')"
   ]
  },
  {
   "cell_type": "code",
   "execution_count": 0,
   "metadata": {
    "colab": {},
    "colab_type": "code",
    "id": "55RJbeivP34w",
    "outputId": "d2b9c8eb-3067-4274-f210-5f23b06c4ac8"
   },
   "outputs": [
    {
     "data": {
      "text/plain": [
       "(10000, 785)"
      ]
     },
     "execution_count": 3,
     "metadata": {
      "tags": []
     },
     "output_type": "execute_result"
    }
   ],
   "source": [
    "data.shape"
   ]
  },
  {
   "cell_type": "code",
   "execution_count": 0,
   "metadata": {
    "colab": {},
    "colab_type": "code",
    "id": "1XpqmqwoP342",
    "outputId": "7b965762-c813-410e-a177-9cd8a23d66a9"
   },
   "outputs": [
    {
     "data": {
      "text/html": [
       "<div>\n",
       "<style scoped>\n",
       "    .dataframe tbody tr th:only-of-type {\n",
       "        vertical-align: middle;\n",
       "    }\n",
       "\n",
       "    .dataframe tbody tr th {\n",
       "        vertical-align: top;\n",
       "    }\n",
       "\n",
       "    .dataframe thead th {\n",
       "        text-align: right;\n",
       "    }\n",
       "</style>\n",
       "<table border=\"1\" class=\"dataframe\">\n",
       "  <thead>\n",
       "    <tr style=\"text-align: right;\">\n",
       "      <th></th>\n",
       "      <th>label</th>\n",
       "      <th>pixel1</th>\n",
       "      <th>pixel2</th>\n",
       "      <th>pixel3</th>\n",
       "      <th>pixel4</th>\n",
       "      <th>pixel5</th>\n",
       "      <th>pixel6</th>\n",
       "      <th>pixel7</th>\n",
       "      <th>pixel8</th>\n",
       "      <th>pixel9</th>\n",
       "      <th>...</th>\n",
       "      <th>pixel775</th>\n",
       "      <th>pixel776</th>\n",
       "      <th>pixel777</th>\n",
       "      <th>pixel778</th>\n",
       "      <th>pixel779</th>\n",
       "      <th>pixel780</th>\n",
       "      <th>pixel781</th>\n",
       "      <th>pixel782</th>\n",
       "      <th>pixel783</th>\n",
       "      <th>pixel784</th>\n",
       "    </tr>\n",
       "  </thead>\n",
       "  <tbody>\n",
       "    <tr>\n",
       "      <th>0</th>\n",
       "      <td>0</td>\n",
       "      <td>0</td>\n",
       "      <td>0</td>\n",
       "      <td>0</td>\n",
       "      <td>0</td>\n",
       "      <td>0</td>\n",
       "      <td>0</td>\n",
       "      <td>0</td>\n",
       "      <td>9</td>\n",
       "      <td>8</td>\n",
       "      <td>...</td>\n",
       "      <td>103</td>\n",
       "      <td>87</td>\n",
       "      <td>56</td>\n",
       "      <td>0</td>\n",
       "      <td>0</td>\n",
       "      <td>0</td>\n",
       "      <td>0</td>\n",
       "      <td>0</td>\n",
       "      <td>0</td>\n",
       "      <td>0</td>\n",
       "    </tr>\n",
       "    <tr>\n",
       "      <th>1</th>\n",
       "      <td>1</td>\n",
       "      <td>0</td>\n",
       "      <td>0</td>\n",
       "      <td>0</td>\n",
       "      <td>0</td>\n",
       "      <td>0</td>\n",
       "      <td>0</td>\n",
       "      <td>0</td>\n",
       "      <td>0</td>\n",
       "      <td>0</td>\n",
       "      <td>...</td>\n",
       "      <td>34</td>\n",
       "      <td>0</td>\n",
       "      <td>0</td>\n",
       "      <td>0</td>\n",
       "      <td>0</td>\n",
       "      <td>0</td>\n",
       "      <td>0</td>\n",
       "      <td>0</td>\n",
       "      <td>0</td>\n",
       "      <td>0</td>\n",
       "    </tr>\n",
       "    <tr>\n",
       "      <th>2</th>\n",
       "      <td>2</td>\n",
       "      <td>0</td>\n",
       "      <td>0</td>\n",
       "      <td>0</td>\n",
       "      <td>0</td>\n",
       "      <td>0</td>\n",
       "      <td>0</td>\n",
       "      <td>14</td>\n",
       "      <td>53</td>\n",
       "      <td>99</td>\n",
       "      <td>...</td>\n",
       "      <td>0</td>\n",
       "      <td>0</td>\n",
       "      <td>0</td>\n",
       "      <td>0</td>\n",
       "      <td>63</td>\n",
       "      <td>53</td>\n",
       "      <td>31</td>\n",
       "      <td>0</td>\n",
       "      <td>0</td>\n",
       "      <td>0</td>\n",
       "    </tr>\n",
       "    <tr>\n",
       "      <th>3</th>\n",
       "      <td>2</td>\n",
       "      <td>0</td>\n",
       "      <td>0</td>\n",
       "      <td>0</td>\n",
       "      <td>0</td>\n",
       "      <td>0</td>\n",
       "      <td>0</td>\n",
       "      <td>0</td>\n",
       "      <td>0</td>\n",
       "      <td>0</td>\n",
       "      <td>...</td>\n",
       "      <td>137</td>\n",
       "      <td>126</td>\n",
       "      <td>140</td>\n",
       "      <td>0</td>\n",
       "      <td>133</td>\n",
       "      <td>224</td>\n",
       "      <td>222</td>\n",
       "      <td>56</td>\n",
       "      <td>0</td>\n",
       "      <td>0</td>\n",
       "    </tr>\n",
       "    <tr>\n",
       "      <th>4</th>\n",
       "      <td>3</td>\n",
       "      <td>0</td>\n",
       "      <td>0</td>\n",
       "      <td>0</td>\n",
       "      <td>0</td>\n",
       "      <td>0</td>\n",
       "      <td>0</td>\n",
       "      <td>0</td>\n",
       "      <td>0</td>\n",
       "      <td>0</td>\n",
       "      <td>...</td>\n",
       "      <td>0</td>\n",
       "      <td>0</td>\n",
       "      <td>0</td>\n",
       "      <td>0</td>\n",
       "      <td>0</td>\n",
       "      <td>0</td>\n",
       "      <td>0</td>\n",
       "      <td>0</td>\n",
       "      <td>0</td>\n",
       "      <td>0</td>\n",
       "    </tr>\n",
       "  </tbody>\n",
       "</table>\n",
       "<p>5 rows × 785 columns</p>\n",
       "</div>"
      ],
      "text/plain": [
       "   label  pixel1  pixel2  pixel3  pixel4  pixel5  pixel6  pixel7  pixel8  \\\n",
       "0      0       0       0       0       0       0       0       0       9   \n",
       "1      1       0       0       0       0       0       0       0       0   \n",
       "2      2       0       0       0       0       0       0      14      53   \n",
       "3      2       0       0       0       0       0       0       0       0   \n",
       "4      3       0       0       0       0       0       0       0       0   \n",
       "\n",
       "   pixel9    ...     pixel775  pixel776  pixel777  pixel778  pixel779  \\\n",
       "0       8    ...          103        87        56         0         0   \n",
       "1       0    ...           34         0         0         0         0   \n",
       "2      99    ...            0         0         0         0        63   \n",
       "3       0    ...          137       126       140         0       133   \n",
       "4       0    ...            0         0         0         0         0   \n",
       "\n",
       "   pixel780  pixel781  pixel782  pixel783  pixel784  \n",
       "0         0         0         0         0         0  \n",
       "1         0         0         0         0         0  \n",
       "2        53        31         0         0         0  \n",
       "3       224       222        56         0         0  \n",
       "4         0         0         0         0         0  \n",
       "\n",
       "[5 rows x 785 columns]"
      ]
     },
     "execution_count": 4,
     "metadata": {
      "tags": []
     },
     "output_type": "execute_result"
    }
   ],
   "source": [
    "data.head()"
   ]
  },
  {
   "cell_type": "code",
   "execution_count": 0,
   "metadata": {
    "colab": {},
    "colab_type": "code",
    "id": "ekZUieLKP347"
   },
   "outputs": [],
   "source": [
    "# type conversion for optimized storage\n",
    "for c in data.columns:\n",
    "    data.loc[:, c] = data[c].astype(np.uint8)"
   ]
  },
  {
   "cell_type": "code",
   "execution_count": 0,
   "metadata": {
    "colab": {},
    "colab_type": "code",
    "id": "FWVKRicQP34_"
   },
   "outputs": [],
   "source": [
    "# features and target\n",
    "x, y = data.drop('label', axis=1).values, data['label']"
   ]
  },
  {
   "cell_type": "markdown",
   "metadata": {
    "colab_type": "text",
    "heading_collapsed": true,
    "id": "XlD7ODo2P35D"
   },
   "source": [
    "### Single holdout: Varying test size"
   ]
  },
  {
   "cell_type": "code",
   "execution_count": 0,
   "metadata": {
    "colab": {},
    "colab_type": "code",
    "hidden": true,
    "id": "dCtcdGs8P35E"
   },
   "outputs": [],
   "source": [
    "# varying hold out size\n",
    "test_size = np.arange(0.05, 0.55, 0.05)\n",
    "\n",
    "trn_accuracy = []\n",
    "tst_accuracy = []\n",
    "\n",
    "for sz in test_size:\n",
    "    #stratified sampling\n",
    "    sss = StratifiedShuffleSplit(n_splits=1, test_size=sz, random_state=0)\n",
    "\n",
    "    #train-test split\n",
    "    for trn_idx, tst_idx in sss.split(x, y):\n",
    "        x_trn, y_trn, x_tst, y_tst = x[trn_idx], y[trn_idx], x[tst_idx], y[\n",
    "            tst_idx]\n",
    "\n",
    "    #model fitting\n",
    "    clf = RandomForestClassifier(random_state=0, min_samples_leaf=3)\n",
    "    clf.fit(x_trn, y_trn)\n",
    "\n",
    "    #model prediction\n",
    "    pred_tst = clf.predict(x_tst)\n",
    "    pred_trn = clf.predict(x_trn)\n",
    "\n",
    "    #perfromance evaluation\n",
    "    tst_accuracy.append(accuracy_score(y_tst, pred_tst))\n",
    "    trn_accuracy.append(accuracy_score(y_trn, pred_trn))"
   ]
  },
  {
   "cell_type": "code",
   "execution_count": 0,
   "metadata": {
    "colab": {},
    "colab_type": "code",
    "hidden": true,
    "id": "NYrO6f5lP35I"
   },
   "outputs": [],
   "source": [
    "# 95% CI calculation using normal approximation method\n",
    "ui = []\n",
    "li = []\n",
    "for i, n in enumerate(test_size):\n",
    "    p = tst_accuracy[i]\n",
    "    sigma = np.sqrt(p * (1 - p) / (n * 10000))\n",
    "    ui.append(p + 1.96 * sigma)\n",
    "    li.append(p - 1.96 * sigma)"
   ]
  },
  {
   "cell_type": "code",
   "execution_count": 0,
   "metadata": {
    "colab": {},
    "colab_type": "code",
    "hidden": true,
    "id": "EGNlcYyfP35M",
    "outputId": "e4b7bfae-e343-4e3d-d518-f718ad417c3f",
    "scrolled": true
   },
   "outputs": [
    {
     "data": {
      "image/png": "[encoded data removed]",
      "text/plain": [
       "<Figure size 1440x720 with 1 Axes>"
      ]
     },
     "metadata": {
      "tags": []
     },
     "output_type": "display_data"
    }
   ],
   "source": [
    "#CI plot\n",
    "def lineplotCI(x_data, y_data, low_CI, upper_CI, x_label, y_label, title):\n",
    "    # Create the plot object\n",
    "    _, ax = plt.subplots(figsize=(20, 10))\n",
    "    # Plot the data, set the linewidth, color and transparency of the\n",
    "    # line, provide a label for the legend\n",
    "    ax.plot(\n",
    "        x_data,\n",
    "        y_data,\n",
    "        lw=1,\n",
    "        color='#FF335B',\n",
    "        alpha=1,\n",
    "        label='Point estimate',\n",
    "        linestyle='--',\n",
    "        marker='o')\n",
    "    # Shade the confidence interval\n",
    "    ax.fill_between(\n",
    "        x_data, low_CI, upper_CI, color='#33C4FF', alpha=0.4, label='95% CI')\n",
    "    # Label the axes and provide a title\n",
    "    ax.set_title(title)\n",
    "    ax.set_xlabel(x_label)\n",
    "    ax.set_ylabel(y_label)\n",
    "    # Display legend\n",
    "    ax.legend(loc='best')\n",
    "\n",
    "\n",
    "# Call the function to create plot\n",
    "lineplotCI(\n",
    "    x_data=test_size,\n",
    "    y_data=100 * np.array(tst_accuracy),\n",
    "    low_CI=100 * np.array(li),\n",
    "    upper_CI=100 * np.array(ui),\n",
    "    x_label='Test size (Proportion)',\n",
    "    y_label='Test accuracy (%)',\n",
    "    title=\n",
    "    'Variability of test accuracy with test size (Normal approximation interval)'\n",
    ")"
   ]
  },
  {
   "cell_type": "markdown",
   "metadata": {
    "colab_type": "text",
    "id": "pbAJdQWvP35R"
   },
   "source": [
    "### Repeated holdout"
   ]
  },
  {
   "cell_type": "code",
   "execution_count": 0,
   "metadata": {
    "colab": {},
    "colab_type": "code",
    "id": "UVqDbzCJP35R"
   },
   "outputs": [],
   "source": [
    "test_size = 0.1\n",
    "# repeating for 50 different seeds\n",
    "seed = np.random.randint(0, 1000, 50)\n",
    "trn_accuracy_1 = []\n",
    "tst_accuracy_1 = []\n",
    "for state in seed:\n",
    "    sss = StratifiedShuffleSplit(\n",
    "        n_splits=1, test_size=test_size, random_state=state)\n",
    "\n",
    "    for trn_idx, tst_idx in sss.split(x, y):\n",
    "        x_trn, y_trn, x_tst, y_tst = x[trn_idx], y[trn_idx], x[tst_idx], y[\n",
    "            tst_idx]\n",
    "\n",
    "    clf = RandomForestClassifier(random_state=0, min_samples_leaf=3)\n",
    "\n",
    "    clf.fit(x_trn, y_trn)\n",
    "\n",
    "    pred_tst = clf.predict(x_tst)\n",
    "    pred_trn = clf.predict(x_trn)\n",
    "\n",
    "    tst_accuracy_1.append(accuracy_score(y_tst, pred_tst))\n",
    "    trn_accuracy_1.append(accuracy_score(y_trn, pred_trn))"
   ]
  },
  {
   "cell_type": "code",
   "execution_count": 0,
   "metadata": {
    "colab": {},
    "colab_type": "code",
    "id": "luuZ67s-P35U"
   },
   "outputs": [],
   "source": [
    "test_size = 0.5\n",
    "seed = np.random.randint(0, 1000, 50)\n",
    "trn_accuracy_2 = []\n",
    "tst_accuracy_2 = []\n",
    "for state in seed:\n",
    "    sss = StratifiedShuffleSplit(\n",
    "        n_splits=1, test_size=test_size, random_state=state)\n",
    "\n",
    "    for trn_idx, tst_idx in sss.split(x, y):\n",
    "        x_trn, y_trn, x_tst, y_tst = x[trn_idx], y[trn_idx], x[tst_idx], y[\n",
    "            tst_idx]\n",
    "\n",
    "    clf = RandomForestClassifier(random_state=0, min_samples_leaf=3)\n",
    "\n",
    "    clf.fit(x_trn, y_trn)\n",
    "\n",
    "    pred_tst = clf.predict(x_tst)\n",
    "    pred_trn = clf.predict(x_trn)\n",
    "\n",
    "    tst_accuracy_2.append(accuracy_score(y_tst, pred_tst))\n",
    "    trn_accuracy_2.append(accuracy_score(y_trn, pred_trn))"
   ]
  },
  {
   "cell_type": "code",
   "execution_count": 0,
   "metadata": {
    "colab": {},
    "colab_type": "code",
    "id": "Fket4jwkP35X"
   },
   "outputs": [],
   "source": [
    "df = pd.DataFrame()\n",
    "\n",
    "df['0.1'] = tst_accuracy_1\n",
    "\n",
    "df['0.5'] = tst_accuracy_2\n",
    "\n",
    "df['seed'] = df.index"
   ]
  },
  {
   "cell_type": "code",
   "execution_count": 0,
   "metadata": {
    "colab": {},
    "colab_type": "code",
    "id": "EyntuffgP35Z",
    "outputId": "5e9a0abb-44cd-4473-ba9d-ecdda2fbb7b6"
   },
   "outputs": [
    {
     "data": {
      "text/plain": [
       "Text(0,0.5,'Test accuracy (%)')"
      ]
     },
     "execution_count": 152,
     "metadata": {
      "tags": []
     },
     "output_type": "execute_result"
    },
    {
     "data": {
      "image/png": "[encoded data removed]",
      "text/plain": [
       "<Figure size 1440x360 with 2 Axes>"
      ]
     },
     "metadata": {
      "tags": []
     },
     "output_type": "display_data"
    }
   ],
   "source": [
    "# plotting accuracy score for 50 different iterations\n",
    "_, axes = plt.subplots(1, 2, figsize=(20, 5), sharey=True)\n",
    "axes[0].bar(df.seed, 100 * df['0.1'], color='#FFC433')\n",
    "axes[0].plot(df.seed, [100 * np.mean(df['0.1'])] * df.shape[0], \"k--\")\n",
    "axes[0].set_title(\"Test accuracy for 50 different seeds (Test size: 0.1)\")\n",
    "axes[1].bar(df.seed, 100 * df['0.5'], color='#FFC433')\n",
    "axes[1].plot(df.seed, [100 * np.mean(df['0.5'])] * df.shape[0], \"k--\")\n",
    "axes[1].set_title(\"Test accuracy for 50 different seeds (Test size: 0.5)\")\n",
    "plt.ylim([70, 100])\n",
    "axes[0].set_xlabel(\"seed\")\n",
    "axes[0].set_ylabel(\"Test accuracy (%)\")\n",
    "axes[1].set_xlabel(\"seed\")\n",
    "axes[1].set_ylabel(\"Test accuracy (%)\")"
   ]
  },
  {
   "cell_type": "code",
   "execution_count": 0,
   "metadata": {
    "colab": {},
    "colab_type": "code",
    "id": "yuHIauPLP35b",
    "outputId": "36a1cb79-348e-49da-a1f6-df8615398802"
   },
   "outputs": [
    {
     "name": "stdout",
     "output_type": "stream",
     "text": [
      "Mean accuracy for test size (0.1): 83.492\n"
     ]
    }
   ],
   "source": [
    "print(f\"Mean accuracy for test size (0.1): {100*np.mean(df['0.1'])}\")"
   ]
  },
  {
   "cell_type": "code",
   "execution_count": 0,
   "metadata": {
    "colab": {},
    "colab_type": "code",
    "id": "-8Dv2K3uP35f",
    "outputId": "f8210f78-e3c1-49a6-8769-257a95447c48"
   },
   "outputs": [
    {
     "name": "stdout",
     "output_type": "stream",
     "text": [
      "Mean accuracy for test size (0.5): 82.0828\n"
     ]
    }
   ],
   "source": [
    "print(f\"Mean accuracy for test size (0.5): {100*np.mean(df['0.5'])}\")"
   ]
  },
  {
   "cell_type": "markdown",
   "metadata": {
    "colab_type": "text",
    "id": "gCY4xgA_P358"
   },
   "source": [
    "### k-fold cross validation"
   ]
  },
  {
   "cell_type": "code",
   "execution_count": 0,
   "metadata": {
    "colab": {},
    "colab_type": "code",
    "id": "qAgHZb23P358",
    "outputId": "9d6d598c-ff42-4819-82ea-8b67ead95754"
   },
   "outputs": [
    {
     "data": {
      "text/plain": [
       "(0.8337, 0.004696807426326978)"
      ]
     },
     "execution_count": 195,
     "metadata": {
      "tags": []
     },
     "output_type": "execute_result"
    }
   ],
   "source": [
    "skf = StratifiedKFold(n_splits=5, shuffle=True, random_state=0)\n",
    "folds_score = []\n",
    "for trn_idx, tst_idx in skf.split(x, y):\n",
    "    x_trn, y_trn, x_tst, y_tst = x[trn_idx], y[trn_idx], x[tst_idx], y[tst_idx]\n",
    "    clf = RandomForestClassifier(random_state=0, min_samples_leaf=3)\n",
    "\n",
    "    clf.fit(x_trn, y_trn)\n",
    "\n",
    "    pred_tst = clf.predict(x_tst)\n",
    "\n",
    "    folds_score.append(accuracy_score(y_tst, pred_tst))\n",
    "\n",
    "mean_accuracy = np.mean(folds_score)\n",
    "\n",
    "std_accuracy = np.std(folds_score)\n",
    "\n",
    "mean_accuracy,std_accuracy"
   ]
  },
  {
   "cell_type": "code",
   "execution_count": 0,
   "metadata": {
    "colab": {},
    "colab_type": "code",
    "id": "BSFxzI9RP36A",
    "outputId": "fc809a1c-ffec-4c68-c7e4-ac7f64f7bc82"
   },
   "outputs": [
    {
     "data": {
      "text/plain": [
       "(0.8347, 0.009000555538409845)"
      ]
     },
     "execution_count": 196,
     "metadata": {
      "tags": []
     },
     "output_type": "execute_result"
    }
   ],
   "source": [
    "skf = StratifiedKFold(n_splits=10, shuffle=True, random_state=0)\n",
    "folds_score = []\n",
    "for trn_idx, tst_idx in skf.split(x, y):\n",
    "    x_trn, y_trn, x_tst, y_tst = x[trn_idx], y[trn_idx], x[tst_idx], y[tst_idx]\n",
    "    clf = RandomForestClassifier(random_state=0, min_samples_leaf=3)\n",
    "\n",
    "    clf.fit(x_trn, y_trn)\n",
    "\n",
    "    pred_tst = clf.predict(x_tst)\n",
    "\n",
    "    folds_score.append(accuracy_score(y_tst, pred_tst))\n",
    "\n",
    "mean_accuracy = np.mean(folds_score)\n",
    "\n",
    "std_accuracy = np.std(folds_score)\n",
    "\n",
    "mean_accuracy,std_accuracy"
   ]
  },
  {
   "cell_type": "code",
   "execution_count": 0,
   "metadata": {
    "colab": {},
    "colab_type": "code",
    "id": "shO6R_iZP36E"
   },
   "outputs": [],
   "source": []
  }
 ],
 "metadata": {
  "colab": {
   "collapsed_sections": [],
   "name": "model validation.ipynb",
   "provenance": [],
   "version": "0.3.2"
  },
  "kernelspec": {
   "display_name": "Python 3",
   "language": "python",
   "name": "python3"
  },
  "language_info": {
   "codemirror_mode": {
    "name": "ipython",
    "version": 3
   },
   "file_extension": ".py",
   "mimetype": "text/x-python",
   "name": "python",
   "nbconvert_exporter": "python",
   "pygments_lexer": "ipython3",
   "version": "3.8.3"
  }
 },
 "nbformat": 4,
 "nbformat_minor": 1
}
