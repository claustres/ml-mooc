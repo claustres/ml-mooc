{
 "cells": [
  {
   "cell_type": "markdown",
   "metadata": {},
   "source": [
    "## Statistics\n"
   ]
  },
  {
   "cell_type": "markdown",
   "metadata": {},
   "source": [
    "### Descriptive: \n",
    "Functions of sample data that describes some feature of the data. \n",
    "\n",
    "Eg: mean, min, max, median, quartiles, standard deviation, skew"
   ]
  },
  {
   "cell_type": "markdown",
   "metadata": {},
   "source": [
    "### Inferential:\n",
    "\n",
    "Functions of the sample data that assists you to draw an inference regarding an hypothesis about a population parameter. \n",
    "\n",
    "Eg: z, t, F-ratio"
   ]
  },
  {
   "cell_type": "code",
   "execution_count": 2,
   "metadata": {},
   "outputs": [
    {
     "ename": "NameError",
     "evalue": "name 'pd' is not defined",
     "output_type": "error",
     "traceback": [
      "\u001b[1;31m---------------------------------------------------------------------------\u001b[0m",
      "\u001b[1;31mNameError\u001b[0m                                 Traceback (most recent call last)",
      "\u001b[1;32m<ipython-input-2-eb6956007fc9>\u001b[0m in \u001b[0;36m<module>\u001b[1;34m()\u001b[0m\n\u001b[1;32m----> 1\u001b[1;33m \u001b[0mtitanic\u001b[0m \u001b[1;33m=\u001b[0m \u001b[0mpd\u001b[0m\u001b[1;33m.\u001b[0m\u001b[0mread_csv\u001b[0m\u001b[1;33m(\u001b[0m\u001b[1;34m'titanic.csv'\u001b[0m\u001b[1;33m)\u001b[0m\u001b[1;33m\u001b[0m\u001b[0m\n\u001b[0m\u001b[0;32m      2\u001b[0m \u001b[0mtitanic\u001b[0m\u001b[1;33m.\u001b[0m\u001b[0mhead\u001b[0m\u001b[1;33m(\u001b[0m\u001b[1;33m)\u001b[0m\u001b[1;33m\u001b[0m\u001b[0m\n",
      "\u001b[1;31mNameError\u001b[0m: name 'pd' is not defined"
     ]
    }
   ],
   "source": [
    "titanic = pd.read_csv('titanic.csv')\n",
    "titanic.head()"
   ]
  },
  {
   "cell_type": "markdown",
   "metadata": {},
   "source": [
    "### Types of Variables:\n",
    "\n",
    "Qualitative: Non-numeric variables\n",
    "\n",
    "Quantitative (Numeric):\n",
    "\n",
    "    Discrete\n",
    "    Continuous\n"
   ]
  },
  {
   "cell_type": "markdown",
   "metadata": {},
   "source": [
    "### Distribution: \n",
    "\n",
    "Types:\n",
    "\n",
    "    Normal: mean, std\n",
    "    skewed(right, left): median, IQR\n",
    "    \n",
    "Center and Spread:\n",
    "\n",
    "    Center: mean, median, mode\n",
    "    Spread: std, IQR\n"
   ]
  },
  {
   "cell_type": "markdown",
   "metadata": {},
   "source": [
    "#### Variance and Standard Deviation\n",
    "\n",
    "Variance: The average of the squared differences from the Mean\n",
    "Std: Square root of the Variance\n",
    "\n",
    "Measure of how spread out numbers are"
   ]
  },
  {
   "cell_type": "code",
   "execution_count": 1,
   "metadata": {},
   "outputs": [
    {
     "data": {
      "text/plain": [
       "(1.8547236990991407, 23.532105728132365, 67.53073374397763)"
      ]
     },
     "execution_count": 1,
     "metadata": {},
     "output_type": "execute_result"
    }
   ],
   "source": [
    "# Three data of house prices in lakhs\n",
    "import numpy as np\n",
    "\n",
    "d1 = np.array([70, 72, 75, 74, 71]) # 72\n",
    "d2 = np.array([110, 70 , 49, 90, 50]) # 74\n",
    "d3 = np.array([210, 40 , 41, 45, 39]) # 75 \n",
    "\n",
    "d1.mean(), d2.mean(),d3.mean()\n",
    "\n",
    "d1.std(), d2.std(),d3.std()"
   ]
  },
  {
   "cell_type": "code",
   "execution_count": 2,
   "metadata": {
    "collapsed": true
   },
   "outputs": [],
   "source": [
    "import pandas as pd\n",
    "import numpy as np\n",
    "import matplotlib.pyplot as plt\n",
    "import seaborn as sns\n",
    "import scipy.stats\n",
    "%matplotlib inline"
   ]
  },
  {
   "cell_type": "code",
   "execution_count": 107,
   "metadata": {},
   "outputs": [
    {
     "data": {
      "text/html": [
       "<div>\n",
       "<style>\n",
       "    .dataframe thead tr:only-child th {\n",
       "        text-align: right;\n",
       "    }\n",
       "\n",
       "    .dataframe thead th {\n",
       "        text-align: left;\n",
       "    }\n",
       "\n",
       "    .dataframe tbody tr th {\n",
       "        vertical-align: top;\n",
       "    }\n",
       "</style>\n",
       "<table border=\"1\" class=\"dataframe\">\n",
       "  <thead>\n",
       "    <tr style=\"text-align: right;\">\n",
       "      <th></th>\n",
       "      <th>Wine</th>\n",
       "      <th>Alcohol</th>\n",
       "      <th>Malic.acid</th>\n",
       "      <th>Ash</th>\n",
       "      <th>Acl</th>\n",
       "      <th>Mg</th>\n",
       "      <th>Phenols</th>\n",
       "      <th>Flavanoids</th>\n",
       "      <th>Nonflavanoid.phenols</th>\n",
       "      <th>Proanth</th>\n",
       "      <th>Color.int</th>\n",
       "      <th>Hue</th>\n",
       "      <th>OD</th>\n",
       "      <th>Proline</th>\n",
       "    </tr>\n",
       "  </thead>\n",
       "  <tbody>\n",
       "    <tr>\n",
       "      <th>0</th>\n",
       "      <td>1</td>\n",
       "      <td>14.23</td>\n",
       "      <td>1.71</td>\n",
       "      <td>2.43</td>\n",
       "      <td>15.6</td>\n",
       "      <td>127</td>\n",
       "      <td>2.80</td>\n",
       "      <td>3.06</td>\n",
       "      <td>0.28</td>\n",
       "      <td>2.29</td>\n",
       "      <td>5.64</td>\n",
       "      <td>1.04</td>\n",
       "      <td>3.92</td>\n",
       "      <td>1065</td>\n",
       "    </tr>\n",
       "    <tr>\n",
       "      <th>1</th>\n",
       "      <td>1</td>\n",
       "      <td>13.20</td>\n",
       "      <td>1.78</td>\n",
       "      <td>2.14</td>\n",
       "      <td>11.2</td>\n",
       "      <td>100</td>\n",
       "      <td>2.65</td>\n",
       "      <td>2.76</td>\n",
       "      <td>0.26</td>\n",
       "      <td>1.28</td>\n",
       "      <td>4.38</td>\n",
       "      <td>1.05</td>\n",
       "      <td>3.40</td>\n",
       "      <td>1050</td>\n",
       "    </tr>\n",
       "    <tr>\n",
       "      <th>2</th>\n",
       "      <td>1</td>\n",
       "      <td>13.16</td>\n",
       "      <td>2.36</td>\n",
       "      <td>2.67</td>\n",
       "      <td>18.6</td>\n",
       "      <td>101</td>\n",
       "      <td>2.80</td>\n",
       "      <td>3.24</td>\n",
       "      <td>0.30</td>\n",
       "      <td>2.81</td>\n",
       "      <td>5.68</td>\n",
       "      <td>1.03</td>\n",
       "      <td>3.17</td>\n",
       "      <td>1185</td>\n",
       "    </tr>\n",
       "    <tr>\n",
       "      <th>3</th>\n",
       "      <td>1</td>\n",
       "      <td>14.37</td>\n",
       "      <td>1.95</td>\n",
       "      <td>2.50</td>\n",
       "      <td>16.8</td>\n",
       "      <td>113</td>\n",
       "      <td>3.85</td>\n",
       "      <td>3.49</td>\n",
       "      <td>0.24</td>\n",
       "      <td>2.18</td>\n",
       "      <td>7.80</td>\n",
       "      <td>0.86</td>\n",
       "      <td>3.45</td>\n",
       "      <td>1480</td>\n",
       "    </tr>\n",
       "    <tr>\n",
       "      <th>4</th>\n",
       "      <td>1</td>\n",
       "      <td>13.24</td>\n",
       "      <td>2.59</td>\n",
       "      <td>2.87</td>\n",
       "      <td>21.0</td>\n",
       "      <td>118</td>\n",
       "      <td>2.80</td>\n",
       "      <td>2.69</td>\n",
       "      <td>0.39</td>\n",
       "      <td>1.82</td>\n",
       "      <td>4.32</td>\n",
       "      <td>1.04</td>\n",
       "      <td>2.93</td>\n",
       "      <td>735</td>\n",
       "    </tr>\n",
       "  </tbody>\n",
       "</table>\n",
       "</div>"
      ],
      "text/plain": [
       "   Wine  Alcohol  Malic.acid   Ash   Acl   Mg  Phenols  Flavanoids  \\\n",
       "0     1    14.23        1.71  2.43  15.6  127     2.80        3.06   \n",
       "1     1    13.20        1.78  2.14  11.2  100     2.65        2.76   \n",
       "2     1    13.16        2.36  2.67  18.6  101     2.80        3.24   \n",
       "3     1    14.37        1.95  2.50  16.8  113     3.85        3.49   \n",
       "4     1    13.24        2.59  2.87  21.0  118     2.80        2.69   \n",
       "\n",
       "   Nonflavanoid.phenols  Proanth  Color.int   Hue    OD  Proline  \n",
       "0                  0.28     2.29       5.64  1.04  3.92     1065  \n",
       "1                  0.26     1.28       4.38  1.05  3.40     1050  \n",
       "2                  0.30     2.81       5.68  1.03  3.17     1185  \n",
       "3                  0.24     2.18       7.80  0.86  3.45     1480  \n",
       "4                  0.39     1.82       4.32  1.04  2.93      735  "
      ]
     },
     "execution_count": 107,
     "metadata": {},
     "output_type": "execute_result"
    }
   ],
   "source": [
    "wine = pd.read_csv('wine.csv')\n",
    "wine.head()"
   ]
  },
  {
   "cell_type": "code",
   "execution_count": 484,
   "metadata": {},
   "outputs": [
    {
     "data": {
      "text/plain": [
       "(19.494943820224719, 19.5, 0    20.0\n",
       " dtype: float64)"
      ]
     },
     "execution_count": 484,
     "metadata": {},
     "output_type": "execute_result"
    },
    {
     "data": {
      "image/png": "[encoded data removed]",
      "text/plain": [
       "<matplotlib.figure.Figure at 0x11fe47198>"
      ]
     },
     "metadata": {},
     "output_type": "display_data"
    }
   ],
   "source": [
    "wine['Acl'].hist() \n",
    "plt.axvline(wine['Acl'].mean(), color='r', label = 'mean')\n",
    "plt.axvline(wine['Acl'].median(), color='k', linestyle='dashed', label = 'median')\n",
    "plt.legend()\n",
    "\n",
    "wine['Acl'].mean(), wine['Acl'].median(), wine['Acl'].mode()"
   ]
  },
  {
   "cell_type": "markdown",
   "metadata": {},
   "source": [
    "### Normal Distribution\n",
    "\n",
    "    Mean, median and mode are very close to each other\n",
    "    Mean is the best measure of center. \n",
    "    Standard Deviation is the best measure of spread.\n",
    "    "
   ]
  },
  {
   "cell_type": "code",
   "execution_count": 487,
   "metadata": {},
   "outputs": [
    {
     "data": {
      "text/plain": [
       "(746.89325842696633, 673.5, 0    520\n",
       " 1    680\n",
       " dtype: int64)"
      ]
     },
     "execution_count": 487,
     "metadata": {},
     "output_type": "execute_result"
    },
    {
     "data": {
      "image/png": "[encoded data removed]",
      "text/plain": [
       "<matplotlib.figure.Figure at 0x11fdd8c88>"
      ]
     },
     "metadata": {},
     "output_type": "display_data"
    }
   ],
   "source": [
    "wine['Proline'].hist()\n",
    "plt.axvline(wine['Proline'].mean(), color='r', linestyle='dashed', label = 'mean')\n",
    "plt.axvline(wine['Proline'].median(), color='k', linestyle='dashed', label = 'median')\n",
    "plt.legend()\n",
    "\n",
    "wine['Proline'].mean(), wine['Proline'].median(), wine['Proline'].mode()"
   ]
  },
  {
   "cell_type": "markdown",
   "metadata": {},
   "source": [
    "### Skewed Distribution\n",
    "\n",
    "When distribution is skewed to the right, mean gets pulled to the right. \n",
    "When distribution is skewed to the left, mean gets pulled to the left\n",
    "\n",
    "    Median is the best measure of center\n",
    "    IQR is the best measure of spread - difference between the first and the third quartiles"
   ]
  },
  {
   "cell_type": "markdown",
   "metadata": {},
   "source": [
    "### z-score\n",
    "\n",
    "Number of standard deviations from the mean.\n",
    "\n",
    "\\begin{equation*}\n",
    "z = \\frac{x - mean(x)} {std(x)}\n",
    "\\end{equation*}\n",
    "\n",
    "\n",
    "    For normal distribution, \n",
    "    68% of values will fall between -1 and +1 z-score\n",
    "    95% of the cases will fall between -2 and +2 \n",
    "    99.7% will fall between -3 and +3.\n"
   ]
  },
  {
   "cell_type": "code",
   "execution_count": 489,
   "metadata": {},
   "outputs": [
    {
     "data": {
      "text/plain": [
       "<matplotlib.lines.Line2D at 0x11ddfefd0>"
      ]
     },
     "execution_count": 489,
     "metadata": {},
     "output_type": "execute_result"
    },
    {
     "data": {
      "image/png": "[encoded data removed]",
      "text/plain": [
       "<matplotlib.figure.Figure at 0x110ed4b38>"
      ]
     },
     "metadata": {},
     "output_type": "display_data"
    }
   ],
   "source": [
    "x = np.random.randn(10000)\n",
    "fig, ax = plt.subplots()\n",
    "ax = sns.distplot(x)\n",
    "ax.axvline(x.mean() - x.std(), color='r')\n",
    "ax.axvline(x.mean() + x.std(), color='r')\n",
    "\n",
    "ax.axvline(x.mean() - 2 * x.std(), color='r')\n",
    "ax.axvline(x.mean() + 2 * x.std(), color='r')\n",
    "\n",
    "ax.axvline(x.mean() - 3 * x.std(), color='r')\n",
    "ax.axvline(x.mean() + 3 * x.std(), color='r')\n"
   ]
  },
  {
   "cell_type": "code",
   "execution_count": 448,
   "metadata": {},
   "outputs": [
    {
     "data": {
      "text/plain": [
       "(0.7, 0.8)"
      ]
     },
     "execution_count": 448,
     "metadata": {},
     "output_type": "execute_result"
    }
   ],
   "source": [
    "# Compare scores of a student X in exam 1 vs exam 2.\n",
    "# Exam1: mean - 165, std 10, score 172\n",
    "# Exam2: mean - 30, std 5, score 34\n",
    "\n",
    "#Solution: \n",
    "\n",
    "Exam_1 = (172-165)/10\n",
    "Exam_2 = (34-30)/5\n",
    "\n",
    "Exam_1, Exam_2\n",
    "\n",
    "#Student X performed better in exam 2"
   ]
  },
  {
   "cell_type": "markdown",
   "metadata": {},
   "source": [
    "### Probability distributions:\n",
    "\n",
    "#### Probability density function: For a continuous function,pdf is the probability that the variate has the value x. In other words, the density of probability (probability per unit random variable) at that particular value of X\n",
    "\n",
    "#### Cumulative distribution function:  cdf is the probability that the variable takes a value less than or equal to x.\n",
    "\n",
    "#### Percent point function (Quantile function):  Inverse of the cumulative distribution function. Given the probability, compute the corresponding x for the cumulative distribution\n",
    "\n",
    "#### Survival function: The probability that the variate takes a value greater than x.\n"
   ]
  },
  {
   "cell_type": "code",
   "execution_count": 491,
   "metadata": {},
   "outputs": [
    {
     "data": {
      "text/plain": [
       "0.15865525393145707"
      ]
     },
     "execution_count": 491,
     "metadata": {},
     "output_type": "execute_result"
    }
   ],
   "source": [
    "# The machines in a factory on an average produce 100 tshirts with a standard deviation of 10. \n",
    "# What is the probability that a random machine produces less than 90 tshirts?\n",
    "\n",
    "scipy.stats.norm(100, 10).cdf(90)\n"
   ]
  },
  {
   "cell_type": "code",
   "execution_count": 450,
   "metadata": {},
   "outputs": [
    {
     "data": {
      "text/plain": [
       "18.46728044042721"
      ]
     },
     "execution_count": 450,
     "metadata": {},
     "output_type": "execute_result"
    }
   ],
   "source": [
    "#HB level of an adult male is 16 with a standard deviation of 1.5. What HB level represents the 95th percentile?\n",
    "\n",
    "scipy.stats.norm(16, 1.5).ppf(.95)"
   ]
  },
  {
   "cell_type": "code",
   "execution_count": 280,
   "metadata": {},
   "outputs": [
    {
     "data": {
      "text/plain": [
       "20.654391191455815"
      ]
     },
     "execution_count": 280,
     "metadata": {},
     "output_type": "execute_result"
    }
   ],
   "source": [
    "# Given the house prices, with population mean = 70, standard deviation = 30\n",
    "\n",
    "# Find probability that the price is less than 60\n",
    "scipy.stats.norm.cdf(x = 60, loc=70, scale=30)\n",
    "\n",
    "# Find probability that the price is greater than 50\n",
    "scipy.stats.norm.sf(x = 50, loc=70, scale=30) # 1 - cdf\n",
    "\n",
    "# Probability that the price is between 60 and 70\n",
    "scipy.stats.norm.cdf(x = 70,loc = 70, scale = 30) - scipy.stats.norm.cdf(x = 60,loc = 70, scale = 30)\n",
    "\n",
    "# How much do the top 10% most expensive house cost at least?\n",
    "scipy.stats.norm.isf(q = 0.1, loc = 70, scale = 30)\n",
    "\n",
    "# How much would bottom 5% houses cost at least?\n",
    "scipy.stats.norm.ppf(q = 0.05, loc = 70, scale = 30)\n"
   ]
  },
  {
   "cell_type": "code",
   "execution_count": 281,
   "metadata": {},
   "outputs": [
    {
     "data": {
      "text/plain": [
       "0.97499976712236902"
      ]
     },
     "execution_count": 281,
     "metadata": {},
     "output_type": "execute_result"
    }
   ],
   "source": [
    "scipy.stats.norm.ppf(q = 0.975)\n",
    "scipy.stats.norm.cdf(x = 1.95996)"
   ]
  },
  {
   "cell_type": "markdown",
   "metadata": {},
   "source": [
    "### Correlation:\n",
    "    \n",
    "Magnitude and direction of Linear relationship between two quantitative variables\n",
    "\n",
    "#### Pearson correlation coefficient: \n",
    "\n",
    "    Measurement of the relationship between the two variables\n",
    "    Represented by r\n",
    "    It's always between -1 to 1 (-1 Perfect Negative and 1 Perfect Positive correlation)\n"
   ]
  },
  {
   "cell_type": "code",
   "execution_count": 96,
   "metadata": {},
   "outputs": [
    {
     "data": {
      "text/plain": [
       "<matplotlib.collections.PathCollection at 0x10bd10438>"
      ]
     },
     "execution_count": 96,
     "metadata": {},
     "output_type": "execute_result"
    },
    {
     "data": {
      "image/png": "[encoded data removed]",
      "text/plain": [
       "<matplotlib.figure.Figure at 0x10ada3f60>"
      ]
     },
     "metadata": {},
     "output_type": "display_data"
    }
   ],
   "source": [
    "# Positive Correlation\n",
    "\n",
    "plt.scatter(wine['Phenols'].values, wine['Flavanoids'].values)\n"
   ]
  },
  {
   "cell_type": "code",
   "execution_count": 98,
   "metadata": {},
   "outputs": [
    {
     "data": {
      "text/plain": [
       "<matplotlib.collections.PathCollection at 0x10be0d748>"
      ]
     },
     "execution_count": 98,
     "metadata": {},
     "output_type": "execute_result"
    },
    {
     "data": {
      "image/png": "[encoded data removed]",
      "text/plain": [
       "<matplotlib.figure.Figure at 0x10b709dd8>"
      ]
     },
     "metadata": {},
     "output_type": "display_data"
    }
   ],
   "source": [
    "# Negative Correlation\n",
    "\n",
    "plt.scatter(wine['Hue'].values, wine['Malic.acid'].values)"
   ]
  },
  {
   "cell_type": "code",
   "execution_count": 358,
   "metadata": {},
   "outputs": [
    {
     "data": {
      "text/plain": [
       "<matplotlib.collections.PathCollection at 0x115938588>"
      ]
     },
     "execution_count": 358,
     "metadata": {},
     "output_type": "execute_result"
    },
    {
     "data": {
      "image/png": "[encoded data removed]",
      "text/plain": [
       "<matplotlib.figure.Figure at 0x1154ab9e8>"
      ]
     },
     "metadata": {},
     "output_type": "display_data"
    }
   ],
   "source": [
    "# No correlation\n",
    "\n",
    "plt.scatter(wine['Proanth'].values, wine['Ash'].values)"
   ]
  },
  {
   "cell_type": "code",
   "execution_count": 99,
   "metadata": {},
   "outputs": [
    {
     "data": {
      "text/html": [
       "<div>\n",
       "<style>\n",
       "    .dataframe thead tr:only-child th {\n",
       "        text-align: right;\n",
       "    }\n",
       "\n",
       "    .dataframe thead th {\n",
       "        text-align: left;\n",
       "    }\n",
       "\n",
       "    .dataframe tbody tr th {\n",
       "        vertical-align: top;\n",
       "    }\n",
       "</style>\n",
       "<table border=\"1\" class=\"dataframe\">\n",
       "  <thead>\n",
       "    <tr style=\"text-align: right;\">\n",
       "      <th></th>\n",
       "      <th>Wine</th>\n",
       "      <th>Alcohol</th>\n",
       "      <th>Malic.acid</th>\n",
       "      <th>Ash</th>\n",
       "      <th>Acl</th>\n",
       "      <th>Mg</th>\n",
       "      <th>Phenols</th>\n",
       "      <th>Flavanoids</th>\n",
       "      <th>Nonflavanoid.phenols</th>\n",
       "      <th>Proanth</th>\n",
       "      <th>Color.int</th>\n",
       "      <th>Hue</th>\n",
       "      <th>OD</th>\n",
       "      <th>Proline</th>\n",
       "    </tr>\n",
       "  </thead>\n",
       "  <tbody>\n",
       "    <tr>\n",
       "      <th>Wine</th>\n",
       "      <td>1.000000</td>\n",
       "      <td>-0.328222</td>\n",
       "      <td>0.437776</td>\n",
       "      <td>-0.049643</td>\n",
       "      <td>0.517859</td>\n",
       "      <td>-0.209179</td>\n",
       "      <td>-0.719163</td>\n",
       "      <td>-0.847498</td>\n",
       "      <td>0.489109</td>\n",
       "      <td>-0.499130</td>\n",
       "      <td>0.265668</td>\n",
       "      <td>-0.617369</td>\n",
       "      <td>-0.788230</td>\n",
       "      <td>-0.633717</td>\n",
       "    </tr>\n",
       "    <tr>\n",
       "      <th>Alcohol</th>\n",
       "      <td>-0.328222</td>\n",
       "      <td>1.000000</td>\n",
       "      <td>0.094397</td>\n",
       "      <td>0.211545</td>\n",
       "      <td>-0.310235</td>\n",
       "      <td>0.270798</td>\n",
       "      <td>0.289101</td>\n",
       "      <td>0.236815</td>\n",
       "      <td>-0.155929</td>\n",
       "      <td>0.136698</td>\n",
       "      <td>0.546364</td>\n",
       "      <td>-0.071747</td>\n",
       "      <td>0.072343</td>\n",
       "      <td>0.643720</td>\n",
       "    </tr>\n",
       "    <tr>\n",
       "      <th>Malic.acid</th>\n",
       "      <td>0.437776</td>\n",
       "      <td>0.094397</td>\n",
       "      <td>1.000000</td>\n",
       "      <td>0.164045</td>\n",
       "      <td>0.288500</td>\n",
       "      <td>-0.054575</td>\n",
       "      <td>-0.335167</td>\n",
       "      <td>-0.411007</td>\n",
       "      <td>0.292977</td>\n",
       "      <td>-0.220746</td>\n",
       "      <td>0.248985</td>\n",
       "      <td>-0.561296</td>\n",
       "      <td>-0.368710</td>\n",
       "      <td>-0.192011</td>\n",
       "    </tr>\n",
       "    <tr>\n",
       "      <th>Ash</th>\n",
       "      <td>-0.049643</td>\n",
       "      <td>0.211545</td>\n",
       "      <td>0.164045</td>\n",
       "      <td>1.000000</td>\n",
       "      <td>0.443367</td>\n",
       "      <td>0.286587</td>\n",
       "      <td>0.128980</td>\n",
       "      <td>0.115077</td>\n",
       "      <td>0.186230</td>\n",
       "      <td>0.009652</td>\n",
       "      <td>0.258887</td>\n",
       "      <td>-0.074667</td>\n",
       "      <td>0.003911</td>\n",
       "      <td>0.223626</td>\n",
       "    </tr>\n",
       "    <tr>\n",
       "      <th>Acl</th>\n",
       "      <td>0.517859</td>\n",
       "      <td>-0.310235</td>\n",
       "      <td>0.288500</td>\n",
       "      <td>0.443367</td>\n",
       "      <td>1.000000</td>\n",
       "      <td>-0.083333</td>\n",
       "      <td>-0.321113</td>\n",
       "      <td>-0.351370</td>\n",
       "      <td>0.361922</td>\n",
       "      <td>-0.197327</td>\n",
       "      <td>0.018732</td>\n",
       "      <td>-0.273955</td>\n",
       "      <td>-0.276769</td>\n",
       "      <td>-0.440597</td>\n",
       "    </tr>\n",
       "    <tr>\n",
       "      <th>Mg</th>\n",
       "      <td>-0.209179</td>\n",
       "      <td>0.270798</td>\n",
       "      <td>-0.054575</td>\n",
       "      <td>0.286587</td>\n",
       "      <td>-0.083333</td>\n",
       "      <td>1.000000</td>\n",
       "      <td>0.214401</td>\n",
       "      <td>0.195784</td>\n",
       "      <td>-0.256294</td>\n",
       "      <td>0.236441</td>\n",
       "      <td>0.199950</td>\n",
       "      <td>0.055398</td>\n",
       "      <td>0.066004</td>\n",
       "      <td>0.393351</td>\n",
       "    </tr>\n",
       "    <tr>\n",
       "      <th>Phenols</th>\n",
       "      <td>-0.719163</td>\n",
       "      <td>0.289101</td>\n",
       "      <td>-0.335167</td>\n",
       "      <td>0.128980</td>\n",
       "      <td>-0.321113</td>\n",
       "      <td>0.214401</td>\n",
       "      <td>1.000000</td>\n",
       "      <td>0.864564</td>\n",
       "      <td>-0.449935</td>\n",
       "      <td>0.612413</td>\n",
       "      <td>-0.055136</td>\n",
       "      <td>0.433681</td>\n",
       "      <td>0.699949</td>\n",
       "      <td>0.498115</td>\n",
       "    </tr>\n",
       "    <tr>\n",
       "      <th>Flavanoids</th>\n",
       "      <td>-0.847498</td>\n",
       "      <td>0.236815</td>\n",
       "      <td>-0.411007</td>\n",
       "      <td>0.115077</td>\n",
       "      <td>-0.351370</td>\n",
       "      <td>0.195784</td>\n",
       "      <td>0.864564</td>\n",
       "      <td>1.000000</td>\n",
       "      <td>-0.537900</td>\n",
       "      <td>0.652692</td>\n",
       "      <td>-0.172379</td>\n",
       "      <td>0.543479</td>\n",
       "      <td>0.787194</td>\n",
       "      <td>0.494193</td>\n",
       "    </tr>\n",
       "    <tr>\n",
       "      <th>Nonflavanoid.phenols</th>\n",
       "      <td>0.489109</td>\n",
       "      <td>-0.155929</td>\n",
       "      <td>0.292977</td>\n",
       "      <td>0.186230</td>\n",
       "      <td>0.361922</td>\n",
       "      <td>-0.256294</td>\n",
       "      <td>-0.449935</td>\n",
       "      <td>-0.537900</td>\n",
       "      <td>1.000000</td>\n",
       "      <td>-0.365845</td>\n",
       "      <td>0.139057</td>\n",
       "      <td>-0.262640</td>\n",
       "      <td>-0.503270</td>\n",
       "      <td>-0.311385</td>\n",
       "    </tr>\n",
       "    <tr>\n",
       "      <th>Proanth</th>\n",
       "      <td>-0.499130</td>\n",
       "      <td>0.136698</td>\n",
       "      <td>-0.220746</td>\n",
       "      <td>0.009652</td>\n",
       "      <td>-0.197327</td>\n",
       "      <td>0.236441</td>\n",
       "      <td>0.612413</td>\n",
       "      <td>0.652692</td>\n",
       "      <td>-0.365845</td>\n",
       "      <td>1.000000</td>\n",
       "      <td>-0.025250</td>\n",
       "      <td>0.295544</td>\n",
       "      <td>0.519067</td>\n",
       "      <td>0.330417</td>\n",
       "    </tr>\n",
       "    <tr>\n",
       "      <th>Color.int</th>\n",
       "      <td>0.265668</td>\n",
       "      <td>0.546364</td>\n",
       "      <td>0.248985</td>\n",
       "      <td>0.258887</td>\n",
       "      <td>0.018732</td>\n",
       "      <td>0.199950</td>\n",
       "      <td>-0.055136</td>\n",
       "      <td>-0.172379</td>\n",
       "      <td>0.139057</td>\n",
       "      <td>-0.025250</td>\n",
       "      <td>1.000000</td>\n",
       "      <td>-0.521813</td>\n",
       "      <td>-0.428815</td>\n",
       "      <td>0.316100</td>\n",
       "    </tr>\n",
       "    <tr>\n",
       "      <th>Hue</th>\n",
       "      <td>-0.617369</td>\n",
       "      <td>-0.071747</td>\n",
       "      <td>-0.561296</td>\n",
       "      <td>-0.074667</td>\n",
       "      <td>-0.273955</td>\n",
       "      <td>0.055398</td>\n",
       "      <td>0.433681</td>\n",
       "      <td>0.543479</td>\n",
       "      <td>-0.262640</td>\n",
       "      <td>0.295544</td>\n",
       "      <td>-0.521813</td>\n",
       "      <td>1.000000</td>\n",
       "      <td>0.565468</td>\n",
       "      <td>0.236183</td>\n",
       "    </tr>\n",
       "    <tr>\n",
       "      <th>OD</th>\n",
       "      <td>-0.788230</td>\n",
       "      <td>0.072343</td>\n",
       "      <td>-0.368710</td>\n",
       "      <td>0.003911</td>\n",
       "      <td>-0.276769</td>\n",
       "      <td>0.066004</td>\n",
       "      <td>0.699949</td>\n",
       "      <td>0.787194</td>\n",
       "      <td>-0.503270</td>\n",
       "      <td>0.519067</td>\n",
       "      <td>-0.428815</td>\n",
       "      <td>0.565468</td>\n",
       "      <td>1.000000</td>\n",
       "      <td>0.312761</td>\n",
       "    </tr>\n",
       "    <tr>\n",
       "      <th>Proline</th>\n",
       "      <td>-0.633717</td>\n",
       "      <td>0.643720</td>\n",
       "      <td>-0.192011</td>\n",
       "      <td>0.223626</td>\n",
       "      <td>-0.440597</td>\n",
       "      <td>0.393351</td>\n",
       "      <td>0.498115</td>\n",
       "      <td>0.494193</td>\n",
       "      <td>-0.311385</td>\n",
       "      <td>0.330417</td>\n",
       "      <td>0.316100</td>\n",
       "      <td>0.236183</td>\n",
       "      <td>0.312761</td>\n",
       "      <td>1.000000</td>\n",
       "    </tr>\n",
       "  </tbody>\n",
       "</table>\n",
       "</div>"
      ],
      "text/plain": [
       "                          Wine   Alcohol  Malic.acid       Ash       Acl  \\\n",
       "Wine                  1.000000 -0.328222    0.437776 -0.049643  0.517859   \n",
       "Alcohol              -0.328222  1.000000    0.094397  0.211545 -0.310235   \n",
       "Malic.acid            0.437776  0.094397    1.000000  0.164045  0.288500   \n",
       "Ash                  -0.049643  0.211545    0.164045  1.000000  0.443367   \n",
       "Acl                   0.517859 -0.310235    0.288500  0.443367  1.000000   \n",
       "Mg                   -0.209179  0.270798   -0.054575  0.286587 -0.083333   \n",
       "Phenols              -0.719163  0.289101   -0.335167  0.128980 -0.321113   \n",
       "Flavanoids           -0.847498  0.236815   -0.411007  0.115077 -0.351370   \n",
       "Nonflavanoid.phenols  0.489109 -0.155929    0.292977  0.186230  0.361922   \n",
       "Proanth              -0.499130  0.136698   -0.220746  0.009652 -0.197327   \n",
       "Color.int             0.265668  0.546364    0.248985  0.258887  0.018732   \n",
       "Hue                  -0.617369 -0.071747   -0.561296 -0.074667 -0.273955   \n",
       "OD                   -0.788230  0.072343   -0.368710  0.003911 -0.276769   \n",
       "Proline              -0.633717  0.643720   -0.192011  0.223626 -0.440597   \n",
       "\n",
       "                            Mg   Phenols  Flavanoids  Nonflavanoid.phenols  \\\n",
       "Wine                 -0.209179 -0.719163   -0.847498              0.489109   \n",
       "Alcohol               0.270798  0.289101    0.236815             -0.155929   \n",
       "Malic.acid           -0.054575 -0.335167   -0.411007              0.292977   \n",
       "Ash                   0.286587  0.128980    0.115077              0.186230   \n",
       "Acl                  -0.083333 -0.321113   -0.351370              0.361922   \n",
       "Mg                    1.000000  0.214401    0.195784             -0.256294   \n",
       "Phenols               0.214401  1.000000    0.864564             -0.449935   \n",
       "Flavanoids            0.195784  0.864564    1.000000             -0.537900   \n",
       "Nonflavanoid.phenols -0.256294 -0.449935   -0.537900              1.000000   \n",
       "Proanth               0.236441  0.612413    0.652692             -0.365845   \n",
       "Color.int             0.199950 -0.055136   -0.172379              0.139057   \n",
       "Hue                   0.055398  0.433681    0.543479             -0.262640   \n",
       "OD                    0.066004  0.699949    0.787194             -0.503270   \n",
       "Proline               0.393351  0.498115    0.494193             -0.311385   \n",
       "\n",
       "                       Proanth  Color.int       Hue        OD   Proline  \n",
       "Wine                 -0.499130   0.265668 -0.617369 -0.788230 -0.633717  \n",
       "Alcohol               0.136698   0.546364 -0.071747  0.072343  0.643720  \n",
       "Malic.acid           -0.220746   0.248985 -0.561296 -0.368710 -0.192011  \n",
       "Ash                   0.009652   0.258887 -0.074667  0.003911  0.223626  \n",
       "Acl                  -0.197327   0.018732 -0.273955 -0.276769 -0.440597  \n",
       "Mg                    0.236441   0.199950  0.055398  0.066004  0.393351  \n",
       "Phenols               0.612413  -0.055136  0.433681  0.699949  0.498115  \n",
       "Flavanoids            0.652692  -0.172379  0.543479  0.787194  0.494193  \n",
       "Nonflavanoid.phenols -0.365845   0.139057 -0.262640 -0.503270 -0.311385  \n",
       "Proanth               1.000000  -0.025250  0.295544  0.519067  0.330417  \n",
       "Color.int            -0.025250   1.000000 -0.521813 -0.428815  0.316100  \n",
       "Hue                   0.295544  -0.521813  1.000000  0.565468  0.236183  \n",
       "OD                    0.519067  -0.428815  0.565468  1.000000  0.312761  \n",
       "Proline               0.330417   0.316100  0.236183  0.312761  1.000000  "
      ]
     },
     "execution_count": 99,
     "metadata": {},
     "output_type": "execute_result"
    }
   ],
   "source": [
    "wine.corr()"
   ]
  },
  {
   "cell_type": "code",
   "execution_count": 365,
   "metadata": {},
   "outputs": [
    {
     "data": {
      "image/png": "[encoded data removed]",
      "text/plain": [
       "<matplotlib.figure.Figure at 0x11c79e208>"
      ]
     },
     "metadata": {},
     "output_type": "display_data"
    }
   ],
   "source": [
    "fig, ax = plt.subplots(figsize=(10,10)) \n",
    "ax = sns.heatmap(wine.iloc[:,1:].corr(), annot = True)"
   ]
  },
  {
   "cell_type": "code",
   "execution_count": 497,
   "metadata": {},
   "outputs": [
    {
     "data": {
      "text/plain": [
       "0.12540534303323389"
      ]
     },
     "execution_count": 497,
     "metadata": {},
     "output_type": "execute_result"
    },
    {
     "data": {
      "image/png": "[encoded data removed]",
      "text/plain": [
       "<matplotlib.figure.Figure at 0x11dd49f60>"
      ]
     },
     "metadata": {},
     "output_type": "display_data"
    }
   ],
   "source": [
    "x = np.arange(20)\n",
    "y = [5,4,6,7,9,8,9,10,9,11,10,11,9,9,11,9,7,6,6,5]\n",
    "plt.scatter(x,y)\n",
    "\n",
    "from scipy.stats import linregress\n",
    "slope, intercept, r_value, p_value, stderr = linregress(x, y) #slope of the regression line, intercept of the regression line, correlation coefficient, two-sided p-value for a hypothesis test whose null hypothesis is that the slope is zero, Standard error of the estimate\n",
    "\n",
    "y1 = slope * x + intercept\n",
    "plt.plot(x, y, 'o', x, y1, '--')\n",
    "r_value"
   ]
  },
  {
   "cell_type": "markdown",
   "metadata": {},
   "source": [
    "\n",
    "Pearson correlation value cannot be used when we don't have a linear relationship."
   ]
  },
  {
   "cell_type": "markdown",
   "metadata": {},
   "source": [
    "### Probability\n",
    "\n",
    "Measure of likelihood of an event occuring\n",
    "Always between 0 and 1\n",
    "\n",
    "Eg: \n",
    "1. Toss a fair coin. P of head and tail - 0.5\n",
    "2. Roll a dice, probability of the number being 1 - 1/6\n",
    "3. Roll a dice, probability of the number being odd - 3/6 == 1/2\n",
    "\n",
    "#### Joint Probabilty (Independent, Mutually exclusive, not mutually exclusive events)\n",
    "\n",
    "Independent Events: Occurrence of one event does not influence the occurrence of the other. For example: when tossing two coins, the result of one flip does not affect the result of the other.\n",
    "\n",
    "1. Toss two fair coins(A and B), probability of both being heads - p(A) * p(B) = 0.25\n",
    "2. Probability of it raining in monsoon in Mumbai(0.9), probability of Trump goofing up in his tweets (0.8). p(both) = 0.9 * 0.8 = .72\n",
    "\n",
    "\n",
    "Mutually exclusive Events: The occurrence of one event excludes the occurrence of the other. Mutually exclusive events cannot happen at the same time. For example: when tossing a coin, the result can either be heads or tails but cannot be both.\n",
    "\n",
    "Toss a fair coin, probability of it being head or tail = P(A) + P(B) = 1\n",
    "\n",
    "\n",
    "#### Conditional Probability (Dependent Events)\n",
    "\n",
    "Probability that something will happen, given that something else has already happened.\n"
   ]
  },
  {
   "cell_type": "markdown",
   "metadata": {},
   "source": [
    "### Correlation in categorical variables \n",
    "\n",
    "#### Contingency table: Intersection of characteristics of two variables"
   ]
  },
  {
   "cell_type": "code",
   "execution_count": 502,
   "metadata": {},
   "outputs": [
    {
     "data": {
      "text/html": [
       "<div>\n",
       "<style>\n",
       "    .dataframe thead tr:only-child th {\n",
       "        text-align: right;\n",
       "    }\n",
       "\n",
       "    .dataframe thead th {\n",
       "        text-align: left;\n",
       "    }\n",
       "\n",
       "    .dataframe tbody tr th {\n",
       "        vertical-align: top;\n",
       "    }\n",
       "</style>\n",
       "<table border=\"1\" class=\"dataframe\">\n",
       "  <thead>\n",
       "    <tr style=\"text-align: right;\">\n",
       "      <th></th>\n",
       "      <th>Cancer</th>\n",
       "      <th>Smoker</th>\n",
       "    </tr>\n",
       "  </thead>\n",
       "  <tbody>\n",
       "    <tr>\n",
       "      <th>0</th>\n",
       "      <td>1</td>\n",
       "      <td>1</td>\n",
       "    </tr>\n",
       "    <tr>\n",
       "      <th>1</th>\n",
       "      <td>0</td>\n",
       "      <td>0</td>\n",
       "    </tr>\n",
       "    <tr>\n",
       "      <th>2</th>\n",
       "      <td>0</td>\n",
       "      <td>0</td>\n",
       "    </tr>\n",
       "    <tr>\n",
       "      <th>3</th>\n",
       "      <td>0</td>\n",
       "      <td>0</td>\n",
       "    </tr>\n",
       "    <tr>\n",
       "      <th>4</th>\n",
       "      <td>1</td>\n",
       "      <td>1</td>\n",
       "    </tr>\n",
       "  </tbody>\n",
       "</table>\n",
       "</div>"
      ],
      "text/plain": [
       "   Cancer  Smoker\n",
       "0       1       1\n",
       "1       0       0\n",
       "2       0       0\n",
       "3       0       0\n",
       "4       1       1"
      ]
     },
     "execution_count": 502,
     "metadata": {},
     "output_type": "execute_result"
    }
   ],
   "source": [
    "df = pd.DataFrame({'Cancer': [1,0,0,0,1,1,1,0,0,0,0,0,0,0,1,0,1,0,1,0], 'Smoker': [1,0,0,0,1,1,0,1,0,0,1,1,0,0,0,1,1,1,1,0]})\n",
    "df.head()"
   ]
  },
  {
   "cell_type": "code",
   "execution_count": 500,
   "metadata": {},
   "outputs": [
    {
     "data": {
      "text/html": [
       "<div>\n",
       "<style>\n",
       "    .dataframe thead tr:only-child th {\n",
       "        text-align: right;\n",
       "    }\n",
       "\n",
       "    .dataframe thead th {\n",
       "        text-align: left;\n",
       "    }\n",
       "\n",
       "    .dataframe tbody tr th {\n",
       "        vertical-align: top;\n",
       "    }\n",
       "</style>\n",
       "<table border=\"1\" class=\"dataframe\">\n",
       "  <thead>\n",
       "    <tr style=\"text-align: right;\">\n",
       "      <th>Cancer</th>\n",
       "      <th>0</th>\n",
       "      <th>1</th>\n",
       "    </tr>\n",
       "    <tr>\n",
       "      <th>Smoker</th>\n",
       "      <th></th>\n",
       "      <th></th>\n",
       "    </tr>\n",
       "  </thead>\n",
       "  <tbody>\n",
       "    <tr>\n",
       "      <th>0</th>\n",
       "      <td>0.8</td>\n",
       "      <td>0.2</td>\n",
       "    </tr>\n",
       "    <tr>\n",
       "      <th>1</th>\n",
       "      <td>0.5</td>\n",
       "      <td>0.5</td>\n",
       "    </tr>\n",
       "  </tbody>\n",
       "</table>\n",
       "</div>"
      ],
      "text/plain": [
       "Cancer    0    1\n",
       "Smoker          \n",
       "0       0.8  0.2\n",
       "1       0.5  0.5"
      ]
     },
     "execution_count": 500,
     "metadata": {},
     "output_type": "execute_result"
    }
   ],
   "source": [
    "pd.crosstab(df['Smoker'],df['Cancer'], normalize= 'index').round(2)"
   ]
  },
  {
   "cell_type": "code",
   "execution_count": 199,
   "metadata": {},
   "outputs": [
    {
     "data": {
      "text/html": [
       "<div>\n",
       "<style>\n",
       "    .dataframe thead tr:only-child th {\n",
       "        text-align: right;\n",
       "    }\n",
       "\n",
       "    .dataframe thead th {\n",
       "        text-align: left;\n",
       "    }\n",
       "\n",
       "    .dataframe tbody tr th {\n",
       "        vertical-align: top;\n",
       "    }\n",
       "</style>\n",
       "<table border=\"1\" class=\"dataframe\">\n",
       "  <thead>\n",
       "    <tr style=\"text-align: right;\">\n",
       "      <th>Cancer</th>\n",
       "      <th>0</th>\n",
       "      <th>1</th>\n",
       "    </tr>\n",
       "    <tr>\n",
       "      <th>Smoker</th>\n",
       "      <th></th>\n",
       "      <th></th>\n",
       "    </tr>\n",
       "  </thead>\n",
       "  <tbody>\n",
       "    <tr>\n",
       "      <th>0</th>\n",
       "      <td>0.62</td>\n",
       "      <td>0.29</td>\n",
       "    </tr>\n",
       "    <tr>\n",
       "      <th>1</th>\n",
       "      <td>0.38</td>\n",
       "      <td>0.71</td>\n",
       "    </tr>\n",
       "  </tbody>\n",
       "</table>\n",
       "</div>"
      ],
      "text/plain": [
       "Cancer     0     1\n",
       "Smoker            \n",
       "0       0.62  0.29\n",
       "1       0.38  0.71"
      ]
     },
     "execution_count": 199,
     "metadata": {},
     "output_type": "execute_result"
    }
   ],
   "source": [
    "pd.crosstab(df['Smoker'],df['Cancer'], normalize='columns').round(2)"
   ]
  },
  {
   "cell_type": "code",
   "execution_count": 503,
   "metadata": {},
   "outputs": [
    {
     "data": {
      "text/html": [
       "<div>\n",
       "<style>\n",
       "    .dataframe thead tr:only-child th {\n",
       "        text-align: right;\n",
       "    }\n",
       "\n",
       "    .dataframe thead th {\n",
       "        text-align: left;\n",
       "    }\n",
       "\n",
       "    .dataframe tbody tr th {\n",
       "        vertical-align: top;\n",
       "    }\n",
       "</style>\n",
       "<table border=\"1\" class=\"dataframe\">\n",
       "  <thead>\n",
       "    <tr style=\"text-align: right;\">\n",
       "      <th>Cancer</th>\n",
       "      <th>No-Cancer</th>\n",
       "      <th>Cancer</th>\n",
       "      <th>Total</th>\n",
       "    </tr>\n",
       "  </thead>\n",
       "  <tbody>\n",
       "    <tr>\n",
       "      <th>Non-Smoker</th>\n",
       "      <td>8</td>\n",
       "      <td>2</td>\n",
       "      <td>10</td>\n",
       "    </tr>\n",
       "    <tr>\n",
       "      <th>Smoker</th>\n",
       "      <td>5</td>\n",
       "      <td>5</td>\n",
       "      <td>10</td>\n",
       "    </tr>\n",
       "    <tr>\n",
       "      <th>Total</th>\n",
       "      <td>13</td>\n",
       "      <td>7</td>\n",
       "      <td>20</td>\n",
       "    </tr>\n",
       "  </tbody>\n",
       "</table>\n",
       "</div>"
      ],
      "text/plain": [
       "Cancer      No-Cancer  Cancer  Total\n",
       "Non-Smoker          8       2     10\n",
       "Smoker              5       5     10\n",
       "Total              13       7     20"
      ]
     },
     "execution_count": 503,
     "metadata": {},
     "output_type": "execute_result"
    }
   ],
   "source": [
    "df = pd.crosstab(df['Smoker'],df['Cancer']).reset_index(drop = True).rename({0:'Non-Smoker', 1: 'Smoker'}).rename(columns = {0: 'No-Cancer', 1:'Cancer'})\n",
    "df.loc['Total'] = df.sum()\n",
    "df['Total'] = df.sum(1)\n",
    "df"
   ]
  },
  {
   "cell_type": "markdown",
   "metadata": {},
   "source": [
    "    p(cancer) = 7/20\n",
    "    p(no_cancer) = 13/20\n",
    "    p(smoker) = 10/20\n",
    "    p(non-smoker) = 10/20\n",
    "    p(cancer|smoker) = 5/10\n",
    "    \n",
    "Probability of a smoker getting cancer\n",
    "\n",
    "P(A and B) = P(A) • P(B|A)\n",
    "\n",
    "p(smoker and cancer)  = p(smoker) * P(cancer|smoker) = (1/2) * (1/2)  = .25\n",
    "\n",
    "Find probability of someone with cancer being a smoker.... P(smoker|cancer)???"
   ]
  },
  {
   "cell_type": "markdown",
   "metadata": {},
   "source": [
    "### Bayes Theorm (Reverse conditional probability)\n",
    "\n",
    "#### Bayes theorem\n",
    "\n",
    "p(A|B) = ( p(B|A) * p(A) ) / p(B)\n",
    "\n",
    "p(smoker|cancer) = p(cancer|smoker) * p(smoker) / p(cancer) \n",
    "                 \n",
    "                 = .5 * 0.5 / (7/20)\n",
    "                 \n",
    "                 = 0.714\n",
    "                 "
   ]
  },
  {
   "cell_type": "markdown",
   "metadata": {},
   "source": [
    "#### Suppose that a test for using a particular drug is 99% sensitive and 95% specific. That is, the test will produce 99% true positive results for drug users and 95% true negative results for non-drug users. Suppose that 0.5% of people are users of the drug. What is the probability that a randomly selected individual with a positive test is a user?\n",
    "\n",
    "P(User) = 0.005\n",
    "P(Non-User) = 0.995\n",
    "P(test+|User) = 0.99 (True Positive)\n",
    "P(test-|Non-user) = 0.95 (True Negative)\n",
    "P(test+|Non-user) = 0.05\n",
    "\n",
    "\n",
    "P(User|test+) = P(test+|User) * P(User) / P(test+)\n",
    "\n",
    "              = P(test+|User) * P(User) / P(test+|User) * P(User) + P(test+|non-user) * P(Non-User)\n",
    "\n",
    "              = (0.99 * 0.005) / ((0.99 * 0.005) + (0.05 * 0.995))\n",
    "              \n",
    "              = 0.09 (9%)\n"
   ]
  },
  {
   "cell_type": "markdown",
   "metadata": {},
   "source": [
    "## Models:\n",
    "\n",
    "Functions: Input --- Output\n",
    "\n",
    "Toy manufacturer makes $5 for every toy sold.\n",
    "f(profit) = x * 5"
   ]
  },
  {
   "cell_type": "code",
   "execution_count": 515,
   "metadata": {},
   "outputs": [
    {
     "data": {
      "text/plain": [
       "array([-25, -20, -15, -10,  -5,   0,   5,  10,  15,  20])"
      ]
     },
     "execution_count": 515,
     "metadata": {},
     "output_type": "execute_result"
    },
    {
     "data": {
      "image/png": "[encoded data removed]",
      "text/plain": [
       "<matplotlib.figure.Figure at 0x12171d278>"
      ]
     },
     "metadata": {},
     "output_type": "display_data"
    }
   ],
   "source": [
    "def profit(X):\n",
    "    return X * 5 - 30 # 5 slope, -30 intercept\n",
    "X = np.arange(1,11,1) #independent variable\n",
    "y = profit(X) # dependent variable\n",
    "plt.scatter(X, y)\n",
    "plt.ylabel('profit')\n",
    "plt.xlabel('No of toys')\n",
    "y"
   ]
  },
  {
   "cell_type": "code",
   "execution_count": 508,
   "metadata": {},
   "outputs": [
    {
     "data": {
      "text/plain": [
       "<matplotlib.text.Text at 0x121248358>"
      ]
     },
     "execution_count": 508,
     "metadata": {},
     "output_type": "execute_result"
    },
    {
     "data": {
      "image/png": "[encoded data removed]",
      "text/plain": [
       "<matplotlib.figure.Figure at 0x121223198>"
      ]
     },
     "metadata": {},
     "output_type": "display_data"
    }
   ],
   "source": [
    "# Score made by a batsman vs score made through boundaries in 100 matches \n",
    "\n",
    "X = np.arange(1,101,1)\n",
    "delta = np.random.uniform(-10,10, size=(100,))\n",
    "y = .6 * X + 3 + delta\n",
    "plt.scatter(X, y)\n",
    "plt.xlabel('Score')\n",
    "plt.ylabel('Runs through boundaries')"
   ]
  },
  {
   "cell_type": "code",
   "execution_count": 509,
   "metadata": {},
   "outputs": [
    {
     "data": {
      "text/plain": [
       "(0.58654234940691985, 3.6962889636414715)"
      ]
     },
     "execution_count": 509,
     "metadata": {},
     "output_type": "execute_result"
    }
   ],
   "source": [
    "slope, intercept, r_value, p_value, stderr = linregress(X, y)\n",
    "slope, intercept"
   ]
  },
  {
   "cell_type": "markdown",
   "metadata": {},
   "source": [
    "### Linear Model:\n",
    "\n",
    "For every unit increase in x, the change in y is constant. \n",
    "\n",
    "Model: For every unit increase in runs (X), the score made through boundaries increase by 0.81.\n",
    "y1 = 0.81218 * X + 2.13\n",
    "\n",
    "The data produced by the above graph is not a function but a model as all the data points do not pass the regression line."
   ]
  },
  {
   "cell_type": "code",
   "execution_count": 510,
   "metadata": {},
   "outputs": [
    {
     "data": {
      "text/plain": [
       "0.8956725876272259"
      ]
     },
     "execution_count": 510,
     "metadata": {},
     "output_type": "execute_result"
    },
    {
     "data": {
      "image/png": "[encoded data removed]",
      "text/plain": [
       "<matplotlib.figure.Figure at 0x12132c3c8>"
      ]
     },
     "metadata": {},
     "output_type": "display_data"
    }
   ],
   "source": [
    "y1 = slope * X + intercept\n",
    "plt.plot(X, y, 'o', X, y1, '--')\n",
    "r_value ** 2\n"
   ]
  },
  {
   "cell_type": "markdown",
   "metadata": {},
   "source": [
    "#### Sum of squared errors (Residual sum of squares):\n",
    "\n",
    "    Sum of squares of difference between actual and predicted value of y.\n",
    "    Finding the best fitting line.\n",
    "    Discrepancy between the data and an estimation model. \n",
    "    Small RSS indicates a tight fit of the model to the data.\n",
    "\n",
    "\\begin{equation*}\n",
    "\\sum_{i=1}^n (y_i - \\hat{y_i})^2\n",
    "\\end{equation*}\n",
    "\n",
    "\n",
    "The line of best fit for a linear function is the line that has the lowest value of sums of squared errors among all the possible lines we could draw.\n",
    "\n",
    "#### Root Mean Squared Error:\n",
    "\n",
    "    Square root of the mean of sum of squared errors. \n",
    "    Measure of accuracy, to compare forecasting errors of different models for a particular data.\n",
    "    Larger errors have a disproportionately large effect on RMSE\n",
    "\n",
    "\\begin{equation*}\n",
    "\\sqrt\\frac{\\sum_{i=1}^n (y_i - \\hat{y_i})^2}{n}\n",
    "\\end{equation*}\n"
   ]
  },
  {
   "cell_type": "markdown",
   "metadata": {},
   "source": [
    "#### Coefficient of Determination (R squared) :\n",
    "Pros:\n",
    "\n",
    "    R-square is the square of the correlation between the response values and the predicted response values.\n",
    "    Percentage of variance in the dependent variable that can be explained by the predictors(x variables) together. \n",
    "    It is always between 0 and 1. \n",
    "    Higher R squared value means better correlation.\n",
    "\n",
    "Cons:\n",
    "\n",
    "    Every time a predictor is added to a model, the R-squared increases even though the fit may not improve.\n",
    "    A model with more terms may appear to have a better fit simply because it has more terms.\n",
    "\n",
    "#### Adjusted R Squared:\n",
    "\n",
    "    The adjusted R-squared increases only if the new term improves the model.\n",
    "    It will decrease if the new variables added to the model do not improve the fit.\n",
    "\n",
    "\\begin{equation*}\n",
    "\\bar{R}^2 = R^2 - \\frac{k-1}{n-k}(1-R^2)\n",
    "\\end{equation*}\n",
    "\n",
    "n = No of observations, k = No of parameters"
   ]
  },
  {
   "cell_type": "markdown",
   "metadata": {},
   "source": [
    "### Exponential Model"
   ]
  },
  {
   "cell_type": "code",
   "execution_count": 516,
   "metadata": {},
   "outputs": [
    {
     "data": {
      "text/plain": [
       "<matplotlib.text.Text at 0x121911518>"
      ]
     },
     "execution_count": 516,
     "metadata": {},
     "output_type": "execute_result"
    },
    {
     "data": {
      "image/png": "[encoded data removed]",
      "text/plain": [
       "<matplotlib.figure.Figure at 0x1218a5940>"
      ]
     },
     "metadata": {},
     "output_type": "display_data"
    }
   ],
   "source": [
    "# A type of bacteria triples every minute. Track the growth at the end of 1 hour\n",
    "X = np.arange(1,61,1)\n",
    "delta = np.random.uniform(-50000,50000, size=(60,))\n",
    "y = X**3 + delta\n",
    "plt.scatter(X, y)\n",
    "plt.xlabel('Score')\n",
    "plt.ylabel('Runs through boundaries')"
   ]
  },
  {
   "cell_type": "code",
   "execution_count": 517,
   "metadata": {},
   "outputs": [
    {
     "data": {
      "text/plain": [
       "0.73618180221797025"
      ]
     },
     "execution_count": 517,
     "metadata": {},
     "output_type": "execute_result"
    },
    {
     "data": {
      "image/png": "[encoded data removed]",
      "text/plain": [
       "<matplotlib.figure.Figure at 0x1219f4d30>"
      ]
     },
     "metadata": {},
     "output_type": "display_data"
    }
   ],
   "source": [
    "slope, intercept, r_value, p_value, stderr = linregress(X, y)\n",
    "y1 = slope * X + intercept\n",
    "plt.plot(X, y, 'o', X, y1, '--')\n",
    "r_value ** 2"
   ]
  },
  {
   "cell_type": "code",
   "execution_count": 523,
   "metadata": {},
   "outputs": [
    {
     "data": {
      "text/plain": [
       "[<matplotlib.lines.Line2D at 0x121cd2630>,\n",
       " <matplotlib.lines.Line2D at 0x121cd27b8>]"
      ]
     },
     "execution_count": 523,
     "metadata": {},
     "output_type": "execute_result"
    },
    {
     "data": {
      "image/png": "[encoded data removed]",
      "text/plain": [
       "<matplotlib.figure.Figure at 0x12173a588>"
      ]
     },
     "metadata": {},
     "output_type": "display_data"
    }
   ],
   "source": [
    "z = np.polyfit(X, y, 3)\n",
    "f = np.poly1d(z)\n",
    "\n",
    "y1 = f(X)\n",
    "\n",
    "plt.plot(X, y, 'o', X, y1, '--')\n"
   ]
  },
  {
   "cell_type": "markdown",
   "metadata": {},
   "source": [
    "### Logistic Model\n",
    "\n",
    "In logistic growth, a population's per capita growth rate gets smaller and smaller as population size approaches a maximum imposed by limit, known as the carrying capacity.\n",
    "\n",
    "Egs: \n",
    "The crop yield may increase by increasing value of the growth factor up to a certain level, after which it will flatten.\n",
    "Pierre-François Verhulst derived logistic equation to describe the self-limiting growth of a biological population. The growth of bacteria in broth. K is the limiting value of P, the highest value that the population can reach given infinite time (or come close to reaching in finite time)\n",
    "\n",
    "> $$F(z) = \\frac{1}{1 + e^{-z}}$$\n"
   ]
  },
  {
   "cell_type": "code",
   "execution_count": 329,
   "metadata": {},
   "outputs": [
    {
     "data": {
      "image/png": "[encoded data removed]",
      "text/plain": [
       "<matplotlib.figure.Figure at 0x111367470>"
      ]
     },
     "metadata": {},
     "output_type": "display_data"
    }
   ],
   "source": [
    "import math\n",
    "\n",
    "x = np.arange(-10., 10., 0.2)\n",
    "y = [1/(1+math.exp(-i)) for i in x]\n",
    "plt.plot(x,y)\n",
    "plt.show()"
   ]
  },
  {
   "cell_type": "code",
   "execution_count": 11,
   "metadata": {},
   "outputs": [
    {
     "data": {
      "text/html": [
       "<div>\n",
       "<style>\n",
       "    .dataframe thead tr:only-child th {\n",
       "        text-align: right;\n",
       "    }\n",
       "\n",
       "    .dataframe thead th {\n",
       "        text-align: left;\n",
       "    }\n",
       "\n",
       "    .dataframe tbody tr th {\n",
       "        vertical-align: top;\n",
       "    }\n",
       "</style>\n",
       "<table border=\"1\" class=\"dataframe\">\n",
       "  <thead>\n",
       "    <tr style=\"text-align: right;\">\n",
       "      <th></th>\n",
       "      <th>Cancer</th>\n",
       "      <th>Smoker</th>\n",
       "    </tr>\n",
       "  </thead>\n",
       "  <tbody>\n",
       "    <tr>\n",
       "      <th>0</th>\n",
       "      <td>1</td>\n",
       "      <td>1</td>\n",
       "    </tr>\n",
       "    <tr>\n",
       "      <th>1</th>\n",
       "      <td>0</td>\n",
       "      <td>0</td>\n",
       "    </tr>\n",
       "    <tr>\n",
       "      <th>2</th>\n",
       "      <td>0</td>\n",
       "      <td>0</td>\n",
       "    </tr>\n",
       "    <tr>\n",
       "      <th>3</th>\n",
       "      <td>0</td>\n",
       "      <td>0</td>\n",
       "    </tr>\n",
       "    <tr>\n",
       "      <th>4</th>\n",
       "      <td>1</td>\n",
       "      <td>1</td>\n",
       "    </tr>\n",
       "  </tbody>\n",
       "</table>\n",
       "</div>"
      ],
      "text/plain": [
       "   Cancer  Smoker\n",
       "0       1       1\n",
       "1       0       0\n",
       "2       0       0\n",
       "3       0       0\n",
       "4       1       1"
      ]
     },
     "execution_count": 11,
     "metadata": {},
     "output_type": "execute_result"
    }
   ],
   "source": [
    "df = pd.DataFrame({'Cancer': [1,0,0,0,1,1,1,0,0,0,0,0,0,0,1,0,1,0,1,0], 'Smoker': [1,0,0,0,1,1,0,1,0,0,1,1,0,0,0,1,1,1,1,0]})\n",
    "df.head()"
   ]
  },
  {
   "cell_type": "code",
   "execution_count": 12,
   "metadata": {},
   "outputs": [
    {
     "data": {
      "text/html": [
       "<div>\n",
       "<style>\n",
       "    .dataframe thead tr:only-child th {\n",
       "        text-align: right;\n",
       "    }\n",
       "\n",
       "    .dataframe thead th {\n",
       "        text-align: left;\n",
       "    }\n",
       "\n",
       "    .dataframe tbody tr th {\n",
       "        vertical-align: top;\n",
       "    }\n",
       "</style>\n",
       "<table border=\"1\" class=\"dataframe\">\n",
       "  <thead>\n",
       "    <tr style=\"text-align: right;\">\n",
       "      <th>Smoker</th>\n",
       "      <th>No-Cancer</th>\n",
       "      <th>Cancer</th>\n",
       "    </tr>\n",
       "  </thead>\n",
       "  <tbody>\n",
       "    <tr>\n",
       "      <th>Non-Smoker</th>\n",
       "      <td>8</td>\n",
       "      <td>5</td>\n",
       "    </tr>\n",
       "    <tr>\n",
       "      <th>Smoker</th>\n",
       "      <td>2</td>\n",
       "      <td>5</td>\n",
       "    </tr>\n",
       "  </tbody>\n",
       "</table>\n",
       "</div>"
      ],
      "text/plain": [
       "Smoker      No-Cancer  Cancer\n",
       "Non-Smoker          8       5\n",
       "Smoker              2       5"
      ]
     },
     "execution_count": 12,
     "metadata": {},
     "output_type": "execute_result"
    }
   ],
   "source": [
    "df = pd.crosstab(df['Cancer'],df['Smoker']).reset_index(drop = True).rename({0:'Non-Smoker', 1: 'Smoker'}).rename(columns = {0: 'No-Cancer', 1:'Cancer'})\n",
    "df"
   ]
  },
  {
   "cell_type": "markdown",
   "metadata": {},
   "source": [
    "### Odds ratio and Logistic Regression\n",
    "\n",
    "Probability: Chance of an event occuring\n",
    "\n",
    "Odds: Ratio of favorable outcomes to unfavorable outcomes (p/1-p)\n",
    "\n",
    "Odds Ratio: The odds that an outcome will occur given a exposure, compared to the odds that the outcome will occur in the absence of that exposure. \n",
    "\n",
    "Odds of cancer in smokers (exposure) = No of people with cancer who are smokers/No of people with cancer who are smokers = 5/5\n",
    "\n",
    "Odds of cancer in non-smokers (no exposure) = No of people with no cancer who are non- smokers/No of people with no cancer who are smokers = 8/2\n",
    "\n",
    "Odd ratio = (5/5)/(8/2) = 5 x 2 / 8 x 5 = 1/4\n",
    "\n",
    "The odds of cancer in people who smoke are 4 times greater than the odds of cancer in people who do not smoke.\n",
    "\n",
    "Logit: Log to the base e of odds\n",
    "\n",
    "Logistic regression is in reality an ordinary regression using the logit as the response variable. The logit transformation allows for a linear relationship between the response variable and the coefficients\n",
    "\n",
    "    logit(p) = log(p/(1-p))= β0 + β1*x1 + … + βi*xi\n",
    "    p= exp(β0 + β1*x1 + … + βi*xi)/(1+exp(β0 + β1*x1 + … + βi*xi))\n",
    "\n",
    "We get a linear model but it's modeling the probabilities on a non-linear scale"
   ]
  },
  {
   "cell_type": "code",
   "execution_count": null,
   "metadata": {
    "collapsed": true
   },
   "outputs": [],
   "source": []
  }
 ],
 "metadata": {
  "kernelspec": {
   "display_name": "Python 3",
   "language": "python",
   "name": "python3"
  },
  "language_info": {
   "codemirror_mode": {
    "name": "ipython",
    "version": 3
   },
   "file_extension": ".py",
   "mimetype": "text/x-python",
   "name": "python",
   "nbconvert_exporter": "python",
   "pygments_lexer": "ipython3",
   "version": "3.7.0"
  }
 },
 "nbformat": 4,
 "nbformat_minor": 2
}
