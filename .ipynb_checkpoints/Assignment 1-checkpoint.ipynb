{
 "cells": [
  {
   "cell_type": "markdown",
   "metadata": {},
   "source": [
    "# Assignment 1 - Statistics Fundamental\n",
    "\n",
    "## Consumer spending survey"
   ]
  },
  {
   "cell_type": "code",
   "execution_count": 15,
   "metadata": {
    "scrolled": true
   },
   "outputs": [
    {
     "name": "stdout",
     "output_type": "stream",
     "text": [
      "Mean is 1800.00\n",
      "Median is 1351.00\n",
      "Q1 is 606.00\n",
      "Q3 is 1699.00\n",
      "IQR is 1093.00\n",
      "Variance is 3430282.80\n",
      "Standard deviation is 1852.10\n",
      "Skewness is 1.90\n"
     ]
    }
   ],
   "source": [
    "import numpy as np\n",
    "import scipy.stats as sp\n",
    "\n",
    "data = np.array([236,1710,1351,825,7450,316,4135,1333,1584,387,991,3396,170,1428,1688])\n",
    "\n",
    "print ('Mean is {:4.2f}'.format(data.mean()))\n",
    "print ('Median is {:4.2f}'.format(np.median(data)))\n",
    "print ('Q1 is {:4.2f}'.format(np.quantile(data, 0.25)))\n",
    "print ('Q3 is {:4.2f}'.format(np.quantile(data, 0.75)))\n",
    "print ('IQR is {:4.2f}'.format(np.quantile(data, 0.75) - np.quantile(data, 0.25)))\n",
    "print ('Variance is {:4.2f}'.format(data.var()))\n",
    "print ('Standard deviation is {:4.2f}'.format(data.std()))\n",
    "print ('Skewness is {:4.2f}'.format(sp.skew(data)))"
   ]
  },
  {
   "cell_type": "markdown",
   "metadata": {},
   "source": [
    "Skewness indicates that the distribution is not a normal one (differs greatly from 0), the distribution is left-skewed. The below histogram show this more explicitely.\n",
    "\n",
    "**I think it is expected because most people use their credit cards for small amounts required by daily operations and exceptionnally for unusual large amounts like bying a car or so.**"
   ]
  },
  {
   "cell_type": "code",
   "execution_count": 33,
   "metadata": {},
   "outputs": [
    {
     "data": {
      "text/plain": [
       "<matplotlib.legend.Legend at 0x16c09935be0>"
      ]
     },
     "execution_count": 33,
     "metadata": {},
     "output_type": "execute_result"
    },
    {
     "data": {
      "image/png": "[encoded data removed]",
      "text/plain": [
       "<Figure size 432x288 with 1 Axes>"
      ]
     },
     "metadata": {
      "needs_background": "light"
     },
     "output_type": "display_data"
    }
   ],
   "source": [
    "import pandas as pd\n",
    "import matplotlib.pyplot as plt\n",
    "\n",
    "data_frame = pd.DataFrame({ 'amount': data })\n",
    "data_frame.hist()\n",
    "plt.axvline(data_frame['amount'].mean(), color='r', label = 'mean')\n",
    "plt.axvline(data_frame['amount'].median(), color='k', linestyle='dashed', label = 'median')\n",
    "plt.legend()"
   ]
  },
  {
   "cell_type": "markdown",
   "metadata": {},
   "source": [
    "## The age at the time of first marriage"
   ]
  },
  {
   "cell_type": "code",
   "execution_count": 67,
   "metadata": {},
   "outputs": [
    {
     "name": "stdout",
     "output_type": "stream",
     "text": [
      "Median is 27.00 (M) and 25.00 (W)\n",
      "Q1 is 25.50 (M) and 22.50 (W)\n",
      "Q3 is 28.50 (M) and 26.50 (W)\n"
     ]
    },
    {
     "data": {
      "text/plain": [
       "<matplotlib.legend.Legend at 0x16c0a2a4470>"
      ]
     },
     "execution_count": 67,
     "metadata": {},
     "output_type": "execute_result"
    },
    {
     "data": {
      "image/png": "[encoded data removed]",
      "text/plain": [
       "<Figure size 432x288 with 1 Axes>"
      ]
     },
     "metadata": {
      "needs_background": "light"
     },
     "output_type": "display_data"
    }
   ],
   "source": [
    "men_data = np.array([26,23,28,25,27,30,26,35,28,21,24,27,29,30,27])\n",
    "women_data = np.array([20,28,23,30,24,29,26,25,22,22,25,23,27,26,19])\n",
    "\n",
    "print ('Median is {:4.2f} (M) and {:4.2f} (W)'.format(np.median(men_data), np.median(women_data)))\n",
    "print ('Q1 is {:4.2f} (M) and {:4.2f} (W)'.format(np.quantile(men_data, 0.25), np.quantile(women_data, 0.25)))\n",
    "print ('Q3 is {:4.2f} (M) and {:4.2f} (W)'.format(np.quantile(men_data, 0.75), np.quantile(women_data, 0.75)))\n",
    "\n",
    "data_frame = pd.DataFrame({ 'men': men_data, 'women': women_data })\n",
    "data_frame.plot.hist(alpha=0.5)\n",
    "plt.axvline(data_frame['men'].mean(), color='r', label = 'mean (M)')\n",
    "plt.axvline(data_frame['men'].median(), color='k', linestyle='dashed', label = 'median (M)')\n",
    "plt.axvline(data_frame['women'].mean(), color='m', label = 'mean (W)')\n",
    "plt.axvline(data_frame['women'].median(), color='y', linestyle='dashed', label = 'median (W)')\n",
    "plt.legend()"
   ]
  },
  {
   "cell_type": "markdown",
   "metadata": {},
   "source": [
    "**It appear that young people marry later today than previously as the median age has increased for both men and women.**"
   ]
  },
  {
   "cell_type": "markdown",
   "metadata": {},
   "source": [
    "## Dividend yield"
   ]
  },
  {
   "cell_type": "code",
   "execution_count": 54,
   "metadata": {},
   "outputs": [
    {
     "name": "stdout",
     "output_type": "stream",
     "text": [
      "Mean is 2.30\n",
      "Median is 1.85\n",
      "Variance is 1.71\n",
      "Standard deviation is 1.31\n"
     ]
    }
   ],
   "source": [
    "data = np.array([5,0.8,1.8,1.9,2.5,3.7,3.5,1.6,1.5,0.7])\n",
    "\n",
    "print ('Mean is {:4.2f}'.format(data.mean()))\n",
    "print ('Median is {:4.2f}'.format(np.median(data)))\n",
    "print ('Variance is {:4.2f}'.format(data.var()))\n",
    "print ('Standard deviation is {:4.2f}'.format(data.std()))\n"
   ]
  },
  {
   "cell_type": "markdown",
   "metadata": {},
   "source": [
    "**Altria is providing the highest dividend yield**"
   ]
  },
  {
   "cell_type": "markdown",
   "metadata": {},
   "source": [
    "## Student loan"
   ]
  },
  {
   "cell_type": "code",
   "execution_count": 55,
   "metadata": {},
   "outputs": [
    {
     "name": "stdout",
     "output_type": "stream",
     "text": [
      "Mean is 10.00\n",
      "Median is 10.85\n",
      "Variance is 22.18\n",
      "Standard deviation is 4.71\n"
     ]
    }
   ],
   "source": [
    "data = np.array([10.1,14.8,5.0,10.2,12.4,12.2,2.0,11.5,17.8,4.0])\n",
    "\n",
    "print ('Mean is {:4.2f}'.format(data.mean()))\n",
    "print ('Median is {:4.2f}'.format(np.median(data)))\n",
    "print ('Variance is {:4.2f}'.format(data.var()))\n",
    "print ('Standard deviation is {:4.2f}'.format(data.std()))"
   ]
  },
  {
   "cell_type": "markdown",
   "metadata": {},
   "source": [
    "## Tax penalty "
   ]
  },
  {
   "cell_type": "code",
   "execution_count": 82,
   "metadata": {},
   "outputs": [
    {
     "name": "stdout",
     "output_type": "stream",
     "text": [
      "Mean is 670.00\n",
      "Standard deviation is 444.36\n"
     ]
    }
   ],
   "source": [
    "data = np.array([820,270,450,1010,890,700,1350,350,300,1200,390,730,2040,230,640,350,420,270,370,620])\n",
    "\n",
    "print ('Mean is {:4.2f}'.format(data.mean()))\n",
    "print ('Standard deviation is {:4.2f}'.format(data.std()))"
   ]
  },
  {
   "cell_type": "markdown",
   "metadata": {},
   "source": [
    "In order to detect if $2040 is an outlier we can compute its Z-score:"
   ]
  },
  {
   "cell_type": "code",
   "execution_count": 83,
   "metadata": {},
   "outputs": [
    {
     "name": "stdout",
     "output_type": "stream",
     "text": [
      "Z-score is 3.08\n"
     ]
    }
   ],
   "source": [
    "z = (2040 - data.mean()) / data.std()\n",
    "print ('Z-score is {:4.2f}'.format(z))"
   ]
  },
  {
   "cell_type": "markdown",
   "metadata": {},
   "source": [
    "In a population that follows the normal distribution, Z-score values more extreme than +/- 3 have very low probability, less than 0.3%. **So we can suspect an outlier**.\n",
    "\n",
    "However as we don't know if the distribution is a normal one we might use a box plot to get an idea of its distribution and skewness, which can also be computed. **The figure confirms that it is an outlier**."
   ]
  },
  {
   "cell_type": "code",
   "execution_count": 84,
   "metadata": {},
   "outputs": [
    {
     "name": "stdout",
     "output_type": "stream",
     "text": [
      "Skewness is 1.53\n"
     ]
    },
    {
     "data": {
      "text/plain": [
       "<matplotlib.axes._subplots.AxesSubplot at 0x16c0b93fb70>"
      ]
     },
     "execution_count": 84,
     "metadata": {},
     "output_type": "execute_result"
    },
    {
     "data": {
      "image/png": "[encoded data removed]",
      "text/plain": [
       "<Figure size 432x288 with 1 Axes>"
      ]
     },
     "metadata": {
      "needs_background": "light"
     },
     "output_type": "display_data"
    }
   ],
   "source": [
    "print ('Skewness is {:4.2f}'.format(sp.skew(data)))\n",
    "data_frame = pd.DataFrame({ 'tax': data })\n",
    "data_frame.boxplot()"
   ]
  },
  {
   "cell_type": "markdown",
   "metadata": {},
   "source": [
    "Another mean to confirm the outlier and the underlying distribution is not a normal one is to use a Q-Q plot."
   ]
  },
  {
   "cell_type": "code",
   "execution_count": 85,
   "metadata": {},
   "outputs": [
    {
     "data": {
      "text/plain": [
       "((array([-1.8241636 , -1.38768012, -1.11829229, -0.91222575, -0.73908135,\n",
       "         -0.5857176 , -0.44506467, -0.31273668, -0.18568928, -0.06158146,\n",
       "          0.06158146,  0.18568928,  0.31273668,  0.44506467,  0.5857176 ,\n",
       "          0.73908135,  0.91222575,  1.11829229,  1.38768012,  1.8241636 ]),\n",
       "  array([ 230,  270,  270,  300,  350,  350,  370,  390,  420,  450,  620,\n",
       "          640,  700,  730,  820,  890, 1010, 1200, 1350, 2040])),\n",
       " (436.4196875842318, 669.9999999999999, 0.9086301610805405))"
      ]
     },
     "execution_count": 85,
     "metadata": {},
     "output_type": "execute_result"
    },
    {
     "data": {
      "image/png": "[encoded data removed]",
      "text/plain": [
       "<Figure size 432x288 with 1 Axes>"
      ]
     },
     "metadata": {
      "needs_background": "light"
     },
     "output_type": "display_data"
    }
   ],
   "source": [
    "sp.probplot(data, dist=\"norm\", plot=plt)"
   ]
  },
  {
   "cell_type": "markdown",
   "metadata": {},
   "source": [
    "## Transportation times"
   ]
  },
  {
   "cell_type": "code",
   "execution_count": 72,
   "metadata": {},
   "outputs": [
    {
     "name": "stdout",
     "output_type": "stream",
     "text": [
      "Mean is 32.00 (P) and 32.00 (A)\n",
      "Standard deviation is 4.40 (P) and 1.73 (A)\n"
     ]
    }
   ],
   "source": [
    "public_data = np.array([28,29,32,37,33,25,29,32,41,34])\n",
    "automobile_data = np.array([29,31,33,32,34,30,31,32,35,33])\n",
    "\n",
    "print ('Mean is {:4.2f} (P) and {:4.2f} (A)'.format(public_data.mean(), automobile_data.mean()))\n",
    "print ('Standard deviation is {:4.2f} (P) and {:4.2f} (A)'.format(public_data.std(), automobile_data.std()))"
   ]
  },
  {
   "cell_type": "markdown",
   "metadata": {},
   "source": [
    "As mean values are similar we can select our preferred method based on deviation. It appears the deviation is really smaller for automobile, which means that the transportation time remains closer to the mean value while with public transportation you might expect larger durations on a recurrent basis."
   ]
  },
  {
   "cell_type": "code",
   "execution_count": 73,
   "metadata": {},
   "outputs": [
    {
     "data": {
      "text/plain": [
       "<matplotlib.axes._subplots.AxesSubplot at 0x16c0a3d15f8>"
      ]
     },
     "execution_count": 73,
     "metadata": {},
     "output_type": "execute_result"
    },
    {
     "data": {
      "image/png": "[encoded data removed]",
      "text/plain": [
       "<Figure size 432x288 with 1 Axes>"
      ]
     },
     "metadata": {
      "needs_background": "light"
     },
     "output_type": "display_data"
    }
   ],
   "source": [
    "data_frame = pd.DataFrame({ 'public': public_data, 'automobile': automobile_data })\n",
    "data_frame.boxplot()"
   ]
  },
  {
   "cell_type": "markdown",
   "metadata": {},
   "source": [
    "The boxplot shows that 50% of the values are contained in a smaller box for automobile than for public transportation. Moreover, extreme values are closer to the mean for automobile than for public transportation. This means that the transportation duration is more \"guaranteed\" for automobile.\n",
    "\n",
    "However, the distribution for automobile is well-balanced while the public transportation data exhibits a bias toward lower values. It means that public transportation is often faster than automobile but can also be quite slower sometimes.\n",
    "\n",
    "**So for daily travels I would recommend using public transportation but if you want to be on time for an important appointment I would recommand using the automobile.**"
   ]
  },
  {
   "cell_type": "markdown",
   "metadata": {},
   "source": [
    "## Home price "
   ]
  },
  {
   "cell_type": "code",
   "execution_count": 86,
   "metadata": {},
   "outputs": [
    {
     "name": "stdout",
     "output_type": "stream",
     "text": [
      "Mean is 482.10\n",
      "Median is 215.90\n",
      "Q1 is 183.50\n",
      "Q3 is 545.72\n",
      "IQR is 362.22\n",
      "Variance is 346450.02\n",
      "Standard deviation is 588.60\n",
      "Skewness is 2.17\n",
      "Five-number summary is 48.80 - 183.50 - 482.10 - 545.72 - 2325.00\n"
     ]
    }
   ],
   "source": [
    "data = np.array([995.9,48.8,175.0,263.5,298.0,218.9,209.0,628.3,111.0,212.9,92.6,2325.0,958.0,212.5])\n",
    "\n",
    "print ('Mean is {:4.2f}'.format(data.mean()))\n",
    "print ('Median is {:4.2f}'.format(np.median(data)))\n",
    "print ('Q1 is {:4.2f}'.format(np.quantile(data, 0.25)))\n",
    "print ('Q3 is {:4.2f}'.format(np.quantile(data, 0.75)))\n",
    "print ('IQR is {:4.2f}'.format(np.quantile(data, 0.75) - np.quantile(data, 0.25)))\n",
    "print ('Variance is {:4.2f}'.format(data.var()))\n",
    "print ('Standard deviation is {:4.2f}'.format(data.std()))\n",
    "print ('Skewness is {:4.2f}'.format(sp.skew(data)))\n",
    "\n",
    "print ('Five-number summary is {:4.2f} - {:4.2f} - {:4.2f} - {:4.2f} - {:4.2f}'.format(data.min(), np.quantile(data, 0.25), data.mean(), np.quantile(data, 0.75), data.max()))"
   ]
  },
  {
   "cell_type": "code",
   "execution_count": 87,
   "metadata": {},
   "outputs": [
    {
     "data": {
      "text/plain": [
       "<matplotlib.axes._subplots.AxesSubplot at 0x16c0be37c18>"
      ]
     },
     "execution_count": 87,
     "metadata": {},
     "output_type": "execute_result"
    },
    {
     "data": {
      "image/png": "[encoded data removed]",
      "text/plain": [
       "<Figure size 432x288 with 1 Axes>"
      ]
     },
     "metadata": {
      "needs_background": "light"
     },
     "output_type": "display_data"
    }
   ],
   "source": [
    "data_frame = pd.DataFrame({ 'price': data })\n",
    "data_frame.boxplot()"
   ]
  },
  {
   "cell_type": "markdown",
   "metadata": {},
   "source": [
    "It appears the data is bottom-skewed and contains an outlier. **As the distribution is not normal the median is a better indicator than the mean**. \n",
    "\n",
    "Another mean to confirm the outlier and the underlying distribution is not a normal one is to use a Q-Q plot."
   ]
  },
  {
   "cell_type": "code",
   "execution_count": 88,
   "metadata": {},
   "outputs": [
    {
     "data": {
      "text/plain": [
       "((array([-1.66151682, -1.18948235, -0.88997893, -0.65463235, -0.45108016,\n",
       "         -0.2648058 , -0.08735875,  0.08735875,  0.2648058 ,  0.45108016,\n",
       "          0.65463235,  0.88997893,  1.18948235,  1.66151682]),\n",
       "  array([  48.8,   92.6,  111. ,  175. ,  209. ,  212.5,  212.9,  218.9,\n",
       "          263.5,  298. ,  628.3,  958. ,  995.9, 2325. ])),\n",
       " (524.9938373130652, 482.09999999999997, 0.8032621769104493))"
      ]
     },
     "execution_count": 88,
     "metadata": {},
     "output_type": "execute_result"
    },
    {
     "data": {
      "image/png": "[encoded data removed]",
      "text/plain": [
       "<Figure size 432x288 with 1 Axes>"
      ]
     },
     "metadata": {
      "needs_background": "light"
     },
     "output_type": "display_data"
    }
   ],
   "source": [
    "sp.probplot(data, dist=\"norm\", plot=plt)"
   ]
  },
  {
   "cell_type": "code",
   "execution_count": null,
   "metadata": {},
   "outputs": [],
   "source": []
  }
 ],
 "metadata": {
  "kernelspec": {
   "display_name": "Python 3",
   "language": "python",
   "name": "python3"
  },
  "language_info": {
   "codemirror_mode": {
    "name": "ipython",
    "version": 3
   },
   "file_extension": ".py",
   "mimetype": "text/x-python",
   "name": "python",
   "nbconvert_exporter": "python",
   "pygments_lexer": "ipython3",
   "version": "3.7.0"
  }
 },
 "nbformat": 4,
 "nbformat_minor": 2
}
